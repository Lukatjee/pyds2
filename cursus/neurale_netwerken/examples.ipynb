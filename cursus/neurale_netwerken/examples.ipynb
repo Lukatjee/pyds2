{
 "cells": [
  {
   "metadata": {
    "ExecuteTime": {
     "end_time": "2024-06-10T18:34:56.482752Z",
     "start_time": "2024-06-10T18:34:56.479088Z"
    }
   },
   "cell_type": "code",
   "source": [
    "import numpy as np\n",
    "import pandas as pd\n",
    "from tensorflow import keras\n",
    "from tensorflow.keras import Model\n",
    "from tensorflow.keras.layers import Input, Dense, BatchNormalization\n",
    "from tensorflow.keras.utils import to_categorical\n",
    "from tensorflow.keras.optimizers import Adam\n",
    "from livelossplot import PlotLossesKeras\n",
    "import keras.datasets"
   ],
   "id": "6fb5ddeec8d7a1f",
   "outputs": [],
   "execution_count": 2
  },
  {
   "metadata": {},
   "cell_type": "markdown",
   "source": "# Voorbeeld 1",
   "id": "1dec670e871566fc"
  },
  {
   "metadata": {
    "ExecuteTime": {
     "end_time": "2024-06-10T18:34:56.490499Z",
     "start_time": "2024-06-10T18:34:56.483761Z"
    }
   },
   "cell_type": "code",
   "source": [
    "# Stap 1: Laad dataset op en inspecteer de gegevens\n",
    "xor_data = pd.DataFrame({'P1': [0, 1, 0, 1], 'P2': [0, 0, 1, 1], 'Q': [0, 1, 1, 0]})\n",
    "x_xor_data = xor_data[['P1', 'P2']]\n",
    "y_xor_data = xor_data['Q']"
   ],
   "id": "d787b6b9439872c",
   "outputs": [],
   "execution_count": 3
  },
  {
   "metadata": {
    "ExecuteTime": {
     "end_time": "2024-06-10T18:40:06.901348Z",
     "start_time": "2024-06-10T18:40:06.857353Z"
    }
   },
   "cell_type": "code",
   "source": [
    "# Stap 5: Construeer het ANN-model\n",
    "inputs_xor = Input(shape=(2,))\n",
    "\n",
    "# Add multiple hidden layers\n",
    "x_xor = Dense(4, activation='sigmoid')(inputs_xor)\n",
    "x_xor = Dense(3, activation='sigmoid')(x_xor)\n",
    "x_xor = Dense(2, activation='sigmoid')(x_xor)\n",
    "\n",
    "outputs_xor = Dense(1, activation='sigmoid')(x_xor)\n",
    "\n",
    "model_xor = Model(inputs_xor, outputs_xor, name=\"XOR_NN\")\n",
    "model_xor.compile(optimizer=Adam(learning_rate=0.00001), loss=keras.losses.binary_crossentropy, metrics=['accuracy'])"
   ],
   "id": "98d0082e1b22d8ae",
   "outputs": [],
   "execution_count": 11
  },
  {
   "metadata": {},
   "cell_type": "code",
   "source": [
    "# Stap 6: Train het ANN-model\n",
    "history_xor = model_xor.fit(x_xor_data, y_xor_data, epochs=200, callbacks=[PlotLossesKeras()], verbose=False)"
   ],
   "id": "8176d99982200559",
   "execution_count": 12,
   "outputs": [
    {
     "name": "stdout",
     "output_type": "stream",
     "text": [
      "accuracy\n",
      "\taccuracy         \t (min:    0.500, max:    0.500, cur:    0.500)\n",
      "Loss\n",
      "\tloss             \t (min:    0.727, max:    0.728, cur:    0.727)\n"
     ]
    }
   ]
  },
  {
   "metadata": {
    "ExecuteTime": {
     "end_time": "2024-06-10T18:41:12.730685Z",
     "start_time": "2024-06-10T18:41:12.715037Z"
    }
   },
   "cell_type": "code",
   "source": "model_xor.summary()",
   "id": "e396d6e576beed21",
   "outputs": [
    {
     "name": "stdout",
     "output_type": "stream",
     "text": [
      "Model: \"XOR_NN\"\n",
      "_________________________________________________________________\n",
      " Layer (type)                Output Shape              Param #   \n",
      "=================================================================\n",
      " input_2 (InputLayer)        [(None, 2)]               0         \n",
      "                                                                 \n",
      " dense_2 (Dense)             (None, 4)                 12        \n",
      "                                                                 \n",
      " dense_3 (Dense)             (None, 3)                 15        \n",
      "                                                                 \n",
      " dense_4 (Dense)             (None, 2)                 8         \n",
      "                                                                 \n",
      " dense_5 (Dense)             (None, 1)                 3         \n",
      "                                                                 \n",
      "=================================================================\n",
      "Total params: 38 (152.00 Byte)\n",
      "Trainable params: 38 (152.00 Byte)\n",
      "Non-trainable params: 0 (0.00 Byte)\n",
      "_________________________________________________________________\n"
     ]
    }
   ],
   "execution_count": 13
  },
  {
   "metadata": {
    "ExecuteTime": {
     "end_time": "2024-06-10T18:41:18.395838Z",
     "start_time": "2024-06-10T18:41:18.320946Z"
    }
   },
   "cell_type": "code",
   "source": [
    "from keras.utils import plot_model\n",
    "\n",
    "plot_model(model_xor, to_file='model_xor_plot.png', show_shapes=True, show_layer_names=True)"
   ],
   "id": "a3562f4da7584af",
   "outputs": [
    {
     "data": {
      "image/png": "[encoded data removed]",
      "text/plain": [
       "<IPython.core.display.Image object>"
      ]
     },
     "execution_count": 14,
     "metadata": {},
     "output_type": "execute_result"
    }
   ],
   "execution_count": 14
  },
  {
   "metadata": {
    "ExecuteTime": {
     "end_time": "2024-06-10T18:41:22.785630Z",
     "start_time": "2024-06-10T18:41:22.776158Z"
    }
   },
   "cell_type": "code",
   "source": [
    "for lay in model_xor.layers:\n",
    "    print(lay.name)\n",
    "    print(lay.get_weights())"
   ],
   "id": "8e7601d024a1175e",
   "outputs": [
    {
     "name": "stdout",
     "output_type": "stream",
     "text": [
      "input_2\n",
      "[]\n",
      "dense_2\n",
      "[array([[-0.9099024 ,  0.8593882 , -0.04588669, -0.8619318 ],\n",
      "       [ 0.8725281 , -0.267091  , -0.13086247,  0.6307228 ]],\n",
      "      dtype=float32), array([ 0.00199824, -0.00198828, -0.00198866, -0.00199226], dtype=float32)]\n",
      "dense_3\n",
      "[array([[ 0.474578  ,  0.49605745, -0.50572956],\n",
      "       [ 0.53758156,  0.8516799 ,  0.7748133 ],\n",
      "       [-0.30011964,  0.7165991 ,  0.2539784 ],\n",
      "       [-0.150249  ,  0.10859831,  0.85515636]], dtype=float32), array([ 0.00199749, -0.00198613, -0.00199346], dtype=float32)]\n",
      "dense_4\n",
      "[array([[-0.25502232,  0.06375808],\n",
      "       [ 0.08394148,  0.5868237 ],\n",
      "       [ 0.51526535,  0.9708861 ]], dtype=float32), array([-0.0019948 , -0.00198809], dtype=float32)]\n",
      "dense_5\n",
      "[array([[0.8117539 ],\n",
      "       [0.09135797]], dtype=float32), array([-0.00199542], dtype=float32)]\n"
     ]
    }
   ],
   "execution_count": 15
  },
  {
   "metadata": {
    "ExecuteTime": {
     "end_time": "2024-06-10T18:41:29.997857Z",
     "start_time": "2024-06-10T18:41:29.918189Z"
    }
   },
   "cell_type": "code",
   "source": [
    "# Stap 7: Evalueer de kwaliteit van het ANN-model\n",
    "model_xor.predict(x_xor_data)"
   ],
   "id": "9b4eb4b357cf7f8",
   "outputs": [
    {
     "name": "stdout",
     "output_type": "stream",
     "text": [
      "1/1 [==============================] - 0s 43ms/step\n"
     ]
    },
    {
     "data": {
      "text/plain": [
       "array([[0.62827045],\n",
       "       [0.6287332 ],\n",
       "       [0.62797177],\n",
       "       [0.62843746]], dtype=float32)"
      ]
     },
     "execution_count": 16,
     "metadata": {},
     "output_type": "execute_result"
    }
   ],
   "execution_count": 16
  },
  {
   "metadata": {
    "ExecuteTime": {
     "end_time": "2024-06-10T18:41:32.458528Z",
     "start_time": "2024-06-10T18:41:32.337434Z"
    }
   },
   "cell_type": "code",
   "source": "model_xor.evaluate(x_xor_data, y_xor_data)",
   "id": "a53c161586cafc51",
   "outputs": [
    {
     "name": "stdout",
     "output_type": "stream",
     "text": [
      "1/1 [==============================] - 0s 85ms/step - loss: 0.7272 - accuracy: 0.5000\n"
     ]
    },
    {
     "data": {
      "text/plain": [
       "[0.7272337675094604, 0.5]"
      ]
     },
     "execution_count": 17,
     "metadata": {},
     "output_type": "execute_result"
    }
   ],
   "execution_count": 17
  },
  {
   "metadata": {},
   "cell_type": "markdown",
   "source": "# Voorbeeld 2",
   "id": "30e53dbf692e0652"
  },
  {
   "metadata": {
    "ExecuteTime": {
     "end_time": "2024-06-10T18:49:26.715736Z",
     "start_time": "2024-06-10T18:49:26.519302Z"
    }
   },
   "cell_type": "code",
   "source": [
    "# Stap 1 & 4: Laad de dataset op splits de dataset op in een training- en test dataset\n",
    "(x_train, y_train), (x_test, y_test) = keras.datasets.mnist.load_data()"
   ],
   "id": "f95d9a822f1d8698",
   "outputs": [],
   "execution_count": 19
  },
  {
   "metadata": {
    "ExecuteTime": {
     "end_time": "2024-06-10T18:49:48.266734Z",
     "start_time": "2024-06-10T18:49:48.263434Z"
    }
   },
   "cell_type": "code",
   "source": [
    "# Stap 2: Data management manipulaties\n",
    "### 60000 training images met 28x28 pixels en hun geassocieerd nummer\n",
    "print(x_train.shape)\n",
    "print(y_train.shape)"
   ],
   "id": "498f033a90344723",
   "outputs": [
    {
     "name": "stdout",
     "output_type": "stream",
     "text": [
      "(60000, 28, 28)\n",
      "(60000,)\n"
     ]
    }
   ],
   "execution_count": 20
  },
  {
   "metadata": {
    "ExecuteTime": {
     "end_time": "2024-06-10T18:50:03.663189Z",
     "start_time": "2024-06-10T18:50:03.659007Z"
    }
   },
   "cell_type": "code",
   "source": [
    "### Transformeer de 2D-images in 1D-vectoren\n",
    "x_train = x_train.reshape((-1, 784))  # 28 x 28 = 784\n",
    "x_test = x_test.reshape((-1, 784))\n",
    "print(x_train.shape)  # (60000, 784)"
   ],
   "id": "1a065ba257324f58",
   "outputs": [
    {
     "name": "stdout",
     "output_type": "stream",
     "text": [
      "(60000, 784)\n"
     ]
    }
   ],
   "execution_count": 21
  },
  {
   "metadata": {
    "ExecuteTime": {
     "end_time": "2024-06-10T18:50:16.483964Z",
     "start_time": "2024-06-10T18:50:16.479508Z"
    }
   },
   "cell_type": "code",
   "source": [
    "### Targetwaarden getransformeerd in One-hot encoding\n",
    "y_train = to_categorical(y_train)\n",
    "y_test = to_categorical(y_test)"
   ],
   "id": "9297283c011b6b8f",
   "outputs": [],
   "execution_count": 22
  },
  {
   "metadata": {
    "ExecuteTime": {
     "end_time": "2024-06-10T18:50:33.462520Z",
     "start_time": "2024-06-10T18:50:33.388376Z"
    }
   },
   "cell_type": "code",
   "source": [
    "# Stap 5: construeer het ANN-model\n",
    "### De lagen van het neurale netwerk voorbereiden\n",
    "inputs = Input(shape=(784,))\n",
    "x = BatchNormalization()(inputs)\n",
    "x = Dense(64, activation='relu')(x)\n",
    "x = Dense(64, activation='relu')(x)\n",
    "outputs = Dense(10, activation='softmax')(x)\n",
    "### construer het neurale netwerk model\n",
    "model = Model(inputs, outputs, name='MNIST_Crusher')\n",
    "model.summary()\n",
    "model.compile(optimizer=keras.optimizers.Adam(learning_rate=0.001),\n",
    "\n",
    "              loss=keras.losses.categorical_crossentropy,\n",
    "              metrics=['accuracy'])"
   ],
   "id": "233eee031a055349",
   "outputs": [
    {
     "name": "stdout",
     "output_type": "stream",
     "text": [
      "Model: \"MNIST_Crusher\"\n",
      "_________________________________________________________________\n",
      " Layer (type)                Output Shape              Param #   \n",
      "=================================================================\n",
      " input_3 (InputLayer)        [(None, 784)]             0         \n",
      "                                                                 \n",
      " batch_normalization (Batch  (None, 784)               3136      \n",
      " Normalization)                                                  \n",
      "                                                                 \n",
      " dense_6 (Dense)             (None, 64)                50240     \n",
      "                                                                 \n",
      " dense_7 (Dense)             (None, 64)                4160      \n",
      "                                                                 \n",
      " dense_8 (Dense)             (None, 10)                650       \n",
      "                                                                 \n",
      "=================================================================\n",
      "Total params: 58186 (227.29 KB)\n",
      "Trainable params: 56618 (221.16 KB)\n",
      "Non-trainable params: 1568 (6.12 KB)\n",
      "_________________________________________________________________\n"
     ]
    }
   ],
   "execution_count": 23
  },
  {
   "metadata": {
    "ExecuteTime": {
     "end_time": "2024-06-10T18:50:57.692804Z",
     "start_time": "2024-06-10T18:50:47.046718Z"
    }
   },
   "cell_type": "code",
   "source": [
    "# Stap 6: Train het ANN-model\n",
    "history = model.fit(\n",
    "    x_train,  # training data\n",
    "    y_train,  # training targets\n",
    "    epochs=5,\n",
    "    batch_size=32,\n",
    "    validation_split=0.2,\n",
    ")"
   ],
   "id": "e84682d121487b18",
   "outputs": [
    {
     "name": "stdout",
     "output_type": "stream",
     "text": [
      "Epoch 1/5\n",
      "1500/1500 [==============================] - 3s 1ms/step - loss: 0.2785 - accuracy: 0.9154 - val_loss: 0.5665 - val_accuracy: 0.9492\n",
      "Epoch 2/5\n",
      "1500/1500 [==============================] - 2s 1ms/step - loss: 0.1354 - accuracy: 0.9577 - val_loss: 0.5429 - val_accuracy: 0.9613\n",
      "Epoch 3/5\n",
      "1500/1500 [==============================] - 2s 1ms/step - loss: 0.1035 - accuracy: 0.9662 - val_loss: 0.4609 - val_accuracy: 0.9612\n",
      "Epoch 4/5\n",
      "1500/1500 [==============================] - 2s 1ms/step - loss: 0.0844 - accuracy: 0.9731 - val_loss: 0.5152 - val_accuracy: 0.9637\n",
      "Epoch 5/5\n",
      "1500/1500 [==============================] - 2s 1ms/step - loss: 0.0764 - accuracy: 0.9749 - val_loss: 0.2938 - val_accuracy: 0.9669\n"
     ]
    }
   ],
   "execution_count": 24
  },
  {
   "metadata": {
    "ExecuteTime": {
     "end_time": "2024-06-10T18:51:43.491190Z",
     "start_time": "2024-06-10T18:51:42.941617Z"
    }
   },
   "cell_type": "code",
   "source": [
    "# Stap 7: Evalueer de kwaliteit van het ANN-model\n",
    "model.evaluate(x_test, y_test)\n",
    "### Voorspel de eerste 5 images uit de test dataset\n",
    "print(np.argmax(model.predict(x_test[:5]), axis=1))  # [7 2 1 0 4]\n",
    "### vergelijk met het werkelijke nummer\n",
    "print(np.argmax(y_test[:5], axis=1))  # [7 2 1 0 4]"
   ],
   "id": "550071ef3746406e",
   "outputs": [
    {
     "name": "stdout",
     "output_type": "stream",
     "text": [
      "313/313 [==============================] - 0s 937us/step - loss: 0.3727 - accuracy: 0.9658\n",
      "1/1 [==============================] - 0s 53ms/step\n",
      "[7 2 1 0 4]\n",
      "[7 2 1 0 4]\n"
     ]
    }
   ],
   "execution_count": 25
  },
  {
   "metadata": {
    "ExecuteTime": {
     "end_time": "2024-06-10T18:52:45.749490Z",
     "start_time": "2024-06-10T18:52:45.658607Z"
    }
   },
   "cell_type": "code",
   "source": "plot_model(model, to_file='model_xor_plot.png', show_shapes=True, show_layer_names=True)",
   "id": "205c6dabda214578",
   "outputs": [
    {
     "data": {
      "image/png": "[encoded data removed]",
      "text/plain": [
       "<IPython.core.display.Image object>"
      ]
     },
     "execution_count": 30,
     "metadata": {},
     "output_type": "execute_result"
    }
   ],
   "execution_count": 30
  },
  {
   "metadata": {},
   "cell_type": "markdown",
   "source": "# Voorbeeld 3",
   "id": "2993189cf4febf88"
  },
  {
   "metadata": {
    "ExecuteTime": {
     "end_time": "2024-06-10T19:06:28.384718Z",
     "start_time": "2024-06-10T19:06:27.662940Z"
    }
   },
   "cell_type": "code",
   "source": [
    "# Stap 1: Laad dataset op en inspecteer de gegevens\n",
    "cereals = pd.read_csv('datasets/cereals US.csv', delimiter=';')\n",
    "cereals.info()\n",
    "cereals.describe()  #opmerking: enkel visualisatie van de kwantitatieve variabelen\n",
    "cereals.isna().sum().sum()\n",
    "\n",
    "# Stap 2: Voer de nodige data management manipulaties door\n",
    "x_cereals = cereals[['Calories', 'Protein (g)', 'Fat', 'Sodium', 'Dietary Fiber']].copy()\n",
    "y_cereals = cereals[['Rating']].copy()\n",
    "\n",
    "print(x_cereals.isna().sum())\n",
    "print(y_cereals.isna().sum())\n",
    "\n",
    "# Stap 3: Normaliseer de data\n",
    "### min-max normalisatie\n",
    "def minmax_norm(col):\n",
    "    minimum = col.min()\n",
    "    maximum = col.max()\n",
    "    return (col - minimum) / (maximum - minimum)\n",
    "\n",
    "# x_cereals_norm = pd.DataFrame()\n",
    "# for column in x_cereals:\n",
    "#     x_cereals_norm[column] = minmax_norm(x_cereals[column])\n",
    "\n",
    "x_cereals_norm = x_cereals.apply(minmax_norm, axis=0)\n",
    "\n",
    "# Stap 4: splits de dataset op in een training- en test dataset\n",
    "from sklearn.model_selection import train_test_split\n",
    "\n",
    "x_train_cer, x_test_cer, y_train_cer, y_test_cer = train_test_split(x_cereals_norm, y_cereals, test_size=0.2, random_state=42)\n",
    "\n",
    "\n",
    "# Stap 5: Construeer het ANN-model\n",
    "### Bereid de lagen van het neuraal network voor\n",
    "inputs_cer = Input(shape=(5,))\n",
    "x_cer = Dense(32, activation='relu')(inputs_cer)\n",
    "x_cer = Dense(16, activation='relu')(x_cer)\n",
    "x_cer = Dense(8, activation='relu')(x_cer)\n",
    "x_cer = Dense(4, activation='relu')(x_cer)\n",
    "outputs_cer = Dense(1, activation='linear')(x_cer)"
   ],
   "id": "7e67edbe187fc5bf",
   "outputs": [
    {
     "name": "stdout",
     "output_type": "stream",
     "text": [
      "<class 'pandas.core.frame.DataFrame'>\n",
      "RangeIndex: 71 entries, 0 to 70\n",
      "Data columns (total 16 columns):\n",
      " #   Column                 Non-Null Count  Dtype \n",
      "---  ------                 --------------  ----- \n",
      " 0   Cereal Name            71 non-null     object\n",
      " 1   Manufacturer           71 non-null     object\n",
      " 2   Type                   71 non-null     object\n",
      " 3   Calories               71 non-null     int64 \n",
      " 4   Protein (g)            71 non-null     int64 \n",
      " 5   Fat                    71 non-null     int64 \n",
      " 6   Sodium                 71 non-null     int64 \n",
      " 7   Dietary Fiber          71 non-null     object\n",
      " 8   Carbs                  71 non-null     object\n",
      " 9   Sugars                 71 non-null     int64 \n",
      " 10  Display Shelf          71 non-null     int64 \n",
      " 11  Potassium              71 non-null     int64 \n",
      " 12  Vitamins and Minerals  71 non-null     int64 \n",
      " 13  Serving Size Weight    71 non-null     object\n",
      " 14  Cups per Serving       71 non-null     object\n",
      " 15  Rating                 71 non-null     object\n",
      "dtypes: int64(8), object(8)\n",
      "memory usage: 9.0+ KB\n",
      "Calories         0\n",
      "Protein (g)      0\n",
      "Fat              0\n",
      "Sodium           0\n",
      "Dietary Fiber    0\n",
      "dtype: int64\n",
      "Rating    0\n",
      "dtype: int64\n"
     ]
    },
    {
     "ename": "TypeError",
     "evalue": "unsupported operand type(s) for -: 'str' and 'str'",
     "output_type": "error",
     "traceback": [
      "\u001B[1;31m---------------------------------------------------------------------------\u001B[0m",
      "\u001B[1;31mTypeError\u001B[0m                                 Traceback (most recent call last)",
      "File \u001B[1;32mC:\\PYTHONENVIRONMENTS\\DS2_3_11\\Lib\\site-packages\\pandas\\core\\ops\\array_ops.py:218\u001B[0m, in \u001B[0;36m_na_arithmetic_op\u001B[1;34m(left, right, op, is_cmp)\u001B[0m\n\u001B[0;32m    217\u001B[0m \u001B[38;5;28;01mtry\u001B[39;00m:\n\u001B[1;32m--> 218\u001B[0m     result \u001B[38;5;241m=\u001B[39m \u001B[43mfunc\u001B[49m\u001B[43m(\u001B[49m\u001B[43mleft\u001B[49m\u001B[43m,\u001B[49m\u001B[43m \u001B[49m\u001B[43mright\u001B[49m\u001B[43m)\u001B[49m\n\u001B[0;32m    219\u001B[0m \u001B[38;5;28;01mexcept\u001B[39;00m \u001B[38;5;167;01mTypeError\u001B[39;00m:\n",
      "\u001B[1;31mTypeError\u001B[0m: unsupported operand type(s) for -: 'str' and 'str'",
      "\nDuring handling of the above exception, another exception occurred:\n",
      "\u001B[1;31mTypeError\u001B[0m                                 Traceback (most recent call last)",
      "Cell \u001B[1;32mIn[38], line 25\u001B[0m\n\u001B[0;32m     19\u001B[0m     \u001B[38;5;28;01mreturn\u001B[39;00m (col \u001B[38;5;241m-\u001B[39m minimum) \u001B[38;5;241m/\u001B[39m (maximum \u001B[38;5;241m-\u001B[39m minimum)\n\u001B[0;32m     21\u001B[0m \u001B[38;5;66;03m# x_cereals_norm = pd.DataFrame()\u001B[39;00m\n\u001B[0;32m     22\u001B[0m \u001B[38;5;66;03m# for column in x_cereals:\u001B[39;00m\n\u001B[0;32m     23\u001B[0m \u001B[38;5;66;03m#     x_cereals_norm[column] = minmax_norm(x_cereals[column])\u001B[39;00m\n\u001B[1;32m---> 25\u001B[0m x_cereals_norm \u001B[38;5;241m=\u001B[39m \u001B[43mx_cereals\u001B[49m\u001B[38;5;241;43m.\u001B[39;49m\u001B[43mapply\u001B[49m\u001B[43m(\u001B[49m\u001B[43mminmax_norm\u001B[49m\u001B[43m,\u001B[49m\u001B[43m \u001B[49m\u001B[43maxis\u001B[49m\u001B[38;5;241;43m=\u001B[39;49m\u001B[38;5;241;43m0\u001B[39;49m\u001B[43m)\u001B[49m\n\u001B[0;32m     27\u001B[0m \u001B[38;5;66;03m# Stap 4: splits de dataset op in een training- en test dataset\u001B[39;00m\n\u001B[0;32m     28\u001B[0m \u001B[38;5;28;01mfrom\u001B[39;00m \u001B[38;5;21;01msklearn\u001B[39;00m\u001B[38;5;21;01m.\u001B[39;00m\u001B[38;5;21;01mmodel_selection\u001B[39;00m \u001B[38;5;28;01mimport\u001B[39;00m train_test_split\n",
      "File \u001B[1;32mC:\\PYTHONENVIRONMENTS\\DS2_3_11\\Lib\\site-packages\\pandas\\core\\frame.py:10347\u001B[0m, in \u001B[0;36mDataFrame.apply\u001B[1;34m(self, func, axis, raw, result_type, args, by_row, engine, engine_kwargs, **kwargs)\u001B[0m\n\u001B[0;32m  10333\u001B[0m \u001B[38;5;28;01mfrom\u001B[39;00m \u001B[38;5;21;01mpandas\u001B[39;00m\u001B[38;5;21;01m.\u001B[39;00m\u001B[38;5;21;01mcore\u001B[39;00m\u001B[38;5;21;01m.\u001B[39;00m\u001B[38;5;21;01mapply\u001B[39;00m \u001B[38;5;28;01mimport\u001B[39;00m frame_apply\n\u001B[0;32m  10335\u001B[0m op \u001B[38;5;241m=\u001B[39m frame_apply(\n\u001B[0;32m  10336\u001B[0m     \u001B[38;5;28mself\u001B[39m,\n\u001B[0;32m  10337\u001B[0m     func\u001B[38;5;241m=\u001B[39mfunc,\n\u001B[1;32m   (...)\u001B[0m\n\u001B[0;32m  10345\u001B[0m     kwargs\u001B[38;5;241m=\u001B[39mkwargs,\n\u001B[0;32m  10346\u001B[0m )\n\u001B[1;32m> 10347\u001B[0m \u001B[38;5;28;01mreturn\u001B[39;00m \u001B[43mop\u001B[49m\u001B[38;5;241;43m.\u001B[39;49m\u001B[43mapply\u001B[49m\u001B[43m(\u001B[49m\u001B[43m)\u001B[49m\u001B[38;5;241m.\u001B[39m__finalize__(\u001B[38;5;28mself\u001B[39m, method\u001B[38;5;241m=\u001B[39m\u001B[38;5;124m\"\u001B[39m\u001B[38;5;124mapply\u001B[39m\u001B[38;5;124m\"\u001B[39m)\n",
      "File \u001B[1;32mC:\\PYTHONENVIRONMENTS\\DS2_3_11\\Lib\\site-packages\\pandas\\core\\apply.py:916\u001B[0m, in \u001B[0;36mFrameApply.apply\u001B[1;34m(self)\u001B[0m\n\u001B[0;32m    913\u001B[0m \u001B[38;5;28;01melif\u001B[39;00m \u001B[38;5;28mself\u001B[39m\u001B[38;5;241m.\u001B[39mraw:\n\u001B[0;32m    914\u001B[0m     \u001B[38;5;28;01mreturn\u001B[39;00m \u001B[38;5;28mself\u001B[39m\u001B[38;5;241m.\u001B[39mapply_raw(engine\u001B[38;5;241m=\u001B[39m\u001B[38;5;28mself\u001B[39m\u001B[38;5;241m.\u001B[39mengine, engine_kwargs\u001B[38;5;241m=\u001B[39m\u001B[38;5;28mself\u001B[39m\u001B[38;5;241m.\u001B[39mengine_kwargs)\n\u001B[1;32m--> 916\u001B[0m \u001B[38;5;28;01mreturn\u001B[39;00m \u001B[38;5;28;43mself\u001B[39;49m\u001B[38;5;241;43m.\u001B[39;49m\u001B[43mapply_standard\u001B[49m\u001B[43m(\u001B[49m\u001B[43m)\u001B[49m\n",
      "File \u001B[1;32mC:\\PYTHONENVIRONMENTS\\DS2_3_11\\Lib\\site-packages\\pandas\\core\\apply.py:1063\u001B[0m, in \u001B[0;36mFrameApply.apply_standard\u001B[1;34m(self)\u001B[0m\n\u001B[0;32m   1061\u001B[0m \u001B[38;5;28;01mdef\u001B[39;00m \u001B[38;5;21mapply_standard\u001B[39m(\u001B[38;5;28mself\u001B[39m):\n\u001B[0;32m   1062\u001B[0m     \u001B[38;5;28;01mif\u001B[39;00m \u001B[38;5;28mself\u001B[39m\u001B[38;5;241m.\u001B[39mengine \u001B[38;5;241m==\u001B[39m \u001B[38;5;124m\"\u001B[39m\u001B[38;5;124mpython\u001B[39m\u001B[38;5;124m\"\u001B[39m:\n\u001B[1;32m-> 1063\u001B[0m         results, res_index \u001B[38;5;241m=\u001B[39m \u001B[38;5;28;43mself\u001B[39;49m\u001B[38;5;241;43m.\u001B[39;49m\u001B[43mapply_series_generator\u001B[49m\u001B[43m(\u001B[49m\u001B[43m)\u001B[49m\n\u001B[0;32m   1064\u001B[0m     \u001B[38;5;28;01melse\u001B[39;00m:\n\u001B[0;32m   1065\u001B[0m         results, res_index \u001B[38;5;241m=\u001B[39m \u001B[38;5;28mself\u001B[39m\u001B[38;5;241m.\u001B[39mapply_series_numba()\n",
      "File \u001B[1;32mC:\\PYTHONENVIRONMENTS\\DS2_3_11\\Lib\\site-packages\\pandas\\core\\apply.py:1081\u001B[0m, in \u001B[0;36mFrameApply.apply_series_generator\u001B[1;34m(self)\u001B[0m\n\u001B[0;32m   1078\u001B[0m \u001B[38;5;28;01mwith\u001B[39;00m option_context(\u001B[38;5;124m\"\u001B[39m\u001B[38;5;124mmode.chained_assignment\u001B[39m\u001B[38;5;124m\"\u001B[39m, \u001B[38;5;28;01mNone\u001B[39;00m):\n\u001B[0;32m   1079\u001B[0m     \u001B[38;5;28;01mfor\u001B[39;00m i, v \u001B[38;5;129;01min\u001B[39;00m \u001B[38;5;28menumerate\u001B[39m(series_gen):\n\u001B[0;32m   1080\u001B[0m         \u001B[38;5;66;03m# ignore SettingWithCopy here in case the user mutates\u001B[39;00m\n\u001B[1;32m-> 1081\u001B[0m         results[i] \u001B[38;5;241m=\u001B[39m \u001B[38;5;28;43mself\u001B[39;49m\u001B[38;5;241;43m.\u001B[39;49m\u001B[43mfunc\u001B[49m\u001B[43m(\u001B[49m\u001B[43mv\u001B[49m\u001B[43m,\u001B[49m\u001B[43m \u001B[49m\u001B[38;5;241;43m*\u001B[39;49m\u001B[38;5;28;43mself\u001B[39;49m\u001B[38;5;241;43m.\u001B[39;49m\u001B[43margs\u001B[49m\u001B[43m,\u001B[49m\u001B[43m \u001B[49m\u001B[38;5;241;43m*\u001B[39;49m\u001B[38;5;241;43m*\u001B[39;49m\u001B[38;5;28;43mself\u001B[39;49m\u001B[38;5;241;43m.\u001B[39;49m\u001B[43mkwargs\u001B[49m\u001B[43m)\u001B[49m\n\u001B[0;32m   1082\u001B[0m         \u001B[38;5;28;01mif\u001B[39;00m \u001B[38;5;28misinstance\u001B[39m(results[i], ABCSeries):\n\u001B[0;32m   1083\u001B[0m             \u001B[38;5;66;03m# If we have a view on v, we need to make a copy because\u001B[39;00m\n\u001B[0;32m   1084\u001B[0m             \u001B[38;5;66;03m#  series_generator will swap out the underlying data\u001B[39;00m\n\u001B[0;32m   1085\u001B[0m             results[i] \u001B[38;5;241m=\u001B[39m results[i]\u001B[38;5;241m.\u001B[39mcopy(deep\u001B[38;5;241m=\u001B[39m\u001B[38;5;28;01mFalse\u001B[39;00m)\n",
      "Cell \u001B[1;32mIn[38], line 19\u001B[0m, in \u001B[0;36mminmax_norm\u001B[1;34m(col)\u001B[0m\n\u001B[0;32m     17\u001B[0m minimum \u001B[38;5;241m=\u001B[39m col\u001B[38;5;241m.\u001B[39mmin()\n\u001B[0;32m     18\u001B[0m maximum \u001B[38;5;241m=\u001B[39m col\u001B[38;5;241m.\u001B[39mmax()\n\u001B[1;32m---> 19\u001B[0m \u001B[38;5;28;01mreturn\u001B[39;00m (\u001B[43mcol\u001B[49m\u001B[43m \u001B[49m\u001B[38;5;241;43m-\u001B[39;49m\u001B[43m \u001B[49m\u001B[43mminimum\u001B[49m) \u001B[38;5;241m/\u001B[39m (maximum \u001B[38;5;241m-\u001B[39m minimum)\n",
      "File \u001B[1;32mC:\\PYTHONENVIRONMENTS\\DS2_3_11\\Lib\\site-packages\\pandas\\core\\ops\\common.py:76\u001B[0m, in \u001B[0;36m_unpack_zerodim_and_defer.<locals>.new_method\u001B[1;34m(self, other)\u001B[0m\n\u001B[0;32m     72\u001B[0m             \u001B[38;5;28;01mreturn\u001B[39;00m \u001B[38;5;28mNotImplemented\u001B[39m\n\u001B[0;32m     74\u001B[0m other \u001B[38;5;241m=\u001B[39m item_from_zerodim(other)\n\u001B[1;32m---> 76\u001B[0m \u001B[38;5;28;01mreturn\u001B[39;00m \u001B[43mmethod\u001B[49m\u001B[43m(\u001B[49m\u001B[38;5;28;43mself\u001B[39;49m\u001B[43m,\u001B[49m\u001B[43m \u001B[49m\u001B[43mother\u001B[49m\u001B[43m)\u001B[49m\n",
      "File \u001B[1;32mC:\\PYTHONENVIRONMENTS\\DS2_3_11\\Lib\\site-packages\\pandas\\core\\arraylike.py:194\u001B[0m, in \u001B[0;36mOpsMixin.__sub__\u001B[1;34m(self, other)\u001B[0m\n\u001B[0;32m    192\u001B[0m \u001B[38;5;129m@unpack_zerodim_and_defer\u001B[39m(\u001B[38;5;124m\"\u001B[39m\u001B[38;5;124m__sub__\u001B[39m\u001B[38;5;124m\"\u001B[39m)\n\u001B[0;32m    193\u001B[0m \u001B[38;5;28;01mdef\u001B[39;00m \u001B[38;5;21m__sub__\u001B[39m(\u001B[38;5;28mself\u001B[39m, other):\n\u001B[1;32m--> 194\u001B[0m     \u001B[38;5;28;01mreturn\u001B[39;00m \u001B[38;5;28;43mself\u001B[39;49m\u001B[38;5;241;43m.\u001B[39;49m\u001B[43m_arith_method\u001B[49m\u001B[43m(\u001B[49m\u001B[43mother\u001B[49m\u001B[43m,\u001B[49m\u001B[43m \u001B[49m\u001B[43moperator\u001B[49m\u001B[38;5;241;43m.\u001B[39;49m\u001B[43msub\u001B[49m\u001B[43m)\u001B[49m\n",
      "File \u001B[1;32mC:\\PYTHONENVIRONMENTS\\DS2_3_11\\Lib\\site-packages\\pandas\\core\\series.py:6115\u001B[0m, in \u001B[0;36mSeries._arith_method\u001B[1;34m(self, other, op)\u001B[0m\n\u001B[0;32m   6113\u001B[0m \u001B[38;5;28;01mdef\u001B[39;00m \u001B[38;5;21m_arith_method\u001B[39m(\u001B[38;5;28mself\u001B[39m, other, op):\n\u001B[0;32m   6114\u001B[0m     \u001B[38;5;28mself\u001B[39m, other \u001B[38;5;241m=\u001B[39m \u001B[38;5;28mself\u001B[39m\u001B[38;5;241m.\u001B[39m_align_for_op(other)\n\u001B[1;32m-> 6115\u001B[0m     \u001B[38;5;28;01mreturn\u001B[39;00m \u001B[43mbase\u001B[49m\u001B[38;5;241;43m.\u001B[39;49m\u001B[43mIndexOpsMixin\u001B[49m\u001B[38;5;241;43m.\u001B[39;49m\u001B[43m_arith_method\u001B[49m\u001B[43m(\u001B[49m\u001B[38;5;28;43mself\u001B[39;49m\u001B[43m,\u001B[49m\u001B[43m \u001B[49m\u001B[43mother\u001B[49m\u001B[43m,\u001B[49m\u001B[43m \u001B[49m\u001B[43mop\u001B[49m\u001B[43m)\u001B[49m\n",
      "File \u001B[1;32mC:\\PYTHONENVIRONMENTS\\DS2_3_11\\Lib\\site-packages\\pandas\\core\\base.py:1382\u001B[0m, in \u001B[0;36mIndexOpsMixin._arith_method\u001B[1;34m(self, other, op)\u001B[0m\n\u001B[0;32m   1379\u001B[0m     rvalues \u001B[38;5;241m=\u001B[39m np\u001B[38;5;241m.\u001B[39marange(rvalues\u001B[38;5;241m.\u001B[39mstart, rvalues\u001B[38;5;241m.\u001B[39mstop, rvalues\u001B[38;5;241m.\u001B[39mstep)\n\u001B[0;32m   1381\u001B[0m \u001B[38;5;28;01mwith\u001B[39;00m np\u001B[38;5;241m.\u001B[39merrstate(\u001B[38;5;28mall\u001B[39m\u001B[38;5;241m=\u001B[39m\u001B[38;5;124m\"\u001B[39m\u001B[38;5;124mignore\u001B[39m\u001B[38;5;124m\"\u001B[39m):\n\u001B[1;32m-> 1382\u001B[0m     result \u001B[38;5;241m=\u001B[39m \u001B[43mops\u001B[49m\u001B[38;5;241;43m.\u001B[39;49m\u001B[43marithmetic_op\u001B[49m\u001B[43m(\u001B[49m\u001B[43mlvalues\u001B[49m\u001B[43m,\u001B[49m\u001B[43m \u001B[49m\u001B[43mrvalues\u001B[49m\u001B[43m,\u001B[49m\u001B[43m \u001B[49m\u001B[43mop\u001B[49m\u001B[43m)\u001B[49m\n\u001B[0;32m   1384\u001B[0m \u001B[38;5;28;01mreturn\u001B[39;00m \u001B[38;5;28mself\u001B[39m\u001B[38;5;241m.\u001B[39m_construct_result(result, name\u001B[38;5;241m=\u001B[39mres_name)\n",
      "File \u001B[1;32mC:\\PYTHONENVIRONMENTS\\DS2_3_11\\Lib\\site-packages\\pandas\\core\\ops\\array_ops.py:283\u001B[0m, in \u001B[0;36marithmetic_op\u001B[1;34m(left, right, op)\u001B[0m\n\u001B[0;32m    279\u001B[0m     _bool_arith_check(op, left, right)  \u001B[38;5;66;03m# type: ignore[arg-type]\u001B[39;00m\n\u001B[0;32m    281\u001B[0m     \u001B[38;5;66;03m# error: Argument 1 to \"_na_arithmetic_op\" has incompatible type\u001B[39;00m\n\u001B[0;32m    282\u001B[0m     \u001B[38;5;66;03m# \"Union[ExtensionArray, ndarray[Any, Any]]\"; expected \"ndarray[Any, Any]\"\u001B[39;00m\n\u001B[1;32m--> 283\u001B[0m     res_values \u001B[38;5;241m=\u001B[39m \u001B[43m_na_arithmetic_op\u001B[49m\u001B[43m(\u001B[49m\u001B[43mleft\u001B[49m\u001B[43m,\u001B[49m\u001B[43m \u001B[49m\u001B[43mright\u001B[49m\u001B[43m,\u001B[49m\u001B[43m \u001B[49m\u001B[43mop\u001B[49m\u001B[43m)\u001B[49m  \u001B[38;5;66;03m# type: ignore[arg-type]\u001B[39;00m\n\u001B[0;32m    285\u001B[0m \u001B[38;5;28;01mreturn\u001B[39;00m res_values\n",
      "File \u001B[1;32mC:\\PYTHONENVIRONMENTS\\DS2_3_11\\Lib\\site-packages\\pandas\\core\\ops\\array_ops.py:227\u001B[0m, in \u001B[0;36m_na_arithmetic_op\u001B[1;34m(left, right, op, is_cmp)\u001B[0m\n\u001B[0;32m    219\u001B[0m \u001B[38;5;28;01mexcept\u001B[39;00m \u001B[38;5;167;01mTypeError\u001B[39;00m:\n\u001B[0;32m    220\u001B[0m     \u001B[38;5;28;01mif\u001B[39;00m \u001B[38;5;129;01mnot\u001B[39;00m is_cmp \u001B[38;5;129;01mand\u001B[39;00m (\n\u001B[0;32m    221\u001B[0m         left\u001B[38;5;241m.\u001B[39mdtype \u001B[38;5;241m==\u001B[39m \u001B[38;5;28mobject\u001B[39m \u001B[38;5;129;01mor\u001B[39;00m \u001B[38;5;28mgetattr\u001B[39m(right, \u001B[38;5;124m\"\u001B[39m\u001B[38;5;124mdtype\u001B[39m\u001B[38;5;124m\"\u001B[39m, \u001B[38;5;28;01mNone\u001B[39;00m) \u001B[38;5;241m==\u001B[39m \u001B[38;5;28mobject\u001B[39m\n\u001B[0;32m    222\u001B[0m     ):\n\u001B[1;32m   (...)\u001B[0m\n\u001B[0;32m    225\u001B[0m         \u001B[38;5;66;03m# Don't do this for comparisons, as that will handle complex numbers\u001B[39;00m\n\u001B[0;32m    226\u001B[0m         \u001B[38;5;66;03m#  incorrectly, see GH#32047\u001B[39;00m\n\u001B[1;32m--> 227\u001B[0m         result \u001B[38;5;241m=\u001B[39m \u001B[43m_masked_arith_op\u001B[49m\u001B[43m(\u001B[49m\u001B[43mleft\u001B[49m\u001B[43m,\u001B[49m\u001B[43m \u001B[49m\u001B[43mright\u001B[49m\u001B[43m,\u001B[49m\u001B[43m \u001B[49m\u001B[43mop\u001B[49m\u001B[43m)\u001B[49m\n\u001B[0;32m    228\u001B[0m     \u001B[38;5;28;01melse\u001B[39;00m:\n\u001B[0;32m    229\u001B[0m         \u001B[38;5;28;01mraise\u001B[39;00m\n",
      "File \u001B[1;32mC:\\PYTHONENVIRONMENTS\\DS2_3_11\\Lib\\site-packages\\pandas\\core\\ops\\array_ops.py:182\u001B[0m, in \u001B[0;36m_masked_arith_op\u001B[1;34m(x, y, op)\u001B[0m\n\u001B[0;32m    179\u001B[0m         mask \u001B[38;5;241m=\u001B[39m np\u001B[38;5;241m.\u001B[39mwhere(y \u001B[38;5;241m==\u001B[39m \u001B[38;5;241m1\u001B[39m, \u001B[38;5;28;01mFalse\u001B[39;00m, mask)\n\u001B[0;32m    181\u001B[0m     \u001B[38;5;28;01mif\u001B[39;00m mask\u001B[38;5;241m.\u001B[39many():\n\u001B[1;32m--> 182\u001B[0m         result[mask] \u001B[38;5;241m=\u001B[39m \u001B[43mop\u001B[49m\u001B[43m(\u001B[49m\u001B[43mxrav\u001B[49m\u001B[43m[\u001B[49m\u001B[43mmask\u001B[49m\u001B[43m]\u001B[49m\u001B[43m,\u001B[49m\u001B[43m \u001B[49m\u001B[43my\u001B[49m\u001B[43m)\u001B[49m\n\u001B[0;32m    184\u001B[0m np\u001B[38;5;241m.\u001B[39mputmask(result, \u001B[38;5;241m~\u001B[39mmask, np\u001B[38;5;241m.\u001B[39mnan)\n\u001B[0;32m    185\u001B[0m result \u001B[38;5;241m=\u001B[39m result\u001B[38;5;241m.\u001B[39mreshape(x\u001B[38;5;241m.\u001B[39mshape)  \u001B[38;5;66;03m# 2D compat\u001B[39;00m\n",
      "\u001B[1;31mTypeError\u001B[0m: unsupported operand type(s) for -: 'str' and 'str'"
     ]
    }
   ],
   "execution_count": 38
  },
  {
   "metadata": {
    "ExecuteTime": {
     "end_time": "2024-06-10T19:06:30.368965Z",
     "start_time": "2024-06-10T19:06:30.350049Z"
    }
   },
   "cell_type": "code",
   "source": [
    "import math\n",
    "from keras.src.optimizers import RMSprop\n",
    "\n",
    "### Construeer het neurale network model\n",
    "model_cer = Model(inputs=inputs_cer, outputs=outputs_cer, name='Cereals')\n",
    "model_cer.summary()\n",
    "\n",
    "model_cer.compile(optimizer=RMSprop(learning_rate=0.01), loss='mae', metrics=['mape'])\n",
    "\n",
    "# Step 6: Train het ANN-model\n",
    "loss, mape = model_cer.evaluate(x_test_cer, y_test_cer, verbose=0)\n",
    "print(f\"Test Loss: {loss}\")\n",
    "print(f\"Test MAPE: {mape}\")\n",
    "\n",
    "predicted_values = model_cer.predict(x_test_cer).flatten()\n",
    "\n",
    "actual_values = y_test_cer.values.flatten()\n",
    "mape = np.mean(np.abs((predicted_values - actual_values) / actual_values)) * 100\n",
    "rmse = math.sqrt(np.mean((predicted_values - actual_values) ** 2))\n",
    "\n",
    "# Stap 7: Evalueer de kwaliteit van het ANN-model\n",
    "model_cer.evaluate(x_test_cer, y_test_cer)\n",
    "predicted_values = model_cer.predict(x_test_cer)\n",
    "pred = []\n",
    "for i in range(predicted_values.size):\n",
    "    pred = pred + [predicted_values[i][0]]\n",
    "predicted = pd.Series(pred, name='predicted')\n",
    "actual = y_test_cer['Rating'].copy()\n",
    "actual = actual.reset_index()\n",
    "actual = actual['Rating']\n",
    "mape = ((predicted - actual).abs() / actual).mean()\n",
    "rmse = math.sqrt(((predicted - actual) ** 2).mean())"
   ],
   "id": "7861e1fbd7ee9188",
   "outputs": [
    {
     "ename": "NameError",
     "evalue": "name 'inputs_cer' is not defined",
     "output_type": "error",
     "traceback": [
      "\u001B[1;31m---------------------------------------------------------------------------\u001B[0m",
      "\u001B[1;31mNameError\u001B[0m                                 Traceback (most recent call last)",
      "Cell \u001B[1;32mIn[39], line 5\u001B[0m\n\u001B[0;32m      2\u001B[0m \u001B[38;5;28;01mfrom\u001B[39;00m \u001B[38;5;21;01mkeras\u001B[39;00m\u001B[38;5;21;01m.\u001B[39;00m\u001B[38;5;21;01msrc\u001B[39;00m\u001B[38;5;21;01m.\u001B[39;00m\u001B[38;5;21;01moptimizers\u001B[39;00m \u001B[38;5;28;01mimport\u001B[39;00m RMSprop\n\u001B[0;32m      4\u001B[0m \u001B[38;5;66;03m### Construeer het neurale network model\u001B[39;00m\n\u001B[1;32m----> 5\u001B[0m model_cer \u001B[38;5;241m=\u001B[39m Model(inputs\u001B[38;5;241m=\u001B[39m\u001B[43minputs_cer\u001B[49m, outputs\u001B[38;5;241m=\u001B[39moutputs_cer, name\u001B[38;5;241m=\u001B[39m\u001B[38;5;124m'\u001B[39m\u001B[38;5;124mCereals\u001B[39m\u001B[38;5;124m'\u001B[39m)\n\u001B[0;32m      6\u001B[0m model_cer\u001B[38;5;241m.\u001B[39msummary()\n\u001B[0;32m      8\u001B[0m model_cer\u001B[38;5;241m.\u001B[39mcompile(optimizer\u001B[38;5;241m=\u001B[39mRMSprop(learning_rate\u001B[38;5;241m=\u001B[39m\u001B[38;5;241m0.01\u001B[39m), loss\u001B[38;5;241m=\u001B[39m\u001B[38;5;124m'\u001B[39m\u001B[38;5;124mmae\u001B[39m\u001B[38;5;124m'\u001B[39m, metrics\u001B[38;5;241m=\u001B[39m[\u001B[38;5;124m'\u001B[39m\u001B[38;5;124mmape\u001B[39m\u001B[38;5;124m'\u001B[39m])\n",
      "\u001B[1;31mNameError\u001B[0m: name 'inputs_cer' is not defined"
     ]
    }
   ],
   "execution_count": 39
  },
  {
   "metadata": {},
   "cell_type": "code",
   "outputs": [],
   "execution_count": null,
   "source": "",
   "id": "d78ee3719f837d7"
  }
 ],
 "metadata": {
  "kernelspec": {
   "display_name": "Python 3",
   "language": "python",
   "name": "python3"
  },
  "language_info": {
   "codemirror_mode": {
    "name": "ipython",
    "version": 2
   },
   "file_extension": ".py",
   "mimetype": "text/x-python",
   "name": "python",
   "nbconvert_exporter": "python",
   "pygments_lexer": "ipython2",
   "version": "2.7.6"
  }
 },
 "nbformat": 4,
 "nbformat_minor": 5
}

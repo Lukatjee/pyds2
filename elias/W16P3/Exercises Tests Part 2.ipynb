{
 "cells": [
  {
   "cell_type": "markdown",
   "source": [
    "# Exercises Tests Part 2"
   ],
   "metadata": {
    "collapsed": false
   },
   "id": "fc11ae5046d6cd48"
  },
  {
   "cell_type": "code",
   "source": [
    "from termcolor import colored # type: ignore                                          # Colored text\n",
    "from random import Random  # type: ignore                                             # Random number generator\n",
    "import math  # type: ignore                                                           # Mathematical functions\n",
    "import pandas as pd  # type: ignore                                                   # Data manipulation\n",
    "import numpy as np  # type: ignore                                                    # Scientific computing\n",
    "import matplotlib.pyplot as plt  # type: ignore                                       # Data visualization\n",
    "from scipy.stats import binom as binomial  # type: ignore                             # Binomial distribution\n",
    "from scipy.stats import norm as normal  # type: ignore                                # Normal distribution\n",
    "from scipy.stats import poisson as poisson  # type: ignore                            # Poisson distribution\n",
    "from scipy.stats import t as student  # type: ignore                                  # Student distribution\n",
    "from scipy.stats import chi2  # type: ignore                                          # Chi-squared distribution\n",
    "from scipy.stats import ttest_1samp  # type: ignore                                   # One-sample t-test\n",
    "from scipy.stats import chisquare  # type: ignore                                     # Chi-squared test\n",
    "from scipy.special import comb  # type: ignore                                        # Combinations\n",
    "from mlxtend.frequent_patterns import apriori  # type: ignore                         # Apriori algorithm\n",
    "from mlxtend.frequent_patterns import fpgrowth  # type: ignore                        # FP-growth algorithm\n",
    "from mlxtend.frequent_patterns import association_rules  # type: ignore               # Association rules\n",
    "from mlxtend.preprocessing import TransactionEncoder  # type: ignore                  # Transaction encoder\n",
    "from sklearn.discriminant_analysis import LinearDiscriminantAnalysis  # type: ignore  # Discriminant Analysis\n",
    "from tensorflow import keras  # type: ignore                                          # Deep Learning library\n",
    "from tensorflow.keras import Model  # type: ignore                                    # Model class\n",
    "from tensorflow.keras.layers import Input, Dense, BatchNormalization  # type: ignore  # Layers\n",
    "from tensorflow.keras.utils import to_categorical  # type: ignore                     # One-hot encoding\n",
    "from tensorflow.keras.optimizers import Adam  # type: ignore                          # Optimizer\n",
    "from livelossplot import PlotLossesKeras  # type: ignore                              # Live plot\n",
    "from keras.src.optimizers import RMSprop  # type: ignore                              # Optimizer\n",
    "from sklearn.model_selection import train_test_split  # type: ignore                  # Train-test split\n",
    "from sklearn.metrics import roc_auc_score # type: ignore                              # ROC AUC score\n",
    "from simanneal import Annealer  # type: ignore                                        # Simulated Annealing\n",
    "from inspyred import ec  # type: ignore                                               # Evolutionary Computation\n",
    "import warnings  # type: ignore                                                       # Disable warnings\n",
    "from Resources.Functions import *  # type: ignore                                     # Custom functions\n",
    "warnings.filterwarnings(\"ignore\")                                                     # Disable warnings\n",
    "outputColor = \"blue\"                                                                  # Color for the output"
   ],
   "metadata": {
    "collapsed": false,
    "ExecuteTime": {
     "end_time": "2024-05-29T11:29:16.588216Z",
     "start_time": "2024-05-29T11:29:16.563077Z"
    }
   },
   "id": "25a2a1e7b39c0a64",
   "outputs": [],
   "execution_count": 24
  },
  {
   "cell_type": "markdown",
   "source": [
    "## Theoretical questions"
   ],
   "metadata": {
    "collapsed": false
   },
   "id": "d66cd879508e8eb4"
  },
  {
   "cell_type": "markdown",
   "source": [
    "### Question 1:\n",
    "- Open the file entry `/Gamerps.csv`. Scissors rock paper is a game where you make a choice between these three. However, is there a preference among our scout members regarding the selection test? The expected distribution is proportional. Check whether our count differs from the expected distribution.\n",
    "    - Which test will you use for this?\n",
    "    - What is `H0`? `The count in our sample is/is not evenly distributed.`\n",
    "    - What is the value of `X^2`? (3 significant digits)\n",
    "    - What is the probability that a sample would have a higher value than `X^2` (p-value)? (3 significant digits)\n",
    "    - Can `H0` be rejected with `95%` confidence?\n",
    "    - So can we say that the scout members have a preference?"
   ],
   "metadata": {
    "collapsed": false
   },
   "id": "8dcce8d70aac0bac"
  },
  {
   "cell_type": "code",
   "source": [
    "gamerps = pd.read_csv('../Data/Gamerps.csv')\n",
    "display(gamerps)"
   ],
   "metadata": {
    "collapsed": false,
    "ExecuteTime": {
     "end_time": "2024-05-29T11:29:16.804286Z",
     "start_time": "2024-05-29T11:29:16.791668Z"
    }
   },
   "id": "5813ee597d3898ea",
   "outputs": [
    {
     "data": {
      "text/plain": [
       "        hand\n",
       "0   Scissors\n",
       "1      Paper\n",
       "2      Paper\n",
       "3   Scissors\n",
       "4   Scissors\n",
       "..       ...\n",
       "70  Scissors\n",
       "71  Scissors\n",
       "72     Paper\n",
       "73     Paper\n",
       "74  Scissors\n",
       "\n",
       "[75 rows x 1 columns]"
      ],
      "text/html": [
       "<div>\n",
       "<style scoped>\n",
       "    .dataframe tbody tr th:only-of-type {\n",
       "        vertical-align: middle;\n",
       "    }\n",
       "\n",
       "    .dataframe tbody tr th {\n",
       "        vertical-align: top;\n",
       "    }\n",
       "\n",
       "    .dataframe thead th {\n",
       "        text-align: right;\n",
       "    }\n",
       "</style>\n",
       "<table border=\"1\" class=\"dataframe\">\n",
       "  <thead>\n",
       "    <tr style=\"text-align: right;\">\n",
       "      <th></th>\n",
       "      <th>hand</th>\n",
       "    </tr>\n",
       "  </thead>\n",
       "  <tbody>\n",
       "    <tr>\n",
       "      <th>0</th>\n",
       "      <td>Scissors</td>\n",
       "    </tr>\n",
       "    <tr>\n",
       "      <th>1</th>\n",
       "      <td>Paper</td>\n",
       "    </tr>\n",
       "    <tr>\n",
       "      <th>2</th>\n",
       "      <td>Paper</td>\n",
       "    </tr>\n",
       "    <tr>\n",
       "      <th>3</th>\n",
       "      <td>Scissors</td>\n",
       "    </tr>\n",
       "    <tr>\n",
       "      <th>4</th>\n",
       "      <td>Scissors</td>\n",
       "    </tr>\n",
       "    <tr>\n",
       "      <th>...</th>\n",
       "      <td>...</td>\n",
       "    </tr>\n",
       "    <tr>\n",
       "      <th>70</th>\n",
       "      <td>Scissors</td>\n",
       "    </tr>\n",
       "    <tr>\n",
       "      <th>71</th>\n",
       "      <td>Scissors</td>\n",
       "    </tr>\n",
       "    <tr>\n",
       "      <th>72</th>\n",
       "      <td>Paper</td>\n",
       "    </tr>\n",
       "    <tr>\n",
       "      <th>73</th>\n",
       "      <td>Paper</td>\n",
       "    </tr>\n",
       "    <tr>\n",
       "      <th>74</th>\n",
       "      <td>Scissors</td>\n",
       "    </tr>\n",
       "  </tbody>\n",
       "</table>\n",
       "<p>75 rows × 1 columns</p>\n",
       "</div>"
      ]
     },
     "metadata": {},
     "output_type": "display_data"
    }
   ],
   "execution_count": 25
  },
  {
   "cell_type": "code",
   "source": [
    "print(colored(f\"We are going to calculate the Chi-square.\", outputColor))\n",
    "print(colored(f\"\\n\\tH0: There is a preference among the people.\\n\\tH1: There is no preference among the People.\", outputColor))\n",
    "\n",
    "paperSum = 0\n",
    "scissorsSum = 0\n",
    "rockSum = 0\n",
    "total = len(gamerps)\n",
    "\n",
    "for i in range(total):\n",
    "    if gamerps['hand'][i] == 'Paper':\n",
    "        paperSum += 1\n",
    "    if gamerps['hand'][i] == 'Scissors':\n",
    "        scissorsSum += 1\n",
    "    if gamerps['hand'][i] == 'Rock':\n",
    "        rockSum += 1\n",
    "\n",
    "print(colored(f\"Amount of Paper: {paperSum}\", outputColor))\n",
    "print(colored(f\"Amount of Scissors: {scissorsSum}\", outputColor))\n",
    "print(colored(f\"Amount of Rock: {rockSum}\", outputColor))\n",
    "print(colored(f\"Total: {total}\", outputColor))\n",
    "\n",
    "measured_values = [paperSum,scissorsSum,rockSum]\n",
    "expected_values = [(total / 3), (total / 3), (total / 3)] # H0\n",
    "data = chisquare(measured_values, expected_values)\n",
    "print(colored(f\"X^2 Value: {round(data.statistic, 3)}\", outputColor))\n",
    "print(colored(f\"P Value: {round(data.pvalue, 3)}\", outputColor))\n",
    "\n",
    "p = 0.95\n",
    "df = 3 - 1\n",
    "critical_value = chi2.ppf(p, df=df)\n",
    "print(colored(f\"Critical value: {critical_value}\", outputColor))\n",
    "\n",
    "if data.statistic < critical_value:\n",
    "    print(colored(f\"H0 can not be rejected with 95% confidence.\", outputColor))\n",
    "else:\n",
    "    print(colored(f\"H0 can be rejected with 95% confidence.\", outputColor))"
   ],
   "metadata": {
    "collapsed": false,
    "ExecuteTime": {
     "end_time": "2024-05-29T11:29:24.859136Z",
     "start_time": "2024-05-29T11:29:24.836671Z"
    }
   },
   "id": "eba1bc7b75979392",
   "outputs": [
    {
     "name": "stdout",
     "output_type": "stream",
     "text": [
      "\u001B[34mWe are going to calculate the Chi-square.\u001B[0m\n",
      "\u001B[34m\n",
      "\tH0: There is a preference among the people.\n",
      "\tH1: There is no preference among the People.\u001B[0m\n",
      "\u001B[34mAmount of Paper: 24\u001B[0m\n",
      "\u001B[34mAmount of Scissors: 30\u001B[0m\n",
      "\u001B[34mAmount of Rock: 21\u001B[0m\n",
      "\u001B[34mTotal: 75\u001B[0m\n",
      "\u001B[34mX^2 Value: 1.68\u001B[0m\n",
      "\u001B[34mP Value: 0.432\u001B[0m\n",
      "\u001B[34mCritical value: 5.991464547107979\u001B[0m\n",
      "\u001B[34mH0 can not be rejected with 95% confidence.\u001B[0m\n"
     ]
    }
   ],
   "execution_count": 41
  },
  {
   "cell_type": "markdown",
   "source": [
    "### Question 2:\n",
    "- Open the file `/ColorHairBrussels.csv`. This concerns data on the color of the hair of a sample of people in Brussels. The expected distribution of hair colors in Europe are: `30% blonde`, `12% red`, `30% brown`, `25% dark`, and `3% black`. Check whether our count differs from the expected distribution.\n",
    "     - Which test will you use for this?\n",
    "     - What is `H0`? `The hair color count in our sample does/does not deviate from the expected distribution.`\n",
    "     - What `X^2` value do you find?\n",
    "     - What `p-value` do you find?\n",
    "     - Can `H0` be rejected with a reliability of `95%` or not?\n",
    "     - Is there a deviation in Brussels compared to the expected distribution?"
   ],
   "metadata": {
    "collapsed": false
   },
   "id": "ac6e6a8db97c7653"
  },
  {
   "cell_type": "code",
   "source": [
    "colorHairBrussels = pd.read_csv('../Data/ColorHairBrussels.csv')\n",
    "display(colorHairBrussels)"
   ],
   "metadata": {
    "collapsed": false,
    "ExecuteTime": {
     "end_time": "2024-05-29T11:29:16.897583Z",
     "start_time": "2024-05-29T11:29:16.884652Z"
    }
   },
   "id": "ce4e897992fd055a",
   "outputs": [
    {
     "data": {
      "text/plain": [
       "       hair\n",
       "0      Dark\n",
       "1    Blonde\n",
       "2     Brown\n",
       "3    Blonde\n",
       "4     Brown\n",
       "..      ...\n",
       "241   Brown\n",
       "242     Red\n",
       "243  Blonde\n",
       "244   Brown\n",
       "245     Red\n",
       "\n",
       "[246 rows x 1 columns]"
      ],
      "text/html": [
       "<div>\n",
       "<style scoped>\n",
       "    .dataframe tbody tr th:only-of-type {\n",
       "        vertical-align: middle;\n",
       "    }\n",
       "\n",
       "    .dataframe tbody tr th {\n",
       "        vertical-align: top;\n",
       "    }\n",
       "\n",
       "    .dataframe thead th {\n",
       "        text-align: right;\n",
       "    }\n",
       "</style>\n",
       "<table border=\"1\" class=\"dataframe\">\n",
       "  <thead>\n",
       "    <tr style=\"text-align: right;\">\n",
       "      <th></th>\n",
       "      <th>hair</th>\n",
       "    </tr>\n",
       "  </thead>\n",
       "  <tbody>\n",
       "    <tr>\n",
       "      <th>0</th>\n",
       "      <td>Dark</td>\n",
       "    </tr>\n",
       "    <tr>\n",
       "      <th>1</th>\n",
       "      <td>Blonde</td>\n",
       "    </tr>\n",
       "    <tr>\n",
       "      <th>2</th>\n",
       "      <td>Brown</td>\n",
       "    </tr>\n",
       "    <tr>\n",
       "      <th>3</th>\n",
       "      <td>Blonde</td>\n",
       "    </tr>\n",
       "    <tr>\n",
       "      <th>4</th>\n",
       "      <td>Brown</td>\n",
       "    </tr>\n",
       "    <tr>\n",
       "      <th>...</th>\n",
       "      <td>...</td>\n",
       "    </tr>\n",
       "    <tr>\n",
       "      <th>241</th>\n",
       "      <td>Brown</td>\n",
       "    </tr>\n",
       "    <tr>\n",
       "      <th>242</th>\n",
       "      <td>Red</td>\n",
       "    </tr>\n",
       "    <tr>\n",
       "      <th>243</th>\n",
       "      <td>Blonde</td>\n",
       "    </tr>\n",
       "    <tr>\n",
       "      <th>244</th>\n",
       "      <td>Brown</td>\n",
       "    </tr>\n",
       "    <tr>\n",
       "      <th>245</th>\n",
       "      <td>Red</td>\n",
       "    </tr>\n",
       "  </tbody>\n",
       "</table>\n",
       "<p>246 rows × 1 columns</p>\n",
       "</div>"
      ]
     },
     "metadata": {},
     "output_type": "display_data"
    }
   ],
   "execution_count": 27
  },
  {
   "cell_type": "code",
   "source": [
    "print(colored(f\"We are going to calculate the Chi-square.\", outputColor))\n",
    "print(colored(f\"\\n\\tH0: The hair color count in our sample does not deviate from the expected distribution.\\n\\tH1: The hair color count in our sample does deviate from the expected distribution.\", outputColor))\n",
    "\n",
    "blondeSum = 0\n",
    "redSum = 0\n",
    "brownSum = 0\n",
    "darkSum = 0\n",
    "blackSum = 0\n",
    "total = len(colorHairBrussels)\n",
    "\n",
    "for i in range(total):\n",
    "    if colorHairBrussels['hair'][i] == 'Blonde':\n",
    "        blondeSum += 1\n",
    "    if colorHairBrussels['hair'][i] == 'Red':\n",
    "        redSum += 1\n",
    "    if colorHairBrussels['hair'][i] == 'Brown':\n",
    "        brownSum += 1\n",
    "    if colorHairBrussels['hair'][i] == 'Dark':\n",
    "        darkSum += 1\n",
    "    if colorHairBrussels['hair'][i] == 'Black':\n",
    "        blackSum += 1\n",
    "\n",
    "print(colored(f\"Amount of Blonde: {blondeSum}\", outputColor))\n",
    "print(colored(f\"Amount of Red: {redSum}\", outputColor))\n",
    "print(colored(f\"Amount of Brown: {brownSum}\", outputColor))\n",
    "print(colored(f\"Amount of Dark: {darkSum}\", outputColor))\n",
    "print(colored(f\"Amount of Black: {blackSum}\", outputColor))\n",
    "print(colored(f\"Total: {total}\", outputColor))\n",
    "\n",
    "measured_values = [blondeSum, redSum, brownSum, darkSum, blackSum]\n",
    "expected_values = [total * 0.3, total * 0.12, total * 0.3, total * 0.25, total * 0.03]\n",
    "data = chisquare(measured_values, expected_values)\n",
    "print(colored(f\"X^2 Value: {round(data.statistic, 3)}\", outputColor))\n",
    "print(colored(f\"P Value: {round(data.pvalue, 3)}\", outputColor))\n",
    "\n",
    "p = 0.95\n",
    "df = len(measured_values) - 1\n",
    "critical_value = chi2.ppf(p, df=df)\n",
    "print(colored(f\"Critical value: {critical_value}\", outputColor))\n",
    "\n",
    "if data.statistic < critical_value:\n",
    "    print(colored(f\"H0 can not be rejected with 95% confidence.\", outputColor))\n",
    "else:\n",
    "    print(colored(f\"H0 can be rejected with 95% confidence.\", outputColor))"
   ],
   "metadata": {
    "collapsed": false,
    "ExecuteTime": {
     "end_time": "2024-05-29T11:30:32.285767Z",
     "start_time": "2024-05-29T11:30:32.249618Z"
    }
   },
   "id": "f72aec064c466e3e",
   "outputs": [
    {
     "name": "stdout",
     "output_type": "stream",
     "text": [
      "\u001B[34mWe are going to calculate the Chi-square.\u001B[0m\n",
      "\u001B[34m\n",
      "\tH0: The hair color count in our sample does not deviate from the expected distribution.\n",
      "\tH1: The hair color count in our sample does deviate from the expected distribution.\u001B[0m\n",
      "\u001B[34mAmount of Blonde: 76\u001B[0m\n",
      "\u001B[34mAmount of Red: 19\u001B[0m\n",
      "\u001B[34mAmount of Brown: 83\u001B[0m\n",
      "\u001B[34mAmount of Dark: 65\u001B[0m\n",
      "\u001B[34mAmount of Black: 3\u001B[0m\n",
      "\u001B[34mTotal: 246\u001B[0m\n",
      "\u001B[34mX^2 Value: 7.76\u001B[0m\n",
      "\u001B[34mP Value: 0.101\u001B[0m\n",
      "\u001B[34mCritical value: 9.487729036781154\u001B[0m\n",
      "\u001B[34mH0 can not be rejected with 95% confidence.\u001B[0m\n"
     ]
    }
   ],
   "execution_count": 42
  },
  {
   "cell_type": "markdown",
   "source": [
    "### Question 3:\n",
    "- We wish to conduct a survey on students' favorite browser. We expect the following distribution:\n",
    "     - Internet explorer: `8`\n",
    "     - Opera: `10`\n",
    "     - Mozilla Firefox: `10`\n",
    "     - Google chrome: `12`\n",
    "- When inquiring about `1` class group, the distribution appears as follows:\n",
    "     - Internet explorer: `17`\n",
    "     - Opera: `10`\n",
    "     - Mozilla Firefox: `8`\n",
    "     - Google chrome: `5`\n",
    "\n",
    "- Question:\n",
    "     - Which test are you going to apply?\n",
    "     - Is this deviation within our expectations (`alpha=0.01`) Yes/No?\n",
    "     - What is the critical value of this data?\n",
    "     - What `X^2` value do you find?\n",
    "     - What p-value do you find?"
   ],
   "metadata": {
    "collapsed": false
   },
   "id": "52f18b95661cc892"
  },
  {
   "cell_type": "code",
   "source": [
    "print(colored(f\"We are going to calculate the Chi-square.\", outputColor))\n",
    "\n",
    "measured_values = [17, 10, 8, 5]\n",
    "expected_values = [8, 10, 10, 12]\n",
    "chisquare = chisquare(measured_values, expected_values)\n",
    "\n",
    "a = 0.01\n",
    "p = 1 - a\n",
    "df = len(measured_values) - 1\n",
    "critical_value = chi2.ppf(p, df=df)\n",
    "\n",
    "if chisquare.pvalue <= a:\n",
    "    print(colored(f\"The deviation is significant because the p-value is less than alpha.\", outputColor))\n",
    "else:\n",
    "    print(colored(f\"The deviation is not significant because the p-value is greater than alpha.\", outputColor))\n",
    "\n",
    "print(colored(f\"Critical Value: {round(critical_value, 3)}\", outputColor))\n",
    "print(colored(f\"X^2: {round(chisquare.statistic, 3)}\", outputColor))\n",
    "print(colored(f\"P-Value: {round(chisquare.pvalue, 3)}\", outputColor))"
   ],
   "metadata": {
    "collapsed": false,
    "ExecuteTime": {
     "end_time": "2024-05-29T11:36:13.524169Z",
     "start_time": "2024-05-29T11:36:13.505178Z"
    }
   },
   "id": "42e449944e3abeaf",
   "outputs": [
    {
     "name": "stdout",
     "output_type": "stream",
     "text": [
      "\u001B[34mWe are going to calculate the Chi-square.\u001B[0m\n",
      "\u001B[34mThe deviation is significant because the p-value is less than alpha.\u001B[0m\n",
      "\u001B[34mCritical Value: 11.345\u001B[0m\n",
      "\u001B[34mX^2: 14.608\u001B[0m\n",
      "\u001B[34mP-Value: 0.002\u001B[0m\n"
     ]
    }
   ],
   "execution_count": 43
  },
  {
   "cell_type": "markdown",
   "source": [
    "### Question 4:\n",
    "- A programmer has written a Python class to generate random integers between `0` and `10`. This code looks like this:"
   ],
   "metadata": {
    "collapsed": false
   },
   "id": "82996318cf7a7ab5"
  },
  {
   "cell_type": "code",
   "source": [
    "class Random:\n",
    "    def __init__(self)-> None:\n",
    "        self.i = 0\n",
    "        self.j = 0\n",
    "\n",
    "    def random_between_0_and_10(self) -> int:\n",
    "        r = abs(math.sin(51 * self.i ** 2 + math.cos(80 * self.j)) + math.sin(300 * self.j + 3 * math.sin(111 * self.i - self.j)))\n",
    "        self.j += 1\n",
    "        if self.j > 100:\n",
    "            self.i +=1\n",
    "        if self.i > 100:\n",
    "            self.i = 0\n",
    "            self.j = 0\n",
    "        return math.floor(r * 5.5)"
   ],
   "metadata": {
    "collapsed": false,
    "ExecuteTime": {
     "end_time": "2024-05-29T11:29:17.225054Z",
     "start_time": "2024-05-29T11:29:17.206935Z"
    }
   },
   "id": "bcabc8b7aa01ffe7",
   "outputs": [],
   "execution_count": 31
  },
  {
   "cell_type": "markdown",
   "source": [
    "- Write a Python program that generates `1100` random numbers and check whether this random number generator works properly (we expect each number `0-10` to appear equally). Use `alpha=0.05`.\n",
    "     - What `X^2` value do you find?\n",
    "     - What p-value do you find?\n",
    "     - What is the confidence interval for `alpha=0.05`?\n",
    "     - What decision can you make?"
   ],
   "metadata": {
    "collapsed": false
   },
   "id": "59ec3fed0bce061"
  },
  {
   "cell_type": "code",
   "source": [
    "# 1\n",
    "# Chi-kwadraat toets\n",
    "\n",
    "# 2\n",
    "random = Random()\n",
    "random_numbers = [random.random_between_0_and_10() for _ in range(1100)]\n",
    "measured_values = [random_numbers.count(i) for i in range(11)]\n",
    "expected_values = [100 for _ in range(11)]\n",
    "data = chisquare(measured_values, expected_values)\n",
    "print(colored(f\"X^2 Value: {round(data.statistic, 3)}\", outputColor))\n",
    "print(colored(f\"P Value: {round(data.pvalue, 3)}\", outputColor))\n",
    "\n",
    "# 3\n",
    "p = 0.95\n",
    "df = len(measured_values) - 1\n",
    "critical_value = chi2.ppf(p, df=df)\n",
    "print(colored(f\"Critical value: {critical_value}\", outputColor))\n",
    "\n",
    "# 4\n",
    "if data.statistic < critical_value:\n",
    "    print(colored(f\"H0 can not be rejected with 95% confidence.\", outputColor))\n",
    "else:\n",
    "    print(colored(f\"H0 can be rejected with 95% confidence.\", outputColor))"
   ],
   "metadata": {
    "collapsed": false,
    "ExecuteTime": {
     "end_time": "2024-05-29T11:29:17.287493Z",
     "start_time": "2024-05-29T11:29:17.261495Z"
    }
   },
   "id": "d45ccf151811f954",
   "outputs": [
    {
     "name": "stdout",
     "output_type": "stream",
     "text": [
      "\u001B[34mX^2 Value: 239.18\u001B[0m\n",
      "\u001B[34mP Value: 0.0\u001B[0m\n",
      "\u001B[34mCritical value: 18.307038053275146\u001B[0m\n",
      "\u001B[34mH0 can be rejected with 95% confidence.\u001B[0m\n"
     ]
    }
   ],
   "execution_count": 32
  },
  {
   "cell_type": "markdown",
   "source": [
    "## Practical exercises (Python)"
   ],
   "metadata": {
    "collapsed": false
   },
   "id": "f8f39a382b50d97a"
  },
  {
   "cell_type": "code",
   "source": [
    "studentQuestions = pd.read_csv('../Data/Data1.csv', delimiter=';', decimal=',')\n",
    "display(studentQuestions)"
   ],
   "metadata": {
    "collapsed": false,
    "ExecuteTime": {
     "end_time": "2024-05-29T11:29:17.340974Z",
     "start_time": "2024-05-29T11:29:17.294091Z"
    }
   },
   "id": "5e61cb3cb6fe7e97",
   "outputs": [
    {
     "data": {
      "text/plain": [
       "   gapminder schrijfhand  schoenmaat  lengte    bloedgroep         resus  \\\n",
       "0       7/18      Rechts        43.0     184             O      positief   \n",
       "1       3/18      Rechts        42.0     163  Weet ik niet  Weet ik niet   \n",
       "2      12/18      Rechts        45.0     183            AB      positief   \n",
       "3       5/18      Rechts        44.0     175             A      positief   \n",
       "4       6/18      Rechts        43.0     173             B      positief   \n",
       "..       ...         ...         ...     ...           ...           ...   \n",
       "84      7/18      Rechts        45.0     185             O      negatief   \n",
       "85      9/18      Rechts        43.0     184             O  Weet ik niet   \n",
       "86      4/18       Links        45.5     190  Weet ik niet  Weet ik niet   \n",
       "87      8/18      Rechts        45.0     188             A      positief   \n",
       "88      7/18      Rechts        43.0     176             B      positief   \n",
       "\n",
       "    siblings                                     Samenzweringen  \\\n",
       "0          5  De tsunami van 2004 in de Indische Oceaan was ...   \n",
       "1          1   Prinses Diana kwam niet per ongeluk om het leven   \n",
       "2          2  Prinses Diana kwam niet per ongeluk om het lev...   \n",
       "3          2  De wereld wordt eigenlijk gecontroleerd door e...   \n",
       "4          3  De wereld wordt eigenlijk gecontroleerd door e...   \n",
       "..       ...                                                ...   \n",
       "84         0  De maanlanding is in scne gezet om de Russen ...   \n",
       "85         2  De aanslagen van 9/11 in NY werden niet door t...   \n",
       "86         0  Prinses Diana kwam niet per ongeluk om het lev...   \n",
       "87         1                                                NaN   \n",
       "88         2                                                NaN   \n",
       "\n",
       "                                            rijbewijs  \\\n",
       "0                                Categorie B: Wagens.   \n",
       "1   Categorie AM: Bromfietsen met een maximumsnelh...   \n",
       "2   Categorie AM: Bromfietsen met een maximumsnelh...   \n",
       "3   Categorie AM: Bromfietsen met een maximumsnelh...   \n",
       "4                                Categorie B: Wagens.   \n",
       "..                                                ...   \n",
       "84  Categorie AM: Bromfietsen met een maximumsnelh...   \n",
       "85  Categorie AM: Bromfietsen met een maximumsnelh...   \n",
       "86  Categorie AM: Bromfietsen met een maximumsnelh...   \n",
       "87                               Categorie B: Wagens.   \n",
       "88                               Categorie B: Wagens.   \n",
       "\n",
       "                               domicilie in Antwerpen  ... M1 - stelen  \\\n",
       "0   buiten de stad (een dorp, een gehucht, het pla...  ...           7   \n",
       "1                                         in een stad  ...          10   \n",
       "2                                         in een stad  ...           6   \n",
       "3                                         in een stad  ...           9   \n",
       "4                                         in een stad  ...          10   \n",
       "..                                                ...  ...         ...   \n",
       "84  buiten de stad (een dorp, een gehucht, het pla...  ...          10   \n",
       "85  buiten de stad (een dorp, een gehucht, het pla...  ...           8   \n",
       "86                                        in een stad  ...          10   \n",
       "87                                        in een stad  ...           8   \n",
       "88                                        in een stad  ...          10   \n",
       "\n",
       "   M2 - team M3 - beschermen M4 - voorbeeld M5 - embryo  M6 - vrijheid  \\\n",
       "0          2               8              6           5            4.0   \n",
       "1          5              10              6           7            3.0   \n",
       "2          3               7              7          10            6.0   \n",
       "3         10              10             10          10            0.0   \n",
       "4          6              10              7           7            2.0   \n",
       "..       ...             ...            ...         ...            ...   \n",
       "84         3               8              8           2            5.0   \n",
       "85         5               7              8           4            0.0   \n",
       "86         5              10              8           9            5.0   \n",
       "87         6               6              7           6            4.0   \n",
       "88         5               4              9           3            9.0   \n",
       "\n",
       "                                             mascotte            zwaarste vak  \\\n",
       "0   1=Bever,2=Wasbeer,3=Otter,4=Wolf,5=Poema,6=Pan...            Management 1   \n",
       "1   1=Bever,2=Wolf,3=Bizon,4=Otter,5=Panter,6=Poem...            Management 1   \n",
       "2   1=Bruine beer,2=Poema,3=Panter,4=Wolf,5=Vos,6=...            Management 1   \n",
       "3   1=Wasbeer,2=Wolf,3=Bruine beer,4=Das,5=Vos,6=B...            Management 1   \n",
       "4   1=Wolf,2=Vos,3=Bruine beer,4=Bizon,5=Panter,6=...            Management 1   \n",
       "..                                                ...                     ...   \n",
       "84  1=Panter,2=Poema,3=Wolf,4=Vos,5=Bever,6=Bruine...  Software engineering 1   \n",
       "85  1=Panter,2=Poema,3=Vos,4=Wolf,5=Bruine beer,6=...          Data science 1   \n",
       "86  1=Wolf,2=Vos,3=Bruine beer,4=Bever,5=Das,6=Was...       User interfaces 1   \n",
       "87  1=Otter,2=Wasbeer,3=Vos,4=Bruine beer,5=Bever,...             Netwerken 1   \n",
       "88  1=Poema,2=Panter,3=Wolf,4=Bruine beer,5=Bizon,...          Data science 1   \n",
       "\n",
       "                boeienste vak  studiepunt  \n",
       "0              Data science 1  16-20 uren  \n",
       "1          Computersystemen 1  <= 10 uren  \n",
       "2       Programmeren 1 - Java  16-20 uren  \n",
       "3              Data science 1  <= 10 uren  \n",
       "4              Data science 1  <= 10 uren  \n",
       "..                        ...         ...  \n",
       "84          User interfaces 1  26-30 uren  \n",
       "85  Programmeren 1 - Embedded  11-15 uren  \n",
       "86             Data science 1  16-20 uren  \n",
       "87             Data science 1  16-20 uren  \n",
       "88      Programmeren 1 - Java  26-30 uren  \n",
       "\n",
       "[89 rows x 33 columns]"
      ],
      "text/html": [
       "<div>\n",
       "<style scoped>\n",
       "    .dataframe tbody tr th:only-of-type {\n",
       "        vertical-align: middle;\n",
       "    }\n",
       "\n",
       "    .dataframe tbody tr th {\n",
       "        vertical-align: top;\n",
       "    }\n",
       "\n",
       "    .dataframe thead th {\n",
       "        text-align: right;\n",
       "    }\n",
       "</style>\n",
       "<table border=\"1\" class=\"dataframe\">\n",
       "  <thead>\n",
       "    <tr style=\"text-align: right;\">\n",
       "      <th></th>\n",
       "      <th>gapminder</th>\n",
       "      <th>schrijfhand</th>\n",
       "      <th>schoenmaat</th>\n",
       "      <th>lengte</th>\n",
       "      <th>bloedgroep</th>\n",
       "      <th>resus</th>\n",
       "      <th>siblings</th>\n",
       "      <th>Samenzweringen</th>\n",
       "      <th>rijbewijs</th>\n",
       "      <th>domicilie in Antwerpen</th>\n",
       "      <th>...</th>\n",
       "      <th>M1 - stelen</th>\n",
       "      <th>M2 - team</th>\n",
       "      <th>M3 - beschermen</th>\n",
       "      <th>M4 - voorbeeld</th>\n",
       "      <th>M5 - embryo</th>\n",
       "      <th>M6 - vrijheid</th>\n",
       "      <th>mascotte</th>\n",
       "      <th>zwaarste vak</th>\n",
       "      <th>boeienste vak</th>\n",
       "      <th>studiepunt</th>\n",
       "    </tr>\n",
       "  </thead>\n",
       "  <tbody>\n",
       "    <tr>\n",
       "      <th>0</th>\n",
       "      <td>7/18</td>\n",
       "      <td>Rechts</td>\n",
       "      <td>43.0</td>\n",
       "      <td>184</td>\n",
       "      <td>O</td>\n",
       "      <td>positief</td>\n",
       "      <td>5</td>\n",
       "      <td>De tsunami van 2004 in de Indische Oceaan was ...</td>\n",
       "      <td>Categorie B: Wagens.</td>\n",
       "      <td>buiten de stad (een dorp, een gehucht, het pla...</td>\n",
       "      <td>...</td>\n",
       "      <td>7</td>\n",
       "      <td>2</td>\n",
       "      <td>8</td>\n",
       "      <td>6</td>\n",
       "      <td>5</td>\n",
       "      <td>4.0</td>\n",
       "      <td>1=Bever,2=Wasbeer,3=Otter,4=Wolf,5=Poema,6=Pan...</td>\n",
       "      <td>Management 1</td>\n",
       "      <td>Data science 1</td>\n",
       "      <td>16-20 uren</td>\n",
       "    </tr>\n",
       "    <tr>\n",
       "      <th>1</th>\n",
       "      <td>3/18</td>\n",
       "      <td>Rechts</td>\n",
       "      <td>42.0</td>\n",
       "      <td>163</td>\n",
       "      <td>Weet ik niet</td>\n",
       "      <td>Weet ik niet</td>\n",
       "      <td>1</td>\n",
       "      <td>Prinses Diana kwam niet per ongeluk om het leven</td>\n",
       "      <td>Categorie AM: Bromfietsen met een maximumsnelh...</td>\n",
       "      <td>in een stad</td>\n",
       "      <td>...</td>\n",
       "      <td>10</td>\n",
       "      <td>5</td>\n",
       "      <td>10</td>\n",
       "      <td>6</td>\n",
       "      <td>7</td>\n",
       "      <td>3.0</td>\n",
       "      <td>1=Bever,2=Wolf,3=Bizon,4=Otter,5=Panter,6=Poem...</td>\n",
       "      <td>Management 1</td>\n",
       "      <td>Computersystemen 1</td>\n",
       "      <td>&lt;= 10 uren</td>\n",
       "    </tr>\n",
       "    <tr>\n",
       "      <th>2</th>\n",
       "      <td>12/18</td>\n",
       "      <td>Rechts</td>\n",
       "      <td>45.0</td>\n",
       "      <td>183</td>\n",
       "      <td>AB</td>\n",
       "      <td>positief</td>\n",
       "      <td>2</td>\n",
       "      <td>Prinses Diana kwam niet per ongeluk om het lev...</td>\n",
       "      <td>Categorie AM: Bromfietsen met een maximumsnelh...</td>\n",
       "      <td>in een stad</td>\n",
       "      <td>...</td>\n",
       "      <td>6</td>\n",
       "      <td>3</td>\n",
       "      <td>7</td>\n",
       "      <td>7</td>\n",
       "      <td>10</td>\n",
       "      <td>6.0</td>\n",
       "      <td>1=Bruine beer,2=Poema,3=Panter,4=Wolf,5=Vos,6=...</td>\n",
       "      <td>Management 1</td>\n",
       "      <td>Programmeren 1 - Java</td>\n",
       "      <td>16-20 uren</td>\n",
       "    </tr>\n",
       "    <tr>\n",
       "      <th>3</th>\n",
       "      <td>5/18</td>\n",
       "      <td>Rechts</td>\n",
       "      <td>44.0</td>\n",
       "      <td>175</td>\n",
       "      <td>A</td>\n",
       "      <td>positief</td>\n",
       "      <td>2</td>\n",
       "      <td>De wereld wordt eigenlijk gecontroleerd door e...</td>\n",
       "      <td>Categorie AM: Bromfietsen met een maximumsnelh...</td>\n",
       "      <td>in een stad</td>\n",
       "      <td>...</td>\n",
       "      <td>9</td>\n",
       "      <td>10</td>\n",
       "      <td>10</td>\n",
       "      <td>10</td>\n",
       "      <td>10</td>\n",
       "      <td>0.0</td>\n",
       "      <td>1=Wasbeer,2=Wolf,3=Bruine beer,4=Das,5=Vos,6=B...</td>\n",
       "      <td>Management 1</td>\n",
       "      <td>Data science 1</td>\n",
       "      <td>&lt;= 10 uren</td>\n",
       "    </tr>\n",
       "    <tr>\n",
       "      <th>4</th>\n",
       "      <td>6/18</td>\n",
       "      <td>Rechts</td>\n",
       "      <td>43.0</td>\n",
       "      <td>173</td>\n",
       "      <td>B</td>\n",
       "      <td>positief</td>\n",
       "      <td>3</td>\n",
       "      <td>De wereld wordt eigenlijk gecontroleerd door e...</td>\n",
       "      <td>Categorie B: Wagens.</td>\n",
       "      <td>in een stad</td>\n",
       "      <td>...</td>\n",
       "      <td>10</td>\n",
       "      <td>6</td>\n",
       "      <td>10</td>\n",
       "      <td>7</td>\n",
       "      <td>7</td>\n",
       "      <td>2.0</td>\n",
       "      <td>1=Wolf,2=Vos,3=Bruine beer,4=Bizon,5=Panter,6=...</td>\n",
       "      <td>Management 1</td>\n",
       "      <td>Data science 1</td>\n",
       "      <td>&lt;= 10 uren</td>\n",
       "    </tr>\n",
       "    <tr>\n",
       "      <th>...</th>\n",
       "      <td>...</td>\n",
       "      <td>...</td>\n",
       "      <td>...</td>\n",
       "      <td>...</td>\n",
       "      <td>...</td>\n",
       "      <td>...</td>\n",
       "      <td>...</td>\n",
       "      <td>...</td>\n",
       "      <td>...</td>\n",
       "      <td>...</td>\n",
       "      <td>...</td>\n",
       "      <td>...</td>\n",
       "      <td>...</td>\n",
       "      <td>...</td>\n",
       "      <td>...</td>\n",
       "      <td>...</td>\n",
       "      <td>...</td>\n",
       "      <td>...</td>\n",
       "      <td>...</td>\n",
       "      <td>...</td>\n",
       "      <td>...</td>\n",
       "    </tr>\n",
       "    <tr>\n",
       "      <th>84</th>\n",
       "      <td>7/18</td>\n",
       "      <td>Rechts</td>\n",
       "      <td>45.0</td>\n",
       "      <td>185</td>\n",
       "      <td>O</td>\n",
       "      <td>negatief</td>\n",
       "      <td>0</td>\n",
       "      <td>De maanlanding is in scne gezet om de Russen ...</td>\n",
       "      <td>Categorie AM: Bromfietsen met een maximumsnelh...</td>\n",
       "      <td>buiten de stad (een dorp, een gehucht, het pla...</td>\n",
       "      <td>...</td>\n",
       "      <td>10</td>\n",
       "      <td>3</td>\n",
       "      <td>8</td>\n",
       "      <td>8</td>\n",
       "      <td>2</td>\n",
       "      <td>5.0</td>\n",
       "      <td>1=Panter,2=Poema,3=Wolf,4=Vos,5=Bever,6=Bruine...</td>\n",
       "      <td>Software engineering 1</td>\n",
       "      <td>User interfaces 1</td>\n",
       "      <td>26-30 uren</td>\n",
       "    </tr>\n",
       "    <tr>\n",
       "      <th>85</th>\n",
       "      <td>9/18</td>\n",
       "      <td>Rechts</td>\n",
       "      <td>43.0</td>\n",
       "      <td>184</td>\n",
       "      <td>O</td>\n",
       "      <td>Weet ik niet</td>\n",
       "      <td>2</td>\n",
       "      <td>De aanslagen van 9/11 in NY werden niet door t...</td>\n",
       "      <td>Categorie AM: Bromfietsen met een maximumsnelh...</td>\n",
       "      <td>buiten de stad (een dorp, een gehucht, het pla...</td>\n",
       "      <td>...</td>\n",
       "      <td>8</td>\n",
       "      <td>5</td>\n",
       "      <td>7</td>\n",
       "      <td>8</td>\n",
       "      <td>4</td>\n",
       "      <td>0.0</td>\n",
       "      <td>1=Panter,2=Poema,3=Vos,4=Wolf,5=Bruine beer,6=...</td>\n",
       "      <td>Data science 1</td>\n",
       "      <td>Programmeren 1 - Embedded</td>\n",
       "      <td>11-15 uren</td>\n",
       "    </tr>\n",
       "    <tr>\n",
       "      <th>86</th>\n",
       "      <td>4/18</td>\n",
       "      <td>Links</td>\n",
       "      <td>45.5</td>\n",
       "      <td>190</td>\n",
       "      <td>Weet ik niet</td>\n",
       "      <td>Weet ik niet</td>\n",
       "      <td>0</td>\n",
       "      <td>Prinses Diana kwam niet per ongeluk om het lev...</td>\n",
       "      <td>Categorie AM: Bromfietsen met een maximumsnelh...</td>\n",
       "      <td>in een stad</td>\n",
       "      <td>...</td>\n",
       "      <td>10</td>\n",
       "      <td>5</td>\n",
       "      <td>10</td>\n",
       "      <td>8</td>\n",
       "      <td>9</td>\n",
       "      <td>5.0</td>\n",
       "      <td>1=Wolf,2=Vos,3=Bruine beer,4=Bever,5=Das,6=Was...</td>\n",
       "      <td>User interfaces 1</td>\n",
       "      <td>Data science 1</td>\n",
       "      <td>16-20 uren</td>\n",
       "    </tr>\n",
       "    <tr>\n",
       "      <th>87</th>\n",
       "      <td>8/18</td>\n",
       "      <td>Rechts</td>\n",
       "      <td>45.0</td>\n",
       "      <td>188</td>\n",
       "      <td>A</td>\n",
       "      <td>positief</td>\n",
       "      <td>1</td>\n",
       "      <td>NaN</td>\n",
       "      <td>Categorie B: Wagens.</td>\n",
       "      <td>in een stad</td>\n",
       "      <td>...</td>\n",
       "      <td>8</td>\n",
       "      <td>6</td>\n",
       "      <td>6</td>\n",
       "      <td>7</td>\n",
       "      <td>6</td>\n",
       "      <td>4.0</td>\n",
       "      <td>1=Otter,2=Wasbeer,3=Vos,4=Bruine beer,5=Bever,...</td>\n",
       "      <td>Netwerken 1</td>\n",
       "      <td>Data science 1</td>\n",
       "      <td>16-20 uren</td>\n",
       "    </tr>\n",
       "    <tr>\n",
       "      <th>88</th>\n",
       "      <td>7/18</td>\n",
       "      <td>Rechts</td>\n",
       "      <td>43.0</td>\n",
       "      <td>176</td>\n",
       "      <td>B</td>\n",
       "      <td>positief</td>\n",
       "      <td>2</td>\n",
       "      <td>NaN</td>\n",
       "      <td>Categorie B: Wagens.</td>\n",
       "      <td>in een stad</td>\n",
       "      <td>...</td>\n",
       "      <td>10</td>\n",
       "      <td>5</td>\n",
       "      <td>4</td>\n",
       "      <td>9</td>\n",
       "      <td>3</td>\n",
       "      <td>9.0</td>\n",
       "      <td>1=Poema,2=Panter,3=Wolf,4=Bruine beer,5=Bizon,...</td>\n",
       "      <td>Data science 1</td>\n",
       "      <td>Programmeren 1 - Java</td>\n",
       "      <td>26-30 uren</td>\n",
       "    </tr>\n",
       "  </tbody>\n",
       "</table>\n",
       "<p>89 rows × 33 columns</p>\n",
       "</div>"
      ]
     },
     "metadata": {},
     "output_type": "display_data"
    }
   ],
   "execution_count": 33
  },
  {
   "cell_type": "markdown",
   "source": [
    "### Exercise 1:\n",
    "- Add a column to the data frame and place the stature of a person expressed in shoe size (i.e. height divided by shoe size)"
   ],
   "metadata": {
    "collapsed": false
   },
   "id": "439b67b46397307e"
  },
  {
   "cell_type": "code",
   "source": [
    "studentQuestions['stature'] = studentQuestions['lengte'] / studentQuestions['schoenmaat']\n",
    "display(studentQuestions[['stature','lengte','schoenmaat']])"
   ],
   "metadata": {
    "collapsed": false,
    "ExecuteTime": {
     "end_time": "2024-05-29T11:29:17.365716Z",
     "start_time": "2024-05-29T11:29:17.343964Z"
    }
   },
   "id": "226a017cd1abc68e",
   "outputs": [
    {
     "data": {
      "text/plain": [
       "     stature  lengte  schoenmaat\n",
       "0   4.279070     184        43.0\n",
       "1   3.880952     163        42.0\n",
       "2   4.066667     183        45.0\n",
       "3   3.977273     175        44.0\n",
       "4   4.023256     173        43.0\n",
       "..       ...     ...         ...\n",
       "84  4.111111     185        45.0\n",
       "85  4.279070     184        43.0\n",
       "86  4.175824     190        45.5\n",
       "87  4.177778     188        45.0\n",
       "88  4.093023     176        43.0\n",
       "\n",
       "[89 rows x 3 columns]"
      ],
      "text/html": [
       "<div>\n",
       "<style scoped>\n",
       "    .dataframe tbody tr th:only-of-type {\n",
       "        vertical-align: middle;\n",
       "    }\n",
       "\n",
       "    .dataframe tbody tr th {\n",
       "        vertical-align: top;\n",
       "    }\n",
       "\n",
       "    .dataframe thead th {\n",
       "        text-align: right;\n",
       "    }\n",
       "</style>\n",
       "<table border=\"1\" class=\"dataframe\">\n",
       "  <thead>\n",
       "    <tr style=\"text-align: right;\">\n",
       "      <th></th>\n",
       "      <th>stature</th>\n",
       "      <th>lengte</th>\n",
       "      <th>schoenmaat</th>\n",
       "    </tr>\n",
       "  </thead>\n",
       "  <tbody>\n",
       "    <tr>\n",
       "      <th>0</th>\n",
       "      <td>4.279070</td>\n",
       "      <td>184</td>\n",
       "      <td>43.0</td>\n",
       "    </tr>\n",
       "    <tr>\n",
       "      <th>1</th>\n",
       "      <td>3.880952</td>\n",
       "      <td>163</td>\n",
       "      <td>42.0</td>\n",
       "    </tr>\n",
       "    <tr>\n",
       "      <th>2</th>\n",
       "      <td>4.066667</td>\n",
       "      <td>183</td>\n",
       "      <td>45.0</td>\n",
       "    </tr>\n",
       "    <tr>\n",
       "      <th>3</th>\n",
       "      <td>3.977273</td>\n",
       "      <td>175</td>\n",
       "      <td>44.0</td>\n",
       "    </tr>\n",
       "    <tr>\n",
       "      <th>4</th>\n",
       "      <td>4.023256</td>\n",
       "      <td>173</td>\n",
       "      <td>43.0</td>\n",
       "    </tr>\n",
       "    <tr>\n",
       "      <th>...</th>\n",
       "      <td>...</td>\n",
       "      <td>...</td>\n",
       "      <td>...</td>\n",
       "    </tr>\n",
       "    <tr>\n",
       "      <th>84</th>\n",
       "      <td>4.111111</td>\n",
       "      <td>185</td>\n",
       "      <td>45.0</td>\n",
       "    </tr>\n",
       "    <tr>\n",
       "      <th>85</th>\n",
       "      <td>4.279070</td>\n",
       "      <td>184</td>\n",
       "      <td>43.0</td>\n",
       "    </tr>\n",
       "    <tr>\n",
       "      <th>86</th>\n",
       "      <td>4.175824</td>\n",
       "      <td>190</td>\n",
       "      <td>45.5</td>\n",
       "    </tr>\n",
       "    <tr>\n",
       "      <th>87</th>\n",
       "      <td>4.177778</td>\n",
       "      <td>188</td>\n",
       "      <td>45.0</td>\n",
       "    </tr>\n",
       "    <tr>\n",
       "      <th>88</th>\n",
       "      <td>4.093023</td>\n",
       "      <td>176</td>\n",
       "      <td>43.0</td>\n",
       "    </tr>\n",
       "  </tbody>\n",
       "</table>\n",
       "<p>89 rows × 3 columns</p>\n",
       "</div>"
      ]
     },
     "metadata": {},
     "output_type": "display_data"
    }
   ],
   "execution_count": 34
  },
  {
   "cell_type": "markdown",
   "source": [
    "### Exercise 2:\n",
    "- Someone claims that the ratio of height to shoe size of a human being is `4.2` with a standard deviation of `0.05`. Can you agree with this based on the data from the questionnaire? And from what significance level (`alpha`)?"
   ],
   "metadata": {
    "collapsed": false
   },
   "id": "e8f1254695876091"
  },
  {
   "cell_type": "code",
   "source": [
    "# Null Hypothesis (H0): The true ratio of height to shoe size is 4.2.\n",
    "# Alternative Hypothesis (H1): The true ratio of height to shoe size is not equal to 4.2.\n",
    "\n",
    "# Calculate the sample mean and standard deviation\n",
    "sample_mean = studentQuestions['stature'].mean()\n",
    "sample_std = studentQuestions['stature'].std()\n",
    "\n",
    "# Calculate the t-statistic\n",
    "n = len(studentQuestions)\n",
    "t_statistic = (sample_mean - 4.2) / (sample_std / math.sqrt(n))\n",
    "\n",
    "# Calculate the p-value\n",
    "p_value = 2 * (1 - student.cdf(abs(t_statistic), df=n - 1))\n",
    "\n",
    "# Set the significance level\n",
    "alpha = 0.05\n",
    "\n",
    "# Print the results\n",
    "if p_value < alpha:\n",
    "    print(colored(f\"Reject the null hypothesis. There is evidence to suggest that the ratio is different from 4.2.\", outputColor))\n",
    "else:\n",
    "    print(colored(f\"Fail to reject the null hypothesis. The data does not provide enough evidence to suggest a difference from 4.2.\", outputColor))\n",
    "    \n",
    "mu = 4.2\n",
    "data = ttest_1samp(studentQuestions['stature'], mu)\n",
    "print(colored(f\"P Value: {data.pvalue}\", outputColor))"
   ],
   "metadata": {
    "collapsed": false,
    "ExecuteTime": {
     "end_time": "2024-05-29T11:29:17.397262Z",
     "start_time": "2024-05-29T11:29:17.381938Z"
    }
   },
   "id": "c0d4588203e46fa1",
   "outputs": [
    {
     "name": "stdout",
     "output_type": "stream",
     "text": [
      "\u001B[34mReject the null hypothesis. There is evidence to suggest that the ratio is different from 4.2.\u001B[0m\n",
      "\u001B[34mP Value: 0.04564487432748237\u001B[0m\n"
     ]
    }
   ],
   "execution_count": 35
  },
  {
   "cell_type": "markdown",
   "source": [
    "### Exercise 3:\n",
    "- Determine the `99%` confidence interval for the distance to KdG (remove the outliers first!)."
   ],
   "metadata": {
    "collapsed": false
   },
   "id": "4763d5f4fbadd085"
  },
  {
   "cell_type": "code",
   "source": [
    "distance = no_outliers(studentQuestions['afstand tot KdG'])\n",
    "s = distance.std() # s = Sample standard deviation\n",
    "x_bar = distance.mean() # x_bar = Sample mean\n",
    "n = len(distance) # n = Population size\n",
    "df = n - 1 # df = Degrees of freedom\n",
    "p = 0.99 # p = Confidence level\n",
    "\n",
    "\n",
    "factor = student.ppf(p, df=df)                      # factor = Z-score\n",
    "print(colored(f\"Factor: {factor}\", outputColor))    # Z-score\n",
    "interval = student.interval(confidence=p, df=df, loc=x_bar, scale=s / math.sqrt(n))\n",
    "print(colored(f\"Confidence Interval: {interval}\", outputColor))"
   ],
   "metadata": {
    "collapsed": false,
    "ExecuteTime": {
     "end_time": "2024-05-29T11:29:17.443937Z",
     "start_time": "2024-05-29T11:29:17.432355Z"
    }
   },
   "id": "2b6f2cdb5583c35f",
   "outputs": [
    {
     "name": "stdout",
     "output_type": "stream",
     "text": [
      "Low:  -16.650000000000002\n",
      "High: 43.75\n",
      "Len:  89\n",
      "Outliers: [48. 44. 44.] \n",
      "\n",
      "\u001B[34mFactor: 2.371022043913763\u001B[0m\n",
      "\u001B[34mConfidence Interval: (10.652390235958102, 16.5383074384605)\u001B[0m\n"
     ]
    }
   ],
   "execution_count": 36
  },
  {
   "cell_type": "code",
   "source": [
    "plot_confidence_interval(n, x_bar, s, df, factor)"
   ],
   "metadata": {
    "collapsed": false,
    "ExecuteTime": {
     "end_time": "2024-05-29T11:29:17.819213Z",
     "start_time": "2024-05-29T11:29:17.503982Z"
    }
   },
   "id": "8e6c163c29ccc674",
   "outputs": [
    {
     "data": {
      "text/plain": [
       "<Figure size 1000x600 with 1 Axes>"
      ],
      "image/png": "[encoded data removed]"
     },
     "metadata": {},
     "output_type": "display_data"
    }
   ],
   "execution_count": 37
  },
  {
   "cell_type": "markdown",
   "source": [
    "### Exercise 4:\n",
    "- Someone claims that the average distance to KdG is `19` km. From what significance level (`alpha`) can you not refute the statement?"
   ],
   "metadata": {
    "collapsed": false
   },
   "id": "f56a43dca7238bc9"
  },
  {
   "cell_type": "code",
   "source": [
    "# Null Hypothesis (H0): The true average distance to KdG is 19 km.\n",
    "# Alternative Hypothesis (H1): The true average distance to KdG is not equal to 19 km.\n",
    "\n",
    "# Calculate the t-statistic\n",
    "mu=19\n",
    "data = ttest_1samp(distance,mu)\n",
    "print(colored(f\"P Value: {data.pvalue}\", outputColor))"
   ],
   "metadata": {
    "collapsed": false,
    "ExecuteTime": {
     "end_time": "2024-05-29T11:29:17.834879Z",
     "start_time": "2024-05-29T11:29:17.821774Z"
    }
   },
   "id": "cfe85b4d1d57ec5c",
   "outputs": [
    {
     "name": "stdout",
     "output_type": "stream",
     "text": [
      "\u001B[34mP Value: 5.769460649567065e-06\u001B[0m\n"
     ]
    }
   ],
   "execution_count": 38
  },
  {
   "cell_type": "markdown",
   "source": [
    "### Exercise 5:\n",
    "- Distribution among the different blood groups `{\"O\":0.45, \"A\":0.4, \"B\":0.1, \"AB\":0.05}`. Can you refute this based on the sample? Take `alpha = 0.05`."
   ],
   "metadata": {
    "collapsed": false
   },
   "id": "c30a24fc5fd3d4a"
  },
  {
   "cell_type": "code",
   "source": [
    "bloodType = studentQuestions['bloedgroep']\n",
    "\n",
    "oSum = 0\n",
    "aSum = 0\n",
    "bSum = 0\n",
    "abSum = 0\n",
    "\n",
    "for i in range(len(bloodType)):\n",
    "    if bloodType[i] == 'O':\n",
    "        oSum += 1\n",
    "    if bloodType[i] == 'A':\n",
    "        aSum += 1\n",
    "    if bloodType[i] == 'B':\n",
    "        bSum += 1\n",
    "    if bloodType[i] == 'AB':\n",
    "        abSum += 1\n",
    "total = oSum + aSum + bSum + abSum\n",
    "\n",
    "print(colored(f\"Amount of O: {oSum}\", outputColor))\n",
    "print(colored(f\"Amount of A: {aSum}\", outputColor))\n",
    "print(colored(f\"Amount of B: {bSum}\", outputColor))\n",
    "print(colored(f\"Amount of AB: {abSum}\", outputColor))\n",
    "print(colored(f\"Total: {total}\", outputColor))"
   ],
   "metadata": {
    "collapsed": false,
    "ExecuteTime": {
     "end_time": "2024-05-29T11:29:17.866311Z",
     "start_time": "2024-05-29T11:29:17.852500Z"
    }
   },
   "id": "56bd13e101664436",
   "outputs": [
    {
     "name": "stdout",
     "output_type": "stream",
     "text": [
      "\u001B[34mAmount of O: 27\u001B[0m\n",
      "\u001B[34mAmount of A: 18\u001B[0m\n",
      "\u001B[34mAmount of B: 7\u001B[0m\n",
      "\u001B[34mAmount of AB: 3\u001B[0m\n",
      "\u001B[34mTotal: 55\u001B[0m\n"
     ]
    }
   ],
   "execution_count": 39
  },
  {
   "cell_type": "code",
   "source": [
    "measured_values = [oSum, aSum, bSum, abSum]\n",
    "expected_values = [total * 0.45, total * 0.4, total * 0.1, total * 0.05]\n",
    "data = chisquare(measured_values, expected_values)\n",
    "print(colored(f\"X^2 Value: {round(data.statistic, 3)}\", outputColor))\n",
    "print(colored(f\"P Value: {round(data.pvalue, 3)}\", outputColor))\n",
    "\n",
    "\n",
    "p = 0.95\n",
    "df = len(measured_values) - 1\n",
    "critical_value = chi2.ppf(p, df=df)\n",
    "print(colored(f\"Critical value: {critical_value}\", outputColor))\n",
    "\n",
    "if data.statistic < critical_value:\n",
    "    print(colored(f\"H0 can not be rejected with 95% confidence.\", outputColor))\n",
    "else:\n",
    "    print(colored(f\"H0 can be rejected with 95% confidence.\", outputColor))"
   ],
   "metadata": {
    "collapsed": false,
    "ExecuteTime": {
     "end_time": "2024-05-29T11:29:17.960023Z",
     "start_time": "2024-05-29T11:29:17.938351Z"
    }
   },
   "id": "4a35e166afaca94d",
   "outputs": [
    {
     "name": "stdout",
     "output_type": "stream",
     "text": [
      "\u001B[34mX^2 Value: 1.364\u001B[0m\n",
      "\u001B[34mP Value: 0.714\u001B[0m\n",
      "\u001B[34mCritical value: 7.814727903251179\u001B[0m\n",
      "\u001B[34mH0 can not be rejected with 95% confidence.\u001B[0m\n"
     ]
    }
   ],
   "execution_count": 40
  }
 ],
 "metadata": {
  "kernelspec": {
   "display_name": "Python 3",
   "language": "python",
   "name": "python3"
  },
  "language_info": {
   "codemirror_mode": {
    "name": "ipython",
    "version": 2
   },
   "file_extension": ".py",
   "mimetype": "text/x-python",
   "name": "python",
   "nbconvert_exporter": "python",
   "pygments_lexer": "ipython2",
   "version": "2.7.6"
  }
 },
 "nbformat": 4,
 "nbformat_minor": 5
}

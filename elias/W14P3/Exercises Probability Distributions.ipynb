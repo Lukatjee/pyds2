{
 "cells": [
  {
   "cell_type": "markdown",
   "source": [
    "# Exercises Probability Distributions"
   ],
   "metadata": {
    "collapsed": false
   },
   "id": "fc11ae5046d6cd48"
  },
  {
   "cell_type": "code",
   "source": [
    "from termcolor import colored # type: ignore                                          # Colored text\n",
    "from random import Random  # type: ignore                                             # Random number generator\n",
    "import math  # type: ignore                                                           # Mathematical functions\n",
    "import pandas as pd  # type: ignore                                                   # Data manipulation\n",
    "import numpy as np  # type: ignore                                                    # Scientific computing\n",
    "import matplotlib.pyplot as plt  # type: ignore                                       # Data visualization\n",
    "from scipy.stats import binom as binomial  # type: ignore                             # Binomial distribution\n",
    "from scipy.stats import norm as normal  # type: ignore                                # Normal distribution\n",
    "from scipy.stats import poisson as poisson  # type: ignore                            # Poisson distribution\n",
    "from scipy.stats import t as student  # type: ignore                                  # Student distribution\n",
    "from scipy.stats import chi2  # type: ignore                                          # Chi-squared distribution\n",
    "from scipy.stats import ttest_1samp  # type: ignore                                   # One-sample t-test\n",
    "from scipy.stats import chisquare  # type: ignore                                     # Chi-squared test\n",
    "from scipy.special import comb  # type: ignore                                        # Combinations\n",
    "from mlxtend.frequent_patterns import apriori  # type: ignore                         # Apriori algorithm\n",
    "from mlxtend.frequent_patterns import fpgrowth  # type: ignore                        # FP-growth algorithm\n",
    "from mlxtend.frequent_patterns import association_rules  # type: ignore               # Association rules\n",
    "from mlxtend.preprocessing import TransactionEncoder  # type: ignore                  # Transaction encoder\n",
    "from sklearn.discriminant_analysis import LinearDiscriminantAnalysis  # type: ignore  # Discriminant Analysis\n",
    "from tensorflow import keras  # type: ignore                                          # Deep Learning library\n",
    "from tensorflow.keras import Model  # type: ignore                                    # Model class\n",
    "from tensorflow.keras.layers import Input, Dense, BatchNormalization  # type: ignore  # Layers\n",
    "from tensorflow.keras.utils import to_categorical  # type: ignore                     # One-hot encoding\n",
    "from tensorflow.keras.optimizers import Adam  # type: ignore                          # Optimizer\n",
    "from livelossplot import PlotLossesKeras  # type: ignore                              # Live plot\n",
    "from keras.src.optimizers import RMSprop  # type: ignore                              # Optimizer\n",
    "from sklearn.model_selection import train_test_split  # type: ignore                  # Train-test split\n",
    "from sklearn.metrics import roc_auc_score # type: ignore                              # ROC AUC score\n",
    "from simanneal import Annealer  # type: ignore                                        # Simulated Annealing\n",
    "from inspyred import ec  # type: ignore                                               # Evolutionary Computation\n",
    "import warnings  # type: ignore                                                       # Disable warnings\n",
    "from Resources.Functions import *  # type: ignore                                     # Custom functions\n",
    "warnings.filterwarnings(\"ignore\")                                                     # Disable warnings\n",
    "outputColor = \"blue\"                                                                  # Color for the output"
   ],
   "metadata": {
    "collapsed": false,
    "ExecuteTime": {
     "end_time": "2024-05-29T10:12:57.385927Z",
     "start_time": "2024-05-29T10:12:57.363955Z"
    }
   },
   "id": "5cab674da4efc16e",
   "outputs": [],
   "execution_count": 36
  },
  {
   "cell_type": "markdown",
   "source": [
    "## Theoretical questions"
   ],
   "metadata": {
    "collapsed": false
   },
   "id": "d66cd879508e8eb4"
  },
  {
   "cell_type": "markdown",
   "source": [
    "### Question 1:\n",
    "Luna rolls a die `4` times (answer with `4` significant figures):\n",
    "- What is the probability of exactly one `6`?\n",
    "- What is the probability of getting four sixes?\n",
    "- What is the probability of `2` rolls below `3` and `2` rolls `3` or higher?\n"
   ],
   "metadata": {
    "collapsed": false
   },
   "id": "8dcce8d70aac0bac"
  },
  {
   "cell_type": "code",
   "source": [
    "# Technique used: The Binomial Distribution\n",
    "\n",
    "k = 1        # Probability of exactly k successes\n",
    "n = 4        # Number of trials\n",
    "p = 1 / 6    # Probability of success in each trial\n",
    "probability = binomial.pmf(k, n, p)\n",
    "print(colored(f\"1. The probability is as follows: {round(probability, 4)} or {round(probability * 100, 4)}%.\", outputColor))\n",
    "\n",
    "k = 4        # Probability of exactly k successes\n",
    "n = 4        # Number of trials\n",
    "p = 1 / 6    # Probability of success in each trial\n",
    "probability = binomial.pmf(k, n, p)\n",
    "print(colored(f\"2. The probability is as follows: {round(probability, 4)} or {round(probability * 100, 4)}%.\", outputColor))\n",
    "\n",
    "k = 1        # Probability of exactly k successes\n",
    "n = 4        # Number of trials\n",
    "p = 2 / 6    # Probability of success in each trial\n",
    "probability = binomial.pmf(k, n, p)\n",
    "print(colored(f\"3. The probability is as follows: {round(probability, 4)} or {round(probability * 100, 4)}%.\", outputColor))"
   ],
   "metadata": {
    "collapsed": false,
    "ExecuteTime": {
     "end_time": "2024-05-29T10:12:57.681258Z",
     "start_time": "2024-05-29T10:12:57.669013Z"
    }
   },
   "id": "f61d5f3c36d4ed95",
   "outputs": [
    {
     "name": "stdout",
     "output_type": "stream",
     "text": [
      "\u001B[34m1. The probability is as follows: 0.3858 or 38.5802%.\u001B[0m\n",
      "\u001B[34m2. The probability is as follows: 0.0008 or 0.0772%.\u001B[0m\n",
      "\u001B[34m3. The probability is as follows: 0.3951 or 39.5062%.\u001B[0m\n"
     ]
    }
   ],
   "execution_count": 37
  },
  {
   "cell_type": "markdown",
   "source": [
    "### Question 2:\n",
    "`6` Applied Computer Science students must take an `English` test. The probability of passing the exam `0.75`.\n",
    "- What is the probability that exactly `4` of them will succeed?\n",
    "- What is the probability that exactly `5` of them will succeed?\n",
    "- What is the probability that exactly `6` of them will succeed?\n",
    "- What is the probability that less than `4` of them will succeed?"
   ],
   "metadata": {
    "collapsed": false
   },
   "id": "ac6e6a8db97c7653"
  },
  {
   "cell_type": "code",
   "source": [
    "# Technique used: The Binomial Distribution\n",
    "\n",
    "k = 4        # Probability of exactly k successes\n",
    "n = 6        # Number of trials\n",
    "p = 3 / 4    # Probability of success in each trial\n",
    "probability = binomial.pmf(k, n, p)\n",
    "print(colored(f\"1. The probability is as follows: {round(probability, 4)} or {round(probability * 100, 4)}%.\", outputColor))\n",
    "\n",
    "k = 5        # Probability of exactly k successes\n",
    "n = 6        # Number of trials\n",
    "p = 3 / 4    # Probability of success in each trial\n",
    "probability = binomial.pmf(k, n, p)\n",
    "print(colored(f\"2. The probability is as follows: {round(probability, 4)} or {round(probability * 100, 4)}%.\", outputColor))\n",
    "\n",
    "k = 6        # Probability of exactly k successes\n",
    "n = 6        # Number of trials\n",
    "p = 3 / 4    # Probability of success in each trial\n",
    "probability = binomial.pmf(k, n, p)\n",
    "print(colored(f\"3. The probability is as follows: {round(probability, 4)} or {round(probability * 100, 4)}%.\", outputColor))\n",
    "\n",
    "k = 3        # Probability of exactly k successes\n",
    "n = 6        # Number of trials\n",
    "p = 3 / 4    # Probability of success in each trial\n",
    "probability = binomial.cdf(k, n, p)\n",
    "print(colored(f\"4. The probability is as follows: {round(probability, 4)} or {round(probability * 100, 4)}%.\", outputColor))"
   ],
   "metadata": {
    "collapsed": false,
    "ExecuteTime": {
     "end_time": "2024-05-29T10:12:57.743244Z",
     "start_time": "2024-05-29T10:12:57.729604Z"
    }
   },
   "id": "ce4e897992fd055a",
   "outputs": [
    {
     "name": "stdout",
     "output_type": "stream",
     "text": [
      "\u001B[34m1. The probability is as follows: 0.2966 or 29.6631%.\u001B[0m\n",
      "\u001B[34m2. The probability is as follows: 0.356 or 35.5957%.\u001B[0m\n",
      "\u001B[34m3. The probability is as follows: 0.178 or 17.7979%.\u001B[0m\n",
      "\u001B[34m4. The probability is as follows: 0.1694 or 16.9434%.\u001B[0m\n"
     ]
    }
   ],
   "execution_count": 38
  },
  {
   "cell_type": "markdown",
   "source": [
    "### Question 3:\n",
    "On the way to the school, you pass `6` traffic lights. Unfortunately, these are not synchronized at all. They work completely independently of each other. The traffic lights are red approximately `40%` of the time.\n",
    "- What is the probability that you don't see a single red light on the road?\n",
    "- What is the probability that all traffic lights are red?\n",
    "- What is the probability of encountering more than `2` lights on red?\n",
    "- If you know that you lose an average of `2` minutes per red light. How much time do you expect to lose on average on a route?\n"
   ],
   "metadata": {
    "collapsed": false
   },
   "id": "52f18b95661cc892"
  },
  {
   "cell_type": "code",
   "source": [
    "# Technique used: The Binomial Distribution\n",
    "\n",
    "k = 0        # Probability of exactly k successes\n",
    "n = 6        # Number of trials\n",
    "p = 4 / 10   # Probability of success in each trial\n",
    "probability = binomial.pmf(k, n, p)\n",
    "print(colored(f\"1. The probability is as follows: {round(probability, 4)} or {round(probability * 100, 4)}%.\", outputColor))\n",
    "\n",
    "k = 6        # Probability of exactly k successes\n",
    "n = 6        # Number of trials\n",
    "p = 4 / 10   # Probability of success in each trial\n",
    "probability = binomial.pmf(k, n, p)\n",
    "print(colored(f\"2. The probability is as follows: {round(probability, 4)} or {round(probability * 100, 4)}%.\", outputColor))\n",
    "\n",
    "k = 2        # Probability of exactly k successes\n",
    "n = 6        # Number of trials\n",
    "p = 4 / 10   # Probability of success in each trial\n",
    "probability = 1 - binomial.cdf(k, n, p)\n",
    "print(colored(f\"4. The probability is as follows: {round(probability, 4)} or {round(probability * 100, 4)}%.\", outputColor))\n",
    "\n",
    "n=6        # Number of trials\n",
    "p=4/10     # Probability of success in each trial\n",
    "probability = binomial.mean(n, p)\n",
    "print(colored(f\"5. I suspect to lose {round(probability * 2, 4)} minutes.\", outputColor))"
   ],
   "metadata": {
    "collapsed": false,
    "ExecuteTime": {
     "end_time": "2024-05-29T10:12:57.773153Z",
     "start_time": "2024-05-29T10:12:57.760366Z"
    }
   },
   "id": "42e449944e3abeaf",
   "outputs": [
    {
     "name": "stdout",
     "output_type": "stream",
     "text": [
      "\u001B[34m1. The probability is as follows: 0.0467 or 4.6656%.\u001B[0m\n",
      "\u001B[34m2. The probability is as follows: 0.0041 or 0.4096%.\u001B[0m\n",
      "\u001B[34m4. The probability is as follows: 0.4557 or 45.568%.\u001B[0m\n",
      "\u001B[34m5. I suspect to lose 4.8 minutes.\u001B[0m\n"
     ]
    }
   ],
   "execution_count": 39
  },
  {
   "cell_type": "markdown",
   "source": [
    "### Question 4:\n",
    "If you cycle to school, you will have a flat tire on average `2` a year.\n",
    "- What is the probability that you will not have a flat tire in a given year?\n",
    "- What is the probability that you will have more than `3` flat tires in a year?\n",
    "- What is the probability that you will have `2` flat tires in `1` month?"
   ],
   "metadata": {
    "collapsed": false
   },
   "id": "82996318cf7a7ab5"
  },
  {
   "cell_type": "code",
   "source": [
    "# Technique used: The Poisson Distribution\n",
    "\n",
    "x = 0         # Number of events\n",
    "y = 2         # Average number of events\n",
    "probability = poisson.pmf(x, y)\n",
    "print(colored(f\"1. The probability is as follows: {round(probability, 4)} or {round(probability * 100, 4)}%.\", outputColor))\n",
    "\n",
    "x = 3         # Number of events\n",
    "y = 2         # Average number of events\n",
    "probability = 1 - poisson.cdf(x, y)\n",
    "print(colored(f\"2. The probability is as follows: {round(probability, 4)} or {round(probability * 100, 4)}%.\", outputColor))\n",
    "\n",
    "x = 2         # Number of events\n",
    "y = 2 / 12    # Average number of events\n",
    "probability = poisson.pmf(x, y)\n",
    "print(colored(f\"1. The probability is as follows: {round(probability, 4)} or {round(probability * 100, 4)}%.\", outputColor))"
   ],
   "metadata": {
    "collapsed": false,
    "ExecuteTime": {
     "end_time": "2024-05-29T10:12:57.834070Z",
     "start_time": "2024-05-29T10:12:57.821220Z"
    }
   },
   "id": "d45ccf151811f954",
   "outputs": [
    {
     "name": "stdout",
     "output_type": "stream",
     "text": [
      "\u001B[34m1. The probability is as follows: 0.1353 or 13.5335%.\u001B[0m\n",
      "\u001B[34m2. The probability is as follows: 0.1429 or 14.2877%.\u001B[0m\n",
      "\u001B[34m1. The probability is as follows: 0.0118 or 1.1757%.\u001B[0m\n"
     ]
    }
   ],
   "execution_count": 40
  },
  {
   "cell_type": "markdown",
   "source": [
    "### Question 5:\n",
    "A user receives an average of `20` emails per day. One day he gets `100` and wonders if this is still normal.\n",
    "- What is the probability that he will receive more than `100` emails in one day?\n",
    "- What is the probability that he will get more than `30` in one day?\n",
    "- What is the probability that he will get exactly `20` in one day?\n",
    "- What is the probability that he will get `10` or less in a day?\n",
    "- What is the probability that he will get `650` or less in a month (`30` days)?"
   ],
   "metadata": {
    "collapsed": false
   },
   "id": "620d7b7bdcad6009"
  },
  {
   "cell_type": "code",
   "source": [
    "# Technique used: The Poisson Distribution\n",
    "\n",
    "x = 100        # Number of events\n",
    "y = 20         # Average number of events\n",
    "probability = poisson.pmf(x, y)\n",
    "print(colored(f\"1. The probability is as follows: {round(probability, 37)} or {round(probability * 100, 37)}%.\", outputColor))\n",
    "\n",
    "x = 30         # Number of events\n",
    "y = 20         # Average number of events\n",
    "probability = 1 - poisson.cdf(x, y)\n",
    "print(colored(f\"2. The probability is as follows: {round(probability, 4)} or {round(probability * 100, 4)}%.\", outputColor))\n",
    "\n",
    "x = 20         # Number of events\n",
    "y = 20         # Average number of events\n",
    "probability = poisson.pmf(x, y)\n",
    "print(colored(f\"3. The probability is as follows: {round(probability, 4)} or {round(probability * 100, 4)}%.\", outputColor))\n",
    "\n",
    "x = 10         # Number of events\n",
    "y = 20         # Average number of events\n",
    "probability = poisson.cdf(x, y)\n",
    "print(colored(f\"4. The probability is as follows: {round(probability, 4)} or {round(probability * 100, 4)}%.\", outputColor))\n",
    "\n",
    "x = 650         # Number of events\n",
    "y = 20 * 30     # Average number of events\n",
    "probability = poisson.cdf(x, y)\n",
    "print(colored(f\"5. The probability is as follows: {round(probability, 4)} or {round(probability * 100, 4)}%.\", outputColor))"
   ],
   "metadata": {
    "collapsed": false,
    "ExecuteTime": {
     "end_time": "2024-05-29T10:12:57.927292Z",
     "start_time": "2024-05-29T10:12:57.913284Z"
    }
   },
   "id": "578c8e73692e80b7",
   "outputs": [
    {
     "name": "stdout",
     "output_type": "stream",
     "text": [
      "\u001B[34m1. The probability is as follows: 3.0000000000000004e-37 or 2.8000000000000005e-35%.\u001B[0m\n",
      "\u001B[34m2. The probability is as follows: 0.0135 or 1.3475%.\u001B[0m\n",
      "\u001B[34m3. The probability is as follows: 0.0888 or 8.8835%.\u001B[0m\n",
      "\u001B[34m4. The probability is as follows: 0.0108 or 1.0812%.\u001B[0m\n",
      "\u001B[34m5. The probability is as follows: 0.9793 or 97.9346%.\u001B[0m\n"
     ]
    }
   ],
   "execution_count": 41
  },
  {
   "cell_type": "markdown",
   "source": [
    "### Question 6:\n",
    "An average of `3.5` bitcoin transactions are carried out per second. However, the maximum number of transactions the network can process is `7` per second.\n",
    "- What is the probability that more than `7` transactions need to be executed during one second?\n",
    "- What is the probability that there is no transaction for one second?\n",
    "- What is the probability that there are `3` or fewer transactions during a second?\n",
    "- What is the probability that there are `2` or more transactions during a second?\n",
    "- How many transactions do you expect in a day?"
   ],
   "metadata": {
    "collapsed": false
   },
   "id": "6070de44bfdfd33"
  },
  {
   "cell_type": "code",
   "source": [
    "# Technique used: The Poisson Distribution\n",
    "\n",
    "x = 7           # Number of events\n",
    "y = 3.5         # Average number of events\n",
    "probability = 1 - poisson.cdf(x, y)\n",
    "print(colored(f\"1. The probability is as follows: {round(probability, 4)} or {round(probability * 100, 4)}%.\", outputColor))\n",
    "\n",
    "x = 0           # Number of events\n",
    "y = 3.5         # Average number of events\n",
    "probability = poisson.pmf(x, y)\n",
    "print(colored(f\"2. The probability is as follows: {round(probability, 4)} or {round(probability * 100, 4)}%.\", outputColor))\n",
    "\n",
    "x = 3           # Number of events\n",
    "y = 3.5         # Average number of events\n",
    "probability = poisson.cdf(x, y)\n",
    "print(colored(f\"3. The probability is as follows: {round(probability, 4)} or {round(probability * 100, 4)}%.\", outputColor))\n",
    "\n",
    "x = 1         # Number of events\n",
    "y = 3.5       # Average number of events\n",
    "probability = 1 - poisson.cdf(x, y)\n",
    "print(colored(f\"4. The probability is as follows: {round(probability, 4)} or {round(probability * 100, 4)}%.\", outputColor))\n",
    "\n",
    "y = 3.5       # Average number of events\n",
    "probability = poisson.mean(y * 60 * 60 * 24)\n",
    "print(colored(f\"5. Average amount of transactions that are being processed: {probability}\", outputColor))"
   ],
   "metadata": {
    "collapsed": false,
    "ExecuteTime": {
     "end_time": "2024-05-29T10:15:01.076709Z",
     "start_time": "2024-05-29T10:15:01.063341Z"
    }
   },
   "id": "d18f832b04f4acf8",
   "outputs": [
    {
     "name": "stdout",
     "output_type": "stream",
     "text": [
      "\u001B[34m1. The probability is as follows: 0.0267 or 2.6739%.\u001B[0m\n",
      "\u001B[34m2. The probability is as follows: 0.0302 or 3.0197%.\u001B[0m\n",
      "\u001B[34m3. The probability is as follows: 0.5366 or 53.6633%.\u001B[0m\n",
      "\u001B[34m4. The probability is as follows: 0.8641 or 86.4112%.\u001B[0m\n",
      "\u001B[34m5. Average amount of transactions that are being processed: 302400.0\u001B[0m\n"
     ]
    }
   ],
   "execution_count": 67
  },
  {
   "cell_type": "markdown",
   "source": [
    "### Question 7:\n",
    "A test consists of `40` questions and the average difficulty of the questions is `0.85` (the probability of a correct answer is `0.85`). Students receive `1` point per question. Which of the following values are the correct-expected value and standard deviation of the score on this test?\n",
    "- µ=34 and ơ=2.26\n",
    "- µ=29 and ơ=2.26\n",
    "- µ=34 and ơ=5.10\n",
    "- µ=29 and ơ=5.10"
   ],
   "metadata": {
    "collapsed": false
   },
   "id": "cc61bae3d109394c"
  },
  {
   "cell_type": "code",
   "source": [
    "# Technique used: The Binomial Distribution\n",
    "\n",
    "n = 40            # Number of trials\n",
    "p = 0.85          # Probability of success in each trial\n",
    "probability=binomial.mean(n,p)\n",
    "print(colored(f\"This is the average (µ) score: {probability}\", outputColor))\n",
    "\n",
    "n = 40            # Number of trials\n",
    "p = 0.85          # Probability of success in each trial\n",
    "probability = binomial.std(n,p)\n",
    "print(colored(f\"This is the standard (ơ) deviation: {round(probability, 2)}\", outputColor))"
   ],
   "metadata": {
    "collapsed": false,
    "ExecuteTime": {
     "end_time": "2024-05-29T10:12:58.082679Z",
     "start_time": "2024-05-29T10:12:58.067782Z"
    }
   },
   "id": "44bfac8b48ddafd0",
   "outputs": [
    {
     "name": "stdout",
     "output_type": "stream",
     "text": [
      "\u001B[34mThis is the average (µ) score: 34.0\u001B[0m\n",
      "\u001B[34mThis is the standard (ơ) deviation: 2.26\u001B[0m\n"
     ]
    }
   ],
   "execution_count": 43
  },
  {
   "cell_type": "markdown",
   "source": [
    "### Question 8:\n",
    "Voor de standaardNormal distribution, wat zijn de volgende kansen?\n",
    "- P(Z ≥ +1.64)\n",
    "- P(Z ≥ -1.32)\n",
    "- P(Z ≤ -0.18)\n",
    "- P(Z ≤ +1.28)\n",
    "- P(0.45 ≤ Z ≤ 0.92)\n",
    "- P(-0.72 ≤ Z ≤ -0.38)\n"
   ],
   "metadata": {
    "collapsed": false
   },
   "id": "38274c4c7bf85d7a"
  },
  {
   "cell_type": "code",
   "source": [
    "# Technique used: Normal Distribution\n",
    "\n",
    "x = 1.64          # Value\n",
    "probability = 1 - normal.cdf(x)\n",
    "print(colored(f\"1. The probability is as follows: {round(probability, 4)} or {round(probability * 100, 4)}%\", outputColor))\n",
    "\n",
    "x = -1.32         # Value\n",
    "probability = 1 - normal.cdf(x)\n",
    "print(colored(f\"2. The probability is as follows: {round(probability, 4)} or {round(probability * 100, 4)}%.\", outputColor))\n",
    "\n",
    "x = -0.18         # Value\n",
    "probability = normal.cdf(x)\n",
    "print(colored(f\"3. The probability is as follows: {round(probability, 4)} or {round(probability * 100, 4)}%.\", outputColor))\n",
    "\n",
    "x = 1.28          # Value\n",
    "probability = normal.cdf(x)\n",
    "print(colored(f\"4. The probability is as follows: {round(probability, 4)} or {round(probability * 100, 4)}%.\", outputColor))\n",
    "\n",
    "x1 = 0.92         # Value\n",
    "x2 = 0.45         # Value\n",
    "probability = normal.cdf(x1) - normal.cdf(x2)\n",
    "print(colored(f\"5. The probability is as follows: {round(probability, 4)} or {round(probability * 100, 4)}%.\", outputColor))\n",
    "\n",
    "x1 = -0.38        # Value\n",
    "x2 = -0.72        # Value\n",
    "probability = normal.cdf(x1) - normal.cdf(x2)\n",
    "print(colored(f\"5. The probability is as follows: {round(probability, 4)} or {round(probability * 100, 4)}%.\", outputColor))"
   ],
   "metadata": {
    "collapsed": false,
    "ExecuteTime": {
     "end_time": "2024-05-29T10:16:17.866020Z",
     "start_time": "2024-05-29T10:16:17.842140Z"
    }
   },
   "id": "a1a696d807d4c60a",
   "outputs": [
    {
     "name": "stdout",
     "output_type": "stream",
     "text": [
      "\u001B[34m1. The probability is as follows: 0.0505 or 5.0503%\u001B[0m\n",
      "\u001B[34m2. The probability is as follows: 0.9066 or 90.6582%.\u001B[0m\n",
      "\u001B[34m3. The probability is as follows: 0.4286 or 42.8576%.\u001B[0m\n",
      "\u001B[34m4. The probability is as follows: 0.8997 or 89.9727%.\u001B[0m\n",
      "\u001B[34m5. The probability is as follows: 0.1476 or 14.7569%.\u001B[0m\n",
      "\u001B[34m5. The probability is as follows: 0.1162 or 11.621%.\u001B[0m\n"
     ]
    }
   ],
   "execution_count": 68
  },
  {
   "cell_type": "markdown",
   "source": [
    "### Question 9:\n",
    "In a class, the average hair length is normally distributed `µ=20cm` and `ơ=4`. What are the next opportunities?\n",
    "- The probability that someone's hair is longer than `28cm`\n",
    "- The chance that someone's hair is shorter than `16cm`\n",
    "- The chance that someone has hair between `18cm` and `22cm`"
   ],
   "metadata": {
    "collapsed": false
   },
   "id": "ee5c4b5a82eb1955"
  },
  {
   "cell_type": "code",
   "source": [
    "# Technique used: Normal Distribution\n",
    "\n",
    "x = 28            # Value\n",
    "mean = 20         # Average Number\n",
    "std = 4           # Standard Deviation\n",
    "probability = 1 - normal.cdf(x, mean, std)\n",
    "print(colored(f\"1. The probability is as follows: {round(probability, 4)} or {round(probability * 100, 4)}%.\", outputColor))\n",
    "\n",
    "x = 16            # Value\n",
    "mean = 20         # Average Number\n",
    "std = 4           # Standard Deviation\n",
    "probability = normal.cdf(x, mean, std)\n",
    "print(colored(f\"2. The probability is as follows: {round(probability, 4)} or {round(probability * 100, 4)}%.\", outputColor))\n",
    "\n",
    "x1 = 22           # Value\n",
    "x2 = 18           # Value\n",
    "mean = 20         # Average Number\n",
    "std = 4           # Standard Deviation\n",
    "probability = normal.cdf(x1, mean, std) - normal.cdf(x2, mean, std)\n",
    "print(colored(f\"3. The probability is as follows: {round(probability, 4)} or {round(probability * 100, 4)}%.\", outputColor))"
   ],
   "metadata": {
    "collapsed": false,
    "ExecuteTime": {
     "end_time": "2024-05-29T10:12:58.146327Z",
     "start_time": "2024-05-29T10:12:58.132210Z"
    }
   },
   "id": "cff83f626304373",
   "outputs": [
    {
     "name": "stdout",
     "output_type": "stream",
     "text": [
      "\u001B[34m1. The probability is as follows: 0.0228 or 2.275%.\u001B[0m\n",
      "\u001B[34m2. The probability is as follows: 0.1587 or 15.8655%.\u001B[0m\n",
      "\u001B[34m3. The probability is as follows: 0.3829 or 38.2925%.\u001B[0m\n"
     ]
    }
   ],
   "execution_count": 45
  },
  {
   "cell_type": "markdown",
   "source": [
    "### Question 10:\n",
    "We are building a website with a competition with different questions. The scores for the match are normally distributed with `µ=50` and `ơ=5`.\n",
    "- What is the probability that a randomly selected score on this match is lower than `40`?\n",
    "- What is the probability that a randomly selected score on this match falls between `42` and `52`?\n",
    "- Anyone who achieves a score higher than `58.75` will receive a special prize with a mention in the newspaper. If `75` people participate, how many will win a special prize?"
   ],
   "metadata": {
    "collapsed": false
   },
   "id": "d6410f46d520b3c4"
  },
  {
   "cell_type": "code",
   "source": [
    "# Technique used: Normal Distribution\n",
    "\n",
    "x = 40            # Value\n",
    "mean = 50         # Average Number\n",
    "std = 5           # Standard Deviation\n",
    "probability = normal.cdf(x, mean, std)\n",
    "print(colored(f\"1. The probability is as follows: {round(probability, 4)} or {round(probability * 100, 4)}%.\", outputColor))\n",
    "\n",
    "x1 = 52           # Value\n",
    "x2 = 42           # Value\n",
    "mean = 50         # Average Number\n",
    "std = 5           # Standard Deviation\n",
    "probability = normal.cdf(x1, mean, std) - normal.cdf(x2, mean, std)\n",
    "print(colored(f\"2. The probability is as follows: {round(probability, 4)} or {round(probability * 100, 4)}%.\", outputColor))\n",
    "\n",
    "x = 58.75         # Value\n",
    "mean = 50         # Average Number\n",
    "std = 5           # Standard Deviation\n",
    "probability = 1 - normal.cdf(x, mean, std)\n",
    "print(colored(f\"3. The probability is as follows: {round(probability, 4)} or {round(probability * 100, 4)}%.\", outputColor))"
   ],
   "metadata": {
    "collapsed": false,
    "ExecuteTime": {
     "end_time": "2024-05-29T10:12:58.241361Z",
     "start_time": "2024-05-29T10:12:58.222310Z"
    }
   },
   "id": "a568b487cdf6735b",
   "outputs": [
    {
     "name": "stdout",
     "output_type": "stream",
     "text": [
      "\u001B[34m1. The probability is as follows: 0.0228 or 2.275%.\u001B[0m\n",
      "\u001B[34m2. The probability is as follows: 0.6006 or 60.0622%.\u001B[0m\n",
      "\u001B[34m3. The probability is as follows: 0.0401 or 4.0059%.\u001B[0m\n"
     ]
    }
   ],
   "execution_count": 46
  },
  {
   "cell_type": "markdown",
   "source": [
    "### Question 11:\n",
    "In an IQ test, the expected value is 100 (normally distributed). In Antwerp the standard deviation is `15`, in Ghent it is `18`.\n",
    "- What is the probability that someone in Antwerp has an IQ greater than `120`?\n",
    "- With what IQ do you belong to the people in Antwerp who have the `16%` lowest scores?\n",
    "- What IQ (or more) do the `5%` smartest people in Ghent have?\n",
    "- What is the ratio of Antwerp residents to Ghent residents for scores above `130`?\n",
    "    1. `1:1`\n",
    "    2. `1:2`\n",
    "    3. `1:3`\n",
    "    4. `5:6`"
   ],
   "metadata": {
    "collapsed": false
   },
   "id": "e975e1091a10f93d"
  },
  {
   "cell_type": "code",
   "source": [
    "# Technique used: Normal Distribution\n",
    "\n",
    "print(colored(f\"NOTE:\\n  IQ < 60 = Under average\\n  IQ > 120 = Gifted\\n  IQ > 130 = Very gifted\\n\", outputColor))\n",
    "\n",
    "x = 120           # Value\n",
    "mean = 100        # Average Number\n",
    "std = 15          # Standard Deviation\n",
    "probability = 1 - normal.cdf(x, mean, std)\n",
    "print(colored(f\"1. The probability is as follows: {round(probability, 4)} or {round(probability * 100, 4)}%.\", outputColor))\n",
    "\n",
    "y = 0.16          # Cumulative Probability \n",
    "mean = 100        # Average Number\n",
    "std = 15          # Standard Deviation\n",
    "probability = normal.ppf(y, mean, std)\n",
    "print(colored(f\"2. {y * 100}% lowest IQ in Antwerp: {round(probability, 4)}\", outputColor))\n",
    "\n",
    "y = 0.05          # Cumulative Probability \n",
    "mean = 100        # Average Number\n",
    "std = 18          # Standard Deviation\n",
    "probability = normal.ppf((1 - y), mean, std)\n",
    "print(colored(f\"3. {y * 100}% highest IQ in Ghent: {round(probability, 4)}\", outputColor))\n",
    "\n",
    "x = 130           # Value\n",
    "mean = 100        # Average Number\n",
    "std_antwerp = 15  # Standard Deviation\n",
    "std_ghent = 18    # Standard Deviation\n",
    "probability_antwerp = 1 - normal.cdf(x, mean, std_antwerp)\n",
    "probability_ghent = 1 - normal.cdf(x, mean, std_ghent)\n",
    "ratio = probability_antwerp / probability_ghent\n",
    "print(colored(f\"4. The ratio between Antwerp and Ghent with an IQ higher than {x}: {round(ratio, 2)}\", outputColor))"
   ],
   "metadata": {
    "collapsed": false,
    "ExecuteTime": {
     "end_time": "2024-05-29T10:18:40.819049Z",
     "start_time": "2024-05-29T10:18:40.805494Z"
    }
   },
   "id": "a6938ac8dc93ea70",
   "outputs": [
    {
     "name": "stdout",
     "output_type": "stream",
     "text": [
      "\u001B[34mNOTE:\n",
      "  IQ < 60 = Under average\n",
      "  IQ > 120 = Gifted\n",
      "  IQ > 130 = Very gifted\n",
      "\u001B[0m\n",
      "\u001B[34m1. The probability is as follows: 0.0912 or 9.1211%.\u001B[0m\n",
      "\u001B[34m2. 16.0% lowest IQ in Antwerp: 85.0831\u001B[0m\n",
      "\u001B[34m3. 5.0% highest IQ in Ghent: 129.6074\u001B[0m\n",
      "\u001B[34m4. The ratio between Antwerp and Ghent with an IQ higher than 130: 0.48\u001B[0m\n"
     ]
    }
   ],
   "execution_count": 69
  },
  {
   "cell_type": "markdown",
   "source": [
    "### Question 12:\n",
    "Research has shown that the lifespan of lamps is normally distributed. A certain type of lamps has a lifespan of `500` hours, with a standard deviation of `100` hours. A chain store purchases `50,000` lamps of this type.\n",
    "- How many of these lamps burn for longer than `400` hours?\n",
    "- How many of these lamps have a lifespan between `400` and `700` hours?\n",
    "- How many of these lamps have a lifespan of less than `600` hours?"
   ],
   "metadata": {
    "collapsed": false
   },
   "id": "e5fc78ed886b19b1"
  },
  {
   "cell_type": "code",
   "source": [
    "# Technique used: Normal Distribution\n",
    "\n",
    "x = 400           # Value\n",
    "mean = 500        # Average Number\n",
    "std = 100         # Standard Deviation\n",
    "probability = 1 - normal.cdf(x, mean, std)\n",
    "print(colored(f\"1. The probability is as follows: {round(probability, 4)} or {round(probability * 100, 4)}%.\", outputColor))\n",
    "\n",
    "x1 = 400          # Value\n",
    "x2 = 700          # Value\n",
    "mean = 500        # Average Number\n",
    "std = 100         # Standard Deviation\n",
    "probability=normal.cdf(x2, mean, std) - normal.cdf(x1, mean, std)\n",
    "print(colored(f\"2. The probability is as follows: {round(probability, 4)} or {round(probability * 100, 4)}%.\", outputColor))\n",
    "\n",
    "x = 600           # Value\n",
    "mean = 500        # Average Number\n",
    "std = 100         # Standard Deviation\n",
    "probability=normal.cdf(x, mean, std)\n",
    "print(colored(f\"3. The probability is as follows: {round(probability, 4)} or {round(probability * 100, 4)}%.\", outputColor))"
   ],
   "metadata": {
    "collapsed": false,
    "ExecuteTime": {
     "end_time": "2024-05-29T10:12:58.365646Z",
     "start_time": "2024-05-29T10:12:58.352472Z"
    }
   },
   "id": "d4efd32877267389",
   "outputs": [
    {
     "name": "stdout",
     "output_type": "stream",
     "text": [
      "\u001B[34m1. The probability is as follows: 0.8413 or 84.1345%.\u001B[0m\n",
      "\u001B[34m2. The probability is as follows: 0.8186 or 81.8595%.\u001B[0m\n",
      "\u001B[34m3. The probability is as follows: 0.8413 or 84.1345%.\u001B[0m\n"
     ]
    }
   ],
   "execution_count": 48
  },
  {
   "cell_type": "markdown",
   "source": [
    "### Question 13:\n",
    "In a simple competition on the website, `8` out of `10` people give the correct answer.\n",
    "- What is the probability that at least `55` participants from a random sample of `60` people answered correctly (`2` significant figures)?"
   ],
   "metadata": {
    "collapsed": false
   },
   "id": "9007f608cc00a561"
  },
  {
   "cell_type": "code",
   "source": [
    "# Technique used: The Binomial Distribution\n",
    "\n",
    "k = 55 - 1    # Probability of exactly k successes\n",
    "n = 60        # Number of trials\n",
    "p = 8 / 10    # Probability of success in each trial\n",
    "probability = 1 - binomial.cdf(k, n, p)\n",
    "print(colored(f\"The probability is as follows: {round(probability, 4)} or {round(probability * 100, 4)}%.\", outputColor))"
   ],
   "metadata": {
    "collapsed": false,
    "ExecuteTime": {
     "end_time": "2024-05-29T10:12:58.443323Z",
     "start_time": "2024-05-29T10:12:58.424468Z"
    }
   },
   "id": "d7e2cb130f6b2a48",
   "outputs": [
    {
     "name": "stdout",
     "output_type": "stream",
     "text": [
      "\u001B[34mThe probability is as follows: 0.0121 or 1.2106%.\u001B[0m\n"
     ]
    }
   ],
   "execution_count": 49
  },
  {
   "cell_type": "markdown",
   "source": [
    "### Question 14:\n",
    "A new machine makes processors completely autonomously. Only `2/5` processors meet the quality standard.\n",
    "- We take `10` processors made by this machine. What is the probability that fewer than `2` are correct?\n",
    "- We take `100` processors made by this machine. What is the probability that fewer than `20` are correct?\n",
    "- Both questions above ask for less than `20%` of the total number of processors. What difference do you notice? What could be the cause?"
   ],
   "metadata": {
    "collapsed": false
   },
   "id": "41089fae68288713"
  },
  {
   "cell_type": "code",
   "source": [
    "# Technique used: The Binomial Distribution\n",
    "\n",
    "k = 1         # Probability of exactly k successes\n",
    "n = 10        # Number of trials\n",
    "p = 2 / 5     # Probability of success in each trial\n",
    "probability = binomial.cdf(k, n, p)\n",
    "print(colored(f\"1. The probability is as follows: {round(probability, 4)} or {round(probability * 100, 4)}%.\", outputColor))\n",
    "\n",
    "k = 19        # Probability of exactly k successes\n",
    "n = 100       # Number of trials\n",
    "p = 2 / 5     # Probability of success in each trial\n",
    "probability = binomial.cdf(k, n, p)\n",
    "print(colored(f\"2. The probability is as follows: {round(probability, 9)} or {round(probability * 100, 9)}%.\", outputColor))\n",
    "\n",
    "print(colored(f\"3. The difference is that the probability of getting less than 20% correct is much higher with 100 processors than with 10 processors. This is because the probability of getting a correct processor is low, so the more processors you take, the more likely it is that you will get less than 20% correct.\", outputColor))"
   ],
   "metadata": {
    "collapsed": false,
    "ExecuteTime": {
     "end_time": "2024-05-29T10:12:58.490466Z",
     "start_time": "2024-05-29T10:12:58.474909Z"
    }
   },
   "id": "53ff74c185310023",
   "outputs": [
    {
     "name": "stdout",
     "output_type": "stream",
     "text": [
      "\u001B[34m1. The probability is as follows: 0.0464 or 4.6357%.\u001B[0m\n",
      "\u001B[34m2. The probability is as follows: 5.881e-06 or 0.000588133%.\u001B[0m\n",
      "\u001B[34m3. The difference is that the probability of getting less than 20% correct is much higher with 100 processors than with 10 processors. This is because the probability of getting a correct processor is low, so the more processors you take, the more likely it is that you will get less than 20% correct.\u001B[0m\n"
     ]
    }
   ],
   "execution_count": 50
  },
  {
   "cell_type": "markdown",
   "source": [
    "### Question 15:\n",
    "Many things can go wrong during a laptop exam. We know that a computer running Windows has a `2%` chance of crashing during the exam. For Mac OSX it is `0.2%` and for Linux it is `0.1%`. Suppose a class of `40` students comes to take an exam.\n",
    "\n",
    "#### Situation 1: Everyone runs Windows:\n",
    "- What is the expected number of crashes during the exam?\n",
    "- What is the chance that `1` computer will crash during the exam?\n",
    "- What is the chance that `2` computers will crash during the exam?\n",
    "\n",
    "#### Situation 2: 10 students run Windows, 10 students run Mac OSX and 20 run Linux\n",
    "- What is the expected number of crashes during the exam?\n",
    "- What is the chance that `1` computer will crash during the exam?\n",
    "- What is the chance that `2` computers will crash during the exam?"
   ],
   "metadata": {
    "collapsed": false
   },
   "id": "92e19de12aa3ac2a"
  },
  {
   "cell_type": "code",
   "source": [
    "# Technique used: The Binomial Distribution\n",
    "\n",
    "n = 40        # Number of trials\n",
    "p = 0.02      # Probability of success in each trial\n",
    "probability = binomial.mean(n, p)\n",
    "print(colored(f\"Situation 1.1. The probability is as follows: {round(probability, 4)} or {round(probability * 100, 4)}%.\", outputColor))\n",
    "\n",
    "k = 1         # Probability of exactly k successes\n",
    "n = 40        # Number of trials\n",
    "p = 0.02      # Probability of success in each trial\n",
    "probability = binomial.pmf(k, n, p)\n",
    "print(colored(f\"Situation 1.2. The probability is as follows: {round(probability, 4)} or {round(probability * 100, 4)}%.\", outputColor))\n",
    "\n",
    "k = 2         # Probability of exactly k successes\n",
    "n = 40        # Number of trials\n",
    "p = 0.02      # Probability of success in each trial\n",
    "probability = binomial.pmf(k, n, p)\n",
    "print(colored(f\"Situation 1.3. The probability is as follows: {round(probability, 4)} or {round(probability * 100, 4)}%.\", outputColor))\n",
    "\n",
    "n = 10        # Number of trials\n",
    "p = 0.02      # Probability of success in each trial\n",
    "probability_windows = binomial.mean(n, p)\n",
    "\n",
    "n = 10        # Number of trials\n",
    "p = 0.002     # Probability of success in each trial\n",
    "probability_macos = binomial.mean(n, p)\n",
    "\n",
    "n = 20        # Number of trials\n",
    "p = 0.001     # Probability of success in each trial\n",
    "probability_linux = binomial.mean(n, p)\n",
    "\n",
    "probability = probability_windows + probability_macos + probability_linux\n",
    "print(colored(f\"Situation 2.1. The probability is as follows: {round(probability, 4)} or {round(probability * 100, 4)}%.\", outputColor))\n",
    "\n",
    "k = 1         # Probability of exactly k successes\n",
    "\n",
    "n = 10        # Number of trials\n",
    "p = 0.02      # Probability of success in each trial\n",
    "probability_windows = binomial.pmf(k, n, p)\n",
    "\n",
    "n = 10        # Number of trials\n",
    "p = 0.002     # Probability of success in each trial\n",
    "probability_macos = binomial.pmf(k, n, p)\n",
    "\n",
    "n = 20        # Number of trials\n",
    "p = 0.001     # Probability of success in each trial\n",
    "probability_linux = binomial.pmf(k, n, p)\n",
    "\n",
    "probability = probability_windows + probability_macos + probability_linux\n",
    "print(colored(f\"Situation 2.2. The probability is as follows: {round(probability, 4)} or {round(probability * 100, 4)}%.\", outputColor))\n",
    "\n",
    "k = 2         # Probability of exactly k successes\n",
    "\n",
    "n = 10        # Number of trials\n",
    "p = 0.02      # Probability of success in each trial\n",
    "probability_windows = binomial.pmf(k, n, p)\n",
    "\n",
    "n = 10        # Number of trials\n",
    "p = 0.002     # Probability of success in each trial\n",
    "probability_macos = binomial.pmf(k, n, p)\n",
    "\n",
    "n = 20        # Number of trials\n",
    "p = 0.001     # Probability of success in each trial\n",
    "probability_linux = binomial.pmf(k, n, p)\n",
    "\n",
    "probability = probability_windows + probability_macos + probability_linux\n",
    "print(colored(f\"Situation 2.3. The probability is as follows: {round(probability, 4)} or {round(probability * 100, 4)}%.\", outputColor))"
   ],
   "metadata": {
    "collapsed": false,
    "ExecuteTime": {
     "end_time": "2024-05-29T10:22:38.650640Z",
     "start_time": "2024-05-29T10:22:38.620290Z"
    }
   },
   "id": "627b6d578527e748",
   "outputs": [
    {
     "name": "stdout",
     "output_type": "stream",
     "text": [
      "\u001B[34mSituation 1.1. The probability is as follows: 0.8 or 80.0%.\u001B[0m\n",
      "\u001B[34mSituation 1.2. The probability is as follows: 0.3638 or 36.3837%.\u001B[0m\n",
      "\u001B[34mSituation 1.3. The probability is as follows: 0.1448 or 14.4792%.\u001B[0m\n",
      "\u001B[34mSituation 2.1. The probability is as follows: 0.24 or 24.0%.\u001B[0m\n",
      "\u001B[34mSituation 2.2. The probability is as follows: 0.206 or 20.6016%.\u001B[0m\n",
      "\u001B[34mSituation 2.3. The probability is as follows: 0.0157 or 1.5677%.\u001B[0m\n"
     ]
    }
   ],
   "execution_count": 70
  },
  {
   "cell_type": "markdown",
   "source": [
    "### Question 16:\n",
    "In a textile factory, rolls of fabric are produced with a length of `50` meters per roll. The number of weaving errors per roll is Poisson distributed with an associated expectation value of `1` weaving error per roll. During the qualitative inspection of the rolls of fabric, they are separated into rolls of `A quality` (with `0` or `1` weaving defect per roll) and rolls of `B quality` (with two or more weaving defects per roll).\n",
    "- Calculate the probability that a random role will receive the designation `B quality`.\n",
    "- The production volume per day is equal to `2000` meters of fabric. What is the probability that at least `30` rolls of `A quality` are made on any given day?"
   ],
   "metadata": {
    "collapsed": false
   },
   "id": "8cb40ed8119dca60"
  },
  {
   "cell_type": "code",
   "source": [
    "# Technique used: The Poisson Distribution & The Binomial Distribution\n",
    "\n",
    "x1 = 0            # Number of events\n",
    "x2 = 1            # Number of events\n",
    "y = 1             # Average number of events\n",
    "probability = 1 - (poisson.pmf(x1, y) + poisson.pmf(x2, y))\n",
    "print(colored(f\"1. The probability is as follows: {round(probability, 4)} or {round(probability * 100, 4)}%.\", outputColor))\n",
    "\n",
    "k = 29              # Probability of exactly k successes\n",
    "n = 2000 / 50       # Number of trials\n",
    "p = 1 - probability # Probability of success in each trial\n",
    "probability = 1 - binomial.cdf(k, n, p)\n",
    "print(colored(f\"2. The probability is as follows: {round(probability, 4)} or {round(probability * 100, 4)}%.\", outputColor))"
   ],
   "metadata": {
    "collapsed": false,
    "ExecuteTime": {
     "end_time": "2024-05-29T10:23:11.816893Z",
     "start_time": "2024-05-29T10:23:11.801535Z"
    }
   },
   "id": "2fceb544926a5b63",
   "outputs": [
    {
     "name": "stdout",
     "output_type": "stream",
     "text": [
      "\u001B[34m1. The probability is as follows: 0.2642 or 26.4241%.\u001B[0m\n",
      "\u001B[34m2. The probability is as follows: 0.5015 or 50.1464%.\u001B[0m\n"
     ]
    }
   ],
   "execution_count": 71
  },
  {
   "cell_type": "markdown",
   "source": [
    "### Question 17:\n",
    "An IT service desk receives an average of `10` service requests per hour.\n",
    "- Calculate the probability that more than `15` service requests will be received in an hour.\n",
    "- Calculate the probability that at least `10` but no more than `15` service requests will be received.\n",
    "- Calculate the probability that no service requests will be received for fifteen minutes."
   ],
   "metadata": {
    "collapsed": false
   },
   "id": "720cbf0dcc2f81ba"
  },
  {
   "cell_type": "code",
   "source": [
    "# Technique used: The Poisson Distribution\n",
    "\n",
    "x = 15       # Number of events\n",
    "y = 10       # Average number of events\n",
    "probability = 1 - poisson.cdf(x, y)\n",
    "print(colored(f\"1. The probability is as follows: {round(probability, 4)} or {round(probability * 100, 4)}%.\", outputColor))\n",
    "\n",
    "x1 = 9      # Number of events\n",
    "x2 = 15     # Number of events\n",
    "y = 10      # Average number of events\n",
    "probability = poisson.cdf(x2, y) - poisson.cdf(x1, y)\n",
    "print(colored(f\"2. The probability is as follows: {round(probability, 4)} or {round(probability * 100, 4)}%.\", outputColor))\n",
    "\n",
    "x = 0       # Number of events\n",
    "y = 10 / 4    # Average number of events\n",
    "probability = poisson.cdf(x, y)\n",
    "print(colored(f\"3. The probability is as follows: {round(probability, 4)} or {round(probability * 100, 4)}%.\", outputColor))"
   ],
   "metadata": {
    "collapsed": false,
    "ExecuteTime": {
     "end_time": "2024-05-29T10:12:58.726008Z",
     "start_time": "2024-05-29T10:12:58.710406Z"
    }
   },
   "id": "1e9810c669f1877f",
   "outputs": [
    {
     "name": "stdout",
     "output_type": "stream",
     "text": [
      "\u001B[34m1. The probability is as follows: 0.0487 or 4.874%.\u001B[0m\n",
      "\u001B[34m2. The probability is as follows: 0.4933 or 49.333%.\u001B[0m\n",
      "\u001B[34m3. The probability is as follows: 0.0821 or 8.2085%.\u001B[0m\n"
     ]
    }
   ],
   "execution_count": 53
  },
  {
   "cell_type": "markdown",
   "source": [
    "## Practical exercises (Python)"
   ],
   "metadata": {
    "collapsed": false
   },
   "id": "f8f39a382b50d97a"
  },
  {
   "cell_type": "code",
   "source": [
    "studentQuestions = pd.read_csv('../Data/Data1.csv', delimiter=';', decimal=',')\n",
    "display(studentQuestions)"
   ],
   "metadata": {
    "collapsed": false,
    "ExecuteTime": {
     "end_time": "2024-05-29T10:12:58.789015Z",
     "start_time": "2024-05-29T10:12:58.768934Z"
    }
   },
   "id": "5e61cb3cb6fe7e97",
   "outputs": [
    {
     "data": {
      "text/plain": [
       "   gapminder schrijfhand  schoenmaat  lengte    bloedgroep         resus  \\\n",
       "0       7/18      Rechts        43.0     184             O      positief   \n",
       "1       3/18      Rechts        42.0     163  Weet ik niet  Weet ik niet   \n",
       "2      12/18      Rechts        45.0     183            AB      positief   \n",
       "3       5/18      Rechts        44.0     175             A      positief   \n",
       "4       6/18      Rechts        43.0     173             B      positief   \n",
       "..       ...         ...         ...     ...           ...           ...   \n",
       "84      7/18      Rechts        45.0     185             O      negatief   \n",
       "85      9/18      Rechts        43.0     184             O  Weet ik niet   \n",
       "86      4/18       Links        45.5     190  Weet ik niet  Weet ik niet   \n",
       "87      8/18      Rechts        45.0     188             A      positief   \n",
       "88      7/18      Rechts        43.0     176             B      positief   \n",
       "\n",
       "    siblings                                     Samenzweringen  \\\n",
       "0          5  De tsunami van 2004 in de Indische Oceaan was ...   \n",
       "1          1   Prinses Diana kwam niet per ongeluk om het leven   \n",
       "2          2  Prinses Diana kwam niet per ongeluk om het lev...   \n",
       "3          2  De wereld wordt eigenlijk gecontroleerd door e...   \n",
       "4          3  De wereld wordt eigenlijk gecontroleerd door e...   \n",
       "..       ...                                                ...   \n",
       "84         0  De maanlanding is in scne gezet om de Russen ...   \n",
       "85         2  De aanslagen van 9/11 in NY werden niet door t...   \n",
       "86         0  Prinses Diana kwam niet per ongeluk om het lev...   \n",
       "87         1                                                NaN   \n",
       "88         2                                                NaN   \n",
       "\n",
       "                                            rijbewijs  \\\n",
       "0                                Categorie B: Wagens.   \n",
       "1   Categorie AM: Bromfietsen met een maximumsnelh...   \n",
       "2   Categorie AM: Bromfietsen met een maximumsnelh...   \n",
       "3   Categorie AM: Bromfietsen met een maximumsnelh...   \n",
       "4                                Categorie B: Wagens.   \n",
       "..                                                ...   \n",
       "84  Categorie AM: Bromfietsen met een maximumsnelh...   \n",
       "85  Categorie AM: Bromfietsen met een maximumsnelh...   \n",
       "86  Categorie AM: Bromfietsen met een maximumsnelh...   \n",
       "87                               Categorie B: Wagens.   \n",
       "88                               Categorie B: Wagens.   \n",
       "\n",
       "                               domicilie in Antwerpen  ... M1 - stelen  \\\n",
       "0   buiten de stad (een dorp, een gehucht, het pla...  ...           7   \n",
       "1                                         in een stad  ...          10   \n",
       "2                                         in een stad  ...           6   \n",
       "3                                         in een stad  ...           9   \n",
       "4                                         in een stad  ...          10   \n",
       "..                                                ...  ...         ...   \n",
       "84  buiten de stad (een dorp, een gehucht, het pla...  ...          10   \n",
       "85  buiten de stad (een dorp, een gehucht, het pla...  ...           8   \n",
       "86                                        in een stad  ...          10   \n",
       "87                                        in een stad  ...           8   \n",
       "88                                        in een stad  ...          10   \n",
       "\n",
       "   M2 - team M3 - beschermen M4 - voorbeeld M5 - embryo  M6 - vrijheid  \\\n",
       "0          2               8              6           5            4.0   \n",
       "1          5              10              6           7            3.0   \n",
       "2          3               7              7          10            6.0   \n",
       "3         10              10             10          10            0.0   \n",
       "4          6              10              7           7            2.0   \n",
       "..       ...             ...            ...         ...            ...   \n",
       "84         3               8              8           2            5.0   \n",
       "85         5               7              8           4            0.0   \n",
       "86         5              10              8           9            5.0   \n",
       "87         6               6              7           6            4.0   \n",
       "88         5               4              9           3            9.0   \n",
       "\n",
       "                                             mascotte            zwaarste vak  \\\n",
       "0   1=Bever,2=Wasbeer,3=Otter,4=Wolf,5=Poema,6=Pan...            Management 1   \n",
       "1   1=Bever,2=Wolf,3=Bizon,4=Otter,5=Panter,6=Poem...            Management 1   \n",
       "2   1=Bruine beer,2=Poema,3=Panter,4=Wolf,5=Vos,6=...            Management 1   \n",
       "3   1=Wasbeer,2=Wolf,3=Bruine beer,4=Das,5=Vos,6=B...            Management 1   \n",
       "4   1=Wolf,2=Vos,3=Bruine beer,4=Bizon,5=Panter,6=...            Management 1   \n",
       "..                                                ...                     ...   \n",
       "84  1=Panter,2=Poema,3=Wolf,4=Vos,5=Bever,6=Bruine...  Software engineering 1   \n",
       "85  1=Panter,2=Poema,3=Vos,4=Wolf,5=Bruine beer,6=...          Data science 1   \n",
       "86  1=Wolf,2=Vos,3=Bruine beer,4=Bever,5=Das,6=Was...       User interfaces 1   \n",
       "87  1=Otter,2=Wasbeer,3=Vos,4=Bruine beer,5=Bever,...             Netwerken 1   \n",
       "88  1=Poema,2=Panter,3=Wolf,4=Bruine beer,5=Bizon,...          Data science 1   \n",
       "\n",
       "                boeienste vak  studiepunt  \n",
       "0              Data science 1  16-20 uren  \n",
       "1          Computersystemen 1  <= 10 uren  \n",
       "2       Programmeren 1 - Java  16-20 uren  \n",
       "3              Data science 1  <= 10 uren  \n",
       "4              Data science 1  <= 10 uren  \n",
       "..                        ...         ...  \n",
       "84          User interfaces 1  26-30 uren  \n",
       "85  Programmeren 1 - Embedded  11-15 uren  \n",
       "86             Data science 1  16-20 uren  \n",
       "87             Data science 1  16-20 uren  \n",
       "88      Programmeren 1 - Java  26-30 uren  \n",
       "\n",
       "[89 rows x 33 columns]"
      ],
      "text/html": [
       "<div>\n",
       "<style scoped>\n",
       "    .dataframe tbody tr th:only-of-type {\n",
       "        vertical-align: middle;\n",
       "    }\n",
       "\n",
       "    .dataframe tbody tr th {\n",
       "        vertical-align: top;\n",
       "    }\n",
       "\n",
       "    .dataframe thead th {\n",
       "        text-align: right;\n",
       "    }\n",
       "</style>\n",
       "<table border=\"1\" class=\"dataframe\">\n",
       "  <thead>\n",
       "    <tr style=\"text-align: right;\">\n",
       "      <th></th>\n",
       "      <th>gapminder</th>\n",
       "      <th>schrijfhand</th>\n",
       "      <th>schoenmaat</th>\n",
       "      <th>lengte</th>\n",
       "      <th>bloedgroep</th>\n",
       "      <th>resus</th>\n",
       "      <th>siblings</th>\n",
       "      <th>Samenzweringen</th>\n",
       "      <th>rijbewijs</th>\n",
       "      <th>domicilie in Antwerpen</th>\n",
       "      <th>...</th>\n",
       "      <th>M1 - stelen</th>\n",
       "      <th>M2 - team</th>\n",
       "      <th>M3 - beschermen</th>\n",
       "      <th>M4 - voorbeeld</th>\n",
       "      <th>M5 - embryo</th>\n",
       "      <th>M6 - vrijheid</th>\n",
       "      <th>mascotte</th>\n",
       "      <th>zwaarste vak</th>\n",
       "      <th>boeienste vak</th>\n",
       "      <th>studiepunt</th>\n",
       "    </tr>\n",
       "  </thead>\n",
       "  <tbody>\n",
       "    <tr>\n",
       "      <th>0</th>\n",
       "      <td>7/18</td>\n",
       "      <td>Rechts</td>\n",
       "      <td>43.0</td>\n",
       "      <td>184</td>\n",
       "      <td>O</td>\n",
       "      <td>positief</td>\n",
       "      <td>5</td>\n",
       "      <td>De tsunami van 2004 in de Indische Oceaan was ...</td>\n",
       "      <td>Categorie B: Wagens.</td>\n",
       "      <td>buiten de stad (een dorp, een gehucht, het pla...</td>\n",
       "      <td>...</td>\n",
       "      <td>7</td>\n",
       "      <td>2</td>\n",
       "      <td>8</td>\n",
       "      <td>6</td>\n",
       "      <td>5</td>\n",
       "      <td>4.0</td>\n",
       "      <td>1=Bever,2=Wasbeer,3=Otter,4=Wolf,5=Poema,6=Pan...</td>\n",
       "      <td>Management 1</td>\n",
       "      <td>Data science 1</td>\n",
       "      <td>16-20 uren</td>\n",
       "    </tr>\n",
       "    <tr>\n",
       "      <th>1</th>\n",
       "      <td>3/18</td>\n",
       "      <td>Rechts</td>\n",
       "      <td>42.0</td>\n",
       "      <td>163</td>\n",
       "      <td>Weet ik niet</td>\n",
       "      <td>Weet ik niet</td>\n",
       "      <td>1</td>\n",
       "      <td>Prinses Diana kwam niet per ongeluk om het leven</td>\n",
       "      <td>Categorie AM: Bromfietsen met een maximumsnelh...</td>\n",
       "      <td>in een stad</td>\n",
       "      <td>...</td>\n",
       "      <td>10</td>\n",
       "      <td>5</td>\n",
       "      <td>10</td>\n",
       "      <td>6</td>\n",
       "      <td>7</td>\n",
       "      <td>3.0</td>\n",
       "      <td>1=Bever,2=Wolf,3=Bizon,4=Otter,5=Panter,6=Poem...</td>\n",
       "      <td>Management 1</td>\n",
       "      <td>Computersystemen 1</td>\n",
       "      <td>&lt;= 10 uren</td>\n",
       "    </tr>\n",
       "    <tr>\n",
       "      <th>2</th>\n",
       "      <td>12/18</td>\n",
       "      <td>Rechts</td>\n",
       "      <td>45.0</td>\n",
       "      <td>183</td>\n",
       "      <td>AB</td>\n",
       "      <td>positief</td>\n",
       "      <td>2</td>\n",
       "      <td>Prinses Diana kwam niet per ongeluk om het lev...</td>\n",
       "      <td>Categorie AM: Bromfietsen met een maximumsnelh...</td>\n",
       "      <td>in een stad</td>\n",
       "      <td>...</td>\n",
       "      <td>6</td>\n",
       "      <td>3</td>\n",
       "      <td>7</td>\n",
       "      <td>7</td>\n",
       "      <td>10</td>\n",
       "      <td>6.0</td>\n",
       "      <td>1=Bruine beer,2=Poema,3=Panter,4=Wolf,5=Vos,6=...</td>\n",
       "      <td>Management 1</td>\n",
       "      <td>Programmeren 1 - Java</td>\n",
       "      <td>16-20 uren</td>\n",
       "    </tr>\n",
       "    <tr>\n",
       "      <th>3</th>\n",
       "      <td>5/18</td>\n",
       "      <td>Rechts</td>\n",
       "      <td>44.0</td>\n",
       "      <td>175</td>\n",
       "      <td>A</td>\n",
       "      <td>positief</td>\n",
       "      <td>2</td>\n",
       "      <td>De wereld wordt eigenlijk gecontroleerd door e...</td>\n",
       "      <td>Categorie AM: Bromfietsen met een maximumsnelh...</td>\n",
       "      <td>in een stad</td>\n",
       "      <td>...</td>\n",
       "      <td>9</td>\n",
       "      <td>10</td>\n",
       "      <td>10</td>\n",
       "      <td>10</td>\n",
       "      <td>10</td>\n",
       "      <td>0.0</td>\n",
       "      <td>1=Wasbeer,2=Wolf,3=Bruine beer,4=Das,5=Vos,6=B...</td>\n",
       "      <td>Management 1</td>\n",
       "      <td>Data science 1</td>\n",
       "      <td>&lt;= 10 uren</td>\n",
       "    </tr>\n",
       "    <tr>\n",
       "      <th>4</th>\n",
       "      <td>6/18</td>\n",
       "      <td>Rechts</td>\n",
       "      <td>43.0</td>\n",
       "      <td>173</td>\n",
       "      <td>B</td>\n",
       "      <td>positief</td>\n",
       "      <td>3</td>\n",
       "      <td>De wereld wordt eigenlijk gecontroleerd door e...</td>\n",
       "      <td>Categorie B: Wagens.</td>\n",
       "      <td>in een stad</td>\n",
       "      <td>...</td>\n",
       "      <td>10</td>\n",
       "      <td>6</td>\n",
       "      <td>10</td>\n",
       "      <td>7</td>\n",
       "      <td>7</td>\n",
       "      <td>2.0</td>\n",
       "      <td>1=Wolf,2=Vos,3=Bruine beer,4=Bizon,5=Panter,6=...</td>\n",
       "      <td>Management 1</td>\n",
       "      <td>Data science 1</td>\n",
       "      <td>&lt;= 10 uren</td>\n",
       "    </tr>\n",
       "    <tr>\n",
       "      <th>...</th>\n",
       "      <td>...</td>\n",
       "      <td>...</td>\n",
       "      <td>...</td>\n",
       "      <td>...</td>\n",
       "      <td>...</td>\n",
       "      <td>...</td>\n",
       "      <td>...</td>\n",
       "      <td>...</td>\n",
       "      <td>...</td>\n",
       "      <td>...</td>\n",
       "      <td>...</td>\n",
       "      <td>...</td>\n",
       "      <td>...</td>\n",
       "      <td>...</td>\n",
       "      <td>...</td>\n",
       "      <td>...</td>\n",
       "      <td>...</td>\n",
       "      <td>...</td>\n",
       "      <td>...</td>\n",
       "      <td>...</td>\n",
       "      <td>...</td>\n",
       "    </tr>\n",
       "    <tr>\n",
       "      <th>84</th>\n",
       "      <td>7/18</td>\n",
       "      <td>Rechts</td>\n",
       "      <td>45.0</td>\n",
       "      <td>185</td>\n",
       "      <td>O</td>\n",
       "      <td>negatief</td>\n",
       "      <td>0</td>\n",
       "      <td>De maanlanding is in scne gezet om de Russen ...</td>\n",
       "      <td>Categorie AM: Bromfietsen met een maximumsnelh...</td>\n",
       "      <td>buiten de stad (een dorp, een gehucht, het pla...</td>\n",
       "      <td>...</td>\n",
       "      <td>10</td>\n",
       "      <td>3</td>\n",
       "      <td>8</td>\n",
       "      <td>8</td>\n",
       "      <td>2</td>\n",
       "      <td>5.0</td>\n",
       "      <td>1=Panter,2=Poema,3=Wolf,4=Vos,5=Bever,6=Bruine...</td>\n",
       "      <td>Software engineering 1</td>\n",
       "      <td>User interfaces 1</td>\n",
       "      <td>26-30 uren</td>\n",
       "    </tr>\n",
       "    <tr>\n",
       "      <th>85</th>\n",
       "      <td>9/18</td>\n",
       "      <td>Rechts</td>\n",
       "      <td>43.0</td>\n",
       "      <td>184</td>\n",
       "      <td>O</td>\n",
       "      <td>Weet ik niet</td>\n",
       "      <td>2</td>\n",
       "      <td>De aanslagen van 9/11 in NY werden niet door t...</td>\n",
       "      <td>Categorie AM: Bromfietsen met een maximumsnelh...</td>\n",
       "      <td>buiten de stad (een dorp, een gehucht, het pla...</td>\n",
       "      <td>...</td>\n",
       "      <td>8</td>\n",
       "      <td>5</td>\n",
       "      <td>7</td>\n",
       "      <td>8</td>\n",
       "      <td>4</td>\n",
       "      <td>0.0</td>\n",
       "      <td>1=Panter,2=Poema,3=Vos,4=Wolf,5=Bruine beer,6=...</td>\n",
       "      <td>Data science 1</td>\n",
       "      <td>Programmeren 1 - Embedded</td>\n",
       "      <td>11-15 uren</td>\n",
       "    </tr>\n",
       "    <tr>\n",
       "      <th>86</th>\n",
       "      <td>4/18</td>\n",
       "      <td>Links</td>\n",
       "      <td>45.5</td>\n",
       "      <td>190</td>\n",
       "      <td>Weet ik niet</td>\n",
       "      <td>Weet ik niet</td>\n",
       "      <td>0</td>\n",
       "      <td>Prinses Diana kwam niet per ongeluk om het lev...</td>\n",
       "      <td>Categorie AM: Bromfietsen met een maximumsnelh...</td>\n",
       "      <td>in een stad</td>\n",
       "      <td>...</td>\n",
       "      <td>10</td>\n",
       "      <td>5</td>\n",
       "      <td>10</td>\n",
       "      <td>8</td>\n",
       "      <td>9</td>\n",
       "      <td>5.0</td>\n",
       "      <td>1=Wolf,2=Vos,3=Bruine beer,4=Bever,5=Das,6=Was...</td>\n",
       "      <td>User interfaces 1</td>\n",
       "      <td>Data science 1</td>\n",
       "      <td>16-20 uren</td>\n",
       "    </tr>\n",
       "    <tr>\n",
       "      <th>87</th>\n",
       "      <td>8/18</td>\n",
       "      <td>Rechts</td>\n",
       "      <td>45.0</td>\n",
       "      <td>188</td>\n",
       "      <td>A</td>\n",
       "      <td>positief</td>\n",
       "      <td>1</td>\n",
       "      <td>NaN</td>\n",
       "      <td>Categorie B: Wagens.</td>\n",
       "      <td>in een stad</td>\n",
       "      <td>...</td>\n",
       "      <td>8</td>\n",
       "      <td>6</td>\n",
       "      <td>6</td>\n",
       "      <td>7</td>\n",
       "      <td>6</td>\n",
       "      <td>4.0</td>\n",
       "      <td>1=Otter,2=Wasbeer,3=Vos,4=Bruine beer,5=Bever,...</td>\n",
       "      <td>Netwerken 1</td>\n",
       "      <td>Data science 1</td>\n",
       "      <td>16-20 uren</td>\n",
       "    </tr>\n",
       "    <tr>\n",
       "      <th>88</th>\n",
       "      <td>7/18</td>\n",
       "      <td>Rechts</td>\n",
       "      <td>43.0</td>\n",
       "      <td>176</td>\n",
       "      <td>B</td>\n",
       "      <td>positief</td>\n",
       "      <td>2</td>\n",
       "      <td>NaN</td>\n",
       "      <td>Categorie B: Wagens.</td>\n",
       "      <td>in een stad</td>\n",
       "      <td>...</td>\n",
       "      <td>10</td>\n",
       "      <td>5</td>\n",
       "      <td>4</td>\n",
       "      <td>9</td>\n",
       "      <td>3</td>\n",
       "      <td>9.0</td>\n",
       "      <td>1=Poema,2=Panter,3=Wolf,4=Bruine beer,5=Bizon,...</td>\n",
       "      <td>Data science 1</td>\n",
       "      <td>Programmeren 1 - Java</td>\n",
       "      <td>26-30 uren</td>\n",
       "    </tr>\n",
       "  </tbody>\n",
       "</table>\n",
       "<p>89 rows × 33 columns</p>\n",
       "</div>"
      ]
     },
     "metadata": {},
     "output_type": "display_data"
    }
   ],
   "execution_count": 54
  },
  {
   "cell_type": "markdown",
   "source": [
    "### Exercise 1:\n",
    "- What is the probability that of `10` randomly selected students, exactly `3` students know their blood type?"
   ],
   "metadata": {
    "collapsed": false
   },
   "id": "439b67b46397307e"
  },
  {
   "cell_type": "code",
   "source": "print(colored(studentQuestions[\"bloedgroep\"].unique(), outputColor))",
   "metadata": {
    "collapsed": false,
    "ExecuteTime": {
     "end_time": "2024-05-29T10:12:58.836323Z",
     "start_time": "2024-05-29T10:12:58.816343Z"
    }
   },
   "id": "226a017cd1abc68e",
   "outputs": [
    {
     "name": "stdout",
     "output_type": "stream",
     "text": [
      "\u001B[34m['O' 'Weet ik niet' 'AB' 'A' 'B']\u001B[0m\n"
     ]
    }
   ],
   "execution_count": 55
  },
  {
   "cell_type": "code",
   "source": [
    "# Binomial distribution + Probability Mass Function\n",
    "p = len(studentQuestions[studentQuestions[\"bloedgroep\"] != \"Weet ik niet\"]) / len(studentQuestions) # Probability of student knowing his blood type\n",
    "binomiale = binomial.pmf(3, 10, p) # Probability Mass Function => kans\n",
    "print(colored(binomiale, outputColor))"
   ],
   "metadata": {
    "collapsed": false,
    "ExecuteTime": {
     "end_time": "2024-05-29T10:12:58.882679Z",
     "start_time": "2024-05-29T10:12:58.865907Z"
    }
   },
   "id": "ace76afdba039166",
   "outputs": [
    {
     "name": "stdout",
     "output_type": "stream",
     "text": [
      "\u001B[34m0.03362959734037025\u001B[0m\n"
     ]
    }
   ],
   "execution_count": 56
  },
  {
   "cell_type": "markdown",
   "source": [
    "### Exercise 2:\n",
    "- What is the probability that a student underestimates his studies (i.e. estimates that `1` credit corresponds to `15` or fewer hours)?\n",
    "- You must complete a group work together with `4` fellow students. What is the probability that at least `1` of your fellow group members underestimates his studies?"
   ],
   "metadata": {
    "collapsed": false
   },
   "id": "e8f1254695876091"
  },
  {
   "cell_type": "code",
   "source": "print(colored(studentQuestions[\"studiepunt\"].unique(), outputColor))",
   "metadata": {
    "collapsed": false,
    "ExecuteTime": {
     "end_time": "2024-05-29T10:12:58.913660Z",
     "start_time": "2024-05-29T10:12:58.904557Z"
    }
   },
   "id": "c0d4588203e46fa1",
   "outputs": [
    {
     "name": "stdout",
     "output_type": "stream",
     "text": [
      "\u001B[34m['16-20 uren' '<= 10 uren' '21-25 uren' '36-40 uren' '31-35 uren'\n",
      " '26-30 uren' '11-15 uren' '>= 41 uren']\u001B[0m\n"
     ]
    }
   ],
   "execution_count": 57
  },
  {
   "cell_type": "code",
   "source": [
    "# Probability Mass Function\n",
    "p = len(studentQuestions[ (studentQuestions[\"studiepunt\"] == \"<= 10 uren\") | (studentQuestions[\"studiepunt\"] == \"11-15 uren\")]) / len(studentQuestions)\n",
    "print(colored(p, outputColor)) # Probability of student underestimating his studies"
   ],
   "metadata": {
    "collapsed": false,
    "ExecuteTime": {
     "end_time": "2024-05-29T10:12:58.975795Z",
     "start_time": "2024-05-29T10:12:58.962367Z"
    }
   },
   "id": "7ef0007c5d9f876b",
   "outputs": [
    {
     "name": "stdout",
     "output_type": "stream",
     "text": [
      "\u001B[34m0.23595505617977527\u001B[0m\n"
     ]
    }
   ],
   "execution_count": 58
  },
  {
   "cell_type": "code",
   "source": [
    "# Binomial distribution + Probability Mass Function\n",
    "k = 1  # At least 1 student\n",
    "n = 5  # Number of students\n",
    "binomiale = binomial.pmf(k, n, p)\n",
    "print(colored(binomiale, outputColor))"
   ],
   "metadata": {
    "collapsed": false,
    "ExecuteTime": {
     "end_time": "2024-05-29T10:12:59.037542Z",
     "start_time": "2024-05-29T10:12:59.024411Z"
    }
   },
   "id": "1a3af418ea4b0450",
   "outputs": [
    {
     "name": "stdout",
     "output_type": "stream",
     "text": [
      "\u001B[34m0.4020452325954454\u001B[0m\n"
     ]
    }
   ],
   "execution_count": 59
  },
  {
   "cell_type": "markdown",
   "source": [
    "### Exercise 3:\n",
    "- Based on the data, calculate how many % of students are a maximum of `1.5` standard deviations larger or smaller than the average.\n",
    "- How much % do you differ for a normal distribution?"
   ],
   "metadata": {
    "collapsed": false
   },
   "id": "4763d5f4fbadd085"
  },
  {
   "cell_type": "code",
   "source": "print(colored(studentQuestions[\"lengte\"].unique(), outputColor))",
   "metadata": {
    "collapsed": false,
    "ExecuteTime": {
     "end_time": "2024-05-29T10:12:59.273501Z",
     "start_time": "2024-05-29T10:12:59.260128Z"
    }
   },
   "id": "ff67017a17f91eed",
   "outputs": [
    {
     "name": "stdout",
     "output_type": "stream",
     "text": [
      "\u001B[34m[184 163 183 175 173 190 181 186 178 180 185 192 177 193 174 169 187 168\n",
      " 165 171 170 179 167 194 160 176 189 182 188]\u001B[0m\n"
     ]
    }
   ],
   "execution_count": 60
  },
  {
   "cell_type": "code",
   "source": [
    "# Select the column with the length of the students\n",
    "studentLength = studentQuestions[\"lengte\"]\n",
    "\n",
    "# Calculate the average and standard deviation\n",
    "average = studentLength.mean()\n",
    "std = studentLength.std()\n",
    "\n",
    "# Calculate the cutoff values for 1.5 standard deviations\n",
    "lower_cutoff = average - 1.5 * std\n",
    "upper_cutoff = average + 1.5 * std\n",
    "\n",
    "# Count the number of students within the cutoff values\n",
    "within_cutoff = studentLength[(studentLength >= lower_cutoff) & (studentLength <= upper_cutoff)]\n",
    "\n",
    "# Calculate the percentage\n",
    "percentage_within_cutoff = (len(within_cutoff) / len(studentLength)) * 100\n",
    "\n",
    "print(colored(f\"Average: {average}\", outputColor))\n",
    "print(colored(f\"Standard deviation: {std}\", outputColor))\n",
    "print(colored(f\"Lower cutoff: {lower_cutoff}\", outputColor))\n",
    "print(colored(f\"Upper cutoff: {upper_cutoff}\", outputColor))\n",
    "print(colored(f\"Percentage of students within 1.5 standard deviations of the average: {percentage_within_cutoff:.2f}%\", outputColor))\n",
    "\n",
    "\n",
    "percentage_within_cutoff_normal = (normal.cdf(upper_cutoff, loc=average, scale=std) - normal.cdf(lower_cutoff, loc=average, scale=std)) * 100\n",
    "print(colored(f\"Percentage of students within 1.5 standard deviations of the average (normal distribution): {percentage_within_cutoff_normal:.2f}%\", outputColor))\n",
    "\n",
    "# Plot the distribution\n",
    "plt.figure()\n",
    "studentLength.plot.hist(title='Length Distribution', bins=20, stacked=True)\n",
    "plt.axvline(lower_cutoff, color='r', linestyle='dashed', linewidth=2)\n",
    "plt.axvline(upper_cutoff, color='r', linestyle='dashed', linewidth=2)\n",
    "plt.xlabel('Length')\n",
    "plt.ylabel('Frequency')\n",
    "plt.show()\n",
    "\n",
    "# Plot the normal distribution\n",
    "x = range(150, 200)\n",
    "y = normal.cdf(x, loc=average, scale=std)\n",
    "plt.plot(x, y)\n",
    "plt.axvline(lower_cutoff, color='r', linestyle='dashed', linewidth=2)\n",
    "plt.axvline(upper_cutoff, color='r', linestyle='dashed', linewidth=2)\n",
    "plt.xlabel('Length')\n",
    "plt.ylabel('Cumulative Probability')\n",
    "plt.title('Cumulative Distribution Function')\n",
    "plt.show()"
   ],
   "metadata": {
    "collapsed": false,
    "ExecuteTime": {
     "end_time": "2024-05-29T10:12:59.723515Z",
     "start_time": "2024-05-29T10:12:59.369300Z"
    }
   },
   "id": "2b6f2cdb5583c35f",
   "outputs": [
    {
     "name": "stdout",
     "output_type": "stream",
     "text": [
      "\u001B[34mAverage: 179.3370786516854\u001B[0m\n",
      "\u001B[34mStandard deviation: 7.71501461175886\u001B[0m\n",
      "\u001B[34mLower cutoff: 167.76455673404712\u001B[0m\n",
      "\u001B[34mUpper cutoff: 190.9096005693237\u001B[0m\n",
      "\u001B[34mPercentage of students within 1.5 standard deviations of the average: 87.64%\u001B[0m\n",
      "\u001B[34mPercentage of students within 1.5 standard deviations of the average (normal distribution): 86.64%\u001B[0m\n"
     ]
    },
    {
     "data": {
      "text/plain": [
       "<Figure size 640x480 with 1 Axes>"
      ],
      "image/png": "[encoded data removed]"
     },
     "metadata": {},
     "output_type": "display_data"
    },
    {
     "data": {
      "text/plain": [
       "<Figure size 640x480 with 1 Axes>"
      ],
      "image/png": "[encoded data removed]"
     },
     "metadata": {},
     "output_type": "display_data"
    }
   ],
   "execution_count": 61
  },
  {
   "cell_type": "markdown",
   "source": [
    "## Testing examples:"
   ],
   "metadata": {
    "collapsed": false
   },
   "id": "d221c39d11dc0179"
  },
  {
   "cell_type": "markdown",
   "source": [
    "### Experiment 1: (Probability distributions)\n",
    "- What will the probability distribution be for the total number of eyes?"
   ],
   "metadata": {
    "collapsed": false
   },
   "id": "a282227cade490b5"
  },
  {
   "cell_type": "code",
   "source": [
    "# Generate random data for two six-sided dice rolls\n",
    "dob1 = np.random.randint(1, 7, 1000)\n",
    "dob2 = np.random.randint(1, 7, 1000)\n",
    "\n",
    "# Create a DataFrame with the sum of the two dice rolls\n",
    "dob = pd.DataFrame({'dob': dob1 + dob2})\n",
    "\n",
    "# Plot a histogram of the sum of dice rolls\n",
    "plt.figure()\n",
    "dob.plot.hist(title='Frequency Distribution', bins=[1.5, 2.5, 3.5, 4.5, 5.5, 6.5, 7.5, 8.5, 9.5, 10.5, 11.5, 12.5], stacked=True)\n",
    "plt.xlabel('Number of Eyes')\n",
    "plt.ylabel('Frequency')\n",
    "plt.show()"
   ],
   "metadata": {
    "collapsed": false,
    "ExecuteTime": {
     "end_time": "2024-05-29T10:12:59.909481Z",
     "start_time": "2024-05-29T10:12:59.724844Z"
    }
   },
   "id": "5e764c2a0c8143fa",
   "outputs": [
    {
     "data": {
      "text/plain": [
       "<Figure size 640x480 with 0 Axes>"
      ]
     },
     "metadata": {},
     "output_type": "display_data"
    },
    {
     "data": {
      "text/plain": [
       "<Figure size 640x480 with 1 Axes>"
      ],
      "image/png": "[encoded data removed]"
     },
     "metadata": {},
     "output_type": "display_data"
    }
   ],
   "execution_count": 62
  },
  {
   "cell_type": "markdown",
   "source": [
    "### Experiment 2: (Binomial distribution)\n",
    "- So what is the probability of getting 0, 1, 2, 3, 4 and 5 questions correct?"
   ],
   "metadata": {
    "collapsed": false
   },
   "id": "d671a080806eb391"
  },
  {
   "cell_type": "code",
   "source": [
    "x = range (0,6)\n",
    "binomiale = binomial.pmf(x, 5, 1 / 4)\n",
    "\n",
    "plt.bar(x, binomiale)\n",
    "plt.xlabel('Number of correct answers')\n",
    "plt.ylabel('Probability')\n",
    "plt.title('Binomial Distribution')\n",
    "plt.show()"
   ],
   "metadata": {
    "collapsed": false,
    "ExecuteTime": {
     "end_time": "2024-05-29T10:24:35.970477Z",
     "start_time": "2024-05-29T10:24:35.806430Z"
    }
   },
   "id": "b446d2215b43eabb",
   "outputs": [
    {
     "data": {
      "text/plain": [
       "<Figure size 640x480 with 1 Axes>"
      ],
      "image/png": "[encoded data removed]"
     },
     "metadata": {},
     "output_type": "display_data"
    }
   ],
   "execution_count": 72
  },
  {
   "cell_type": "markdown",
   "source": [
    "### Experiment 3: (Binomial distribution)\n",
    "- What is the probability when flipping a coin `10` times of getting `0`, `1`, `2`, `3`, `4`, `5`, `6`, `7`, `8` , `9` and `10` heads?"
   ],
   "metadata": {
    "collapsed": false
   },
   "id": "23f40fad738ad645"
  },
  {
   "cell_type": "code",
   "source": [
    "x=range(0, 11)\n",
    "y= (0, 0, 6, 10, 35, 27, 24, 16, 2, 0, 0)\n",
    "plt.figure()\n",
    "plt.bar(x, y)\n",
    "plt.ylabel('Frequentie')\n",
    "plt.show()"
   ],
   "metadata": {
    "collapsed": false,
    "ExecuteTime": {
     "end_time": "2024-05-29T10:24:49.938196Z",
     "start_time": "2024-05-29T10:24:49.829495Z"
    }
   },
   "id": "d7cde89525905522",
   "outputs": [
    {
     "data": {
      "text/plain": [
       "<Figure size 640x480 with 1 Axes>"
      ],
      "image/png": "[encoded data removed]"
     },
     "metadata": {},
     "output_type": "display_data"
    }
   ],
   "execution_count": 73
  },
  {
   "cell_type": "markdown",
   "source": [
    "### Experiment 4: (Normal distribution)"
   ],
   "metadata": {
    "collapsed": false
   },
   "id": "bc0f8732795e53fc"
  },
  {
   "cell_type": "code",
   "source": [
    "x = range(160, 200)\n",
    "y = normal.cdf(x, loc=180, scale=10) # Cumulative Density Function => cum. opportunity\n",
    "# loc = average\n",
    "# scale = standard deviation\n",
    "plt.plot(x, y)\n",
    "plt.xlabel('Weight')\n",
    "plt.ylabel('Cumulative Probability')\n",
    "plt.title('Cumulative Distribution Function')\n",
    "plt.show()"
   ],
   "metadata": {
    "collapsed": false,
    "ExecuteTime": {
     "end_time": "2024-05-29T10:13:00.330925Z",
     "start_time": "2024-05-29T10:13:00.162380Z"
    }
   },
   "id": "a4839df513974eb3",
   "outputs": [
    {
     "data": {
      "text/plain": [
       "<Figure size 640x480 with 1 Axes>"
      ],
      "image/png": "[encoded data removed]"
     },
     "metadata": {},
     "output_type": "display_data"
    }
   ],
   "execution_count": 65
  },
  {
   "cell_type": "markdown",
   "source": [
    "### Experiment 5: (Poisson distribution)"
   ],
   "metadata": {
    "collapsed": false
   },
   "id": "90e6212958d85068"
  },
  {
   "cell_type": "code",
   "source": [
    "x = range(0, 13)\n",
    "y = poisson.pmf(x, 3) # Probability Mass Function => probability\n",
    "\n",
    "plt.bar(x, y)\n",
    "plt.xlabel('Number of events')\n",
    "plt.ylabel('Probability')\n",
    "plt.title('Poisson Distribution')\n",
    "plt.show()\n",
    "\n",
    "y = poisson.cdf(x, 3) # Cumulative Density Function => cum. opportunity\n",
    "\n",
    "plt.plot(x, y)\n",
    "plt.xlabel('Number of events')\n",
    "plt.ylabel('Cumulative Probability')\n",
    "plt.title('Cumulative Distribution Function')\n",
    "plt.show()"
   ],
   "metadata": {
    "collapsed": false,
    "ExecuteTime": {
     "end_time": "2024-05-29T10:13:00.671145Z",
     "start_time": "2024-05-29T10:13:00.333611Z"
    }
   },
   "id": "ff2545d2f9ce3b3b",
   "outputs": [
    {
     "data": {
      "text/plain": [
       "<Figure size 640x480 with 1 Axes>"
      ],
      "image/png": "[encoded data removed]"
     },
     "metadata": {},
     "output_type": "display_data"
    },
    {
     "data": {
      "text/plain": [
       "<Figure size 640x480 with 1 Axes>"
      ],
      "image/png": "[encoded data removed]"
     },
     "metadata": {},
     "output_type": "display_data"
    }
   ],
   "execution_count": 66
  }
 ],
 "metadata": {
  "kernelspec": {
   "display_name": "Python 3",
   "language": "python",
   "name": "python3"
  },
  "language_info": {
   "codemirror_mode": {
    "name": "ipython",
    "version": 2
   },
   "file_extension": ".py",
   "mimetype": "text/x-python",
   "name": "python",
   "nbconvert_exporter": "python",
   "pygments_lexer": "ipython2",
   "version": "2.7.6"
  }
 },
 "nbformat": 4,
 "nbformat_minor": 5
}

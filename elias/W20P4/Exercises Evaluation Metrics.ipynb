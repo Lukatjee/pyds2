{
 "cells": [
  {
   "cell_type": "markdown",
   "source": [
    "# Exercises Evaluation Metrics"
   ],
   "metadata": {
    "collapsed": false
   },
   "id": "fc11ae5046d6cd48"
  },
  {
   "cell_type": "code",
   "source": [
    "from termcolor import colored # type: ignore                                          # Colored text\n",
    "from random import Random  # type: ignore                                             # Random number generator\n",
    "import math  # type: ignore                                                           # Mathematical functions\n",
    "import pandas as pd  # type: ignore                                                   # Data manipulation\n",
    "import numpy as np  # type: ignore                                                    # Scientific computing\n",
    "import matplotlib.pyplot as plt  # type: ignore                                       # Data visualization\n",
    "from scipy.stats import binom as binomial  # type: ignore                             # Binomial distribution\n",
    "from scipy.stats import norm as normal  # type: ignore                                # Normal distribution\n",
    "from scipy.stats import poisson as poisson  # type: ignore                            # Poisson distribution\n",
    "from scipy.stats import t as student  # type: ignore                                  # Student distribution\n",
    "from scipy.stats import chi2  # type: ignore                                          # Chi-squared distribution\n",
    "from scipy.stats import ttest_1samp  # type: ignore                                   # One-sample t-test\n",
    "from scipy.stats import chisquare  # type: ignore                                     # Chi-squared test\n",
    "from scipy.special import comb  # type: ignore                                        # Combinations\n",
    "from mlxtend.frequent_patterns import apriori  # type: ignore                         # Apriori algorithm\n",
    "from mlxtend.frequent_patterns import fpgrowth  # type: ignore                        # FP-growth algorithm\n",
    "from mlxtend.frequent_patterns import association_rules  # type: ignore               # Association rules\n",
    "from mlxtend.preprocessing import TransactionEncoder  # type: ignore                  # Transaction encoder\n",
    "from sklearn.discriminant_analysis import LinearDiscriminantAnalysis  # type: ignore  # Discriminant Analysis\n",
    "from tensorflow import keras  # type: ignore                                          # Deep Learning library\n",
    "from tensorflow.keras import Model  # type: ignore                                    # Model class\n",
    "from tensorflow.keras.layers import Input, Dense, BatchNormalization  # type: ignore  # Layers\n",
    "from tensorflow.keras.utils import to_categorical  # type: ignore                     # One-hot encoding\n",
    "from tensorflow.keras.optimizers import Adam  # type: ignore                          # Optimizer\n",
    "from livelossplot import PlotLossesKeras  # type: ignore                              # Live plot\n",
    "from keras.src.optimizers import RMSprop  # type: ignore                              # Optimizer\n",
    "from sklearn.model_selection import train_test_split  # type: ignore                  # Train-test split\n",
    "from sklearn.metrics import roc_auc_score # type: ignore                              # ROC AUC score\n",
    "from simanneal import Annealer  # type: ignore                                        # Simulated Annealing\n",
    "from inspyred import ec  # type: ignore                                               # Evolutionary Computation\n",
    "import warnings  # type: ignore                                                       # Disable warnings\n",
    "from res.Functions import *  # type: ignore                                     # Custom functions\n",
    "warnings.filterwarnings(\"ignore\")                                                     # Disable warnings\n",
    "outputColor = \"blue\"                                                                  # Color for the output"
   ],
   "metadata": {
    "collapsed": false,
    "ExecuteTime": {
     "end_time": "2024-06-10T16:47:02.587743Z",
     "start_time": "2024-06-10T16:47:02.577842Z"
    }
   },
   "id": "1796a7e3a7232f25",
   "outputs": [],
   "execution_count": 2
  },
  {
   "cell_type": "markdown",
   "source": [
    "## Theoretical questions\n",
    "> **Goal**: Evaluate classifiers to make sure that they are useful."
   ],
   "metadata": {
    "collapsed": false
   },
   "id": "d66cd879508e8eb4"
  },
  {
   "cell_type": "markdown",
   "source": [
    "### Question 1:\n",
    "- In the table below you will find the confusion matrix of a binary classifier.\n",
    "\n",
    "|            | Predicted YES | Predicted NO | Total |\n",
    "|------------|---------------|--------------|-------|\n",
    "| Actual YES | 100           | 5            | 105   |\n",
    "| Actual NO  | 10            | 50           | 60    |\n",
    "| Total      | 110           | 55           | 165   |\n",
    "\n",
    "- **NOTE**: \n",
    "    - YES = Positive\n",
    "    - NO = Negative\n",
    "\n",
    "\n",
    "- Now answer the following questions:\n",
    "     - What are the values for TP, TN, FP, FN?\n",
    "     - Now calculate the accuracy, precision and recall.\n",
    "     - Calculate the F1 measures and F1.5 measures.\n",
    "     - What is the TPR and FPR? Compare with your recall. What do you determine?"
   ],
   "metadata": {
    "collapsed": false
   },
   "id": "8dcce8d70aac0bac"
  },
  {
   "cell_type": "code",
   "source": [
    "# Load in data\n",
    "confusion_matrix1 = pd.DataFrame(data=[[100, 5], [10, 50]], \n",
    "                                 columns=['Predicted YES', 'Predicted NO'], \n",
    "                                 index=['Actual YES', 'Actual NO'])\n",
    "display(confusion_matrix1)"
   ],
   "metadata": {
    "collapsed": false,
    "ExecuteTime": {
     "end_time": "2024-05-29T14:14:47.418482Z",
     "start_time": "2024-05-29T14:14:47.405347Z"
    }
   },
   "id": "75ae57120d7676d6",
   "outputs": [
    {
     "data": {
      "text/plain": [
       "            Predicted YES  Predicted NO\n",
       "Actual YES            100             5\n",
       "Actual NO              10            50"
      ],
      "text/html": [
       "<div>\n",
       "<style scoped>\n",
       "    .dataframe tbody tr th:only-of-type {\n",
       "        vertical-align: middle;\n",
       "    }\n",
       "\n",
       "    .dataframe tbody tr th {\n",
       "        vertical-align: top;\n",
       "    }\n",
       "\n",
       "    .dataframe thead th {\n",
       "        text-align: right;\n",
       "    }\n",
       "</style>\n",
       "<table border=\"1\" class=\"dataframe\">\n",
       "  <thead>\n",
       "    <tr style=\"text-align: right;\">\n",
       "      <th></th>\n",
       "      <th>Predicted YES</th>\n",
       "      <th>Predicted NO</th>\n",
       "    </tr>\n",
       "  </thead>\n",
       "  <tbody>\n",
       "    <tr>\n",
       "      <th>Actual YES</th>\n",
       "      <td>100</td>\n",
       "      <td>5</td>\n",
       "    </tr>\n",
       "    <tr>\n",
       "      <th>Actual NO</th>\n",
       "      <td>10</td>\n",
       "      <td>50</td>\n",
       "    </tr>\n",
       "  </tbody>\n",
       "</table>\n",
       "</div>"
      ]
     },
     "metadata": {},
     "output_type": "display_data"
    }
   ],
   "execution_count": 93
  },
  {
   "metadata": {
    "ExecuteTime": {
     "end_time": "2024-05-29T14:14:47.449376Z",
     "start_time": "2024-05-29T14:14:47.436053Z"
    }
   },
   "cell_type": "code",
   "source": [
    "# Calculating the TP, TN, FP en FN.\n",
    "TP1, TN1, FP1, FN1 = calculate_confusion_metrics(confusion_matrix1, 'Predicted YES')\n",
    "\n",
    "# True Positives (TP): The number of correct positive predictions.\n",
    "print(colored(f\"True Positives (TP): {TP1}\", outputColor))\n",
    "\n",
    "# True Negatives (TN): The number of correct negative predictions.\n",
    "print(colored(f\"True Negatives (TN): {TN1}\", outputColor))\n",
    "\n",
    "# False Positives (FP): The number of incorrect positive predictions.\n",
    "print(colored(f\"False Positives (FP): {FP1}\", outputColor))\n",
    "\n",
    "# False Negatives (FN): The number of incorrect negative predictions.\n",
    "print(colored(f\"False Negatives (FN): {FN1}\", outputColor))"
   ],
   "id": "6e8a29fd9af9c784",
   "outputs": [
    {
     "name": "stdout",
     "output_type": "stream",
     "text": [
      "\u001B[34mTrue Positives (TP): 100\u001B[0m\n",
      "\u001B[34mTrue Negatives (TN): 50\u001B[0m\n",
      "\u001B[34mFalse Positives (FP): 10\u001B[0m\n",
      "\u001B[34mFalse Negatives (FN): 5\u001B[0m\n"
     ]
    }
   ],
   "execution_count": 94
  },
  {
   "cell_type": "code",
   "source": [
    "# Evaluating model\n",
    "accuracy = accuracyf(confusion_matrix1)\n",
    "\n",
    "precision_yes = precisionf(confusion_matrix1)[0]\n",
    "precision_no = precisionf(confusion_matrix1)[1]\n",
    "\n",
    "recall_yes = recallf(confusion_matrix1)[0]\n",
    "recall_no = recallf(confusion_matrix1)[1]\n",
    "\n",
    "f1_yes = f_measuref(confusion_matrix1, 1)[0]\n",
    "f1_no = f_measuref(confusion_matrix1, 1)[1]\n",
    "\n",
    "f15_yes = f_measuref(confusion_matrix1, 1.5)[0]\n",
    "f15_no = f_measuref(confusion_matrix1, 1.5)[1]\n",
    "\n",
    "# Accuracy: The sum of all correct predictions divided by the total sum.\n",
    "print(colored(f\"The accuracy of the classifier is: {round(accuracy, 2) * 100}%\\n\", outputColor))\n",
    "\n",
    "# Precision: The number of correct positive predictions divided by the total predictions.\n",
    "print(colored(f\"The precision of the classifier for yes is: {round(precision_yes, 2) * 100}%\", outputColor))\n",
    "print(colored(f\"The precision of the classifier for no is: {round(precision_no, 2) * 100}%\\n\", outputColor))\n",
    "\n",
    "# Recall: The number of correct positive predictions divided by the number of total positives.\n",
    "print(colored(f\"The recall of the binary classifier for yes is: {round(recall_yes, 2) * 100}%\", outputColor))\n",
    "print(colored(f\"The recall of the binary classifier for no is: {round(recall_no, 2) * 100}%\\n\", outputColor))\n",
    "\n",
    "# F-measuref: The curved harmonic mean of precision and recall.\n",
    "print(colored(f\"The F1-measure of the binary classifier for yes is: {round(f1_yes, 2) * 100}%\", outputColor))\n",
    "print(colored(f\"The F1-measure of the binary classifier for no is: {round(f1_no, 2) * 100}%\\n\", outputColor))\n",
    "\n",
    "print(colored(f\"The F1.5-measure of the binary classifier for yes is: {round(f15_yes, 2) * 100}%\", outputColor))\n",
    "print(colored(f\"The F1.5-measure of the binary classifier for no is: {round(f15_no, 2) * 100}%\\n\", outputColor))\n",
    "\n",
    "evaluate_classifier(confusion_matrix1, 1, 0.9)"
   ],
   "metadata": {
    "collapsed": false,
    "ExecuteTime": {
     "end_time": "2024-05-29T14:14:47.497079Z",
     "start_time": "2024-05-29T14:14:47.487427Z"
    }
   },
   "id": "ab53a45d5868a47c",
   "outputs": [
    {
     "name": "stdout",
     "output_type": "stream",
     "text": [
      "\u001B[34mThe accuracy of the classifier is: 91.0%\n",
      "\u001B[0m\n",
      "\u001B[34mThe precision of the classifier for yes is: 91.0%\u001B[0m\n",
      "\u001B[34mThe precision of the classifier for no is: 91.0%\n",
      "\u001B[0m\n",
      "\u001B[34mThe recall of the binary classifier for yes is: 95.0%\u001B[0m\n",
      "\u001B[34mThe recall of the binary classifier for no is: 83.0%\n",
      "\u001B[0m\n",
      "\u001B[34mThe F1-measure of the binary classifier for yes is: 93.0%\u001B[0m\n",
      "\u001B[34mThe F1-measure of the binary classifier for no is: 87.0%\n",
      "\u001B[0m\n",
      "\u001B[34mThe F1.5-measure of the binary classifier for yes is: 94.0%\u001B[0m\n",
      "\u001B[34mThe F1.5-measure of the binary classifier for no is: 86.0%\n",
      "\u001B[0m\n",
      "This is a bad classifier with a threshold of 90.0%\n"
     ]
    }
   ],
   "execution_count": 95
  },
  {
   "cell_type": "code",
   "source": [
    "# Calculating the TPR, FPR and comparing it with the recall.\n",
    "positiveratesf(confusion_matrix1)\n",
    "print(colored(f\"Recall Yes: {recall_yes}\", outputColor))\n",
    "print(colored(f\"'TPF' is equal to the 'recall_yes'\", outputColor))"
   ],
   "metadata": {
    "collapsed": false,
    "ExecuteTime": {
     "end_time": "2024-05-29T14:14:47.529229Z",
     "start_time": "2024-05-29T14:14:47.513321Z"
    }
   },
   "id": "ef563535e8376ffc",
   "outputs": [
    {
     "name": "stdout",
     "output_type": "stream",
     "text": [
      "TPR 0.9523809523809523\n",
      "FPR 0.16666666666666666\n",
      "\u001B[34mRecall Yes: 0.9523809523809523\u001B[0m\n",
      "\u001B[34m'TPF' is equal to the 'recall_yes'\u001B[0m\n"
     ]
    }
   ],
   "execution_count": 96
  },
  {
   "cell_type": "markdown",
   "source": [
    "### Question 2:\n",
    "- In the table below you will find the confusion matrix of a binary classifier.\n",
    "\n",
    "|            | Predicted YES | Predicted NO | Total |\n",
    "|------------|---------------|--------------|-------|\n",
    "| Actual A   | 100           | 0            | 100   |\n",
    "| Actual B   | 50            | 5            | 55    |\n",
    "| Total      | 150           | 5            | 155   |\n",
    "\n",
    "- **NOTE**: \n",
    "    - YES = Positive\n",
    "    - NO = Negative\n",
    "\n",
    "\n",
    "- Now answer the following questions:\n",
    "     - What are the values for TP, TN, FP, FN?\n",
    "     - Calculate the accuracy, precision and recall, and F1.\n",
    "     - Is this a good classifier?"
   ],
   "metadata": {
    "collapsed": false
   },
   "id": "3d07b7bd896afd9c"
  },
  {
   "cell_type": "code",
   "source": [
    "# Load in data\n",
    "confusion_matrix2 = pd.DataFrame(data=[[100, 0], [50, 5]], \n",
    "                                 columns=['Predicted YES', 'Predicted NO'], \n",
    "                                 index=['Actual A', 'Actual B'])\n",
    "display(confusion_matrix2)"
   ],
   "metadata": {
    "collapsed": false,
    "ExecuteTime": {
     "end_time": "2024-05-29T14:14:47.544717Z",
     "start_time": "2024-05-29T14:14:47.533334Z"
    }
   },
   "id": "82a1ff92b3680ff9",
   "outputs": [
    {
     "data": {
      "text/plain": [
       "          Predicted YES  Predicted NO\n",
       "Actual A            100             0\n",
       "Actual B             50             5"
      ],
      "text/html": [
       "<div>\n",
       "<style scoped>\n",
       "    .dataframe tbody tr th:only-of-type {\n",
       "        vertical-align: middle;\n",
       "    }\n",
       "\n",
       "    .dataframe tbody tr th {\n",
       "        vertical-align: top;\n",
       "    }\n",
       "\n",
       "    .dataframe thead th {\n",
       "        text-align: right;\n",
       "    }\n",
       "</style>\n",
       "<table border=\"1\" class=\"dataframe\">\n",
       "  <thead>\n",
       "    <tr style=\"text-align: right;\">\n",
       "      <th></th>\n",
       "      <th>Predicted YES</th>\n",
       "      <th>Predicted NO</th>\n",
       "    </tr>\n",
       "  </thead>\n",
       "  <tbody>\n",
       "    <tr>\n",
       "      <th>Actual A</th>\n",
       "      <td>100</td>\n",
       "      <td>0</td>\n",
       "    </tr>\n",
       "    <tr>\n",
       "      <th>Actual B</th>\n",
       "      <td>50</td>\n",
       "      <td>5</td>\n",
       "    </tr>\n",
       "  </tbody>\n",
       "</table>\n",
       "</div>"
      ]
     },
     "metadata": {},
     "output_type": "display_data"
    }
   ],
   "execution_count": 97
  },
  {
   "metadata": {
    "ExecuteTime": {
     "end_time": "2024-05-29T14:14:47.621477Z",
     "start_time": "2024-05-29T14:14:47.607189Z"
    }
   },
   "cell_type": "code",
   "source": [
    "# Calculating the TP, TN, FP en FN.\n",
    "TP1, TN1, FP1, FN1 = calculate_confusion_metrics(confusion_matrix2, 'Predicted YES')\n",
    "\n",
    "# True Positives (TP): The number of correct positive predictions.\n",
    "print(colored(f\"True Positives (TP): {TP1}\", outputColor))\n",
    "\n",
    "# True Negatives (TN): The number of correct negative predictions.\n",
    "print(colored(f\"True Negatives (TN): {TN1}\", outputColor))\n",
    "\n",
    "# False Positives (FP): The number of incorrect positive predictions.\n",
    "print(colored(f\"False Positives (FP): {FP1}\", outputColor))\n",
    "\n",
    "# False Negatives (FN): The number of incorrect negative predictions.\n",
    "print(colored(f\"False Negatives (FN): {FN1}\", outputColor))"
   ],
   "id": "cc1453c015f4b4ea",
   "outputs": [
    {
     "name": "stdout",
     "output_type": "stream",
     "text": [
      "\u001B[34mTrue Positives (TP): 100\u001B[0m\n",
      "\u001B[34mTrue Negatives (TN): 5\u001B[0m\n",
      "\u001B[34mFalse Positives (FP): 50\u001B[0m\n",
      "\u001B[34mFalse Negatives (FN): 0\u001B[0m\n"
     ]
    }
   ],
   "execution_count": 98
  },
  {
   "cell_type": "code",
   "source": [
    "# Evaluating model\n",
    "accuracy = accuracyf(confusion_matrix2)\n",
    "\n",
    "precision_yes = precisionf(confusion_matrix2)[0]\n",
    "precision_no = precisionf(confusion_matrix2)[1]\n",
    "\n",
    "recall_yes = recallf(confusion_matrix2)[0]\n",
    "recall_no = recallf(confusion_matrix2)[1]\n",
    "\n",
    "f1_yes = f_measuref(confusion_matrix2, 1)[0]\n",
    "f1_no = f_measuref(confusion_matrix2, 1)[1]\n",
    "\n",
    "# Accuracy: The sum of all correct predictions divided by the total sum.\n",
    "print(colored(f\"The accuracy of the classifier is: {round(accuracy, 2) * 100}%\\n\", outputColor))\n",
    "\n",
    "# Precision: The number of correct positive predictions divided by the total predictions.\n",
    "print(colored(f\"The precision of the classifier for yes is: {round(precision_yes, 2) * 100}%\", outputColor))\n",
    "print(colored(f\"The precision of the classifier for no is: {round(precision_no, 2) * 100}%\\n\", outputColor))\n",
    "\n",
    "# Recall: The number of correct positive predictions divided by the number of total positives.\n",
    "print(colored(f\"The recall of the binary classifier for yes is: {round(recall_yes, 2) * 100}%\", outputColor))\n",
    "print(colored(f\"The recall of the binary classifier for no is: {round(recall_no, 2) * 100}%\\n\", outputColor))\n",
    "\n",
    "# F-measuref: The curved harmonic mean of precision and recall.\n",
    "print(colored(f\"The F1-measure of the binary classifier for yes is: {round(f1_yes, 2) * 100}%\", outputColor))\n",
    "print(colored(f\"The F1-measure of the binary classifier for no is: {round(f1_no, 2) * 100}%\\n\", outputColor))\n",
    "\n",
    "evaluate_classifier(confusion_matrix2, 1, 0.9)"
   ],
   "metadata": {
    "collapsed": false,
    "ExecuteTime": {
     "end_time": "2024-05-29T14:14:47.683788Z",
     "start_time": "2024-05-29T14:14:47.660437Z"
    }
   },
   "id": "2cb4672d272844b1",
   "outputs": [
    {
     "name": "stdout",
     "output_type": "stream",
     "text": [
      "\u001B[34mThe accuracy of the classifier is: 68.0%\n",
      "\u001B[0m\n",
      "\u001B[34mThe precision of the classifier for yes is: 67.0%\u001B[0m\n",
      "\u001B[34mThe precision of the classifier for no is: 100.0%\n",
      "\u001B[0m\n",
      "\u001B[34mThe recall of the binary classifier for yes is: 100.0%\u001B[0m\n",
      "\u001B[34mThe recall of the binary classifier for no is: 9.0%\n",
      "\u001B[0m\n",
      "\u001B[34mThe F1-measure of the binary classifier for yes is: 80.0%\u001B[0m\n",
      "\u001B[34mThe F1-measure of the binary classifier for no is: 17.0%\n",
      "\u001B[0m\n",
      "This is a bad classifier with a threshold of 90.0%\n"
     ]
    }
   ],
   "execution_count": 99
  },
  {
   "cell_type": "markdown",
   "source": [
    "### Question 3:\n",
    "- In the table below you will find the confusion matrix of a multiclass classifier.\n",
    "\n",
    "|            | Asfalt | Beton | Gras | Boom | Gebouw | Total |\n",
    "|------------|--------|-------|------|------|--------|-------|\n",
    "| Asfalt     | 2385   | 0     | 0    | 0    | 12     | 2397  |\n",
    "| Beton      | 4      | 332   | 1    | 0    | 0      | 337   |\n",
    "| Gras       | 0      | 0     | 908  | 0    | 0      | 908   |\n",
    "| Boom       | 1      | 0     | 8    | 1084 | 6      | 1099  |\n",
    "| Gebouw     | 4      | 1     | 0    | 9    | 2053   | 2067  |\n",
    "| Total      | 2394   | 333   | 917  | 1093 | 2071   | 6808  |\n",
    "\n",
    "- Beantwoord nu de volgende vragen:\n",
    "    - What are the values for TP, FP, FN for the Grass class?\n",
    "    - Now calculate the accuracy, precision and recall per class with these functions.\n",
    "    - Is this a good classifier?\n"
   ],
   "metadata": {
    "collapsed": false
   },
   "id": "921495f352a4d7dd"
  },
  {
   "cell_type": "code",
   "source": [
    "confusion_matrix3 = pd.DataFrame(data=[[2385, 0, 0, 0, 12], [4, 332, 1, 0, 0], [0, 0, 908, 0, 0], [1, 0, 8, 1084, 6], [4, 1, 0, 9, 2053]], \n",
    "                                 columns=['Asfalt', 'Beton', 'Gras', 'Boom', 'Gebouw'], \n",
    "                                 index=['Asfalt', 'Beton', 'Gras', 'Boom', 'Gebouw'])\n",
    "display(confusion_matrix3)"
   ],
   "metadata": {
    "collapsed": false,
    "ExecuteTime": {
     "end_time": "2024-05-29T14:14:47.730508Z",
     "start_time": "2024-05-29T14:14:47.707968Z"
    }
   },
   "id": "91920bf20083163c",
   "outputs": [
    {
     "data": {
      "text/plain": [
       "        Asfalt  Beton  Gras  Boom  Gebouw\n",
       "Asfalt    2385      0     0     0      12\n",
       "Beton        4    332     1     0       0\n",
       "Gras         0      0   908     0       0\n",
       "Boom         1      0     8  1084       6\n",
       "Gebouw       4      1     0     9    2053"
      ],
      "text/html": [
       "<div>\n",
       "<style scoped>\n",
       "    .dataframe tbody tr th:only-of-type {\n",
       "        vertical-align: middle;\n",
       "    }\n",
       "\n",
       "    .dataframe tbody tr th {\n",
       "        vertical-align: top;\n",
       "    }\n",
       "\n",
       "    .dataframe thead th {\n",
       "        text-align: right;\n",
       "    }\n",
       "</style>\n",
       "<table border=\"1\" class=\"dataframe\">\n",
       "  <thead>\n",
       "    <tr style=\"text-align: right;\">\n",
       "      <th></th>\n",
       "      <th>Asfalt</th>\n",
       "      <th>Beton</th>\n",
       "      <th>Gras</th>\n",
       "      <th>Boom</th>\n",
       "      <th>Gebouw</th>\n",
       "    </tr>\n",
       "  </thead>\n",
       "  <tbody>\n",
       "    <tr>\n",
       "      <th>Asfalt</th>\n",
       "      <td>2385</td>\n",
       "      <td>0</td>\n",
       "      <td>0</td>\n",
       "      <td>0</td>\n",
       "      <td>12</td>\n",
       "    </tr>\n",
       "    <tr>\n",
       "      <th>Beton</th>\n",
       "      <td>4</td>\n",
       "      <td>332</td>\n",
       "      <td>1</td>\n",
       "      <td>0</td>\n",
       "      <td>0</td>\n",
       "    </tr>\n",
       "    <tr>\n",
       "      <th>Gras</th>\n",
       "      <td>0</td>\n",
       "      <td>0</td>\n",
       "      <td>908</td>\n",
       "      <td>0</td>\n",
       "      <td>0</td>\n",
       "    </tr>\n",
       "    <tr>\n",
       "      <th>Boom</th>\n",
       "      <td>1</td>\n",
       "      <td>0</td>\n",
       "      <td>8</td>\n",
       "      <td>1084</td>\n",
       "      <td>6</td>\n",
       "    </tr>\n",
       "    <tr>\n",
       "      <th>Gebouw</th>\n",
       "      <td>4</td>\n",
       "      <td>1</td>\n",
       "      <td>0</td>\n",
       "      <td>9</td>\n",
       "      <td>2053</td>\n",
       "    </tr>\n",
       "  </tbody>\n",
       "</table>\n",
       "</div>"
      ]
     },
     "metadata": {},
     "output_type": "display_data"
    }
   ],
   "execution_count": 100
  },
  {
   "metadata": {
    "ExecuteTime": {
     "end_time": "2024-05-29T14:14:47.841153Z",
     "start_time": "2024-05-29T14:14:47.831712Z"
    }
   },
   "cell_type": "code",
   "source": [
    "# Calculating the TP, TN, FP en FN.\n",
    "TP1, TN1, FP1, FN1 = calculate_confusion_metrics(confusion_matrix3, 'Gras')\n",
    "\n",
    "# True Positives (TP): The number of correct positive predictions.\n",
    "print(colored(f\"True Positives (TP): {TP1}\", outputColor))\n",
    "\n",
    "# False Positives (FP): The number of incorrect positive predictions.\n",
    "print(colored(f\"False Positives (FP): {FP1}\", outputColor))\n",
    "\n",
    "# False Negatives (FN): The number of incorrect negative predictions.\n",
    "print(colored(f\"False Negatives (FN): {FN1}\", outputColor))"
   ],
   "id": "d57715110e1ab42e",
   "outputs": [
    {
     "name": "stdout",
     "output_type": "stream",
     "text": [
      "\u001B[34mTrue Positives (TP): 908\u001B[0m\n",
      "\u001B[34mFalse Positives (FP): 9\u001B[0m\n",
      "\u001B[34mFalse Negatives (FN): 0\u001B[0m\n"
     ]
    }
   ],
   "execution_count": 101
  },
  {
   "cell_type": "code",
   "source": [
    "# Evaluating model\n",
    "accuracy = accuracyf(confusion_matrix3)\n",
    "\n",
    "precision_asfalt = precisionf(confusion_matrix3)[0]\n",
    "precision_beton = precisionf(confusion_matrix3)[1]\n",
    "precision_gras = precisionf(confusion_matrix3)[2]\n",
    "precision_boom = precisionf(confusion_matrix3)[3]\n",
    "precision_gebouw = precisionf(confusion_matrix3)[4]\n",
    "\n",
    "recall_asfalt = recallf(confusion_matrix3)[0]\n",
    "recall_beton = recallf(confusion_matrix3)[1]\n",
    "recall_gras = recallf(confusion_matrix3)[2]\n",
    "recall_boom = recallf(confusion_matrix3)[3]\n",
    "recall_gebouw = recallf(confusion_matrix3)[4]\n",
    "\n",
    "f1_asfalt = f_measuref(confusion_matrix3, 1)[0]\n",
    "f1_beton = f_measuref(confusion_matrix3, 1)[1]\n",
    "f1_gras = f_measuref(confusion_matrix3, 1)[2]\n",
    "f1_boom = f_measuref(confusion_matrix3, 1)[3]\n",
    "f1_gebouw = f_measuref(confusion_matrix3, 1)[4]\n",
    "\n",
    "# Accuracy: The sum of all correct predictions divided by the total sum.\n",
    "print(colored(f\"The accuracy of the classifier is: {round(accuracy, 2) * 100}%\\n\", outputColor))\n",
    "\n",
    "# Precision: The number of correct positive predictions divided by the total predictions.\n",
    "print(colored(f\"The precision of the classifier for asfalt is: {round(precision_asfalt, 2) * 100}%\", outputColor))\n",
    "print(colored(f\"The precision of the classifier for beton is: {round(precision_beton, 2) * 100}%\", outputColor))\n",
    "print(colored(f\"The precision of the classifier for gras is: {round(precision_gras, 2) * 100}%\", outputColor))\n",
    "print(colored(f\"The precision of the classifier for boom is: {round(precision_boom, 2) * 100}%\", outputColor))\n",
    "print(colored(f\"The precision of the classifier for gebouw is: {round(precision_gebouw, 2) * 100}%\\n\", outputColor))\n",
    "\n",
    "# Recall: The number of correct positive predictions divided by the number of total positives.\n",
    "print(colored(f\"The recall of the binary classifier for asfalt is: {round(recall_asfalt, 2) * 100}%\", outputColor))\n",
    "print(colored(f\"The recall of the binary classifier for beton is: {round(recall_beton, 2) * 100}%\", outputColor))\n",
    "print(colored(f\"The recall of the binary classifier for gras is: {round(recall_gras, 2) * 100}%\", outputColor))\n",
    "print(colored(f\"The recall of the binary classifier for boom is: {round(recall_boom, 2) * 100}%\", outputColor))\n",
    "print(colored(f\"The recall of the binary classifier for gebouw is: {round(recall_gebouw, 2) * 100}%\\n\", outputColor))\n",
    "\n",
    "# F-measuref: The curved harmonic mean of precision and recall.\n",
    "print(colored(f\"The F1-measure of the binary classifier for asfalt is: {round(f1_asfalt, 2) * 100}%\", outputColor))\n",
    "print(colored(f\"The F1-measure of the binary classifier for beton is: {round(f1_beton, 2) * 100}%\", outputColor))\n",
    "print(colored(f\"The F1-measure of the binary classifier for gras is: {round(f1_gras, 2) * 100}%\", outputColor))\n",
    "print(colored(f\"The F1-measure of the binary classifier for boom is: {round(f1_boom, 2) * 100}%\", outputColor))\n",
    "print(colored(f\"The F1-measure of the binary classifier for gebouw is: {round(f1_gebouw, 2) * 100}%\\n\", outputColor))"
   ],
   "metadata": {
    "collapsed": false,
    "ExecuteTime": {
     "end_time": "2024-05-29T14:14:47.903705Z",
     "start_time": "2024-05-29T14:14:47.890151Z"
    }
   },
   "id": "c8fb773b1095ee86",
   "outputs": [
    {
     "name": "stdout",
     "output_type": "stream",
     "text": [
      "\u001B[34mThe accuracy of the classifier is: 99.0%\n",
      "\u001B[0m\n",
      "\u001B[34mThe precision of the classifier for asfalt is: 100.0%\u001B[0m\n",
      "\u001B[34mThe precision of the classifier for beton is: 100.0%\u001B[0m\n",
      "\u001B[34mThe precision of the classifier for gras is: 99.0%\u001B[0m\n",
      "\u001B[34mThe precision of the classifier for boom is: 99.0%\u001B[0m\n",
      "\u001B[34mThe precision of the classifier for gebouw is: 99.0%\n",
      "\u001B[0m\n",
      "\u001B[34mThe recall of the binary classifier for asfalt is: 99.0%\u001B[0m\n",
      "\u001B[34mThe recall of the binary classifier for beton is: 99.0%\u001B[0m\n",
      "\u001B[34mThe recall of the binary classifier for gras is: 100.0%\u001B[0m\n",
      "\u001B[34mThe recall of the binary classifier for boom is: 99.0%\u001B[0m\n",
      "\u001B[34mThe recall of the binary classifier for gebouw is: 99.0%\n",
      "\u001B[0m\n",
      "\u001B[34mThe F1-measure of the binary classifier for asfalt is: 100.0%\u001B[0m\n",
      "\u001B[34mThe F1-measure of the binary classifier for beton is: 99.0%\u001B[0m\n",
      "\u001B[34mThe F1-measure of the binary classifier for gras is: 100.0%\u001B[0m\n",
      "\u001B[34mThe F1-measure of the binary classifier for boom is: 99.0%\u001B[0m\n",
      "\u001B[34mThe F1-measure of the binary classifier for gebouw is: 99.0%\n",
      "\u001B[0m\n"
     ]
    }
   ],
   "execution_count": 102
  },
  {
   "metadata": {
    "ExecuteTime": {
     "end_time": "2024-05-29T14:14:47.949895Z",
     "start_time": "2024-05-29T14:14:47.936938Z"
    }
   },
   "cell_type": "code",
   "source": "evaluate_classifier(confusion_matrix3, 1, 0.9)",
   "id": "38a50cd6ef2d4b22",
   "outputs": [
    {
     "name": "stdout",
     "output_type": "stream",
     "text": [
      "This is a good classifier with a threshold of 90.0%\n"
     ]
    }
   ],
   "execution_count": 103
  },
  {
   "cell_type": "markdown",
   "source": [
    "### Question 4:\n",
    "- Read the data in the file `..\\Data\\Simpsons_roc1` & `..\\Data\\Simpsons_roc2`. Do you notice any differences?\n",
    "     - Use the `plot_roc` function to draw the ROC curve.\n",
    "     - What is the best threshold value?\n",
    "     - What is the AUC? What does it mean?\n",
    "     - Apply the found threshold value to the `y_score` column (this column contains the results of a neural network predict_proba function) to create a new predicted column.\n"
   ],
   "metadata": {
    "collapsed": false
   },
   "id": "5392d59b1c3e2763"
  },
  {
   "metadata": {
    "ExecuteTime": {
     "end_time": "2024-05-29T14:15:24.554896Z",
     "start_time": "2024-05-29T14:15:24.537170Z"
    }
   },
   "cell_type": "code",
   "source": [
    "from IPython.display import display, HTML\n",
    "\n",
    "# Load in data and filter data\n",
    "simpsons_roc1 = pd.read_csv('../Data/Simpsons_roc1.csv', delimiter=',', decimal='.')\n",
    "simpsons_roc2 = pd.read_csv('../Data/Simpsons_roc2.csv', delimiter=',', decimal='.')\n",
    "\n",
    "# Create HTML code\n",
    "combined_html = f\"\"\"\n",
    "<table>\n",
    "    <tr>\n",
    "        <p>----------Simpsons Roc 1--------------------Simpsons Roc 2----------</p>\n",
    "        <td>{simpsons_roc1.to_html()}</td>\n",
    "        <td>{simpsons_roc2.to_html()}</td>\n",
    "    </tr>\n",
    "</table>\n",
    "\"\"\"\n",
    "print(colored(f\"They are practically the same.\", outputColor))\n",
    "display(HTML(combined_html))"
   ],
   "id": "7f37564515fdbc77",
   "outputs": [
    {
     "name": "stdout",
     "output_type": "stream",
     "text": [
      "\u001B[34mThey are practically the same.\u001B[0m\n"
     ]
    },
    {
     "data": {
      "text/plain": [
       "<IPython.core.display.HTML object>"
      ],
      "text/html": [
       "\n",
       "<table>\n",
       "    <tr>\n",
       "        <p>----------Simpsons Roc 1--------------------Simpsons Roc 2----------</p>\n",
       "        <td><table border=\"1\" class=\"dataframe\">\n",
       "  <thead>\n",
       "    <tr style=\"text-align: right;\">\n",
       "      <th></th>\n",
       "      <th>y_true</th>\n",
       "      <th>y_score</th>\n",
       "    </tr>\n",
       "  </thead>\n",
       "  <tbody>\n",
       "    <tr>\n",
       "      <th>0</th>\n",
       "      <td>0</td>\n",
       "      <td>0.001611</td>\n",
       "    </tr>\n",
       "    <tr>\n",
       "      <th>1</th>\n",
       "      <td>1</td>\n",
       "      <td>0.568856</td>\n",
       "    </tr>\n",
       "    <tr>\n",
       "      <th>2</th>\n",
       "      <td>0</td>\n",
       "      <td>0.224951</td>\n",
       "    </tr>\n",
       "    <tr>\n",
       "      <th>3</th>\n",
       "      <td>1</td>\n",
       "      <td>0.678186</td>\n",
       "    </tr>\n",
       "    <tr>\n",
       "      <th>4</th>\n",
       "      <td>1</td>\n",
       "      <td>0.780744</td>\n",
       "    </tr>\n",
       "    <tr>\n",
       "      <th>5</th>\n",
       "      <td>0</td>\n",
       "      <td>0.030405</td>\n",
       "    </tr>\n",
       "    <tr>\n",
       "      <th>6</th>\n",
       "      <td>1</td>\n",
       "      <td>0.431997</td>\n",
       "    </tr>\n",
       "    <tr>\n",
       "      <th>7</th>\n",
       "      <td>0</td>\n",
       "      <td>0.346567</td>\n",
       "    </tr>\n",
       "    <tr>\n",
       "      <th>8</th>\n",
       "      <td>0</td>\n",
       "      <td>0.102228</td>\n",
       "    </tr>\n",
       "  </tbody>\n",
       "</table></td>\n",
       "        <td><table border=\"1\" class=\"dataframe\">\n",
       "  <thead>\n",
       "    <tr style=\"text-align: right;\">\n",
       "      <th></th>\n",
       "      <th>y_true</th>\n",
       "      <th>y_score</th>\n",
       "    </tr>\n",
       "  </thead>\n",
       "  <tbody>\n",
       "    <tr>\n",
       "      <th>0</th>\n",
       "      <td>0</td>\n",
       "      <td>2.877834e-10</td>\n",
       "    </tr>\n",
       "    <tr>\n",
       "      <th>1</th>\n",
       "      <td>1</td>\n",
       "      <td>7.970729e-01</td>\n",
       "    </tr>\n",
       "    <tr>\n",
       "      <th>2</th>\n",
       "      <td>0</td>\n",
       "      <td>2.533495e-03</td>\n",
       "    </tr>\n",
       "    <tr>\n",
       "      <th>3</th>\n",
       "      <td>1</td>\n",
       "      <td>9.756606e-01</td>\n",
       "    </tr>\n",
       "    <tr>\n",
       "      <th>4</th>\n",
       "      <td>1</td>\n",
       "      <td>9.971678e-01</td>\n",
       "    </tr>\n",
       "    <tr>\n",
       "      <th>5</th>\n",
       "      <td>0</td>\n",
       "      <td>2.030402e-02</td>\n",
       "    </tr>\n",
       "    <tr>\n",
       "      <th>6</th>\n",
       "      <td>1</td>\n",
       "      <td>5.763744e-01</td>\n",
       "    </tr>\n",
       "    <tr>\n",
       "      <th>7</th>\n",
       "      <td>0</td>\n",
       "      <td>1.594006e-01</td>\n",
       "    </tr>\n",
       "    <tr>\n",
       "      <th>8</th>\n",
       "      <td>0</td>\n",
       "      <td>1.794845e-03</td>\n",
       "    </tr>\n",
       "  </tbody>\n",
       "</table></td>\n",
       "    </tr>\n",
       "</table>\n"
      ]
     },
     "metadata": {},
     "output_type": "display_data"
    }
   ],
   "execution_count": 108
  },
  {
   "cell_type": "code",
   "source": [
    "# Plot ROC curve for Simpsons Roc 1 & 2\n",
    "plot_rocf(y_true=simpsons_roc1['y_true'], y_score=simpsons_roc1['y_score'], title='Simpsons Roc 1 ROC Curve')\n",
    "plot_rocf(y_true=simpsons_roc2['y_true'], y_score=simpsons_roc2['y_score'], title='Simpsons Roc 2 ROC Curve')"
   ],
   "metadata": {
    "collapsed": false,
    "ExecuteTime": {
     "end_time": "2024-05-29T14:25:39.901793Z",
     "start_time": "2024-05-29T14:25:39.540530Z"
    }
   },
   "id": "23b1b14b5160e258",
   "outputs": [
    {
     "data": {
      "text/plain": [
       "<Figure size 700x700 with 1 Axes>"
      ],
      "image/png": "[encoded data removed]"
     },
     "metadata": {},
     "output_type": "display_data"
    },
    {
     "data": {
      "text/plain": [
       "<Figure size 700x700 with 1 Axes>"
      ],
      "image/png": "[encoded data removed]"
     },
     "metadata": {},
     "output_type": "display_data"
    }
   ],
   "execution_count": 113
  },
  {
   "cell_type": "code",
   "source": [
    "# Calculate Based Threshold Value\n",
    "best_threshold1 = find_best_threshold(simpsons_roc1['y_true'], simpsons_roc1['y_score'])\n",
    "best_threshold2 = find_best_threshold(simpsons_roc2['y_true'], simpsons_roc2['y_score'])\n",
    "\n",
    "# Based Threshold Value: The threshold value that gives the best results for a specific metric.\n",
    "print(colored(f\"The best threshold value for Simpsons Roc 1 is: {round(best_threshold1 * 100, 2)}%\", outputColor))\n",
    "print(colored(f\"The best threshold value for Simpsons Roc 2 is: {round(best_threshold2 * 100, 2)}%\\n\", outputColor))\n",
    "\n",
    "if best_threshold1 > best_threshold2:\n",
    "    print(colored(f\"Simpsons Roc 1 has a higher threshold value than Simpsons Roc 2.\\n\", outputColor))\n",
    "elif best_threshold1 < best_threshold2:\n",
    "    print(colored(f\"Simpsons Roc 2 has a higher threshold value than Simpsons Roc 1.\\n\", outputColor))\n",
    "else:\n",
    "    print(colored(f\"The threshold values are the same.\\n\", outputColor))\n",
    "\n",
    "# Calculate AUC (Area Under Curve)\n",
    "auc1 = roc_auc_score(simpsons_roc1['y_true'], simpsons_roc1['y_score'])\n",
    "auc2 = roc_auc_score(simpsons_roc2['y_true'], simpsons_roc2['y_score'])\n",
    "\n",
    "# Area Under Curve: If the binary classifier can distinguish the two better, the number is higher.\n",
    "print(colored(f\"The AUC for Simpsons Roc 1 is: {round(auc1, 2)}%\", outputColor))\n",
    "print(colored(f\"The AUC for Simpsons Roc 2 is: {round(auc2, 2)}%\\n\", outputColor))\n",
    "\n",
    "if auc1 > auc2:\n",
    "    print(colored(f\"Simpsons Roc 1 has a higher AUC value than Simpsons Roc 2.\\n\", outputColor))\n",
    "elif auc1 < auc2:\n",
    "    print(colored(f\"Simpsons Roc 2 has a higher AUC value than Simpsons Roc 1.\\n\", outputColor))\n",
    "else:\n",
    "    print(colored(f\"The AUC values are the same.\\n\", outputColor))"
   ],
   "metadata": {
    "collapsed": false,
    "ExecuteTime": {
     "end_time": "2024-05-29T14:15:29.018835Z",
     "start_time": "2024-05-29T14:15:28.975544Z"
    }
   },
   "id": "315862836c7d3074",
   "outputs": [
    {
     "name": "stdout",
     "output_type": "stream",
     "text": [
      "\u001B[34mThe best threshold value for Simpsons Roc 1 is: 43.2%\u001B[0m\n",
      "\u001B[34mThe best threshold value for Simpsons Roc 2 is: 57.64%\n",
      "\u001B[0m\n",
      "\u001B[34mSimpsons Roc 2 has a higher threshold value than Simpsons Roc 1.\n",
      "\u001B[0m\n",
      "\u001B[34mThe AUC for Simpsons Roc 1 is: 1.0%\u001B[0m\n",
      "\u001B[34mThe AUC for Simpsons Roc 2 is: 1.0%\n",
      "\u001B[0m\n",
      "\u001B[34mThe AUC values are the same.\n",
      "\u001B[0m\n"
     ]
    }
   ],
   "execution_count": 110
  },
  {
   "cell_type": "code",
   "source": [
    "# Apply threshold value to y_score column\n",
    "simpsons_roc1['y_pred'] = simpsons_roc1['y_score'].apply(lambda x: 1 if x > best_threshold1 else 0)\n",
    "simpsons_roc2['y_pred'] = simpsons_roc2['y_score'].apply(lambda x: 1 if x > best_threshold2 else 0)\n",
    "\n",
    "# Calculate accuracy of prediction\n",
    "accuracy1 = np.mean(simpsons_roc1['y_true'] == simpsons_roc1['y_pred'])\n",
    "accuracy2 = np.mean(simpsons_roc2['y_true'] == simpsons_roc2['y_pred'])\n",
    "print(colored(f\"The accuracy of the ANN for Simpsons Roc 1 is: {round(accuracy1, 2) * 100}%\\n\", outputColor))\n",
    "print(colored(f\"The accuracy of the ANN for Simpsons Roc 2 is: {round(accuracy2, 2) * 100}%\\n\", outputColor))\n",
    "\n",
    "# Show prediction\n",
    "combined_html = f\"\"\"\n",
    "<table>\n",
    "    <tr>\n",
    "        <p>---------------Simpsons Roc 1-----------------------------------Simpsons Roc 2---------------</p>\n",
    "        <td>{simpsons_roc1.to_html()}</td>\n",
    "        <td>{simpsons_roc2.to_html()}</td>\n",
    "    </tr>\n",
    "</table>\n",
    "\"\"\"\n",
    "display(HTML(combined_html))"
   ],
   "metadata": {
    "collapsed": false,
    "ExecuteTime": {
     "end_time": "2024-05-29T14:17:34.395710Z",
     "start_time": "2024-05-29T14:17:34.371904Z"
    }
   },
   "id": "a650a1fddeca1eee",
   "outputs": [
    {
     "name": "stdout",
     "output_type": "stream",
     "text": [
      "\u001B[34mThe accuracy of the ANN for Simpsons Roc 1 is: 89.0%\n",
      "\u001B[0m\n",
      "\u001B[34mThe accuracy of the ANN for Simpsons Roc 2 is: 89.0%\n",
      "\u001B[0m\n"
     ]
    },
    {
     "data": {
      "text/plain": [
       "<IPython.core.display.HTML object>"
      ],
      "text/html": [
       "\n",
       "<table>\n",
       "    <tr>\n",
       "        <p>---------------Simpsons Roc 1-----------------------------------Simpsons Roc 2---------------</p>\n",
       "        <td><table border=\"1\" class=\"dataframe\">\n",
       "  <thead>\n",
       "    <tr style=\"text-align: right;\">\n",
       "      <th></th>\n",
       "      <th>y_true</th>\n",
       "      <th>y_score</th>\n",
       "      <th>y_pred</th>\n",
       "    </tr>\n",
       "  </thead>\n",
       "  <tbody>\n",
       "    <tr>\n",
       "      <th>0</th>\n",
       "      <td>0</td>\n",
       "      <td>0.001611</td>\n",
       "      <td>0</td>\n",
       "    </tr>\n",
       "    <tr>\n",
       "      <th>1</th>\n",
       "      <td>1</td>\n",
       "      <td>0.568856</td>\n",
       "      <td>1</td>\n",
       "    </tr>\n",
       "    <tr>\n",
       "      <th>2</th>\n",
       "      <td>0</td>\n",
       "      <td>0.224951</td>\n",
       "      <td>0</td>\n",
       "    </tr>\n",
       "    <tr>\n",
       "      <th>3</th>\n",
       "      <td>1</td>\n",
       "      <td>0.678186</td>\n",
       "      <td>1</td>\n",
       "    </tr>\n",
       "    <tr>\n",
       "      <th>4</th>\n",
       "      <td>1</td>\n",
       "      <td>0.780744</td>\n",
       "      <td>1</td>\n",
       "    </tr>\n",
       "    <tr>\n",
       "      <th>5</th>\n",
       "      <td>0</td>\n",
       "      <td>0.030405</td>\n",
       "      <td>0</td>\n",
       "    </tr>\n",
       "    <tr>\n",
       "      <th>6</th>\n",
       "      <td>1</td>\n",
       "      <td>0.431997</td>\n",
       "      <td>0</td>\n",
       "    </tr>\n",
       "    <tr>\n",
       "      <th>7</th>\n",
       "      <td>0</td>\n",
       "      <td>0.346567</td>\n",
       "      <td>0</td>\n",
       "    </tr>\n",
       "    <tr>\n",
       "      <th>8</th>\n",
       "      <td>0</td>\n",
       "      <td>0.102228</td>\n",
       "      <td>0</td>\n",
       "    </tr>\n",
       "  </tbody>\n",
       "</table></td>\n",
       "        <td><table border=\"1\" class=\"dataframe\">\n",
       "  <thead>\n",
       "    <tr style=\"text-align: right;\">\n",
       "      <th></th>\n",
       "      <th>y_true</th>\n",
       "      <th>y_score</th>\n",
       "      <th>y_pred</th>\n",
       "    </tr>\n",
       "  </thead>\n",
       "  <tbody>\n",
       "    <tr>\n",
       "      <th>0</th>\n",
       "      <td>0</td>\n",
       "      <td>2.877834e-10</td>\n",
       "      <td>0</td>\n",
       "    </tr>\n",
       "    <tr>\n",
       "      <th>1</th>\n",
       "      <td>1</td>\n",
       "      <td>7.970729e-01</td>\n",
       "      <td>1</td>\n",
       "    </tr>\n",
       "    <tr>\n",
       "      <th>2</th>\n",
       "      <td>0</td>\n",
       "      <td>2.533495e-03</td>\n",
       "      <td>0</td>\n",
       "    </tr>\n",
       "    <tr>\n",
       "      <th>3</th>\n",
       "      <td>1</td>\n",
       "      <td>9.756606e-01</td>\n",
       "      <td>1</td>\n",
       "    </tr>\n",
       "    <tr>\n",
       "      <th>4</th>\n",
       "      <td>1</td>\n",
       "      <td>9.971678e-01</td>\n",
       "      <td>1</td>\n",
       "    </tr>\n",
       "    <tr>\n",
       "      <th>5</th>\n",
       "      <td>0</td>\n",
       "      <td>2.030402e-02</td>\n",
       "      <td>0</td>\n",
       "    </tr>\n",
       "    <tr>\n",
       "      <th>6</th>\n",
       "      <td>1</td>\n",
       "      <td>5.763744e-01</td>\n",
       "      <td>0</td>\n",
       "    </tr>\n",
       "    <tr>\n",
       "      <th>7</th>\n",
       "      <td>0</td>\n",
       "      <td>1.594006e-01</td>\n",
       "      <td>0</td>\n",
       "    </tr>\n",
       "    <tr>\n",
       "      <th>8</th>\n",
       "      <td>0</td>\n",
       "      <td>1.794845e-03</td>\n",
       "      <td>0</td>\n",
       "    </tr>\n",
       "  </tbody>\n",
       "</table></td>\n",
       "    </tr>\n",
       "</table>\n"
      ]
     },
     "metadata": {},
     "output_type": "display_data"
    }
   ],
   "execution_count": 112
  },
  {
   "cell_type": "markdown",
   "source": [
    "### Question 5:\n",
    "- Two linear discriminant analysis models were built with the dataset infert. The results of the predictions can be found in the files `Education_roc1.csv` and `Education_roc2.csv`.\n",
    "    - Load both datasets.\n",
    "    - Use the `plot_roc` function to plot both ROC curves. For both data sets, use column `6-11yrs` as the `y-score` and transform the column `y_true` into 1 for the values `6-11yrs` and a 0 for the other values.\n",
    "    - What is the best threshold value for each of the ROC curves?\n",
    "    - Which model do you prefer?"
   ],
   "metadata": {
    "collapsed": false
   },
   "id": "a0d85bde4076d612"
  },
  {
   "cell_type": "code",
   "source": [
    "from IPython.display import display, HTML\n",
    "\n",
    "# Load in data and filter data\n",
    "education_roc1 = pd.read_csv('../Data/Education_roc1.csv', delimiter=',', decimal='.')\n",
    "education_roc2 = pd.read_csv('../Data/Education_roc2.csv', delimiter=',', decimal='.')\n",
    "\n",
    "# Create HTML code\n",
    "combined_html = f\"\"\"\n",
    "<table>\n",
    "    <tr>\n",
    "        <p>--------------------Education Roc 1-------------------------Education Roc 2--------------------</p>\n",
    "        <td>{education_roc1.head().to_html()}</td>\n",
    "        <td>{education_roc2.head().to_html()}</td>\n",
    "    </tr>\n",
    "</table>\n",
    "\"\"\"\n",
    "display(HTML(combined_html))"
   ],
   "metadata": {
    "collapsed": false,
    "ExecuteTime": {
     "end_time": "2024-05-29T14:40:34.530507Z",
     "start_time": "2024-05-29T14:40:34.513476Z"
    }
   },
   "id": "db3e2d73e1206a1c",
   "outputs": [
    {
     "data": {
      "text/plain": [
       "<IPython.core.display.HTML object>"
      ],
      "text/html": [
       "\n",
       "<table>\n",
       "    <tr>\n",
       "        <p>--------------------Education Roc 1-------------------------Education Roc 2--------------------</p>\n",
       "        <td><table border=\"1\" class=\"dataframe\">\n",
       "  <thead>\n",
       "    <tr style=\"text-align: right;\">\n",
       "      <th></th>\n",
       "      <th>12+ yrs</th>\n",
       "      <th>6-11yrs</th>\n",
       "      <th>y_true</th>\n",
       "    </tr>\n",
       "  </thead>\n",
       "  <tbody>\n",
       "    <tr>\n",
       "      <th>0</th>\n",
       "      <td>0.337185</td>\n",
       "      <td>0.662815</td>\n",
       "      <td>6-11yrs</td>\n",
       "    </tr>\n",
       "    <tr>\n",
       "      <th>1</th>\n",
       "      <td>0.275267</td>\n",
       "      <td>0.724733</td>\n",
       "      <td>6-11yrs</td>\n",
       "    </tr>\n",
       "    <tr>\n",
       "      <th>2</th>\n",
       "      <td>0.766077</td>\n",
       "      <td>0.233923</td>\n",
       "      <td>6-11yrs</td>\n",
       "    </tr>\n",
       "    <tr>\n",
       "      <th>3</th>\n",
       "      <td>0.468015</td>\n",
       "      <td>0.531985</td>\n",
       "      <td>6-11yrs</td>\n",
       "    </tr>\n",
       "    <tr>\n",
       "      <th>4</th>\n",
       "      <td>0.808740</td>\n",
       "      <td>0.191260</td>\n",
       "      <td>6-11yrs</td>\n",
       "    </tr>\n",
       "  </tbody>\n",
       "</table></td>\n",
       "        <td><table border=\"1\" class=\"dataframe\">\n",
       "  <thead>\n",
       "    <tr style=\"text-align: right;\">\n",
       "      <th></th>\n",
       "      <th>12+ yrs</th>\n",
       "      <th>6-11yrs</th>\n",
       "      <th>y_true</th>\n",
       "    </tr>\n",
       "  </thead>\n",
       "  <tbody>\n",
       "    <tr>\n",
       "      <th>0</th>\n",
       "      <td>0.0</td>\n",
       "      <td>1.0</td>\n",
       "      <td>6-11yrs</td>\n",
       "    </tr>\n",
       "    <tr>\n",
       "      <th>1</th>\n",
       "      <td>0.0</td>\n",
       "      <td>1.0</td>\n",
       "      <td>6-11yrs</td>\n",
       "    </tr>\n",
       "    <tr>\n",
       "      <th>2</th>\n",
       "      <td>0.0</td>\n",
       "      <td>1.0</td>\n",
       "      <td>6-11yrs</td>\n",
       "    </tr>\n",
       "    <tr>\n",
       "      <th>3</th>\n",
       "      <td>0.0</td>\n",
       "      <td>1.0</td>\n",
       "      <td>6-11yrs</td>\n",
       "    </tr>\n",
       "    <tr>\n",
       "      <th>4</th>\n",
       "      <td>0.0</td>\n",
       "      <td>1.0</td>\n",
       "      <td>6-11yrs</td>\n",
       "    </tr>\n",
       "  </tbody>\n",
       "</table></td>\n",
       "    </tr>\n",
       "</table>\n"
      ]
     },
     "metadata": {},
     "output_type": "display_data"
    }
   ],
   "execution_count": 116
  },
  {
   "cell_type": "code",
   "source": [
    "# Transform data set\n",
    "education_roc1['y_true'] = education_roc1['y_true'].apply(lambda x: 1 if x == '6-11yrs' else 0)\n",
    "education_roc2['y_true'] = education_roc2['y_true'].apply(lambda x: 1 if x == '6-11yrs' else 0)\n",
    "\n",
    "# Plot ROC curve for Education Roc 1 & 2\n",
    "plot_rocf(y_true=education_roc1['y_true'], y_score=education_roc1['6-11yrs'], title='Education Roc 1 ROC Curve')\n",
    "plot_rocf(y_true=education_roc2['y_true'], y_score=education_roc2['6-11yrs'], title='Education Roc 2 ROC Curve')"
   ],
   "metadata": {
    "collapsed": false,
    "ExecuteTime": {
     "end_time": "2024-05-29T14:40:45.982954Z",
     "start_time": "2024-05-29T14:40:45.630907Z"
    }
   },
   "id": "171c8153a9645b8b",
   "outputs": [
    {
     "data": {
      "text/plain": [
       "<Figure size 700x700 with 1 Axes>"
      ],
      "image/png": "[encoded data removed]"
     },
     "metadata": {},
     "output_type": "display_data"
    },
    {
     "data": {
      "text/plain": [
       "<Figure size 700x700 with 1 Axes>"
      ],
      "image/png": "[encoded data removed]"
     },
     "metadata": {},
     "output_type": "display_data"
    }
   ],
   "execution_count": 117
  },
  {
   "cell_type": "code",
   "source": [
    "# Calculate Based Threshold Value\n",
    "best_threshold1 = find_best_threshold(education_roc1['y_true'], education_roc1['6-11yrs'])\n",
    "best_threshold2 = find_best_threshold(education_roc2['y_true'], education_roc2['6-11yrs'])\n",
    "\n",
    "# Based Threshold Value: The threshold value that gives the best results for a specific metric.\n",
    "print(colored(f\"The best threshold value for Education Roc 1 is: {round(best_threshold1 * 100, 2)}%\", outputColor))\n",
    "print(colored(f\"The best threshold value for Education Roc 2 is: {round(best_threshold2 * 100, 2)}%\\n\", outputColor))\n",
    "\n",
    "if best_threshold1 > best_threshold2:\n",
    "    print(colored(f\"Education Roc 1 has a higher threshold value than Education Roc 2.\\n\", outputColor))\n",
    "elif best_threshold1 < best_threshold2:\n",
    "    print(colored(f\"Education Roc 2 has a higher threshold value than Education Roc 1.\\n\", outputColor))\n",
    "else:\n",
    "    print(colored(f\"The threshold values are the same.\\n\", outputColor))"
   ],
   "metadata": {
    "collapsed": false,
    "ExecuteTime": {
     "end_time": "2024-05-29T14:42:19.322152Z",
     "start_time": "2024-05-29T14:42:19.301828Z"
    }
   },
   "id": "b03ea2bd3d07661f",
   "outputs": [
    {
     "name": "stdout",
     "output_type": "stream",
     "text": [
      "\u001B[34mThe best threshold value for Education Roc 1 is: 47.73%\u001B[0m\n",
      "\u001B[34mThe best threshold value for Education Roc 2 is: 100.0%\n",
      "\u001B[0m\n",
      "\u001B[34mEducation Roc 2 has a higher threshold value than Education Roc 1.\n",
      "\u001B[0m\n"
     ]
    }
   ],
   "execution_count": 121
  },
  {
   "cell_type": "code",
   "source": [
    "# Apply threshold value to y_score column\n",
    "education_roc1['y_pred'] = education_roc1['6-11yrs'].apply(lambda x: 1 if x > best_threshold1 else 0)\n",
    "education_roc2['y_pred'] = education_roc2['6-11yrs'].apply(lambda x: 1 if x > best_threshold2 else 0)\n",
    "\n",
    "# Calculate accuracy of prediction\n",
    "accuracy1 = np.mean(education_roc1['y_true'] == education_roc1['6-11yrs'])\n",
    "accuracy2 = np.mean(education_roc2['y_true'] == education_roc2['6-11yrs'])\n",
    "print(colored(f\"The accuracy of the ANN for Education Roc 1 is: {round(accuracy1, 2) * 100}%\\n\", outputColor))\n",
    "print(colored(f\"The accuracy of the ANN for Education Roc 2 is: {round(accuracy2, 2) * 100}%\\n\", outputColor))\n",
    "\n",
    "if accuracy1 > accuracy2:\n",
    "    print(colored(f\"Education Roc 1 has a higher accuracy than Education Roc 2.\\n\", outputColor))\n",
    "elif accuracy1 < accuracy2:\n",
    "    print(colored(f\"Education Roc 2 has a higher accuracy than Education Roc 1.\\n\", outputColor))\n",
    "else:\n",
    "    print(colored(f\"The accuracy values are the same.\\n\", outputColor))\n",
    "\n",
    "# Show prediction\n",
    "combined_html = f\"\"\"\n",
    "<table>\n",
    "    <tr>\n",
    "        <p>--------------------Education Roc 1-------------------------Education Roc 2--------------------</p>\n",
    "        <td>{education_roc1.head().to_html()}</td>\n",
    "        <td>{education_roc2.head().to_html()}</td>\n",
    "    </tr>\n",
    "</table>\n",
    "\"\"\"\n",
    "display(HTML(combined_html))"
   ],
   "metadata": {
    "collapsed": false,
    "ExecuteTime": {
     "end_time": "2024-05-29T14:41:08.326632Z",
     "start_time": "2024-05-29T14:41:08.312764Z"
    }
   },
   "id": "d181350002dc41a7",
   "outputs": [
    {
     "name": "stdout",
     "output_type": "stream",
     "text": [
      "\u001B[34mThe accuracy of the ANN for Education Roc 1 is: 0.0%\n",
      "\u001B[0m\n",
      "\u001B[34mThe accuracy of the ANN for Education Roc 2 is: 51.0%\n",
      "\u001B[0m\n",
      "\u001B[34mEducation Roc 2 has a higher accuracy than Education Roc 1.\n",
      "\u001B[0m\n"
     ]
    },
    {
     "data": {
      "text/plain": [
       "<IPython.core.display.HTML object>"
      ],
      "text/html": [
       "\n",
       "<table>\n",
       "    <tr>\n",
       "        <p>--------------------Education Roc 1-------------------------Education Roc 2--------------------</p>\n",
       "        <td><table border=\"1\" class=\"dataframe\">\n",
       "  <thead>\n",
       "    <tr style=\"text-align: right;\">\n",
       "      <th></th>\n",
       "      <th>12+ yrs</th>\n",
       "      <th>6-11yrs</th>\n",
       "      <th>y_true</th>\n",
       "      <th>y_pred</th>\n",
       "    </tr>\n",
       "  </thead>\n",
       "  <tbody>\n",
       "    <tr>\n",
       "      <th>0</th>\n",
       "      <td>0.337185</td>\n",
       "      <td>0.662815</td>\n",
       "      <td>1</td>\n",
       "      <td>1</td>\n",
       "    </tr>\n",
       "    <tr>\n",
       "      <th>1</th>\n",
       "      <td>0.275267</td>\n",
       "      <td>0.724733</td>\n",
       "      <td>1</td>\n",
       "      <td>1</td>\n",
       "    </tr>\n",
       "    <tr>\n",
       "      <th>2</th>\n",
       "      <td>0.766077</td>\n",
       "      <td>0.233923</td>\n",
       "      <td>1</td>\n",
       "      <td>0</td>\n",
       "    </tr>\n",
       "    <tr>\n",
       "      <th>3</th>\n",
       "      <td>0.468015</td>\n",
       "      <td>0.531985</td>\n",
       "      <td>1</td>\n",
       "      <td>1</td>\n",
       "    </tr>\n",
       "    <tr>\n",
       "      <th>4</th>\n",
       "      <td>0.808740</td>\n",
       "      <td>0.191260</td>\n",
       "      <td>1</td>\n",
       "      <td>0</td>\n",
       "    </tr>\n",
       "  </tbody>\n",
       "</table></td>\n",
       "        <td><table border=\"1\" class=\"dataframe\">\n",
       "  <thead>\n",
       "    <tr style=\"text-align: right;\">\n",
       "      <th></th>\n",
       "      <th>12+ yrs</th>\n",
       "      <th>6-11yrs</th>\n",
       "      <th>y_true</th>\n",
       "      <th>y_pred</th>\n",
       "    </tr>\n",
       "  </thead>\n",
       "  <tbody>\n",
       "    <tr>\n",
       "      <th>0</th>\n",
       "      <td>0.0</td>\n",
       "      <td>1.0</td>\n",
       "      <td>1</td>\n",
       "      <td>0</td>\n",
       "    </tr>\n",
       "    <tr>\n",
       "      <th>1</th>\n",
       "      <td>0.0</td>\n",
       "      <td>1.0</td>\n",
       "      <td>1</td>\n",
       "      <td>0</td>\n",
       "    </tr>\n",
       "    <tr>\n",
       "      <th>2</th>\n",
       "      <td>0.0</td>\n",
       "      <td>1.0</td>\n",
       "      <td>1</td>\n",
       "      <td>0</td>\n",
       "    </tr>\n",
       "    <tr>\n",
       "      <th>3</th>\n",
       "      <td>0.0</td>\n",
       "      <td>1.0</td>\n",
       "      <td>1</td>\n",
       "      <td>0</td>\n",
       "    </tr>\n",
       "    <tr>\n",
       "      <th>4</th>\n",
       "      <td>0.0</td>\n",
       "      <td>1.0</td>\n",
       "      <td>1</td>\n",
       "      <td>0</td>\n",
       "    </tr>\n",
       "  </tbody>\n",
       "</table></td>\n",
       "    </tr>\n",
       "</table>\n"
      ]
     },
     "metadata": {},
     "output_type": "display_data"
    }
   ],
   "execution_count": 119
  }
 ],
 "metadata": {
  "kernelspec": {
   "display_name": "Python 3",
   "language": "python",
   "name": "python3"
  },
  "language_info": {
   "codemirror_mode": {
    "name": "ipython",
    "version": 2
   },
   "file_extension": ".py",
   "mimetype": "text/x-python",
   "name": "python",
   "nbconvert_exporter": "python",
   "pygments_lexer": "ipython2",
   "version": "2.7.6"
  }
 },
 "nbformat": 4,
 "nbformat_minor": 5
}

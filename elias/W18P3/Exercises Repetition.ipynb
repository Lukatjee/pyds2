{
 "cells": [
  {
   "cell_type": "markdown",
   "source": [
    "# Exercises Repetition"
   ],
   "metadata": {
    "collapsed": false
   },
   "id": "fc11ae5046d6cd48"
  },
  {
   "cell_type": "code",
   "source": [
    "from termcolor import colored # type: ignore                                          # Colored text\n",
    "from random import Random  # type: ignore                                             # Random number generator\n",
    "import math  # type: ignore                                                           # Mathematical functions\n",
    "import pandas as pd  # type: ignore                                                   # Data manipulation\n",
    "import numpy as np  # type: ignore                                                    # Scientific computing\n",
    "import matplotlib.pyplot as plt  # type: ignore                                       # Data visualization\n",
    "from scipy.stats import binom as binomial  # type: ignore                             # Binomial distribution\n",
    "from scipy.stats import norm as normal  # type: ignore                                # Normal distribution\n",
    "from scipy.stats import poisson as poisson  # type: ignore                            # Poisson distribution\n",
    "from scipy.stats import t as student  # type: ignore                                  # Student distribution\n",
    "from scipy.stats import chi2  # type: ignore                                          # Chi-squared distribution\n",
    "from scipy.stats import ttest_1samp  # type: ignore                                   # One-sample t-test\n",
    "from scipy.stats import chisquare  # type: ignore                                     # Chi-squared test\n",
    "from scipy.special import comb  # type: ignore                                        # Combinations\n",
    "from mlxtend.frequent_patterns import apriori  # type: ignore                         # Apriori algorithm\n",
    "from mlxtend.frequent_patterns import fpgrowth  # type: ignore                        # FP-growth algorithm\n",
    "from mlxtend.frequent_patterns import association_rules  # type: ignore               # Association rules\n",
    "from mlxtend.preprocessing import TransactionEncoder  # type: ignore                  # Transaction encoder\n",
    "from sklearn.discriminant_analysis import LinearDiscriminantAnalysis  # type: ignore  # Discriminant Analysis\n",
    "from tensorflow import keras  # type: ignore                                          # Deep Learning library\n",
    "from tensorflow.keras import Model  # type: ignore                                    # Model class\n",
    "from tensorflow.keras.layers import Input, Dense, BatchNormalization  # type: ignore  # Layers\n",
    "from tensorflow.keras.utils import to_categorical  # type: ignore                     # One-hot encoding\n",
    "from tensorflow.keras.optimizers import Adam  # type: ignore                          # Optimizer\n",
    "from livelossplot import PlotLossesKeras  # type: ignore                              # Live plot\n",
    "from keras.src.optimizers import RMSprop  # type: ignore                              # Optimizer\n",
    "from sklearn.model_selection import train_test_split  # type: ignore                  # Train-test split\n",
    "from sklearn.metrics import roc_auc_score # type: ignore                              # ROC AUC score\n",
    "from simanneal import Annealer  # type: ignore                                        # Simulated Annealing\n",
    "from inspyred import ec  # type: ignore                                               # Evolutionary Computation\n",
    "import warnings  # type: ignore                                                       # Disable warnings\n",
    "from Resources.Functions import *  # type: ignore                                     # Custom functions\n",
    "warnings.filterwarnings(\"ignore\")                                                     # Disable warnings\n",
    "outputColor = \"blue\"                                                                  # Color for the output"
   ],
   "metadata": {
    "collapsed": false,
    "ExecuteTime": {
     "end_time": "2024-05-29T11:00:40.888870Z",
     "start_time": "2024-05-29T11:00:40.882204Z"
    }
   },
   "id": "1796a7e3a7232f25",
   "outputs": [],
   "execution_count": 21
  },
  {
   "cell_type": "markdown",
   "source": [
    "## Theoretical questions"
   ],
   "metadata": {
    "collapsed": false
   },
   "id": "d66cd879508e8eb4"
  },
  {
   "cell_type": "markdown",
   "source": [
    "### Question 1:\n",
    "The following probabilities are known from a dataset from the previous year. `79%` of students are taking the Data Science exam for the first time. Respectively `12.65%`, `4.30%` and `4.05%` of the students participate in the exam for the `2nd`, `3rd` and `4th` time. If the student participates for the first time, the chance that he or she will pass is `60%`. For the second, third and fourth participation, the chance of passing is `40%`, `12%` and `2%` respectively."
   ],
   "metadata": {
    "collapsed": false
   },
   "id": "8dcce8d70aac0bac"
  },
  {
   "cell_type": "markdown",
   "source": [
    "- 1.1. There is a `53.057%` chance that a randomly selected student from last year has passed. Write down the calculation that gives you this percentage based on the data from the exercise."
   ],
   "metadata": {
    "collapsed": false
   },
   "id": "b41df6b24b54df3f"
  },
  {
   "cell_type": "code",
   "source": [
    "# = 0.6 * 0.79 + 0.4 * 0.1265 + 0.12 * 0.043 + 0.02 * 0.0405\n",
    "totalProbability = 0.6 * 0.79 + 0.4 * 0.1265 + 0.12 * 0.043 + 0.02 * 0.0405\n",
    "print(colored(f\"Total Probability: {totalProbability}\", outputColor))"
   ],
   "metadata": {
    "collapsed": false,
    "ExecuteTime": {
     "end_time": "2024-05-29T11:00:41.045817Z",
     "start_time": "2024-05-29T11:00:41.034289Z"
    }
   },
   "id": "f61d5f3c36d4ed95",
   "outputs": [
    {
     "name": "stdout",
     "output_type": "stream",
     "text": [
      "\u001B[34mTotal Probability: 0.53057\u001B[0m\n"
     ]
    }
   ],
   "execution_count": 22
  },
  {
   "cell_type": "markdown",
   "source": [
    "- 1.2. `24%` of the students who sat for the Data Science exam last year were baptized. The percentage of successful students for the group of baptized students is exactly the same as the percentage of successful students for the entire group. Suppose the teacher chooses one student from the entire group of students (who took the exam last year). What are the chances that this student was baptized and passed Data Science last year."
   ],
   "metadata": {
    "collapsed": false
   },
   "id": "ac6e6a8db97c7653"
  },
  {
   "cell_type": "code",
   "source": [
    "# P(Baptized and Passed) = P(Baptized) * P(Passed | Baptized)\n",
    "productRule = totalProbability * 0.24\n",
    "print(colored(f\"Product Rule: {productRule}\", outputColor))"
   ],
   "metadata": {
    "collapsed": false,
    "ExecuteTime": {
     "end_time": "2024-05-29T11:00:41.077097Z",
     "start_time": "2024-05-29T11:00:41.062283Z"
    }
   },
   "id": "ce4e897992fd055a",
   "outputs": [
    {
     "name": "stdout",
     "output_type": "stream",
     "text": [
      "\u001B[34mProduct Rule: 0.1273368\u001B[0m\n"
     ]
    }
   ],
   "execution_count": 23
  },
  {
   "cell_type": "markdown",
   "source": [
    "- 1.3. The teacher calls on `15` students who participated for the first time last year the exam. What is the probability that 10 or more students have passed?"
   ],
   "metadata": {
    "collapsed": false
   },
   "id": "52f18b95661cc892"
  },
  {
   "cell_type": "code",
   "source": [
    "# Binomial Distribution\n",
    "print(colored(f\"Probability: {1-binomial.cdf(9, 15, 0.6)}\", outputColor))"
   ],
   "metadata": {
    "collapsed": false,
    "ExecuteTime": {
     "end_time": "2024-05-29T11:00:41.138496Z",
     "start_time": "2024-05-29T11:00:41.124091Z"
    }
   },
   "id": "d45ccf151811f954",
   "outputs": [
    {
     "name": "stdout",
     "output_type": "stream",
     "text": [
      "\u001B[34mProbability: 0.403215550414848\u001B[0m\n"
     ]
    }
   ],
   "execution_count": 24
  },
  {
   "cell_type": "markdown",
   "source": [
    "### Question 2:\n",
    "The average study time per course is `4.5 hours` per week in the course. We want to determine whether the study time of the course differs significantly from the average for the Data Science course (based on a sample). Use the input file for this `/StudyResult.csv`."
   ],
   "metadata": {
    "collapsed": false
   },
   "id": "3d07b7bd896afd9c"
  },
  {
   "cell_type": "code",
   "source": [
    "studyResult = pd.read_csv('../Data/StudyResult.csv', delimiter=';', decimal=',')\n",
    "display(studyResult.head())"
   ],
   "metadata": {
    "collapsed": false,
    "ExecuteTime": {
     "end_time": "2024-05-29T11:00:41.184712Z",
     "start_time": "2024-05-29T11:00:41.171012Z"
    }
   },
   "id": "57ebc4815e900dfd",
   "outputs": [
    {
     "data": {
      "text/plain": [
       "   studentID gender residence   Education_Mother  study time  #participations  \\\n",
       "0          1      F      City             Master         4.4                1   \n",
       "1          2      F      City  Primary education         5.2                1   \n",
       "2          3      F      City  Primary education         4.7                4   \n",
       "3          4      F      City             Master         5.8                1   \n",
       "4          5      F      City           Bachelor         4.2                1   \n",
       "\n",
       "               partying  Absences  Score1  Score2  Score3 Result  \n",
       "0  Several times a week         6       5       6       6   Fail  \n",
       "1           Once a week         4       5       5       6   Fail  \n",
       "2                Rarely        10       7       8      10   Fail  \n",
       "3                Rarely         2      15      14      15   Pass  \n",
       "4                Rarely         4       6      10      10   Fail  "
      ],
      "text/html": [
       "<div>\n",
       "<style scoped>\n",
       "    .dataframe tbody tr th:only-of-type {\n",
       "        vertical-align: middle;\n",
       "    }\n",
       "\n",
       "    .dataframe tbody tr th {\n",
       "        vertical-align: top;\n",
       "    }\n",
       "\n",
       "    .dataframe thead th {\n",
       "        text-align: right;\n",
       "    }\n",
       "</style>\n",
       "<table border=\"1\" class=\"dataframe\">\n",
       "  <thead>\n",
       "    <tr style=\"text-align: right;\">\n",
       "      <th></th>\n",
       "      <th>studentID</th>\n",
       "      <th>gender</th>\n",
       "      <th>residence</th>\n",
       "      <th>Education_Mother</th>\n",
       "      <th>study time</th>\n",
       "      <th>#participations</th>\n",
       "      <th>partying</th>\n",
       "      <th>Absences</th>\n",
       "      <th>Score1</th>\n",
       "      <th>Score2</th>\n",
       "      <th>Score3</th>\n",
       "      <th>Result</th>\n",
       "    </tr>\n",
       "  </thead>\n",
       "  <tbody>\n",
       "    <tr>\n",
       "      <th>0</th>\n",
       "      <td>1</td>\n",
       "      <td>F</td>\n",
       "      <td>City</td>\n",
       "      <td>Master</td>\n",
       "      <td>4.4</td>\n",
       "      <td>1</td>\n",
       "      <td>Several times a week</td>\n",
       "      <td>6</td>\n",
       "      <td>5</td>\n",
       "      <td>6</td>\n",
       "      <td>6</td>\n",
       "      <td>Fail</td>\n",
       "    </tr>\n",
       "    <tr>\n",
       "      <th>1</th>\n",
       "      <td>2</td>\n",
       "      <td>F</td>\n",
       "      <td>City</td>\n",
       "      <td>Primary education</td>\n",
       "      <td>5.2</td>\n",
       "      <td>1</td>\n",
       "      <td>Once a week</td>\n",
       "      <td>4</td>\n",
       "      <td>5</td>\n",
       "      <td>5</td>\n",
       "      <td>6</td>\n",
       "      <td>Fail</td>\n",
       "    </tr>\n",
       "    <tr>\n",
       "      <th>2</th>\n",
       "      <td>3</td>\n",
       "      <td>F</td>\n",
       "      <td>City</td>\n",
       "      <td>Primary education</td>\n",
       "      <td>4.7</td>\n",
       "      <td>4</td>\n",
       "      <td>Rarely</td>\n",
       "      <td>10</td>\n",
       "      <td>7</td>\n",
       "      <td>8</td>\n",
       "      <td>10</td>\n",
       "      <td>Fail</td>\n",
       "    </tr>\n",
       "    <tr>\n",
       "      <th>3</th>\n",
       "      <td>4</td>\n",
       "      <td>F</td>\n",
       "      <td>City</td>\n",
       "      <td>Master</td>\n",
       "      <td>5.8</td>\n",
       "      <td>1</td>\n",
       "      <td>Rarely</td>\n",
       "      <td>2</td>\n",
       "      <td>15</td>\n",
       "      <td>14</td>\n",
       "      <td>15</td>\n",
       "      <td>Pass</td>\n",
       "    </tr>\n",
       "    <tr>\n",
       "      <th>4</th>\n",
       "      <td>5</td>\n",
       "      <td>F</td>\n",
       "      <td>City</td>\n",
       "      <td>Bachelor</td>\n",
       "      <td>4.2</td>\n",
       "      <td>1</td>\n",
       "      <td>Rarely</td>\n",
       "      <td>4</td>\n",
       "      <td>6</td>\n",
       "      <td>10</td>\n",
       "      <td>10</td>\n",
       "      <td>Fail</td>\n",
       "    </tr>\n",
       "  </tbody>\n",
       "</table>\n",
       "</div>"
      ]
     },
     "metadata": {},
     "output_type": "display_data"
    }
   ],
   "execution_count": 25
  },
  {
   "cell_type": "markdown",
   "source": [
    "- 2.1. What alternative hypothesis can we use?"
   ],
   "metadata": {
    "collapsed": false
   },
   "id": "d1ceb0901b94f23c"
  },
  {
   "cell_type": "code",
   "source": [
    "# H0: The average study time of the population is 4.5 HOURS (= 4.5)\n",
    "# H1: The average study time of the population is not 4.5 HOURS (!= 4.5)"
   ],
   "metadata": {
    "collapsed": false,
    "ExecuteTime": {
     "end_time": "2024-05-29T11:00:41.231110Z",
     "start_time": "2024-05-29T11:00:41.216966Z"
    }
   },
   "id": "b837a52e5d751ed9",
   "outputs": [],
   "execution_count": 26
  },
  {
   "cell_type": "markdown",
   "source": [
    "- 2.2 What is the acceptance interval for the study time of the course at `a=0.05`? Also write down how you arrived at this number."
   ],
   "metadata": {
    "collapsed": false
   },
   "id": "f0bcb30b4995615d"
  },
  {
   "cell_type": "code",
   "source": [
    "alpha = 0.05\n",
    "x_bar = studyResult['study time'].mean()\n",
    "s = studyResult['study time'].std()\n",
    "n = len(studyResult)\n",
    "df = n - 1\n",
    "p = 1 - alpha\n",
    "\n",
    "interval = student.interval(confidence=p, df=df, loc=x_bar, scale=s/math.sqrt(n))\n",
    "print(colored(f\"Confidence Interval: {interval}\", outputColor))"
   ],
   "metadata": {
    "collapsed": false,
    "ExecuteTime": {
     "end_time": "2024-05-29T11:00:41.262626Z",
     "start_time": "2024-05-29T11:00:41.253436Z"
    }
   },
   "id": "d64da21d3213cb37",
   "outputs": [
    {
     "name": "stdout",
     "output_type": "stream",
     "text": [
      "\u001B[34mConfidence Interval: (3.8767239334848833, 4.273655813350561)\u001B[0m\n"
     ]
    }
   ],
   "execution_count": 27
  },
  {
   "cell_type": "markdown",
   "source": [
    "- 2.3. What value for the factor did you use to calculate the acceptance interval?"
   ],
   "metadata": {
    "collapsed": false
   },
   "id": "1dcf4e50a2171471"
  },
  {
   "cell_type": "code",
   "source": [
    "factor=student.ppf((1 + p) / 2, df=df) # Factor = Z-Score\n",
    "print(colored(f\"Factor: {factor}\", outputColor))"
   ],
   "metadata": {
    "collapsed": false,
    "ExecuteTime": {
     "end_time": "2024-05-29T11:00:41.324533Z",
     "start_time": "2024-05-29T11:00:41.308999Z"
    }
   },
   "id": "241f0f7a12fc19f5",
   "outputs": [
    {
     "name": "stdout",
     "output_type": "stream",
     "text": [
      "\u001B[34mFactor: 1.96600320134879\u001B[0m\n"
     ]
    }
   ],
   "execution_count": 28
  },
  {
   "cell_type": "markdown",
   "source": [
    "- 2.4. What can you say about the null hypothesis?"
   ],
   "metadata": {
    "collapsed": false
   },
   "id": "e624826d7141821a"
  },
  {
   "cell_type": "code",
   "source": [
    "p_value = ttest_1samp(studyResult['study time'], 4.5).pvalue\n",
    "if p_value < alpha:\n",
    "    print(colored(f\"Reject H0\", outputColor))\n",
    "else:\n",
    "    print(colored(f\"Fail to reject H0\", outputColor))"
   ],
   "metadata": {
    "collapsed": false,
    "ExecuteTime": {
     "end_time": "2024-05-29T11:00:41.354625Z",
     "start_time": "2024-05-29T11:00:41.341466Z"
    }
   },
   "id": "23ab4a95cfa623d7",
   "outputs": [
    {
     "name": "stdout",
     "output_type": "stream",
     "text": [
      "\u001B[34mReject H0\u001B[0m\n"
     ]
    }
   ],
   "execution_count": 29
  },
  {
   "cell_type": "markdown",
   "source": [
    "- 2.5. Calculate the p-value that you can use to support this claim (at `a=0.05`)."
   ],
   "metadata": {
    "collapsed": false
   },
   "id": "614a3b1a8373a0cd"
  },
  {
   "cell_type": "code",
   "source": "print(colored(f\"P Value: {p_value}\", outputColor))",
   "metadata": {
    "collapsed": false,
    "ExecuteTime": {
     "end_time": "2024-05-29T11:00:41.493301Z",
     "start_time": "2024-05-29T11:00:41.482542Z"
    }
   },
   "id": "97a4d66e679ac5a1",
   "outputs": [
    {
     "name": "stdout",
     "output_type": "stream",
     "text": [
      "\u001B[34mP Value: 3.19125975826884e-05\u001B[0m\n"
     ]
    }
   ],
   "execution_count": 30
  },
  {
   "cell_type": "markdown",
   "source": [
    "- 2.6. Form a conclusion based on the p-value. Complete the following sentence (in any case, use the obtained p-value in your conclusion): If the average study duration of the population is `4.5 HOURS`, then"
   ],
   "metadata": {
    "collapsed": false
   },
   "id": "6438d35cb7cf39ec"
  },
  {
   "cell_type": "code",
   "source": "print(colored(f\"If the average study duration of the population is 4.5 HOURS, then the probability of observing students who study more or less than 4.5 HOURS is {p_value}.\", outputColor))",
   "metadata": {
    "collapsed": false,
    "ExecuteTime": {
     "end_time": "2024-05-29T11:00:41.556049Z",
     "start_time": "2024-05-29T11:00:41.535956Z"
    }
   },
   "id": "59431b79068364c3",
   "outputs": [
    {
     "name": "stdout",
     "output_type": "stream",
     "text": [
      "\u001B[34mIf the average study duration of the population is 4.5 HOURS, then the probability of observing students who study more or less than 4.5 HOURS is 3.19125975826884e-05.\u001B[0m\n"
     ]
    }
   ],
   "execution_count": 31
  },
  {
   "cell_type": "markdown",
   "source": [
    "### Question 3:\n",
    "We want to know whether the going out behavior of our students differs from those of the University From a survey of all students of the\n",
    "university shows the following distribution:\n",
    "\n",
    "|                   | Behavior College | Measured education absolutely |\n",
    "|-------------------|------------------|-------------------------------|\n",
    "| Never             | 5.00%            | 23                            |\n",
    "| Occasionally      | 30.00%           | 103                           |\n",
    "| Weekly            | 35.00%           | 130                           |\n",
    "| More times a week | 20.00%           | 86                            |\n",
    "| Daily             | 10.00%           | 53                            |\n"
   ],
   "metadata": {
    "collapsed": false
   },
   "id": "921495f352a4d7dd"
  },
  {
   "cell_type": "code",
   "source": [
    "measured_values = [23, 103, 130, 86, 53]\n",
    "total = sum(measured_values)\n",
    "expected_values = [total * 0.05, total * 0.3, total * 0.35, total * 0.2, total * 0.1]\n",
    "data = chisquare(measured_values, expected_values)"
   ],
   "metadata": {
    "collapsed": false,
    "ExecuteTime": {
     "end_time": "2024-05-29T11:00:41.618700Z",
     "start_time": "2024-05-29T11:00:41.606272Z"
    }
   },
   "id": "6f69f8ef9419acec",
   "outputs": [],
   "execution_count": 32
  },
  {
   "cell_type": "markdown",
   "source": [
    "3.1. Calculate x^2"
   ],
   "metadata": {
    "collapsed": false
   },
   "id": "1bf3491f5849f3ec"
  },
  {
   "cell_type": "code",
   "source": "print(colored(f\"X^2 Value: {round(data.statistic,3)}\", outputColor))",
   "metadata": {
    "collapsed": false,
    "ExecuteTime": {
     "end_time": "2024-05-29T11:00:41.649586Z",
     "start_time": "2024-05-29T11:00:41.637546Z"
    }
   },
   "id": "4890e753493f5ef0",
   "outputs": [
    {
     "name": "stdout",
     "output_type": "stream",
     "text": [
      "\u001B[34mX^2 Value: 8.289\u001B[0m\n"
     ]
    }
   ],
   "execution_count": 33
  },
  {
   "cell_type": "markdown",
   "source": [
    "3.2. What is the p value for this distribution?"
   ],
   "metadata": {
    "collapsed": false
   },
   "id": "6c8f52a096f04f7b"
  },
  {
   "cell_type": "code",
   "source": "print(colored(f\"P Value: {round(data.pvalue,3)}\", outputColor))",
   "metadata": {
    "collapsed": false,
    "ExecuteTime": {
     "end_time": "2024-05-29T11:00:41.725723Z",
     "start_time": "2024-05-29T11:00:41.715255Z"
    }
   },
   "id": "cc65136f0fb02e1a",
   "outputs": [
    {
     "name": "stdout",
     "output_type": "stream",
     "text": [
      "\u001B[34mP Value: 0.082\u001B[0m\n"
     ]
    }
   ],
   "execution_count": 34
  },
  {
   "cell_type": "markdown",
   "source": [
    "3.3. I want to make a decision with reliability of `90%`. Which decision do I take?"
   ],
   "metadata": {
    "collapsed": false
   },
   "id": "f014b064bd19ef9c"
  },
  {
   "cell_type": "code",
   "source": [
    "p = 0.90\n",
    "df = len(measured_values) - 1\n",
    "critical_value = chi2.ppf(p, df=df)\n",
    "print(colored(f\"Critical value: {critical_value}\", outputColor))\n",
    "\n",
    "if data.statistic < critical_value:\n",
    "    print(colored(f\"H0 can not be rejected with 90% confidence.\", outputColor))\n",
    "else:\n",
    "    print(colored(f\"H0 can be rejected with 90% confidence.\", outputColor))"
   ],
   "metadata": {
    "collapsed": false,
    "ExecuteTime": {
     "end_time": "2024-05-29T11:00:41.756609Z",
     "start_time": "2024-05-29T11:00:41.740236Z"
    }
   },
   "id": "4b9dcf4c27e2c13",
   "outputs": [
    {
     "name": "stdout",
     "output_type": "stream",
     "text": [
      "\u001B[34mCritical value: 7.779440339734858\u001B[0m\n",
      "\u001B[34mH0 can be rejected with 90% confidence.\u001B[0m\n"
     ]
    }
   ],
   "execution_count": 35
  },
  {
   "cell_type": "code",
   "source": [
    "plot_confidence_interval(n, x_bar, s, df, factor)"
   ],
   "metadata": {
    "collapsed": false,
    "ExecuteTime": {
     "end_time": "2024-05-29T11:00:42.021140Z",
     "start_time": "2024-05-29T11:00:41.787838Z"
    }
   },
   "id": "3d588faab3c0cf00",
   "outputs": [
    {
     "data": {
      "text/plain": [
       "<Figure size 1000x600 with 1 Axes>"
      ],
      "image/png": "[encoded data removed]"
     },
     "metadata": {},
     "output_type": "display_data"
    }
   ],
   "execution_count": 36
  },
  {
   "cell_type": "markdown",
   "source": [
    "### Question 4:\n",
    "A store has analyzed a number of shopping carts. Look for the association rules."
   ],
   "metadata": {
    "collapsed": false
   },
   "id": "fad47ac4057f255"
  },
  {
   "cell_type": "markdown",
   "source": [
    "4.1. Read the `Groceries.csv` file."
   ],
   "metadata": {
    "collapsed": false
   },
   "id": "41d24b440407e4ab"
  },
  {
   "cell_type": "code",
   "source": [
    "groceries = pd.read_csv('../Data/Groceries.csv', delimiter=',')\n",
    "display(groceries.head())"
   ],
   "metadata": {
    "collapsed": false,
    "ExecuteTime": {
     "end_time": "2024-05-29T11:00:42.052211Z",
     "start_time": "2024-05-29T11:00:42.022674Z"
    }
   },
   "id": "6cd6e934bfe2eeb3",
   "outputs": [
    {
     "data": {
      "text/plain": [
       "   transaction                                              items\n",
       "0            1  {citrus fruit;semi-finished bread;margarine;re...\n",
       "1            2                     {tropical fruit;yogurt;coffee}\n",
       "2            3                                       {whole milk}\n",
       "3            4      {pip fruit;yogurt;cream cheese ;meat spreads}\n",
       "4            5  {other vegetables;whole milk;condensed milk;lo..."
      ],
      "text/html": [
       "<div>\n",
       "<style scoped>\n",
       "    .dataframe tbody tr th:only-of-type {\n",
       "        vertical-align: middle;\n",
       "    }\n",
       "\n",
       "    .dataframe tbody tr th {\n",
       "        vertical-align: top;\n",
       "    }\n",
       "\n",
       "    .dataframe thead th {\n",
       "        text-align: right;\n",
       "    }\n",
       "</style>\n",
       "<table border=\"1\" class=\"dataframe\">\n",
       "  <thead>\n",
       "    <tr style=\"text-align: right;\">\n",
       "      <th></th>\n",
       "      <th>transaction</th>\n",
       "      <th>items</th>\n",
       "    </tr>\n",
       "  </thead>\n",
       "  <tbody>\n",
       "    <tr>\n",
       "      <th>0</th>\n",
       "      <td>1</td>\n",
       "      <td>{citrus fruit;semi-finished bread;margarine;re...</td>\n",
       "    </tr>\n",
       "    <tr>\n",
       "      <th>1</th>\n",
       "      <td>2</td>\n",
       "      <td>{tropical fruit;yogurt;coffee}</td>\n",
       "    </tr>\n",
       "    <tr>\n",
       "      <th>2</th>\n",
       "      <td>3</td>\n",
       "      <td>{whole milk}</td>\n",
       "    </tr>\n",
       "    <tr>\n",
       "      <th>3</th>\n",
       "      <td>4</td>\n",
       "      <td>{pip fruit;yogurt;cream cheese ;meat spreads}</td>\n",
       "    </tr>\n",
       "    <tr>\n",
       "      <th>4</th>\n",
       "      <td>5</td>\n",
       "      <td>{other vegetables;whole milk;condensed milk;lo...</td>\n",
       "    </tr>\n",
       "  </tbody>\n",
       "</table>\n",
       "</div>"
      ]
     },
     "metadata": {},
     "output_type": "display_data"
    }
   ],
   "execution_count": 37
  },
  {
   "cell_type": "markdown",
   "source": [
    "4.2. To convert the items in string format to an n-dimensional array you can do the following perform conversion.\n",
    "```python\n",
    "transactions = groceries['items'].apply(lambda row: row[1:-1].split(';')).to_numpy();\n",
    "\n",
    "# For each list of items in form {item 1, item 2, item 3}\n",
    "#1. Remove the curly braces with [1:-1]\n",
    "#2. Split based on “;”\n",
    "#3. Convert the panda Series to a numpy ndarray\n",
    "```"
   ],
   "metadata": {
    "collapsed": false
   },
   "id": "958a60af8f5b2ab"
  },
  {
   "cell_type": "code",
   "source": [
    "transactions = groceries['items'].apply(get_item_list).to_numpy()"
   ],
   "metadata": {
    "collapsed": false,
    "ExecuteTime": {
     "end_time": "2024-05-29T11:00:42.067423Z",
     "start_time": "2024-05-29T11:00:42.054206Z"
    }
   },
   "id": "123b660558a54fc4",
   "outputs": [],
   "execution_count": 38
  },
  {
   "cell_type": "code",
   "source": [
    "te = TransactionEncoder()\n",
    "dataset = te.fit(transactions).transform(transactions)\n",
    "transactionstable = pd.DataFrame(dataset,columns=te.columns_)\n",
    "display(transactionstable)"
   ],
   "metadata": {
    "collapsed": false,
    "ExecuteTime": {
     "end_time": "2024-05-29T11:00:42.113433Z",
     "start_time": "2024-05-29T11:00:42.068894Z"
    }
   },
   "id": "78826de6e6294fc1",
   "outputs": [
    {
     "data": {
      "text/plain": [
       "      Instant food products  UHT-milk  abrasive cleaner  artif. sweetener  \\\n",
       "0                     False     False             False             False   \n",
       "1                     False     False             False             False   \n",
       "2                     False     False             False             False   \n",
       "3                     False     False             False             False   \n",
       "4                     False     False             False             False   \n",
       "...                     ...       ...               ...               ...   \n",
       "9830                  False     False             False             False   \n",
       "9831                  False     False             False             False   \n",
       "9832                  False     False             False             False   \n",
       "9833                  False     False             False             False   \n",
       "9834                  False     False             False             False   \n",
       "\n",
       "      baby cosmetics  baby food   bags  baking powder  bathroom cleaner  \\\n",
       "0              False      False  False          False             False   \n",
       "1              False      False  False          False             False   \n",
       "2              False      False  False          False             False   \n",
       "3              False      False  False          False             False   \n",
       "4              False      False  False          False             False   \n",
       "...              ...        ...    ...            ...               ...   \n",
       "9830           False      False  False          False             False   \n",
       "9831           False      False  False          False             False   \n",
       "9832           False      False  False          False             False   \n",
       "9833           False      False  False          False             False   \n",
       "9834           False      False  False          False             False   \n",
       "\n",
       "       beef  ...  turkey  vinegar  waffles  whipped/sour cream  whisky  \\\n",
       "0     False  ...   False    False    False               False   False   \n",
       "1     False  ...   False    False    False               False   False   \n",
       "2     False  ...   False    False    False               False   False   \n",
       "3     False  ...   False    False    False               False   False   \n",
       "4     False  ...   False    False    False               False   False   \n",
       "...     ...  ...     ...      ...      ...                 ...     ...   \n",
       "9830   True  ...   False    False    False                True   False   \n",
       "9831  False  ...   False    False    False               False   False   \n",
       "9832  False  ...   False    False    False               False   False   \n",
       "9833  False  ...   False    False    False               False   False   \n",
       "9834  False  ...   False     True    False               False   False   \n",
       "\n",
       "      white bread  white wine  whole milk  yogurt  zwieback  \n",
       "0           False       False       False   False     False  \n",
       "1           False       False       False    True     False  \n",
       "2           False       False        True   False     False  \n",
       "3           False       False       False    True     False  \n",
       "4           False       False        True   False     False  \n",
       "...           ...         ...         ...     ...       ...  \n",
       "9830        False       False        True   False     False  \n",
       "9831        False       False       False   False     False  \n",
       "9832        False       False       False    True     False  \n",
       "9833        False       False       False   False     False  \n",
       "9834        False       False       False   False     False  \n",
       "\n",
       "[9835 rows x 169 columns]"
      ],
      "text/html": [
       "<div>\n",
       "<style scoped>\n",
       "    .dataframe tbody tr th:only-of-type {\n",
       "        vertical-align: middle;\n",
       "    }\n",
       "\n",
       "    .dataframe tbody tr th {\n",
       "        vertical-align: top;\n",
       "    }\n",
       "\n",
       "    .dataframe thead th {\n",
       "        text-align: right;\n",
       "    }\n",
       "</style>\n",
       "<table border=\"1\" class=\"dataframe\">\n",
       "  <thead>\n",
       "    <tr style=\"text-align: right;\">\n",
       "      <th></th>\n",
       "      <th>Instant food products</th>\n",
       "      <th>UHT-milk</th>\n",
       "      <th>abrasive cleaner</th>\n",
       "      <th>artif. sweetener</th>\n",
       "      <th>baby cosmetics</th>\n",
       "      <th>baby food</th>\n",
       "      <th>bags</th>\n",
       "      <th>baking powder</th>\n",
       "      <th>bathroom cleaner</th>\n",
       "      <th>beef</th>\n",
       "      <th>...</th>\n",
       "      <th>turkey</th>\n",
       "      <th>vinegar</th>\n",
       "      <th>waffles</th>\n",
       "      <th>whipped/sour cream</th>\n",
       "      <th>whisky</th>\n",
       "      <th>white bread</th>\n",
       "      <th>white wine</th>\n",
       "      <th>whole milk</th>\n",
       "      <th>yogurt</th>\n",
       "      <th>zwieback</th>\n",
       "    </tr>\n",
       "  </thead>\n",
       "  <tbody>\n",
       "    <tr>\n",
       "      <th>0</th>\n",
       "      <td>False</td>\n",
       "      <td>False</td>\n",
       "      <td>False</td>\n",
       "      <td>False</td>\n",
       "      <td>False</td>\n",
       "      <td>False</td>\n",
       "      <td>False</td>\n",
       "      <td>False</td>\n",
       "      <td>False</td>\n",
       "      <td>False</td>\n",
       "      <td>...</td>\n",
       "      <td>False</td>\n",
       "      <td>False</td>\n",
       "      <td>False</td>\n",
       "      <td>False</td>\n",
       "      <td>False</td>\n",
       "      <td>False</td>\n",
       "      <td>False</td>\n",
       "      <td>False</td>\n",
       "      <td>False</td>\n",
       "      <td>False</td>\n",
       "    </tr>\n",
       "    <tr>\n",
       "      <th>1</th>\n",
       "      <td>False</td>\n",
       "      <td>False</td>\n",
       "      <td>False</td>\n",
       "      <td>False</td>\n",
       "      <td>False</td>\n",
       "      <td>False</td>\n",
       "      <td>False</td>\n",
       "      <td>False</td>\n",
       "      <td>False</td>\n",
       "      <td>False</td>\n",
       "      <td>...</td>\n",
       "      <td>False</td>\n",
       "      <td>False</td>\n",
       "      <td>False</td>\n",
       "      <td>False</td>\n",
       "      <td>False</td>\n",
       "      <td>False</td>\n",
       "      <td>False</td>\n",
       "      <td>False</td>\n",
       "      <td>True</td>\n",
       "      <td>False</td>\n",
       "    </tr>\n",
       "    <tr>\n",
       "      <th>2</th>\n",
       "      <td>False</td>\n",
       "      <td>False</td>\n",
       "      <td>False</td>\n",
       "      <td>False</td>\n",
       "      <td>False</td>\n",
       "      <td>False</td>\n",
       "      <td>False</td>\n",
       "      <td>False</td>\n",
       "      <td>False</td>\n",
       "      <td>False</td>\n",
       "      <td>...</td>\n",
       "      <td>False</td>\n",
       "      <td>False</td>\n",
       "      <td>False</td>\n",
       "      <td>False</td>\n",
       "      <td>False</td>\n",
       "      <td>False</td>\n",
       "      <td>False</td>\n",
       "      <td>True</td>\n",
       "      <td>False</td>\n",
       "      <td>False</td>\n",
       "    </tr>\n",
       "    <tr>\n",
       "      <th>3</th>\n",
       "      <td>False</td>\n",
       "      <td>False</td>\n",
       "      <td>False</td>\n",
       "      <td>False</td>\n",
       "      <td>False</td>\n",
       "      <td>False</td>\n",
       "      <td>False</td>\n",
       "      <td>False</td>\n",
       "      <td>False</td>\n",
       "      <td>False</td>\n",
       "      <td>...</td>\n",
       "      <td>False</td>\n",
       "      <td>False</td>\n",
       "      <td>False</td>\n",
       "      <td>False</td>\n",
       "      <td>False</td>\n",
       "      <td>False</td>\n",
       "      <td>False</td>\n",
       "      <td>False</td>\n",
       "      <td>True</td>\n",
       "      <td>False</td>\n",
       "    </tr>\n",
       "    <tr>\n",
       "      <th>4</th>\n",
       "      <td>False</td>\n",
       "      <td>False</td>\n",
       "      <td>False</td>\n",
       "      <td>False</td>\n",
       "      <td>False</td>\n",
       "      <td>False</td>\n",
       "      <td>False</td>\n",
       "      <td>False</td>\n",
       "      <td>False</td>\n",
       "      <td>False</td>\n",
       "      <td>...</td>\n",
       "      <td>False</td>\n",
       "      <td>False</td>\n",
       "      <td>False</td>\n",
       "      <td>False</td>\n",
       "      <td>False</td>\n",
       "      <td>False</td>\n",
       "      <td>False</td>\n",
       "      <td>True</td>\n",
       "      <td>False</td>\n",
       "      <td>False</td>\n",
       "    </tr>\n",
       "    <tr>\n",
       "      <th>...</th>\n",
       "      <td>...</td>\n",
       "      <td>...</td>\n",
       "      <td>...</td>\n",
       "      <td>...</td>\n",
       "      <td>...</td>\n",
       "      <td>...</td>\n",
       "      <td>...</td>\n",
       "      <td>...</td>\n",
       "      <td>...</td>\n",
       "      <td>...</td>\n",
       "      <td>...</td>\n",
       "      <td>...</td>\n",
       "      <td>...</td>\n",
       "      <td>...</td>\n",
       "      <td>...</td>\n",
       "      <td>...</td>\n",
       "      <td>...</td>\n",
       "      <td>...</td>\n",
       "      <td>...</td>\n",
       "      <td>...</td>\n",
       "      <td>...</td>\n",
       "    </tr>\n",
       "    <tr>\n",
       "      <th>9830</th>\n",
       "      <td>False</td>\n",
       "      <td>False</td>\n",
       "      <td>False</td>\n",
       "      <td>False</td>\n",
       "      <td>False</td>\n",
       "      <td>False</td>\n",
       "      <td>False</td>\n",
       "      <td>False</td>\n",
       "      <td>False</td>\n",
       "      <td>True</td>\n",
       "      <td>...</td>\n",
       "      <td>False</td>\n",
       "      <td>False</td>\n",
       "      <td>False</td>\n",
       "      <td>True</td>\n",
       "      <td>False</td>\n",
       "      <td>False</td>\n",
       "      <td>False</td>\n",
       "      <td>True</td>\n",
       "      <td>False</td>\n",
       "      <td>False</td>\n",
       "    </tr>\n",
       "    <tr>\n",
       "      <th>9831</th>\n",
       "      <td>False</td>\n",
       "      <td>False</td>\n",
       "      <td>False</td>\n",
       "      <td>False</td>\n",
       "      <td>False</td>\n",
       "      <td>False</td>\n",
       "      <td>False</td>\n",
       "      <td>False</td>\n",
       "      <td>False</td>\n",
       "      <td>False</td>\n",
       "      <td>...</td>\n",
       "      <td>False</td>\n",
       "      <td>False</td>\n",
       "      <td>False</td>\n",
       "      <td>False</td>\n",
       "      <td>False</td>\n",
       "      <td>False</td>\n",
       "      <td>False</td>\n",
       "      <td>False</td>\n",
       "      <td>False</td>\n",
       "      <td>False</td>\n",
       "    </tr>\n",
       "    <tr>\n",
       "      <th>9832</th>\n",
       "      <td>False</td>\n",
       "      <td>False</td>\n",
       "      <td>False</td>\n",
       "      <td>False</td>\n",
       "      <td>False</td>\n",
       "      <td>False</td>\n",
       "      <td>False</td>\n",
       "      <td>False</td>\n",
       "      <td>False</td>\n",
       "      <td>False</td>\n",
       "      <td>...</td>\n",
       "      <td>False</td>\n",
       "      <td>False</td>\n",
       "      <td>False</td>\n",
       "      <td>False</td>\n",
       "      <td>False</td>\n",
       "      <td>False</td>\n",
       "      <td>False</td>\n",
       "      <td>False</td>\n",
       "      <td>True</td>\n",
       "      <td>False</td>\n",
       "    </tr>\n",
       "    <tr>\n",
       "      <th>9833</th>\n",
       "      <td>False</td>\n",
       "      <td>False</td>\n",
       "      <td>False</td>\n",
       "      <td>False</td>\n",
       "      <td>False</td>\n",
       "      <td>False</td>\n",
       "      <td>False</td>\n",
       "      <td>False</td>\n",
       "      <td>False</td>\n",
       "      <td>False</td>\n",
       "      <td>...</td>\n",
       "      <td>False</td>\n",
       "      <td>False</td>\n",
       "      <td>False</td>\n",
       "      <td>False</td>\n",
       "      <td>False</td>\n",
       "      <td>False</td>\n",
       "      <td>False</td>\n",
       "      <td>False</td>\n",
       "      <td>False</td>\n",
       "      <td>False</td>\n",
       "    </tr>\n",
       "    <tr>\n",
       "      <th>9834</th>\n",
       "      <td>False</td>\n",
       "      <td>False</td>\n",
       "      <td>False</td>\n",
       "      <td>False</td>\n",
       "      <td>False</td>\n",
       "      <td>False</td>\n",
       "      <td>False</td>\n",
       "      <td>False</td>\n",
       "      <td>False</td>\n",
       "      <td>False</td>\n",
       "      <td>...</td>\n",
       "      <td>False</td>\n",
       "      <td>True</td>\n",
       "      <td>False</td>\n",
       "      <td>False</td>\n",
       "      <td>False</td>\n",
       "      <td>False</td>\n",
       "      <td>False</td>\n",
       "      <td>False</td>\n",
       "      <td>False</td>\n",
       "      <td>False</td>\n",
       "    </tr>\n",
       "  </tbody>\n",
       "</table>\n",
       "<p>9835 rows × 169 columns</p>\n",
       "</div>"
      ]
     },
     "metadata": {},
     "output_type": "display_data"
    }
   ],
   "execution_count": 39
  },
  {
   "cell_type": "markdown",
   "source": [
    "4.3. Create the association rules with the `apriori algorithm` based on the following parameters:\n",
    "- minimum support = `0.05`\n",
    "- minimum confidence = `0.1`\n",
    "- minimum lengte = `2`\n",
    "- maximum lengte = `5`\n"
   ],
   "metadata": {
    "collapsed": false
   },
   "id": "ff20065f644d7c06"
  },
  {
   "cell_type": "code",
   "source": [
    "min_support = 0.05\n",
    "min_confidence = 0.1\n",
    "min_lengte = 2\n",
    "max_lengte = 5"
   ],
   "metadata": {
    "collapsed": false,
    "ExecuteTime": {
     "end_time": "2024-05-29T11:00:42.129493Z",
     "start_time": "2024-05-29T11:00:42.115427Z"
    }
   },
   "id": "bd09ec9c00270c86",
   "outputs": [],
   "execution_count": 40
  },
  {
   "cell_type": "code",
   "source": [
    "# Apriori algorithm\n",
    "item_sets_apriori = apriori(transactionstable, min_support=min_support, use_colnames=True, max_len=max_lengte)\n",
    "display(item_sets_apriori.head())"
   ],
   "metadata": {
    "collapsed": false,
    "ExecuteTime": {
     "end_time": "2024-05-29T11:00:42.175774Z",
     "start_time": "2024-05-29T11:00:42.131307Z"
    }
   },
   "id": "3f93ab3fcf057c4a",
   "outputs": [
    {
     "data": {
      "text/plain": [
       "    support         itemsets\n",
       "0  0.052466           (beef)\n",
       "1  0.080529   (bottled beer)\n",
       "2  0.110524  (bottled water)\n",
       "3  0.064870    (brown bread)\n",
       "4  0.055414         (butter)"
      ],
      "text/html": [
       "<div>\n",
       "<style scoped>\n",
       "    .dataframe tbody tr th:only-of-type {\n",
       "        vertical-align: middle;\n",
       "    }\n",
       "\n",
       "    .dataframe tbody tr th {\n",
       "        vertical-align: top;\n",
       "    }\n",
       "\n",
       "    .dataframe thead th {\n",
       "        text-align: right;\n",
       "    }\n",
       "</style>\n",
       "<table border=\"1\" class=\"dataframe\">\n",
       "  <thead>\n",
       "    <tr style=\"text-align: right;\">\n",
       "      <th></th>\n",
       "      <th>support</th>\n",
       "      <th>itemsets</th>\n",
       "    </tr>\n",
       "  </thead>\n",
       "  <tbody>\n",
       "    <tr>\n",
       "      <th>0</th>\n",
       "      <td>0.052466</td>\n",
       "      <td>(beef)</td>\n",
       "    </tr>\n",
       "    <tr>\n",
       "      <th>1</th>\n",
       "      <td>0.080529</td>\n",
       "      <td>(bottled beer)</td>\n",
       "    </tr>\n",
       "    <tr>\n",
       "      <th>2</th>\n",
       "      <td>0.110524</td>\n",
       "      <td>(bottled water)</td>\n",
       "    </tr>\n",
       "    <tr>\n",
       "      <th>3</th>\n",
       "      <td>0.064870</td>\n",
       "      <td>(brown bread)</td>\n",
       "    </tr>\n",
       "    <tr>\n",
       "      <th>4</th>\n",
       "      <td>0.055414</td>\n",
       "      <td>(butter)</td>\n",
       "    </tr>\n",
       "  </tbody>\n",
       "</table>\n",
       "</div>"
      ]
     },
     "metadata": {},
     "output_type": "display_data"
    }
   ],
   "execution_count": 41
  },
  {
   "cell_type": "code",
   "source": [
    "rules_apriori = association_rules(item_sets_apriori, metric='confidence', min_threshold=min_confidence)\n",
    "display(rules_apriori.head())"
   ],
   "metadata": {
    "collapsed": false,
    "ExecuteTime": {
     "end_time": "2024-05-29T11:00:42.206719Z",
     "start_time": "2024-05-29T11:00:42.177768Z"
    }
   },
   "id": "c3292faedee003ee",
   "outputs": [
    {
     "data": {
      "text/plain": [
       "          antecedents         consequents  antecedent support  \\\n",
       "0        (whole milk)  (other vegetables)            0.255516   \n",
       "1  (other vegetables)        (whole milk)            0.193493   \n",
       "2        (rolls/buns)        (whole milk)            0.183935   \n",
       "3        (whole milk)        (rolls/buns)            0.255516   \n",
       "4        (whole milk)            (yogurt)            0.255516   \n",
       "\n",
       "   consequent support   support  confidence      lift  leverage  conviction  \\\n",
       "0            0.193493  0.074835    0.292877  1.513634  0.025394    1.140548   \n",
       "1            0.255516  0.074835    0.386758  1.513634  0.025394    1.214013   \n",
       "2            0.255516  0.056634    0.307905  1.205032  0.009636    1.075696   \n",
       "3            0.183935  0.056634    0.221647  1.205032  0.009636    1.048452   \n",
       "4            0.139502  0.056024    0.219260  1.571735  0.020379    1.102157   \n",
       "\n",
       "   zhangs_metric  \n",
       "0       0.455803  \n",
       "1       0.420750  \n",
       "2       0.208496  \n",
       "3       0.228543  \n",
       "4       0.488608  "
      ],
      "text/html": [
       "<div>\n",
       "<style scoped>\n",
       "    .dataframe tbody tr th:only-of-type {\n",
       "        vertical-align: middle;\n",
       "    }\n",
       "\n",
       "    .dataframe tbody tr th {\n",
       "        vertical-align: top;\n",
       "    }\n",
       "\n",
       "    .dataframe thead th {\n",
       "        text-align: right;\n",
       "    }\n",
       "</style>\n",
       "<table border=\"1\" class=\"dataframe\">\n",
       "  <thead>\n",
       "    <tr style=\"text-align: right;\">\n",
       "      <th></th>\n",
       "      <th>antecedents</th>\n",
       "      <th>consequents</th>\n",
       "      <th>antecedent support</th>\n",
       "      <th>consequent support</th>\n",
       "      <th>support</th>\n",
       "      <th>confidence</th>\n",
       "      <th>lift</th>\n",
       "      <th>leverage</th>\n",
       "      <th>conviction</th>\n",
       "      <th>zhangs_metric</th>\n",
       "    </tr>\n",
       "  </thead>\n",
       "  <tbody>\n",
       "    <tr>\n",
       "      <th>0</th>\n",
       "      <td>(whole milk)</td>\n",
       "      <td>(other vegetables)</td>\n",
       "      <td>0.255516</td>\n",
       "      <td>0.193493</td>\n",
       "      <td>0.074835</td>\n",
       "      <td>0.292877</td>\n",
       "      <td>1.513634</td>\n",
       "      <td>0.025394</td>\n",
       "      <td>1.140548</td>\n",
       "      <td>0.455803</td>\n",
       "    </tr>\n",
       "    <tr>\n",
       "      <th>1</th>\n",
       "      <td>(other vegetables)</td>\n",
       "      <td>(whole milk)</td>\n",
       "      <td>0.193493</td>\n",
       "      <td>0.255516</td>\n",
       "      <td>0.074835</td>\n",
       "      <td>0.386758</td>\n",
       "      <td>1.513634</td>\n",
       "      <td>0.025394</td>\n",
       "      <td>1.214013</td>\n",
       "      <td>0.420750</td>\n",
       "    </tr>\n",
       "    <tr>\n",
       "      <th>2</th>\n",
       "      <td>(rolls/buns)</td>\n",
       "      <td>(whole milk)</td>\n",
       "      <td>0.183935</td>\n",
       "      <td>0.255516</td>\n",
       "      <td>0.056634</td>\n",
       "      <td>0.307905</td>\n",
       "      <td>1.205032</td>\n",
       "      <td>0.009636</td>\n",
       "      <td>1.075696</td>\n",
       "      <td>0.208496</td>\n",
       "    </tr>\n",
       "    <tr>\n",
       "      <th>3</th>\n",
       "      <td>(whole milk)</td>\n",
       "      <td>(rolls/buns)</td>\n",
       "      <td>0.255516</td>\n",
       "      <td>0.183935</td>\n",
       "      <td>0.056634</td>\n",
       "      <td>0.221647</td>\n",
       "      <td>1.205032</td>\n",
       "      <td>0.009636</td>\n",
       "      <td>1.048452</td>\n",
       "      <td>0.228543</td>\n",
       "    </tr>\n",
       "    <tr>\n",
       "      <th>4</th>\n",
       "      <td>(whole milk)</td>\n",
       "      <td>(yogurt)</td>\n",
       "      <td>0.255516</td>\n",
       "      <td>0.139502</td>\n",
       "      <td>0.056024</td>\n",
       "      <td>0.219260</td>\n",
       "      <td>1.571735</td>\n",
       "      <td>0.020379</td>\n",
       "      <td>1.102157</td>\n",
       "      <td>0.488608</td>\n",
       "    </tr>\n",
       "  </tbody>\n",
       "</table>\n",
       "</div>"
      ]
     },
     "metadata": {},
     "output_type": "display_data"
    }
   ],
   "execution_count": 42
  },
  {
   "cell_type": "markdown",
   "source": [
    "4.4. Look up the line yogurt → whole milk. Is this a good line? Rate based on Support, Confidence and Lift."
   ],
   "metadata": {
    "collapsed": false
   },
   "id": "def89ff9beaa0c89"
  },
  {
   "cell_type": "code",
   "source": [
    "print(colored(f\"Lift: {rules_apriori.sort_values(by='confidence', ascending=False).head(1)['lift'].values[0]}\", outputColor))\n",
    "print(colored(f\"Confidence: {rules_apriori.sort_values(by='confidence', ascending=False).head(1)['confidence'].values[0]}\", outputColor))"
   ],
   "metadata": {
    "collapsed": false,
    "ExecuteTime": {
     "end_time": "2024-05-29T11:01:21.612444Z",
     "start_time": "2024-05-29T11:01:21.602159Z"
    }
   },
   "id": "47e52cc72ccf9ed0",
   "outputs": [
    {
     "name": "stdout",
     "output_type": "stream",
     "text": [
      "\u001B[34mLift: 1.5717351405345266\u001B[0m\n",
      "\u001B[34mConfidence: 0.40160349854227406\u001B[0m\n"
     ]
    }
   ],
   "execution_count": 44
  },
  {
   "cell_type": "markdown",
   "source": [
    "### Question 5:\n",
    "A theoretical driving test contains `50` multiple choice questions. You must get `43/50` to pass. Suppose each multiple-choice question has `4` possible answers.\n",
    "\n",
    "- What is the chance of success (`43/50`) when you only gamble (`4` options)?\n",
    "- What is the chance of passing if you are sure of `35` questions (and therefore have guessed `15` times)?\n",
    "- What is the probability of passing (`43/50`) if you are just guessing and there are only `2` options per question?"
   ],
   "metadata": {
    "collapsed": false
   },
   "id": "6c26b5905bb1950d"
  },
  {
   "cell_type": "code",
   "source": [
    "# Technique used: The Binomial Distribution\n",
    "\n",
    "k = 43 - 1     # Probability of exactly k successes\n",
    "n = 50         # Number of trials\n",
    "p = 1 / 4      # Probability of success in each trial\n",
    "probability = 1 - binomial.cdf(k, n, p)\n",
    "print(colored(f\"1. The probability is as follows: {round(probability,4)} or {round(probability*100,4)}%.\", outputColor))\n",
    "\n",
    "k = 43 - 15    # Probability of exactly k successes\n",
    "n = 50         # Number of trials\n",
    "p = 1 / 4      # Probability of success in each trial\n",
    "probability = 1 - binomial.cdf(k, n, p)\n",
    "print(colored(f\"2. The probability is as follows: {round(probability,4)} or {round(probability*100,4)}%.\", outputColor))\n",
    "\n",
    "k = 43 - 1     # Probability of exactly k successes\n",
    "n = 50         # Number of trials\n",
    "p = 1 / 2      # Probability of success in each trial\n",
    "probability = 1 - binomial.cdf(k, n, p)\n",
    "print(colored(f\"3. The probability is as follows: {round(probability,4)} or {round(probability*100,4)}%.\", outputColor))"
   ],
   "metadata": {
    "collapsed": false,
    "ExecuteTime": {
     "end_time": "2024-05-29T11:02:30.694471Z",
     "start_time": "2024-05-29T11:02:30.685067Z"
    }
   },
   "id": "1ea81ab4dca906d1",
   "outputs": [
    {
     "name": "stdout",
     "output_type": "stream",
     "text": [
      "\u001B[34m1. The probability is as follows: 0.0 or 0.0%.\u001B[0m\n",
      "\u001B[34m2. The probability is as follows: 0.0 or 0.0001%.\u001B[0m\n",
      "\u001B[34m3. The probability is as follows: 0.0 or 0.0%.\u001B[0m\n"
     ]
    }
   ],
   "execution_count": 45
  }
 ],
 "metadata": {
  "kernelspec": {
   "display_name": "Python 3",
   "language": "python",
   "name": "python3"
  },
  "language_info": {
   "codemirror_mode": {
    "name": "ipython",
    "version": 2
   },
   "file_extension": ".py",
   "mimetype": "text/x-python",
   "name": "python",
   "nbconvert_exporter": "python",
   "pygments_lexer": "ipython2",
   "version": "2.7.6"
  }
 },
 "nbformat": 4,
 "nbformat_minor": 5
}

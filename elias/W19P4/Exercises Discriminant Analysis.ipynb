{
 "cells": [
  {
   "cell_type": "markdown",
   "source": [
    "# Exercises Discriminant Analysis"
   ],
   "metadata": {
    "collapsed": false
   },
   "id": "fc11ae5046d6cd48"
  },
  {
   "cell_type": "code",
   "source": [
    "from termcolor import colored # type: ignore                                          # Colored text\n",
    "from random import Random  # type: ignore                                             # Random number generator\n",
    "import math  # type: ignore                                                           # Mathematical functions\n",
    "import pandas as pd  # type: ignore                                                   # Data manipulation\n",
    "import numpy as np  # type: ignore                                                    # Scientific computing\n",
    "import matplotlib.pyplot as plt  # type: ignore                                       # Data visualization\n",
    "from scipy.stats import binom as binomial  # type: ignore                             # Binomial distribution\n",
    "from scipy.stats import norm as normal  # type: ignore                                # Normal distribution\n",
    "from scipy.stats import poisson as poisson  # type: ignore                            # Poisson distribution\n",
    "from scipy.stats import t as student  # type: ignore                                  # Student distribution\n",
    "from scipy.stats import chi2  # type: ignore                                          # Chi-squared distribution\n",
    "from scipy.stats import ttest_1samp  # type: ignore                                   # One-sample t-test\n",
    "from scipy.stats import chisquare  # type: ignore                                     # Chi-squared test\n",
    "from scipy.special import comb  # type: ignore                                        # Combinations\n",
    "from mlxtend.frequent_patterns import apriori  # type: ignore                         # Apriori algorithm\n",
    "from mlxtend.frequent_patterns import fpgrowth  # type: ignore                        # FP-growth algorithm\n",
    "from mlxtend.frequent_patterns import association_rules  # type: ignore               # Association rules\n",
    "from mlxtend.preprocessing import TransactionEncoder  # type: ignore                  # Transaction encoder\n",
    "from sklearn.discriminant_analysis import LinearDiscriminantAnalysis  # type: ignore  # Discriminant Analysis\n",
    "from tensorflow import keras  # type: ignore                                          # Deep Learning library\n",
    "from tensorflow.keras import Model  # type: ignore                                    # Model class\n",
    "from tensorflow.keras.layers import Input, Dense, BatchNormalization  # type: ignore  # Layers\n",
    "from tensorflow.keras.utils import to_categorical  # type: ignore                     # One-hot encoding\n",
    "from tensorflow.keras.optimizers import Adam  # type: ignore                          # Optimizer\n",
    "from livelossplot import PlotLossesKeras  # type: ignore                              # Live plot\n",
    "from keras.src.optimizers import RMSprop  # type: ignore                              # Optimizer\n",
    "from sklearn.model_selection import train_test_split  # type: ignore                  # Train-test split\n",
    "from sklearn.metrics import roc_auc_score # type: ignore                              # ROC AUC score\n",
    "from simanneal import Annealer  # type: ignore                                        # Simulated Annealing\n",
    "from inspyred import ec  # type: ignore                                               # Evolutionary Computation\n",
    "import warnings  # type: ignore                                                       # Disable warnings\n",
    "from res.Functions import * # type: ignore                                     # Custom functions\n",
    "warnings.filterwarnings(\"ignore\")                                                     # Disable warnings\n",
    "outputColor = \"blue\"                                                                  # Color for the output"
   ],
   "metadata": {
    "collapsed": false,
    "ExecuteTime": {
     "end_time": "2024-06-10T16:46:28.124244Z",
     "start_time": "2024-06-10T16:46:28.115807Z"
    }
   },
   "id": "1796a7e3a7232f25",
   "outputs": [],
   "execution_count": 3
  },
  {
   "cell_type": "markdown",
   "source": [
    "## Theoretical questions\n",
    "> **Goal**: Predict future values from datasets (history)."
   ],
   "metadata": {
    "collapsed": false
   },
   "id": "d66cd879508e8eb4"
  },
  {
   "cell_type": "markdown",
   "source": [
    "### Question 1:\n",
    "- Can you predict the writing hand of the next student based on the specified height (`182`), pieces of fruit (`2`), shoe size (`44`), distance to KdG (`22`)? Only use students who have specified Left or Right as their writing hand.\n",
    "- Draw up a confusion matrix based on the predicted and effective values for the data you used to perform the discriminant analysis.\n",
    "- Calculate the usual evaluation metrics for a binary classifier.\n",
    "- Draw the ROC curve. If applicable, explain why the ROC curve is not drawn.\n",
    "- What is the accuracy of the discriminant analysis where height and shoe size predict the number of brothers and sisters?\n",
    "\n",
    "**Name of Columns**: `gapminder` `schrijfhand` `schoenmaat` `lengte` `bloedgroep` `resus` `siblings` `Samenzweringen` `rijbewijs` `domicilie in Antwerpen` `afstudeerrichting` `vrijetijdsbesteding` `uren wiskunde` `informatica` `belangrijk` `uren buiten schooluren` `afstand tot KdG` `vervoersmiddel` `klimaatopwarming` `zakgeld` `stukken fruit` `fruitvoorkeur` `besturingssysteem` `belangrijkste app` `M1 - stelen` `M2 - team` `M3 - beschermen` `M4 - voorbeeld` `M5 - embryo` `M6 - vrijheid` `mascotte` `zwaarste vak` `boeienste vak` `studiepunt`"
   ],
   "metadata": {
    "collapsed": false
   },
   "id": "8302daa62617938d"
  },
  {
   "cell_type": "code",
   "source": [
    "# Load in data and filter data\n",
    "data = pd.read_csv('../Data/Data1.csv', delimiter=';', decimal=',')\n",
    "data = data[(data['schrijfhand'] == 'Rechts') | (data['schrijfhand'] == 'Links')] # Drop row if not equal to right or left-handed\n",
    "display(data.head())"
   ],
   "metadata": {
    "collapsed": false,
    "ExecuteTime": {
     "end_time": "2024-05-29T12:05:53.193631Z",
     "start_time": "2024-05-29T12:05:53.157409Z"
    }
   },
   "id": "fca4ade8e07f1fee",
   "outputs": [
    {
     "data": {
      "text/plain": [
       "  gapminder schrijfhand  schoenmaat  lengte    bloedgroep         resus  \\\n",
       "0      7/18      Rechts        43.0     184             O      positief   \n",
       "1      3/18      Rechts        42.0     163  Weet ik niet  Weet ik niet   \n",
       "2     12/18      Rechts        45.0     183            AB      positief   \n",
       "3      5/18      Rechts        44.0     175             A      positief   \n",
       "4      6/18      Rechts        43.0     173             B      positief   \n",
       "\n",
       "   siblings                                     Samenzweringen  \\\n",
       "0         5  De tsunami van 2004 in de Indische Oceaan was ...   \n",
       "1         1   Prinses Diana kwam niet per ongeluk om het leven   \n",
       "2         2  Prinses Diana kwam niet per ongeluk om het lev...   \n",
       "3         2  De wereld wordt eigenlijk gecontroleerd door e...   \n",
       "4         3  De wereld wordt eigenlijk gecontroleerd door e...   \n",
       "\n",
       "                                           rijbewijs  \\\n",
       "0                               Categorie B: Wagens.   \n",
       "1  Categorie AM: Bromfietsen met een maximumsnelh...   \n",
       "2  Categorie AM: Bromfietsen met een maximumsnelh...   \n",
       "3  Categorie AM: Bromfietsen met een maximumsnelh...   \n",
       "4                               Categorie B: Wagens.   \n",
       "\n",
       "                              domicilie in Antwerpen  ... M1 - stelen  \\\n",
       "0  buiten de stad (een dorp, een gehucht, het pla...  ...           7   \n",
       "1                                        in een stad  ...          10   \n",
       "2                                        in een stad  ...           6   \n",
       "3                                        in een stad  ...           9   \n",
       "4                                        in een stad  ...          10   \n",
       "\n",
       "  M2 - team M3 - beschermen M4 - voorbeeld M5 - embryo  M6 - vrijheid  \\\n",
       "0         2               8              6           5            4.0   \n",
       "1         5              10              6           7            3.0   \n",
       "2         3               7              7          10            6.0   \n",
       "3        10              10             10          10            0.0   \n",
       "4         6              10              7           7            2.0   \n",
       "\n",
       "                                            mascotte  zwaarste vak  \\\n",
       "0  1=Bever,2=Wasbeer,3=Otter,4=Wolf,5=Poema,6=Pan...  Management 1   \n",
       "1  1=Bever,2=Wolf,3=Bizon,4=Otter,5=Panter,6=Poem...  Management 1   \n",
       "2  1=Bruine beer,2=Poema,3=Panter,4=Wolf,5=Vos,6=...  Management 1   \n",
       "3  1=Wasbeer,2=Wolf,3=Bruine beer,4=Das,5=Vos,6=B...  Management 1   \n",
       "4  1=Wolf,2=Vos,3=Bruine beer,4=Bizon,5=Panter,6=...  Management 1   \n",
       "\n",
       "           boeienste vak  studiepunt  \n",
       "0         Data science 1  16-20 uren  \n",
       "1     Computersystemen 1  <= 10 uren  \n",
       "2  Programmeren 1 - Java  16-20 uren  \n",
       "3         Data science 1  <= 10 uren  \n",
       "4         Data science 1  <= 10 uren  \n",
       "\n",
       "[5 rows x 33 columns]"
      ],
      "text/html": [
       "<div>\n",
       "<style scoped>\n",
       "    .dataframe tbody tr th:only-of-type {\n",
       "        vertical-align: middle;\n",
       "    }\n",
       "\n",
       "    .dataframe tbody tr th {\n",
       "        vertical-align: top;\n",
       "    }\n",
       "\n",
       "    .dataframe thead th {\n",
       "        text-align: right;\n",
       "    }\n",
       "</style>\n",
       "<table border=\"1\" class=\"dataframe\">\n",
       "  <thead>\n",
       "    <tr style=\"text-align: right;\">\n",
       "      <th></th>\n",
       "      <th>gapminder</th>\n",
       "      <th>schrijfhand</th>\n",
       "      <th>schoenmaat</th>\n",
       "      <th>lengte</th>\n",
       "      <th>bloedgroep</th>\n",
       "      <th>resus</th>\n",
       "      <th>siblings</th>\n",
       "      <th>Samenzweringen</th>\n",
       "      <th>rijbewijs</th>\n",
       "      <th>domicilie in Antwerpen</th>\n",
       "      <th>...</th>\n",
       "      <th>M1 - stelen</th>\n",
       "      <th>M2 - team</th>\n",
       "      <th>M3 - beschermen</th>\n",
       "      <th>M4 - voorbeeld</th>\n",
       "      <th>M5 - embryo</th>\n",
       "      <th>M6 - vrijheid</th>\n",
       "      <th>mascotte</th>\n",
       "      <th>zwaarste vak</th>\n",
       "      <th>boeienste vak</th>\n",
       "      <th>studiepunt</th>\n",
       "    </tr>\n",
       "  </thead>\n",
       "  <tbody>\n",
       "    <tr>\n",
       "      <th>0</th>\n",
       "      <td>7/18</td>\n",
       "      <td>Rechts</td>\n",
       "      <td>43.0</td>\n",
       "      <td>184</td>\n",
       "      <td>O</td>\n",
       "      <td>positief</td>\n",
       "      <td>5</td>\n",
       "      <td>De tsunami van 2004 in de Indische Oceaan was ...</td>\n",
       "      <td>Categorie B: Wagens.</td>\n",
       "      <td>buiten de stad (een dorp, een gehucht, het pla...</td>\n",
       "      <td>...</td>\n",
       "      <td>7</td>\n",
       "      <td>2</td>\n",
       "      <td>8</td>\n",
       "      <td>6</td>\n",
       "      <td>5</td>\n",
       "      <td>4.0</td>\n",
       "      <td>1=Bever,2=Wasbeer,3=Otter,4=Wolf,5=Poema,6=Pan...</td>\n",
       "      <td>Management 1</td>\n",
       "      <td>Data science 1</td>\n",
       "      <td>16-20 uren</td>\n",
       "    </tr>\n",
       "    <tr>\n",
       "      <th>1</th>\n",
       "      <td>3/18</td>\n",
       "      <td>Rechts</td>\n",
       "      <td>42.0</td>\n",
       "      <td>163</td>\n",
       "      <td>Weet ik niet</td>\n",
       "      <td>Weet ik niet</td>\n",
       "      <td>1</td>\n",
       "      <td>Prinses Diana kwam niet per ongeluk om het leven</td>\n",
       "      <td>Categorie AM: Bromfietsen met een maximumsnelh...</td>\n",
       "      <td>in een stad</td>\n",
       "      <td>...</td>\n",
       "      <td>10</td>\n",
       "      <td>5</td>\n",
       "      <td>10</td>\n",
       "      <td>6</td>\n",
       "      <td>7</td>\n",
       "      <td>3.0</td>\n",
       "      <td>1=Bever,2=Wolf,3=Bizon,4=Otter,5=Panter,6=Poem...</td>\n",
       "      <td>Management 1</td>\n",
       "      <td>Computersystemen 1</td>\n",
       "      <td>&lt;= 10 uren</td>\n",
       "    </tr>\n",
       "    <tr>\n",
       "      <th>2</th>\n",
       "      <td>12/18</td>\n",
       "      <td>Rechts</td>\n",
       "      <td>45.0</td>\n",
       "      <td>183</td>\n",
       "      <td>AB</td>\n",
       "      <td>positief</td>\n",
       "      <td>2</td>\n",
       "      <td>Prinses Diana kwam niet per ongeluk om het lev...</td>\n",
       "      <td>Categorie AM: Bromfietsen met een maximumsnelh...</td>\n",
       "      <td>in een stad</td>\n",
       "      <td>...</td>\n",
       "      <td>6</td>\n",
       "      <td>3</td>\n",
       "      <td>7</td>\n",
       "      <td>7</td>\n",
       "      <td>10</td>\n",
       "      <td>6.0</td>\n",
       "      <td>1=Bruine beer,2=Poema,3=Panter,4=Wolf,5=Vos,6=...</td>\n",
       "      <td>Management 1</td>\n",
       "      <td>Programmeren 1 - Java</td>\n",
       "      <td>16-20 uren</td>\n",
       "    </tr>\n",
       "    <tr>\n",
       "      <th>3</th>\n",
       "      <td>5/18</td>\n",
       "      <td>Rechts</td>\n",
       "      <td>44.0</td>\n",
       "      <td>175</td>\n",
       "      <td>A</td>\n",
       "      <td>positief</td>\n",
       "      <td>2</td>\n",
       "      <td>De wereld wordt eigenlijk gecontroleerd door e...</td>\n",
       "      <td>Categorie AM: Bromfietsen met een maximumsnelh...</td>\n",
       "      <td>in een stad</td>\n",
       "      <td>...</td>\n",
       "      <td>9</td>\n",
       "      <td>10</td>\n",
       "      <td>10</td>\n",
       "      <td>10</td>\n",
       "      <td>10</td>\n",
       "      <td>0.0</td>\n",
       "      <td>1=Wasbeer,2=Wolf,3=Bruine beer,4=Das,5=Vos,6=B...</td>\n",
       "      <td>Management 1</td>\n",
       "      <td>Data science 1</td>\n",
       "      <td>&lt;= 10 uren</td>\n",
       "    </tr>\n",
       "    <tr>\n",
       "      <th>4</th>\n",
       "      <td>6/18</td>\n",
       "      <td>Rechts</td>\n",
       "      <td>43.0</td>\n",
       "      <td>173</td>\n",
       "      <td>B</td>\n",
       "      <td>positief</td>\n",
       "      <td>3</td>\n",
       "      <td>De wereld wordt eigenlijk gecontroleerd door e...</td>\n",
       "      <td>Categorie B: Wagens.</td>\n",
       "      <td>in een stad</td>\n",
       "      <td>...</td>\n",
       "      <td>10</td>\n",
       "      <td>6</td>\n",
       "      <td>10</td>\n",
       "      <td>7</td>\n",
       "      <td>7</td>\n",
       "      <td>2.0</td>\n",
       "      <td>1=Wolf,2=Vos,3=Bruine beer,4=Bizon,5=Panter,6=...</td>\n",
       "      <td>Management 1</td>\n",
       "      <td>Data science 1</td>\n",
       "      <td>&lt;= 10 uren</td>\n",
       "    </tr>\n",
       "  </tbody>\n",
       "</table>\n",
       "<p>5 rows × 33 columns</p>\n",
       "</div>"
      ]
     },
     "metadata": {},
     "output_type": "display_data"
    }
   ],
   "execution_count": 59
  },
  {
   "cell_type": "code",
   "source": [
    "# Create linear discriminant analysis model\n",
    "independentVariables = data[['lengte', 'stukken fruit', 'schoenmaat', 'afstand tot KdG']] # Independent variables\n",
    "dependentVariable = data['schrijfhand']                                                   # Dependent variable\n",
    "lda = LinearDiscriminantAnalysis()\n",
    "lda.fit(independentVariables, dependentVariable)\n",
    "\n",
    "# Predict with test data\n",
    "testStudent = pd.DataFrame(data={'lengte':[182], 'stukken fruit':[2], 'schoenmaat':[44], 'afstand tot KdG':[22]})\n",
    "print(colored(f\"If you assume that the student has. The following attributes:\", outputColor))\n",
    "for column in testStudent.columns:\n",
    "    print(colored(f\"\\t- {column}: {testStudent[column].values}\", outputColor))\n",
    "print(colored(f\"Then the probability lies between {lda.predict_proba(testStudent)} that he is {lda.predict(testStudent)} handed.\", outputColor))"
   ],
   "metadata": {
    "collapsed": false,
    "ExecuteTime": {
     "end_time": "2024-05-29T12:05:53.240618Z",
     "start_time": "2024-05-29T12:05:53.211847Z"
    }
   },
   "id": "e6852ab5e5722e78",
   "outputs": [
    {
     "name": "stdout",
     "output_type": "stream",
     "text": [
      "\u001B[34mIf you assume that the student has. The following attributes:\u001B[0m\n",
      "\u001B[34m\t- lengte: [182]\u001B[0m\n",
      "\u001B[34m\t- stukken fruit: [2]\u001B[0m\n",
      "\u001B[34m\t- schoenmaat: [44]\u001B[0m\n",
      "\u001B[34m\t- afstand tot KdG: [22]\u001B[0m\n",
      "\u001B[34mThen the probability lies between [[0.09459903 0.90540097]] that he is ['Rechts'] handed.\u001B[0m\n"
     ]
    }
   ],
   "execution_count": 60
  },
  {
   "cell_type": "code",
   "source": [
    "# Create confusion matrix\n",
    "predicted = pd.Series(lda.predict(independentVariables), name='Predicted')\n",
    "actual = dependentVariable.rename('actual')\n",
    "confusion_matrix = pd.crosstab(index=actual, columns=predicted, margins='All', margins_name='Total')\n",
    "display(confusion_matrix)"
   ],
   "metadata": {
    "collapsed": false,
    "ExecuteTime": {
     "end_time": "2024-05-29T12:05:53.381005Z",
     "start_time": "2024-05-29T12:05:53.320462Z"
    }
   },
   "id": "f7c08fe989140647",
   "outputs": [
    {
     "data": {
      "text/plain": [
       "Predicted  Links  Rechts  Total\n",
       "actual                         \n",
       "Links          1      13     14\n",
       "Rechts         1      74     75\n",
       "Total          2      87     89"
      ],
      "text/html": [
       "<div>\n",
       "<style scoped>\n",
       "    .dataframe tbody tr th:only-of-type {\n",
       "        vertical-align: middle;\n",
       "    }\n",
       "\n",
       "    .dataframe tbody tr th {\n",
       "        vertical-align: top;\n",
       "    }\n",
       "\n",
       "    .dataframe thead th {\n",
       "        text-align: right;\n",
       "    }\n",
       "</style>\n",
       "<table border=\"1\" class=\"dataframe\">\n",
       "  <thead>\n",
       "    <tr style=\"text-align: right;\">\n",
       "      <th>Predicted</th>\n",
       "      <th>Links</th>\n",
       "      <th>Rechts</th>\n",
       "      <th>Total</th>\n",
       "    </tr>\n",
       "    <tr>\n",
       "      <th>actual</th>\n",
       "      <th></th>\n",
       "      <th></th>\n",
       "      <th></th>\n",
       "    </tr>\n",
       "  </thead>\n",
       "  <tbody>\n",
       "    <tr>\n",
       "      <th>Links</th>\n",
       "      <td>1</td>\n",
       "      <td>13</td>\n",
       "      <td>14</td>\n",
       "    </tr>\n",
       "    <tr>\n",
       "      <th>Rechts</th>\n",
       "      <td>1</td>\n",
       "      <td>74</td>\n",
       "      <td>75</td>\n",
       "    </tr>\n",
       "    <tr>\n",
       "      <th>Total</th>\n",
       "      <td>2</td>\n",
       "      <td>87</td>\n",
       "      <td>89</td>\n",
       "    </tr>\n",
       "  </tbody>\n",
       "</table>\n",
       "</div>"
      ]
     },
     "metadata": {},
     "output_type": "display_data"
    }
   ],
   "execution_count": 61
  },
  {
   "cell_type": "code",
   "source": [
    "# Evaluating model\n",
    "accuracy = accuracyf(confusion_matrix)\n",
    "\n",
    "precision_left = precisionf(confusion_matrix)[0]\n",
    "precision_right = precisionf(confusion_matrix)[1]\n",
    "\n",
    "recall_left = recallf(confusion_matrix)[0]\n",
    "recall_right = recallf(confusion_matrix)[1]\n",
    "\n",
    "f1_left = f_measuref(confusion_matrix, 1)[0]\n",
    "f1_right = f_measuref(confusion_matrix, 1)[1]\n",
    "\n",
    "# Accuracy: The sum of all correct predictions divided by the total sum.\n",
    "print(colored(f\"The accuracy of the binary classifier is: {round(accuracy, 2) * 100}%\\n\", outputColor))\n",
    "\n",
    "# Precision: The number of correct positive predictions divided by the total predictions.\n",
    "print(colored(f\"The precision of the binary classifier for left-handed is: {round(precision_left, 2) * 100}%\", outputColor))\n",
    "print(colored(f\"The precision of the binary classifier for right-handed is: {round(precision_right, 2) * 100}%\\n\", outputColor))\n",
    "\n",
    "# Recall: The number of correct positive predictions divided by the number of total positives.\n",
    "print(colored(f\"The recall of the binary classifier for left-handed is: {round(recall_left, 2) * 100}%\", outputColor))\n",
    "print(colored(f\"The recall of the binary classifier for right-handed is: {round(recall_right, 2) * 100}%\\n\", outputColor))\n",
    "\n",
    "# F-measuref: The curved harmonic mean of precision and recall.\n",
    "print(colored(f\"The F1-measure of the binary classifier for left-handed is: {round(f1_left, 2) * 100}%\", outputColor))\n",
    "print(colored(f\"The F1-measure of the binary classifier for right-handed is: {round(f1_right, 2) * 100}%\\n\", outputColor))\n",
    "\n",
    "evaluate_classifier(confusion_matrix, 1, 0.9)"
   ],
   "metadata": {
    "collapsed": false,
    "ExecuteTime": {
     "end_time": "2024-05-29T12:05:53.444050Z",
     "start_time": "2024-05-29T12:05:53.420191Z"
    }
   },
   "id": "999844140262f81e",
   "outputs": [
    {
     "name": "stdout",
     "output_type": "stream",
     "text": [
      "\u001B[34mThe accuracy of the binary classifier is: 46.0%\n",
      "\u001B[0m\n",
      "\u001B[34mThe precision of the binary classifier for left-handed is: 25.0%\u001B[0m\n",
      "\u001B[34mThe precision of the binary classifier for right-handed is: 43.0%\n",
      "\u001B[0m\n",
      "\u001B[34mThe recall of the binary classifier for left-handed is: 4.0%\u001B[0m\n",
      "\u001B[34mThe recall of the binary classifier for right-handed is: 49.0%\n",
      "\u001B[0m\n",
      "\u001B[34mThe F1-measure of the binary classifier for left-handed is: 6.0%\u001B[0m\n",
      "\u001B[34mThe F1-measure of the binary classifier for right-handed is: 46.0%\n",
      "\u001B[0m\n",
      "This is a bad classifier with a threshold of 90.0%\n"
     ]
    }
   ],
   "execution_count": 62
  },
  {
   "cell_type": "code",
   "source": [
    "# Create a ROC (Receiver Operator Characteristic Curve) diagram.\n",
    "y_true = pd.get_dummies(data['schrijfhand'])['Rechts']\n",
    "y_score = pd.Series(lda.predict_proba(independentVariables)[:, 1])\n",
    "plot_rocf(y_true, y_score, title='ROC Curve')"
   ],
   "metadata": {
    "collapsed": false,
    "ExecuteTime": {
     "end_time": "2024-05-29T12:05:53.771809Z",
     "start_time": "2024-05-29T12:05:53.510264Z"
    }
   },
   "id": "288bc0da0f301074",
   "outputs": [
    {
     "data": {
      "text/plain": [
       "<Figure size 700x700 with 1 Axes>"
      ],
      "image/png": "[encoded data removed]"
     },
     "metadata": {},
     "output_type": "display_data"
    }
   ],
   "execution_count": 63
  },
  {
   "cell_type": "code",
   "source": [
    "# Create linear discriminant analysis model\n",
    "independentVariables = data[['lengte', 'schoenmaat']] # Independent variables\n",
    "dependentVariable = data['siblings']                  # Dependent variable\n",
    "lda = LinearDiscriminantAnalysis()\n",
    "lda.fit(independentVariables, dependentVariable)\n",
    "\n",
    "# Create confusion matrix\n",
    "predicted = pd.Series(lda.predict(independentVariables), name='Predicted')\n",
    "actual = dependentVariable.rename('actual')\n",
    "confusion_matrix = pd.crosstab(index=actual, columns=predicted, margins='All', margins_name='Total')\n",
    "\n",
    "# Evaluating model\n",
    "accuracy = accuracyf(confusion_matrix)\n",
    "print(colored(f\"What is the accuracy when we use two independent variables, length and shoe size to predict the amount of siblings: {round(accuracy, 2) * 100}%\", outputColor))"
   ],
   "metadata": {
    "collapsed": false,
    "ExecuteTime": {
     "end_time": "2024-05-29T12:06:27.800182Z",
     "start_time": "2024-05-29T12:06:27.756050Z"
    }
   },
   "id": "ae5681eeb006d6ce",
   "outputs": [
    {
     "name": "stdout",
     "output_type": "stream",
     "text": [
      "\u001B[34mWhat is the accuracy when we use two independent variables, length and shoe size to predict the amount of siblings: 10.0%\u001B[0m\n"
     ]
    }
   ],
   "execution_count": 79
  },
  {
   "cell_type": "markdown",
   "source": [
    "### Question 2:\n",
    "- Find the dataset `/Data/Bordeaux.csv` and place it in a data frame.\n",
    "    - Apply a discriminant analysis to this data set with `quality` as the dependent variable and `temperature`, `sun`, `heat` and `rain` as the independent variables.\n",
    "    - How many dimensions does the discriminant analysis have?\n",
    "    - Plot the results of the discriminant analysis. What is visualized here?\n",
    "    - Apply the predict command briefly to the original data. What percentage of the wines receive the same label via the discriminant analysis as observed?"
   ],
   "metadata": {
    "collapsed": false
   },
   "id": "8dcce8d70aac0bac"
  },
  {
   "cell_type": "code",
   "source": [
    "# Load in data and filter data\n",
    "bordeaux = pd.read_csv('../Data/Bordeaux.csv', delimiter=';')\n",
    "display(bordeaux.head())"
   ],
   "metadata": {
    "collapsed": false,
    "ExecuteTime": {
     "end_time": "2024-05-29T12:05:53.895736Z",
     "start_time": "2024-05-29T12:05:53.872544Z"
    }
   },
   "id": "d45ccf151811f954",
   "outputs": [
    {
     "data": {
      "text/plain": [
       "   year  temperature   sun  heat  rain quality\n",
       "0  1924         3064  1201    10   361  medium\n",
       "1  1925         3000  1053    11   338     bad\n",
       "2  1926         3155  1133    19   393  medium\n",
       "3  1927         3085   970     4   467     bad\n",
       "4  1928         3245  1258    36   294    good"
      ],
      "text/html": [
       "<div>\n",
       "<style scoped>\n",
       "    .dataframe tbody tr th:only-of-type {\n",
       "        vertical-align: middle;\n",
       "    }\n",
       "\n",
       "    .dataframe tbody tr th {\n",
       "        vertical-align: top;\n",
       "    }\n",
       "\n",
       "    .dataframe thead th {\n",
       "        text-align: right;\n",
       "    }\n",
       "</style>\n",
       "<table border=\"1\" class=\"dataframe\">\n",
       "  <thead>\n",
       "    <tr style=\"text-align: right;\">\n",
       "      <th></th>\n",
       "      <th>year</th>\n",
       "      <th>temperature</th>\n",
       "      <th>sun</th>\n",
       "      <th>heat</th>\n",
       "      <th>rain</th>\n",
       "      <th>quality</th>\n",
       "    </tr>\n",
       "  </thead>\n",
       "  <tbody>\n",
       "    <tr>\n",
       "      <th>0</th>\n",
       "      <td>1924</td>\n",
       "      <td>3064</td>\n",
       "      <td>1201</td>\n",
       "      <td>10</td>\n",
       "      <td>361</td>\n",
       "      <td>medium</td>\n",
       "    </tr>\n",
       "    <tr>\n",
       "      <th>1</th>\n",
       "      <td>1925</td>\n",
       "      <td>3000</td>\n",
       "      <td>1053</td>\n",
       "      <td>11</td>\n",
       "      <td>338</td>\n",
       "      <td>bad</td>\n",
       "    </tr>\n",
       "    <tr>\n",
       "      <th>2</th>\n",
       "      <td>1926</td>\n",
       "      <td>3155</td>\n",
       "      <td>1133</td>\n",
       "      <td>19</td>\n",
       "      <td>393</td>\n",
       "      <td>medium</td>\n",
       "    </tr>\n",
       "    <tr>\n",
       "      <th>3</th>\n",
       "      <td>1927</td>\n",
       "      <td>3085</td>\n",
       "      <td>970</td>\n",
       "      <td>4</td>\n",
       "      <td>467</td>\n",
       "      <td>bad</td>\n",
       "    </tr>\n",
       "    <tr>\n",
       "      <th>4</th>\n",
       "      <td>1928</td>\n",
       "      <td>3245</td>\n",
       "      <td>1258</td>\n",
       "      <td>36</td>\n",
       "      <td>294</td>\n",
       "      <td>good</td>\n",
       "    </tr>\n",
       "  </tbody>\n",
       "</table>\n",
       "</div>"
      ]
     },
     "metadata": {},
     "output_type": "display_data"
    }
   ],
   "execution_count": 65
  },
  {
   "cell_type": "code",
   "source": [
    "# Create linear discriminant analysis model\n",
    "independentVariables = bordeaux[['temperature', 'sun', 'heat', 'rain']] # Independent variables\n",
    "dependentVariable = bordeaux['quality']                                 # Dependent variable\n",
    "lda = LinearDiscriminantAnalysis()\n",
    "lda.fit(independentVariables, dependentVariable)\n",
    "\n",
    "# Show some information about the discriminant analysis\n",
    "print(colored(f\"There are {(len(dependentVariable.unique()))-1} dimensions and there are {len(dependentVariable.unique())} different possibilities for the dependent variable and also, there are {len(independentVariables.columns)} independent variables.\", outputColor))"
   ],
   "metadata": {
    "collapsed": false,
    "ExecuteTime": {
     "end_time": "2024-05-29T12:06:55.401560Z",
     "start_time": "2024-05-29T12:06:55.389041Z"
    }
   },
   "id": "afe706b98c4e9e1c",
   "outputs": [
    {
     "name": "stdout",
     "output_type": "stream",
     "text": [
      "\u001B[34mThere are 2 dimensions dimensions and there are 3 different possibilities for the dependent variable and also, there are 4 independent variables.\u001B[0m\n"
     ]
    }
   ],
   "execution_count": 80
  },
  {
   "cell_type": "code",
   "source": [
    "# Visualize the results of the discriminant analysis (quality of the wines)\n",
    "quality_mapping = {'bad': 0, 'medium': 1, 'good': 2}\n",
    "bordeaux['quality_code'] = bordeaux['quality'].map(quality_mapping)\n",
    "dependentVariable_code = bordeaux['quality_code']\n",
    "\n",
    "lda = LinearDiscriminantAnalysis()\n",
    "lda.fit(independentVariables, dependentVariable_code)\n",
    "\n",
    "print(colored(f\"The plot visualizes the results of the discriminant analysis. So we can easily see the different quality levels of the wines.\", outputColor))\n",
    "\n",
    "plt.figure(figsize=(12, 6))\n",
    "plt.scatter(independentVariables['temperature'], independentVariables['sun'], independentVariables['heat'], c=lda.predict(independentVariables), cmap='viridis')\n",
    "plt.colorbar(label='Quality')\n",
    "plt.xlabel('Temperature')\n",
    "plt.ylabel('Sun')\n",
    "plt.title('Discriminant Analysis Results')\n",
    "plt.grid(True)\n",
    "plt.show()"
   ],
   "metadata": {
    "collapsed": false,
    "ExecuteTime": {
     "end_time": "2024-05-29T12:07:24.313893Z",
     "start_time": "2024-05-29T12:07:23.886478Z"
    }
   },
   "id": "d750076c00fb96e",
   "outputs": [
    {
     "name": "stdout",
     "output_type": "stream",
     "text": [
      "\u001B[34mThe plot visualizes the results of the discriminant analysis. So we can easily see the different quality levels of the wines.\u001B[0m\n"
     ]
    },
    {
     "data": {
      "text/plain": [
       "<Figure size 1200x600 with 2 Axes>"
      ],
      "image/png": "[encoded data removed]"
     },
     "metadata": {},
     "output_type": "display_data"
    }
   ],
   "execution_count": 82
  },
  {
   "cell_type": "code",
   "source": [
    "# Create linear discriminant analysis model\n",
    "lda = LinearDiscriminantAnalysis()\n",
    "lda.fit(independentVariables, dependentVariable)\n",
    "\n",
    "# Evaluating model\n",
    "predicted = lda.predict(independentVariables)\n",
    "accuracy = np.mean(predicted == dependentVariable)\n",
    "\n",
    "# Accuracy: The sum of all correct predictions divided by the total sum.\n",
    "print(colored(f\"The accuracy of the discriminant analysis model is: {round(accuracy, 2) * 100}%\\n\", outputColor))"
   ],
   "metadata": {
    "collapsed": false,
    "ExecuteTime": {
     "end_time": "2024-05-29T12:07:54.344976Z",
     "start_time": "2024-05-29T12:07:54.331909Z"
    }
   },
   "id": "75ae57120d7676d6",
   "outputs": [
    {
     "name": "stdout",
     "output_type": "stream",
     "text": [
      "\u001B[34mThe accuracy of the discriminant analysis model is: 79.0%\n",
      "\u001B[0m\n"
     ]
    }
   ],
   "execution_count": 84
  },
  {
   "cell_type": "markdown",
   "source": [
    "### Question 3:\n",
    "- Find the dataset `/Data/Birthwt.csv` and place it in a data frame.\n",
    "    - Analyze the type of data in this dataset.\n",
    "    - Which columns can be used as dependent variables for a discriminant analysis?\n",
    "    - Which columns can be used as independent variables for a discriminant analysis?\n",
    "    - Apply a discriminant analysis to this data set (using your choices above).\n",
    "    - How many dimensions does the discriminant analysis have?\n",
    "    - Plot the results of the discriminant analysis.\n",
    "\n",
    "**Name of Columns & Meaning**:\n",
    "- `low`: Indicator of birth weight less than 2.5 kg\n",
    "- `age`: Mother's age in years\n",
    "- `lwt`: Mother's weight in pounds at last menstrual period\n",
    "- `race`: Mother's race (1 = white, 2 = black, 3 = other)\n",
    "- `smoke`: Smoking status during pregnancy (1 = yes, 0 = no)\n",
    "- `ptl`: Number of previous premature labors\n",
    "- `ht`: History of hypertension (1 = yes, 0 = no)\n",
    "- `ui`: Presence of uterine irritability (1 = yes, 0 = no)\n",
    "- `ftv`: Number of physician visits during the first trimester\n",
    "- `bwt`: Birth weight in grams"
   ],
   "metadata": {
    "collapsed": false
   },
   "id": "3d07b7bd896afd9c"
  },
  {
   "cell_type": "code",
   "source": [
    "# Load in data and filter data\n",
    "birthwt = pd.read_csv('../Data/Birthwt.csv', delimiter=';')\n",
    "display(birthwt.head())"
   ],
   "metadata": {
    "collapsed": false,
    "ExecuteTime": {
     "end_time": "2024-05-29T12:05:54.502916Z",
     "start_time": "2024-05-29T12:05:54.489742Z"
    }
   },
   "id": "c6a18b90edf1f951",
   "outputs": [
    {
     "data": {
      "text/plain": [
       "   low  age  lwt  race  smoke  ptl  ht  ui  ftv   bwt\n",
       "0    0   19  182     2      0    0   0   1    0  2523\n",
       "1    0   33  155     3      0    0   0   0    3  2551\n",
       "2    0   20  105     1      1    0   0   0    1  2557\n",
       "3    0   21  108     1      1    0   0   1    2  2594\n",
       "4    0   18  107     1      1    0   0   1    0  2600"
      ],
      "text/html": [
       "<div>\n",
       "<style scoped>\n",
       "    .dataframe tbody tr th:only-of-type {\n",
       "        vertical-align: middle;\n",
       "    }\n",
       "\n",
       "    .dataframe tbody tr th {\n",
       "        vertical-align: top;\n",
       "    }\n",
       "\n",
       "    .dataframe thead th {\n",
       "        text-align: right;\n",
       "    }\n",
       "</style>\n",
       "<table border=\"1\" class=\"dataframe\">\n",
       "  <thead>\n",
       "    <tr style=\"text-align: right;\">\n",
       "      <th></th>\n",
       "      <th>low</th>\n",
       "      <th>age</th>\n",
       "      <th>lwt</th>\n",
       "      <th>race</th>\n",
       "      <th>smoke</th>\n",
       "      <th>ptl</th>\n",
       "      <th>ht</th>\n",
       "      <th>ui</th>\n",
       "      <th>ftv</th>\n",
       "      <th>bwt</th>\n",
       "    </tr>\n",
       "  </thead>\n",
       "  <tbody>\n",
       "    <tr>\n",
       "      <th>0</th>\n",
       "      <td>0</td>\n",
       "      <td>19</td>\n",
       "      <td>182</td>\n",
       "      <td>2</td>\n",
       "      <td>0</td>\n",
       "      <td>0</td>\n",
       "      <td>0</td>\n",
       "      <td>1</td>\n",
       "      <td>0</td>\n",
       "      <td>2523</td>\n",
       "    </tr>\n",
       "    <tr>\n",
       "      <th>1</th>\n",
       "      <td>0</td>\n",
       "      <td>33</td>\n",
       "      <td>155</td>\n",
       "      <td>3</td>\n",
       "      <td>0</td>\n",
       "      <td>0</td>\n",
       "      <td>0</td>\n",
       "      <td>0</td>\n",
       "      <td>3</td>\n",
       "      <td>2551</td>\n",
       "    </tr>\n",
       "    <tr>\n",
       "      <th>2</th>\n",
       "      <td>0</td>\n",
       "      <td>20</td>\n",
       "      <td>105</td>\n",
       "      <td>1</td>\n",
       "      <td>1</td>\n",
       "      <td>0</td>\n",
       "      <td>0</td>\n",
       "      <td>0</td>\n",
       "      <td>1</td>\n",
       "      <td>2557</td>\n",
       "    </tr>\n",
       "    <tr>\n",
       "      <th>3</th>\n",
       "      <td>0</td>\n",
       "      <td>21</td>\n",
       "      <td>108</td>\n",
       "      <td>1</td>\n",
       "      <td>1</td>\n",
       "      <td>0</td>\n",
       "      <td>0</td>\n",
       "      <td>1</td>\n",
       "      <td>2</td>\n",
       "      <td>2594</td>\n",
       "    </tr>\n",
       "    <tr>\n",
       "      <th>4</th>\n",
       "      <td>0</td>\n",
       "      <td>18</td>\n",
       "      <td>107</td>\n",
       "      <td>1</td>\n",
       "      <td>1</td>\n",
       "      <td>0</td>\n",
       "      <td>0</td>\n",
       "      <td>1</td>\n",
       "      <td>0</td>\n",
       "      <td>2600</td>\n",
       "    </tr>\n",
       "  </tbody>\n",
       "</table>\n",
       "</div>"
      ]
     },
     "metadata": {},
     "output_type": "display_data"
    }
   ],
   "execution_count": 69
  },
  {
   "cell_type": "code",
   "source": [
    "# Analyze data types\n",
    "df_info = pd.DataFrame({'Column Name': birthwt.columns, 'Data Type': birthwt.dtypes})\n",
    "display(df_info.T)"
   ],
   "metadata": {
    "collapsed": false,
    "ExecuteTime": {
     "end_time": "2024-05-29T12:05:54.533791Z",
     "start_time": "2024-05-29T12:05:54.513243Z"
    }
   },
   "id": "a3aa3d2a61b4d424",
   "outputs": [
    {
     "data": {
      "text/plain": [
       "               low    age    lwt   race  smoke    ptl     ht     ui    ftv  \\\n",
       "Column Name    low    age    lwt   race  smoke    ptl     ht     ui    ftv   \n",
       "Data Type    int64  int64  int64  int64  int64  int64  int64  int64  int64   \n",
       "\n",
       "               bwt  \n",
       "Column Name    bwt  \n",
       "Data Type    int64  "
      ],
      "text/html": [
       "<div>\n",
       "<style scoped>\n",
       "    .dataframe tbody tr th:only-of-type {\n",
       "        vertical-align: middle;\n",
       "    }\n",
       "\n",
       "    .dataframe tbody tr th {\n",
       "        vertical-align: top;\n",
       "    }\n",
       "\n",
       "    .dataframe thead th {\n",
       "        text-align: right;\n",
       "    }\n",
       "</style>\n",
       "<table border=\"1\" class=\"dataframe\">\n",
       "  <thead>\n",
       "    <tr style=\"text-align: right;\">\n",
       "      <th></th>\n",
       "      <th>low</th>\n",
       "      <th>age</th>\n",
       "      <th>lwt</th>\n",
       "      <th>race</th>\n",
       "      <th>smoke</th>\n",
       "      <th>ptl</th>\n",
       "      <th>ht</th>\n",
       "      <th>ui</th>\n",
       "      <th>ftv</th>\n",
       "      <th>bwt</th>\n",
       "    </tr>\n",
       "  </thead>\n",
       "  <tbody>\n",
       "    <tr>\n",
       "      <th>Column Name</th>\n",
       "      <td>low</td>\n",
       "      <td>age</td>\n",
       "      <td>lwt</td>\n",
       "      <td>race</td>\n",
       "      <td>smoke</td>\n",
       "      <td>ptl</td>\n",
       "      <td>ht</td>\n",
       "      <td>ui</td>\n",
       "      <td>ftv</td>\n",
       "      <td>bwt</td>\n",
       "    </tr>\n",
       "    <tr>\n",
       "      <th>Data Type</th>\n",
       "      <td>int64</td>\n",
       "      <td>int64</td>\n",
       "      <td>int64</td>\n",
       "      <td>int64</td>\n",
       "      <td>int64</td>\n",
       "      <td>int64</td>\n",
       "      <td>int64</td>\n",
       "      <td>int64</td>\n",
       "      <td>int64</td>\n",
       "      <td>int64</td>\n",
       "    </tr>\n",
       "  </tbody>\n",
       "</table>\n",
       "</div>"
      ]
     },
     "metadata": {},
     "output_type": "display_data"
    }
   ],
   "execution_count": 70
  },
  {
   "cell_type": "code",
   "source": [
    "# Determine which columns are suitable for dependent variables or independent variables categorization\n",
    "independentVariables, dependentVariables = categorize_variables(birthwt)\n",
    "\n",
    "print(colored(f\"The independent variables are: {independentVariables}\", outputColor))\n",
    "print(colored(f\"The dependent variables are: {dependentVariables}\", outputColor))\n",
    "\n",
    "print(colored(f\"\\nAll variables are dependent variables, therefore you can choose which one you want to make independent for prediction purposes.\", outputColor))\n",
    "print(colored(f\"We will choose as dependent variable the 'smoke' column.\", outputColor))\n",
    "print(colored(f\"We will choose as independent variables 'age', 'lwt' and 'bwt' because these are not correlated (Derived from).\", outputColor))"
   ],
   "metadata": {
    "collapsed": false,
    "ExecuteTime": {
     "end_time": "2024-05-29T12:08:43.698362Z",
     "start_time": "2024-05-29T12:08:43.682890Z"
    }
   },
   "id": "a2726114f2fde23c",
   "outputs": [
    {
     "name": "stdout",
     "output_type": "stream",
     "text": [
      "\u001B[34mThe independent variables are: ['low', 'age', 'lwt', 'race', 'smoke', 'ptl', 'ht', 'ui', 'ftv', 'bwt', 'LD1']\u001B[0m\n",
      "\u001B[34mThe dependent variables are: []\u001B[0m\n",
      "\u001B[34m\n",
      "All variables are dependent variables, therefore you can choose which one you want to make independent for prediction purposes.\u001B[0m\n",
      "\u001B[34mWe will choose as dependent variable the 'smoke' column.\u001B[0m\n",
      "\u001B[34mWe will choose as independent variables 'age', 'lwt' and 'bwt' because these are not correlated (Derived from).\u001B[0m\n"
     ]
    }
   ],
   "execution_count": 85
  },
  {
   "cell_type": "code",
   "source": [
    "# Create linear discriminant analysis model\n",
    "independentVariables = birthwt[['age', 'lwt', 'bwt']] # Independent variables\n",
    "dependentVariable = birthwt['smoke']                  # Dependent variable\n",
    "lda = LinearDiscriminantAnalysis()\n",
    "lda.fit(independentVariables, dependentVariable)\n",
    "\n",
    "# Show some information about the discriminant analysis\n",
    "print(colored(f\"There is {(len(dependentVariable.unique()))-1} dimension and there are {len(dependentVariable.unique())} different possibilities for the dependent variable and also, there are {len(independentVariables.columns)} independent variables.\", outputColor))"
   ],
   "metadata": {
    "collapsed": false,
    "ExecuteTime": {
     "end_time": "2024-05-29T12:09:00.446324Z",
     "start_time": "2024-05-29T12:09:00.433825Z"
    }
   },
   "id": "24203e0b93f70bc4",
   "outputs": [
    {
     "name": "stdout",
     "output_type": "stream",
     "text": [
      "\u001B[34mThere is 1 dimension and there are 2 different possibilities for the dependent variable and also, there are 3 independent variables.\u001B[0m\n"
     ]
    }
   ],
   "execution_count": 86
  },
  {
   "cell_type": "code",
   "source": [
    "# Visualize the results of the discriminant analysis (smoking status during pregnancy)\n",
    "birthwt[\"LD1\"] = lda.transform(independentVariables)[:, 0]\n",
    "plt.figure(figsize=(10, 5))\n",
    "birthwt['LD1'][birthwt['smoke'] == 0].hist(bins=25, density=True, edgecolor='black', color='green', alpha=0.7, label='Non-Smoker')\n",
    "birthwt['LD1'][birthwt['smoke'] == 1].hist(bins=25, density=True, edgecolor='black', color='red', alpha=0.7, label='Smoker')\n",
    "plt.title('Discriminant Analysis Results')\n",
    "plt.legend()\n",
    "plt.grid(False)\n",
    "plt.show()"
   ],
   "metadata": {
    "collapsed": false,
    "ExecuteTime": {
     "end_time": "2024-05-29T12:05:54.953756Z",
     "start_time": "2024-05-29T12:05:54.582245Z"
    }
   },
   "id": "6aca760e0c6344c4",
   "outputs": [
    {
     "data": {
      "text/plain": [
       "<Figure size 1000x500 with 1 Axes>"
      ],
      "image/png": "[encoded data removed]"
     },
     "metadata": {},
     "output_type": "display_data"
    }
   ],
   "execution_count": 73
  },
  {
   "cell_type": "markdown",
   "source": [
    "### Question 4:\n",
    "- Find the dataset `/Data/Cars93.csv` and place it in a data frame.\n",
    "    - Analyze the type of data in this dataset.\n",
    "    - Split the data set into two: the first `90` rows as a `learning data set` for why you are going to apply a discriminant analysis (see 5) and the last 3 rows to check whether the obtained discriminant analysis places these cars in the correct class places (see 7).\n",
    "    - Which columns can be used as dependent variables for a discriminant analysis?\n",
    "    - Which columns can be used as independent variables for a discriminant analysis?\n",
    "    - Apply a discriminant analysis to this data set. Take the Type column as the dependent variable and all usable columns as the independent variables (see 4).\n",
    "    - How many dimensions does the discriminant analysis have?\n",
    "    - Apply the obtained discriminant analysis using the predict command to the last 3 rows of the original data (see 2). Will all 3 cars be placed in the correct class?\n",
    "\n",
    "**Name of Columns & Meaning**:\n",
    "- `Manufacturer`: Manufacturer of the car\n",
    "- `Model`: Model of the car\n",
    "- `Type`: A factor with levels `Small`, `Sporty`, `Compact`, `Midsize`, `Large` and `Van`\n",
    "- `Min.Price`: Minimum Price (in \\$1,000) price of a basic version of the car\n",
    "- `Price`: Midrange Price (in \\$1,000) average of `Min.Price` and `Max.Price`\n",
    "- `Max.Price`: Maximum Price (in \\$1,000) price of `a premium version` of the car\n",
    "- `MPG.city`: City MPG (miles per US gallon by EPA rating)\n",
    "- `MPG.highway`: Highway MPG\n",
    "- `AirBags`: AirBags standard. Factor: `None`, `Driver only`, `Driver` & `Passenger`\n",
    "- `DriveTrain`: Drive train type: `Real wheel`, `Front wheel` or `4WD` (factor)\n",
    "- `Cylinders`: Number of cylinders (missing for Mazda RX-7, which has a rotary engine)\n",
    "- `EngineSize`: Engine size (liters)\n",
    "- `Horsepower`: Horsepower (maximum)\n",
    "- `RPM`: RPM (revs per minute at maximum horsepower)\n",
    "- `Rev.per.mile`: Engine revolutions per mile (in the highest gear)\n",
    "- `Man.trans.avail`: Is a manual transmission available? Factor with levels `Yes` and `No`\n",
    "- `Fuel.tank.capacity`: Fuel tank capacity (US gallons)\n",
    "- `Passengers`: Passenger capacity (persons)\n",
    "    "
   ],
   "metadata": {
    "collapsed": false
   },
   "id": "921495f352a4d7dd"
  },
  {
   "cell_type": "code",
   "source": [
    "# Load in data and filter data\n",
    "cars93 = pd.read_csv('../Data/Cars93.csv', delimiter=';', decimal='.')\n",
    "display(cars93.head())"
   ],
   "metadata": {
    "collapsed": false,
    "ExecuteTime": {
     "end_time": "2024-05-29T12:05:54.985192Z",
     "start_time": "2024-05-29T12:05:54.957137Z"
    }
   },
   "id": "7bb235ae95ef43d9",
   "outputs": [
    {
     "data": {
      "text/plain": [
       "  Manufacturer    Model     Type  Min.Price  Price  Max.Price  MPG.city  \\\n",
       "0        Acura  Integra    Small       12.9   15.9       18.8        25   \n",
       "1        Acura   Legend  Midsize       29.2   33.9       38.7        18   \n",
       "2         Audi       90  Compact       25.9   29.1       32.3        20   \n",
       "3         Audi      100  Midsize       30.8   37.7       44.6        19   \n",
       "4          BMW     535i  Midsize       23.7   30.0       36.2        22   \n",
       "\n",
       "   MPG.highway             AirBags DriveTrain  ... Passengers  Length  \\\n",
       "0           31                 NaN      Front  ...          5     177   \n",
       "1           25  Driver & Passenger      Front  ...          5     195   \n",
       "2           26         Driver only      Front  ...          5     180   \n",
       "3           26  Driver & Passenger      Front  ...          6     193   \n",
       "4           30         Driver only       Rear  ...          4     186   \n",
       "\n",
       "   Wheelbase  Width  Turn.circle Rear.seat.room  Luggage.room  Weight  \\\n",
       "0        102     68           37           26.5          11.0    2705   \n",
       "1        115     71           38           30.0          15.0    3560   \n",
       "2        102     67           37           28.0          14.0    3375   \n",
       "3        106     70           37           31.0          17.0    3405   \n",
       "4        109     69           39           27.0          13.0    3640   \n",
       "\n",
       "    Origin           Make  \n",
       "0  non-USA  Acura Integra  \n",
       "1  non-USA   Acura Legend  \n",
       "2  non-USA        Audi 90  \n",
       "3  non-USA       Audi 100  \n",
       "4  non-USA       BMW 535i  \n",
       "\n",
       "[5 rows x 27 columns]"
      ],
      "text/html": [
       "<div>\n",
       "<style scoped>\n",
       "    .dataframe tbody tr th:only-of-type {\n",
       "        vertical-align: middle;\n",
       "    }\n",
       "\n",
       "    .dataframe tbody tr th {\n",
       "        vertical-align: top;\n",
       "    }\n",
       "\n",
       "    .dataframe thead th {\n",
       "        text-align: right;\n",
       "    }\n",
       "</style>\n",
       "<table border=\"1\" class=\"dataframe\">\n",
       "  <thead>\n",
       "    <tr style=\"text-align: right;\">\n",
       "      <th></th>\n",
       "      <th>Manufacturer</th>\n",
       "      <th>Model</th>\n",
       "      <th>Type</th>\n",
       "      <th>Min.Price</th>\n",
       "      <th>Price</th>\n",
       "      <th>Max.Price</th>\n",
       "      <th>MPG.city</th>\n",
       "      <th>MPG.highway</th>\n",
       "      <th>AirBags</th>\n",
       "      <th>DriveTrain</th>\n",
       "      <th>...</th>\n",
       "      <th>Passengers</th>\n",
       "      <th>Length</th>\n",
       "      <th>Wheelbase</th>\n",
       "      <th>Width</th>\n",
       "      <th>Turn.circle</th>\n",
       "      <th>Rear.seat.room</th>\n",
       "      <th>Luggage.room</th>\n",
       "      <th>Weight</th>\n",
       "      <th>Origin</th>\n",
       "      <th>Make</th>\n",
       "    </tr>\n",
       "  </thead>\n",
       "  <tbody>\n",
       "    <tr>\n",
       "      <th>0</th>\n",
       "      <td>Acura</td>\n",
       "      <td>Integra</td>\n",
       "      <td>Small</td>\n",
       "      <td>12.9</td>\n",
       "      <td>15.9</td>\n",
       "      <td>18.8</td>\n",
       "      <td>25</td>\n",
       "      <td>31</td>\n",
       "      <td>NaN</td>\n",
       "      <td>Front</td>\n",
       "      <td>...</td>\n",
       "      <td>5</td>\n",
       "      <td>177</td>\n",
       "      <td>102</td>\n",
       "      <td>68</td>\n",
       "      <td>37</td>\n",
       "      <td>26.5</td>\n",
       "      <td>11.0</td>\n",
       "      <td>2705</td>\n",
       "      <td>non-USA</td>\n",
       "      <td>Acura Integra</td>\n",
       "    </tr>\n",
       "    <tr>\n",
       "      <th>1</th>\n",
       "      <td>Acura</td>\n",
       "      <td>Legend</td>\n",
       "      <td>Midsize</td>\n",
       "      <td>29.2</td>\n",
       "      <td>33.9</td>\n",
       "      <td>38.7</td>\n",
       "      <td>18</td>\n",
       "      <td>25</td>\n",
       "      <td>Driver &amp; Passenger</td>\n",
       "      <td>Front</td>\n",
       "      <td>...</td>\n",
       "      <td>5</td>\n",
       "      <td>195</td>\n",
       "      <td>115</td>\n",
       "      <td>71</td>\n",
       "      <td>38</td>\n",
       "      <td>30.0</td>\n",
       "      <td>15.0</td>\n",
       "      <td>3560</td>\n",
       "      <td>non-USA</td>\n",
       "      <td>Acura Legend</td>\n",
       "    </tr>\n",
       "    <tr>\n",
       "      <th>2</th>\n",
       "      <td>Audi</td>\n",
       "      <td>90</td>\n",
       "      <td>Compact</td>\n",
       "      <td>25.9</td>\n",
       "      <td>29.1</td>\n",
       "      <td>32.3</td>\n",
       "      <td>20</td>\n",
       "      <td>26</td>\n",
       "      <td>Driver only</td>\n",
       "      <td>Front</td>\n",
       "      <td>...</td>\n",
       "      <td>5</td>\n",
       "      <td>180</td>\n",
       "      <td>102</td>\n",
       "      <td>67</td>\n",
       "      <td>37</td>\n",
       "      <td>28.0</td>\n",
       "      <td>14.0</td>\n",
       "      <td>3375</td>\n",
       "      <td>non-USA</td>\n",
       "      <td>Audi 90</td>\n",
       "    </tr>\n",
       "    <tr>\n",
       "      <th>3</th>\n",
       "      <td>Audi</td>\n",
       "      <td>100</td>\n",
       "      <td>Midsize</td>\n",
       "      <td>30.8</td>\n",
       "      <td>37.7</td>\n",
       "      <td>44.6</td>\n",
       "      <td>19</td>\n",
       "      <td>26</td>\n",
       "      <td>Driver &amp; Passenger</td>\n",
       "      <td>Front</td>\n",
       "      <td>...</td>\n",
       "      <td>6</td>\n",
       "      <td>193</td>\n",
       "      <td>106</td>\n",
       "      <td>70</td>\n",
       "      <td>37</td>\n",
       "      <td>31.0</td>\n",
       "      <td>17.0</td>\n",
       "      <td>3405</td>\n",
       "      <td>non-USA</td>\n",
       "      <td>Audi 100</td>\n",
       "    </tr>\n",
       "    <tr>\n",
       "      <th>4</th>\n",
       "      <td>BMW</td>\n",
       "      <td>535i</td>\n",
       "      <td>Midsize</td>\n",
       "      <td>23.7</td>\n",
       "      <td>30.0</td>\n",
       "      <td>36.2</td>\n",
       "      <td>22</td>\n",
       "      <td>30</td>\n",
       "      <td>Driver only</td>\n",
       "      <td>Rear</td>\n",
       "      <td>...</td>\n",
       "      <td>4</td>\n",
       "      <td>186</td>\n",
       "      <td>109</td>\n",
       "      <td>69</td>\n",
       "      <td>39</td>\n",
       "      <td>27.0</td>\n",
       "      <td>13.0</td>\n",
       "      <td>3640</td>\n",
       "      <td>non-USA</td>\n",
       "      <td>BMW 535i</td>\n",
       "    </tr>\n",
       "  </tbody>\n",
       "</table>\n",
       "<p>5 rows × 27 columns</p>\n",
       "</div>"
      ]
     },
     "metadata": {},
     "output_type": "display_data"
    }
   ],
   "execution_count": 74
  },
  {
   "cell_type": "code",
   "source": [
    "# Analyze data types\n",
    "df_info = pd.DataFrame({'Column Name': cars93.columns, 'Data Type': cars93.dtypes})\n",
    "display(df_info)"
   ],
   "metadata": {
    "collapsed": false,
    "ExecuteTime": {
     "end_time": "2024-05-29T12:05:55.016415Z",
     "start_time": "2024-05-29T12:05:54.990510Z"
    }
   },
   "id": "9f79e40886cba937",
   "outputs": [
    {
     "data": {
      "text/plain": [
       "                           Column Name Data Type\n",
       "Manufacturer              Manufacturer    object\n",
       "Model                            Model    object\n",
       "Type                              Type    object\n",
       "Min.Price                    Min.Price   float64\n",
       "Price                            Price   float64\n",
       "Max.Price                    Max.Price   float64\n",
       "MPG.city                      MPG.city     int64\n",
       "MPG.highway                MPG.highway     int64\n",
       "AirBags                        AirBags    object\n",
       "DriveTrain                  DriveTrain    object\n",
       "Cylinders                    Cylinders    object\n",
       "EngineSize                  EngineSize   float64\n",
       "Horsepower                  Horsepower     int64\n",
       "RPM                                RPM     int64\n",
       "Rev.per.mile              Rev.per.mile     int64\n",
       "Man.trans.avail        Man.trans.avail    object\n",
       "Fuel.tank.capacity  Fuel.tank.capacity   float64\n",
       "Passengers                  Passengers     int64\n",
       "Length                          Length     int64\n",
       "Wheelbase                    Wheelbase     int64\n",
       "Width                            Width     int64\n",
       "Turn.circle                Turn.circle     int64\n",
       "Rear.seat.room          Rear.seat.room   float64\n",
       "Luggage.room              Luggage.room   float64\n",
       "Weight                          Weight     int64\n",
       "Origin                          Origin    object\n",
       "Make                              Make    object"
      ],
      "text/html": [
       "<div>\n",
       "<style scoped>\n",
       "    .dataframe tbody tr th:only-of-type {\n",
       "        vertical-align: middle;\n",
       "    }\n",
       "\n",
       "    .dataframe tbody tr th {\n",
       "        vertical-align: top;\n",
       "    }\n",
       "\n",
       "    .dataframe thead th {\n",
       "        text-align: right;\n",
       "    }\n",
       "</style>\n",
       "<table border=\"1\" class=\"dataframe\">\n",
       "  <thead>\n",
       "    <tr style=\"text-align: right;\">\n",
       "      <th></th>\n",
       "      <th>Column Name</th>\n",
       "      <th>Data Type</th>\n",
       "    </tr>\n",
       "  </thead>\n",
       "  <tbody>\n",
       "    <tr>\n",
       "      <th>Manufacturer</th>\n",
       "      <td>Manufacturer</td>\n",
       "      <td>object</td>\n",
       "    </tr>\n",
       "    <tr>\n",
       "      <th>Model</th>\n",
       "      <td>Model</td>\n",
       "      <td>object</td>\n",
       "    </tr>\n",
       "    <tr>\n",
       "      <th>Type</th>\n",
       "      <td>Type</td>\n",
       "      <td>object</td>\n",
       "    </tr>\n",
       "    <tr>\n",
       "      <th>Min.Price</th>\n",
       "      <td>Min.Price</td>\n",
       "      <td>float64</td>\n",
       "    </tr>\n",
       "    <tr>\n",
       "      <th>Price</th>\n",
       "      <td>Price</td>\n",
       "      <td>float64</td>\n",
       "    </tr>\n",
       "    <tr>\n",
       "      <th>Max.Price</th>\n",
       "      <td>Max.Price</td>\n",
       "      <td>float64</td>\n",
       "    </tr>\n",
       "    <tr>\n",
       "      <th>MPG.city</th>\n",
       "      <td>MPG.city</td>\n",
       "      <td>int64</td>\n",
       "    </tr>\n",
       "    <tr>\n",
       "      <th>MPG.highway</th>\n",
       "      <td>MPG.highway</td>\n",
       "      <td>int64</td>\n",
       "    </tr>\n",
       "    <tr>\n",
       "      <th>AirBags</th>\n",
       "      <td>AirBags</td>\n",
       "      <td>object</td>\n",
       "    </tr>\n",
       "    <tr>\n",
       "      <th>DriveTrain</th>\n",
       "      <td>DriveTrain</td>\n",
       "      <td>object</td>\n",
       "    </tr>\n",
       "    <tr>\n",
       "      <th>Cylinders</th>\n",
       "      <td>Cylinders</td>\n",
       "      <td>object</td>\n",
       "    </tr>\n",
       "    <tr>\n",
       "      <th>EngineSize</th>\n",
       "      <td>EngineSize</td>\n",
       "      <td>float64</td>\n",
       "    </tr>\n",
       "    <tr>\n",
       "      <th>Horsepower</th>\n",
       "      <td>Horsepower</td>\n",
       "      <td>int64</td>\n",
       "    </tr>\n",
       "    <tr>\n",
       "      <th>RPM</th>\n",
       "      <td>RPM</td>\n",
       "      <td>int64</td>\n",
       "    </tr>\n",
       "    <tr>\n",
       "      <th>Rev.per.mile</th>\n",
       "      <td>Rev.per.mile</td>\n",
       "      <td>int64</td>\n",
       "    </tr>\n",
       "    <tr>\n",
       "      <th>Man.trans.avail</th>\n",
       "      <td>Man.trans.avail</td>\n",
       "      <td>object</td>\n",
       "    </tr>\n",
       "    <tr>\n",
       "      <th>Fuel.tank.capacity</th>\n",
       "      <td>Fuel.tank.capacity</td>\n",
       "      <td>float64</td>\n",
       "    </tr>\n",
       "    <tr>\n",
       "      <th>Passengers</th>\n",
       "      <td>Passengers</td>\n",
       "      <td>int64</td>\n",
       "    </tr>\n",
       "    <tr>\n",
       "      <th>Length</th>\n",
       "      <td>Length</td>\n",
       "      <td>int64</td>\n",
       "    </tr>\n",
       "    <tr>\n",
       "      <th>Wheelbase</th>\n",
       "      <td>Wheelbase</td>\n",
       "      <td>int64</td>\n",
       "    </tr>\n",
       "    <tr>\n",
       "      <th>Width</th>\n",
       "      <td>Width</td>\n",
       "      <td>int64</td>\n",
       "    </tr>\n",
       "    <tr>\n",
       "      <th>Turn.circle</th>\n",
       "      <td>Turn.circle</td>\n",
       "      <td>int64</td>\n",
       "    </tr>\n",
       "    <tr>\n",
       "      <th>Rear.seat.room</th>\n",
       "      <td>Rear.seat.room</td>\n",
       "      <td>float64</td>\n",
       "    </tr>\n",
       "    <tr>\n",
       "      <th>Luggage.room</th>\n",
       "      <td>Luggage.room</td>\n",
       "      <td>float64</td>\n",
       "    </tr>\n",
       "    <tr>\n",
       "      <th>Weight</th>\n",
       "      <td>Weight</td>\n",
       "      <td>int64</td>\n",
       "    </tr>\n",
       "    <tr>\n",
       "      <th>Origin</th>\n",
       "      <td>Origin</td>\n",
       "      <td>object</td>\n",
       "    </tr>\n",
       "    <tr>\n",
       "      <th>Make</th>\n",
       "      <td>Make</td>\n",
       "      <td>object</td>\n",
       "    </tr>\n",
       "  </tbody>\n",
       "</table>\n",
       "</div>"
      ]
     },
     "metadata": {},
     "output_type": "display_data"
    }
   ],
   "execution_count": 75
  },
  {
   "cell_type": "code",
   "source": [
    "# Splitting data\n",
    "cars93 = cars93.dropna()\n",
    "learningData = cars93.iloc[:50]         # The 1st 50 rows.\n",
    "validationData = cars93.iloc[-4:]       # The last 4 rows.\n",
    "\n",
    "# Determine which columns are suitable for dependent variables or independent variables categorization\n",
    "independentVariables, dependentVariables = categorize_variables(learningData)\n",
    "\n",
    "print(colored(f\"The independent variables are: {independentVariables}\\n\", outputColor))\n",
    "print(colored(f\"The dependent variables are: {dependentVariables}\", outputColor))"
   ],
   "metadata": {
    "collapsed": false,
    "ExecuteTime": {
     "end_time": "2024-05-29T12:10:02.579136Z",
     "start_time": "2024-05-29T12:10:02.566063Z"
    }
   },
   "id": "37f8e4f29cb6aa30",
   "outputs": [
    {
     "name": "stdout",
     "output_type": "stream",
     "text": [
      "\u001B[34mThe independent variables are: ['Min.Price', 'Price', 'Max.Price', 'MPG.city', 'MPG.highway', 'EngineSize', 'Horsepower', 'RPM', 'Rev.per.mile', 'Fuel.tank.capacity', 'Passengers', 'Length', 'Wheelbase', 'Width', 'Turn.circle', 'Rear.seat.room', 'Luggage.room', 'Weight']\n",
      "\u001B[0m\n",
      "\u001B[34mThe dependent variables are: ['Manufacturer', 'Model', 'Type', 'AirBags', 'DriveTrain', 'Cylinders', 'Man.trans.avail', 'Origin', 'Make']\u001B[0m\n"
     ]
    }
   ],
   "execution_count": 87
  },
  {
   "cell_type": "code",
   "source": [
    "# Create linear discriminant analysis model\n",
    "independentVariables = learningData[['Min.Price', 'Price', 'Max.Price', 'MPG.city', 'MPG.highway', 'EngineSize', \n",
    "                                     'Horsepower', 'RPM', 'Rev.per.mile', 'Fuel.tank.capacity', 'Passengers', 'Length', \n",
    "                                     'Wheelbase', 'Width', 'Turn.circle', 'Rear.seat.room', 'Luggage.room', 'Weight']]  # Independent variables\n",
    "dependentVariable = learningData['Type']                                                                                # Dependent variable\n",
    "lda = LinearDiscriminantAnalysis()\n",
    "lda.fit(independentVariables, dependentVariable)\n",
    "\n",
    "# Show some information about the discriminant analysis\n",
    "print(colored(f\"There are {(len(dependentVariable.unique()))-1} dimensions and there are {len(dependentVariable.unique())} different possibilities for the dependent variable and also, there are {len(independentVariables.columns)} independent variables.\", outputColor))"
   ],
   "metadata": {
    "collapsed": false,
    "ExecuteTime": {
     "end_time": "2024-05-29T12:10:04.999173Z",
     "start_time": "2024-05-29T12:10:04.984806Z"
    }
   },
   "id": "6c1ba50dda0a3af1",
   "outputs": [
    {
     "name": "stdout",
     "output_type": "stream",
     "text": [
      "\u001B[34mThere are 4 dimensions and there are 5 different possibilities for the dependent variable and also, there are 18 independent variables.\u001B[0m\n"
     ]
    }
   ],
   "execution_count": 88
  },
  {
   "cell_type": "code",
   "source": [
    "# Predict with validation data\n",
    "predicted = lda.predict(validationData[['Min.Price', 'Price', 'Max.Price', 'MPG.city', 'MPG.highway', 'EngineSize', \n",
    "                                     'Horsepower', 'RPM', 'Rev.per.mile', 'Fuel.tank.capacity', 'Passengers', 'Length', \n",
    "                                     'Wheelbase', 'Width', 'Turn.circle', 'Rear.seat.room', 'Luggage.room', 'Weight']])\n",
    "\n",
    "print(colored(f\"Predicted values: {predicted}\", outputColor))\n",
    "print(colored(f\"Actual values: {validationData['Type'].values}\", outputColor))\n",
    "\n",
    "# Evaluating model\n",
    "correct = np.mean(predicted == validationData['Type'])\n",
    "print(colored(f\"\\nThe percentage of cars that are correctly classified is: {round(correct, 2) * 100}%\", outputColor))\n",
    "\n",
    "predicted = lda.predict(independentVariables)\n",
    "accuracy = np.mean(predicted == dependentVariable)\n",
    "\n",
    "# Accuracy: The sum of all correct predictions divided by the total sum.\n",
    "print(colored(f\"The accuracy of the discriminant analysis model is: {round(accuracy, 2) * 100}%\\n\", outputColor))"
   ],
   "metadata": {
    "collapsed": false,
    "ExecuteTime": {
     "end_time": "2024-05-29T12:10:38.930225Z",
     "start_time": "2024-05-29T12:10:38.919293Z"
    }
   },
   "id": "bba6a9abc86781d8",
   "outputs": [
    {
     "name": "stdout",
     "output_type": "stream",
     "text": [
      "\u001B[34mPredicted values: ['Sporty' 'Compact' 'Compact' 'Midsize']\u001B[0m\n",
      "\u001B[34mActual values: ['Sporty' 'Midsize' 'Compact' 'Midsize']\u001B[0m\n",
      "\u001B[34m\n",
      "The percentage of cars that are correctly classified is: 75.0%\u001B[0m\n",
      "\u001B[34mThe accuracy of the discriminant analysis model is: 94.0%\n",
      "\u001B[0m\n"
     ]
    }
   ],
   "execution_count": 89
  }
 ],
 "metadata": {
  "kernelspec": {
   "display_name": "Python 3",
   "language": "python",
   "name": "python3"
  },
  "language_info": {
   "codemirror_mode": {
    "name": "ipython",
    "version": 2
   },
   "file_extension": ".py",
   "mimetype": "text/x-python",
   "name": "python",
   "nbconvert_exporter": "python",
   "pygments_lexer": "ipython2",
   "version": "2.7.6"
  }
 },
 "nbformat": 4,
 "nbformat_minor": 5
}

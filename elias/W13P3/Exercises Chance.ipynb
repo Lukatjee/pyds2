{
 "cells": [
  {
   "cell_type": "markdown",
   "source": [
    "# Exercises Chance"
   ],
   "metadata": {
    "collapsed": false
   },
   "id": "fc11ae5046d6cd48"
  },
  {
   "cell_type": "code",
   "source": [
    "from termcolor import colored # type: ignore                                          # Colored text\n",
    "from random import Random  # type: ignore                                             # Random number generator\n",
    "import math  # type: ignore                                                           # Mathematical functions\n",
    "import pandas as pd  # type: ignore                                                   # Data manipulation\n",
    "import numpy as np  # type: ignore                                                    # Scientific computing\n",
    "import matplotlib.pyplot as plt  # type: ignore                                       # Data visualization\n",
    "from scipy.stats import binom as binomial  # type: ignore                             # Binomial distribution\n",
    "from scipy.stats import norm as normal  # type: ignore                                # Normal distribution\n",
    "from scipy.stats import poisson as poisson  # type: ignore                            # Poisson distribution\n",
    "from scipy.stats import t as student  # type: ignore                                  # Student distribution\n",
    "from scipy.stats import chi2  # type: ignore                                          # Chi-squared distribution\n",
    "from scipy.stats import ttest_1samp  # type: ignore                                   # One-sample t-test\n",
    "from scipy.stats import chisquare  # type: ignore                                     # Chi-squared test\n",
    "from scipy.special import comb  # type: ignore                                        # Combinations\n",
    "from mlxtend.frequent_patterns import apriori  # type: ignore                         # Apriori algorithm\n",
    "from mlxtend.frequent_patterns import fpgrowth  # type: ignore                        # FP-growth algorithm\n",
    "from mlxtend.frequent_patterns import association_rules  # type: ignore               # Association rules\n",
    "from mlxtend.preprocessing import TransactionEncoder  # type: ignore                  # Transaction encoder\n",
    "from sklearn.discriminant_analysis import LinearDiscriminantAnalysis  # type: ignore  # Discriminant Analysis\n",
    "from tensorflow import keras  # type: ignore                                          # Deep Learning library\n",
    "from tensorflow.keras import Model  # type: ignore                                    # Model class\n",
    "from tensorflow.keras.layers import Input, Dense, BatchNormalization  # type: ignore  # Layers\n",
    "from tensorflow.keras.utils import to_categorical  # type: ignore                     # One-hot encoding\n",
    "from tensorflow.keras.optimizers import Adam  # type: ignore                          # Optimizer\n",
    "from livelossplot import PlotLossesKeras  # type: ignore                              # Live plot\n",
    "from keras.src.optimizers import RMSprop  # type: ignore                              # Optimizer\n",
    "from sklearn.model_selection import train_test_split  # type: ignore                  # Train-test split\n",
    "from sklearn.metrics import roc_auc_score # type: ignore                              # ROC AUC score\n",
    "from simanneal import Annealer  # type: ignore                                        # Simulated Annealing\n",
    "from inspyred import ec  # type: ignore                                               # Evolutionary Computation\n",
    "import warnings  # type: ignore                                                       # Disable warnings\n",
    "from Resources.Functions import *  # type: ignore                                     # Custom functions\n",
    "warnings.filterwarnings(\"ignore\")                                                     # Disable warnings\n",
    "outputColor = \"blue\"                                                                  # Color for the output"
   ],
   "metadata": {
    "collapsed": false,
    "ExecuteTime": {
     "end_time": "2024-05-29T10:02:56.466670Z",
     "start_time": "2024-05-29T10:02:56.454971Z"
    }
   },
   "id": "ac209bc3c9f756df",
   "outputs": [],
   "execution_count": 51
  },
  {
   "cell_type": "markdown",
   "source": [
    "## Theoretical questions"
   ],
   "metadata": {
    "collapsed": false
   },
   "id": "d66cd879508e8eb4"
  },
  {
   "cell_type": "markdown",
   "source": [
    "### Question 1:\n",
    "You roll `2 dice`.\n",
    "What is the probability that you roll a `5` and a `2`? (3 significant figures)"
   ],
   "metadata": {
    "collapsed": false
   },
   "id": "8dcce8d70aac0bac"
  },
  {
   "cell_type": "code",
   "source": [
    "# Technique used: Laplace\n",
    "# P((2 AND 5) OR (5 AND 2))\n",
    "\n",
    "probability = (1 / 6 * 1 / 6) + (1 / 6 * 1 / 6)\n",
    "print(colored(f\"The probability is as follows: {round(probability, 4)} or {round(probability * 100, 4)}%.\", outputColor))"
   ],
   "metadata": {
    "collapsed": false,
    "ExecuteTime": {
     "end_time": "2024-05-29T10:02:56.686484Z",
     "start_time": "2024-05-29T10:02:56.672356Z"
    }
   },
   "id": "f61d5f3c36d4ed95",
   "outputs": [
    {
     "name": "stdout",
     "output_type": "stream",
     "text": [
      "\u001B[34mThe probability is as follows: 0.0556 or 5.5556%.\u001B[0m\n"
     ]
    }
   ],
   "execution_count": 52
  },
  {
   "cell_type": "markdown",
   "source": [
    "### Question 2:\n",
    "We have `2 dice`.\n",
    "-   1st: `3 yellow` areas and `3 red` areas.\n",
    "-   2nd: `5 yellow` areas and `1 red` area.\n",
    "\n",
    "What is the probability of having both a `yellow` and a `red` square?"
   ],
   "metadata": {
    "collapsed": false
   },
   "id": "ac6e6a8db97c7653"
  },
  {
   "cell_type": "code",
   "source": [
    "# Technique used: Laplace\n",
    "# P((yellow AND red) OR (yellow AND red))\n",
    "\n",
    "probability = (3 / 6 * 1 / 6) + (5 / 6 * 3 / 6)\n",
    "print(colored(f\"The probability is as follows: {round(probability, 4)} or {round(probability * 100, 4)}%.\", outputColor))"
   ],
   "metadata": {
    "collapsed": false,
    "ExecuteTime": {
     "end_time": "2024-05-29T10:02:56.701657Z",
     "start_time": "2024-05-29T10:02:56.696314Z"
    }
   },
   "id": "ce4e897992fd055a",
   "outputs": [
    {
     "name": "stdout",
     "output_type": "stream",
     "text": [
      "\u001B[34mThe probability is as follows: 0.5 or 50.0%.\u001B[0m\n"
     ]
    }
   ],
   "execution_count": 53
  },
  {
   "cell_type": "markdown",
   "source": [
    "### Question 3:\n",
    "A box contains `4 yellow`, `2 brown`, `1 orange`, `1 green` and `2 purple` marbles. We always draw without replacing. (2 significant figures each)\n",
    "- If we draw `4 marbles`, what is the probability that all marbles are `yellow`?\n",
    "- If we draw `2 marbles`, what is the probability of getting a `brown` and a `green` marble?\n",
    "- When we draw `1 marble`, what is the chance of getting an `orange` or a `green` marble?"
   ],
   "metadata": {
    "collapsed": false
   },
   "id": "52f18b95661cc892"
  },
  {
   "cell_type": "code",
   "source": [
    "# Technique used: Multiplication Rule & Sum Rule & Addition Rule\n",
    "# P(Yellow AND Yellow AND Yellow AND Yellow)\n",
    "# P((Brown AND Green) OR (Green AND Brown))\n",
    "# P(Orange OR Green)\n",
    "\n",
    "probability = (4 / 10 * 3 / 9 * 2 / 8 * 1 / 7)\n",
    "print(colored(f\"1. The probability is as follows: {round(probability, 4)} or {round(probability * 100, 4)}%.\", outputColor))\n",
    "\n",
    "probability = (2 / 10 * 1 / 9) + (1 / 10 * 2 / 9)\n",
    "print(colored(f\"2. The probability is as follows: {round(probability, 4)} or {round(probability * 100, 4)}%.\", outputColor))\n",
    "\n",
    "\n",
    "probability = (1 / 10 + 1 / 10)\n",
    "print(colored(f\"3. The probability is as follows: {round(probability, 4)} or {round(probability * 100, 4)}%.\", outputColor))"
   ],
   "metadata": {
    "collapsed": false,
    "ExecuteTime": {
     "end_time": "2024-05-29T10:02:56.716891Z",
     "start_time": "2024-05-29T10:02:56.703652Z"
    }
   },
   "id": "42e449944e3abeaf",
   "outputs": [
    {
     "name": "stdout",
     "output_type": "stream",
     "text": [
      "\u001B[34m1. The probability is as follows: 0.0048 or 0.4762%.\u001B[0m\n",
      "\u001B[34m2. The probability is as follows: 0.0444 or 4.4444%.\u001B[0m\n",
      "\u001B[34m3. The probability is as follows: 0.2 or 20.0%.\u001B[0m\n"
     ]
    }
   ],
   "execution_count": 54
  },
  {
   "cell_type": "markdown",
   "source": [
    "### Question 4:\n",
    "For a group of `144 students`, `90` passed the \"OO Concepts\" exam and `60` for \"JavaFX\".\n",
    "Of the `90` who passed on \"OO concepts\", `30` also passed on \"JavaFX\".\n",
    "What is the probability that if we randomly select a student, they will have passed at least 1 of the 2 exams? (4 significant digits)"
   ],
   "metadata": {
    "collapsed": false
   },
   "id": "82996318cf7a7ab5"
  },
  {
   "cell_type": "code",
   "source": [
    "# Technique used: The Sum Rule\n",
    "# P(JavaFX OR OOConcepts)\n",
    "\n",
    "probability = (90 / 144 + 60 / 144 - 30 / 144)\n",
    "print(colored(f\"The probability is as follows: {round(probability, 4)} or {round(probability * 100, 4)}%.\", outputColor))"
   ],
   "metadata": {
    "collapsed": false,
    "ExecuteTime": {
     "end_time": "2024-05-29T10:02:56.793795Z",
     "start_time": "2024-05-29T10:02:56.781027Z"
    }
   },
   "id": "d45ccf151811f954",
   "outputs": [
    {
     "name": "stdout",
     "output_type": "stream",
     "text": [
      "\u001B[34mThe probability is as follows: 0.8333 or 83.3333%.\u001B[0m\n"
     ]
    }
   ],
   "execution_count": 55
  },
  {
   "cell_type": "markdown",
   "source": [
    "### Question 5:\n",
    "(C) In a group of `1000 students`, `400` regularly play computer games.\n",
    "(B) `200` regularly play board games.\n",
    "(C and B) There are `100` who regularly play computer games and board games.\n",
    "\n",
    "If you choose a random student, what are the chances that they regularly play games (computer or board)?"
   ],
   "metadata": {
    "collapsed": false
   },
   "id": "620d7b7bdcad6009"
  },
  {
   "cell_type": "code",
   "source": [
    "# Technique used: The Sum Rule\n",
    "# P(Board Games OR Computer Games)\n",
    "\n",
    "probability = (200 / 1000 + 400 / 1000 - 100 / 1000)\n",
    "print(colored(f\"The probability is as follows: {round(probability, 4)} or {round(probability*100, 4)}%.\", outputColor))"
   ],
   "metadata": {
    "collapsed": false,
    "ExecuteTime": {
     "end_time": "2024-05-29T10:02:56.825546Z",
     "start_time": "2024-05-29T10:02:56.815627Z"
    }
   },
   "id": "578c8e73692e80b7",
   "outputs": [
    {
     "name": "stdout",
     "output_type": "stream",
     "text": [
      "\u001B[34mThe probability is as follows: 0.5 or 50.0%.\u001B[0m\n"
     ]
    }
   ],
   "execution_count": 56
  },
  {
   "cell_type": "markdown",
   "source": [
    "### Question 6:\n",
    "`70%` of students pass a \"Data Science 1\" exam. Of these, `50%` are day students and `50%` blended students. Of the participants, `60%` are day students and `40%` blended students. `1` random student is selected from the group each time. (2 significant figures each)\n",
    "\n",
    "- What is the chance of a successful student?\n",
    "- What is the probability of a day student, given that he or she is a successful student?\n",
    "- What are the chances of a successful day student?\n",
    "- What is the chance of a successful student, given that he or she is a day student?\n",
    "- What is the chance of a student failing, given that he or she is a day student?\n",
    "- What are the chances of a day student failing?"
   ],
   "metadata": {
    "collapsed": false
   },
   "id": "6070de44bfdfd33"
  },
  {
   "cell_type": "code",
   "source": [
    "# Technique used: The Product Rule & Opposite / Complementary Event\n",
    "# P(Pass Students)\n",
    "# P(Day Students | Pass Students)\n",
    "# P(Day Students AND Pass Students)     = P(Day Students | Pass Students) * P(Pass Students)\n",
    "# P(Pass Students | Day Students)       = P(((Day Students | Pass Students) * P(Pass Students)) / P(Day Student))\n",
    "# P(Failed Students | Day Students)     = 1-P(Pass Students | Day Students)\n",
    "# P(Day Students AND Failed Students)   = P(((Day Students | Failed Students) * P(Failed Students)) / P(Day Student))\n",
    "\n",
    "probability = (70 / 100)\n",
    "print(colored(f\"1. The probability is as follows: {round(probability, 2)} or {round(probability * 100, 2)}%.\", outputColor))\n",
    "\n",
    "probability = 0.5\n",
    "print(colored(f\"2. The probability is as follows: {round(probability, 2)} or {round(probability * 100, 2)}%.\", outputColor))\n",
    "\n",
    "probability = 0.5 * (70 / 100)\n",
    "print(colored(f\"3. The probability is as follows: {round(probability, 2)} or {round(probability * 100, 2)}%.\", outputColor))\n",
    "\n",
    "probability = 0.5 * (70 / 100) / 0.6\n",
    "print(colored(f\"4. The probability is as follows: {round(probability, 2)} or {round(probability * 100, 2)}%.\", outputColor))\n",
    "\n",
    "probability = 1 - (0.5 * (70 / 100) / 0.6)\n",
    "print(colored(f\"5. The probability is as follows: {round(probability, 2)} or {round(probability * 100, 2)}%.\", outputColor))\n",
    "\n",
    "probability = 0.5 * (30 / 100) / 0.6\n",
    "print(colored(f\"6. The probability is as follows: {round(probability, 2)} or {round(probability * 100, 2)}%.\", outputColor))"
   ],
   "metadata": {
    "collapsed": false,
    "ExecuteTime": {
     "end_time": "2024-05-29T10:02:56.903287Z",
     "start_time": "2024-05-29T10:02:56.890165Z"
    }
   },
   "id": "d18f832b04f4acf8",
   "outputs": [
    {
     "name": "stdout",
     "output_type": "stream",
     "text": [
      "\u001B[34m1. The probability is as follows: 0.7 or 70.0%.\u001B[0m\n",
      "\u001B[34m2. The probability is as follows: 0.5 or 50.0%.\u001B[0m\n",
      "\u001B[34m3. The probability is as follows: 0.35 or 35.0%.\u001B[0m\n",
      "\u001B[34m4. The probability is as follows: 0.58 or 58.33%.\u001B[0m\n",
      "\u001B[34m5. The probability is as follows: 0.42 or 41.67%.\u001B[0m\n",
      "\u001B[34m6. The probability is as follows: 0.25 or 25.0%.\u001B[0m\n"
     ]
    }
   ],
   "execution_count": 57
  },
  {
   "cell_type": "markdown",
   "source": [
    "### Question 7:\n",
    "`3 men` go to a party and wear exactly the same jackets. They hang their coats on the coat rack and then get very drunk.\n",
    "At the end, each man takes a coat without looking at which one. What are the chances that everyone will take their own coat?\n",
    "\n",
    "OR\n",
    "\n",
    "`3 men`, Bart, Tom and Kevin, muscular and bronzed, go to a vibrant party. They hang their identical leather jackets, sleekly cut and with glittering zippers, on the coat rack. The vodka flows freely, the music thumps, and the men dance until they're dizzy. At the end of the evening, tipsy and with blurred vision, they feel in the darkness for their coats. What are the chances that everyone will bring their own coat?"
   ],
   "metadata": {
    "collapsed": false
   },
   "id": "cc61bae3d109394c"
  },
  {
   "cell_type": "code",
   "source": [
    "# Technique used: Laplace\n",
    "# P(Jacket1 AND Jacket2 AND Jacket3)\n",
    "\n",
    "probability = 1 / 3 * 1 / 2 * 1 / 1\n",
    "print(colored(f\"The probability is as follows: {round(probability, 2)} or {round(probability * 100, 2)}%.\", outputColor))"
   ],
   "metadata": {
    "collapsed": false,
    "ExecuteTime": {
     "end_time": "2024-05-29T10:02:56.950132Z",
     "start_time": "2024-05-29T10:02:56.932256Z"
    }
   },
   "id": "44bfac8b48ddafd0",
   "outputs": [
    {
     "name": "stdout",
     "output_type": "stream",
     "text": [
      "\u001B[34mThe probability is as follows: 0.17 or 16.67%.\u001B[0m\n"
     ]
    }
   ],
   "execution_count": 58
  },
  {
   "cell_type": "markdown",
   "source": [
    "### Question 8:\n",
    "If it rains heavily, there is a `50%` chance that my basement will flood. It rains heavily on average `35 days per year` and my basement floods `20 days per year` (even sometimes when it is not raining hard).\n",
    "If my basement is flooded, what are the chances that it is because it is raining heavily?"
   ],
   "metadata": {
    "collapsed": false
   },
   "id": "38274c4c7bf85d7a"
  },
  {
   "cell_type": "code",
   "source": [
    "# Technique used: The Product Rule\n",
    "# P(Rains Heavily | Basement Flooded)       = P(((Basement Flooded | Rains Heavily) * P(Rains Heavily)) / P(Basement Flooded))\n",
    "\n",
    "probability = 0.5 * (35 / 365) / (20 / 365)\n",
    "print(colored(f\"The probability is as follows: {round(probability, 2)} or {round(probability * 100, 2)}%.\", outputColor))"
   ],
   "metadata": {
    "collapsed": false,
    "ExecuteTime": {
     "end_time": "2024-05-29T10:03:11.990304Z",
     "start_time": "2024-05-29T10:03:11.976939Z"
    }
   },
   "id": "a1a696d807d4c60a",
   "outputs": [
    {
     "name": "stdout",
     "output_type": "stream",
     "text": [
      "\u001B[34mThe probability is as follows: 0.88 or 87.5%.\u001B[0m\n"
     ]
    }
   ],
   "execution_count": 83
  },
  {
   "cell_type": "markdown",
   "source": [
    "### Question 9:\n",
    "`90%` of PCs use Windows. If a PC crashes, you are `99.9%` sure it is running Windows. The chance that a PC will crash (regardless of the operating system) is `0.01`.\n",
    "\n",
    "What are the chances of a PC crashing if you know it is running Windows?"
   ],
   "metadata": {
    "collapsed": false
   },
   "id": "ee5c4b5a82eb1955"
  },
  {
   "cell_type": "code",
   "source": [
    "# Technique used: Bayes' law\n",
    "# P(Chances | Running Windows)      = P(((Running Windows | Chances) * P(Chances)) / P(Running Windows))\n",
    "\n",
    "# P(Running Windows) = 0.9\n",
    "# P(Running Windows | Chances) = 0.999\n",
    "# P(Chances) = 0.01\n",
    "\n",
    "probability = 0.999 * 0.01 / 0.9\n",
    "print(colored(f\"The probability is as follows: {round(probability, 2)} or {round(probability * 100, 2)}%.\", outputColor))"
   ],
   "metadata": {
    "collapsed": false,
    "ExecuteTime": {
     "end_time": "2024-05-29T10:03:18.772530Z",
     "start_time": "2024-05-29T10:03:18.768154Z"
    }
   },
   "id": "23beb1f865b4778",
   "outputs": [
    {
     "name": "stdout",
     "output_type": "stream",
     "text": [
      "\u001B[34mThe probability is as follows: 0.01 or 1.11%.\u001B[0m\n"
     ]
    }
   ],
   "execution_count": 84
  },
  {
   "cell_type": "markdown",
   "source": [
    "### Question 10:\n",
    "In 1988 there was discussion about introducing mandatory AIDS testing. A very reliable test has been developed that achieves the following results:\n",
    "- `P(positive | infected) = 0.999`\n",
    "- `P(negative | not infected) = 0.99`\n",
    "\n",
    "It is estimated that `0.60%` of people are carriers of the virus.\n",
    "What are the chances that someone is actually infected if you know the test is positive? Do you see why the mandatory test was not introduced?"
   ],
   "metadata": {
    "collapsed": false
   },
   "id": "d6410f46d520b3c4"
  },
  {
   "cell_type": "code",
   "source": [
    "# Technique used: Bayes' law\n",
    "# P(Positive | Not Infected)    = 1-P(Negative | Not Infected)\n",
    "# P(Positive)                   = P(Infected) AND P(Positive | Infected) OR P(Not Infected) AND P(Positive | Not Infected)\n",
    "# P(Infected | Positive)        = P(Positive | Infected) AND P(Infected) / P(Positive)\n",
    "\n",
    "# P(Positive | Infected) = 0.999\n",
    "# P(Negative | Not Infected) = 0.99\n",
    "# P(Infected) = 0.006\n",
    "\n",
    "probability = 1 - 0.99\n",
    "print(colored(f\"1. The probability is as follows: {round(probability, 3)} or {round(probability * 100, 3)}%.\", outputColor))\n",
    "\n",
    "probability = 0.006 * 0.999 + (1 - 0.006) * probability\n",
    "print(colored(f\"2. The probability is as follows: {round(probability, 6)} or {round(probability * 100, 6)}%.\", outputColor))\n",
    "\n",
    "probability = 0.999 * 0.006 / probability\n",
    "print(colored(f\"3. The probability is as follows: {round(probability, 2)} or {round(probability * 100, 2)}%.\", outputColor))"
   ],
   "metadata": {
    "collapsed": false,
    "ExecuteTime": {
     "end_time": "2024-05-29T10:03:36.265264Z",
     "start_time": "2024-05-29T10:03:36.248089Z"
    }
   },
   "id": "a568b487cdf6735b",
   "outputs": [
    {
     "name": "stdout",
     "output_type": "stream",
     "text": [
      "\u001B[34m1. The probability is as follows: 0.01 or 1.0%.\u001B[0m\n",
      "\u001B[34m2. The probability is as follows: 0.015934 or 1.5934%.\u001B[0m\n",
      "\u001B[34m3. The probability is as follows: 0.38 or 37.62%.\u001B[0m\n"
     ]
    }
   ],
   "execution_count": 85
  },
  {
   "cell_type": "markdown",
   "source": [
    "### Question 11:\n",
    "A program was written that determines when a text is interesting for a reader.\n",
    "The program has already been trained and the following values were noted:\n",
    "`1642 texts` were analyzed by hand. `46` of the texts were identified as interesting. A map was made of words and the number of times they occurred as well as the number of times they occurred in interesting texts.\n",
    "We now get the following text:\n",
    "    \n",
    "`\"This is a text to see if it will be judged as interesting.\"`\n",
    "\n",
    "The folder contains the following values for these words:\n",
    "\n",
    "    | Word        | Frequency  | Freq in interesting texts    |\n",
    "    |-------------|------------|------------------------------|\n",
    "    | dit         | 1368       | 40                           |\n",
    "    | is          | 1642       | 46                           |\n",
    "    | een         | 1642       | 46                           |\n",
    "    | tekst       | 159        | 1                            |\n",
    "    | om          | 1480       | 24                           |\n",
    "    | te          | 1574       | 38                           |\n",
    "    | kijken      | 947        | 11                           |\n",
    "    | of          | 1642       | 35                           |\n",
    "    | deze        | 1608       | 46                           |\n",
    "    | als         | 1576       | 39                           |\n",
    "    | interessant | 156        | 2                            |\n",
    "    | zal         | 1387       | 46                           |\n",
    "    | worden      | 1589       | 14                           |\n",
    "    | beoordeeld  | 176        | 1                            |\n",
    "What is the probability that this text is an interesting text, according to the algorithm seen? Is this chance big or small?"
   ],
   "metadata": {
    "collapsed": false
   },
   "id": "a4b3733834b225d3"
  },
  {
   "cell_type": "code",
   "source": [
    "# Technique used: Law of total probability\n",
    "# P(Words | Interesting) \n",
    "\n",
    "probability = (40 / 46) * (46 / 46) * (46 / 46) * (1 / 46) * (24 / 46) * (38 / 46) * (11 / 46) * (35 / 46) * (39 / 46) * (2 / 46) * (46 / 46) * (14 / 46) * (1 / 46)\n",
    "print(colored(f\"The probability is as follows: {probability} or {probability * 100}%.\", outputColor))\n",
    "print(colored(f\"So the probability is very small.\", outputColor))"
   ],
   "metadata": {
    "collapsed": false,
    "ExecuteTime": {
     "end_time": "2024-05-29T10:03:50.947160Z",
     "start_time": "2024-05-29T10:03:50.934304Z"
    }
   },
   "id": "ec12ec1e86bb56b3",
   "outputs": [
    {
     "name": "stdout",
     "output_type": "stream",
     "text": [
      "\u001B[34mThe probability is as follows: 3.6154293618298464e-07 or 3.6154293618298464e-05%.\u001B[0m\n",
      "\u001B[34mSo the probability is very small.\u001B[0m\n"
     ]
    }
   ],
   "execution_count": 86
  },
  {
   "cell_type": "markdown",
   "source": [
    "## Practical exercises (Python)"
   ],
   "metadata": {
    "collapsed": false
   },
   "id": "f8f39a382b50d97a"
  },
  {
   "cell_type": "code",
   "source": [
    "studentQuestions = pd.read_csv('../Data/Data1.csv', delimiter=';', decimal=',')\n",
    "display(studentQuestions)"
   ],
   "metadata": {
    "collapsed": false,
    "ExecuteTime": {
     "end_time": "2024-05-29T10:04:01.971332Z",
     "start_time": "2024-05-29T10:04:01.942740Z"
    }
   },
   "id": "a9158391b75f2df2",
   "outputs": [
    {
     "data": {
      "text/plain": [
       "   gapminder schrijfhand  schoenmaat  lengte    bloedgroep         resus  \\\n",
       "0       7/18      Rechts        43.0     184             O      positief   \n",
       "1       3/18      Rechts        42.0     163  Weet ik niet  Weet ik niet   \n",
       "2      12/18      Rechts        45.0     183            AB      positief   \n",
       "3       5/18      Rechts        44.0     175             A      positief   \n",
       "4       6/18      Rechts        43.0     173             B      positief   \n",
       "..       ...         ...         ...     ...           ...           ...   \n",
       "84      7/18      Rechts        45.0     185             O      negatief   \n",
       "85      9/18      Rechts        43.0     184             O  Weet ik niet   \n",
       "86      4/18       Links        45.5     190  Weet ik niet  Weet ik niet   \n",
       "87      8/18      Rechts        45.0     188             A      positief   \n",
       "88      7/18      Rechts        43.0     176             B      positief   \n",
       "\n",
       "    siblings                                     Samenzweringen  \\\n",
       "0          5  De tsunami van 2004 in de Indische Oceaan was ...   \n",
       "1          1   Prinses Diana kwam niet per ongeluk om het leven   \n",
       "2          2  Prinses Diana kwam niet per ongeluk om het lev...   \n",
       "3          2  De wereld wordt eigenlijk gecontroleerd door e...   \n",
       "4          3  De wereld wordt eigenlijk gecontroleerd door e...   \n",
       "..       ...                                                ...   \n",
       "84         0  De maanlanding is in scne gezet om de Russen ...   \n",
       "85         2  De aanslagen van 9/11 in NY werden niet door t...   \n",
       "86         0  Prinses Diana kwam niet per ongeluk om het lev...   \n",
       "87         1                                                NaN   \n",
       "88         2                                                NaN   \n",
       "\n",
       "                                            rijbewijs  \\\n",
       "0                                Categorie B: Wagens.   \n",
       "1   Categorie AM: Bromfietsen met een maximumsnelh...   \n",
       "2   Categorie AM: Bromfietsen met een maximumsnelh...   \n",
       "3   Categorie AM: Bromfietsen met een maximumsnelh...   \n",
       "4                                Categorie B: Wagens.   \n",
       "..                                                ...   \n",
       "84  Categorie AM: Bromfietsen met een maximumsnelh...   \n",
       "85  Categorie AM: Bromfietsen met een maximumsnelh...   \n",
       "86  Categorie AM: Bromfietsen met een maximumsnelh...   \n",
       "87                               Categorie B: Wagens.   \n",
       "88                               Categorie B: Wagens.   \n",
       "\n",
       "                               domicilie in Antwerpen  ... M1 - stelen  \\\n",
       "0   buiten de stad (een dorp, een gehucht, het pla...  ...           7   \n",
       "1                                         in een stad  ...          10   \n",
       "2                                         in een stad  ...           6   \n",
       "3                                         in een stad  ...           9   \n",
       "4                                         in een stad  ...          10   \n",
       "..                                                ...  ...         ...   \n",
       "84  buiten de stad (een dorp, een gehucht, het pla...  ...          10   \n",
       "85  buiten de stad (een dorp, een gehucht, het pla...  ...           8   \n",
       "86                                        in een stad  ...          10   \n",
       "87                                        in een stad  ...           8   \n",
       "88                                        in een stad  ...          10   \n",
       "\n",
       "   M2 - team M3 - beschermen M4 - voorbeeld M5 - embryo  M6 - vrijheid  \\\n",
       "0          2               8              6           5            4.0   \n",
       "1          5              10              6           7            3.0   \n",
       "2          3               7              7          10            6.0   \n",
       "3         10              10             10          10            0.0   \n",
       "4          6              10              7           7            2.0   \n",
       "..       ...             ...            ...         ...            ...   \n",
       "84         3               8              8           2            5.0   \n",
       "85         5               7              8           4            0.0   \n",
       "86         5              10              8           9            5.0   \n",
       "87         6               6              7           6            4.0   \n",
       "88         5               4              9           3            9.0   \n",
       "\n",
       "                                             mascotte            zwaarste vak  \\\n",
       "0   1=Bever,2=Wasbeer,3=Otter,4=Wolf,5=Poema,6=Pan...            Management 1   \n",
       "1   1=Bever,2=Wolf,3=Bizon,4=Otter,5=Panter,6=Poem...            Management 1   \n",
       "2   1=Bruine beer,2=Poema,3=Panter,4=Wolf,5=Vos,6=...            Management 1   \n",
       "3   1=Wasbeer,2=Wolf,3=Bruine beer,4=Das,5=Vos,6=B...            Management 1   \n",
       "4   1=Wolf,2=Vos,3=Bruine beer,4=Bizon,5=Panter,6=...            Management 1   \n",
       "..                                                ...                     ...   \n",
       "84  1=Panter,2=Poema,3=Wolf,4=Vos,5=Bever,6=Bruine...  Software engineering 1   \n",
       "85  1=Panter,2=Poema,3=Vos,4=Wolf,5=Bruine beer,6=...          Data science 1   \n",
       "86  1=Wolf,2=Vos,3=Bruine beer,4=Bever,5=Das,6=Was...       User interfaces 1   \n",
       "87  1=Otter,2=Wasbeer,3=Vos,4=Bruine beer,5=Bever,...             Netwerken 1   \n",
       "88  1=Poema,2=Panter,3=Wolf,4=Bruine beer,5=Bizon,...          Data science 1   \n",
       "\n",
       "                boeienste vak  studiepunt  \n",
       "0              Data science 1  16-20 uren  \n",
       "1          Computersystemen 1  <= 10 uren  \n",
       "2       Programmeren 1 - Java  16-20 uren  \n",
       "3              Data science 1  <= 10 uren  \n",
       "4              Data science 1  <= 10 uren  \n",
       "..                        ...         ...  \n",
       "84          User interfaces 1  26-30 uren  \n",
       "85  Programmeren 1 - Embedded  11-15 uren  \n",
       "86             Data science 1  16-20 uren  \n",
       "87             Data science 1  16-20 uren  \n",
       "88      Programmeren 1 - Java  26-30 uren  \n",
       "\n",
       "[89 rows x 33 columns]"
      ],
      "text/html": [
       "<div>\n",
       "<style scoped>\n",
       "    .dataframe tbody tr th:only-of-type {\n",
       "        vertical-align: middle;\n",
       "    }\n",
       "\n",
       "    .dataframe tbody tr th {\n",
       "        vertical-align: top;\n",
       "    }\n",
       "\n",
       "    .dataframe thead th {\n",
       "        text-align: right;\n",
       "    }\n",
       "</style>\n",
       "<table border=\"1\" class=\"dataframe\">\n",
       "  <thead>\n",
       "    <tr style=\"text-align: right;\">\n",
       "      <th></th>\n",
       "      <th>gapminder</th>\n",
       "      <th>schrijfhand</th>\n",
       "      <th>schoenmaat</th>\n",
       "      <th>lengte</th>\n",
       "      <th>bloedgroep</th>\n",
       "      <th>resus</th>\n",
       "      <th>siblings</th>\n",
       "      <th>Samenzweringen</th>\n",
       "      <th>rijbewijs</th>\n",
       "      <th>domicilie in Antwerpen</th>\n",
       "      <th>...</th>\n",
       "      <th>M1 - stelen</th>\n",
       "      <th>M2 - team</th>\n",
       "      <th>M3 - beschermen</th>\n",
       "      <th>M4 - voorbeeld</th>\n",
       "      <th>M5 - embryo</th>\n",
       "      <th>M6 - vrijheid</th>\n",
       "      <th>mascotte</th>\n",
       "      <th>zwaarste vak</th>\n",
       "      <th>boeienste vak</th>\n",
       "      <th>studiepunt</th>\n",
       "    </tr>\n",
       "  </thead>\n",
       "  <tbody>\n",
       "    <tr>\n",
       "      <th>0</th>\n",
       "      <td>7/18</td>\n",
       "      <td>Rechts</td>\n",
       "      <td>43.0</td>\n",
       "      <td>184</td>\n",
       "      <td>O</td>\n",
       "      <td>positief</td>\n",
       "      <td>5</td>\n",
       "      <td>De tsunami van 2004 in de Indische Oceaan was ...</td>\n",
       "      <td>Categorie B: Wagens.</td>\n",
       "      <td>buiten de stad (een dorp, een gehucht, het pla...</td>\n",
       "      <td>...</td>\n",
       "      <td>7</td>\n",
       "      <td>2</td>\n",
       "      <td>8</td>\n",
       "      <td>6</td>\n",
       "      <td>5</td>\n",
       "      <td>4.0</td>\n",
       "      <td>1=Bever,2=Wasbeer,3=Otter,4=Wolf,5=Poema,6=Pan...</td>\n",
       "      <td>Management 1</td>\n",
       "      <td>Data science 1</td>\n",
       "      <td>16-20 uren</td>\n",
       "    </tr>\n",
       "    <tr>\n",
       "      <th>1</th>\n",
       "      <td>3/18</td>\n",
       "      <td>Rechts</td>\n",
       "      <td>42.0</td>\n",
       "      <td>163</td>\n",
       "      <td>Weet ik niet</td>\n",
       "      <td>Weet ik niet</td>\n",
       "      <td>1</td>\n",
       "      <td>Prinses Diana kwam niet per ongeluk om het leven</td>\n",
       "      <td>Categorie AM: Bromfietsen met een maximumsnelh...</td>\n",
       "      <td>in een stad</td>\n",
       "      <td>...</td>\n",
       "      <td>10</td>\n",
       "      <td>5</td>\n",
       "      <td>10</td>\n",
       "      <td>6</td>\n",
       "      <td>7</td>\n",
       "      <td>3.0</td>\n",
       "      <td>1=Bever,2=Wolf,3=Bizon,4=Otter,5=Panter,6=Poem...</td>\n",
       "      <td>Management 1</td>\n",
       "      <td>Computersystemen 1</td>\n",
       "      <td>&lt;= 10 uren</td>\n",
       "    </tr>\n",
       "    <tr>\n",
       "      <th>2</th>\n",
       "      <td>12/18</td>\n",
       "      <td>Rechts</td>\n",
       "      <td>45.0</td>\n",
       "      <td>183</td>\n",
       "      <td>AB</td>\n",
       "      <td>positief</td>\n",
       "      <td>2</td>\n",
       "      <td>Prinses Diana kwam niet per ongeluk om het lev...</td>\n",
       "      <td>Categorie AM: Bromfietsen met een maximumsnelh...</td>\n",
       "      <td>in een stad</td>\n",
       "      <td>...</td>\n",
       "      <td>6</td>\n",
       "      <td>3</td>\n",
       "      <td>7</td>\n",
       "      <td>7</td>\n",
       "      <td>10</td>\n",
       "      <td>6.0</td>\n",
       "      <td>1=Bruine beer,2=Poema,3=Panter,4=Wolf,5=Vos,6=...</td>\n",
       "      <td>Management 1</td>\n",
       "      <td>Programmeren 1 - Java</td>\n",
       "      <td>16-20 uren</td>\n",
       "    </tr>\n",
       "    <tr>\n",
       "      <th>3</th>\n",
       "      <td>5/18</td>\n",
       "      <td>Rechts</td>\n",
       "      <td>44.0</td>\n",
       "      <td>175</td>\n",
       "      <td>A</td>\n",
       "      <td>positief</td>\n",
       "      <td>2</td>\n",
       "      <td>De wereld wordt eigenlijk gecontroleerd door e...</td>\n",
       "      <td>Categorie AM: Bromfietsen met een maximumsnelh...</td>\n",
       "      <td>in een stad</td>\n",
       "      <td>...</td>\n",
       "      <td>9</td>\n",
       "      <td>10</td>\n",
       "      <td>10</td>\n",
       "      <td>10</td>\n",
       "      <td>10</td>\n",
       "      <td>0.0</td>\n",
       "      <td>1=Wasbeer,2=Wolf,3=Bruine beer,4=Das,5=Vos,6=B...</td>\n",
       "      <td>Management 1</td>\n",
       "      <td>Data science 1</td>\n",
       "      <td>&lt;= 10 uren</td>\n",
       "    </tr>\n",
       "    <tr>\n",
       "      <th>4</th>\n",
       "      <td>6/18</td>\n",
       "      <td>Rechts</td>\n",
       "      <td>43.0</td>\n",
       "      <td>173</td>\n",
       "      <td>B</td>\n",
       "      <td>positief</td>\n",
       "      <td>3</td>\n",
       "      <td>De wereld wordt eigenlijk gecontroleerd door e...</td>\n",
       "      <td>Categorie B: Wagens.</td>\n",
       "      <td>in een stad</td>\n",
       "      <td>...</td>\n",
       "      <td>10</td>\n",
       "      <td>6</td>\n",
       "      <td>10</td>\n",
       "      <td>7</td>\n",
       "      <td>7</td>\n",
       "      <td>2.0</td>\n",
       "      <td>1=Wolf,2=Vos,3=Bruine beer,4=Bizon,5=Panter,6=...</td>\n",
       "      <td>Management 1</td>\n",
       "      <td>Data science 1</td>\n",
       "      <td>&lt;= 10 uren</td>\n",
       "    </tr>\n",
       "    <tr>\n",
       "      <th>...</th>\n",
       "      <td>...</td>\n",
       "      <td>...</td>\n",
       "      <td>...</td>\n",
       "      <td>...</td>\n",
       "      <td>...</td>\n",
       "      <td>...</td>\n",
       "      <td>...</td>\n",
       "      <td>...</td>\n",
       "      <td>...</td>\n",
       "      <td>...</td>\n",
       "      <td>...</td>\n",
       "      <td>...</td>\n",
       "      <td>...</td>\n",
       "      <td>...</td>\n",
       "      <td>...</td>\n",
       "      <td>...</td>\n",
       "      <td>...</td>\n",
       "      <td>...</td>\n",
       "      <td>...</td>\n",
       "      <td>...</td>\n",
       "      <td>...</td>\n",
       "    </tr>\n",
       "    <tr>\n",
       "      <th>84</th>\n",
       "      <td>7/18</td>\n",
       "      <td>Rechts</td>\n",
       "      <td>45.0</td>\n",
       "      <td>185</td>\n",
       "      <td>O</td>\n",
       "      <td>negatief</td>\n",
       "      <td>0</td>\n",
       "      <td>De maanlanding is in scne gezet om de Russen ...</td>\n",
       "      <td>Categorie AM: Bromfietsen met een maximumsnelh...</td>\n",
       "      <td>buiten de stad (een dorp, een gehucht, het pla...</td>\n",
       "      <td>...</td>\n",
       "      <td>10</td>\n",
       "      <td>3</td>\n",
       "      <td>8</td>\n",
       "      <td>8</td>\n",
       "      <td>2</td>\n",
       "      <td>5.0</td>\n",
       "      <td>1=Panter,2=Poema,3=Wolf,4=Vos,5=Bever,6=Bruine...</td>\n",
       "      <td>Software engineering 1</td>\n",
       "      <td>User interfaces 1</td>\n",
       "      <td>26-30 uren</td>\n",
       "    </tr>\n",
       "    <tr>\n",
       "      <th>85</th>\n",
       "      <td>9/18</td>\n",
       "      <td>Rechts</td>\n",
       "      <td>43.0</td>\n",
       "      <td>184</td>\n",
       "      <td>O</td>\n",
       "      <td>Weet ik niet</td>\n",
       "      <td>2</td>\n",
       "      <td>De aanslagen van 9/11 in NY werden niet door t...</td>\n",
       "      <td>Categorie AM: Bromfietsen met een maximumsnelh...</td>\n",
       "      <td>buiten de stad (een dorp, een gehucht, het pla...</td>\n",
       "      <td>...</td>\n",
       "      <td>8</td>\n",
       "      <td>5</td>\n",
       "      <td>7</td>\n",
       "      <td>8</td>\n",
       "      <td>4</td>\n",
       "      <td>0.0</td>\n",
       "      <td>1=Panter,2=Poema,3=Vos,4=Wolf,5=Bruine beer,6=...</td>\n",
       "      <td>Data science 1</td>\n",
       "      <td>Programmeren 1 - Embedded</td>\n",
       "      <td>11-15 uren</td>\n",
       "    </tr>\n",
       "    <tr>\n",
       "      <th>86</th>\n",
       "      <td>4/18</td>\n",
       "      <td>Links</td>\n",
       "      <td>45.5</td>\n",
       "      <td>190</td>\n",
       "      <td>Weet ik niet</td>\n",
       "      <td>Weet ik niet</td>\n",
       "      <td>0</td>\n",
       "      <td>Prinses Diana kwam niet per ongeluk om het lev...</td>\n",
       "      <td>Categorie AM: Bromfietsen met een maximumsnelh...</td>\n",
       "      <td>in een stad</td>\n",
       "      <td>...</td>\n",
       "      <td>10</td>\n",
       "      <td>5</td>\n",
       "      <td>10</td>\n",
       "      <td>8</td>\n",
       "      <td>9</td>\n",
       "      <td>5.0</td>\n",
       "      <td>1=Wolf,2=Vos,3=Bruine beer,4=Bever,5=Das,6=Was...</td>\n",
       "      <td>User interfaces 1</td>\n",
       "      <td>Data science 1</td>\n",
       "      <td>16-20 uren</td>\n",
       "    </tr>\n",
       "    <tr>\n",
       "      <th>87</th>\n",
       "      <td>8/18</td>\n",
       "      <td>Rechts</td>\n",
       "      <td>45.0</td>\n",
       "      <td>188</td>\n",
       "      <td>A</td>\n",
       "      <td>positief</td>\n",
       "      <td>1</td>\n",
       "      <td>NaN</td>\n",
       "      <td>Categorie B: Wagens.</td>\n",
       "      <td>in een stad</td>\n",
       "      <td>...</td>\n",
       "      <td>8</td>\n",
       "      <td>6</td>\n",
       "      <td>6</td>\n",
       "      <td>7</td>\n",
       "      <td>6</td>\n",
       "      <td>4.0</td>\n",
       "      <td>1=Otter,2=Wasbeer,3=Vos,4=Bruine beer,5=Bever,...</td>\n",
       "      <td>Netwerken 1</td>\n",
       "      <td>Data science 1</td>\n",
       "      <td>16-20 uren</td>\n",
       "    </tr>\n",
       "    <tr>\n",
       "      <th>88</th>\n",
       "      <td>7/18</td>\n",
       "      <td>Rechts</td>\n",
       "      <td>43.0</td>\n",
       "      <td>176</td>\n",
       "      <td>B</td>\n",
       "      <td>positief</td>\n",
       "      <td>2</td>\n",
       "      <td>NaN</td>\n",
       "      <td>Categorie B: Wagens.</td>\n",
       "      <td>in een stad</td>\n",
       "      <td>...</td>\n",
       "      <td>10</td>\n",
       "      <td>5</td>\n",
       "      <td>4</td>\n",
       "      <td>9</td>\n",
       "      <td>3</td>\n",
       "      <td>9.0</td>\n",
       "      <td>1=Poema,2=Panter,3=Wolf,4=Bruine beer,5=Bizon,...</td>\n",
       "      <td>Data science 1</td>\n",
       "      <td>Programmeren 1 - Java</td>\n",
       "      <td>26-30 uren</td>\n",
       "    </tr>\n",
       "  </tbody>\n",
       "</table>\n",
       "<p>89 rows × 33 columns</p>\n",
       "</div>"
      ]
     },
     "metadata": {},
     "output_type": "display_data"
    }
   ],
   "execution_count": 87
  },
  {
   "cell_type": "markdown",
   "source": [
    "### Exercise 1:\n",
    "\n",
    "https://pandas.pydata.org/docs/getting_started/intro_tutorials/03_subset_data.html"
   ],
   "metadata": {
    "collapsed": false
   },
   "id": "439b67b46397307e"
  },
  {
   "cell_type": "code",
   "source": "print(colored(studentQuestions[\"uren wiskunde\"].unique(), outputColor))",
   "metadata": {
    "collapsed": false,
    "ExecuteTime": {
     "end_time": "2024-05-29T10:04:30.860393Z",
     "start_time": "2024-05-29T10:04:30.844269Z"
    }
   },
   "id": "226a017cd1abc68e",
   "outputs": [
    {
     "name": "stdout",
     "output_type": "stream",
     "text": [
      "\u001B[34m['3' '4' '7' '6' '5' '2 of minder' '8']\u001B[0m\n"
     ]
    }
   ],
   "execution_count": 88
  },
  {
   "cell_type": "code",
   "source": [
    "# Technique used:\n",
    "# Laplace\n",
    "\n",
    "numberOfStudents = studentQuestions.shape[0] # OR len(numberOfStudents)\n",
    "print(colored(numberOfStudents, outputColor))"
   ],
   "metadata": {
    "collapsed": false,
    "ExecuteTime": {
     "end_time": "2024-05-29T10:04:32.247871Z",
     "start_time": "2024-05-29T10:04:32.233644Z"
    }
   },
   "id": "ee4e007cac192f56",
   "outputs": [
    {
     "name": "stdout",
     "output_type": "stream",
     "text": [
      "\u001B[34m89\u001B[0m\n"
     ]
    }
   ],
   "execution_count": 89
  },
  {
   "cell_type": "markdown",
   "source": [
    "Chance 2 hours or less of math"
   ],
   "metadata": {
    "collapsed": false
   },
   "id": "85d35c6167156688"
  },
  {
   "cell_type": "code",
   "source": [
    "# Technique used:\n",
    "# Laplace\n",
    "\n",
    "# (\"2 or less\" in table \"hours of mathematics\" equals total) / total studying\n",
    "data = len(studentQuestions[studentQuestions[\"uren wiskunde\"] == \"2 of minder\" ]) / len(studentQuestions)\n",
    "print(colored(data, outputColor))"
   ],
   "metadata": {
    "collapsed": false,
    "ExecuteTime": {
     "end_time": "2024-05-29T10:02:57.405611Z",
     "start_time": "2024-05-29T10:02:57.392132Z"
    }
   },
   "id": "e441fe6eec9dabf5",
   "outputs": [
    {
     "name": "stdout",
     "output_type": "stream",
     "text": [
      "\u001B[34m0.0898876404494382\u001B[0m\n"
     ]
    }
   ],
   "execution_count": 67
  },
  {
   "cell_type": "markdown",
   "source": [
    "Chance 3 hours or more of math"
   ],
   "metadata": {
    "collapsed": false
   },
   "id": "f9fd7eaa720a40e1"
  },
  {
   "cell_type": "code",
   "source": [
    "# Technique used:\n",
    "# Opposite / Complementary event\n",
    "\n",
    "# (\"2 or less\" in table \"hours of mathematics\" equals total / total studying) - 1\n",
    "data = 1 - len(studentQuestions[studentQuestions[\"uren wiskunde\"] == \"2 of minder\" ]) / len(studentQuestions)\n",
    "print(colored(data, outputColor))"
   ],
   "metadata": {
    "collapsed": false,
    "ExecuteTime": {
     "end_time": "2024-05-29T10:02:57.452336Z",
     "start_time": "2024-05-29T10:02:57.442795Z"
    }
   },
   "id": "53d9abe497c85e2f",
   "outputs": [
    {
     "name": "stdout",
     "output_type": "stream",
     "text": [
      "\u001B[34m0.9101123595505618\u001B[0m\n"
     ]
    }
   ],
   "execution_count": 68
  },
  {
   "cell_type": "markdown",
   "source": [
    "### Exercise 2:\n",
    "\n",
    "Probability writing hand right or eating more than 3 pieces of fruit"
   ],
   "metadata": {
    "collapsed": false
   },
   "id": "e8f1254695876091"
  },
  {
   "cell_type": "code",
   "source": [
    "# Count the number of right-handed and left-handed individuals\n",
    "right_handed_count = studentQuestions[studentQuestions['schrijfhand'] == 'Rechts'].shape[0]\n",
    "left_handed_count = studentQuestions[studentQuestions['schrijfhand'] == 'Links'].shape[0]\n",
    "\n",
    "# Calculate the probability of being right-handed\n",
    "probability_right_handed = right_handed_count / studentQuestions.shape[0]\n",
    "\n",
    "# Count the number of individuals eating more than 3 pieces of fruit\n",
    "more_than_3_fruit_count = studentQuestions[studentQuestions['stukken fruit'] > 3].shape[0]\n",
    "\n",
    "# Calculate the probability of eating more than 3 pieces of fruit\n",
    "probability_more_than_3_fruit = more_than_3_fruit_count / studentQuestions.shape[0]\n",
    "\n",
    "print(colored(f\"Probability of being right-handed: {probability_right_handed:.2%}\", outputColor))\n",
    "print(colored(f\"Probability of eating more than 3 pieces of fruit: {probability_more_than_3_fruit:.2%}\", outputColor))"
   ],
   "metadata": {
    "collapsed": false,
    "ExecuteTime": {
     "end_time": "2024-05-29T10:02:57.546215Z",
     "start_time": "2024-05-29T10:02:57.527275Z"
    }
   },
   "id": "c0d4588203e46fa1",
   "outputs": [
    {
     "name": "stdout",
     "output_type": "stream",
     "text": [
      "\u001B[34mProbability of being right-handed: 84.27%\u001B[0m\n",
      "\u001B[34mProbability of eating more than 3 pieces of fruit: 2.25%\u001B[0m\n"
     ]
    }
   ],
   "execution_count": 69
  },
  {
   "cell_type": "markdown",
   "source": [
    "### Exercise 3:\n",
    "\n",
    "Chances of a right-handed student eating less than 2 pieces of fruit?\n",
    "P(<2 | R) = P(<2 en R) / P(R)"
   ],
   "metadata": {
    "collapsed": false
   },
   "id": "4763d5f4fbadd085"
  },
  {
   "cell_type": "code",
   "source": [
    "# Count the number of right-handed individuals eating less than 2 pieces of fruit\n",
    "right_handed_less_than_2_fruit_count = studentQuestions[(studentQuestions['schrijfhand'] == 'Rechts') & (studentQuestions['stukken fruit'] < 2)].shape[0]\n",
    "\n",
    "# Count the number of right-handed individuals\n",
    "right_handed_count = studentQuestions[studentQuestions['schrijfhand'] == 'Rechts'].shape[0]\n",
    "\n",
    "# Calculate the probability of being right-handed\n",
    "kans_rechts = right_handed_count / studentQuestions.shape[0]\n",
    "\n",
    "# Calculate the probability of being right-handed and eating less than 2 pieces of fruit\n",
    "kans_rechts_minder2 = right_handed_less_than_2_fruit_count / right_handed_count\n",
    "\n",
    "# Calculate the conditional probability P(<2 | R)\n",
    "conditional_probability = kans_rechts_minder2 / kans_rechts"
   ],
   "metadata": {
    "collapsed": false,
    "ExecuteTime": {
     "end_time": "2024-05-29T10:05:11.730683Z",
     "start_time": "2024-05-29T10:05:11.713251Z"
    }
   },
   "id": "c6c2d3e46cb45b1a",
   "outputs": [],
   "execution_count": 90
  },
  {
   "cell_type": "code",
   "source": [
    "print(colored(f\"Probability of being right-handed: {kans_rechts:.2%}\", outputColor))\n",
    "print(colored(f\"Probability of a right-handed student eating less than 2 pieces of fruit: {kans_rechts_minder2:.2%}\", outputColor))\n",
    "print(colored(f\"Chances of a right-handed student eating less than 2 pieces of fruit: {conditional_probability:.2%}\", outputColor))"
   ],
   "metadata": {
    "collapsed": false,
    "ExecuteTime": {
     "end_time": "2024-05-29T10:05:13.220389Z",
     "start_time": "2024-05-29T10:05:13.207095Z"
    }
   },
   "id": "f85f2ed97019f630",
   "outputs": [
    {
     "name": "stdout",
     "output_type": "stream",
     "text": [
      "\u001B[34mProbability of being right-handed: 84.27%\u001B[0m\n",
      "\u001B[34mProbability of a right-handed student eating less than 2 pieces of fruit: 76.00%\u001B[0m\n",
      "\u001B[34mChances of a right-handed student eating less than 2 pieces of fruit: 90.19%\u001B[0m\n"
     ]
    }
   ],
   "execution_count": 91
  },
  {
   "cell_type": "markdown",
   "source": [
    "### Exercise 4:\n",
    "\n",
    "\"believe in one or more conspiracies\" and \"write hand on the right\" independently?\n",
    "P(S) * P(R) =? P(S en R)"
   ],
   "metadata": {
    "collapsed": false
   },
   "id": "f56a43dca7238bc9"
  },
  {
   "cell_type": "code",
   "source": [
    "# Count the number of individuals who believe in one or more conspiracies\n",
    "conspiracy_believers_count = studentQuestions[studentQuestions['Samenzweringen'].str.lower() == 'ja'].shape[0]\n",
    "\n",
    "# Calculate the probability of believing in one or more conspiracies\n",
    "kans_sz = conspiracy_believers_count / studentQuestions.shape[0]\n",
    "\n",
    "# Count the number of right-handed individuals\n",
    "right_handed_count = studentQuestions[studentQuestions['schrijfhand'] == 'Rechts'].shape[0]\n",
    "\n",
    "# Calculate the probability of being right-handed\n",
    "kans_rechts = right_handed_count / studentQuestions.shape[0]\n",
    "\n",
    "# Count the number of individuals who are both right-handed and believe in conspiracies\n",
    "right_handed_conspiracy_believers_count = studentQuestions[(studentQuestions['schrijfhand'] == 'Rechts') & (studentQuestions['Samenzweringen'].str.lower() == 'ja')].shape[0]\n",
    "\n",
    "# Calculate the joint probability P(S en R)\n",
    "kans_rechts_sz = right_handed_conspiracy_believers_count / studentQuestions.shape[0]\n",
    "\n",
    "# Check if P(S en R) equals P(S) * P(R)\n",
    "kans_rechts_sz_equals_product = kans_rechts * kans_sz"
   ],
   "metadata": {
    "collapsed": false,
    "ExecuteTime": {
     "end_time": "2024-05-29T10:05:44.046226Z",
     "start_time": "2024-05-29T10:05:44.028041Z"
    }
   },
   "id": "f454f7bb4cf96262",
   "outputs": [],
   "execution_count": 93
  },
  {
   "cell_type": "code",
   "source": [
    "print(colored(f\"Probability of believing in one or more conspiracies: {kans_sz:.2%}\", outputColor))\n",
    "print(colored(f\"Probability of being right-handed: {kans_rechts:.2%}\", outputColor))\n",
    "print(colored(f\"Joint probability of being right-handed and believing in conspiracies: {kans_rechts_sz:.2%}\", outputColor))\n",
    "print(colored(f\"Do P(S en R) and P(S) * P(R) match? {'Yes' if kans_rechts_sz_equals_product == kans_rechts_sz else 'No'}\", outputColor))"
   ],
   "metadata": {
    "collapsed": false,
    "ExecuteTime": {
     "end_time": "2024-05-29T10:05:45.107284Z",
     "start_time": "2024-05-29T10:05:45.095928Z"
    }
   },
   "id": "d62fc1a19e9e028f",
   "outputs": [
    {
     "name": "stdout",
     "output_type": "stream",
     "text": [
      "\u001B[34mProbability of believing in one or more conspiracies: 0.00%\u001B[0m\n",
      "\u001B[34mProbability of being right-handed: 84.27%\u001B[0m\n",
      "\u001B[34mJoint probability of being right-handed and believing in conspiracies: 0.00%\u001B[0m\n",
      "\u001B[34mDo P(S en R) and P(S) * P(R) match? Yes\u001B[0m\n"
     ]
    }
   ],
   "execution_count": 94
  }
 ],
 "metadata": {
  "kernelspec": {
   "display_name": "Python 3",
   "language": "python",
   "name": "python3"
  },
  "language_info": {
   "codemirror_mode": {
    "name": "ipython",
    "version": 2
   },
   "file_extension": ".py",
   "mimetype": "text/x-python",
   "name": "python",
   "nbconvert_exporter": "python",
   "pygments_lexer": "ipython2",
   "version": "2.7.6"
  }
 },
 "nbformat": 4,
 "nbformat_minor": 5
}

{
 "cells": [
  {
   "cell_type": "markdown",
   "source": [
    "# P4 Example Exam"
   ],
   "metadata": {
    "collapsed": false
   },
   "id": "fed765dbf2e6f800"
  },
  {
   "cell_type": "code",
   "id": "initial_id",
   "metadata": {
    "collapsed": true,
    "ExecuteTime": {
     "end_time": "2024-05-31T07:49:59.854899Z",
     "start_time": "2024-05-31T07:49:59.829245Z"
    }
   },
   "source": [
    "from termcolor import colored # type: ignore                                          # Colored text\n",
    "from random import Random  # type: ignore                                             # Random number generator\n",
    "import math  # type: ignore                                                           # Mathematical functions\n",
    "import pandas as pd  # type: ignore                                                   # Data manipulation\n",
    "import numpy as np  # type: ignore                                                    # Scientific computing\n",
    "import matplotlib.pyplot as plt  # type: ignore                                       # Data visualization\n",
    "from scipy.stats import binom as binomial  # type: ignore                             # Binomial distribution\n",
    "from scipy.stats import norm as normal  # type: ignore                                # Normal distribution\n",
    "from scipy.stats import poisson as poisson  # type: ignore                            # Poisson distribution\n",
    "from scipy.stats import t as student  # type: ignore                                  # Student distribution\n",
    "from scipy.stats import chi2  # type: ignore                                          # Chi-squared distribution\n",
    "from scipy.stats import ttest_1samp  # type: ignore                                   # One-sample t-test\n",
    "from scipy.stats import chisquare  # type: ignore                                     # Chi-squared test\n",
    "from scipy.special import comb  # type: ignore                                        # Combinations\n",
    "from mlxtend.frequent_patterns import apriori  # type: ignore                         # Apriori algorithm\n",
    "from mlxtend.frequent_patterns import fpgrowth  # type: ignore                        # FP-growth algorithm\n",
    "from mlxtend.frequent_patterns import association_rules  # type: ignore               # Association rules\n",
    "from mlxtend.preprocessing import TransactionEncoder  # type: ignore                  # Transaction encoder\n",
    "from sklearn.discriminant_analysis import LinearDiscriminantAnalysis  # type: ignore  # Discriminant Analysis\n",
    "from tensorflow import keras  # type: ignore                                          # Deep Learning library\n",
    "from tensorflow.keras import Model  # type: ignore                                    # Model class\n",
    "from tensorflow.keras.layers import Input, Dense, BatchNormalization  # type: ignore  # Layers\n",
    "from tensorflow.keras.utils import to_categorical  # type: ignore                     # One-hot encoding\n",
    "from tensorflow.keras.optimizers import Adam  # type: ignore                          # Optimizer\n",
    "from livelossplot import PlotLossesKeras  # type: ignore                              # Live plot\n",
    "from keras.src.optimizers import RMSprop  # type: ignore                              # Optimizer\n",
    "from sklearn.model_selection import train_test_split  # type: ignore                  # Train-test split\n",
    "from sklearn.metrics import roc_auc_score # type: ignore                              # ROC AUC score\n",
    "from simanneal import Annealer  # type: ignore                                        # Simulated Annealing\n",
    "from inspyred import ec  # type: ignore                                               # Evolutionary Computation\n",
    "import warnings  # type: ignore                                                       # Disable warnings\n",
    "from Resources.Functions import *  # type: ignore                                     # Custom functions\n",
    "warnings.filterwarnings(\"ignore\")                                                     # Disable warnings\n",
    "outputColor = \"blue\"                                                                  # Color for the output"
   ],
   "outputs": [],
   "execution_count": 2
  },
  {
   "cell_type": "code",
   "source": [
    "def accuracyf(matrix):\n",
    "    return np.diag(matrix).sum() / matrix.sum().sum()\n",
    "\n",
    "def precisionf(matrix):\n",
    "    results = []\n",
    "    n = matrix.shape[1]\n",
    "    for i in range(0, n):\n",
    "        TP = matrix.values[i][i]\n",
    "        results = results + [TP / matrix.values[:, i].sum()]\n",
    "    return results\n",
    "\n",
    "def recallf(matrix):\n",
    "    results = []\n",
    "    n = matrix.shape[0]\n",
    "    for i in range(0, n):\n",
    "        TP = matrix.values[i][i]\n",
    "        results = results + [TP / matrix.values[i, :].sum()]\n",
    "    return results\n",
    "\n",
    "def f_measuref(matrix, beta):\n",
    "    precisionarray = precisionf(matrix)\n",
    "    recallarray = recallf(matrix)\n",
    "    fmeasure = []\n",
    "    n = len(precisionarray)\n",
    "    for i in range(0, n):\n",
    "        p = precisionarray[i]\n",
    "        r = recallarray[i]\n",
    "        fmeasure = fmeasure + [((beta * beta + 1) * p * r) / (beta * beta * p + r)]\n",
    "    return fmeasure\n",
    "\n",
    "def evaluate_classifier(matrix, beta=1, threshold=0.9):\n",
    "    warnings.filterwarnings(\"ignore\")  # Ignoring future dependency warning.\n",
    "\n",
    "    TP = np.diag(matrix).sum()\n",
    "    TN = np.sum(np.diag(matrix)) - TP\n",
    "\n",
    "    accuracy = (TP + TN) / matrix.sum().sum()\n",
    "\n",
    "    n = matrix.shape[1]\n",
    "    precision = [np.diag(matrix)[i] / np.sum(matrix.iloc[i, :]) if np.sum(\n",
    "        matrix.iloc[i, :]) > 0 else 0 for i in range(0, n)]\n",
    "\n",
    "    n = matrix.shape[0]\n",
    "    recall = [np.diag(matrix)[i] / np.sum(matrix.iloc[:, i]) if np.sum(\n",
    "        matrix.iloc[:, i]) > 0 else 0 for i in range(0, n)]\n",
    "\n",
    "    f1_score = [((beta ** 2 + 1) * p * r) / ((beta ** 2 * p) + r) if (p + r) > 0 else 0 for p, r in\n",
    "                zip(precision, recall)]\n",
    "\n",
    "    if accuracy >= threshold and all(prec >= threshold for prec in precision) and all(\n",
    "            rec >= threshold for rec in recall) and all(f1 >= threshold for f1 in f1_score):\n",
    "        print(colored(f\"This is a good classifier with a threshold of {threshold * 100}%\", outputColor))\n",
    "    else:\n",
    "        print(colored(f\"This is a bad classifier with a threshold of {threshold * 100}%\", outputColor))\n",
    "\n",
    "    warnings.filterwarnings(\"default\")  # Ignoring future dependency warning.\n",
    "    \n",
    "def plot_rocf(y_true, y_score, title='ROC Curve', **kwargs):\n",
    "    from sklearn.metrics import roc_curve, roc_auc_score\n",
    "\n",
    "    if 'pos_label' in kwargs:\n",
    "        fpr, tpr, thresholds = roc_curve(y_true=y_true, y_score=y_score, pos_label=kwargs.get('pos_label'))\n",
    "        auc = roc_auc_score(y_true, y_score)\n",
    "    else:\n",
    "        fpr, tpr, thresholds = roc_curve(y_true=y_true, y_score=y_score)\n",
    "        auc = roc_auc_score(y_true, y_score)\n",
    "\n",
    "    optimal_idx = np.argmax(tpr - fpr)\n",
    "    optimal_threshold = thresholds[optimal_idx]\n",
    "\n",
    "    figsize = kwargs.get('figsize', (7, 7))\n",
    "    fig, ax = plt.subplots(1, 1, figsize=figsize)\n",
    "    ax.grid(linestyle='--')\n",
    "\n",
    "    ax.plot(fpr, tpr, color='darkorange', label='AUC: {}'.format(auc))\n",
    "    ax.set_title(title)\n",
    "    ax.set_xlabel('False Positive Rate (FPR)')\n",
    "    ax.set_ylabel('True Positive Rate (TPR)')\n",
    "    ax.fill_between(fpr, tpr, alpha=0.3, color='darkorange', edgecolor='black')\n",
    "\n",
    "    ax.plot([0, 1], [0, 1], color='navy', lw=2, linestyle='--')\n",
    "\n",
    "    ax.scatter(fpr[optimal_idx], tpr[optimal_idx],\n",
    "               label='optimal cutoff {:.2f} on ({:.2f},{:.2f})'.format(optimal_threshold, fpr[optimal_idx],\n",
    "                                                                       tpr[optimal_idx]), color='red')\n",
    "    ax.plot([fpr[optimal_idx], fpr[optimal_idx]], [0, tpr[optimal_idx]], linestyle='--', color='red')\n",
    "    ax.plot([0, fpr[optimal_idx]], [tpr[optimal_idx], tpr[optimal_idx]], linestyle='--', color='red')\n",
    "\n",
    "    ax.legend(loc='lower right')\n",
    "    plt.show()\n",
    "\n",
    "def categorize_variables(df):\n",
    "    independentVars = []\n",
    "    dependentVars = []\n",
    "\n",
    "    for col in df.columns:\n",
    "        if pd.api.types.is_numeric_dtype(df[col]):\n",
    "            independentVars.append(col)\n",
    "        elif pd.api.types.is_categorical_dtype(df[col]) or pd.api.types.is_object_dtype(\n",
    "                df[col]) or pd.api.types.is_bool_dtype(df[col]):\n",
    "            dependentVars.append(col)\n",
    "    warnings.filterwarnings(\"ignore\")\n",
    "    return independentVars, dependentVars\n",
    "\n",
    "def calculate_confusion_metrics(matrix, class_label):\n",
    "    class_index = matrix.columns.get_loc(class_label)\n",
    "    TP = matrix.iloc[class_index, class_index]\n",
    "    FP = matrix.iloc[:, class_index].sum() - TP\n",
    "    FN = matrix.iloc[class_index, :].sum() - TP\n",
    "    total_sum = matrix.values.sum()\n",
    "    TN = total_sum - (TP + FP + FN)\n",
    "    \n",
    "    return TP, TN, FP, FN\n",
    "\n",
    "def positiveratesf(matrix):\n",
    "    if (matrix.shape[0] == 2) & (matrix.shape[1] == 2):\n",
    "        TPR = matrix.values[0][0] / matrix.values[0, :].sum()\n",
    "        print(colored(f\"TPR: {TPR}\", outputColor))\n",
    "        FPR = matrix.values[1][0] / matrix.values[1, :].sum()\n",
    "        print(colored(f\"FPR: {FPR}\", outputColor))\n",
    "    return\n",
    "\n",
    "def find_best_threshold(y_true, y_score, beta=1):\n",
    "    from sklearn.metrics import precision_recall_curve\n",
    "\n",
    "    precision, recall, thresholds = precision_recall_curve(y_true, y_score)\n",
    "    f1_score = [(beta ** 2 + 1) * p * r / ((beta ** 2 * p) + r) if (p != 0 and r != 0) else 0 for p, r in\n",
    "                zip(precision, recall)]\n",
    "    optimal_idx = f1_score.index(max(f1_score))\n",
    "    return thresholds[optimal_idx]"
   ],
   "metadata": {
    "collapsed": false,
    "ExecuteTime": {
     "end_time": "2024-05-30T16:22:16.462136Z",
     "start_time": "2024-05-30T16:22:16.418080Z"
    }
   },
   "id": "4488dddd3e1aba7a",
   "outputs": [],
   "execution_count": 288
  },
  {
   "metadata": {},
   "cell_type": "markdown",
   "source": "## Exercises Discriminant Analysis (Week 1)",
   "id": "168eb1220123b6fb"
  },
  {
   "metadata": {},
   "cell_type": "markdown",
   "source": [
    "### Question 1:\n",
    "- Can you predict the writing hand of the next student based on the specified height (`182`), pieces of fruit (`2`), shoe size (`44`), distance to KdG (`22`)? Only use students who have specified Left or Right as their writing hand.\n",
    "- Draw up a confusion matrix based on the predicted and effective values for the data you used to perform the discriminant analysis.\n",
    "- Calculate the usual evaluation metrics for a binary classifier [`Rechts`, `Links`].\n",
    "- Draw the ROC curve. If applicable, explain why the ROC curve is not drawn.\n",
    "- What is the accuracy of the discriminant analysis where height and shoe size predict the number of brothers and sisters?\n",
    "\n",
    "**Name of Columns**: `gapminder` `schrijfhand` `schoenmaat` `lengte` `bloedgroep` `resus` `siblings` `Samenzweringen` `rijbewijs` `domicilie in Antwerpen` `afstudeerrichting` `vrijetijdsbesteding` `uren wiskunde` `informatica` `belangrijk` `uren buiten schooluren` `afstand tot KdG` `vervoersmiddel` `klimaatopwarming` `zakgeld` `stukken fruit` `fruitvoorkeur` `besturingssysteem` `belangrijkste app` `M1 - stelen` `M2 - team` `M3 - beschermen` `M4 - voorbeeld` `M5 - embryo` `M6 - vrijheid` `mascotte` `zwaarste vak` `boeienste vak` `studiepunt`"
   ],
   "id": "16cc7c38957a76d2"
  },
  {
   "metadata": {
    "ExecuteTime": {
     "end_time": "2024-05-30T16:22:16.541054Z",
     "start_time": "2024-05-30T16:22:16.498871Z"
    }
   },
   "cell_type": "code",
   "source": [
    "# Load in data and filter data\n",
    "data = pd.read_csv('../Data/Data1.csv', delimiter=';', decimal=',')\n",
    "data = data[(data['schrijfhand'] == 'Rechts') | (data['schrijfhand'] == 'Links')] # Drop row if not equal to right or left-handed\n",
    "display(data.head())"
   ],
   "id": "2e0e24d2f22d78ef",
   "outputs": [
    {
     "data": {
      "text/plain": [
       "  gapminder schrijfhand  schoenmaat  lengte    bloedgroep         resus  \\\n",
       "0      7/18      Rechts        43.0     184             O      positief   \n",
       "1      3/18      Rechts        42.0     163  Weet ik niet  Weet ik niet   \n",
       "2     12/18      Rechts        45.0     183            AB      positief   \n",
       "3      5/18      Rechts        44.0     175             A      positief   \n",
       "4      6/18      Rechts        43.0     173             B      positief   \n",
       "\n",
       "   siblings                                     Samenzweringen  \\\n",
       "0         5  De tsunami van 2004 in de Indische Oceaan was ...   \n",
       "1         1   Prinses Diana kwam niet per ongeluk om het leven   \n",
       "2         2  Prinses Diana kwam niet per ongeluk om het lev...   \n",
       "3         2  De wereld wordt eigenlijk gecontroleerd door e...   \n",
       "4         3  De wereld wordt eigenlijk gecontroleerd door e...   \n",
       "\n",
       "                                           rijbewijs  \\\n",
       "0                               Categorie B: Wagens.   \n",
       "1  Categorie AM: Bromfietsen met een maximumsnelh...   \n",
       "2  Categorie AM: Bromfietsen met een maximumsnelh...   \n",
       "3  Categorie AM: Bromfietsen met een maximumsnelh...   \n",
       "4                               Categorie B: Wagens.   \n",
       "\n",
       "                              domicilie in Antwerpen  ... M1 - stelen  \\\n",
       "0  buiten de stad (een dorp, een gehucht, het pla...  ...           7   \n",
       "1                                        in een stad  ...          10   \n",
       "2                                        in een stad  ...           6   \n",
       "3                                        in een stad  ...           9   \n",
       "4                                        in een stad  ...          10   \n",
       "\n",
       "  M2 - team M3 - beschermen M4 - voorbeeld M5 - embryo  M6 - vrijheid  \\\n",
       "0         2               8              6           5            4.0   \n",
       "1         5              10              6           7            3.0   \n",
       "2         3               7              7          10            6.0   \n",
       "3        10              10             10          10            0.0   \n",
       "4         6              10              7           7            2.0   \n",
       "\n",
       "                                            mascotte  zwaarste vak  \\\n",
       "0  1=Bever,2=Wasbeer,3=Otter,4=Wolf,5=Poema,6=Pan...  Management 1   \n",
       "1  1=Bever,2=Wolf,3=Bizon,4=Otter,5=Panter,6=Poem...  Management 1   \n",
       "2  1=Bruine beer,2=Poema,3=Panter,4=Wolf,5=Vos,6=...  Management 1   \n",
       "3  1=Wasbeer,2=Wolf,3=Bruine beer,4=Das,5=Vos,6=B...  Management 1   \n",
       "4  1=Wolf,2=Vos,3=Bruine beer,4=Bizon,5=Panter,6=...  Management 1   \n",
       "\n",
       "           boeienste vak  studiepunt  \n",
       "0         Data science 1  16-20 uren  \n",
       "1     Computersystemen 1  <= 10 uren  \n",
       "2  Programmeren 1 - Java  16-20 uren  \n",
       "3         Data science 1  <= 10 uren  \n",
       "4         Data science 1  <= 10 uren  \n",
       "\n",
       "[5 rows x 33 columns]"
      ],
      "text/html": [
       "<div>\n",
       "<style scoped>\n",
       "    .dataframe tbody tr th:only-of-type {\n",
       "        vertical-align: middle;\n",
       "    }\n",
       "\n",
       "    .dataframe tbody tr th {\n",
       "        vertical-align: top;\n",
       "    }\n",
       "\n",
       "    .dataframe thead th {\n",
       "        text-align: right;\n",
       "    }\n",
       "</style>\n",
       "<table border=\"1\" class=\"dataframe\">\n",
       "  <thead>\n",
       "    <tr style=\"text-align: right;\">\n",
       "      <th></th>\n",
       "      <th>gapminder</th>\n",
       "      <th>schrijfhand</th>\n",
       "      <th>schoenmaat</th>\n",
       "      <th>lengte</th>\n",
       "      <th>bloedgroep</th>\n",
       "      <th>resus</th>\n",
       "      <th>siblings</th>\n",
       "      <th>Samenzweringen</th>\n",
       "      <th>rijbewijs</th>\n",
       "      <th>domicilie in Antwerpen</th>\n",
       "      <th>...</th>\n",
       "      <th>M1 - stelen</th>\n",
       "      <th>M2 - team</th>\n",
       "      <th>M3 - beschermen</th>\n",
       "      <th>M4 - voorbeeld</th>\n",
       "      <th>M5 - embryo</th>\n",
       "      <th>M6 - vrijheid</th>\n",
       "      <th>mascotte</th>\n",
       "      <th>zwaarste vak</th>\n",
       "      <th>boeienste vak</th>\n",
       "      <th>studiepunt</th>\n",
       "    </tr>\n",
       "  </thead>\n",
       "  <tbody>\n",
       "    <tr>\n",
       "      <th>0</th>\n",
       "      <td>7/18</td>\n",
       "      <td>Rechts</td>\n",
       "      <td>43.0</td>\n",
       "      <td>184</td>\n",
       "      <td>O</td>\n",
       "      <td>positief</td>\n",
       "      <td>5</td>\n",
       "      <td>De tsunami van 2004 in de Indische Oceaan was ...</td>\n",
       "      <td>Categorie B: Wagens.</td>\n",
       "      <td>buiten de stad (een dorp, een gehucht, het pla...</td>\n",
       "      <td>...</td>\n",
       "      <td>7</td>\n",
       "      <td>2</td>\n",
       "      <td>8</td>\n",
       "      <td>6</td>\n",
       "      <td>5</td>\n",
       "      <td>4.0</td>\n",
       "      <td>1=Bever,2=Wasbeer,3=Otter,4=Wolf,5=Poema,6=Pan...</td>\n",
       "      <td>Management 1</td>\n",
       "      <td>Data science 1</td>\n",
       "      <td>16-20 uren</td>\n",
       "    </tr>\n",
       "    <tr>\n",
       "      <th>1</th>\n",
       "      <td>3/18</td>\n",
       "      <td>Rechts</td>\n",
       "      <td>42.0</td>\n",
       "      <td>163</td>\n",
       "      <td>Weet ik niet</td>\n",
       "      <td>Weet ik niet</td>\n",
       "      <td>1</td>\n",
       "      <td>Prinses Diana kwam niet per ongeluk om het leven</td>\n",
       "      <td>Categorie AM: Bromfietsen met een maximumsnelh...</td>\n",
       "      <td>in een stad</td>\n",
       "      <td>...</td>\n",
       "      <td>10</td>\n",
       "      <td>5</td>\n",
       "      <td>10</td>\n",
       "      <td>6</td>\n",
       "      <td>7</td>\n",
       "      <td>3.0</td>\n",
       "      <td>1=Bever,2=Wolf,3=Bizon,4=Otter,5=Panter,6=Poem...</td>\n",
       "      <td>Management 1</td>\n",
       "      <td>Computersystemen 1</td>\n",
       "      <td>&lt;= 10 uren</td>\n",
       "    </tr>\n",
       "    <tr>\n",
       "      <th>2</th>\n",
       "      <td>12/18</td>\n",
       "      <td>Rechts</td>\n",
       "      <td>45.0</td>\n",
       "      <td>183</td>\n",
       "      <td>AB</td>\n",
       "      <td>positief</td>\n",
       "      <td>2</td>\n",
       "      <td>Prinses Diana kwam niet per ongeluk om het lev...</td>\n",
       "      <td>Categorie AM: Bromfietsen met een maximumsnelh...</td>\n",
       "      <td>in een stad</td>\n",
       "      <td>...</td>\n",
       "      <td>6</td>\n",
       "      <td>3</td>\n",
       "      <td>7</td>\n",
       "      <td>7</td>\n",
       "      <td>10</td>\n",
       "      <td>6.0</td>\n",
       "      <td>1=Bruine beer,2=Poema,3=Panter,4=Wolf,5=Vos,6=...</td>\n",
       "      <td>Management 1</td>\n",
       "      <td>Programmeren 1 - Java</td>\n",
       "      <td>16-20 uren</td>\n",
       "    </tr>\n",
       "    <tr>\n",
       "      <th>3</th>\n",
       "      <td>5/18</td>\n",
       "      <td>Rechts</td>\n",
       "      <td>44.0</td>\n",
       "      <td>175</td>\n",
       "      <td>A</td>\n",
       "      <td>positief</td>\n",
       "      <td>2</td>\n",
       "      <td>De wereld wordt eigenlijk gecontroleerd door e...</td>\n",
       "      <td>Categorie AM: Bromfietsen met een maximumsnelh...</td>\n",
       "      <td>in een stad</td>\n",
       "      <td>...</td>\n",
       "      <td>9</td>\n",
       "      <td>10</td>\n",
       "      <td>10</td>\n",
       "      <td>10</td>\n",
       "      <td>10</td>\n",
       "      <td>0.0</td>\n",
       "      <td>1=Wasbeer,2=Wolf,3=Bruine beer,4=Das,5=Vos,6=B...</td>\n",
       "      <td>Management 1</td>\n",
       "      <td>Data science 1</td>\n",
       "      <td>&lt;= 10 uren</td>\n",
       "    </tr>\n",
       "    <tr>\n",
       "      <th>4</th>\n",
       "      <td>6/18</td>\n",
       "      <td>Rechts</td>\n",
       "      <td>43.0</td>\n",
       "      <td>173</td>\n",
       "      <td>B</td>\n",
       "      <td>positief</td>\n",
       "      <td>3</td>\n",
       "      <td>De wereld wordt eigenlijk gecontroleerd door e...</td>\n",
       "      <td>Categorie B: Wagens.</td>\n",
       "      <td>in een stad</td>\n",
       "      <td>...</td>\n",
       "      <td>10</td>\n",
       "      <td>6</td>\n",
       "      <td>10</td>\n",
       "      <td>7</td>\n",
       "      <td>7</td>\n",
       "      <td>2.0</td>\n",
       "      <td>1=Wolf,2=Vos,3=Bruine beer,4=Bizon,5=Panter,6=...</td>\n",
       "      <td>Management 1</td>\n",
       "      <td>Data science 1</td>\n",
       "      <td>&lt;= 10 uren</td>\n",
       "    </tr>\n",
       "  </tbody>\n",
       "</table>\n",
       "<p>5 rows × 33 columns</p>\n",
       "</div>"
      ]
     },
     "metadata": {},
     "output_type": "display_data"
    }
   ],
   "execution_count": 289
  },
  {
   "metadata": {
    "ExecuteTime": {
     "end_time": "2024-05-30T16:22:16.757100Z",
     "start_time": "2024-05-30T16:22:16.693689Z"
    }
   },
   "cell_type": "code",
   "source": [
    "# Create linear discriminant analysis model\n",
    "independentVariables = data[['lengte', 'stukken fruit', 'schoenmaat', 'afstand tot KdG']] # Independent variables\n",
    "dependentVariable = data['schrijfhand']                                                   # Dependent variable\n",
    "lda = LinearDiscriminantAnalysis()\n",
    "lda.fit(independentVariables, dependentVariable)\n",
    "\n",
    "# Predict with test data\n",
    "testStudent = pd.DataFrame(data={'lengte':[182], 'stukken fruit':[2], 'schoenmaat':[44], 'afstand tot KdG':[22]})\n",
    "print(colored(f\"If you assume that the student has. The following attributes:\", outputColor))\n",
    "for column in testStudent.columns:\n",
    "    print(colored(f\"\\t- {column}: {testStudent[column].values}\", outputColor))\n",
    "print(colored(f\"Then the probability lies between {lda.predict_proba(testStudent)} that he is {lda.predict(testStudent)} handed.\", outputColor))"
   ],
   "id": "2431c06ade91a010",
   "outputs": [
    {
     "name": "stdout",
     "output_type": "stream",
     "text": [
      "\u001B[34mIf you assume that the student has. The following attributes:\u001B[0m\n",
      "\u001B[34m\t- lengte: [182]\u001B[0m\n",
      "\u001B[34m\t- stukken fruit: [2]\u001B[0m\n",
      "\u001B[34m\t- schoenmaat: [44]\u001B[0m\n",
      "\u001B[34m\t- afstand tot KdG: [22]\u001B[0m\n",
      "\u001B[34mThen the probability lies between [[0.09459903 0.90540097]] that he is ['Rechts'] handed.\u001B[0m\n"
     ]
    }
   ],
   "execution_count": 290
  },
  {
   "metadata": {
    "ExecuteTime": {
     "end_time": "2024-05-30T16:22:17.021921Z",
     "start_time": "2024-05-30T16:22:16.948433Z"
    }
   },
   "cell_type": "code",
   "source": [
    "# Create confusion matrix\n",
    "predicted = pd.Series(lda.predict(independentVariables), name='Predicted')\n",
    "actual = dependentVariable.rename('actual')\n",
    "confusion_matrix = pd.crosstab(index=actual, columns=predicted, margins='All', margins_name='Total')\n",
    "display(confusion_matrix)"
   ],
   "id": "85ae831526bbea14",
   "outputs": [
    {
     "data": {
      "text/plain": [
       "Predicted  Links  Rechts  Total\n",
       "actual                         \n",
       "Links          1      13     14\n",
       "Rechts         1      74     75\n",
       "Total          2      87     89"
      ],
      "text/html": [
       "<div>\n",
       "<style scoped>\n",
       "    .dataframe tbody tr th:only-of-type {\n",
       "        vertical-align: middle;\n",
       "    }\n",
       "\n",
       "    .dataframe tbody tr th {\n",
       "        vertical-align: top;\n",
       "    }\n",
       "\n",
       "    .dataframe thead th {\n",
       "        text-align: right;\n",
       "    }\n",
       "</style>\n",
       "<table border=\"1\" class=\"dataframe\">\n",
       "  <thead>\n",
       "    <tr style=\"text-align: right;\">\n",
       "      <th>Predicted</th>\n",
       "      <th>Links</th>\n",
       "      <th>Rechts</th>\n",
       "      <th>Total</th>\n",
       "    </tr>\n",
       "    <tr>\n",
       "      <th>actual</th>\n",
       "      <th></th>\n",
       "      <th></th>\n",
       "      <th></th>\n",
       "    </tr>\n",
       "  </thead>\n",
       "  <tbody>\n",
       "    <tr>\n",
       "      <th>Links</th>\n",
       "      <td>1</td>\n",
       "      <td>13</td>\n",
       "      <td>14</td>\n",
       "    </tr>\n",
       "    <tr>\n",
       "      <th>Rechts</th>\n",
       "      <td>1</td>\n",
       "      <td>74</td>\n",
       "      <td>75</td>\n",
       "    </tr>\n",
       "    <tr>\n",
       "      <th>Total</th>\n",
       "      <td>2</td>\n",
       "      <td>87</td>\n",
       "      <td>89</td>\n",
       "    </tr>\n",
       "  </tbody>\n",
       "</table>\n",
       "</div>"
      ]
     },
     "metadata": {},
     "output_type": "display_data"
    }
   ],
   "execution_count": 291
  },
  {
   "metadata": {
    "ExecuteTime": {
     "end_time": "2024-05-30T16:22:17.314172Z",
     "start_time": "2024-05-30T16:22:17.282650Z"
    }
   },
   "cell_type": "code",
   "source": [
    "# Evaluating model\n",
    "accuracy = accuracyf(confusion_matrix)\n",
    "\n",
    "precision_left = precisionf(confusion_matrix)[0]\n",
    "precision_right = precisionf(confusion_matrix)[1]\n",
    "\n",
    "recall_left = recallf(confusion_matrix)[0]\n",
    "recall_right = recallf(confusion_matrix)[1]\n",
    "\n",
    "f1_left = f_measuref(confusion_matrix, 1)[0]\n",
    "f1_right = f_measuref(confusion_matrix, 1)[1]\n",
    "\n",
    "# Accuracy: The sum of all correct predictions divided by the total sum.\n",
    "print(colored(f\"The accuracy of the binary classifier is: {round(accuracy, 2) * 100}%\\n\", outputColor))\n",
    "\n",
    "# Precision: The number of correct positive predictions divided by the total predictions.\n",
    "print(colored(f\"The precision of the binary classifier for left-handed is: {round(precision_left, 2) * 100}%\", outputColor))\n",
    "print(colored(f\"The precision of the binary classifier for right-handed is: {round(precision_right, 2) * 100}%\\n\", outputColor))\n",
    "\n",
    "# Recall: The number of correct positive predictions divided by the number of total positives.\n",
    "print(colored(f\"The recall of the binary classifier for left-handed is: {round(recall_left, 2) * 100}%\", outputColor))\n",
    "print(colored(f\"The recall of the binary classifier for right-handed is: {round(recall_right, 2) * 100}%\\n\", outputColor))\n",
    "\n",
    "# F-measuref: The curved harmonic mean of precision and recall.\n",
    "print(colored(f\"The F1-measure of the binary classifier for left-handed is: {round(f1_left, 2) * 100}%\", outputColor))\n",
    "print(colored(f\"The F1-measure of the binary classifier for right-handed is: {round(f1_right, 2) * 100}%\\n\", outputColor))\n",
    "\n",
    "evaluate_classifier(confusion_matrix, 1, 0.9)"
   ],
   "id": "8d7e20223416784",
   "outputs": [
    {
     "name": "stdout",
     "output_type": "stream",
     "text": [
      "\u001B[34mThe accuracy of the binary classifier is: 46.0%\n",
      "\u001B[0m\n",
      "\u001B[34mThe precision of the binary classifier for left-handed is: 25.0%\u001B[0m\n",
      "\u001B[34mThe precision of the binary classifier for right-handed is: 43.0%\n",
      "\u001B[0m\n",
      "\u001B[34mThe recall of the binary classifier for left-handed is: 4.0%\u001B[0m\n",
      "\u001B[34mThe recall of the binary classifier for right-handed is: 49.0%\n",
      "\u001B[0m\n",
      "\u001B[34mThe F1-measure of the binary classifier for left-handed is: 6.0%\u001B[0m\n",
      "\u001B[34mThe F1-measure of the binary classifier for right-handed is: 46.0%\n",
      "\u001B[0m\n",
      "\u001B[34mThis is a bad classifier with a threshold of 90.0%\u001B[0m\n"
     ]
    }
   ],
   "execution_count": 292
  },
  {
   "metadata": {
    "ExecuteTime": {
     "end_time": "2024-05-30T16:22:18.398448Z",
     "start_time": "2024-05-30T16:22:17.952875Z"
    }
   },
   "cell_type": "code",
   "source": [
    "# Create a ROC (Receiver Operator Characteristic Curve) diagram.\n",
    "y_true = pd.get_dummies(data['schrijfhand'])['Rechts']\n",
    "y_score = pd.Series(lda.predict_proba(independentVariables)[:, 1])\n",
    "plot_rocf(y_true, y_score, title='ROC Curve')"
   ],
   "id": "c1e1f2839ff9f7bc",
   "outputs": [
    {
     "data": {
      "text/plain": [
       "<Figure size 700x700 with 1 Axes>"
      ],
      "image/png": "[encoded data removed]"
     },
     "metadata": {},
     "output_type": "display_data"
    }
   ],
   "execution_count": 293
  },
  {
   "metadata": {
    "ExecuteTime": {
     "end_time": "2024-05-30T16:22:18.476888Z",
     "start_time": "2024-05-30T16:22:18.402168Z"
    }
   },
   "cell_type": "code",
   "source": [
    "# Create linear discriminant analysis model\n",
    "independentVariables = data[['lengte', 'schoenmaat']] # Independent variables\n",
    "dependentVariable = data['siblings']                  # Dependent variable\n",
    "lda = LinearDiscriminantAnalysis()\n",
    "lda.fit(independentVariables, dependentVariable)\n",
    "\n",
    "# Create confusion matrix\n",
    "predicted = pd.Series(lda.predict(independentVariables), name='Predicted')\n",
    "actual = dependentVariable.rename('actual')\n",
    "confusion_matrix = pd.crosstab(index=actual, columns=predicted, margins='All', margins_name='Total')\n",
    "\n",
    "# Evaluating model\n",
    "accuracy = accuracyf(confusion_matrix)\n",
    "print(colored(f\"What is the accuracy when we use two independent variables, length and shoe size to predict the amount of siblings: {round(accuracy, 2) * 100}%\", outputColor))"
   ],
   "id": "1f30ba0feead0744",
   "outputs": [
    {
     "name": "stdout",
     "output_type": "stream",
     "text": [
      "\u001B[34mWhat is the accuracy when we use two independent variables, length and shoe size to predict the amount of siblings: 10.0%\u001B[0m\n"
     ]
    }
   ],
   "execution_count": 294
  },
  {
   "metadata": {},
   "cell_type": "markdown",
   "source": [
    "### Question 2:\n",
    "- Find the dataset `/Data/Bordeaux.csv` and place it in a data frame.\n",
    "    - Apply a discriminant analysis to this data set with `quality` as the dependent variable and `temperature`, `sun`, `heat` and `rain` as the independent variables.\n",
    "    - How many dimensions does the discriminant analysis have?\n",
    "    - Plot the results of the discriminant analysis. What is visualized here?\n",
    "    - Apply the predict command briefly to the original data. What percentage of the wines receive the same label via the discriminant analysis as observed?"
   ],
   "id": "a109424a640cf107"
  },
  {
   "metadata": {
    "ExecuteTime": {
     "end_time": "2024-05-30T16:22:18.696782Z",
     "start_time": "2024-05-30T16:22:18.668049Z"
    }
   },
   "cell_type": "code",
   "source": [
    "# Load in data and filter data\n",
    "bordeaux = pd.read_csv('../Data/Bordeaux.csv', delimiter=';')\n",
    "display(bordeaux.head())"
   ],
   "id": "6035d9b867b1158",
   "outputs": [
    {
     "data": {
      "text/plain": [
       "   year  temperature   sun  heat  rain quality\n",
       "0  1924         3064  1201    10   361  medium\n",
       "1  1925         3000  1053    11   338     bad\n",
       "2  1926         3155  1133    19   393  medium\n",
       "3  1927         3085   970     4   467     bad\n",
       "4  1928         3245  1258    36   294    good"
      ],
      "text/html": [
       "<div>\n",
       "<style scoped>\n",
       "    .dataframe tbody tr th:only-of-type {\n",
       "        vertical-align: middle;\n",
       "    }\n",
       "\n",
       "    .dataframe tbody tr th {\n",
       "        vertical-align: top;\n",
       "    }\n",
       "\n",
       "    .dataframe thead th {\n",
       "        text-align: right;\n",
       "    }\n",
       "</style>\n",
       "<table border=\"1\" class=\"dataframe\">\n",
       "  <thead>\n",
       "    <tr style=\"text-align: right;\">\n",
       "      <th></th>\n",
       "      <th>year</th>\n",
       "      <th>temperature</th>\n",
       "      <th>sun</th>\n",
       "      <th>heat</th>\n",
       "      <th>rain</th>\n",
       "      <th>quality</th>\n",
       "    </tr>\n",
       "  </thead>\n",
       "  <tbody>\n",
       "    <tr>\n",
       "      <th>0</th>\n",
       "      <td>1924</td>\n",
       "      <td>3064</td>\n",
       "      <td>1201</td>\n",
       "      <td>10</td>\n",
       "      <td>361</td>\n",
       "      <td>medium</td>\n",
       "    </tr>\n",
       "    <tr>\n",
       "      <th>1</th>\n",
       "      <td>1925</td>\n",
       "      <td>3000</td>\n",
       "      <td>1053</td>\n",
       "      <td>11</td>\n",
       "      <td>338</td>\n",
       "      <td>bad</td>\n",
       "    </tr>\n",
       "    <tr>\n",
       "      <th>2</th>\n",
       "      <td>1926</td>\n",
       "      <td>3155</td>\n",
       "      <td>1133</td>\n",
       "      <td>19</td>\n",
       "      <td>393</td>\n",
       "      <td>medium</td>\n",
       "    </tr>\n",
       "    <tr>\n",
       "      <th>3</th>\n",
       "      <td>1927</td>\n",
       "      <td>3085</td>\n",
       "      <td>970</td>\n",
       "      <td>4</td>\n",
       "      <td>467</td>\n",
       "      <td>bad</td>\n",
       "    </tr>\n",
       "    <tr>\n",
       "      <th>4</th>\n",
       "      <td>1928</td>\n",
       "      <td>3245</td>\n",
       "      <td>1258</td>\n",
       "      <td>36</td>\n",
       "      <td>294</td>\n",
       "      <td>good</td>\n",
       "    </tr>\n",
       "  </tbody>\n",
       "</table>\n",
       "</div>"
      ]
     },
     "metadata": {},
     "output_type": "display_data"
    }
   ],
   "execution_count": 295
  },
  {
   "metadata": {
    "ExecuteTime": {
     "end_time": "2024-05-30T16:22:19.057362Z",
     "start_time": "2024-05-30T16:22:19.046170Z"
    }
   },
   "cell_type": "code",
   "source": [
    "# Create linear discriminant analysis model\n",
    "independentVariables = bordeaux[['temperature', 'sun', 'heat', 'rain']] # Independent variables\n",
    "dependentVariable = bordeaux['quality']                                 # Dependent variable\n",
    "lda = LinearDiscriminantAnalysis()\n",
    "lda.fit(independentVariables, dependentVariable)\n",
    "\n",
    "# Show some information about the discriminant analysis\n",
    "print(colored(f\"There are {(len(dependentVariable.unique()))-1} dimensions dimensions and there are {len(dependentVariable.unique())} different possibilities for the dependent variable and also, there are {len(independentVariables.columns)} independent variables.\", outputColor))"
   ],
   "id": "7cc1bacd0a11c07a",
   "outputs": [
    {
     "name": "stdout",
     "output_type": "stream",
     "text": [
      "\u001B[34mThere are 2 dimensions dimensions and there are 3 different possibilities for the dependent variable and also, there are 4 independent variables.\u001B[0m\n"
     ]
    }
   ],
   "execution_count": 296
  },
  {
   "metadata": {
    "ExecuteTime": {
     "end_time": "2024-05-30T16:22:19.665799Z",
     "start_time": "2024-05-30T16:22:19.304013Z"
    }
   },
   "cell_type": "code",
   "source": [
    "# Visualize the results of the discriminant analysis (quality of the wines)\n",
    "quality_mapping = {'bad': 0, 'medium': 1, 'good': 2}\n",
    "bordeaux['quality_code'] = bordeaux['quality'].map(quality_mapping)\n",
    "dependentVariable_code = bordeaux['quality_code']\n",
    "\n",
    "lda = LinearDiscriminantAnalysis()\n",
    "lda.fit(independentVariables, dependentVariable_code)\n",
    "\n",
    "print(colored(f\"The plot visualizes the results of the discriminant analysis. So we can easily see the different quality levels of the wines.\", outputColor))\n",
    "\n",
    "plt.figure(figsize=(12, 6))\n",
    "plt.scatter(independentVariables['temperature'], independentVariables['sun'], independentVariables['heat'], c=lda.predict(independentVariables), cmap='viridis')\n",
    "plt.colorbar(label='Quality')\n",
    "plt.xlabel('Temperature')\n",
    "plt.ylabel('Sun')\n",
    "plt.title('Discriminant Analysis Results')\n",
    "plt.grid(True)\n",
    "plt.show()"
   ],
   "id": "600e7681b92ba056",
   "outputs": [
    {
     "name": "stdout",
     "output_type": "stream",
     "text": [
      "\u001B[34mThe plot visualizes the results of the discriminant analysis. So we can easily see the different quality levels of the wines.\u001B[0m\n"
     ]
    },
    {
     "data": {
      "text/plain": [
       "<Figure size 1200x600 with 2 Axes>"
      ],
      "image/png": "[encoded data removed]"
     },
     "metadata": {},
     "output_type": "display_data"
    }
   ],
   "execution_count": 297
  },
  {
   "metadata": {
    "ExecuteTime": {
     "end_time": "2024-05-30T16:22:19.682053Z",
     "start_time": "2024-05-30T16:22:19.668055Z"
    }
   },
   "cell_type": "code",
   "source": [
    "# Create linear discriminant analysis model\n",
    "lda = LinearDiscriminantAnalysis()\n",
    "lda.fit(independentVariables, dependentVariable)\n",
    "\n",
    "# Evaluating model\n",
    "predicted = lda.predict(independentVariables)\n",
    "accuracy = np.mean(predicted == dependentVariable)\n",
    "\n",
    "# Accuracy: The sum of all correct predictions divided by the total sum.\n",
    "print(colored(f\"The accuracy of the discriminant analysis model is: {round(accuracy, 2) * 100}%\\n\", outputColor))"
   ],
   "id": "34374ccf6195d9c6",
   "outputs": [
    {
     "name": "stdout",
     "output_type": "stream",
     "text": [
      "\u001B[34mThe accuracy of the discriminant analysis model is: 79.0%\n",
      "\u001B[0m\n"
     ]
    }
   ],
   "execution_count": 298
  },
  {
   "metadata": {},
   "cell_type": "markdown",
   "source": [
    "### Question 3:\n",
    "- Find the dataset `/Data/Birthwt.csv` and place it in a data frame.\n",
    "    - Analyze the type of data in this dataset.\n",
    "    - Which columns can be used as dependent variables for a discriminant analysis?\n",
    "    - Which columns can be used as independent variables for a discriminant analysis?\n",
    "    - Apply a discriminant analysis to this data set (using your choices above).\n",
    "    - How many dimensions does the discriminant analysis have?\n",
    "    - Plot the results of the discriminant analysis.\n",
    "\n",
    "**Name of Columns & Meaning**:\n",
    "- `low`: Indicator of birth weight less than 2.5 kg\n",
    "- `age`: Mother's age in years\n",
    "- `lwt`: Mother's weight in pounds at last menstrual period\n",
    "- `race`: Mother's race (1 = white, 2 = black, 3 = other)\n",
    "- `smoke`: Smoking status during pregnancy (1 = yes, 0 = no)\n",
    "- `ptl`: Number of previous premature labors\n",
    "- `ht`: History of hypertension (1 = yes, 0 = no)\n",
    "- `ui`: Presence of uterine irritability (1 = yes, 0 = no)\n",
    "- `ftv`: Number of physician visits during the first trimester\n",
    "- `bwt`: Birth weight in grams"
   ],
   "id": "b8107333a3ca6f78"
  },
  {
   "metadata": {
    "ExecuteTime": {
     "end_time": "2024-05-30T16:22:19.900165Z",
     "start_time": "2024-05-30T16:22:19.882420Z"
    }
   },
   "cell_type": "code",
   "source": [
    "# Load in data and filter data\n",
    "birthwt = pd.read_csv('../Data/Birthwt.csv', delimiter=';')\n",
    "display(birthwt.head())"
   ],
   "id": "13bca42be09e9b69",
   "outputs": [
    {
     "data": {
      "text/plain": [
       "   low  age  lwt  race  smoke  ptl  ht  ui  ftv   bwt\n",
       "0    0   19  182     2      0    0   0   1    0  2523\n",
       "1    0   33  155     3      0    0   0   0    3  2551\n",
       "2    0   20  105     1      1    0   0   0    1  2557\n",
       "3    0   21  108     1      1    0   0   1    2  2594\n",
       "4    0   18  107     1      1    0   0   1    0  2600"
      ],
      "text/html": [
       "<div>\n",
       "<style scoped>\n",
       "    .dataframe tbody tr th:only-of-type {\n",
       "        vertical-align: middle;\n",
       "    }\n",
       "\n",
       "    .dataframe tbody tr th {\n",
       "        vertical-align: top;\n",
       "    }\n",
       "\n",
       "    .dataframe thead th {\n",
       "        text-align: right;\n",
       "    }\n",
       "</style>\n",
       "<table border=\"1\" class=\"dataframe\">\n",
       "  <thead>\n",
       "    <tr style=\"text-align: right;\">\n",
       "      <th></th>\n",
       "      <th>low</th>\n",
       "      <th>age</th>\n",
       "      <th>lwt</th>\n",
       "      <th>race</th>\n",
       "      <th>smoke</th>\n",
       "      <th>ptl</th>\n",
       "      <th>ht</th>\n",
       "      <th>ui</th>\n",
       "      <th>ftv</th>\n",
       "      <th>bwt</th>\n",
       "    </tr>\n",
       "  </thead>\n",
       "  <tbody>\n",
       "    <tr>\n",
       "      <th>0</th>\n",
       "      <td>0</td>\n",
       "      <td>19</td>\n",
       "      <td>182</td>\n",
       "      <td>2</td>\n",
       "      <td>0</td>\n",
       "      <td>0</td>\n",
       "      <td>0</td>\n",
       "      <td>1</td>\n",
       "      <td>0</td>\n",
       "      <td>2523</td>\n",
       "    </tr>\n",
       "    <tr>\n",
       "      <th>1</th>\n",
       "      <td>0</td>\n",
       "      <td>33</td>\n",
       "      <td>155</td>\n",
       "      <td>3</td>\n",
       "      <td>0</td>\n",
       "      <td>0</td>\n",
       "      <td>0</td>\n",
       "      <td>0</td>\n",
       "      <td>3</td>\n",
       "      <td>2551</td>\n",
       "    </tr>\n",
       "    <tr>\n",
       "      <th>2</th>\n",
       "      <td>0</td>\n",
       "      <td>20</td>\n",
       "      <td>105</td>\n",
       "      <td>1</td>\n",
       "      <td>1</td>\n",
       "      <td>0</td>\n",
       "      <td>0</td>\n",
       "      <td>0</td>\n",
       "      <td>1</td>\n",
       "      <td>2557</td>\n",
       "    </tr>\n",
       "    <tr>\n",
       "      <th>3</th>\n",
       "      <td>0</td>\n",
       "      <td>21</td>\n",
       "      <td>108</td>\n",
       "      <td>1</td>\n",
       "      <td>1</td>\n",
       "      <td>0</td>\n",
       "      <td>0</td>\n",
       "      <td>1</td>\n",
       "      <td>2</td>\n",
       "      <td>2594</td>\n",
       "    </tr>\n",
       "    <tr>\n",
       "      <th>4</th>\n",
       "      <td>0</td>\n",
       "      <td>18</td>\n",
       "      <td>107</td>\n",
       "      <td>1</td>\n",
       "      <td>1</td>\n",
       "      <td>0</td>\n",
       "      <td>0</td>\n",
       "      <td>1</td>\n",
       "      <td>0</td>\n",
       "      <td>2600</td>\n",
       "    </tr>\n",
       "  </tbody>\n",
       "</table>\n",
       "</div>"
      ]
     },
     "metadata": {},
     "output_type": "display_data"
    }
   ],
   "execution_count": 299
  },
  {
   "metadata": {
    "ExecuteTime": {
     "end_time": "2024-05-30T16:22:20.243039Z",
     "start_time": "2024-05-30T16:22:20.229893Z"
    }
   },
   "cell_type": "code",
   "source": [
    "# Analyze data types\n",
    "df_info = pd.DataFrame({'Column Name': birthwt.columns, 'Data Type': birthwt.dtypes})\n",
    "display(df_info.T)"
   ],
   "id": "9fab52bc91da81c7",
   "outputs": [
    {
     "data": {
      "text/plain": [
       "               low    age    lwt   race  smoke    ptl     ht     ui    ftv  \\\n",
       "Column Name    low    age    lwt   race  smoke    ptl     ht     ui    ftv   \n",
       "Data Type    int64  int64  int64  int64  int64  int64  int64  int64  int64   \n",
       "\n",
       "               bwt  \n",
       "Column Name    bwt  \n",
       "Data Type    int64  "
      ],
      "text/html": [
       "<div>\n",
       "<style scoped>\n",
       "    .dataframe tbody tr th:only-of-type {\n",
       "        vertical-align: middle;\n",
       "    }\n",
       "\n",
       "    .dataframe tbody tr th {\n",
       "        vertical-align: top;\n",
       "    }\n",
       "\n",
       "    .dataframe thead th {\n",
       "        text-align: right;\n",
       "    }\n",
       "</style>\n",
       "<table border=\"1\" class=\"dataframe\">\n",
       "  <thead>\n",
       "    <tr style=\"text-align: right;\">\n",
       "      <th></th>\n",
       "      <th>low</th>\n",
       "      <th>age</th>\n",
       "      <th>lwt</th>\n",
       "      <th>race</th>\n",
       "      <th>smoke</th>\n",
       "      <th>ptl</th>\n",
       "      <th>ht</th>\n",
       "      <th>ui</th>\n",
       "      <th>ftv</th>\n",
       "      <th>bwt</th>\n",
       "    </tr>\n",
       "  </thead>\n",
       "  <tbody>\n",
       "    <tr>\n",
       "      <th>Column Name</th>\n",
       "      <td>low</td>\n",
       "      <td>age</td>\n",
       "      <td>lwt</td>\n",
       "      <td>race</td>\n",
       "      <td>smoke</td>\n",
       "      <td>ptl</td>\n",
       "      <td>ht</td>\n",
       "      <td>ui</td>\n",
       "      <td>ftv</td>\n",
       "      <td>bwt</td>\n",
       "    </tr>\n",
       "    <tr>\n",
       "      <th>Data Type</th>\n",
       "      <td>int64</td>\n",
       "      <td>int64</td>\n",
       "      <td>int64</td>\n",
       "      <td>int64</td>\n",
       "      <td>int64</td>\n",
       "      <td>int64</td>\n",
       "      <td>int64</td>\n",
       "      <td>int64</td>\n",
       "      <td>int64</td>\n",
       "      <td>int64</td>\n",
       "    </tr>\n",
       "  </tbody>\n",
       "</table>\n",
       "</div>"
      ]
     },
     "metadata": {},
     "output_type": "display_data"
    }
   ],
   "execution_count": 300
  },
  {
   "metadata": {
    "ExecuteTime": {
     "end_time": "2024-05-30T16:22:20.475645Z",
     "start_time": "2024-05-30T16:22:20.462370Z"
    }
   },
   "cell_type": "code",
   "source": [
    "# Determine which columns are suitable for dependent variables or independent variables categorization\n",
    "independentVariables, dependentVariables = categorize_variables(birthwt)\n",
    "\n",
    "print(colored(f\"The independent variables are: {independentVariables}\", outputColor))\n",
    "print(colored(f\"The dependent variables are: {dependentVariables}\", outputColor))\n",
    "\n",
    "print(colored(f\"\\nAll variables are dependent variables, therefore you can choose which one you want to make independent for prediction purposes.\", outputColor))\n",
    "print(colored(f\"We will choose as dependent variable the 'smoke' column.\", outputColor))\n",
    "print(colored(f\"We will choose as independent variables 'age', 'lwt' and 'bwt' because these are not correlated (Derived from).\", outputColor))"
   ],
   "id": "520516e3e67b6092",
   "outputs": [
    {
     "name": "stdout",
     "output_type": "stream",
     "text": [
      "\u001B[34mThe independent variables are: ['low', 'age', 'lwt', 'race', 'smoke', 'ptl', 'ht', 'ui', 'ftv', 'bwt']\u001B[0m\n",
      "\u001B[34mThe dependent variables are: []\u001B[0m\n",
      "\u001B[34m\n",
      "All variables are dependent variables, therefore you can choose which one you want to make independent for prediction purposes.\u001B[0m\n",
      "\u001B[34mWe will choose as dependent variable the 'smoke' column.\u001B[0m\n",
      "\u001B[34mWe will choose as independent variables 'age', 'lwt' and 'bwt' because these are not correlated (Derived from).\u001B[0m\n"
     ]
    }
   ],
   "execution_count": 301
  },
  {
   "metadata": {
    "ExecuteTime": {
     "end_time": "2024-05-30T16:22:20.725315Z",
     "start_time": "2024-05-30T16:22:20.713163Z"
    }
   },
   "cell_type": "code",
   "source": [
    "# Create linear discriminant analysis model\n",
    "independentVariables = birthwt[['age', 'lwt', 'bwt']] # Independent variables\n",
    "dependentVariable = birthwt['smoke']                  # Dependent variable\n",
    "lda = LinearDiscriminantAnalysis()\n",
    "lda.fit(independentVariables, dependentVariable)\n",
    "\n",
    "# Show some information about the discriminant analysis\n",
    "print(colored(f\"There is {(len(dependentVariable.unique()))-1} dimension and there are {len(dependentVariable.unique())} different possibilities for the dependent variable and also, there are {len(independentVariables.columns)} independent variables.\", outputColor))"
   ],
   "id": "ff23662b00e694dc",
   "outputs": [
    {
     "name": "stdout",
     "output_type": "stream",
     "text": [
      "\u001B[34mThere is 1 dimension and there are 2 different possibilities for the dependent variable and also, there are 3 independent variables.\u001B[0m\n"
     ]
    }
   ],
   "execution_count": 302
  },
  {
   "metadata": {
    "ExecuteTime": {
     "end_time": "2024-05-30T16:22:21.428013Z",
     "start_time": "2024-05-30T16:22:21.025400Z"
    }
   },
   "cell_type": "code",
   "source": [
    "# Visualize the results of the discriminant analysis (smoking status during pregnancy)\n",
    "birthwt[\"LD1\"] = lda.transform(independentVariables)[:, 0]\n",
    "plt.figure(figsize=(10, 5))\n",
    "birthwt['LD1'][birthwt['smoke'] == 0].hist(bins=25, density=True, edgecolor='black', color='green', alpha=0.7, label='Non-Smoker')\n",
    "birthwt['LD1'][birthwt['smoke'] == 1].hist(bins=25, density=True, edgecolor='black', color='red', alpha=0.7, label='Smoker')\n",
    "plt.title('Discriminant Analysis Results')\n",
    "plt.legend()\n",
    "plt.grid(False)\n",
    "plt.show()"
   ],
   "id": "9cf75c6a51bd00f9",
   "outputs": [
    {
     "data": {
      "text/plain": [
       "<Figure size 1000x500 with 1 Axes>"
      ],
      "image/png": "[encoded data removed]"
     },
     "metadata": {},
     "output_type": "display_data"
    }
   ],
   "execution_count": 303
  },
  {
   "metadata": {},
   "cell_type": "markdown",
   "source": [
    "### Question 4:\n",
    "- Find the dataset `/Data/Cars93.csv` and place it in a data frame.\n",
    "    - Analyze the type of data in this dataset.\n",
    "    - Split the data set into two: \n",
    "        - The first `90` rows as a `learning data set` for why you are going to apply a discriminant analysis.\n",
    "        - The last `3` rows to `check` whether the obtained discriminant analysis places these cars in the correct class places.\n",
    "    - Which columns can be used as dependent variables for a discriminant analysis?\n",
    "    - Which columns can be used as independent variables for a discriminant analysis?\n",
    "    - Apply a discriminant analysis to this data set. Take the `Type` column as the dependent variable and all usable columns as the independent variables.\n",
    "    - How many dimensions does the discriminant analysis have?\n",
    "    - Apply the obtained discriminant analysis using the predict command to the last `3` rows of the original data. Will all `3` cars be placed in the correct class?\n",
    "\n",
    "**Name of Columns & Meaning**:\n",
    "- `Manufacturer`: Manufacturer of the car\n",
    "- `Model`: Model of the car\n",
    "- `Type`: A factor with levels `Small`, `Sporty`, `Compact`, `Midsize`, `Large` and `Van`\n",
    "- `Min.Price`: Minimum Price (in \\$1,000) price of a basic version of the car\n",
    "- `Price`: Midrange Price (in \\$1,000) average of `Min.Price` and `Max.Price`\n",
    "- `Max.Price`: Maximum Price (in \\$1,000) price of `a premium version` of the car\n",
    "- `MPG.city`: City MPG (miles per US gallon by EPA rating)\n",
    "- `MPG.highway`: Highway MPG\n",
    "- `AirBags`: AirBags standard. Factor: `None`, `Driver only`, `Driver` & `Passenger`\n",
    "- `DriveTrain`: Drive train type: `Real wheel`, `Front wheel` or `4WD` (factor)\n",
    "- `Cylinders`: Number of cylinders (missing for Mazda RX-7, which has a rotary engine)\n",
    "- `EngineSize`: Engine size (liters)\n",
    "- `Horsepower`: Horsepower (maximum)\n",
    "- `RPM`: RPM (revs per minute at maximum horsepower)\n",
    "- `Rev.per.mile`: Engine revolutions per mile (in the highest gear)\n",
    "- `Man.trans.avail`: Is a manual transmission available? Factor with levels `Yes` and `No`\n",
    "- `Fuel.tank.capacity`: Fuel tank capacity (US gallons)\n",
    "- `Passengers`: Passenger capacity (persons)"
   ],
   "id": "ad01c43da2da573f"
  },
  {
   "metadata": {
    "ExecuteTime": {
     "end_time": "2024-05-30T16:22:21.677930Z",
     "start_time": "2024-05-30T16:22:21.618032Z"
    }
   },
   "cell_type": "code",
   "source": [
    "# Load in data and filter data\n",
    "cars93 = pd.read_csv('../Data/Cars93.csv', delimiter=';', decimal='.')\n",
    "display(cars93.head())"
   ],
   "id": "f5aefe141240f49b",
   "outputs": [
    {
     "data": {
      "text/plain": [
       "  Manufacturer    Model     Type  Min.Price  Price  Max.Price  MPG.city  \\\n",
       "0        Acura  Integra    Small       12.9   15.9       18.8        25   \n",
       "1        Acura   Legend  Midsize       29.2   33.9       38.7        18   \n",
       "2         Audi       90  Compact       25.9   29.1       32.3        20   \n",
       "3         Audi      100  Midsize       30.8   37.7       44.6        19   \n",
       "4          BMW     535i  Midsize       23.7   30.0       36.2        22   \n",
       "\n",
       "   MPG.highway             AirBags DriveTrain  ... Passengers  Length  \\\n",
       "0           31                 NaN      Front  ...          5     177   \n",
       "1           25  Driver & Passenger      Front  ...          5     195   \n",
       "2           26         Driver only      Front  ...          5     180   \n",
       "3           26  Driver & Passenger      Front  ...          6     193   \n",
       "4           30         Driver only       Rear  ...          4     186   \n",
       "\n",
       "   Wheelbase  Width  Turn.circle Rear.seat.room  Luggage.room  Weight  \\\n",
       "0        102     68           37           26.5          11.0    2705   \n",
       "1        115     71           38           30.0          15.0    3560   \n",
       "2        102     67           37           28.0          14.0    3375   \n",
       "3        106     70           37           31.0          17.0    3405   \n",
       "4        109     69           39           27.0          13.0    3640   \n",
       "\n",
       "    Origin           Make  \n",
       "0  non-USA  Acura Integra  \n",
       "1  non-USA   Acura Legend  \n",
       "2  non-USA        Audi 90  \n",
       "3  non-USA       Audi 100  \n",
       "4  non-USA       BMW 535i  \n",
       "\n",
       "[5 rows x 27 columns]"
      ],
      "text/html": [
       "<div>\n",
       "<style scoped>\n",
       "    .dataframe tbody tr th:only-of-type {\n",
       "        vertical-align: middle;\n",
       "    }\n",
       "\n",
       "    .dataframe tbody tr th {\n",
       "        vertical-align: top;\n",
       "    }\n",
       "\n",
       "    .dataframe thead th {\n",
       "        text-align: right;\n",
       "    }\n",
       "</style>\n",
       "<table border=\"1\" class=\"dataframe\">\n",
       "  <thead>\n",
       "    <tr style=\"text-align: right;\">\n",
       "      <th></th>\n",
       "      <th>Manufacturer</th>\n",
       "      <th>Model</th>\n",
       "      <th>Type</th>\n",
       "      <th>Min.Price</th>\n",
       "      <th>Price</th>\n",
       "      <th>Max.Price</th>\n",
       "      <th>MPG.city</th>\n",
       "      <th>MPG.highway</th>\n",
       "      <th>AirBags</th>\n",
       "      <th>DriveTrain</th>\n",
       "      <th>...</th>\n",
       "      <th>Passengers</th>\n",
       "      <th>Length</th>\n",
       "      <th>Wheelbase</th>\n",
       "      <th>Width</th>\n",
       "      <th>Turn.circle</th>\n",
       "      <th>Rear.seat.room</th>\n",
       "      <th>Luggage.room</th>\n",
       "      <th>Weight</th>\n",
       "      <th>Origin</th>\n",
       "      <th>Make</th>\n",
       "    </tr>\n",
       "  </thead>\n",
       "  <tbody>\n",
       "    <tr>\n",
       "      <th>0</th>\n",
       "      <td>Acura</td>\n",
       "      <td>Integra</td>\n",
       "      <td>Small</td>\n",
       "      <td>12.9</td>\n",
       "      <td>15.9</td>\n",
       "      <td>18.8</td>\n",
       "      <td>25</td>\n",
       "      <td>31</td>\n",
       "      <td>NaN</td>\n",
       "      <td>Front</td>\n",
       "      <td>...</td>\n",
       "      <td>5</td>\n",
       "      <td>177</td>\n",
       "      <td>102</td>\n",
       "      <td>68</td>\n",
       "      <td>37</td>\n",
       "      <td>26.5</td>\n",
       "      <td>11.0</td>\n",
       "      <td>2705</td>\n",
       "      <td>non-USA</td>\n",
       "      <td>Acura Integra</td>\n",
       "    </tr>\n",
       "    <tr>\n",
       "      <th>1</th>\n",
       "      <td>Acura</td>\n",
       "      <td>Legend</td>\n",
       "      <td>Midsize</td>\n",
       "      <td>29.2</td>\n",
       "      <td>33.9</td>\n",
       "      <td>38.7</td>\n",
       "      <td>18</td>\n",
       "      <td>25</td>\n",
       "      <td>Driver &amp; Passenger</td>\n",
       "      <td>Front</td>\n",
       "      <td>...</td>\n",
       "      <td>5</td>\n",
       "      <td>195</td>\n",
       "      <td>115</td>\n",
       "      <td>71</td>\n",
       "      <td>38</td>\n",
       "      <td>30.0</td>\n",
       "      <td>15.0</td>\n",
       "      <td>3560</td>\n",
       "      <td>non-USA</td>\n",
       "      <td>Acura Legend</td>\n",
       "    </tr>\n",
       "    <tr>\n",
       "      <th>2</th>\n",
       "      <td>Audi</td>\n",
       "      <td>90</td>\n",
       "      <td>Compact</td>\n",
       "      <td>25.9</td>\n",
       "      <td>29.1</td>\n",
       "      <td>32.3</td>\n",
       "      <td>20</td>\n",
       "      <td>26</td>\n",
       "      <td>Driver only</td>\n",
       "      <td>Front</td>\n",
       "      <td>...</td>\n",
       "      <td>5</td>\n",
       "      <td>180</td>\n",
       "      <td>102</td>\n",
       "      <td>67</td>\n",
       "      <td>37</td>\n",
       "      <td>28.0</td>\n",
       "      <td>14.0</td>\n",
       "      <td>3375</td>\n",
       "      <td>non-USA</td>\n",
       "      <td>Audi 90</td>\n",
       "    </tr>\n",
       "    <tr>\n",
       "      <th>3</th>\n",
       "      <td>Audi</td>\n",
       "      <td>100</td>\n",
       "      <td>Midsize</td>\n",
       "      <td>30.8</td>\n",
       "      <td>37.7</td>\n",
       "      <td>44.6</td>\n",
       "      <td>19</td>\n",
       "      <td>26</td>\n",
       "      <td>Driver &amp; Passenger</td>\n",
       "      <td>Front</td>\n",
       "      <td>...</td>\n",
       "      <td>6</td>\n",
       "      <td>193</td>\n",
       "      <td>106</td>\n",
       "      <td>70</td>\n",
       "      <td>37</td>\n",
       "      <td>31.0</td>\n",
       "      <td>17.0</td>\n",
       "      <td>3405</td>\n",
       "      <td>non-USA</td>\n",
       "      <td>Audi 100</td>\n",
       "    </tr>\n",
       "    <tr>\n",
       "      <th>4</th>\n",
       "      <td>BMW</td>\n",
       "      <td>535i</td>\n",
       "      <td>Midsize</td>\n",
       "      <td>23.7</td>\n",
       "      <td>30.0</td>\n",
       "      <td>36.2</td>\n",
       "      <td>22</td>\n",
       "      <td>30</td>\n",
       "      <td>Driver only</td>\n",
       "      <td>Rear</td>\n",
       "      <td>...</td>\n",
       "      <td>4</td>\n",
       "      <td>186</td>\n",
       "      <td>109</td>\n",
       "      <td>69</td>\n",
       "      <td>39</td>\n",
       "      <td>27.0</td>\n",
       "      <td>13.0</td>\n",
       "      <td>3640</td>\n",
       "      <td>non-USA</td>\n",
       "      <td>BMW 535i</td>\n",
       "    </tr>\n",
       "  </tbody>\n",
       "</table>\n",
       "<p>5 rows × 27 columns</p>\n",
       "</div>"
      ]
     },
     "metadata": {},
     "output_type": "display_data"
    }
   ],
   "execution_count": 304
  },
  {
   "metadata": {
    "ExecuteTime": {
     "end_time": "2024-05-30T16:22:21.881396Z",
     "start_time": "2024-05-30T16:22:21.854375Z"
    }
   },
   "cell_type": "code",
   "source": [
    "# Analyze data types\n",
    "df_info = pd.DataFrame({'Column Name': cars93.columns, 'Data Type': cars93.dtypes})\n",
    "display(df_info)"
   ],
   "id": "87996e56c5049ebf",
   "outputs": [
    {
     "data": {
      "text/plain": [
       "                           Column Name Data Type\n",
       "Manufacturer              Manufacturer    object\n",
       "Model                            Model    object\n",
       "Type                              Type    object\n",
       "Min.Price                    Min.Price   float64\n",
       "Price                            Price   float64\n",
       "Max.Price                    Max.Price   float64\n",
       "MPG.city                      MPG.city     int64\n",
       "MPG.highway                MPG.highway     int64\n",
       "AirBags                        AirBags    object\n",
       "DriveTrain                  DriveTrain    object\n",
       "Cylinders                    Cylinders    object\n",
       "EngineSize                  EngineSize   float64\n",
       "Horsepower                  Horsepower     int64\n",
       "RPM                                RPM     int64\n",
       "Rev.per.mile              Rev.per.mile     int64\n",
       "Man.trans.avail        Man.trans.avail    object\n",
       "Fuel.tank.capacity  Fuel.tank.capacity   float64\n",
       "Passengers                  Passengers     int64\n",
       "Length                          Length     int64\n",
       "Wheelbase                    Wheelbase     int64\n",
       "Width                            Width     int64\n",
       "Turn.circle                Turn.circle     int64\n",
       "Rear.seat.room          Rear.seat.room   float64\n",
       "Luggage.room              Luggage.room   float64\n",
       "Weight                          Weight     int64\n",
       "Origin                          Origin    object\n",
       "Make                              Make    object"
      ],
      "text/html": [
       "<div>\n",
       "<style scoped>\n",
       "    .dataframe tbody tr th:only-of-type {\n",
       "        vertical-align: middle;\n",
       "    }\n",
       "\n",
       "    .dataframe tbody tr th {\n",
       "        vertical-align: top;\n",
       "    }\n",
       "\n",
       "    .dataframe thead th {\n",
       "        text-align: right;\n",
       "    }\n",
       "</style>\n",
       "<table border=\"1\" class=\"dataframe\">\n",
       "  <thead>\n",
       "    <tr style=\"text-align: right;\">\n",
       "      <th></th>\n",
       "      <th>Column Name</th>\n",
       "      <th>Data Type</th>\n",
       "    </tr>\n",
       "  </thead>\n",
       "  <tbody>\n",
       "    <tr>\n",
       "      <th>Manufacturer</th>\n",
       "      <td>Manufacturer</td>\n",
       "      <td>object</td>\n",
       "    </tr>\n",
       "    <tr>\n",
       "      <th>Model</th>\n",
       "      <td>Model</td>\n",
       "      <td>object</td>\n",
       "    </tr>\n",
       "    <tr>\n",
       "      <th>Type</th>\n",
       "      <td>Type</td>\n",
       "      <td>object</td>\n",
       "    </tr>\n",
       "    <tr>\n",
       "      <th>Min.Price</th>\n",
       "      <td>Min.Price</td>\n",
       "      <td>float64</td>\n",
       "    </tr>\n",
       "    <tr>\n",
       "      <th>Price</th>\n",
       "      <td>Price</td>\n",
       "      <td>float64</td>\n",
       "    </tr>\n",
       "    <tr>\n",
       "      <th>Max.Price</th>\n",
       "      <td>Max.Price</td>\n",
       "      <td>float64</td>\n",
       "    </tr>\n",
       "    <tr>\n",
       "      <th>MPG.city</th>\n",
       "      <td>MPG.city</td>\n",
       "      <td>int64</td>\n",
       "    </tr>\n",
       "    <tr>\n",
       "      <th>MPG.highway</th>\n",
       "      <td>MPG.highway</td>\n",
       "      <td>int64</td>\n",
       "    </tr>\n",
       "    <tr>\n",
       "      <th>AirBags</th>\n",
       "      <td>AirBags</td>\n",
       "      <td>object</td>\n",
       "    </tr>\n",
       "    <tr>\n",
       "      <th>DriveTrain</th>\n",
       "      <td>DriveTrain</td>\n",
       "      <td>object</td>\n",
       "    </tr>\n",
       "    <tr>\n",
       "      <th>Cylinders</th>\n",
       "      <td>Cylinders</td>\n",
       "      <td>object</td>\n",
       "    </tr>\n",
       "    <tr>\n",
       "      <th>EngineSize</th>\n",
       "      <td>EngineSize</td>\n",
       "      <td>float64</td>\n",
       "    </tr>\n",
       "    <tr>\n",
       "      <th>Horsepower</th>\n",
       "      <td>Horsepower</td>\n",
       "      <td>int64</td>\n",
       "    </tr>\n",
       "    <tr>\n",
       "      <th>RPM</th>\n",
       "      <td>RPM</td>\n",
       "      <td>int64</td>\n",
       "    </tr>\n",
       "    <tr>\n",
       "      <th>Rev.per.mile</th>\n",
       "      <td>Rev.per.mile</td>\n",
       "      <td>int64</td>\n",
       "    </tr>\n",
       "    <tr>\n",
       "      <th>Man.trans.avail</th>\n",
       "      <td>Man.trans.avail</td>\n",
       "      <td>object</td>\n",
       "    </tr>\n",
       "    <tr>\n",
       "      <th>Fuel.tank.capacity</th>\n",
       "      <td>Fuel.tank.capacity</td>\n",
       "      <td>float64</td>\n",
       "    </tr>\n",
       "    <tr>\n",
       "      <th>Passengers</th>\n",
       "      <td>Passengers</td>\n",
       "      <td>int64</td>\n",
       "    </tr>\n",
       "    <tr>\n",
       "      <th>Length</th>\n",
       "      <td>Length</td>\n",
       "      <td>int64</td>\n",
       "    </tr>\n",
       "    <tr>\n",
       "      <th>Wheelbase</th>\n",
       "      <td>Wheelbase</td>\n",
       "      <td>int64</td>\n",
       "    </tr>\n",
       "    <tr>\n",
       "      <th>Width</th>\n",
       "      <td>Width</td>\n",
       "      <td>int64</td>\n",
       "    </tr>\n",
       "    <tr>\n",
       "      <th>Turn.circle</th>\n",
       "      <td>Turn.circle</td>\n",
       "      <td>int64</td>\n",
       "    </tr>\n",
       "    <tr>\n",
       "      <th>Rear.seat.room</th>\n",
       "      <td>Rear.seat.room</td>\n",
       "      <td>float64</td>\n",
       "    </tr>\n",
       "    <tr>\n",
       "      <th>Luggage.room</th>\n",
       "      <td>Luggage.room</td>\n",
       "      <td>float64</td>\n",
       "    </tr>\n",
       "    <tr>\n",
       "      <th>Weight</th>\n",
       "      <td>Weight</td>\n",
       "      <td>int64</td>\n",
       "    </tr>\n",
       "    <tr>\n",
       "      <th>Origin</th>\n",
       "      <td>Origin</td>\n",
       "      <td>object</td>\n",
       "    </tr>\n",
       "    <tr>\n",
       "      <th>Make</th>\n",
       "      <td>Make</td>\n",
       "      <td>object</td>\n",
       "    </tr>\n",
       "  </tbody>\n",
       "</table>\n",
       "</div>"
      ]
     },
     "metadata": {},
     "output_type": "display_data"
    }
   ],
   "execution_count": 305
  },
  {
   "metadata": {
    "ExecuteTime": {
     "end_time": "2024-05-30T16:22:22.318149Z",
     "start_time": "2024-05-30T16:22:22.296137Z"
    }
   },
   "cell_type": "code",
   "source": [
    "# Splitting data\n",
    "cars93 = cars93.dropna()\n",
    "learningData = cars93.iloc[:50]         # The 1st 50 rows.\n",
    "validationData = cars93.iloc[-4:]       # The last 4 rows.\n",
    "\n",
    "# Determine which columns are suitable for dependent variables or independent variables categorization\n",
    "independentVariables, dependentVariables = categorize_variables(learningData)\n",
    "\n",
    "print(colored(f\"The independent variables are: {independentVariables}\\n\", outputColor))\n",
    "print(colored(f\"The dependent variables are: {dependentVariables}\", outputColor))"
   ],
   "id": "27bbf62a1b3d16b3",
   "outputs": [
    {
     "name": "stdout",
     "output_type": "stream",
     "text": [
      "\u001B[34mThe independent variables are: ['Min.Price', 'Price', 'Max.Price', 'MPG.city', 'MPG.highway', 'EngineSize', 'Horsepower', 'RPM', 'Rev.per.mile', 'Fuel.tank.capacity', 'Passengers', 'Length', 'Wheelbase', 'Width', 'Turn.circle', 'Rear.seat.room', 'Luggage.room', 'Weight']\n",
      "\u001B[0m\n",
      "\u001B[34mThe dependent variables are: ['Manufacturer', 'Model', 'Type', 'AirBags', 'DriveTrain', 'Cylinders', 'Man.trans.avail', 'Origin', 'Make']\u001B[0m\n"
     ]
    }
   ],
   "execution_count": 306
  },
  {
   "metadata": {
    "ExecuteTime": {
     "end_time": "2024-05-30T16:22:22.599893Z",
     "start_time": "2024-05-30T16:22:22.584775Z"
    }
   },
   "cell_type": "code",
   "source": [
    "# Create linear discriminant analysis model\n",
    "independentVariables = learningData[['Min.Price', 'Price', 'Max.Price', 'MPG.city', 'MPG.highway', 'EngineSize', \n",
    "                                     'Horsepower', 'RPM', 'Rev.per.mile', 'Fuel.tank.capacity', 'Passengers', 'Length', \n",
    "                                     'Wheelbase', 'Width', 'Turn.circle', 'Rear.seat.room', 'Luggage.room', 'Weight']]  # Independent variables\n",
    "dependentVariable = learningData['Type']                                                                                # Dependent variable\n",
    "lda = LinearDiscriminantAnalysis()\n",
    "lda.fit(independentVariables, dependentVariable)\n",
    "\n",
    "# Show some information about the discriminant analysis\n",
    "print(colored(f\"There are {(len(dependentVariable.unique()))-1} dimensions and there are {len(dependentVariable.unique())} different possibilities for the dependent variable and also, there are {len(independentVariables.columns)} independent variables.\", outputColor))"
   ],
   "id": "baf480c61775f17c",
   "outputs": [
    {
     "name": "stdout",
     "output_type": "stream",
     "text": [
      "\u001B[34mThere are 4 dimensions and there are 5 different possibilities for the dependent variable and also, there are 18 independent variables.\u001B[0m\n"
     ]
    }
   ],
   "execution_count": 307
  },
  {
   "metadata": {
    "ExecuteTime": {
     "end_time": "2024-05-30T16:22:22.832635Z",
     "start_time": "2024-05-30T16:22:22.819112Z"
    }
   },
   "cell_type": "code",
   "source": [
    "# Predict with validation data\n",
    "predicted = lda.predict(validationData[['Min.Price', 'Price', 'Max.Price', 'MPG.city', 'MPG.highway', 'EngineSize', \n",
    "                                     'Horsepower', 'RPM', 'Rev.per.mile', 'Fuel.tank.capacity', 'Passengers', 'Length', \n",
    "                                     'Wheelbase', 'Width', 'Turn.circle', 'Rear.seat.room', 'Luggage.room', 'Weight']])\n",
    "\n",
    "print(colored(f\"Predicted values: {predicted}\", outputColor))\n",
    "print(colored(f\"Actual values: {validationData['Type'].values}\", outputColor))\n",
    "\n",
    "# Evaluating model\n",
    "correct = np.mean(predicted == validationData['Type'])\n",
    "print(colored(f\"\\nThe percentage of cars that are correctly classified is: {round(correct, 2) * 100}%\", outputColor))\n",
    "\n",
    "predicted = lda.predict(independentVariables)\n",
    "accuracy = np.mean(predicted == dependentVariable)\n",
    "\n",
    "# Accuracy: The sum of all correct predictions divided by the total sum.\n",
    "print(colored(f\"The accuracy of the discriminant analysis model is: {round(accuracy, 2) * 100}%\\n\", outputColor))"
   ],
   "id": "5788cbef4d4518c",
   "outputs": [
    {
     "name": "stdout",
     "output_type": "stream",
     "text": [
      "\u001B[34mPredicted values: ['Sporty' 'Compact' 'Compact' 'Midsize']\u001B[0m\n",
      "\u001B[34mActual values: ['Sporty' 'Midsize' 'Compact' 'Midsize']\u001B[0m\n",
      "\u001B[34m\n",
      "The percentage of cars that are correctly classified is: 75.0%\u001B[0m\n",
      "\u001B[34mThe accuracy of the discriminant analysis model is: 94.0%\n",
      "\u001B[0m\n"
     ]
    }
   ],
   "execution_count": 308
  },
  {
   "metadata": {},
   "cell_type": "markdown",
   "source": "## Exercises Evaluation Metrics (Week 2)",
   "id": "53b575c45cdfc517"
  },
  {
   "metadata": {},
   "cell_type": "markdown",
   "source": [
    "### Question 1:\n",
    "- In the table below you will find the confusion matrix of a binary classifier.\n",
    "\n",
    "|            | Predicted YES | Predicted NO | Total |\n",
    "|------------|---------------|--------------|-------|\n",
    "| Actual YES | 100           | 5            | 105   |\n",
    "| Actual NO  | 10            | 50           | 60    |\n",
    "| Total      | 110           | 55           | 165   |\n",
    "\n",
    "- **NOTE**: \n",
    "    - YES = Positive\n",
    "    - NO = Negative\n",
    "\n",
    "\n",
    "- Now answer the following questions:\n",
    "     - What are the values for TP, TN, FP, FN?\n",
    "     - Now calculate the accuracy, precision and recall.\n",
    "     - Calculate the F1 measures and F1.5 measures.\n",
    "     - What is the TPR and FPR? Compare with your recall. What do you determine?"
   ],
   "id": "2e40c7e137da8d14"
  },
  {
   "metadata": {
    "ExecuteTime": {
     "end_time": "2024-05-30T16:22:23.253736Z",
     "start_time": "2024-05-30T16:22:23.233863Z"
    }
   },
   "cell_type": "code",
   "source": [
    "# Load in data\n",
    "confusion_matrix1 = pd.DataFrame(data=[[100, 5], [10, 50]], \n",
    "                                 columns=['Predicted YES', 'Predicted NO'], \n",
    "                                 index=['Actual YES', 'Actual NO'])\n",
    "display(confusion_matrix1)"
   ],
   "id": "cc7546ca11e1b3d4",
   "outputs": [
    {
     "data": {
      "text/plain": [
       "            Predicted YES  Predicted NO\n",
       "Actual YES            100             5\n",
       "Actual NO              10            50"
      ],
      "text/html": [
       "<div>\n",
       "<style scoped>\n",
       "    .dataframe tbody tr th:only-of-type {\n",
       "        vertical-align: middle;\n",
       "    }\n",
       "\n",
       "    .dataframe tbody tr th {\n",
       "        vertical-align: top;\n",
       "    }\n",
       "\n",
       "    .dataframe thead th {\n",
       "        text-align: right;\n",
       "    }\n",
       "</style>\n",
       "<table border=\"1\" class=\"dataframe\">\n",
       "  <thead>\n",
       "    <tr style=\"text-align: right;\">\n",
       "      <th></th>\n",
       "      <th>Predicted YES</th>\n",
       "      <th>Predicted NO</th>\n",
       "    </tr>\n",
       "  </thead>\n",
       "  <tbody>\n",
       "    <tr>\n",
       "      <th>Actual YES</th>\n",
       "      <td>100</td>\n",
       "      <td>5</td>\n",
       "    </tr>\n",
       "    <tr>\n",
       "      <th>Actual NO</th>\n",
       "      <td>10</td>\n",
       "      <td>50</td>\n",
       "    </tr>\n",
       "  </tbody>\n",
       "</table>\n",
       "</div>"
      ]
     },
     "metadata": {},
     "output_type": "display_data"
    }
   ],
   "execution_count": 309
  },
  {
   "metadata": {
    "ExecuteTime": {
     "end_time": "2024-05-30T16:22:23.395056Z",
     "start_time": "2024-05-30T16:22:23.381675Z"
    }
   },
   "cell_type": "code",
   "source": [
    "# Calculating the TP, TN, FP en FN.\n",
    "TP1, TN1, FP1, FN1 = calculate_confusion_metrics(confusion_matrix1, 'Predicted YES')\n",
    "\n",
    "# True Positives (TP): The number of correct positive predictions.\n",
    "print(colored(f\"True Positives (TP): {TP1}\", outputColor))\n",
    "\n",
    "# True Negatives (TN): The number of correct negative predictions.\n",
    "print(colored(f\"True Negatives (TN): {TN1}\", outputColor))\n",
    "\n",
    "# False Positives (FP): The number of incorrect positive predictions.\n",
    "print(colored(f\"False Positives (FP): {FP1}\", outputColor))\n",
    "\n",
    "# False Negatives (FN): The number of incorrect negative predictions.\n",
    "print(colored(f\"False Negatives (FN): {FN1}\", outputColor))"
   ],
   "id": "3504195a9a40b58b",
   "outputs": [
    {
     "name": "stdout",
     "output_type": "stream",
     "text": [
      "\u001B[34mTrue Positives (TP): 100\u001B[0m\n",
      "\u001B[34mTrue Negatives (TN): 50\u001B[0m\n",
      "\u001B[34mFalse Positives (FP): 10\u001B[0m\n",
      "\u001B[34mFalse Negatives (FN): 5\u001B[0m\n"
     ]
    }
   ],
   "execution_count": 310
  },
  {
   "metadata": {
    "ExecuteTime": {
     "end_time": "2024-05-30T16:22:23.599168Z",
     "start_time": "2024-05-30T16:22:23.585232Z"
    }
   },
   "cell_type": "code",
   "source": [
    "# Evaluating model\n",
    "accuracy = accuracyf(confusion_matrix1)\n",
    "\n",
    "precision_yes = precisionf(confusion_matrix1)[0]\n",
    "precision_no = precisionf(confusion_matrix1)[1]\n",
    "\n",
    "recall_yes = recallf(confusion_matrix1)[0]\n",
    "recall_no = recallf(confusion_matrix1)[1]\n",
    "\n",
    "f1_yes = f_measuref(confusion_matrix1, 1)[0]\n",
    "f1_no = f_measuref(confusion_matrix1, 1)[1]\n",
    "\n",
    "f15_yes = f_measuref(confusion_matrix1, 1.5)[0]\n",
    "f15_no = f_measuref(confusion_matrix1, 1.5)[1]\n",
    "\n",
    "# Accuracy: The sum of all correct predictions divided by the total sum.\n",
    "print(colored(f\"The accuracy of the classifier is: {round(accuracy, 2) * 100}%\\n\", outputColor))\n",
    "\n",
    "# Precision: The number of correct positive predictions divided by the total predictions.\n",
    "print(colored(f\"The precision of the classifier for yes is: {round(precision_yes, 2) * 100}%\", outputColor))\n",
    "print(colored(f\"The precision of the classifier for no is: {round(precision_no, 2) * 100}%\\n\", outputColor))\n",
    "\n",
    "# Recall: The number of correct positive predictions divided by the number of total positives.\n",
    "print(colored(f\"The recall of the binary classifier for yes is: {round(recall_yes, 2) * 100}%\", outputColor))\n",
    "print(colored(f\"The recall of the binary classifier for no is: {round(recall_no, 2) * 100}%\\n\", outputColor))\n",
    "\n",
    "# F-measuref: The curved harmonic mean of precision and recall.\n",
    "print(colored(f\"The F1-measure of the binary classifier for yes is: {round(f1_yes, 2) * 100}%\", outputColor))\n",
    "print(colored(f\"The F1-measure of the binary classifier for no is: {round(f1_no, 2) * 100}%\\n\", outputColor))\n",
    "\n",
    "print(colored(f\"The F1.5-measure of the binary classifier for yes is: {round(f15_yes, 2) * 100}%\", outputColor))\n",
    "print(colored(f\"The F1.5-measure of the binary classifier for no is: {round(f15_no, 2) * 100}%\\n\", outputColor))\n",
    "\n",
    "evaluate_classifier(confusion_matrix1, 1, 0.9)"
   ],
   "id": "cee8c9075bebc1dc",
   "outputs": [
    {
     "name": "stdout",
     "output_type": "stream",
     "text": [
      "\u001B[34mThe accuracy of the classifier is: 91.0%\n",
      "\u001B[0m\n",
      "\u001B[34mThe precision of the classifier for yes is: 91.0%\u001B[0m\n",
      "\u001B[34mThe precision of the classifier for no is: 91.0%\n",
      "\u001B[0m\n",
      "\u001B[34mThe recall of the binary classifier for yes is: 95.0%\u001B[0m\n",
      "\u001B[34mThe recall of the binary classifier for no is: 83.0%\n",
      "\u001B[0m\n",
      "\u001B[34mThe F1-measure of the binary classifier for yes is: 93.0%\u001B[0m\n",
      "\u001B[34mThe F1-measure of the binary classifier for no is: 87.0%\n",
      "\u001B[0m\n",
      "\u001B[34mThe F1.5-measure of the binary classifier for yes is: 94.0%\u001B[0m\n",
      "\u001B[34mThe F1.5-measure of the binary classifier for no is: 86.0%\n",
      "\u001B[0m\n",
      "\u001B[34mThis is a bad classifier with a threshold of 90.0%\u001B[0m\n"
     ]
    }
   ],
   "execution_count": 311
  },
  {
   "metadata": {
    "ExecuteTime": {
     "end_time": "2024-05-30T16:22:23.817121Z",
     "start_time": "2024-05-30T16:22:23.802605Z"
    }
   },
   "cell_type": "code",
   "source": [
    "# Calculating the TPR, FPR and comparing it with the recall.\n",
    "positiveratesf(confusion_matrix1)\n",
    "print(colored(f\"Recall Yes: {recall_yes}\", outputColor))\n",
    "print(colored(f\"'TPF' is equal to the 'recall_yes'\", outputColor))"
   ],
   "id": "9ec82740e9826289",
   "outputs": [
    {
     "name": "stdout",
     "output_type": "stream",
     "text": [
      "\u001B[34mTPR: 0.9523809523809523\u001B[0m\n",
      "\u001B[34mFPR: 0.16666666666666666\u001B[0m\n",
      "\u001B[34mRecall Yes: 0.9523809523809523\u001B[0m\n",
      "\u001B[34m'TPF' is equal to the 'recall_yes'\u001B[0m\n"
     ]
    }
   ],
   "execution_count": 312
  },
  {
   "metadata": {},
   "cell_type": "markdown",
   "source": [
    "### Question 2:\n",
    "- In the table below you will find the confusion matrix of a binary classifier.\n",
    "\n",
    "|            | Predicted YES | Predicted NO | Total |\n",
    "|------------|---------------|--------------|-------|\n",
    "| Actual A   | 100           | 0            | 100   |\n",
    "| Actual B   | 50            | 5            | 55    |\n",
    "| Total      | 150           | 5            | 155   |\n",
    "\n",
    "- **NOTE**: \n",
    "    - YES = Positive\n",
    "    - NO = Negative\n",
    "\n",
    "\n",
    "- Now answer the following questions:\n",
    "     - What are the values for TP, TN, FP, FN?\n",
    "     - Calculate the accuracy, precision and recall, and F1.\n",
    "     - Is this a good classifier?"
   ],
   "id": "b6cc7fb08fce5bc3"
  },
  {
   "metadata": {
    "ExecuteTime": {
     "end_time": "2024-05-30T16:22:23.957696Z",
     "start_time": "2024-05-30T16:22:23.943179Z"
    }
   },
   "cell_type": "code",
   "source": [
    "# Load in data\n",
    "confusion_matrix2 = pd.DataFrame(data=[[100, 0], [50, 5]], \n",
    "                                 columns=['Predicted YES', 'Predicted NO'], \n",
    "                                 index=['Actual A', 'Actual B'])\n",
    "display(confusion_matrix2)"
   ],
   "id": "4d7801e018790c30",
   "outputs": [
    {
     "data": {
      "text/plain": [
       "          Predicted YES  Predicted NO\n",
       "Actual A            100             0\n",
       "Actual B             50             5"
      ],
      "text/html": [
       "<div>\n",
       "<style scoped>\n",
       "    .dataframe tbody tr th:only-of-type {\n",
       "        vertical-align: middle;\n",
       "    }\n",
       "\n",
       "    .dataframe tbody tr th {\n",
       "        vertical-align: top;\n",
       "    }\n",
       "\n",
       "    .dataframe thead th {\n",
       "        text-align: right;\n",
       "    }\n",
       "</style>\n",
       "<table border=\"1\" class=\"dataframe\">\n",
       "  <thead>\n",
       "    <tr style=\"text-align: right;\">\n",
       "      <th></th>\n",
       "      <th>Predicted YES</th>\n",
       "      <th>Predicted NO</th>\n",
       "    </tr>\n",
       "  </thead>\n",
       "  <tbody>\n",
       "    <tr>\n",
       "      <th>Actual A</th>\n",
       "      <td>100</td>\n",
       "      <td>0</td>\n",
       "    </tr>\n",
       "    <tr>\n",
       "      <th>Actual B</th>\n",
       "      <td>50</td>\n",
       "      <td>5</td>\n",
       "    </tr>\n",
       "  </tbody>\n",
       "</table>\n",
       "</div>"
      ]
     },
     "metadata": {},
     "output_type": "display_data"
    }
   ],
   "execution_count": 313
  },
  {
   "metadata": {
    "ExecuteTime": {
     "end_time": "2024-05-30T16:22:24.237512Z",
     "start_time": "2024-05-30T16:22:24.223722Z"
    }
   },
   "cell_type": "code",
   "source": [
    "# Calculating the TP, TN, FP en FN.\n",
    "TP1, TN1, FP1, FN1 = calculate_confusion_metrics(confusion_matrix2, 'Predicted YES')\n",
    "\n",
    "# True Positives (TP): The number of correct positive predictions.\n",
    "print(colored(f\"True Positives (TP): {TP1}\", outputColor))\n",
    "\n",
    "# True Negatives (TN): The number of correct negative predictions.\n",
    "print(colored(f\"True Negatives (TN): {TN1}\", outputColor))\n",
    "\n",
    "# False Positives (FP): The number of incorrect positive predictions.\n",
    "print(colored(f\"False Positives (FP): {FP1}\", outputColor))\n",
    "\n",
    "# False Negatives (FN): The number of incorrect negative predictions.\n",
    "print(colored(f\"False Negatives (FN): {FN1}\", outputColor))"
   ],
   "id": "79b15b6173d19acc",
   "outputs": [
    {
     "name": "stdout",
     "output_type": "stream",
     "text": [
      "\u001B[34mTrue Positives (TP): 100\u001B[0m\n",
      "\u001B[34mTrue Negatives (TN): 5\u001B[0m\n",
      "\u001B[34mFalse Positives (FP): 50\u001B[0m\n",
      "\u001B[34mFalse Negatives (FN): 0\u001B[0m\n"
     ]
    }
   ],
   "execution_count": 314
  },
  {
   "metadata": {
    "ExecuteTime": {
     "end_time": "2024-05-30T16:22:24.346295Z",
     "start_time": "2024-05-30T16:22:24.325480Z"
    }
   },
   "cell_type": "code",
   "source": [
    "# Evaluating model\n",
    "accuracy = accuracyf(confusion_matrix2)\n",
    "\n",
    "precision_yes = precisionf(confusion_matrix2)[0]\n",
    "precision_no = precisionf(confusion_matrix2)[1]\n",
    "\n",
    "recall_yes = recallf(confusion_matrix2)[0]\n",
    "recall_no = recallf(confusion_matrix2)[1]\n",
    "\n",
    "f1_yes = f_measuref(confusion_matrix2, 1)[0]\n",
    "f1_no = f_measuref(confusion_matrix2, 1)[1]\n",
    "\n",
    "# Accuracy: The sum of all correct predictions divided by the total sum.\n",
    "print(colored(f\"The accuracy of the classifier is: {round(accuracy, 2) * 100}%\\n\", outputColor))\n",
    "\n",
    "# Precision: The number of correct positive predictions divided by the total predictions.\n",
    "print(colored(f\"The precision of the classifier for yes is: {round(precision_yes, 2) * 100}%\", outputColor))\n",
    "print(colored(f\"The precision of the classifier for no is: {round(precision_no, 2) * 100}%\\n\", outputColor))\n",
    "\n",
    "# Recall: The number of correct positive predictions divided by the number of total positives.\n",
    "print(colored(f\"The recall of the binary classifier for yes is: {round(recall_yes, 2) * 100}%\", outputColor))\n",
    "print(colored(f\"The recall of the binary classifier for no is: {round(recall_no, 2) * 100}%\\n\", outputColor))\n",
    "\n",
    "# F-measuref: The curved harmonic mean of precision and recall.\n",
    "print(colored(f\"The F1-measure of the binary classifier for yes is: {round(f1_yes, 2) * 100}%\", outputColor))\n",
    "print(colored(f\"The F1-measure of the binary classifier for no is: {round(f1_no, 2) * 100}%\\n\", outputColor))\n",
    "\n",
    "evaluate_classifier(confusion_matrix2, 1, 0.9)"
   ],
   "id": "c0d0983f0b53078e",
   "outputs": [
    {
     "name": "stdout",
     "output_type": "stream",
     "text": [
      "\u001B[34mThe accuracy of the classifier is: 68.0%\n",
      "\u001B[0m\n",
      "\u001B[34mThe precision of the classifier for yes is: 67.0%\u001B[0m\n",
      "\u001B[34mThe precision of the classifier for no is: 100.0%\n",
      "\u001B[0m\n",
      "\u001B[34mThe recall of the binary classifier for yes is: 100.0%\u001B[0m\n",
      "\u001B[34mThe recall of the binary classifier for no is: 9.0%\n",
      "\u001B[0m\n",
      "\u001B[34mThe F1-measure of the binary classifier for yes is: 80.0%\u001B[0m\n",
      "\u001B[34mThe F1-measure of the binary classifier for no is: 17.0%\n",
      "\u001B[0m\n",
      "\u001B[34mThis is a bad classifier with a threshold of 90.0%\u001B[0m\n"
     ]
    }
   ],
   "execution_count": 315
  },
  {
   "metadata": {},
   "cell_type": "markdown",
   "source": [
    "### Question 3:\n",
    "- In the table below you will find the confusion matrix of a multiclass classifier.\n",
    "\n",
    "|            | Asfalt | Beton | Gras | Boom | Gebouw | Total |\n",
    "|------------|--------|-------|------|------|--------|-------|\n",
    "| Asfalt     | 2385   | 0     | 0    | 0    | 12     | 2397  |\n",
    "| Beton      | 4      | 332   | 1    | 0    | 0      | 337   |\n",
    "| Gras       | 0      | 0     | 908  | 0    | 0      | 908   |\n",
    "| Boom       | 1      | 0     | 8    | 1084 | 6      | 1099  |\n",
    "| Gebouw     | 4      | 1     | 0    | 9    | 2053   | 2067  |\n",
    "| Total      | 2394   | 333   | 917  | 1093 | 2071   | 6808  |\n",
    "\n",
    "- Beantwoord nu de volgende vragen:\n",
    "    - What are the values for TP, FP, FN for the `Gras` class?\n",
    "    - Now calculate the accuracy, precision and recall per class with these functions.\n",
    "    - Is this a good classifier?\n"
   ],
   "id": "f8c9e32b5e8193f8"
  },
  {
   "metadata": {
    "ExecuteTime": {
     "end_time": "2024-05-30T16:22:24.562180Z",
     "start_time": "2024-05-30T16:22:24.548862Z"
    }
   },
   "cell_type": "code",
   "source": [
    "# Load in data\n",
    "confusion_matrix3 = pd.DataFrame(data=[[2385, 0, 0, 0, 12], [4, 332, 1, 0, 0], [0, 0, 908, 0, 0], [1, 0, 8, 1084, 6], [4, 1, 0, 9, 2053]], \n",
    "                                 columns=['Asfalt', 'Beton', 'Gras', 'Boom', 'Gebouw'], \n",
    "                                 index=['Asfalt', 'Beton', 'Gras', 'Boom', 'Gebouw'])\n",
    "display(confusion_matrix3)"
   ],
   "id": "50950c018a53a950",
   "outputs": [
    {
     "data": {
      "text/plain": [
       "        Asfalt  Beton  Gras  Boom  Gebouw\n",
       "Asfalt    2385      0     0     0      12\n",
       "Beton        4    332     1     0       0\n",
       "Gras         0      0   908     0       0\n",
       "Boom         1      0     8  1084       6\n",
       "Gebouw       4      1     0     9    2053"
      ],
      "text/html": [
       "<div>\n",
       "<style scoped>\n",
       "    .dataframe tbody tr th:only-of-type {\n",
       "        vertical-align: middle;\n",
       "    }\n",
       "\n",
       "    .dataframe tbody tr th {\n",
       "        vertical-align: top;\n",
       "    }\n",
       "\n",
       "    .dataframe thead th {\n",
       "        text-align: right;\n",
       "    }\n",
       "</style>\n",
       "<table border=\"1\" class=\"dataframe\">\n",
       "  <thead>\n",
       "    <tr style=\"text-align: right;\">\n",
       "      <th></th>\n",
       "      <th>Asfalt</th>\n",
       "      <th>Beton</th>\n",
       "      <th>Gras</th>\n",
       "      <th>Boom</th>\n",
       "      <th>Gebouw</th>\n",
       "    </tr>\n",
       "  </thead>\n",
       "  <tbody>\n",
       "    <tr>\n",
       "      <th>Asfalt</th>\n",
       "      <td>2385</td>\n",
       "      <td>0</td>\n",
       "      <td>0</td>\n",
       "      <td>0</td>\n",
       "      <td>12</td>\n",
       "    </tr>\n",
       "    <tr>\n",
       "      <th>Beton</th>\n",
       "      <td>4</td>\n",
       "      <td>332</td>\n",
       "      <td>1</td>\n",
       "      <td>0</td>\n",
       "      <td>0</td>\n",
       "    </tr>\n",
       "    <tr>\n",
       "      <th>Gras</th>\n",
       "      <td>0</td>\n",
       "      <td>0</td>\n",
       "      <td>908</td>\n",
       "      <td>0</td>\n",
       "      <td>0</td>\n",
       "    </tr>\n",
       "    <tr>\n",
       "      <th>Boom</th>\n",
       "      <td>1</td>\n",
       "      <td>0</td>\n",
       "      <td>8</td>\n",
       "      <td>1084</td>\n",
       "      <td>6</td>\n",
       "    </tr>\n",
       "    <tr>\n",
       "      <th>Gebouw</th>\n",
       "      <td>4</td>\n",
       "      <td>1</td>\n",
       "      <td>0</td>\n",
       "      <td>9</td>\n",
       "      <td>2053</td>\n",
       "    </tr>\n",
       "  </tbody>\n",
       "</table>\n",
       "</div>"
      ]
     },
     "metadata": {},
     "output_type": "display_data"
    }
   ],
   "execution_count": 316
  },
  {
   "metadata": {
    "ExecuteTime": {
     "end_time": "2024-05-30T16:22:24.702551Z",
     "start_time": "2024-05-30T16:22:24.688446Z"
    }
   },
   "cell_type": "code",
   "source": [
    "# Calculating the TP, TN, FP en FN.\n",
    "TP1, TN1, FP1, FN1 = calculate_confusion_metrics(confusion_matrix3, 'Gras')\n",
    "\n",
    "# True Positives (TP): The number of correct positive predictions.\n",
    "print(colored(f\"True Positives (TP): {TP1}\", outputColor))\n",
    "\n",
    "# False Positives (FP): The number of incorrect positive predictions.\n",
    "print(colored(f\"False Positives (FP): {FP1}\", outputColor))\n",
    "\n",
    "# False Negatives (FN): The number of incorrect negative predictions.\n",
    "print(colored(f\"False Negatives (FN): {FN1}\", outputColor))"
   ],
   "id": "2dad524cf342d8ab",
   "outputs": [
    {
     "name": "stdout",
     "output_type": "stream",
     "text": [
      "\u001B[34mTrue Positives (TP): 908\u001B[0m\n",
      "\u001B[34mFalse Positives (FP): 9\u001B[0m\n",
      "\u001B[34mFalse Negatives (FN): 0\u001B[0m\n"
     ]
    }
   ],
   "execution_count": 317
  },
  {
   "metadata": {
    "ExecuteTime": {
     "end_time": "2024-05-30T16:22:25.123381Z",
     "start_time": "2024-05-30T16:22:25.100141Z"
    }
   },
   "cell_type": "code",
   "source": [
    "# Evaluating model\n",
    "accuracy = accuracyf(confusion_matrix3)\n",
    "\n",
    "precision_asfalt = precisionf(confusion_matrix3)[0]\n",
    "precision_beton = precisionf(confusion_matrix3)[1]\n",
    "precision_gras = precisionf(confusion_matrix3)[2]\n",
    "precision_boom = precisionf(confusion_matrix3)[3]\n",
    "precision_gebouw = precisionf(confusion_matrix3)[4]\n",
    "\n",
    "recall_asfalt = recallf(confusion_matrix3)[0]\n",
    "recall_beton = recallf(confusion_matrix3)[1]\n",
    "recall_gras = recallf(confusion_matrix3)[2]\n",
    "recall_boom = recallf(confusion_matrix3)[3]\n",
    "recall_gebouw = recallf(confusion_matrix3)[4]\n",
    "\n",
    "f1_asfalt = f_measuref(confusion_matrix3, 1)[0]\n",
    "f1_beton = f_measuref(confusion_matrix3, 1)[1]\n",
    "f1_gras = f_measuref(confusion_matrix3, 1)[2]\n",
    "f1_boom = f_measuref(confusion_matrix3, 1)[3]\n",
    "f1_gebouw = f_measuref(confusion_matrix3, 1)[4]\n",
    "\n",
    "# Accuracy: The sum of all correct predictions divided by the total sum.\n",
    "print(colored(f\"The accuracy of the classifier is: {round(accuracy, 2) * 100}%\\n\", outputColor))\n",
    "\n",
    "# Precision: The number of correct positive predictions divided by the total predictions.\n",
    "print(colored(f\"The precision of the classifier for asfalt is: {round(precision_asfalt, 2) * 100}%\", outputColor))\n",
    "print(colored(f\"The precision of the classifier for beton is: {round(precision_beton, 2) * 100}%\", outputColor))\n",
    "print(colored(f\"The precision of the classifier for gras is: {round(precision_gras, 2) * 100}%\", outputColor))\n",
    "print(colored(f\"The precision of the classifier for boom is: {round(precision_boom, 2) * 100}%\", outputColor))\n",
    "print(colored(f\"The precision of the classifier for gebouw is: {round(precision_gebouw, 2) * 100}%\\n\", outputColor))\n",
    "\n",
    "# Recall: The number of correct positive predictions divided by the number of total positives.\n",
    "print(colored(f\"The recall of the binary classifier for asfalt is: {round(recall_asfalt, 2) * 100}%\", outputColor))\n",
    "print(colored(f\"The recall of the binary classifier for beton is: {round(recall_beton, 2) * 100}%\", outputColor))\n",
    "print(colored(f\"The recall of the binary classifier for gras is: {round(recall_gras, 2) * 100}%\", outputColor))\n",
    "print(colored(f\"The recall of the binary classifier for boom is: {round(recall_boom, 2) * 100}%\", outputColor))\n",
    "print(colored(f\"The recall of the binary classifier for gebouw is: {round(recall_gebouw, 2) * 100}%\\n\", outputColor))\n",
    "\n",
    "# F-measuref: The curved harmonic mean of precision and recall.\n",
    "print(colored(f\"The F1-measure of the binary classifier for asfalt is: {round(f1_asfalt, 2) * 100}%\", outputColor))\n",
    "print(colored(f\"The F1-measure of the binary classifier for beton is: {round(f1_beton, 2) * 100}%\", outputColor))\n",
    "print(colored(f\"The F1-measure of the binary classifier for gras is: {round(f1_gras, 2) * 100}%\", outputColor))\n",
    "print(colored(f\"The F1-measure of the binary classifier for boom is: {round(f1_boom, 2) * 100}%\", outputColor))\n",
    "print(colored(f\"The F1-measure of the binary classifier for gebouw is: {round(f1_gebouw, 2) * 100}%\\n\", outputColor))"
   ],
   "id": "efaa9165b2b78571",
   "outputs": [
    {
     "name": "stdout",
     "output_type": "stream",
     "text": [
      "\u001B[34mThe accuracy of the classifier is: 99.0%\n",
      "\u001B[0m\n",
      "\u001B[34mThe precision of the classifier for asfalt is: 100.0%\u001B[0m\n",
      "\u001B[34mThe precision of the classifier for beton is: 100.0%\u001B[0m\n",
      "\u001B[34mThe precision of the classifier for gras is: 99.0%\u001B[0m\n",
      "\u001B[34mThe precision of the classifier for boom is: 99.0%\u001B[0m\n",
      "\u001B[34mThe precision of the classifier for gebouw is: 99.0%\n",
      "\u001B[0m\n",
      "\u001B[34mThe recall of the binary classifier for asfalt is: 99.0%\u001B[0m\n",
      "\u001B[34mThe recall of the binary classifier for beton is: 99.0%\u001B[0m\n",
      "\u001B[34mThe recall of the binary classifier for gras is: 100.0%\u001B[0m\n",
      "\u001B[34mThe recall of the binary classifier for boom is: 99.0%\u001B[0m\n",
      "\u001B[34mThe recall of the binary classifier for gebouw is: 99.0%\n",
      "\u001B[0m\n",
      "\u001B[34mThe F1-measure of the binary classifier for asfalt is: 100.0%\u001B[0m\n",
      "\u001B[34mThe F1-measure of the binary classifier for beton is: 99.0%\u001B[0m\n",
      "\u001B[34mThe F1-measure of the binary classifier for gras is: 100.0%\u001B[0m\n",
      "\u001B[34mThe F1-measure of the binary classifier for boom is: 99.0%\u001B[0m\n",
      "\u001B[34mThe F1-measure of the binary classifier for gebouw is: 99.0%\n",
      "\u001B[0m\n"
     ]
    }
   ],
   "execution_count": 318
  },
  {
   "metadata": {
    "ExecuteTime": {
     "end_time": "2024-05-30T16:22:25.297090Z",
     "start_time": "2024-05-30T16:22:25.272354Z"
    }
   },
   "cell_type": "code",
   "source": "evaluate_classifier(confusion_matrix3, 1, 0.9)",
   "id": "e29f45750193d77f",
   "outputs": [
    {
     "name": "stdout",
     "output_type": "stream",
     "text": [
      "\u001B[34mThis is a good classifier with a threshold of 90.0%\u001B[0m\n"
     ]
    }
   ],
   "execution_count": 319
  },
  {
   "metadata": {},
   "cell_type": "markdown",
   "source": [
    "### Question 4:\n",
    "- Read the data in the file `..\\Data\\Simpsons_roc1` & `..\\Data\\Simpsons_roc2`. Do you notice any differences?\n",
    "     - Use the `plot_roc` function to draw the ROC curve.\n",
    "     - What is the best threshold value?\n",
    "     - What is the AUC? What does it mean?\n",
    "     - Apply the found threshold value to the `y_score` column (this column contains the results of a neural network predict_proba function) to create a new predicted column.\n"
   ],
   "id": "fc8425b21e0a9909"
  },
  {
   "metadata": {
    "ExecuteTime": {
     "end_time": "2024-05-30T16:22:25.565761Z",
     "start_time": "2024-05-30T16:22:25.535898Z"
    }
   },
   "cell_type": "code",
   "source": [
    "from IPython.display import display, HTML\n",
    "\n",
    "# Load in data and filter data\n",
    "simpsons_roc1 = pd.read_csv('../Data/Simpsons_roc1.csv', delimiter=',', decimal='.')\n",
    "simpsons_roc2 = pd.read_csv('../Data/Simpsons_roc2.csv', delimiter=',', decimal='.')\n",
    "\n",
    "# Create HTML code\n",
    "combined_html = f\"\"\"\n",
    "<table>\n",
    "    <tr>\n",
    "        <p>----------Simpsons Roc 1--------------------Simpsons Roc 2----------</p>\n",
    "        <td>{simpsons_roc1.to_html()}</td>\n",
    "        <td>{simpsons_roc2.to_html()}</td>\n",
    "    </tr>\n",
    "</table>\n",
    "\"\"\"\n",
    "print(colored(f\"They are practically the same.\", outputColor))\n",
    "display(HTML(combined_html))"
   ],
   "id": "bd2c27a3c6e56514",
   "outputs": [
    {
     "name": "stdout",
     "output_type": "stream",
     "text": [
      "\u001B[34mThey are practically the same.\u001B[0m\n"
     ]
    },
    {
     "data": {
      "text/plain": [
       "<IPython.core.display.HTML object>"
      ],
      "text/html": [
       "\n",
       "<table>\n",
       "    <tr>\n",
       "        <p>----------Simpsons Roc 1--------------------Simpsons Roc 2----------</p>\n",
       "        <td><table border=\"1\" class=\"dataframe\">\n",
       "  <thead>\n",
       "    <tr style=\"text-align: right;\">\n",
       "      <th></th>\n",
       "      <th>y_true</th>\n",
       "      <th>y_score</th>\n",
       "    </tr>\n",
       "  </thead>\n",
       "  <tbody>\n",
       "    <tr>\n",
       "      <th>0</th>\n",
       "      <td>0</td>\n",
       "      <td>0.001611</td>\n",
       "    </tr>\n",
       "    <tr>\n",
       "      <th>1</th>\n",
       "      <td>1</td>\n",
       "      <td>0.568856</td>\n",
       "    </tr>\n",
       "    <tr>\n",
       "      <th>2</th>\n",
       "      <td>0</td>\n",
       "      <td>0.224951</td>\n",
       "    </tr>\n",
       "    <tr>\n",
       "      <th>3</th>\n",
       "      <td>1</td>\n",
       "      <td>0.678186</td>\n",
       "    </tr>\n",
       "    <tr>\n",
       "      <th>4</th>\n",
       "      <td>1</td>\n",
       "      <td>0.780744</td>\n",
       "    </tr>\n",
       "    <tr>\n",
       "      <th>5</th>\n",
       "      <td>0</td>\n",
       "      <td>0.030405</td>\n",
       "    </tr>\n",
       "    <tr>\n",
       "      <th>6</th>\n",
       "      <td>1</td>\n",
       "      <td>0.431997</td>\n",
       "    </tr>\n",
       "    <tr>\n",
       "      <th>7</th>\n",
       "      <td>0</td>\n",
       "      <td>0.346567</td>\n",
       "    </tr>\n",
       "    <tr>\n",
       "      <th>8</th>\n",
       "      <td>0</td>\n",
       "      <td>0.102228</td>\n",
       "    </tr>\n",
       "  </tbody>\n",
       "</table></td>\n",
       "        <td><table border=\"1\" class=\"dataframe\">\n",
       "  <thead>\n",
       "    <tr style=\"text-align: right;\">\n",
       "      <th></th>\n",
       "      <th>y_true</th>\n",
       "      <th>y_score</th>\n",
       "    </tr>\n",
       "  </thead>\n",
       "  <tbody>\n",
       "    <tr>\n",
       "      <th>0</th>\n",
       "      <td>0</td>\n",
       "      <td>2.877834e-10</td>\n",
       "    </tr>\n",
       "    <tr>\n",
       "      <th>1</th>\n",
       "      <td>1</td>\n",
       "      <td>7.970729e-01</td>\n",
       "    </tr>\n",
       "    <tr>\n",
       "      <th>2</th>\n",
       "      <td>0</td>\n",
       "      <td>2.533495e-03</td>\n",
       "    </tr>\n",
       "    <tr>\n",
       "      <th>3</th>\n",
       "      <td>1</td>\n",
       "      <td>9.756606e-01</td>\n",
       "    </tr>\n",
       "    <tr>\n",
       "      <th>4</th>\n",
       "      <td>1</td>\n",
       "      <td>9.971678e-01</td>\n",
       "    </tr>\n",
       "    <tr>\n",
       "      <th>5</th>\n",
       "      <td>0</td>\n",
       "      <td>2.030402e-02</td>\n",
       "    </tr>\n",
       "    <tr>\n",
       "      <th>6</th>\n",
       "      <td>1</td>\n",
       "      <td>5.763744e-01</td>\n",
       "    </tr>\n",
       "    <tr>\n",
       "      <th>7</th>\n",
       "      <td>0</td>\n",
       "      <td>1.594006e-01</td>\n",
       "    </tr>\n",
       "    <tr>\n",
       "      <th>8</th>\n",
       "      <td>0</td>\n",
       "      <td>1.794845e-03</td>\n",
       "    </tr>\n",
       "  </tbody>\n",
       "</table></td>\n",
       "    </tr>\n",
       "</table>\n"
      ]
     },
     "metadata": {},
     "output_type": "display_data"
    }
   ],
   "execution_count": 320
  },
  {
   "metadata": {
    "ExecuteTime": {
     "end_time": "2024-05-30T16:22:26.612190Z",
     "start_time": "2024-05-30T16:22:25.834496Z"
    }
   },
   "cell_type": "code",
   "source": [
    "# Plot ROC curve for Simpsons Roc 1 & 2\n",
    "plot_rocf(y_true=simpsons_roc1['y_true'], y_score=simpsons_roc1['y_score'], title='Simpsons Roc 1 ROC Curve')\n",
    "plot_rocf(y_true=simpsons_roc2['y_true'], y_score=simpsons_roc2['y_score'], title='Simpsons Roc 2 ROC Curve')"
   ],
   "id": "642f17525483ccb8",
   "outputs": [
    {
     "data": {
      "text/plain": [
       "<Figure size 700x700 with 1 Axes>"
      ],
      "image/png": "[encoded data removed]"
     },
     "metadata": {},
     "output_type": "display_data"
    },
    {
     "data": {
      "text/plain": [
       "<Figure size 700x700 with 1 Axes>"
      ],
      "image/png": "[encoded data removed]"
     },
     "metadata": {},
     "output_type": "display_data"
    }
   ],
   "execution_count": 321
  },
  {
   "metadata": {
    "ExecuteTime": {
     "end_time": "2024-05-30T16:22:26.643310Z",
     "start_time": "2024-05-30T16:22:26.615496Z"
    }
   },
   "cell_type": "code",
   "source": [
    "# Calculate Based Threshold Value\n",
    "best_threshold1 = find_best_threshold(simpsons_roc1['y_true'], simpsons_roc1['y_score'])\n",
    "best_threshold2 = find_best_threshold(simpsons_roc2['y_true'], simpsons_roc2['y_score'])\n",
    "\n",
    "# Based Threshold Value: The threshold value that gives the best results for a specific metric.\n",
    "print(colored(f\"The best threshold value for Simpsons Roc 1 is: {round(best_threshold1 * 100, 2)}%\", outputColor))\n",
    "print(colored(f\"The best threshold value for Simpsons Roc 2 is: {round(best_threshold2 * 100, 2)}%\\n\", outputColor))\n",
    "\n",
    "if best_threshold1 > best_threshold2:\n",
    "    print(colored(f\"Simpsons Roc 1 has a higher threshold value than Simpsons Roc 2.\\n\", outputColor))\n",
    "elif best_threshold1 < best_threshold2:\n",
    "    print(colored(f\"Simpsons Roc 2 has a higher threshold value than Simpsons Roc 1.\\n\", outputColor))\n",
    "else:\n",
    "    print(colored(f\"The threshold values are the same.\\n\", outputColor))\n",
    "\n",
    "# Calculate AUC (Area Under Curve)\n",
    "auc1 = roc_auc_score(simpsons_roc1['y_true'], simpsons_roc1['y_score'])\n",
    "auc2 = roc_auc_score(simpsons_roc2['y_true'], simpsons_roc2['y_score'])\n",
    "\n",
    "# Area Under Curve: If the binary classifier can distinguish the two better, the number is higher.\n",
    "print(colored(f\"The AUC for Simpsons Roc 1 is: {round(auc1, 2)}%\", outputColor))\n",
    "print(colored(f\"The AUC for Simpsons Roc 2 is: {round(auc2, 2)}%\\n\", outputColor))\n",
    "\n",
    "if auc1 > auc2:\n",
    "    print(colored(f\"Simpsons Roc 1 has a higher AUC value than Simpsons Roc 2.\\n\", outputColor))\n",
    "elif auc1 < auc2:\n",
    "    print(colored(f\"Simpsons Roc 2 has a higher AUC value than Simpsons Roc 1.\\n\", outputColor))\n",
    "else:\n",
    "    print(colored(f\"The AUC values are the same.\\n\", outputColor))"
   ],
   "id": "ba4707b3cd271f39",
   "outputs": [
    {
     "name": "stdout",
     "output_type": "stream",
     "text": [
      "\u001B[34mThe best threshold value for Simpsons Roc 1 is: 43.2%\u001B[0m\n",
      "\u001B[34mThe best threshold value for Simpsons Roc 2 is: 57.64%\n",
      "\u001B[0m\n",
      "\u001B[34mSimpsons Roc 2 has a higher threshold value than Simpsons Roc 1.\n",
      "\u001B[0m\n",
      "\u001B[34mThe AUC for Simpsons Roc 1 is: 1.0%\u001B[0m\n",
      "\u001B[34mThe AUC for Simpsons Roc 2 is: 1.0%\n",
      "\u001B[0m\n",
      "\u001B[34mThe AUC values are the same.\n",
      "\u001B[0m\n"
     ]
    }
   ],
   "execution_count": 322
  },
  {
   "metadata": {
    "ExecuteTime": {
     "end_time": "2024-05-30T16:22:26.675789Z",
     "start_time": "2024-05-30T16:22:26.646109Z"
    }
   },
   "cell_type": "code",
   "source": [
    "# Apply threshold value to y_score column\n",
    "simpsons_roc1['y_pred'] = simpsons_roc1['y_score'].apply(lambda x: 1 if x > best_threshold1 else 0)\n",
    "simpsons_roc2['y_pred'] = simpsons_roc2['y_score'].apply(lambda x: 1 if x > best_threshold2 else 0)\n",
    "\n",
    "# Calculate accuracy of prediction\n",
    "accuracy1 = np.mean(simpsons_roc1['y_true'] == simpsons_roc1['y_pred'])\n",
    "accuracy2 = np.mean(simpsons_roc2['y_true'] == simpsons_roc2['y_pred'])\n",
    "print(colored(f\"The accuracy of the ANN for Simpsons Roc 1 is: {round(accuracy1, 2) * 100}%\\n\", outputColor))\n",
    "print(colored(f\"The accuracy of the ANN for Simpsons Roc 2 is: {round(accuracy2, 2) * 100}%\\n\", outputColor))\n",
    "\n",
    "# Show prediction\n",
    "combined_html = f\"\"\"\n",
    "<table>\n",
    "    <tr>\n",
    "        <p>---------------Simpsons Roc 1-----------------------------------Simpsons Roc 2---------------</p>\n",
    "        <td>{simpsons_roc1.to_html()}</td>\n",
    "        <td>{simpsons_roc2.to_html()}</td>\n",
    "    </tr>\n",
    "</table>\n",
    "\"\"\"\n",
    "display(HTML(combined_html))"
   ],
   "id": "a68fd34b8c274554",
   "outputs": [
    {
     "name": "stdout",
     "output_type": "stream",
     "text": [
      "\u001B[34mThe accuracy of the ANN for Simpsons Roc 1 is: 89.0%\n",
      "\u001B[0m\n",
      "\u001B[34mThe accuracy of the ANN for Simpsons Roc 2 is: 89.0%\n",
      "\u001B[0m\n"
     ]
    },
    {
     "data": {
      "text/plain": [
       "<IPython.core.display.HTML object>"
      ],
      "text/html": [
       "\n",
       "<table>\n",
       "    <tr>\n",
       "        <p>---------------Simpsons Roc 1-----------------------------------Simpsons Roc 2---------------</p>\n",
       "        <td><table border=\"1\" class=\"dataframe\">\n",
       "  <thead>\n",
       "    <tr style=\"text-align: right;\">\n",
       "      <th></th>\n",
       "      <th>y_true</th>\n",
       "      <th>y_score</th>\n",
       "      <th>y_pred</th>\n",
       "    </tr>\n",
       "  </thead>\n",
       "  <tbody>\n",
       "    <tr>\n",
       "      <th>0</th>\n",
       "      <td>0</td>\n",
       "      <td>0.001611</td>\n",
       "      <td>0</td>\n",
       "    </tr>\n",
       "    <tr>\n",
       "      <th>1</th>\n",
       "      <td>1</td>\n",
       "      <td>0.568856</td>\n",
       "      <td>1</td>\n",
       "    </tr>\n",
       "    <tr>\n",
       "      <th>2</th>\n",
       "      <td>0</td>\n",
       "      <td>0.224951</td>\n",
       "      <td>0</td>\n",
       "    </tr>\n",
       "    <tr>\n",
       "      <th>3</th>\n",
       "      <td>1</td>\n",
       "      <td>0.678186</td>\n",
       "      <td>1</td>\n",
       "    </tr>\n",
       "    <tr>\n",
       "      <th>4</th>\n",
       "      <td>1</td>\n",
       "      <td>0.780744</td>\n",
       "      <td>1</td>\n",
       "    </tr>\n",
       "    <tr>\n",
       "      <th>5</th>\n",
       "      <td>0</td>\n",
       "      <td>0.030405</td>\n",
       "      <td>0</td>\n",
       "    </tr>\n",
       "    <tr>\n",
       "      <th>6</th>\n",
       "      <td>1</td>\n",
       "      <td>0.431997</td>\n",
       "      <td>0</td>\n",
       "    </tr>\n",
       "    <tr>\n",
       "      <th>7</th>\n",
       "      <td>0</td>\n",
       "      <td>0.346567</td>\n",
       "      <td>0</td>\n",
       "    </tr>\n",
       "    <tr>\n",
       "      <th>8</th>\n",
       "      <td>0</td>\n",
       "      <td>0.102228</td>\n",
       "      <td>0</td>\n",
       "    </tr>\n",
       "  </tbody>\n",
       "</table></td>\n",
       "        <td><table border=\"1\" class=\"dataframe\">\n",
       "  <thead>\n",
       "    <tr style=\"text-align: right;\">\n",
       "      <th></th>\n",
       "      <th>y_true</th>\n",
       "      <th>y_score</th>\n",
       "      <th>y_pred</th>\n",
       "    </tr>\n",
       "  </thead>\n",
       "  <tbody>\n",
       "    <tr>\n",
       "      <th>0</th>\n",
       "      <td>0</td>\n",
       "      <td>2.877834e-10</td>\n",
       "      <td>0</td>\n",
       "    </tr>\n",
       "    <tr>\n",
       "      <th>1</th>\n",
       "      <td>1</td>\n",
       "      <td>7.970729e-01</td>\n",
       "      <td>1</td>\n",
       "    </tr>\n",
       "    <tr>\n",
       "      <th>2</th>\n",
       "      <td>0</td>\n",
       "      <td>2.533495e-03</td>\n",
       "      <td>0</td>\n",
       "    </tr>\n",
       "    <tr>\n",
       "      <th>3</th>\n",
       "      <td>1</td>\n",
       "      <td>9.756606e-01</td>\n",
       "      <td>1</td>\n",
       "    </tr>\n",
       "    <tr>\n",
       "      <th>4</th>\n",
       "      <td>1</td>\n",
       "      <td>9.971678e-01</td>\n",
       "      <td>1</td>\n",
       "    </tr>\n",
       "    <tr>\n",
       "      <th>5</th>\n",
       "      <td>0</td>\n",
       "      <td>2.030402e-02</td>\n",
       "      <td>0</td>\n",
       "    </tr>\n",
       "    <tr>\n",
       "      <th>6</th>\n",
       "      <td>1</td>\n",
       "      <td>5.763744e-01</td>\n",
       "      <td>0</td>\n",
       "    </tr>\n",
       "    <tr>\n",
       "      <th>7</th>\n",
       "      <td>0</td>\n",
       "      <td>1.594006e-01</td>\n",
       "      <td>0</td>\n",
       "    </tr>\n",
       "    <tr>\n",
       "      <th>8</th>\n",
       "      <td>0</td>\n",
       "      <td>1.794845e-03</td>\n",
       "      <td>0</td>\n",
       "    </tr>\n",
       "  </tbody>\n",
       "</table></td>\n",
       "    </tr>\n",
       "</table>\n"
      ]
     },
     "metadata": {},
     "output_type": "display_data"
    }
   ],
   "execution_count": 323
  },
  {
   "metadata": {},
   "cell_type": "markdown",
   "source": [
    "### Question 5:\n",
    "- Two linear discriminant analysis models were built with the dataset infert. The results of the predictions can be found in the files `Education_roc1.csv` and `Education_roc2.csv`.\n",
    "    - Load both datasets.\n",
    "    - Use the `plot_roc` function to plot both ROC curves. For both data sets, use column `6-11yrs` as the `y-score` and transform the column `y_true` into 1 for the values `6-11yrs` and a 0 for the other values.\n",
    "    - What is the best threshold value for each of the ROC curves?\n",
    "    - Which model do you prefer?"
   ],
   "id": "92c07a3405518b0d"
  },
  {
   "metadata": {
    "ExecuteTime": {
     "end_time": "2024-05-30T16:22:26.707031Z",
     "start_time": "2024-05-30T16:22:26.678263Z"
    }
   },
   "cell_type": "code",
   "source": [
    "from IPython.display import display, HTML\n",
    "\n",
    "# Load in data and filter data\n",
    "education_roc1 = pd.read_csv('../Data/Education_roc1.csv', delimiter=',', decimal='.')\n",
    "education_roc2 = pd.read_csv('../Data/Education_roc2.csv', delimiter=',', decimal='.')\n",
    "\n",
    "# Create HTML code\n",
    "combined_html = f\"\"\"\n",
    "<table>\n",
    "    <tr>\n",
    "        <p>--------------------Education Roc 1-------------------------Education Roc 2--------------------</p>\n",
    "        <td>{education_roc1.head().to_html()}</td>\n",
    "        <td>{education_roc2.head().to_html()}</td>\n",
    "    </tr>\n",
    "</table>\n",
    "\"\"\"\n",
    "display(HTML(combined_html))"
   ],
   "id": "9576e19a1ba30b10",
   "outputs": [
    {
     "data": {
      "text/plain": [
       "<IPython.core.display.HTML object>"
      ],
      "text/html": [
       "\n",
       "<table>\n",
       "    <tr>\n",
       "        <p>--------------------Education Roc 1-------------------------Education Roc 2--------------------</p>\n",
       "        <td><table border=\"1\" class=\"dataframe\">\n",
       "  <thead>\n",
       "    <tr style=\"text-align: right;\">\n",
       "      <th></th>\n",
       "      <th>12+ yrs</th>\n",
       "      <th>6-11yrs</th>\n",
       "      <th>y_true</th>\n",
       "    </tr>\n",
       "  </thead>\n",
       "  <tbody>\n",
       "    <tr>\n",
       "      <th>0</th>\n",
       "      <td>0.337185</td>\n",
       "      <td>0.662815</td>\n",
       "      <td>6-11yrs</td>\n",
       "    </tr>\n",
       "    <tr>\n",
       "      <th>1</th>\n",
       "      <td>0.275267</td>\n",
       "      <td>0.724733</td>\n",
       "      <td>6-11yrs</td>\n",
       "    </tr>\n",
       "    <tr>\n",
       "      <th>2</th>\n",
       "      <td>0.766077</td>\n",
       "      <td>0.233923</td>\n",
       "      <td>6-11yrs</td>\n",
       "    </tr>\n",
       "    <tr>\n",
       "      <th>3</th>\n",
       "      <td>0.468015</td>\n",
       "      <td>0.531985</td>\n",
       "      <td>6-11yrs</td>\n",
       "    </tr>\n",
       "    <tr>\n",
       "      <th>4</th>\n",
       "      <td>0.808740</td>\n",
       "      <td>0.191260</td>\n",
       "      <td>6-11yrs</td>\n",
       "    </tr>\n",
       "  </tbody>\n",
       "</table></td>\n",
       "        <td><table border=\"1\" class=\"dataframe\">\n",
       "  <thead>\n",
       "    <tr style=\"text-align: right;\">\n",
       "      <th></th>\n",
       "      <th>12+ yrs</th>\n",
       "      <th>6-11yrs</th>\n",
       "      <th>y_true</th>\n",
       "    </tr>\n",
       "  </thead>\n",
       "  <tbody>\n",
       "    <tr>\n",
       "      <th>0</th>\n",
       "      <td>0.0</td>\n",
       "      <td>1.0</td>\n",
       "      <td>6-11yrs</td>\n",
       "    </tr>\n",
       "    <tr>\n",
       "      <th>1</th>\n",
       "      <td>0.0</td>\n",
       "      <td>1.0</td>\n",
       "      <td>6-11yrs</td>\n",
       "    </tr>\n",
       "    <tr>\n",
       "      <th>2</th>\n",
       "      <td>0.0</td>\n",
       "      <td>1.0</td>\n",
       "      <td>6-11yrs</td>\n",
       "    </tr>\n",
       "    <tr>\n",
       "      <th>3</th>\n",
       "      <td>0.0</td>\n",
       "      <td>1.0</td>\n",
       "      <td>6-11yrs</td>\n",
       "    </tr>\n",
       "    <tr>\n",
       "      <th>4</th>\n",
       "      <td>0.0</td>\n",
       "      <td>1.0</td>\n",
       "      <td>6-11yrs</td>\n",
       "    </tr>\n",
       "  </tbody>\n",
       "</table></td>\n",
       "    </tr>\n",
       "</table>\n"
      ]
     },
     "metadata": {},
     "output_type": "display_data"
    }
   ],
   "execution_count": 324
  },
  {
   "metadata": {
    "ExecuteTime": {
     "end_time": "2024-05-30T16:22:27.629995Z",
     "start_time": "2024-05-30T16:22:27.053338Z"
    }
   },
   "cell_type": "code",
   "source": [
    "# Transform data set\n",
    "education_roc1['y_true'] = education_roc1['y_true'].apply(lambda x: 1 if x == '6-11yrs' else 0)\n",
    "education_roc2['y_true'] = education_roc2['y_true'].apply(lambda x: 1 if x == '6-11yrs' else 0)\n",
    "\n",
    "# Plot ROC curve for Education Roc 1 & 2\n",
    "plot_rocf(y_true=education_roc1['y_true'], y_score=education_roc1['6-11yrs'], title='Education Roc 1 ROC Curve')\n",
    "plot_rocf(y_true=education_roc2['y_true'], y_score=education_roc2['6-11yrs'], title='Education Roc 2 ROC Curve')"
   ],
   "id": "7c721e2bed2a191b",
   "outputs": [
    {
     "data": {
      "text/plain": [
       "<Figure size 700x700 with 1 Axes>"
      ],
      "image/png": "[encoded data removed]"
     },
     "metadata": {},
     "output_type": "display_data"
    },
    {
     "data": {
      "text/plain": [
       "<Figure size 700x700 with 1 Axes>"
      ],
      "image/png": "[encoded data removed]"
     },
     "metadata": {},
     "output_type": "display_data"
    }
   ],
   "execution_count": 325
  },
  {
   "metadata": {
    "ExecuteTime": {
     "end_time": "2024-05-30T16:22:27.645665Z",
     "start_time": "2024-05-30T16:22:27.633507Z"
    }
   },
   "cell_type": "code",
   "source": [
    "# Calculate Based Threshold Value\n",
    "best_threshold1 = find_best_threshold(education_roc1['y_true'], education_roc1['6-11yrs'])\n",
    "best_threshold2 = find_best_threshold(education_roc2['y_true'], education_roc2['6-11yrs'])\n",
    "\n",
    "# Based Threshold Value: The threshold value that gives the best results for a specific metric.\n",
    "print(colored(f\"The best threshold value for Education Roc 1 is: {round(best_threshold1 * 100, 2)}%\", outputColor))\n",
    "print(colored(f\"The best threshold value for Education Roc 2 is: {round(best_threshold2 * 100, 2)}%\\n\", outputColor))\n",
    "\n",
    "if best_threshold1 > best_threshold2:\n",
    "    print(colored(f\"Education Roc 1 has a higher threshold value than Education Roc 2.\\n\", outputColor))\n",
    "elif best_threshold1 < best_threshold2:\n",
    "    print(colored(f\"Education Roc 2 has a higher threshold value than Education Roc 1.\\n\", outputColor))\n",
    "else:\n",
    "    print(colored(f\"The threshold values are the same.\\n\", outputColor))"
   ],
   "id": "edb4943d5b4423a9",
   "outputs": [
    {
     "name": "stdout",
     "output_type": "stream",
     "text": [
      "\u001B[34mThe best threshold value for Education Roc 1 is: 47.73%\u001B[0m\n",
      "\u001B[34mThe best threshold value for Education Roc 2 is: 100.0%\n",
      "\u001B[0m\n",
      "\u001B[34mEducation Roc 2 has a higher threshold value than Education Roc 1.\n",
      "\u001B[0m\n"
     ]
    }
   ],
   "execution_count": 326
  },
  {
   "metadata": {
    "ExecuteTime": {
     "end_time": "2024-05-30T16:22:27.753189Z",
     "start_time": "2024-05-30T16:22:27.723872Z"
    }
   },
   "cell_type": "code",
   "source": [
    "# Apply threshold value to y_score column\n",
    "education_roc1['y_pred'] = education_roc1['6-11yrs'].apply(lambda x: 1 if x > best_threshold1 else 0)\n",
    "education_roc2['y_pred'] = education_roc2['6-11yrs'].apply(lambda x: 1 if x > best_threshold2 else 0)\n",
    "\n",
    "# Calculate accuracy of prediction\n",
    "accuracy1 = np.mean(education_roc1['y_true'] == education_roc1['6-11yrs'])\n",
    "accuracy2 = np.mean(education_roc2['y_true'] == education_roc2['6-11yrs'])\n",
    "print(colored(f\"The accuracy of the ANN for Education Roc 1 is: {round(accuracy1, 2) * 100}%\\n\", outputColor))\n",
    "print(colored(f\"The accuracy of the ANN for Education Roc 2 is: {round(accuracy2, 2) * 100}%\\n\", outputColor))\n",
    "\n",
    "if accuracy1 > accuracy2:\n",
    "    print(colored(f\"Education Roc 1 has a higher accuracy than Education Roc 2.\\n\", outputColor))\n",
    "elif accuracy1 < accuracy2:\n",
    "    print(colored(f\"Education Roc 2 has a higher accuracy than Education Roc 1.\\n\", outputColor))\n",
    "else:\n",
    "    print(colored(f\"The accuracy values are the same.\\n\", outputColor))\n",
    "\n",
    "# Show prediction\n",
    "combined_html = f\"\"\"\n",
    "<table>\n",
    "    <tr>\n",
    "        <p>--------------------Education Roc 1-------------------------Education Roc 2--------------------</p>\n",
    "        <td>{education_roc1.head().to_html()}</td>\n",
    "        <td>{education_roc2.head().to_html()}</td>\n",
    "    </tr>\n",
    "</table>\n",
    "\"\"\"\n",
    "display(HTML(combined_html))"
   ],
   "id": "64df8bcf1cc39d46",
   "outputs": [
    {
     "name": "stdout",
     "output_type": "stream",
     "text": [
      "\u001B[34mThe accuracy of the ANN for Education Roc 1 is: 0.0%\n",
      "\u001B[0m\n",
      "\u001B[34mThe accuracy of the ANN for Education Roc 2 is: 51.0%\n",
      "\u001B[0m\n",
      "\u001B[34mEducation Roc 2 has a higher accuracy than Education Roc 1.\n",
      "\u001B[0m\n"
     ]
    },
    {
     "data": {
      "text/plain": [
       "<IPython.core.display.HTML object>"
      ],
      "text/html": [
       "\n",
       "<table>\n",
       "    <tr>\n",
       "        <p>--------------------Education Roc 1-------------------------Education Roc 2--------------------</p>\n",
       "        <td><table border=\"1\" class=\"dataframe\">\n",
       "  <thead>\n",
       "    <tr style=\"text-align: right;\">\n",
       "      <th></th>\n",
       "      <th>12+ yrs</th>\n",
       "      <th>6-11yrs</th>\n",
       "      <th>y_true</th>\n",
       "      <th>y_pred</th>\n",
       "    </tr>\n",
       "  </thead>\n",
       "  <tbody>\n",
       "    <tr>\n",
       "      <th>0</th>\n",
       "      <td>0.337185</td>\n",
       "      <td>0.662815</td>\n",
       "      <td>1</td>\n",
       "      <td>1</td>\n",
       "    </tr>\n",
       "    <tr>\n",
       "      <th>1</th>\n",
       "      <td>0.275267</td>\n",
       "      <td>0.724733</td>\n",
       "      <td>1</td>\n",
       "      <td>1</td>\n",
       "    </tr>\n",
       "    <tr>\n",
       "      <th>2</th>\n",
       "      <td>0.766077</td>\n",
       "      <td>0.233923</td>\n",
       "      <td>1</td>\n",
       "      <td>0</td>\n",
       "    </tr>\n",
       "    <tr>\n",
       "      <th>3</th>\n",
       "      <td>0.468015</td>\n",
       "      <td>0.531985</td>\n",
       "      <td>1</td>\n",
       "      <td>1</td>\n",
       "    </tr>\n",
       "    <tr>\n",
       "      <th>4</th>\n",
       "      <td>0.808740</td>\n",
       "      <td>0.191260</td>\n",
       "      <td>1</td>\n",
       "      <td>0</td>\n",
       "    </tr>\n",
       "  </tbody>\n",
       "</table></td>\n",
       "        <td><table border=\"1\" class=\"dataframe\">\n",
       "  <thead>\n",
       "    <tr style=\"text-align: right;\">\n",
       "      <th></th>\n",
       "      <th>12+ yrs</th>\n",
       "      <th>6-11yrs</th>\n",
       "      <th>y_true</th>\n",
       "      <th>y_pred</th>\n",
       "    </tr>\n",
       "  </thead>\n",
       "  <tbody>\n",
       "    <tr>\n",
       "      <th>0</th>\n",
       "      <td>0.0</td>\n",
       "      <td>1.0</td>\n",
       "      <td>1</td>\n",
       "      <td>0</td>\n",
       "    </tr>\n",
       "    <tr>\n",
       "      <th>1</th>\n",
       "      <td>0.0</td>\n",
       "      <td>1.0</td>\n",
       "      <td>1</td>\n",
       "      <td>0</td>\n",
       "    </tr>\n",
       "    <tr>\n",
       "      <th>2</th>\n",
       "      <td>0.0</td>\n",
       "      <td>1.0</td>\n",
       "      <td>1</td>\n",
       "      <td>0</td>\n",
       "    </tr>\n",
       "    <tr>\n",
       "      <th>3</th>\n",
       "      <td>0.0</td>\n",
       "      <td>1.0</td>\n",
       "      <td>1</td>\n",
       "      <td>0</td>\n",
       "    </tr>\n",
       "    <tr>\n",
       "      <th>4</th>\n",
       "      <td>0.0</td>\n",
       "      <td>1.0</td>\n",
       "      <td>1</td>\n",
       "      <td>0</td>\n",
       "    </tr>\n",
       "  </tbody>\n",
       "</table></td>\n",
       "    </tr>\n",
       "</table>\n"
      ]
     },
     "metadata": {},
     "output_type": "display_data"
    }
   ],
   "execution_count": 327
  },
  {
   "metadata": {},
   "cell_type": "markdown",
   "source": "## No Lesson (Week 3)",
   "id": "4f57bc03ca7842ed"
  },
  {
   "metadata": {},
   "cell_type": "markdown",
   "source": "### No lessons were scheduled due to a Belgian holiday \"Labor Day\"",
   "id": "4cf7524af1afd6ec"
  },
  {
   "metadata": {},
   "cell_type": "markdown",
   "source": "## Exercises Neural Networks (Week 4)",
   "id": "13d7b992b1848e9f"
  },
  {
   "metadata": {},
   "cell_type": "markdown",
   "source": [
    "### Question 1: The Simpsons Revisited\n",
    "- We want to be able to predict the gender of a Simpson using... a neural network. This dataset is very small, and therefore we cannot construct a validation set or test set.\n",
    "    - Read the Simpsons dataset (`../Data/The_Simpsons_Original.csv`).\n",
    "    - Determine which columns we cannot use with this prediction? Regression or classification?\n",
    "    - Determine which columns we cannot use in this prediction?\n",
    "    - Now create an input training data set `x_simpsons` and normalize it (min-max normalization). Do the same for the output column(`y_simpsons`).\n",
    "    - Create a neural network with the correct inputs and outputs.\n",
    "    - Use your neural network to predict the gender of your `x_simpsons`. Do they match the targets? Also predict the gender of the unknown Simpson (Comic guy: `hairlenght=8`, `weight=500`, `age=38`).\n",
    "\n",
    "**Name of Columns**: `name` `hair length` `weight` `age` `gender`"
   ],
   "id": "1029fa607209320e"
  },
  {
   "metadata": {
    "ExecuteTime": {
     "end_time": "2024-05-30T16:22:28.111299Z",
     "start_time": "2024-05-30T16:22:28.097550Z"
    }
   },
   "cell_type": "code",
   "source": [
    "# Load in data and filter data\n",
    "theSimpsonsOriginal = pd.read_csv('../Data/The_Simpsons_Original.csv', delimiter=',')\n",
    "\n",
    "# Determine how we are going to use the data set\n",
    "print(colored(f\"As input we are going to use every column that is interval or ratio. And obviously we are going to use it as a classifier, and more specifically a binary classifier because it's male or female (M/F).\\n\", outputColor))\n",
    "\n",
    "# Determine which columns we cannot use\n",
    "print(colored(f\"We can obviously not use nominaal or ordinaal column.\", outputColor))"
   ],
   "id": "6e6564030b79ef67",
   "outputs": [
    {
     "name": "stdout",
     "output_type": "stream",
     "text": [
      "\u001B[34mAs input we are going to use every column that is interval or ratio. And obviously we are going to use it as a classifier, and more specifically a binary classifier because it's male or female (M/F).\n",
      "\u001B[0m\n",
      "\u001B[34mWe can obviously not use nominaal or ordinaal column.\u001B[0m\n"
     ]
    }
   ],
   "execution_count": 328
  },
  {
   "metadata": {
    "ExecuteTime": {
     "end_time": "2024-05-30T16:22:28.222217Z",
     "start_time": "2024-05-30T16:22:28.208153Z"
    }
   },
   "cell_type": "code",
   "source": [
    "warnings.filterwarnings(\"ignore\")                                                                                                   # Disable warnings\n",
    "\n",
    "# Split up the necessary data \n",
    "x_simpsons = theSimpsonsOriginal[['hair length', 'weight', 'age']]                                                                  # Get the input\n",
    "y_simpsons = theSimpsonsOriginal['gender']                                                                                          # Get the output\n",
    "\n",
    "# Normalize and convert input and output fields\n",
    "x_simpsons_normalize = (x_simpsons - x_simpsons.min()) / (x_simpsons.max() - x_simpsons.min())                                      # Normalization of the input\n",
    "y_simpsons_replace = y_simpsons.replace(to_replace=['M', 'F'], value=[0, 1]).values                                                 # Replace the output\n",
    "y_simpsons_replace = to_categorical(y_simpsons_replace)                                                                             # One-hot encoding"
   ],
   "id": "3332f4514d8be49a",
   "outputs": [],
   "execution_count": 329
  },
  {
   "metadata": {},
   "cell_type": "code",
   "source": [
    "# Create (ANN) artificial neural network\n",
    "inputs_simpsons = Input(shape=(3,))\n",
    "x_simpsons_model = Dense(6, activation='sigmoid')(inputs_simpsons)\n",
    "x_simpsons_model = Dense(12, activation='sigmoid')(x_simpsons_model)\n",
    "x_simpsons_model = Dense(24, activation='sigmoid')(x_simpsons_model)\n",
    "x_simpsons_model = Dense(12, activation='sigmoid')(x_simpsons_model)\n",
    "x_simpsons_model = Dense(6, activation='sigmoid')(x_simpsons_model)\n",
    "outputs_simpsons = Dense(2, activation='sigmoid')(x_simpsons_model)\n",
    "model_simpsons = Model(inputs_simpsons, outputs_simpsons, name='Simpsons_NN')                                                   # Softmax for one-hot encoding (classification)\n",
    "\n",
    "# Compile the model\n",
    "model_simpsons.compile(optimizer=Adam(learning_rate=0.00001), loss=keras.losses.binary_crossentropy, metrics=['accuracy'])      # Binary_crossentropy for one-hot encoding\n",
    "\n",
    "# Fit the model\n",
    "history_simpsons = model_simpsons.fit(\n",
    "                                    x_simpsons_normalize,                   # Input\n",
    "                                    y_simpsons_replace,                     # Output\n",
    "                                    epochs=200,                             # Number of epochs (epochs = iterations over all the dataset)\n",
    "                                    callbacks=[PlotLossesKeras()],          # Plot the losses\n",
    "                                    verbose=False)                          # Fit the model"
   ],
   "id": "593e0d37ea1796ae",
   "execution_count": 330,
   "outputs": [
    {
     "name": "stdout",
     "output_type": "stream",
     "text": [
      "accuracy\n",
      "\taccuracy         \t (min:    0.444, max:    0.444, cur:    0.444)\n",
      "Loss\n",
      "\tloss             \t (min:    0.730, max:    0.733, cur:    0.730)\n"
     ]
    }
   ]
  },
  {
   "metadata": {
    "ExecuteTime": {
     "end_time": "2024-05-30T16:24:05.517910Z",
     "start_time": "2024-05-30T16:24:05.489806Z"
    }
   },
   "cell_type": "code",
   "source": [
    "# Get a summary of the model\n",
    "model_simpsons.summary()"
   ],
   "id": "138f7828b3ae7aeb",
   "outputs": [
    {
     "data": {
      "text/plain": [
       "\u001B[1mModel: \"Simpsons_NN\"\u001B[0m\n"
      ],
      "text/html": [
       "<pre style=\"white-space:pre;overflow-x:auto;line-height:normal;font-family:Menlo,'DejaVu Sans Mono',consolas,'Courier New',monospace\"><span style=\"font-weight: bold\">Model: \"Simpsons_NN\"</span>\n",
       "</pre>\n"
      ]
     },
     "metadata": {},
     "output_type": "display_data"
    },
    {
     "data": {
      "text/plain": [
       "┏━━━━━━━━━━━━━━━━━━━━━━━━━━━━━━━━━┳━━━━━━━━━━━━━━━━━━━━━━━━┳━━━━━━━━━━━━━━━┓\n",
       "┃\u001B[1m \u001B[0m\u001B[1mLayer (type)                   \u001B[0m\u001B[1m \u001B[0m┃\u001B[1m \u001B[0m\u001B[1mOutput Shape          \u001B[0m\u001B[1m \u001B[0m┃\u001B[1m \u001B[0m\u001B[1m      Param #\u001B[0m\u001B[1m \u001B[0m┃\n",
       "┡━━━━━━━━━━━━━━━━━━━━━━━━━━━━━━━━━╇━━━━━━━━━━━━━━━━━━━━━━━━╇━━━━━━━━━━━━━━━┩\n",
       "│ input_layer_26 (\u001B[38;5;33mInputLayer\u001B[0m)     │ (\u001B[38;5;45mNone\u001B[0m, \u001B[38;5;34m3\u001B[0m)              │             \u001B[38;5;34m0\u001B[0m │\n",
       "├─────────────────────────────────┼────────────────────────┼───────────────┤\n",
       "│ dense_143 (\u001B[38;5;33mDense\u001B[0m)               │ (\u001B[38;5;45mNone\u001B[0m, \u001B[38;5;34m6\u001B[0m)              │            \u001B[38;5;34m24\u001B[0m │\n",
       "├─────────────────────────────────┼────────────────────────┼───────────────┤\n",
       "│ dense_144 (\u001B[38;5;33mDense\u001B[0m)               │ (\u001B[38;5;45mNone\u001B[0m, \u001B[38;5;34m12\u001B[0m)             │            \u001B[38;5;34m84\u001B[0m │\n",
       "├─────────────────────────────────┼────────────────────────┼───────────────┤\n",
       "│ dense_145 (\u001B[38;5;33mDense\u001B[0m)               │ (\u001B[38;5;45mNone\u001B[0m, \u001B[38;5;34m24\u001B[0m)             │           \u001B[38;5;34m312\u001B[0m │\n",
       "├─────────────────────────────────┼────────────────────────┼───────────────┤\n",
       "│ dense_146 (\u001B[38;5;33mDense\u001B[0m)               │ (\u001B[38;5;45mNone\u001B[0m, \u001B[38;5;34m12\u001B[0m)             │           \u001B[38;5;34m300\u001B[0m │\n",
       "├─────────────────────────────────┼────────────────────────┼───────────────┤\n",
       "│ dense_147 (\u001B[38;5;33mDense\u001B[0m)               │ (\u001B[38;5;45mNone\u001B[0m, \u001B[38;5;34m6\u001B[0m)              │            \u001B[38;5;34m78\u001B[0m │\n",
       "├─────────────────────────────────┼────────────────────────┼───────────────┤\n",
       "│ dense_148 (\u001B[38;5;33mDense\u001B[0m)               │ (\u001B[38;5;45mNone\u001B[0m, \u001B[38;5;34m2\u001B[0m)              │            \u001B[38;5;34m14\u001B[0m │\n",
       "└─────────────────────────────────┴────────────────────────┴───────────────┘\n"
      ],
      "text/html": [
       "<pre style=\"white-space:pre;overflow-x:auto;line-height:normal;font-family:Menlo,'DejaVu Sans Mono',consolas,'Courier New',monospace\">┏━━━━━━━━━━━━━━━━━━━━━━━━━━━━━━━━━┳━━━━━━━━━━━━━━━━━━━━━━━━┳━━━━━━━━━━━━━━━┓\n",
       "┃<span style=\"font-weight: bold\"> Layer (type)                    </span>┃<span style=\"font-weight: bold\"> Output Shape           </span>┃<span style=\"font-weight: bold\">       Param # </span>┃\n",
       "┡━━━━━━━━━━━━━━━━━━━━━━━━━━━━━━━━━╇━━━━━━━━━━━━━━━━━━━━━━━━╇━━━━━━━━━━━━━━━┩\n",
       "│ input_layer_26 (<span style=\"color: #0087ff; text-decoration-color: #0087ff\">InputLayer</span>)     │ (<span style=\"color: #00d7ff; text-decoration-color: #00d7ff\">None</span>, <span style=\"color: #00af00; text-decoration-color: #00af00\">3</span>)              │             <span style=\"color: #00af00; text-decoration-color: #00af00\">0</span> │\n",
       "├─────────────────────────────────┼────────────────────────┼───────────────┤\n",
       "│ dense_143 (<span style=\"color: #0087ff; text-decoration-color: #0087ff\">Dense</span>)               │ (<span style=\"color: #00d7ff; text-decoration-color: #00d7ff\">None</span>, <span style=\"color: #00af00; text-decoration-color: #00af00\">6</span>)              │            <span style=\"color: #00af00; text-decoration-color: #00af00\">24</span> │\n",
       "├─────────────────────────────────┼────────────────────────┼───────────────┤\n",
       "│ dense_144 (<span style=\"color: #0087ff; text-decoration-color: #0087ff\">Dense</span>)               │ (<span style=\"color: #00d7ff; text-decoration-color: #00d7ff\">None</span>, <span style=\"color: #00af00; text-decoration-color: #00af00\">12</span>)             │            <span style=\"color: #00af00; text-decoration-color: #00af00\">84</span> │\n",
       "├─────────────────────────────────┼────────────────────────┼───────────────┤\n",
       "│ dense_145 (<span style=\"color: #0087ff; text-decoration-color: #0087ff\">Dense</span>)               │ (<span style=\"color: #00d7ff; text-decoration-color: #00d7ff\">None</span>, <span style=\"color: #00af00; text-decoration-color: #00af00\">24</span>)             │           <span style=\"color: #00af00; text-decoration-color: #00af00\">312</span> │\n",
       "├─────────────────────────────────┼────────────────────────┼───────────────┤\n",
       "│ dense_146 (<span style=\"color: #0087ff; text-decoration-color: #0087ff\">Dense</span>)               │ (<span style=\"color: #00d7ff; text-decoration-color: #00d7ff\">None</span>, <span style=\"color: #00af00; text-decoration-color: #00af00\">12</span>)             │           <span style=\"color: #00af00; text-decoration-color: #00af00\">300</span> │\n",
       "├─────────────────────────────────┼────────────────────────┼───────────────┤\n",
       "│ dense_147 (<span style=\"color: #0087ff; text-decoration-color: #0087ff\">Dense</span>)               │ (<span style=\"color: #00d7ff; text-decoration-color: #00d7ff\">None</span>, <span style=\"color: #00af00; text-decoration-color: #00af00\">6</span>)              │            <span style=\"color: #00af00; text-decoration-color: #00af00\">78</span> │\n",
       "├─────────────────────────────────┼────────────────────────┼───────────────┤\n",
       "│ dense_148 (<span style=\"color: #0087ff; text-decoration-color: #0087ff\">Dense</span>)               │ (<span style=\"color: #00d7ff; text-decoration-color: #00d7ff\">None</span>, <span style=\"color: #00af00; text-decoration-color: #00af00\">2</span>)              │            <span style=\"color: #00af00; text-decoration-color: #00af00\">14</span> │\n",
       "└─────────────────────────────────┴────────────────────────┴───────────────┘\n",
       "</pre>\n"
      ]
     },
     "metadata": {},
     "output_type": "display_data"
    },
    {
     "data": {
      "text/plain": [
       "\u001B[1m Total params: \u001B[0m\u001B[38;5;34m2,438\u001B[0m (9.53 KB)\n"
      ],
      "text/html": [
       "<pre style=\"white-space:pre;overflow-x:auto;line-height:normal;font-family:Menlo,'DejaVu Sans Mono',consolas,'Courier New',monospace\"><span style=\"font-weight: bold\"> Total params: </span><span style=\"color: #00af00; text-decoration-color: #00af00\">2,438</span> (9.53 KB)\n",
       "</pre>\n"
      ]
     },
     "metadata": {},
     "output_type": "display_data"
    },
    {
     "data": {
      "text/plain": [
       "\u001B[1m Trainable params: \u001B[0m\u001B[38;5;34m812\u001B[0m (3.17 KB)\n"
      ],
      "text/html": [
       "<pre style=\"white-space:pre;overflow-x:auto;line-height:normal;font-family:Menlo,'DejaVu Sans Mono',consolas,'Courier New',monospace\"><span style=\"font-weight: bold\"> Trainable params: </span><span style=\"color: #00af00; text-decoration-color: #00af00\">812</span> (3.17 KB)\n",
       "</pre>\n"
      ]
     },
     "metadata": {},
     "output_type": "display_data"
    },
    {
     "data": {
      "text/plain": [
       "\u001B[1m Non-trainable params: \u001B[0m\u001B[38;5;34m0\u001B[0m (0.00 B)\n"
      ],
      "text/html": [
       "<pre style=\"white-space:pre;overflow-x:auto;line-height:normal;font-family:Menlo,'DejaVu Sans Mono',consolas,'Courier New',monospace\"><span style=\"font-weight: bold\"> Non-trainable params: </span><span style=\"color: #00af00; text-decoration-color: #00af00\">0</span> (0.00 B)\n",
       "</pre>\n"
      ]
     },
     "metadata": {},
     "output_type": "display_data"
    },
    {
     "data": {
      "text/plain": [
       "\u001B[1m Optimizer params: \u001B[0m\u001B[38;5;34m1,626\u001B[0m (6.36 KB)\n"
      ],
      "text/html": [
       "<pre style=\"white-space:pre;overflow-x:auto;line-height:normal;font-family:Menlo,'DejaVu Sans Mono',consolas,'Courier New',monospace\"><span style=\"font-weight: bold\"> Optimizer params: </span><span style=\"color: #00af00; text-decoration-color: #00af00\">1,626</span> (6.36 KB)\n",
       "</pre>\n"
      ]
     },
     "metadata": {},
     "output_type": "display_data"
    }
   ],
   "execution_count": 331
  },
  {
   "metadata": {
    "ExecuteTime": {
     "end_time": "2024-05-30T16:24:05.657417Z",
     "start_time": "2024-05-30T16:24:05.519903Z"
    }
   },
   "cell_type": "code",
   "source": [
    "# Use the model for prediction\n",
    "predicted = model_simpsons.predict(x_simpsons_normalize)                                                                            # Predict the output\n",
    "predicted = np.argmax(predicted, axis=1)                                                                                            # Get the highest value\n",
    "predicted = np.where(predicted == 0, 'M', 'F')                                                                                      # Replace the output\n",
    "original = y_simpsons.values                                                                                                        # Get the original output\n",
    "\n",
    "print(colored(f\"Predicted values:  {predicted}\", outputColor))\n",
    "print(colored(f\"Original values:   {original}\", outputColor))\n",
    "\n",
    "# Evaluate the model\n",
    "correct = np.mean(predicted == original)                                                                                            # Get the mean of the correct predictions\n",
    "print(colored(f\"\\nThe percentage of Simpsons that are correctly classified is: {round(correct, 2) * 100}%\", outputColor))"
   ],
   "id": "c9adca6d1c5dc949",
   "outputs": [
    {
     "name": "stdout",
     "output_type": "stream",
     "text": [
      "\u001B[1m1/1\u001B[0m \u001B[32m━━━━━━━━━━━━━━━━━━━━\u001B[0m\u001B[37m\u001B[0m \u001B[1m0s\u001B[0m 73ms/step\n",
      "\u001B[34mPredicted values:  ['F' 'F' 'F' 'F' 'F' 'F' 'F' 'F' 'F']\u001B[0m\n",
      "\u001B[34mOriginal values:   ['M' 'F' 'M' 'F' 'F' 'M' 'F' 'M' 'M']\u001B[0m\n",
      "\u001B[34m\n",
      "The percentage of Simpsons that are correctly classified is: 44.0%\u001B[0m\n"
     ]
    }
   ],
   "execution_count": 332
  },
  {
   "metadata": {
    "ExecuteTime": {
     "end_time": "2024-05-30T16:24:05.813412Z",
     "start_time": "2024-05-30T16:24:05.660624Z"
    }
   },
   "cell_type": "code",
   "source": [
    "# Use the model for prediction on new input data\n",
    "comicGuy = pd.DataFrame({'hair length': [8], 'weight': [500], 'age': [38]})                                                         # Create a new dataframe (Test Data)\n",
    "comicGuy_normalize = (comicGuy - x_simpsons.min()) / (x_simpsons.max() - x_simpsons.min())                                          # Normalize the input\n",
    "prediction = model_simpsons.predict(comicGuy_normalize)                                                                             # Predict the output\n",
    "prediction = np.argmax(prediction, axis=1)                                                                                          # Get the highest value\n",
    "prediction = np.where(prediction == 0, 'M', 'F')                                                                                    # Replace the output\n",
    "print(colored(f\"The prediction for the comic guy is: {prediction}\", outputColor))"
   ],
   "id": "8891a446c1ae38e1",
   "outputs": [
    {
     "name": "stdout",
     "output_type": "stream",
     "text": [
      "\u001B[1m1/1\u001B[0m \u001B[32m━━━━━━━━━━━━━━━━━━━━\u001B[0m\u001B[37m\u001B[0m \u001B[1m0s\u001B[0m 80ms/step\n",
      "\u001B[34mThe prediction for the comic guy is: ['F']\u001B[0m\n"
     ]
    }
   ],
   "execution_count": 333
  },
  {
   "metadata": {},
   "cell_type": "markdown",
   "source": [
    "### Question 2: Forecast demo Revisited\n",
    "- We want to be able to predict a company's revenues per quarter for the last `5` years. This dataset is very small, and therefore we cannot construct a validation set or test set.\n",
    "    - Read the Forecasting dataset (`../Data/ForcastDemo.csv`)\n",
    "    - Determine which columns we cannot use in this prediction? Regression or classification?\n",
    "    - Now create an input training data set `x_forcast` and an output column `y_forcast`. Normalize where necessary.\n",
    "    - Create a neural network with the correct inputs and outputs.\n",
    "    - Use your neural network to predict the returns associated with `x_forcast`. Do they correspond to actual returns? Create one plot of the original data and the predicted data.\n",
    "\n",
    "**Name of Columns**: `Year` `Quarter` `Revenu`"
   ],
   "id": "a64edbf0e7a600b4"
  },
  {
   "metadata": {
    "ExecuteTime": {
     "end_time": "2024-05-31T09:05:28.368220Z",
     "start_time": "2024-05-31T09:05:28.345799Z"
    }
   },
   "cell_type": "code",
   "source": [
    "# Load in data and filter data\n",
    "forcastDemo = pd.read_csv('../Data/ForcastDemo.csv', delimiter=';')\n",
    "\n",
    "# Determine how we are going to use the data set\n",
    "print(colored(f\"The 'Year' and 'Quarters' column we can use as input and as output the 'Revenu' column. The output will be revenue, therefore it will be a regression not a classification.\", outputColor))"
   ],
   "id": "fe2b47428ac22328",
   "outputs": [
    {
     "name": "stdout",
     "output_type": "stream",
     "text": [
      "\u001B[34mThe 'Year' and 'Quarters' column we can use as input and as output the 'Revenu' column. The output will be revenue, therefore it will be a regression not a classification.\u001B[0m\n"
     ]
    }
   ],
   "execution_count": 12
  },
  {
   "metadata": {
    "ExecuteTime": {
     "end_time": "2024-05-31T08:25:17.726115Z",
     "start_time": "2024-05-31T08:25:17.719302Z"
    }
   },
   "cell_type": "code",
   "source": [
    "# Split up the necessary data \n",
    "x_forcast = forcastDemo[['Year', 'Quarter']]                                                                                        # Get the input\n",
    "y_forcast = forcastDemo['Revenu']                                                                                                   # Get the output\n",
    "\n",
    "print(colored(f\"We don't need to normalize.\", outputColor))"
   ],
   "id": "eb54d1a4742ad454",
   "outputs": [
    {
     "name": "stdout",
     "output_type": "stream",
     "text": [
      "\u001B[34mWe don't need to normalize.\u001B[0m\n"
     ]
    }
   ],
   "execution_count": 5
  },
  {
   "metadata": {},
   "cell_type": "code",
   "source": [
    "# Create (ANN) artificial neural network\n",
    "inputs_forcast = Input(shape=(2,))\n",
    "x_forcast_model = Dense(64, activation='relu')(inputs_forcast)\n",
    "x_forcast_model = Dense(64, activation='relu')(x_forcast_model)\n",
    "x_forcast_model = Dense(64, activation='relu')(x_forcast_model)\n",
    "outputs_forcast = Dense(1, activation='linear')(x_forcast_model)                                                            # Linear for regression\n",
    "model_forcast = Model(inputs_forcast, outputs_forcast, name='Forcast_NN')                                                   # relu for regression\n",
    "\n",
    "# Compile the model\n",
    "model_forcast.compile(optimizer=Adam(learning_rate=0.001),                                                                  # Adam for regression\n",
    "                      loss=keras.losses.MeanAbsoluteError(),                                                                # MeanAbsoluteError for regression\n",
    "                      metrics=[keras.metrics.MeanAbsolutePercentageError()])                                                # MeanAbsolutePercentageError for regression\n",
    "\n",
    "# Fit the model\n",
    "history_forcast = model_forcast.fit(\n",
    "                                x_forcast,                              # Input\n",
    "                                y_forcast,                              # Output\n",
    "                                epochs=100,                             # Number of epochs (epochs = iterations over all the dataset)\n",
    "                                callbacks=[PlotLossesKeras()],          # Plot the losses\n",
    "                                verbose=False)                          # Fit the model"
   ],
   "id": "44a27ad97f91c635",
   "execution_count": 22,
   "outputs": [
    {
     "name": "stdout",
     "output_type": "stream",
     "text": [
      "Loss\n",
      "\tloss             \t (min:   85.172, max:  159.943, cur:   85.172)\n",
      "mean_absolute_percentage_error\n",
      "\tmean_absolute_percentage_error \t (min:   66.444, max:  130.106, cur:  130.106)\n"
     ]
    }
   ]
  },
  {
   "metadata": {
    "ExecuteTime": {
     "end_time": "2024-05-31T09:27:55.225966Z",
     "start_time": "2024-05-31T09:27:55.197438Z"
    }
   },
   "cell_type": "code",
   "source": [
    "# Get a summary of the model\n",
    "model_forcast.summary()"
   ],
   "id": "9e6a6bd1b6804fe4",
   "outputs": [
    {
     "data": {
      "text/plain": [
       "\u001B[1mModel: \"Forcast_NN\"\u001B[0m\n"
      ],
      "text/html": [
       "<pre style=\"white-space:pre;overflow-x:auto;line-height:normal;font-family:Menlo,'DejaVu Sans Mono',consolas,'Courier New',monospace\"><span style=\"font-weight: bold\">Model: \"Forcast_NN\"</span>\n",
       "</pre>\n"
      ]
     },
     "metadata": {},
     "output_type": "display_data"
    },
    {
     "data": {
      "text/plain": [
       "┏━━━━━━━━━━━━━━━━━━━━━━━━━━━━━━━━━┳━━━━━━━━━━━━━━━━━━━━━━━━┳━━━━━━━━━━━━━━━┓\n",
       "┃\u001B[1m \u001B[0m\u001B[1mLayer (type)                   \u001B[0m\u001B[1m \u001B[0m┃\u001B[1m \u001B[0m\u001B[1mOutput Shape          \u001B[0m\u001B[1m \u001B[0m┃\u001B[1m \u001B[0m\u001B[1m      Param #\u001B[0m\u001B[1m \u001B[0m┃\n",
       "┡━━━━━━━━━━━━━━━━━━━━━━━━━━━━━━━━━╇━━━━━━━━━━━━━━━━━━━━━━━━╇━━━━━━━━━━━━━━━┩\n",
       "│ input_layer_1 (\u001B[38;5;33mInputLayer\u001B[0m)      │ (\u001B[38;5;45mNone\u001B[0m, \u001B[38;5;34m2\u001B[0m)              │             \u001B[38;5;34m0\u001B[0m │\n",
       "├─────────────────────────────────┼────────────────────────┼───────────────┤\n",
       "│ dense_4 (\u001B[38;5;33mDense\u001B[0m)                 │ (\u001B[38;5;45mNone\u001B[0m, \u001B[38;5;34m64\u001B[0m)             │           \u001B[38;5;34m192\u001B[0m │\n",
       "├─────────────────────────────────┼────────────────────────┼───────────────┤\n",
       "│ dense_5 (\u001B[38;5;33mDense\u001B[0m)                 │ (\u001B[38;5;45mNone\u001B[0m, \u001B[38;5;34m64\u001B[0m)             │         \u001B[38;5;34m4,160\u001B[0m │\n",
       "├─────────────────────────────────┼────────────────────────┼───────────────┤\n",
       "│ dense_6 (\u001B[38;5;33mDense\u001B[0m)                 │ (\u001B[38;5;45mNone\u001B[0m, \u001B[38;5;34m64\u001B[0m)             │         \u001B[38;5;34m4,160\u001B[0m │\n",
       "├─────────────────────────────────┼────────────────────────┼───────────────┤\n",
       "│ dense_7 (\u001B[38;5;33mDense\u001B[0m)                 │ (\u001B[38;5;45mNone\u001B[0m, \u001B[38;5;34m1\u001B[0m)              │            \u001B[38;5;34m65\u001B[0m │\n",
       "└─────────────────────────────────┴────────────────────────┴───────────────┘\n"
      ],
      "text/html": [
       "<pre style=\"white-space:pre;overflow-x:auto;line-height:normal;font-family:Menlo,'DejaVu Sans Mono',consolas,'Courier New',monospace\">┏━━━━━━━━━━━━━━━━━━━━━━━━━━━━━━━━━┳━━━━━━━━━━━━━━━━━━━━━━━━┳━━━━━━━━━━━━━━━┓\n",
       "┃<span style=\"font-weight: bold\"> Layer (type)                    </span>┃<span style=\"font-weight: bold\"> Output Shape           </span>┃<span style=\"font-weight: bold\">       Param # </span>┃\n",
       "┡━━━━━━━━━━━━━━━━━━━━━━━━━━━━━━━━━╇━━━━━━━━━━━━━━━━━━━━━━━━╇━━━━━━━━━━━━━━━┩\n",
       "│ input_layer_1 (<span style=\"color: #0087ff; text-decoration-color: #0087ff\">InputLayer</span>)      │ (<span style=\"color: #00d7ff; text-decoration-color: #00d7ff\">None</span>, <span style=\"color: #00af00; text-decoration-color: #00af00\">2</span>)              │             <span style=\"color: #00af00; text-decoration-color: #00af00\">0</span> │\n",
       "├─────────────────────────────────┼────────────────────────┼───────────────┤\n",
       "│ dense_4 (<span style=\"color: #0087ff; text-decoration-color: #0087ff\">Dense</span>)                 │ (<span style=\"color: #00d7ff; text-decoration-color: #00d7ff\">None</span>, <span style=\"color: #00af00; text-decoration-color: #00af00\">64</span>)             │           <span style=\"color: #00af00; text-decoration-color: #00af00\">192</span> │\n",
       "├─────────────────────────────────┼────────────────────────┼───────────────┤\n",
       "│ dense_5 (<span style=\"color: #0087ff; text-decoration-color: #0087ff\">Dense</span>)                 │ (<span style=\"color: #00d7ff; text-decoration-color: #00d7ff\">None</span>, <span style=\"color: #00af00; text-decoration-color: #00af00\">64</span>)             │         <span style=\"color: #00af00; text-decoration-color: #00af00\">4,160</span> │\n",
       "├─────────────────────────────────┼────────────────────────┼───────────────┤\n",
       "│ dense_6 (<span style=\"color: #0087ff; text-decoration-color: #0087ff\">Dense</span>)                 │ (<span style=\"color: #00d7ff; text-decoration-color: #00d7ff\">None</span>, <span style=\"color: #00af00; text-decoration-color: #00af00\">64</span>)             │         <span style=\"color: #00af00; text-decoration-color: #00af00\">4,160</span> │\n",
       "├─────────────────────────────────┼────────────────────────┼───────────────┤\n",
       "│ dense_7 (<span style=\"color: #0087ff; text-decoration-color: #0087ff\">Dense</span>)                 │ (<span style=\"color: #00d7ff; text-decoration-color: #00d7ff\">None</span>, <span style=\"color: #00af00; text-decoration-color: #00af00\">1</span>)              │            <span style=\"color: #00af00; text-decoration-color: #00af00\">65</span> │\n",
       "└─────────────────────────────────┴────────────────────────┴───────────────┘\n",
       "</pre>\n"
      ]
     },
     "metadata": {},
     "output_type": "display_data"
    },
    {
     "data": {
      "text/plain": [
       "\u001B[1m Total params: \u001B[0m\u001B[38;5;34m25,733\u001B[0m (100.52 KB)\n"
      ],
      "text/html": [
       "<pre style=\"white-space:pre;overflow-x:auto;line-height:normal;font-family:Menlo,'DejaVu Sans Mono',consolas,'Courier New',monospace\"><span style=\"font-weight: bold\"> Total params: </span><span style=\"color: #00af00; text-decoration-color: #00af00\">25,733</span> (100.52 KB)\n",
       "</pre>\n"
      ]
     },
     "metadata": {},
     "output_type": "display_data"
    },
    {
     "data": {
      "text/plain": [
       "\u001B[1m Trainable params: \u001B[0m\u001B[38;5;34m8,577\u001B[0m (33.50 KB)\n"
      ],
      "text/html": [
       "<pre style=\"white-space:pre;overflow-x:auto;line-height:normal;font-family:Menlo,'DejaVu Sans Mono',consolas,'Courier New',monospace\"><span style=\"font-weight: bold\"> Trainable params: </span><span style=\"color: #00af00; text-decoration-color: #00af00\">8,577</span> (33.50 KB)\n",
       "</pre>\n"
      ]
     },
     "metadata": {},
     "output_type": "display_data"
    },
    {
     "data": {
      "text/plain": [
       "\u001B[1m Non-trainable params: \u001B[0m\u001B[38;5;34m0\u001B[0m (0.00 B)\n"
      ],
      "text/html": [
       "<pre style=\"white-space:pre;overflow-x:auto;line-height:normal;font-family:Menlo,'DejaVu Sans Mono',consolas,'Courier New',monospace\"><span style=\"font-weight: bold\"> Non-trainable params: </span><span style=\"color: #00af00; text-decoration-color: #00af00\">0</span> (0.00 B)\n",
       "</pre>\n"
      ]
     },
     "metadata": {},
     "output_type": "display_data"
    },
    {
     "data": {
      "text/plain": [
       "\u001B[1m Optimizer params: \u001B[0m\u001B[38;5;34m17,156\u001B[0m (67.02 KB)\n"
      ],
      "text/html": [
       "<pre style=\"white-space:pre;overflow-x:auto;line-height:normal;font-family:Menlo,'DejaVu Sans Mono',consolas,'Courier New',monospace\"><span style=\"font-weight: bold\"> Optimizer params: </span><span style=\"color: #00af00; text-decoration-color: #00af00\">17,156</span> (67.02 KB)\n",
       "</pre>\n"
      ]
     },
     "metadata": {},
     "output_type": "display_data"
    }
   ],
   "execution_count": 23
  },
  {
   "metadata": {
    "ExecuteTime": {
     "end_time": "2024-05-31T09:27:57.750400Z",
     "start_time": "2024-05-31T09:27:57.582406Z"
    }
   },
   "cell_type": "code",
   "source": "model_forcast.evaluate(x_forcast, y_forcast)",
   "id": "ee88c4405e1b0dc7",
   "outputs": [
    {
     "name": "stdout",
     "output_type": "stream",
     "text": [
      "\u001B[1m1/1\u001B[0m \u001B[32m━━━━━━━━━━━━━━━━━━━━\u001B[0m\u001B[37m\u001B[0m \u001B[1m0s\u001B[0m 118ms/step - loss: 85.1632 - mean_absolute_percentage_error: 131.6739\n"
     ]
    },
    {
     "data": {
      "text/plain": [
       "[85.16319274902344, 131.6738739013672]"
      ]
     },
     "execution_count": 24,
     "metadata": {},
     "output_type": "execute_result"
    }
   ],
   "execution_count": 24
  },
  {
   "metadata": {
    "ExecuteTime": {
     "end_time": "2024-05-31T09:27:59.449497Z",
     "start_time": "2024-05-31T09:27:59.124851Z"
    }
   },
   "cell_type": "code",
   "source": [
    "# Use the model for prediction\n",
    "predicted = model_forcast.predict(x_forcast)                                                                                       # Predict the output\n",
    "original = y_forcast.values                                                                                                        # Get the original output\n",
    "\n",
    "# Also attempt to predict the future. You know, just for fun :)\n",
    "future = pd.DataFrame({'Year': [6, 6, 6, 6, 7, 7, 7, 7], 'Quarter': [1, 2, 3, 4, 1, 2, 3, 4]})                                     # Create a new dataframe (Test Data)\n",
    "predicted_future = model_forcast.predict(future)                                                                                   # Predict the output\n",
    "\n",
    "plt.figure()\n",
    "plt.plot(range(0, len(forcastDemo)), original, 'o-', label='Original')\n",
    "plt.plot(range(0, len(forcastDemo)), predicted[:, 0], 'o-', label='Predicted')\n",
    "plt.plot(range(len(forcastDemo), len(forcastDemo) + len(future)), predicted_future, 'o-', label='Future Prediction')\n",
    "plt.xlabel('Quarter')\n",
    "plt.ylabel('Revenue (EUR)')\n",
    "plt.title('Original vs Predicted Revenue')\n",
    "plt.legend()\n",
    "plt.show()"
   ],
   "id": "9a6b355b4347a0c",
   "outputs": [
    {
     "name": "stdout",
     "output_type": "stream",
     "text": [
      "\u001B[1m1/1\u001B[0m \u001B[32m━━━━━━━━━━━━━━━━━━━━\u001B[0m\u001B[37m\u001B[0m \u001B[1m0s\u001B[0m 48ms/step\n",
      "\u001B[1m1/1\u001B[0m \u001B[32m━━━━━━━━━━━━━━━━━━━━\u001B[0m\u001B[37m\u001B[0m \u001B[1m0s\u001B[0m 61ms/step\n"
     ]
    },
    {
     "data": {
      "text/plain": [
       "<Figure size 640x480 with 1 Axes>"
      ],
      "image/png": "[encoded data removed]"
     },
     "metadata": {},
     "output_type": "display_data"
    }
   ],
   "execution_count": 25
  },
  {
   "metadata": {},
   "cell_type": "markdown",
   "source": [
    "### Question 3: Iris\n",
    "- Load the iris dataset (`../Data/Iris.csv`) and study its contents.\n",
    "- Determine which columns we cannot use in this prediction? Regression or classification?\n",
    "- Now create an input data set `x_iris` and normalize it. Try one of the normalization techniques that you have not yet used in an exercise or assignment.\n",
    "- Create a training data set and a test data set (`x_iris_learning` and `x_iris_validation`) consisting of `80%` and `20%` (randomly chosen) of the input data set `x_iris` respectively.\n",
    "- Create a neural network with the correct inputs and outputs.\n",
    "- Evaluate your neural network on your test data set (`x_test_iris`). What accuracy do you achieve?\n",
    "\n",
    "**Name of Columns**: `sepal length` `sepal width` `petal length` `petal width` `target`"
   ],
   "id": "c5c14954a86e043f"
  },
  {
   "metadata": {
    "ExecuteTime": {
     "end_time": "2024-05-31T09:05:50.980155Z",
     "start_time": "2024-05-31T09:05:50.955191Z"
    }
   },
   "cell_type": "code",
   "source": [
    "# Load in data and filter data\n",
    "iris = pd.read_csv('../Data/Iris.csv', delimiter=',', decimal='.')\n",
    "\n",
    "# Determine how we are going to use the data set\n",
    "print(colored(f\"We can use the 1st 4 columns as input 'sepal length', 'sepal width', 'petal length', 'petal width', for our neural network. The last column is our output 'target'. Obviously this is a classifier. Note this is not a binary classifier because there are three different possibilities.\", outputColor))"
   ],
   "id": "8ba03b2be9dd5d7d",
   "outputs": [
    {
     "name": "stdout",
     "output_type": "stream",
     "text": [
      "\u001B[34mWe can use the 1st 4 columns as input 'sepal length', 'sepal width', 'petal length', 'petal width', for our neural network. The last column is our output 'target'. Obviously this is a classifier. Note this is not a binary classifier because there are three different possibilities.\u001B[0m\n"
     ]
    }
   ],
   "execution_count": 13
  },
  {
   "metadata": {
    "ExecuteTime": {
     "end_time": "2024-05-31T09:52:54.791596Z",
     "start_time": "2024-05-31T09:52:54.767534Z"
    }
   },
   "cell_type": "code",
   "source": [
    "# Split up the necessary data \n",
    "x_iris = iris[['sepal length', 'sepal width', 'petal length', 'petal width']]                                                                       # Get the input\n",
    "y_iris = iris['target']                                                                                                                             # Get the output\n",
    "\n",
    "\n",
    "# Split the data in training data and testing data.\n",
    "x_iris_learning, x_iris_validation, y_iris_learning, y_iris_validation = train_test_split(x_iris, y_iris, test_size=0.2)                            # Split the data\n",
    "print(colored(f\"Splitting the input and output data in learning and validation data respectively 80% and 20%.\\n\", outputColor))\n",
    "\n",
    "# Normalize and convert input and output fields\n",
    "x_iris_learning_normalize = (x_iris_learning - x_iris_learning.min()) / (x_iris_learning.max() - x_iris_learning.min())                             # Normalize the input\n",
    "x_iris_validation_normalize = (x_iris_validation - x_iris_validation.min()) / (x_iris_validation.max() - x_iris_validation.min())                   # Normalize the input \n",
    "\n",
    "                                            \n",
    "y_iris_learning_replace = y_iris_learning.replace(to_replace=['Iris-setosa', 'Iris-versicolor', 'Iris-virginica'], value=[0, 1, 2]).values          # Replace the output\n",
    "y_iris_learning_replace = to_categorical(y_iris_learning_replace)                                                                                   # One-hot encoding\n",
    "\n",
    "print(colored(f\"We need to normalize the inputs and outputs. Obviously the outputs because this is a classifier.\", outputColor))"
   ],
   "id": "975fd0b8d42a7100",
   "outputs": [
    {
     "name": "stdout",
     "output_type": "stream",
     "text": [
      "\u001B[34mSplitting the input and output data in learning and validation data respectively 80% and 20%.\n",
      "\u001B[0m\n",
      "\u001B[34mWe need to normalize the inputs and outputs. Obviously the outputs because this is a classifier.\u001B[0m\n"
     ]
    }
   ],
   "execution_count": 47
  },
  {
   "metadata": {},
   "cell_type": "code",
   "source": [
    "# Create (ANN) artificial neural network\n",
    "inputs_iris = Input(shape=(4,))\n",
    "x_iris_model = Dense(8, activation='sigmoid')(inputs_iris)\n",
    "x_iris_model = Dense(16, activation='sigmoid')(x_iris_model)\n",
    "x_iris_model = Dense(32, activation='sigmoid')(x_iris_model)\n",
    "x_iris_model = Dense(16, activation='sigmoid')(x_iris_model)\n",
    "x_iris_model = Dense(8, activation='sigmoid')(x_iris_model)\n",
    "outputs_iris = Dense(3, activation='softmax')(x_iris_model)\n",
    "model_iris = Model(inputs_iris, outputs_iris, name='Iris_NN')                                                               # Softmax for one-hot encoding (classification)\n",
    "\n",
    "# Compile the model\n",
    "model_iris.compile(optimizer=Adam(learning_rate=0.001), loss=keras.losses.categorical_crossentropy, metrics=['accuracy'])   # Categorical_crossentropy for one-hot encoding\n",
    "\n",
    "# Fit the model\n",
    "history_iris = model_iris.fit(\n",
    "                            x_iris_learning_normalize,              # Input\n",
    "                            y_iris_learning_replace,                # Output\n",
    "                            epochs=1000,                            # Number of epochs (epochs = iterations over all the dataset)\n",
    "                            callbacks=[PlotLossesKeras()],          # Plot the losses\n",
    "                            verbose=False)                          # Fit the model"
   ],
   "id": "7549f35f7bce3761",
   "execution_count": 61,
   "outputs": [
    {
     "name": "stdout",
     "output_type": "stream",
     "text": [
      "accuracy\n",
      "\taccuracy         \t (min:    0.125, max:    0.992, cur:    0.992)\n",
      "Loss\n",
      "\tloss             \t (min:    0.046, max:    1.221, cur:    0.046)\n"
     ]
    }
   ]
  },
  {
   "metadata": {
    "ExecuteTime": {
     "end_time": "2024-05-31T10:21:48.602860Z",
     "start_time": "2024-05-31T10:21:48.560388Z"
    }
   },
   "cell_type": "code",
   "source": [
    "# Get a summary of the model\n",
    "model_iris.summary()"
   ],
   "id": "bb63fbe5a3106b3",
   "outputs": [
    {
     "data": {
      "text/plain": [
       "\u001B[1mModel: \"Iris_NN\"\u001B[0m\n"
      ],
      "text/html": [
       "<pre style=\"white-space:pre;overflow-x:auto;line-height:normal;font-family:Menlo,'DejaVu Sans Mono',consolas,'Courier New',monospace\"><span style=\"font-weight: bold\">Model: \"Iris_NN\"</span>\n",
       "</pre>\n"
      ]
     },
     "metadata": {},
     "output_type": "display_data"
    },
    {
     "data": {
      "text/plain": [
       "┏━━━━━━━━━━━━━━━━━━━━━━━━━━━━━━━━━┳━━━━━━━━━━━━━━━━━━━━━━━━┳━━━━━━━━━━━━━━━┓\n",
       "┃\u001B[1m \u001B[0m\u001B[1mLayer (type)                   \u001B[0m\u001B[1m \u001B[0m┃\u001B[1m \u001B[0m\u001B[1mOutput Shape          \u001B[0m\u001B[1m \u001B[0m┃\u001B[1m \u001B[0m\u001B[1m      Param #\u001B[0m\u001B[1m \u001B[0m┃\n",
       "┡━━━━━━━━━━━━━━━━━━━━━━━━━━━━━━━━━╇━━━━━━━━━━━━━━━━━━━━━━━━╇━━━━━━━━━━━━━━━┩\n",
       "│ input_layer_7 (\u001B[38;5;33mInputLayer\u001B[0m)      │ (\u001B[38;5;45mNone\u001B[0m, \u001B[38;5;34m4\u001B[0m)              │             \u001B[38;5;34m0\u001B[0m │\n",
       "├─────────────────────────────────┼────────────────────────┼───────────────┤\n",
       "│ dense_42 (\u001B[38;5;33mDense\u001B[0m)                │ (\u001B[38;5;45mNone\u001B[0m, \u001B[38;5;34m8\u001B[0m)              │            \u001B[38;5;34m40\u001B[0m │\n",
       "├─────────────────────────────────┼────────────────────────┼───────────────┤\n",
       "│ dense_43 (\u001B[38;5;33mDense\u001B[0m)                │ (\u001B[38;5;45mNone\u001B[0m, \u001B[38;5;34m16\u001B[0m)             │           \u001B[38;5;34m144\u001B[0m │\n",
       "├─────────────────────────────────┼────────────────────────┼───────────────┤\n",
       "│ dense_44 (\u001B[38;5;33mDense\u001B[0m)                │ (\u001B[38;5;45mNone\u001B[0m, \u001B[38;5;34m32\u001B[0m)             │           \u001B[38;5;34m544\u001B[0m │\n",
       "├─────────────────────────────────┼────────────────────────┼───────────────┤\n",
       "│ dense_45 (\u001B[38;5;33mDense\u001B[0m)                │ (\u001B[38;5;45mNone\u001B[0m, \u001B[38;5;34m16\u001B[0m)             │           \u001B[38;5;34m528\u001B[0m │\n",
       "├─────────────────────────────────┼────────────────────────┼───────────────┤\n",
       "│ dense_46 (\u001B[38;5;33mDense\u001B[0m)                │ (\u001B[38;5;45mNone\u001B[0m, \u001B[38;5;34m8\u001B[0m)              │           \u001B[38;5;34m136\u001B[0m │\n",
       "├─────────────────────────────────┼────────────────────────┼───────────────┤\n",
       "│ dense_47 (\u001B[38;5;33mDense\u001B[0m)                │ (\u001B[38;5;45mNone\u001B[0m, \u001B[38;5;34m3\u001B[0m)              │            \u001B[38;5;34m27\u001B[0m │\n",
       "└─────────────────────────────────┴────────────────────────┴───────────────┘\n"
      ],
      "text/html": [
       "<pre style=\"white-space:pre;overflow-x:auto;line-height:normal;font-family:Menlo,'DejaVu Sans Mono',consolas,'Courier New',monospace\">┏━━━━━━━━━━━━━━━━━━━━━━━━━━━━━━━━━┳━━━━━━━━━━━━━━━━━━━━━━━━┳━━━━━━━━━━━━━━━┓\n",
       "┃<span style=\"font-weight: bold\"> Layer (type)                    </span>┃<span style=\"font-weight: bold\"> Output Shape           </span>┃<span style=\"font-weight: bold\">       Param # </span>┃\n",
       "┡━━━━━━━━━━━━━━━━━━━━━━━━━━━━━━━━━╇━━━━━━━━━━━━━━━━━━━━━━━━╇━━━━━━━━━━━━━━━┩\n",
       "│ input_layer_7 (<span style=\"color: #0087ff; text-decoration-color: #0087ff\">InputLayer</span>)      │ (<span style=\"color: #00d7ff; text-decoration-color: #00d7ff\">None</span>, <span style=\"color: #00af00; text-decoration-color: #00af00\">4</span>)              │             <span style=\"color: #00af00; text-decoration-color: #00af00\">0</span> │\n",
       "├─────────────────────────────────┼────────────────────────┼───────────────┤\n",
       "│ dense_42 (<span style=\"color: #0087ff; text-decoration-color: #0087ff\">Dense</span>)                │ (<span style=\"color: #00d7ff; text-decoration-color: #00d7ff\">None</span>, <span style=\"color: #00af00; text-decoration-color: #00af00\">8</span>)              │            <span style=\"color: #00af00; text-decoration-color: #00af00\">40</span> │\n",
       "├─────────────────────────────────┼────────────────────────┼───────────────┤\n",
       "│ dense_43 (<span style=\"color: #0087ff; text-decoration-color: #0087ff\">Dense</span>)                │ (<span style=\"color: #00d7ff; text-decoration-color: #00d7ff\">None</span>, <span style=\"color: #00af00; text-decoration-color: #00af00\">16</span>)             │           <span style=\"color: #00af00; text-decoration-color: #00af00\">144</span> │\n",
       "├─────────────────────────────────┼────────────────────────┼───────────────┤\n",
       "│ dense_44 (<span style=\"color: #0087ff; text-decoration-color: #0087ff\">Dense</span>)                │ (<span style=\"color: #00d7ff; text-decoration-color: #00d7ff\">None</span>, <span style=\"color: #00af00; text-decoration-color: #00af00\">32</span>)             │           <span style=\"color: #00af00; text-decoration-color: #00af00\">544</span> │\n",
       "├─────────────────────────────────┼────────────────────────┼───────────────┤\n",
       "│ dense_45 (<span style=\"color: #0087ff; text-decoration-color: #0087ff\">Dense</span>)                │ (<span style=\"color: #00d7ff; text-decoration-color: #00d7ff\">None</span>, <span style=\"color: #00af00; text-decoration-color: #00af00\">16</span>)             │           <span style=\"color: #00af00; text-decoration-color: #00af00\">528</span> │\n",
       "├─────────────────────────────────┼────────────────────────┼───────────────┤\n",
       "│ dense_46 (<span style=\"color: #0087ff; text-decoration-color: #0087ff\">Dense</span>)                │ (<span style=\"color: #00d7ff; text-decoration-color: #00d7ff\">None</span>, <span style=\"color: #00af00; text-decoration-color: #00af00\">8</span>)              │           <span style=\"color: #00af00; text-decoration-color: #00af00\">136</span> │\n",
       "├─────────────────────────────────┼────────────────────────┼───────────────┤\n",
       "│ dense_47 (<span style=\"color: #0087ff; text-decoration-color: #0087ff\">Dense</span>)                │ (<span style=\"color: #00d7ff; text-decoration-color: #00d7ff\">None</span>, <span style=\"color: #00af00; text-decoration-color: #00af00\">3</span>)              │            <span style=\"color: #00af00; text-decoration-color: #00af00\">27</span> │\n",
       "└─────────────────────────────────┴────────────────────────┴───────────────┘\n",
       "</pre>\n"
      ]
     },
     "metadata": {},
     "output_type": "display_data"
    },
    {
     "data": {
      "text/plain": [
       "\u001B[1m Total params: \u001B[0m\u001B[38;5;34m4,259\u001B[0m (16.64 KB)\n"
      ],
      "text/html": [
       "<pre style=\"white-space:pre;overflow-x:auto;line-height:normal;font-family:Menlo,'DejaVu Sans Mono',consolas,'Courier New',monospace\"><span style=\"font-weight: bold\"> Total params: </span><span style=\"color: #00af00; text-decoration-color: #00af00\">4,259</span> (16.64 KB)\n",
       "</pre>\n"
      ]
     },
     "metadata": {},
     "output_type": "display_data"
    },
    {
     "data": {
      "text/plain": [
       "\u001B[1m Trainable params: \u001B[0m\u001B[38;5;34m1,419\u001B[0m (5.54 KB)\n"
      ],
      "text/html": [
       "<pre style=\"white-space:pre;overflow-x:auto;line-height:normal;font-family:Menlo,'DejaVu Sans Mono',consolas,'Courier New',monospace\"><span style=\"font-weight: bold\"> Trainable params: </span><span style=\"color: #00af00; text-decoration-color: #00af00\">1,419</span> (5.54 KB)\n",
       "</pre>\n"
      ]
     },
     "metadata": {},
     "output_type": "display_data"
    },
    {
     "data": {
      "text/plain": [
       "\u001B[1m Non-trainable params: \u001B[0m\u001B[38;5;34m0\u001B[0m (0.00 B)\n"
      ],
      "text/html": [
       "<pre style=\"white-space:pre;overflow-x:auto;line-height:normal;font-family:Menlo,'DejaVu Sans Mono',consolas,'Courier New',monospace\"><span style=\"font-weight: bold\"> Non-trainable params: </span><span style=\"color: #00af00; text-decoration-color: #00af00\">0</span> (0.00 B)\n",
       "</pre>\n"
      ]
     },
     "metadata": {},
     "output_type": "display_data"
    },
    {
     "data": {
      "text/plain": [
       "\u001B[1m Optimizer params: \u001B[0m\u001B[38;5;34m2,840\u001B[0m (11.10 KB)\n"
      ],
      "text/html": [
       "<pre style=\"white-space:pre;overflow-x:auto;line-height:normal;font-family:Menlo,'DejaVu Sans Mono',consolas,'Courier New',monospace\"><span style=\"font-weight: bold\"> Optimizer params: </span><span style=\"color: #00af00; text-decoration-color: #00af00\">2,840</span> (11.10 KB)\n",
       "</pre>\n"
      ]
     },
     "metadata": {},
     "output_type": "display_data"
    }
   ],
   "execution_count": 64
  },
  {
   "metadata": {
    "ExecuteTime": {
     "end_time": "2024-05-31T10:17:29.708862Z",
     "start_time": "2024-05-31T10:17:29.602262Z"
    }
   },
   "cell_type": "code",
   "source": [
    "# Use the model for prediction\n",
    "predicted = model_iris.predict(x_iris_validation_normalize)                                                                         # Predict the output\n",
    "predicted = np.argmax(predicted, axis=1)                                                                                            # Get the highest value\n",
    "predicted = np.where(predicted == 0, 'Iris-setosa', np.where(predicted == 1, 'Iris-versicolor', 'Iris-virginica'))                  # Replace the output\n",
    "original = y_iris_validation.values\n",
    "\n",
    "# Evaluate the model\n",
    "correct = np.mean(predicted == original)                                                                                            # Get the mean of the correct predictions\n",
    "print(colored(f\"\\nThe percentage of Iris that are correctly classified is: {round(correct, 2) * 100}%\", outputColor))"
   ],
   "id": "1294f73822e93764",
   "outputs": [
    {
     "name": "stdout",
     "output_type": "stream",
     "text": [
      "\u001B[1m1/1\u001B[0m \u001B[32m━━━━━━━━━━━━━━━━━━━━\u001B[0m\u001B[37m\u001B[0m \u001B[1m0s\u001B[0m 59ms/step\n",
      "\u001B[34m\n",
      "The percentage of Iris that are correctly classified is: 97.0%\u001B[0m\n"
     ]
    }
   ],
   "execution_count": 62
  },
  {
   "metadata": {
    "ExecuteTime": {
     "end_time": "2024-05-31T10:18:38.878470Z",
     "start_time": "2024-05-31T10:18:38.701457Z"
    }
   },
   "cell_type": "code",
   "source": [
    "# Let's try to predict a new flower\n",
    "newFlower = pd.DataFrame({'sepal length': [5.9], 'sepal width': [3.0], 'petal length': [5.1], 'petal width': [1.8]})                # New flower\n",
    "newFlower_normalize = (newFlower - x_iris.min()) / (x_iris.max() - x_iris.min())                                                    # Normalize the new flower\n",
    "prediction = model_iris.predict(newFlower_normalize)                                                                                # Predict the output\n",
    "prediction = np.argmax(prediction, axis=1)                                                                                          # Get the highest value\n",
    "prediction = np.where(prediction == 0, 'Iris-setosa', np.where(prediction == 1, 'Iris-versicolor', 'Iris-virginica'))               # Replace the output\n",
    "print(colored(f\"The prediction for the new flower is: {prediction}\", outputColor))"
   ],
   "id": "c8a550a4d3bdbdb0",
   "outputs": [
    {
     "name": "stdout",
     "output_type": "stream",
     "text": [
      "\u001B[1m1/1\u001B[0m \u001B[32m━━━━━━━━━━━━━━━━━━━━\u001B[0m\u001B[37m\u001B[0m \u001B[1m0s\u001B[0m 98ms/step\n",
      "\u001B[34mThe prediction for the new flower is: ['Iris-virginica']\u001B[0m\n"
     ]
    }
   ],
   "execution_count": 63
  },
  {
   "metadata": {},
   "cell_type": "markdown",
   "source": "## Exercises Meta Heuristics (Week 5-6)",
   "id": "d70c9f58f6e7da43"
  },
  {
   "metadata": {},
   "cell_type": "markdown",
   "source": [
    "### Question 1: The Backpack\n",
    "You will find yourself in a **secret room** equipped with a door with a **time lock**. You'll see a timer countdown telling you that you only have five minutes left before the door will be locked forever. In front of you are **valuable objects**, each with their own **yield and weight**. You have a backpack that can carry an absolute maximum weight of `750 grams`. Put together the optimal backpack. You should end up with an optimal yield of `1458` (or at least a value close to that).\n",
    "\n",
    "$$ \\text{Maximize} \\sum_{i=1}^{n} v_i \\cdot x_i $$"
   ],
   "id": "6058e50b93fffa60"
  },
  {
   "metadata": {
    "ExecuteTime": {
     "end_time": "2024-05-31T14:28:32.912124Z",
     "start_time": "2024-05-31T14:28:32.897336Z"
    }
   },
   "cell_type": "code",
   "source": "knapsackItems = pd.read_csv('../Data/KnapsackItems.csv', sep=',')",
   "id": "d93367a00aadaa07",
   "outputs": [],
   "execution_count": 102
  },
  {
   "metadata": {},
   "cell_type": "markdown",
   "source": "#### 1.1. Simulated Annealing",
   "id": "2a4c9ea27ea91f88"
  },
  {
   "metadata": {
    "ExecuteTime": {
     "end_time": "2024-05-31T14:51:10.300585Z",
     "start_time": "2024-05-31T14:50:58.364256Z"
    }
   },
   "cell_type": "code",
   "source": [
    "class TheBackpackProblem(Annealer):\n",
    "    def energy(self):\n",
    "        solution = self.state\n",
    "        total_weight = (solution * items_weight).sum()\n",
    "        if total_weight > 750:\n",
    "            total_value = 0\n",
    "        else:\n",
    "            total_value = (solution * items_value).sum()\n",
    "        return -total_value\n",
    "    \n",
    "    def move(self):\n",
    "        idx = np.random.randint(0, len(self.state))\n",
    "        self.state[idx] = 1 - self.state[idx]\n",
    "\n",
    "\n",
    "items_weight = knapsackItems['Gewichten(gr)']\n",
    "items_value = knapsackItems['Waarde']\n",
    "\n",
    "initial_state = np.random.choice([0, 1], size=len(items_weight))\n",
    "optimal_solution, optimal_value = TheBackpackProblem(initial_state).anneal()\n",
    "\n",
    "print(colored(f\"Optimal solution: {optimal_solution}\\nObjective function value: {optimal_value}\", outputColor))"
   ],
   "id": "19a4b8dc38758cbb",
   "outputs": [
    {
     "name": "stderr",
     "output_type": "stream",
     "text": [
      " Temperature        Energy    Accept   Improve     Elapsed   Remaining\n",
      "\r    2.50000      -1416.00     0.00%     0.00%     0:00:12     0:00:00"
     ]
    },
    {
     "name": "stdout",
     "output_type": "stream",
     "text": [
      "\u001B[34mOptimal solution: [1 0 1 0 1 0 1 1 1 0 0 0 0 1 1]\n",
      "Objective function value: -1458\u001B[0m\n"
     ]
    }
   ],
   "execution_count": 116
  },
  {
   "metadata": {},
   "cell_type": "markdown",
   "source": "#### 1.2. Genetic Algorithm",
   "id": "4bd1b7a17bc554f9"
  },
  {
   "metadata": {
    "ExecuteTime": {
     "end_time": "2024-05-31T14:51:38.779684Z",
     "start_time": "2024-05-31T14:51:30.451059Z"
    }
   },
   "cell_type": "code",
   "source": [
    "# Function to generate initial population of candidate solutions\n",
    "def generate(random = None, args = None):\n",
    "    # Return a random binary array (0s and 1s) of the same length as 'weight_items' column in the dataframe\n",
    "    return np.random.choice([0,1], size=len(args.get('weight_items'))) \n",
    "\n",
    "# Function to evaluate the fitness of each candidate solution\n",
    "def evaluate(candidates, args = None):\n",
    "    fitness = []\n",
    "    for candidate in candidates:  # Iterate over each candidate solution\n",
    "        # Calculate total weight of the selected items by multiplying candidate vector with weight_items and summing up\n",
    "        total_weight = (candidate * args.get('weight_items')).sum()\n",
    "        \n",
    "        # If total weight exceeds 750, set total value to 0 (invalid solution)\n",
    "        if total_weight > 750:\n",
    "            total_value = 0\n",
    "        else:\n",
    "            # Otherwise, calculate total value by multiplying candidate vector with value_items and summing up\n",
    "            total_value = (candidate * args.get('value_items')).sum()\n",
    "        # Append the total value to the fitness list\n",
    "        fitness.append(total_value)\n",
    "    return fitness\n",
    "\n",
    "rand = Random()                                                                 # Instantiate a random number generator\n",
    "ga = ec.GA(rand)                                                                # Create a Genetic Algorithm object with the random generator\n",
    "ga.terminator = ec.terminators.evaluation_termination                           # Set the termination condition to be based on number of evaluations\n",
    "ga.variator = [ec.variators.n_point_crossover, ec.variators.bit_flip_mutation]  # Set the variators to use n-point crossover and bit flip mutation for generating new candidates\n",
    "ga.observer = ec.observers.plot_observer                                        # Set an observer to plot the progress of the algorithm\n",
    "population = ga.evolve(                                                         # Evolve the population using the specified parameters\n",
    "    generator = generate,                                                       # Function to generate initial population\n",
    "    evaluator = evaluate,                                                       # Function to evaluate fitness of candidates\n",
    "    selector = ec.selectors.fitness_proportionate_selection,                    # Selection method based on fitness proportion\n",
    "    pop_size = 600,                                                             # Population size of 600 candidates\n",
    "    maximize = True,                                                            # We aim to maximize the fitness value\n",
    "    bounder = ec.Bounder(0, 1),                                                 # Candidates are bounded between 0 and 1 (binary)\n",
    "    max_evaluations = 20000,                                                    # Maximum number of evaluations (termination condition)\n",
    "    mutation_rate = 0.25,                                                       # Mutation rate of 25%\n",
    "    weight_items = knapsackItems['Gewichten(gr)'],                              # Weights of items (from dataframe)\n",
    "    value_items = knapsackItems['Waarde'])                                      # Values of items (from dataframe)\n",
    "population.sort(reverse=True)                                                   # Sort the population based on fitness in descending order\n",
    "\n",
    "print(colored(f\"Optimal solution: {population[0].candidate}\\nObjective function value: {population[0].fitness}\", outputColor))"
   ],
   "id": "4c55fb66f585a175",
   "outputs": [
    {
     "name": "stdout",
     "output_type": "stream",
     "text": [
      "\u001B[34mOptimal solution: [0 1 1 0 0 1 1 1 1 0 1 0 0 0 1]\n",
      "Objective function value: 1450\u001B[0m\n"
     ]
    },
    {
     "data": {
      "text/plain": [
       "<Figure size 640x480 with 1 Axes>"
      ],
      "image/png": "[encoded data removed]"
     },
     "metadata": {},
     "output_type": "display_data"
    }
   ],
   "execution_count": 118
  },
  {
   "metadata": {},
   "cell_type": "markdown",
   "source": [
    "### Question 2: The Gutter\n",
    "You are responsible for the design of gutters where the production costs must be as low as possible. It is therefore necessary that the gutters have an optimal cross-section with the available material so that leaves and dirt can be easily removed. The company you work for purchases **metal plates** that have a width of `1m. In other words H + W + H` see drawing-must be less than or equal to `1m`. Determine the **ideal `width B` and `height H`** of the gutter that you can make from the `1m` plates.\n",
    "\n",
    "$$ \\text{Maximize} \\frac{1}{2} \\cdot B \\cdot H $$\n",
    "\n",
    "![Gutter](../W23P4-W24P4/Images/theGutter.png)"
   ],
   "id": "4a91b753b61cf14d"
  },
  {
   "metadata": {},
   "cell_type": "markdown",
   "source": "#### 2.1. Simulated Annealing",
   "id": "345a97b97277a96c"
  },
  {
   "metadata": {
    "ExecuteTime": {
     "end_time": "2024-05-31T12:54:44.874871Z",
     "start_time": "2024-05-31T12:54:44.147225Z"
    }
   },
   "cell_type": "code",
   "source": [
    "class TheGutterProblem(Annealer):\n",
    "    def energy(self):\n",
    "        width  = self.state[0]              # Width = B\n",
    "        height = (maxMeter - width) / 2     # Height = H\n",
    "        return -width * height              # Width * Height = Is the area of the gutter\n",
    "    \n",
    "    def move(self):\n",
    "        width = self.state[0]\n",
    "        width += np.random.normal(0, 0.1)                                   # Get a random number from a normal distribution\n",
    "        self.state[0] = np.clip(width, minMeter, maxMeter)\n",
    "\n",
    "minMeter = 0\n",
    "maxMeter = 1\n",
    "initial_state = np.random.uniform(minMeter, maxMeter, size=1)\n",
    "optimal_solution, optimal_value = TheGutterProblem(initial_state).anneal()\n",
    "\n",
    "print(colored(f\"Optimal solution: {optimal_solution}\\nObjective function value: {optimal_value}\", outputColor))"
   ],
   "id": "929a494fab43a160",
   "outputs": [
    {
     "name": "stderr",
     "output_type": "stream",
     "text": [
      " Temperature        Energy    Accept   Improve     Elapsed   Remaining\n",
      "     2.50000         -0.09    99.80%    46.80%     0:00:01     0:00:00\r"
     ]
    },
    {
     "name": "stdout",
     "output_type": "stream",
     "text": [
      "\u001B[34mRoute: [0.49999536]\n",
      "Distance: 0.12499999998922813\u001B[0m\n"
     ]
    }
   ],
   "execution_count": 86
  },
  {
   "metadata": {},
   "cell_type": "markdown",
   "source": "#### 2.2. Genetic Algorithm",
   "id": "a2c11b92029c23ca"
  },
  {
   "metadata": {
    "ExecuteTime": {
     "end_time": "2024-05-31T14:56:59.692026Z",
     "start_time": "2024-05-31T14:56:54.414097Z"
    }
   },
   "cell_type": "code",
   "source": [
    "def generate(random = None, args = None):\n",
    "    return np.random.uniform(low=0, high=1, size=1)\n",
    "\n",
    "def evaluate(candidates, args = None):\n",
    "    fitness = []\n",
    "    for candidate in candidates:\n",
    "        width  = candidate[0]               # Width = B\n",
    "        height = (maxMeter - width) / 2     # Height = H\n",
    "        fitness.append(width * height)     # Width * Height = Is the area of the gutter\n",
    "    return fitness\n",
    "\n",
    "minMeter = 0\n",
    "maxMeter = 1\n",
    "\n",
    "rand = Random()\n",
    "ga = ec.GA(rand)\n",
    "ga.terminator = ec.terminators.evaluation_termination\n",
    "ga.variator = [ec.variators.arithmetic_crossover, ec.variators.gaussian_mutation]\n",
    "ga.observer = ec.observers.plot_observer\n",
    "population = ga.evolve(\n",
    "    generator = generate,\n",
    "    evaluator = evaluate,\n",
    "    selector = ec.selectors.fitness_proportionate_selection,\n",
    "    pop_size = 400,\n",
    "    maximize = True,\n",
    "    bounder = ec.Bounder(minMeter, maxMeter),\n",
    "    max_evaluations = 20000,\n",
    "    mutation_rate = 0.25)\n",
    "population.sort(reverse=True)\n",
    "\n",
    "print(colored(f\"Optimal solution: {population[0].candidate}\\nObjective function value: {population[0].fitness}\", outputColor))"
   ],
   "id": "d177f8778f76b319",
   "outputs": [
    {
     "name": "stdout",
     "output_type": "stream",
     "text": [
      "\u001B[34mOptimal solution: [0.49997767]\n",
      "Objective function value: 0.12499999975067326\u001B[0m\n"
     ]
    },
    {
     "data": {
      "text/plain": [
       "<Figure size 640x480 with 1 Axes>"
      ],
      "image/png": "[encoded data removed]"
     },
     "metadata": {},
     "output_type": "display_data"
    }
   ],
   "execution_count": 133
  },
  {
   "metadata": {},
   "cell_type": "markdown",
   "source": [
    "### Question 3: The Football Stadium\n",
    "The local sports club wants to build a new stadium. The perimeter of the sports field should be `400m`, and at the same time we want to ensure that the central midfield has a maximum surface area. Determine the ideal length and width ratio.\n",
    "\n",
    "$$ \\text{Maximize } L \\cdot B $$\n",
    "\n",
    "![The Football Stadium](../W23P4-W24P4/Images/theFootballStadium.png)"
   ],
   "id": "af831a1977c6fcaa"
  },
  {
   "metadata": {},
   "cell_type": "markdown",
   "source": "#### 3.1. Simulated Annealing",
   "id": "d107b53990b62395"
  },
  {
   "metadata": {
    "ExecuteTime": {
     "end_time": "2024-05-31T14:52:29.661354Z",
     "start_time": "2024-05-31T14:52:28.821111Z"
    }
   },
   "cell_type": "code",
   "source": [
    "class TheGutterProblem(Annealer):\n",
    "    def energy(self):\n",
    "        length = self.state[0]                  # Length = L\n",
    "        height = circumference - (length * 2)   # Height = B\n",
    "        area = length * height\n",
    "        return -area\n",
    "    \n",
    "    def move(self):\n",
    "        length = self.state[0]\n",
    "        length += np.random.normal(0, 0.1)                                  # Get a random number from a normal distribution\n",
    "        self.state[0] = np.clip(length, 0, (circumference / 2))\n",
    "\n",
    "circumference = 400\n",
    "\n",
    "initial_state = np.random.uniform(0, (circumference / 2), size=1)\n",
    "optimal_solution, optimal_value = TheGutterProblem(initial_state).anneal()\n",
    "\n",
    "print(colored(f\"Optimal solution: {optimal_solution}\\nObjective function value: {-optimal_value}\", outputColor))\n",
    "\n",
    "length = optimal_solution[0]\n",
    "height = 200 - length\n",
    "max_area = length * height\n",
    "\n",
    "print(colored(f\"\\nOptimal Length (L): {length:.2f} m\", outputColor))\n",
    "print(colored(f\"Optimal Height (B): {height:.2f} m\", outputColor))\n",
    "print(colored(f\"Maximum Area: {max_area:.2f} m^2\", outputColor))"
   ],
   "id": "3184f4570dd229b9",
   "outputs": [
    {
     "name": "stderr",
     "output_type": "stream",
     "text": [
      " Temperature        Energy    Accept   Improve     Elapsed   Remaining\n",
      "     2.50000     -19999.98    95.60%    48.60%     0:00:01     0:00:00\r"
     ]
    },
    {
     "name": "stdout",
     "output_type": "stream",
     "text": [
      "\u001B[34mOptimal solution: [99.99987414]\n",
      "Objective function value: 19999.999999968317\u001B[0m\n",
      "\u001B[34m\n",
      "Optimal Length (L): 100.00 m\u001B[0m\n",
      "\u001B[34mOptimal Height (B): 100.00 m\u001B[0m\n",
      "\u001B[34mMaximum Area: 10000.00 m^2\u001B[0m\n"
     ]
    }
   ],
   "execution_count": 120
  },
  {
   "metadata": {},
   "cell_type": "markdown",
   "source": "#### 3.2. Genetic Algorithm",
   "id": "f6615bd2b665470e"
  },
  {
   "metadata": {
    "ExecuteTime": {
     "end_time": "2024-05-31T15:01:44.889146Z",
     "start_time": "2024-05-31T15:01:39.119782Z"
    }
   },
   "cell_type": "code",
   "source": [
    "def generate(random = None, args = None):\n",
    "    return np.random.uniform(low=0, high=args.get('circumference') / 2, size=1)\n",
    "\n",
    "def evaluate(candidates, args = None):\n",
    "    fitness = []\n",
    "    for candidate in candidates:\n",
    "        length = candidate[0]                               # Length = L\n",
    "        height = args.get('circumference') - (length * 2)   # Height = B\n",
    "        area = length * height\n",
    "        fitness.append(area)\n",
    "    return fitness\n",
    "\n",
    "circumference = 400\n",
    "\n",
    "rand = Random()\n",
    "ga = ec.GA(rand)\n",
    "ga.terminator = ec.terminators.evaluation_termination\n",
    "ga.variator = [ec.variators.arithmetic_crossover, ec.variators.gaussian_mutation]\n",
    "ga.observer = ec.observers.plot_observer\n",
    "population = ga.evolve(\n",
    "    generator = generate,\n",
    "    evaluator = evaluate,\n",
    "    selector = ec.selectors.fitness_proportionate_selection,\n",
    "    pop_size = 400,\n",
    "    maximize = True,\n",
    "    bounder = ec.Bounder(0, (circumference / 2)),\n",
    "    max_evaluations = 20000,\n",
    "    mutation_rate = 0.25,\n",
    "    circumference=circumference)\n",
    "population.sort(reverse=True)\n",
    "\n",
    "print(colored(f\"Optimal solution: {population[0].candidate}\\nObjective function value: {population[0].fitness}\", outputColor))"
   ],
   "id": "7f1b4147a29b693b",
   "outputs": [
    {
     "name": "stdout",
     "output_type": "stream",
     "text": [
      "\u001B[34mOptimal solution: [100.00000621]\n",
      "Objective function value: 19999.999999999924\u001B[0m\n"
     ]
    },
    {
     "data": {
      "text/plain": [
       "<Figure size 640x480 with 1 Axes>"
      ],
      "image/png": "[encoded data removed]"
     },
     "metadata": {},
     "output_type": "display_data"
    }
   ],
   "execution_count": 138
  },
  {
   "metadata": {},
   "cell_type": "markdown",
   "source": [
    "### Question 4: Optimization problem\n",
    "\n",
    "Given the following objective function to be maximized:\n",
    "\n",
    "\n",
    "$ obj = 0.2 + x_1^2 + x_2^2 - 0.1 \\cos(6\\pi x_1) - 0.1 \\cos(6\\pi x_2) $\n",
    "\n",
    "\n",
    "With the following restrictions: $-1.0 \\leq x_i \\leq 1.0$ met $i=1,2$\n",
    "\n",
    "Find a good solution."
   ],
   "id": "9b7556a7d5856303"
  },
  {
   "metadata": {},
   "cell_type": "markdown",
   "source": "#### 4.1. Simulated Annealing",
   "id": "aef7f78cd95ebc6"
  },
  {
   "metadata": {
    "ExecuteTime": {
     "end_time": "2024-05-31T14:53:06.041017Z",
     "start_time": "2024-05-31T14:53:05.059654Z"
    }
   },
   "cell_type": "code",
   "source": [
    "class TheGutterProblem(Annealer):\n",
    "    def energy(self):\n",
    "        x1 = self.state[0]\n",
    "        x2 = self.state[1]\n",
    "        obj = 0.2 + x1**2 + x2**2 - 0.1 * math.cos(6 * math.pi * x1) - 0.1 * math.cos(6 * math.pi * x2)\n",
    "        return -obj\n",
    "    \n",
    "    def move(self):\n",
    "        idx = np.random.randint(0,2)                                        # Get a random number between 0 and 1\n",
    "        self.state[idx] += np.random.normal(0, 0.1)\n",
    "        self.state[idx] = np.clip(self.state[idx], minValue, maxValue)\n",
    "\n",
    "minValue = -1.0\n",
    "maxValue = 1.0\n",
    "initial_state = np.random.uniform(minValue, maxValue, size=2)\n",
    "optimal_solution, optimal_value = TheGutterProblem(initial_state).anneal()\n",
    "\n",
    "print(colored(f\"Optimal solution: {optimal_solution}\\nObjective function value: {-optimal_value}\", outputColor))"
   ],
   "id": "60e28cc313abc62a",
   "outputs": [
    {
     "name": "stderr",
     "output_type": "stream",
     "text": [
      " Temperature        Energy    Accept   Improve     Elapsed   Remaining\n",
      "     2.50000         -1.35    97.40%    48.60%     0:00:01     0:00:00\r"
     ]
    },
    {
     "name": "stdout",
     "output_type": "stream",
     "text": [
      "\u001B[34mOptimal solution: [1. 1.]\n",
      "Objective function value: 2.0\u001B[0m\n"
     ]
    }
   ],
   "execution_count": 121
  },
  {
   "metadata": {},
   "cell_type": "markdown",
   "source": "#### 4.2. Genetic Algorithm",
   "id": "46099825ae55494f"
  },
  {
   "metadata": {
    "ExecuteTime": {
     "end_time": "2024-05-31T15:09:34.050678Z",
     "start_time": "2024-05-31T15:09:29.525648Z"
    }
   },
   "cell_type": "code",
   "source": [
    "def generate(random = None, args = None):\n",
    "    return np.random.uniform(low=args.get('minValue'), high=args.get('maxValue'), size=2)\n",
    "\n",
    "def evaluate(candidates, args = None):\n",
    "    fitness = []\n",
    "    for candidate in candidates:\n",
    "        x1 = candidate[0]\n",
    "        x2 = candidate[1]\n",
    "        obj = 0.2 + x1**2 + x2**2 - 0.1 * math.cos(6 * math.pi * x1) - 0.1 * math.cos(6 * math.pi * x2)\n",
    "        fitness.append(obj)\n",
    "    return fitness\n",
    "\n",
    "minValue = -1.0\n",
    "maxValue = 1.0\n",
    "\n",
    "rand = Random()\n",
    "ga = ec.GA(rand)\n",
    "ga.terminator = ec.terminators.evaluation_termination\n",
    "ga.variator = [ec.variators.arithmetic_crossover, ec.variators.gaussian_mutation]\n",
    "ga.observer = ec.observers.plot_observer\n",
    "population = ga.evolve(\n",
    "    generator = generate,\n",
    "    evaluator = evaluate,\n",
    "    selector = ec.selectors.fitness_proportionate_selection,\n",
    "    pop_size = 400,\n",
    "    maximize = True,\n",
    "    bounder = ec.Bounder(minValue, maxValue),\n",
    "    max_evaluations = 20000,\n",
    "    mutation_rate = 0.25,\n",
    "    minValue=minValue,\n",
    "    maxValue=maxValue)\n",
    "population.sort(reverse=True)\n",
    "\n",
    "print(colored(f\"Optimal solution: {population[0].candidate}\\nObjective function value: {population[0].fitness}\", outputColor))"
   ],
   "id": "ea3d25b7ffb1d335",
   "outputs": [
    {
     "name": "stdout",
     "output_type": "stream",
     "text": [
      "\u001B[34mOptimal solution: [1. 1.]\n",
      "Objective function value: 2.0\u001B[0m\n"
     ]
    },
    {
     "data": {
      "text/plain": [
       "<Figure size 640x480 with 1 Axes>"
      ],
      "image/png": "[encoded data removed]"
     },
     "metadata": {},
     "output_type": "display_data"
    }
   ],
   "execution_count": 140
  },
  {
   "metadata": {},
   "cell_type": "markdown",
   "source": [
    "### Question 5: Quiz\n",
    "\n",
    "1. Do above-average chromosomes always produce better offspring? \n",
    "2. Can you explore the entire search space with crossover? Are there any limitations to this exploration?\n",
    "3. Why does the chance of mutation play an important role?\n",
    "4. Why is it best to start with a randomized vector for Simulated Annealing?\n",
    "5. Why does the temperature have to decrease during simulated annealing?"
   ],
   "id": "febc066b07108ba"
  },
  {
   "metadata": {
    "ExecuteTime": {
     "end_time": "2024-05-31T15:25:13.761219Z",
     "start_time": "2024-05-31T15:25:13.753011Z"
    }
   },
   "cell_type": "code",
   "source": [
    "answers = ['No, above-average chromosomes do not always produce better offspring.',\n",
    "           'No, crossover cannot explore the entire search space. It is limited by the initial population and the selection process.',\n",
    "           'The chance of mutation plays an important role because it introduces new genetic material into the population, which can help avoid local optima.',\n",
    "           'It is best to start with a randomized vector for Simulated Annealing to ensure that the algorithm explores the solution space effectively and does not get stuck in local optima.',\n",
    "           'The temperature has to decrease during simulated annealing to allow the algorithm to escape local optima and find the global optimum.']\n",
    "\n",
    "color = ['red', 'green', 'blue', 'yellow', 'magenta']\n",
    "\n",
    "for i in range(len(answers)):\n",
    "    print(f\"{i + 1}. \" + colored(f\"{answers[i]}\", color[i]))"
   ],
   "id": "15d11256755141",
   "outputs": [
    {
     "name": "stdout",
     "output_type": "stream",
     "text": [
      "1. \u001B[31mNo, above-average chromosomes do not always produce better offspring.\u001B[0m\n",
      "2. \u001B[32mNo, crossover cannot explore the entire search space. It is limited by the initial population and the selection process.\u001B[0m\n",
      "3. \u001B[34mThe chance of mutation plays an important role because it introduces new genetic material into the population, which can help avoid local optima.\u001B[0m\n",
      "4. \u001B[33mIt is best to start with a randomized vector for Simulated Annealing to ensure that the algorithm explores the solution space effectively and does not get stuck in local optima.\u001B[0m\n",
      "5. \u001B[35mThe temperature has to decrease during simulated annealing to allow the algorithm to escape local optima and find the global optimum.\u001B[0m\n"
     ]
    }
   ],
   "execution_count": 141
  }
 ],
 "metadata": {
  "kernelspec": {
   "display_name": "Python 3",
   "language": "python",
   "name": "python3"
  },
  "language_info": {
   "codemirror_mode": {
    "name": "ipython",
    "version": 2
   },
   "file_extension": ".py",
   "mimetype": "text/x-python",
   "name": "python",
   "nbconvert_exporter": "python",
   "pygments_lexer": "ipython2",
   "version": "2.7.6"
  }
 },
 "nbformat": 4,
 "nbformat_minor": 5
}

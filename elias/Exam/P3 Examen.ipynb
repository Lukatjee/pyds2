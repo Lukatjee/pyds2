{
 "cells": [
  {
   "cell_type": "markdown",
   "id": "3959ab7c-c52f-4912-a177-85ee5ec5a8ec",
   "metadata": {},
   "source": [
    "### NAAM: Elias De Hondt ---- KLAS: ISB204B\n",
    "Je levert een **uitgevoerde notebook** in, dus de **resultaten van de berekeningen staan er ook in**. Resultaten moeten **niet** afgerond worden."
   ]
  },
  {
   "cell_type": "code",
   "id": "5d6867e0-ae45-4e93-813e-23e1bbbbaf96",
   "metadata": {
    "ExecuteTime": {
     "end_time": "2024-05-29T11:03:03.869510Z",
     "start_time": "2024-05-29T11:03:03.851329Z"
    }
   },
   "source": [
    "import math                                                   # Mathematical functions\n",
    "import pandas as pd                                           # Data manipulation\n",
    "from scipy.stats import binom as binomial                     # Binomial distribution\n",
    "from scipy.stats import norm as normal                        # Normal distribution\n",
    "from scipy.stats import poisson as poisson                    # Poisson distribution\n",
    "from scipy.stats import t as student                          # Student distribution\n",
    "from scipy.stats import ttest_1samp                           # One-sample t-test\n",
    "from scipy.stats import chisquare                             # Chi-squared test\n",
    "from mlxtend.frequent_patterns import apriori                 # Apriori algorithm\n",
    "from mlxtend.frequent_patterns import association_rules       # Association rules\n",
    "\n",
    "def rule_filter(row, min_len, max_len):\n",
    "    length = len(row['antecedents']) + len(row['consequents'])\n",
    "    return min_len <= length <= max_len\n",
    "\n",
    "def get_item_list (string):\n",
    "    items = string [1:-1]\n",
    "    return items.split(';')\n",
    "\n",
    "def no_outliers(data): # Return the data without outliers\n",
    "    Q1 = data.quantile(0.25)\n",
    "    Q3 = data.quantile(0.75)\n",
    "    I = Q3 - Q1\n",
    "    low = Q1 - 1.5 * I\n",
    "    high = Q3 + 1.5 * I\n",
    "    outliers = data[(data < low) | (data > high)]\n",
    "    \n",
    "    print(\"Low: \",low)\n",
    "    print(\"High:\",high)\n",
    "    print(\"Len: \",len(data))\n",
    "    print(\"Outliers:\", outliers.values, \"\\n\")\n",
    "    return data[(data >= low) & (data <= high)]\n",
    "\n",
    "def plot_confidence_interval(population_size, sample_mean, sample_standard_deviation, degrees_freedom, plot_factor):\n",
    "    from matplotlib import pyplot as plt\n",
    "    import numpy as np\n",
    "    from scipy.stats import t as student\n",
    "\n",
    "    margin_of_error = plot_factor * sample_standard_deviation / np.sqrt(population_size)\n",
    "    lower_bound = sample_mean - margin_of_error\n",
    "    upper_bound = sample_mean + margin_of_error\n",
    "\n",
    "    # Plotting the confidence interval\n",
    "    plt.figure(figsize=(10, 6))\n",
    "    x_axis = np.linspace(sample_mean - 3 * sample_standard_deviation, sample_mean + 3 * sample_standard_deviation, 1000)\n",
    "    y_axis = student.pdf(x_axis, degrees_freedom, loc=sample_mean, scale=sample_standard_deviation / np.sqrt(population_size))\n",
    "\n",
    "    plt.plot(x_axis, y_axis, label='t-distribution')\n",
    "    plt.axvline(lower_bound, color='red', linestyle='--', label='Lower Bound')\n",
    "    plt.axvline(upper_bound, color='blue', linestyle='--', label='Upper Bound')\n",
    "    plt.axvline(sample_mean, color='green', linestyle='-', label='Sample Mean')\n",
    "\n",
    "    # Mark the confidence interval\n",
    "    plt.fill_betweenx(y_axis, lower_bound, upper_bound, where=(x_axis >= lower_bound) & (x_axis <= upper_bound), color='orange', label='Confidence Interval')\n",
    "\n",
    "    plt.title('Confidence Interval Plot')\n",
    "    plt.xlabel('Sample Mean')\n",
    "    plt.ylabel('Probability Density Function')\n",
    "    plt.legend()\n",
    "    plt.grid(True)\n",
    "    plt.show()"
   ],
   "outputs": [],
   "execution_count": 2
  },
  {
   "cell_type": "code",
   "execution_count": 3,
   "id": "828890e8-f957-4fa5-ae18-c67bf5c7a1a1",
   "metadata": {
    "ExecuteTime": {
     "end_time": "2024-03-29T09:41:08.138122Z",
     "start_time": "2024-03-29T09:41:08.110854Z"
    }
   },
   "outputs": [
    {
     "data": {
      "text/plain": "         age     sex      region    income  married  children    car  fiber  \\\nid                                                                            \nID12101   48  FEMALE  INNER_CITY  17546.00    False         1  False   True   \nID12102   40    MALE        TOWN  30085.10     True         3   True   True   \nID12103   51  FEMALE  INNER_CITY  16575.40     True         0   True   True   \nID12104   23  FEMALE        TOWN  20375.40     True         3  False   True   \nID12105   57  FEMALE       RURAL  50576.30     True         0  False  False   \n...      ...     ...         ...       ...      ...       ...    ...    ...   \nID12696   61  FEMALE  INNER_CITY  47025.00    False         2   True   True   \nID12697   30  FEMALE  INNER_CITY   9672.25     True         0   True   True   \nID12698   31  FEMALE        TOWN  15976.30     True         0   True  False   \nID12699   29    MALE  INNER_CITY  14711.80     True         0  False  False   \nID12700   38    MALE        TOWN  26671.60    False         0   True   True   \n\n         iphone  linux  \nid                      \nID12101   False   True  \nID12102    True  False  \nID12103   False  False  \nID12104   False  False  \nID12105   False  False  \n...         ...    ...  \nID12696    True  False  \nID12697   False  False  \nID12698   False   True  \nID12699    True  False  \nID12700    True   True  \n\n[600 rows x 10 columns]",
      "text/html": "<div>\n<style scoped>\n    .dataframe tbody tr th:only-of-type {\n        vertical-align: middle;\n    }\n\n    .dataframe tbody tr th {\n        vertical-align: top;\n    }\n\n    .dataframe thead th {\n        text-align: right;\n    }\n</style>\n<table border=\"1\" class=\"dataframe\">\n  <thead>\n    <tr style=\"text-align: right;\">\n      <th></th>\n      <th>age</th>\n      <th>sex</th>\n      <th>region</th>\n      <th>income</th>\n      <th>married</th>\n      <th>children</th>\n      <th>car</th>\n      <th>fiber</th>\n      <th>iphone</th>\n      <th>linux</th>\n    </tr>\n    <tr>\n      <th>id</th>\n      <th></th>\n      <th></th>\n      <th></th>\n      <th></th>\n      <th></th>\n      <th></th>\n      <th></th>\n      <th></th>\n      <th></th>\n      <th></th>\n    </tr>\n  </thead>\n  <tbody>\n    <tr>\n      <th>ID12101</th>\n      <td>48</td>\n      <td>FEMALE</td>\n      <td>INNER_CITY</td>\n      <td>17546.00</td>\n      <td>False</td>\n      <td>1</td>\n      <td>False</td>\n      <td>True</td>\n      <td>False</td>\n      <td>True</td>\n    </tr>\n    <tr>\n      <th>ID12102</th>\n      <td>40</td>\n      <td>MALE</td>\n      <td>TOWN</td>\n      <td>30085.10</td>\n      <td>True</td>\n      <td>3</td>\n      <td>True</td>\n      <td>True</td>\n      <td>True</td>\n      <td>False</td>\n    </tr>\n    <tr>\n      <th>ID12103</th>\n      <td>51</td>\n      <td>FEMALE</td>\n      <td>INNER_CITY</td>\n      <td>16575.40</td>\n      <td>True</td>\n      <td>0</td>\n      <td>True</td>\n      <td>True</td>\n      <td>False</td>\n      <td>False</td>\n    </tr>\n    <tr>\n      <th>ID12104</th>\n      <td>23</td>\n      <td>FEMALE</td>\n      <td>TOWN</td>\n      <td>20375.40</td>\n      <td>True</td>\n      <td>3</td>\n      <td>False</td>\n      <td>True</td>\n      <td>False</td>\n      <td>False</td>\n    </tr>\n    <tr>\n      <th>ID12105</th>\n      <td>57</td>\n      <td>FEMALE</td>\n      <td>RURAL</td>\n      <td>50576.30</td>\n      <td>True</td>\n      <td>0</td>\n      <td>False</td>\n      <td>False</td>\n      <td>False</td>\n      <td>False</td>\n    </tr>\n    <tr>\n      <th>...</th>\n      <td>...</td>\n      <td>...</td>\n      <td>...</td>\n      <td>...</td>\n      <td>...</td>\n      <td>...</td>\n      <td>...</td>\n      <td>...</td>\n      <td>...</td>\n      <td>...</td>\n    </tr>\n    <tr>\n      <th>ID12696</th>\n      <td>61</td>\n      <td>FEMALE</td>\n      <td>INNER_CITY</td>\n      <td>47025.00</td>\n      <td>False</td>\n      <td>2</td>\n      <td>True</td>\n      <td>True</td>\n      <td>True</td>\n      <td>False</td>\n    </tr>\n    <tr>\n      <th>ID12697</th>\n      <td>30</td>\n      <td>FEMALE</td>\n      <td>INNER_CITY</td>\n      <td>9672.25</td>\n      <td>True</td>\n      <td>0</td>\n      <td>True</td>\n      <td>True</td>\n      <td>False</td>\n      <td>False</td>\n    </tr>\n    <tr>\n      <th>ID12698</th>\n      <td>31</td>\n      <td>FEMALE</td>\n      <td>TOWN</td>\n      <td>15976.30</td>\n      <td>True</td>\n      <td>0</td>\n      <td>True</td>\n      <td>False</td>\n      <td>False</td>\n      <td>True</td>\n    </tr>\n    <tr>\n      <th>ID12699</th>\n      <td>29</td>\n      <td>MALE</td>\n      <td>INNER_CITY</td>\n      <td>14711.80</td>\n      <td>True</td>\n      <td>0</td>\n      <td>False</td>\n      <td>False</td>\n      <td>True</td>\n      <td>False</td>\n    </tr>\n    <tr>\n      <th>ID12700</th>\n      <td>38</td>\n      <td>MALE</td>\n      <td>TOWN</td>\n      <td>26671.60</td>\n      <td>False</td>\n      <td>0</td>\n      <td>True</td>\n      <td>True</td>\n      <td>True</td>\n      <td>True</td>\n    </tr>\n  </tbody>\n</table>\n<p>600 rows × 10 columns</p>\n</div>"
     },
     "metadata": {},
     "output_type": "display_data"
    }
   ],
   "source": [
    "bevolkingData = pd.read_csv('../Data/Bevolking.csv', delimiter=';', decimal='.', index_col='id')\n",
    "display(bevolkingData)"
   ]
  },
  {
   "cell_type": "markdown",
   "id": "dae70c5b-63e2-491d-9b21-99c86db0e830",
   "metadata": {},
   "source": [
    "**Vraag 1**"
   ]
  },
  {
   "cell_type": "code",
   "execution_count": 4,
   "id": "ac4c918a-4b02-4bb1-9565-89d586d96b33",
   "metadata": {
    "ExecuteTime": {
     "end_time": "2024-03-29T09:41:08.154064Z",
     "start_time": "2024-03-29T09:41:08.139127Z"
    }
   },
   "outputs": [
    {
     "name": "stdout",
     "output_type": "stream",
     "text": [
      "The probability is as follows: 0.63 or 63.0%.\n"
     ]
    }
   ],
   "source": [
    "# Probability Mass Function\n",
    "\n",
    "probability=len(bevolkingData[ (bevolkingData[\"region\"] == \"TOWN\") | (bevolkingData[\"car\"] == True)]) / len(bevolkingData)\n",
    "print(f\"The probability is as follows: {round(probability,4)} or {round(probability*100,4)}%.\")"
   ]
  },
  {
   "cell_type": "markdown",
   "id": "7ac7f699-4cf3-4340-a4b1-ba827b7aa5c2",
   "metadata": {},
   "source": [
    "**Vraag 2** "
   ]
  },
  {
   "cell_type": "code",
   "execution_count": 5,
   "id": "ff5da0df-8794-4ded-aebf-3e9864a9ba8e",
   "metadata": {
    "ExecuteTime": {
     "end_time": "2024-03-29T09:41:08.168953Z",
     "start_time": "2024-03-29T09:41:08.156290Z"
    }
   },
   "outputs": [
    {
     "name": "stdout",
     "output_type": "stream",
     "text": [
      "The probability is as follows: 0.0023 or 0.225%.\n"
     ]
    }
   ],
   "source": [
    "# Technique used: Laplace\n",
    "# P()\n",
    "\n",
    "probability=(1/4*0.001)+(1/4*0.002)+(2/4*0.003)\n",
    "print(f\"The probability is as follows: {round(probability,4)} or {round(probability*100,4)}%.\")"
   ]
  },
  {
   "cell_type": "markdown",
   "id": "4d11afd7-805a-43fa-ae0a-d6586ff890ab",
   "metadata": {},
   "source": [
    "**Vraag 3**"
   ]
  },
  {
   "cell_type": "code",
   "execution_count": 6,
   "id": "b4e55c97-d34c-43f1-ad7c-1ec6e5a2a110",
   "metadata": {
    "scrolled": true,
    "ExecuteTime": {
     "end_time": "2024-03-29T09:41:08.184690Z",
     "start_time": "2024-03-29T09:41:08.169996Z"
    }
   },
   "outputs": [
    {
     "name": "stdout",
     "output_type": "stream",
     "text": [
      "The probability is as follows: 0.2838 or 28.377%.\n"
     ]
    }
   ],
   "source": [
    "# Technique used: The Binomial Distribution\n",
    "\n",
    "true=len(bevolkingData[(bevolkingData[\"married\"] == True)])\n",
    "total=len(bevolkingData)\n",
    "\n",
    "k=7                 # Probability of exactly k successes\n",
    "n=10                # Number of trials\n",
    "p=true/total        # Probability of success in each trial\n",
    "probability=1-binomial.cdf(k, n, p)\n",
    "print(f\"The probability is as follows: {round(probability,4)} or {round(probability*100,4)}%.\")"
   ]
  },
  {
   "cell_type": "markdown",
   "id": "64f25185-545e-4be6-b962-c91a797be1ba",
   "metadata": {},
   "source": [
    "**Vraag 4**"
   ]
  },
  {
   "cell_type": "code",
   "execution_count": 7,
   "id": "c4df4a6a-b3b7-4095-917c-5e3da6da1c01",
   "metadata": {
    "ExecuteTime": {
     "end_time": "2024-03-29T09:41:08.200249Z",
     "start_time": "2024-03-29T09:41:08.186853Z"
    }
   },
   "outputs": [
    {
     "name": "stdout",
     "output_type": "stream",
     "text": [
      "The probability is as follows: 0.9897 or 98.9664%.\n"
     ]
    }
   ],
   "source": [
    "# Technique used: The Poisson Distribution\n",
    "\n",
    "x=3      # Number of events\n",
    "y=10     # Average number of events\n",
    "probability=1-poisson.cdf(x, y)\n",
    "print(f\"The probability is as follows: {round(probability,4)} or {round(probability*100,4)}%.\")"
   ]
  },
  {
   "cell_type": "markdown",
   "id": "89237de3-3964-4b84-b5fc-5ee88171b4bb",
   "metadata": {},
   "source": [
    "**Vraag 5**"
   ]
  },
  {
   "cell_type": "code",
   "execution_count": 8,
   "id": "c2a5ccee-d5cc-417e-89c7-826aed37bd01",
   "metadata": {
    "ExecuteTime": {
     "end_time": "2024-03-29T09:41:08.216008Z",
     "start_time": "2024-03-29T09:41:08.202511Z"
    }
   },
   "outputs": [
    {
     "name": "stdout",
     "output_type": "stream",
     "text": [
      "The probability is as follows: 0.0018 or 0.1835%\n"
     ]
    }
   ],
   "source": [
    "# Technique used: Normal Distribution\n",
    "\n",
    "loc=bevolkingData['income'].mean()\n",
    "scale=bevolkingData['income'].std()\n",
    "x=65000\n",
    "probability=1-normal.cdf(x, loc, scale)\n",
    "print(f\"The probability is as follows: {round(probability,4)} or {round(probability*100,4)}%\")"
   ]
  },
  {
   "cell_type": "markdown",
   "id": "7b140ba7-f4f4-4539-b1cb-fdb5ad7102e9",
   "metadata": {},
   "source": [
    "**Vraag 6**"
   ]
  },
  {
   "cell_type": "code",
   "execution_count": 9,
   "id": "ec4b3037-1e47-4bcf-9621-2332caef960a",
   "metadata": {
    "ExecuteTime": {
     "end_time": "2024-03-29T09:41:08.231424Z",
     "start_time": "2024-03-29T09:41:08.218060Z"
    }
   },
   "outputs": [
    {
     "name": "stdout",
     "output_type": "stream",
     "text": [
      "Confidence Interval: (41.23844813332852, 43.55155186667149)\n"
     ]
    }
   ],
   "source": [
    "a=0.05\n",
    "x_bar=bevolkingData['age'].mean()\n",
    "s=bevolkingData['age'].std()\n",
    "n=len(bevolkingData['age'])\n",
    "df=n-1\n",
    "p=1-a\n",
    "\n",
    "interval=student.interval(confidence=p, df=df, loc=x_bar, scale=s/math.sqrt(n))\n",
    "print(\"Confidence Interval:\",interval)"
   ]
  },
  {
   "cell_type": "markdown",
   "id": "e77505d8-0810-4912-95a4-bccf39ebe657",
   "metadata": {},
   "source": [
    "**Vraag 7**"
   ]
  },
  {
   "cell_type": "code",
   "execution_count": 10,
   "id": "8589797e-4b15-4f6a-985b-459ae554cd3b",
   "metadata": {
    "ExecuteTime": {
     "end_time": "2024-03-29T09:41:08.246475Z",
     "start_time": "2024-03-29T09:41:08.233465Z"
    }
   },
   "outputs": [
    {
     "name": "stdout",
     "output_type": "stream",
     "text": [
      "Low:  -11097.762499999993\n",
      "High: 64534.937499999985\n",
      "Len:  600\n",
      "Outliers: [] \n",
      "\n",
      "P Value: 6.179025530039627e-171\n",
      "5% 26147.82965583333\n",
      "Nee\n",
      "Het gemiddelde is niet 6500 wat 0.05 is groter dan de 6.179025530039627e-171.\n"
     ]
    }
   ],
   "source": [
    "income=no_outliers(bevolkingData['income'])\n",
    "mu=6500\n",
    "a=0.05\n",
    "data=ttest_1samp(income, mu)\n",
    "p_value= data.pvalue\n",
    "print(\"P Value:\",p_value)\n",
    "print(\"5%\", income.mean()-(income.mean()/100*5))\n",
    "\n",
    "if p_value < a:\n",
    "    print('Nee')\n",
    "else:\n",
    "    print('Ja')\n",
    "\n",
    "print(f\"Het gemiddelde is niet {mu} wat {a} is groter dan de {p_value}.\")"
   ]
  },
  {
   "cell_type": "markdown",
   "id": "57a6ea6e-cd52-44ad-a1e2-811761154da6",
   "metadata": {},
   "source": [
    "**Vraag 8**"
   ]
  },
  {
   "cell_type": "code",
   "execution_count": 25,
   "id": "900853de-87a1-4527-96fd-57a5fb1ff460",
   "metadata": {
    "ExecuteTime": {
     "end_time": "2024-03-29T09:45:43.693497Z",
     "start_time": "2024-03-29T09:45:43.642798Z"
    }
   },
   "outputs": [
    {
     "name": "stdout",
     "output_type": "stream",
     "text": [
      "Amount of children1: 135\n",
      "Amount of children2: 134\n",
      "Amount of children3: 68\n",
      "Total: 337 600\n"
     ]
    },
    {
     "ename": "ValueError",
     "evalue": "For each axis slice, the sum of the observed frequencies must agree with the sum of the expected frequencies to a relative tolerance of 1e-08, but the percent differences are:\n0.3333333333333333",
     "output_type": "error",
     "traceback": [
      "\u001B[1;31m---------------------------------------------------------------------------\u001B[0m",
      "\u001B[1;31mValueError\u001B[0m                                Traceback (most recent call last)",
      "\u001B[1;32m~\\AppData\\Local\\Temp\\ipykernel_864\\1947959842.py\u001B[0m in \u001B[0;36m?\u001B[1;34m()\u001B[0m\n\u001B[0;32m     20\u001B[0m \u001B[1;33m\u001B[0m\u001B[0m\n\u001B[0;32m     21\u001B[0m \u001B[0mmeasured_values\u001B[0m \u001B[1;33m=\u001B[0m \u001B[1;33m[\u001B[0m\u001B[0mchildren1\u001B[0m\u001B[1;33m,\u001B[0m\u001B[0mchildren2\u001B[0m\u001B[1;33m,\u001B[0m\u001B[0mchildren3\u001B[0m\u001B[1;33m]\u001B[0m\u001B[1;33m\u001B[0m\u001B[1;33m\u001B[0m\u001B[0m\n\u001B[0;32m     22\u001B[0m \u001B[0mexpected_values\u001B[0m \u001B[1;33m=\u001B[0m \u001B[1;33m[\u001B[0m\u001B[0mtotal\u001B[0m\u001B[1;33m*\u001B[0m\u001B[1;36m0.45\u001B[0m\u001B[1;33m,\u001B[0m\u001B[0mtotal\u001B[0m\u001B[1;33m*\u001B[0m\u001B[1;36m0.20\u001B[0m\u001B[1;33m,\u001B[0m\u001B[0mtotal\u001B[0m\u001B[1;33m*\u001B[0m\u001B[1;36m0.10\u001B[0m\u001B[1;33m]\u001B[0m\u001B[1;33m\u001B[0m\u001B[1;33m\u001B[0m\u001B[0m\n\u001B[0;32m     23\u001B[0m \u001B[1;33m\u001B[0m\u001B[0m\n\u001B[1;32m---> 24\u001B[1;33m \u001B[0mdata\u001B[0m \u001B[1;33m=\u001B[0m \u001B[0mchisquare\u001B[0m\u001B[1;33m(\u001B[0m\u001B[0mmeasured_values\u001B[0m\u001B[1;33m,\u001B[0m \u001B[0mexpected_values\u001B[0m\u001B[1;33m)\u001B[0m\u001B[1;33m\u001B[0m\u001B[1;33m\u001B[0m\u001B[0m\n\u001B[0m\u001B[0;32m     25\u001B[0m \u001B[1;33m\u001B[0m\u001B[0m\n\u001B[0;32m     26\u001B[0m \u001B[0mprint\u001B[0m\u001B[1;33m(\u001B[0m\u001B[1;34m\"P Value:\"\u001B[0m\u001B[1;33m,\u001B[0m \u001B[0mdata\u001B[0m\u001B[1;33m.\u001B[0m\u001B[0mpvalue\u001B[0m\u001B[1;33m)\u001B[0m\u001B[1;33m\u001B[0m\u001B[1;33m\u001B[0m\u001B[0m\n\u001B[0;32m     27\u001B[0m \u001B[1;33m\u001B[0m\u001B[0m\n",
      "\u001B[1;32m~\\Downloads\\DataScience2\\venv\\lib\\site-packages\\scipy\\stats\\_stats_py.py\u001B[0m in \u001B[0;36m?\u001B[1;34m(f_obs, f_exp, ddof, axis)\u001B[0m\n\u001B[0;32m   8208\u001B[0m     ...           axis=1)\n\u001B[0;32m   8209\u001B[0m     \u001B[0mPower_divergenceResult\u001B[0m\u001B[1;33m(\u001B[0m\u001B[0mstatistic\u001B[0m\u001B[1;33m=\u001B[0m\u001B[0marray\u001B[0m\u001B[1;33m(\u001B[0m\u001B[1;33m[\u001B[0m\u001B[1;36m3.5\u001B[0m \u001B[1;33m,\u001B[0m \u001B[1;36m9.25\u001B[0m\u001B[1;33m]\u001B[0m\u001B[1;33m)\u001B[0m\u001B[1;33m,\u001B[0m \u001B[0mpvalue\u001B[0m\u001B[1;33m=\u001B[0m\u001B[0marray\u001B[0m\u001B[1;33m(\u001B[0m\u001B[1;33m[\u001B[0m\u001B[1;36m0.62338763\u001B[0m\u001B[1;33m,\u001B[0m \u001B[1;36m0.09949846\u001B[0m\u001B[1;33m]\u001B[0m\u001B[1;33m)\u001B[0m\u001B[1;33m)\u001B[0m\u001B[1;33m\u001B[0m\u001B[1;33m\u001B[0m\u001B[0m\n\u001B[0;32m   8210\u001B[0m \u001B[1;33m\u001B[0m\u001B[0m\n\u001B[0;32m   8211\u001B[0m     \"\"\"  # noqa: E501\n\u001B[1;32m-> 8212\u001B[1;33m     return power_divergence(f_obs, f_exp=f_exp, ddof=ddof, axis=axis,\n\u001B[0m\u001B[0;32m   8213\u001B[0m                             lambda_=\"pearson\")\n",
      "\u001B[1;32m~\\Downloads\\DataScience2\\venv\\lib\\site-packages\\scipy\\stats\\_stats_py.py\u001B[0m in \u001B[0;36m?\u001B[1;34m(f_obs, f_exp, ddof, axis, lambda_)\u001B[0m\n\u001B[0;32m   8005\u001B[0m                    \u001B[1;34mf\"frequencies must agree with the sum of the \"\u001B[0m\u001B[1;33m\u001B[0m\u001B[1;33m\u001B[0m\u001B[0m\n\u001B[0;32m   8006\u001B[0m                    \u001B[1;34mf\"expected frequencies to a relative tolerance \"\u001B[0m\u001B[1;33m\u001B[0m\u001B[1;33m\u001B[0m\u001B[0m\n\u001B[0;32m   8007\u001B[0m                    \u001B[1;34mf\"of {rtol}, but the percent differences are:\\n\"\u001B[0m\u001B[1;33m\u001B[0m\u001B[1;33m\u001B[0m\u001B[0m\n\u001B[0;32m   8008\u001B[0m                    f\"{relative_diff}\")\n\u001B[1;32m-> 8009\u001B[1;33m             \u001B[1;32mraise\u001B[0m \u001B[0mValueError\u001B[0m\u001B[1;33m(\u001B[0m\u001B[0mmsg\u001B[0m\u001B[1;33m)\u001B[0m\u001B[1;33m\u001B[0m\u001B[1;33m\u001B[0m\u001B[0m\n\u001B[0m\u001B[0;32m   8010\u001B[0m \u001B[1;33m\u001B[0m\u001B[0m\n\u001B[0;32m   8011\u001B[0m     \u001B[1;32melse\u001B[0m\u001B[1;33m:\u001B[0m\u001B[1;33m\u001B[0m\u001B[1;33m\u001B[0m\u001B[0m\n\u001B[0;32m   8012\u001B[0m         \u001B[1;31m# Ignore 'invalid' errors so the edge case of a data set with length 0\u001B[0m\u001B[1;33m\u001B[0m\u001B[1;33m\u001B[0m\u001B[0m\n",
      "\u001B[1;31mValueError\u001B[0m: For each axis slice, the sum of the observed frequencies must agree with the sum of the expected frequencies to a relative tolerance of 1e-08, but the percent differences are:\n0.3333333333333333"
     ]
    }
   ],
   "source": [
    "children=bevolkingData['children']\n",
    "children1 = 0\n",
    "children2 = 0\n",
    "children3 = 0\n",
    "\n",
    "for i in range(len(children)):\n",
    "    if children.iloc[i] == 1:\n",
    "        children1 += 1\n",
    "    if children.iloc[i] == 2:\n",
    "        children2 += 1\n",
    "    if children.iloc[i] == 3:\n",
    "        children3 += 1\n",
    "\n",
    "total = children1 + children2 + children3\n",
    "\n",
    "print(\"Amount of children1:\",children1)\n",
    "print(\"Amount of children2:\",children2)\n",
    "print(\"Amount of children3:\",children3)\n",
    "print(\"Total:\",total, len(children))\n",
    "\n",
    "measured_values = [children1,children2,children3]\n",
    "expected_values = [total*0.45,total*0.20,total*0.10]\n",
    "data = chisquare(measured_values, expected_values)\n",
    "\n",
    "print(\"P Value:\", data.pvalue)\n",
    "\n",
    "a=0.05\n",
    "if p_value < a:\n",
    "    print('Nee')\n",
    "else:\n",
    "    print('Ja')\n",
    "\n",
    "print(\"Er is hier its mis in mijn for i maar ik zie het probleem niet in 1,2,3\")\n",
    "print(\"En het gaat 'Ja' zijn wat dat p_value gaat < zijn dan a dus het bureau van de statistiek zijn bewering klopt.\")"
   ]
  },
  {
   "cell_type": "markdown",
   "id": "31779cad-0871-48fb-b23d-f48ae6dc1c23",
   "metadata": {},
   "source": [
    "**Vraag 9**"
   ]
  },
  {
   "cell_type": "raw",
   "id": "2a1f1d6c-7589-45b4-b820-e8b620995ebb",
   "metadata": {},
   "source": [
    "# Antwoord vraag 9\n",
    "a. Aantal transacties = 20\n",
    "b. Support( Licht ) = 10\n",
    "c. Support( Licht EN Slot ) = 4\n",
    "d. Confidence( Licht -> Slot ) = 7"
   ]
  },
  {
   "cell_type": "markdown",
   "id": "1a41d866-a773-494d-ae60-2c2016740f81",
   "metadata": {},
   "source": [
    "**Vraag 10**"
   ]
  },
  {
   "cell_type": "code",
   "execution_count": null,
   "id": "e6c0dd60-eb5e-4edd-9960-99b5c6b735d5",
   "metadata": {
    "ExecuteTime": {
     "start_time": "2024-03-29T09:41:08.386879Z"
    }
   },
   "outputs": [],
   "source": [
    "# Apriori algorithm\n",
    "support=0.2\n",
    "min_threshold=0.7\n",
    "bevolkingData_dummies=bevolkingData.drop(columns=['age', 'sex', 'region', 'income', 'married', 'children'])\n",
    "\n",
    "item_sets_apriori=apriori(bevolkingData_dummies, min_support=support, use_colnames=True)\n",
    "\n",
    "rules_apriori=association_rules(item_sets_apriori, metric='confidence', min_threshold=min_threshold)\n",
    "rules_apriori=rules_apriori.drop(columns=['leverage', 'conviction', 'zhangs_metric'])\n",
    "\n",
    "display(rules_apriori.sort_values(by='confidence', ascending=False).head(1)['antecedents'])\n",
    "print(\"Wat (linux) heeft de grootsten confidence bij fiber.\")"
   ]
  }
 ],
 "metadata": {
  "kernelspec": {
   "display_name": "Python 3 (ipykernel)",
   "language": "python",
   "name": "python3"
  },
  "language_info": {
   "codemirror_mode": {
    "name": "ipython",
    "version": 3
   },
   "file_extension": ".py",
   "mimetype": "text/x-python",
   "name": "python",
   "nbconvert_exporter": "python",
   "pygments_lexer": "ipython3",
   "version": "3.11.7"
  }
 },
 "nbformat": 4,
 "nbformat_minor": 5
}

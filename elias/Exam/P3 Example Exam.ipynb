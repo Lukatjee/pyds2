{
 "cells": [
  {
   "cell_type": "markdown",
   "source": [
    "# P3 Example Exam"
   ],
   "metadata": {
    "collapsed": false
   },
   "id": "fed765dbf2e6f800"
  },
  {
   "cell_type": "code",
   "id": "initial_id",
   "metadata": {
    "collapsed": true,
    "ExecuteTime": {
     "end_time": "2024-05-29T11:48:03.259008Z",
     "start_time": "2024-05-29T11:48:03.242310Z"
    }
   },
   "source": [
    "from termcolor import colored # type: ignore                                          # Colored text\n",
    "from random import Random  # type: ignore                                             # Random number generator\n",
    "import math  # type: ignore                                                           # Mathematical functions\n",
    "import pandas as pd  # type: ignore                                                   # Data manipulation\n",
    "import numpy as np  # type: ignore                                                    # Scientific computing\n",
    "import matplotlib.pyplot as plt  # type: ignore                                       # Data visualization\n",
    "from scipy.stats import binom as binomial  # type: ignore                             # Binomial distribution\n",
    "from scipy.stats import norm as normal  # type: ignore                                # Normal distribution\n",
    "from scipy.stats import poisson as poisson  # type: ignore                            # Poisson distribution\n",
    "from scipy.stats import t as student  # type: ignore                                  # Student distribution\n",
    "from scipy.stats import chi2  # type: ignore                                          # Chi-squared distribution\n",
    "from scipy.stats import ttest_1samp  # type: ignore                                   # One-sample t-test\n",
    "from scipy.stats import chisquare  # type: ignore                                     # Chi-squared test\n",
    "from scipy.special import comb  # type: ignore                                        # Combinations\n",
    "from mlxtend.frequent_patterns import apriori  # type: ignore                         # Apriori algorithm\n",
    "from mlxtend.frequent_patterns import fpgrowth  # type: ignore                        # FP-growth algorithm\n",
    "from mlxtend.frequent_patterns import association_rules  # type: ignore               # Association rules\n",
    "from mlxtend.preprocessing import TransactionEncoder  # type: ignore                  # Transaction encoder\n",
    "from sklearn.discriminant_analysis import LinearDiscriminantAnalysis  # type: ignore  # Discriminant Analysis\n",
    "from tensorflow import keras  # type: ignore                                          # Deep Learning library\n",
    "from tensorflow.keras import Model  # type: ignore                                    # Model class\n",
    "from tensorflow.keras.layers import Input, Dense, BatchNormalization  # type: ignore  # Layers\n",
    "from tensorflow.keras.utils import to_categorical  # type: ignore                     # One-hot encoding\n",
    "from tensorflow.keras.optimizers import Adam  # type: ignore                          # Optimizer\n",
    "from livelossplot import PlotLossesKeras  # type: ignore                              # Live plot\n",
    "from keras.src.optimizers import RMSprop  # type: ignore                              # Optimizer\n",
    "from sklearn.model_selection import train_test_split  # type: ignore                  # Train-test split\n",
    "from sklearn.metrics import roc_auc_score # type: ignore                              # ROC AUC score\n",
    "from simanneal import Annealer  # type: ignore                                        # Simulated Annealing\n",
    "from inspyred import ec  # type: ignore                                               # Evolutionary Computation\n",
    "import warnings  # type: ignore                                                       # Disable warnings\n",
    "from Resources.Functions import *  # type: ignore                                     # Custom functions\n",
    "warnings.filterwarnings(\"ignore\")                                                     # Disable warnings\n",
    "outputColor = \"blue\"                                                                  # Color for the output"
   ],
   "outputs": [],
   "execution_count": 302
  },
  {
   "cell_type": "code",
   "source": [
    "def rule_filter(row, min_len, max_len):\n",
    "    length = len(row['antecedents']) + len(row['consequents'])\n",
    "    return min_len <= length <= max_len\n",
    "\n",
    "def get_item_list (string):\n",
    "    items = string [1:-1]\n",
    "    return items.split(';')\n",
    "\n",
    "def plot_confidence_interval(population_size, sample_mean, sample_standard_deviation, degrees_freedom, plot_factor):\n",
    "    margin_of_error = plot_factor * sample_standard_deviation / np.sqrt(population_size)\n",
    "    lower_bound = sample_mean - margin_of_error\n",
    "    upper_bound = sample_mean + margin_of_error\n",
    "\n",
    "    # Plotting the confidence interval\n",
    "    plt.figure(figsize=(10, 6))\n",
    "    x_axis = np.linspace(sample_mean - 3 * sample_standard_deviation, sample_mean + 3 * sample_standard_deviation, 1000)\n",
    "    y_axis = student.pdf(x_axis, degrees_freedom, loc=sample_mean, scale=sample_standard_deviation / np.sqrt(population_size))\n",
    "\n",
    "    plt.plot(x_axis, y_axis, label='t-distribution')\n",
    "    plt.axvline(lower_bound, color='red', linestyle='--', label='Lower Bound')\n",
    "    plt.axvline(upper_bound, color='blue', linestyle='--', label='Upper Bound')\n",
    "    plt.axvline(sample_mean, color='green', linestyle='-', label='Sample Mean')\n",
    "\n",
    "    # Mark the confidence interval\n",
    "    plt.fill_betweenx(y_axis, lower_bound, upper_bound, where=(x_axis >= lower_bound) & (x_axis <= upper_bound), color='orange', label='Confidence Interval')\n",
    "\n",
    "    plt.title('Confidence Interval Plot')\n",
    "    plt.xlabel('Sample Mean')\n",
    "    plt.ylabel('Probability Density Function')\n",
    "    plt.legend()\n",
    "    plt.grid(True)\n",
    "    plt.show()"
   ],
   "metadata": {
    "collapsed": false,
    "ExecuteTime": {
     "end_time": "2024-05-29T11:48:04.988620Z",
     "start_time": "2024-05-29T11:48:04.969391Z"
    }
   },
   "id": "4488dddd3e1aba7a",
   "outputs": [],
   "execution_count": 303
  },
  {
   "cell_type": "markdown",
   "source": [
    "## Exercises Chance (Week 1)"
   ],
   "metadata": {
    "collapsed": false
   },
   "id": "68239ff2077dedb0"
  },
  {
   "cell_type": "markdown",
   "source": [
    "### Question 1:\n",
    "You roll `2 dice`.\n",
    "What is the probability that you roll a `5` and a `2`? (3 significant figures)"
   ],
   "metadata": {
    "collapsed": false
   },
   "id": "4a9ac19a59c6be17"
  },
  {
   "cell_type": "code",
   "source": [
    "# Technique used: Laplace\n",
    "# P((2 AND 5) OR (5 AND 2))\n",
    "\n",
    "probability = (1 / 6 * 1 / 6) + (1 / 6 * 1 / 6)\n",
    "print(colored(f\"The probability is as follows: {round(probability, 4)} or {round(probability * 100, 4)}%.\", outputColor))"
   ],
   "metadata": {
    "collapsed": false,
    "ExecuteTime": {
     "end_time": "2024-05-29T11:48:05.050275Z",
     "start_time": "2024-05-29T11:48:05.037561Z"
    }
   },
   "id": "6b049d23b1745162",
   "outputs": [
    {
     "name": "stdout",
     "output_type": "stream",
     "text": [
      "\u001B[34mThe probability is as follows: 0.0556 or 5.5556%.\u001B[0m\n"
     ]
    }
   ],
   "execution_count": 304
  },
  {
   "cell_type": "markdown",
   "source": [
    "### Question 2:\n",
    "We have `2 dice`.\n",
    "-   1st: `3 yellow` areas and `3 red` areas.\n",
    "-   2nd: `5 yellow` areas and `1 red` area.\n",
    "\n",
    "What is the probability of having both a `yellow` and a `red` square?"
   ],
   "metadata": {
    "collapsed": false
   },
   "id": "51d90d5933d97d8b"
  },
  {
   "cell_type": "code",
   "source": [
    "# Technique used: Laplace\n",
    "# P((yellow AND red) OR (yellow AND red))\n",
    "\n",
    "probability = (3 / 6 * 1 / 6) + (5 / 6 * 3 / 6)\n",
    "print(colored(f\"The probability is as follows: {round(probability, 4)} or {round(probability * 100, 4)}%.\", outputColor))"
   ],
   "metadata": {
    "collapsed": false,
    "ExecuteTime": {
     "end_time": "2024-05-29T11:48:05.173370Z",
     "start_time": "2024-05-29T11:48:05.160409Z"
    }
   },
   "id": "568cb1aa694e1ac4",
   "outputs": [
    {
     "name": "stdout",
     "output_type": "stream",
     "text": [
      "\u001B[34mThe probability is as follows: 0.5 or 50.0%.\u001B[0m\n"
     ]
    }
   ],
   "execution_count": 305
  },
  {
   "cell_type": "markdown",
   "source": [
    "### Question 3:\n",
    "A box contains `4 yellow`, `2 brown`, `1 orange`, `1 green` and `2 purple` marbles. We always draw without replacing. (2 significant figures each)\n",
    "- If we draw `4 marbles`, what is the probability that all marbles are `yellow`?\n",
    "- If we draw `2 marbles`, what is the probability of getting a `brown` and a `green` marble?\n",
    "- When we draw `1 marble`, what is the chance of getting an `orange` or a `green` marble?"
   ],
   "metadata": {
    "collapsed": false
   },
   "id": "62e4a396a5867928"
  },
  {
   "cell_type": "code",
   "source": [
    "# Technique used: Multiplication Rule & Sum Rule & Addition Rule\n",
    "# P(Yellow AND Yellow AND Yellow AND Yellow)\n",
    "# P((Brown AND Green) OR (Green AND Brown))\n",
    "# P(Orange OR Green)\n",
    "\n",
    "probability = (4 / 10 * 3 / 9 * 2 / 8 * 1 / 7)\n",
    "print(colored(f\"1. The probability is as follows: {round(probability, 4)} or {round(probability * 100, 4)}%.\", outputColor))\n",
    "\n",
    "probability = (2 / 10 * 1 / 9) + (1 / 10 * 2 / 9)\n",
    "print(colored(f\"2. The probability is as follows: {round(probability, 4)} or {round(probability * 100, 4)}%.\", outputColor))\n",
    "\n",
    "\n",
    "probability = (1 / 10 + 1 / 10)\n",
    "print(colored(f\"3. The probability is as follows: {round(probability, 4)} or {round(probability * 100, 4)}%.\", outputColor))"
   ],
   "metadata": {
    "collapsed": false,
    "ExecuteTime": {
     "end_time": "2024-05-29T11:48:05.235530Z",
     "start_time": "2024-05-29T11:48:05.229417Z"
    }
   },
   "id": "e27b9f007baccd7",
   "outputs": [
    {
     "name": "stdout",
     "output_type": "stream",
     "text": [
      "\u001B[34m1. The probability is as follows: 0.0048 or 0.4762%.\u001B[0m\n",
      "\u001B[34m2. The probability is as follows: 0.0444 or 4.4444%.\u001B[0m\n",
      "\u001B[34m3. The probability is as follows: 0.2 or 20.0%.\u001B[0m\n"
     ]
    }
   ],
   "execution_count": 306
  },
  {
   "cell_type": "markdown",
   "source": [
    "### Question 4:\n",
    "For a group of `144 students`, `90` passed the \"OOConcepts\" exam and `60` for \"JavaFX\".\n",
    "Of the `90` who passed on \"OOConcepts\", `30` also passed on \"JavaFX\".\n",
    "What is the probability that if we randomly select a student, they will have passed at least 1 of the 2 exams? (4 significant digits)"
   ],
   "metadata": {
    "collapsed": false
   },
   "id": "b7f4d69d328558e6"
  },
  {
   "cell_type": "code",
   "source": [
    "# Technique used: The Sum Rule\n",
    "# P(JavaFX OR OOConcepts)\n",
    "\n",
    "probability = (90 / 144 + 60 / 144 - 30 / 144)\n",
    "print(colored(f\"The probability is as follows: {round(probability, 4)} or {round(probability * 100, 4)}%.\", outputColor))"
   ],
   "metadata": {
    "collapsed": false,
    "ExecuteTime": {
     "end_time": "2024-05-29T11:48:05.468501Z",
     "start_time": "2024-05-29T11:48:05.454245Z"
    }
   },
   "id": "451c0533c2636cf5",
   "outputs": [
    {
     "name": "stdout",
     "output_type": "stream",
     "text": [
      "\u001B[34mThe probability is as follows: 0.8333 or 83.3333%.\u001B[0m\n"
     ]
    }
   ],
   "execution_count": 307
  },
  {
   "cell_type": "markdown",
   "source": [
    "### Question 5:\n",
    "(C) In a group of `1000 students`, `400` regularly play computer games.\n",
    "(B) `200` regularly play board games.\n",
    "(C and B) There are `100` who regularly play computer games and board games.\n",
    "\n",
    "If you choose a random student, what are the chances that they regularly play games (computer or board)?"
   ],
   "metadata": {
    "collapsed": false
   },
   "id": "91bfdd15af1773b4"
  },
  {
   "cell_type": "code",
   "source": [
    "# Technique used: The Sum Rule\n",
    "# P(Board Games OR Computer Games)\n",
    "\n",
    "probability = (200 / 1000 + 400 / 1000 - 100 / 1000)\n",
    "print(colored(f\"The probability is as follows: {round(probability, 4)} or {round(probability*100, 4)}%.\", outputColor))"
   ],
   "metadata": {
    "collapsed": false,
    "ExecuteTime": {
     "end_time": "2024-05-29T11:48:05.577405Z",
     "start_time": "2024-05-29T11:48:05.568415Z"
    }
   },
   "id": "98110bc26228f197",
   "outputs": [
    {
     "name": "stdout",
     "output_type": "stream",
     "text": [
      "\u001B[34mThe probability is as follows: 0.5 or 50.0%.\u001B[0m\n"
     ]
    }
   ],
   "execution_count": 308
  },
  {
   "cell_type": "markdown",
   "source": [
    "### Question 6:\n",
    "`70%` of students pass a \"Data Science 1\" exam. Of these, `50%` are day students and `50%` blended students. Of the participants, `60%` are day students and `40%` blended students. `1` random student is selected from the group each time. (2 significant figures each)\n",
    "\n",
    "- What is the chance of a successful student?\n",
    "- What is the probability of a day student, given that he or she is a successful student?\n",
    "- What are the chances of a successful day student?\n",
    "- What is the chance of a successful student, given that he or she is a day student?\n",
    "- What is the chance of a student failing, given that he or she is a day student?\n",
    "- What are the chances of a day student failing?"
   ],
   "metadata": {
    "collapsed": false
   },
   "id": "bb7efc8b027d57ce"
  },
  {
   "cell_type": "code",
   "source": [
    "# Technique used: The Product Rule & Opposite / Complementary Event\n",
    "# P(Pass Students)\n",
    "# P(Day Students | Pass Students)\n",
    "# P(Day Students AND Pass Students)     = P(Day Students | Pass Students) * P(Pass Students)\n",
    "# P(Pass Students | Day Students)       = P(((Day Students | Pass Students) * P(Pass Students)) / P(Day Student))\n",
    "# P(Failed Students | Day Students)     = 1-P(Pass Students | Day Students)\n",
    "# P(Day Students AND Failed Students)   = P(((Day Students | Failed Students) * P(Failed Students)) / P(Day Student))\n",
    "\n",
    "probability = (70 / 100)\n",
    "print(colored(f\"1. The probability is as follows: {round(probability, 2)} or {round(probability * 100, 2)}%.\", outputColor))\n",
    "\n",
    "probability = 0.5\n",
    "print(colored(f\"2. The probability is as follows: {round(probability, 2)} or {round(probability * 100, 2)}%.\", outputColor))\n",
    "\n",
    "probability = 0.5 * (70 / 100)\n",
    "print(colored(f\"3. The probability is as follows: {round(probability, 2)} or {round(probability * 100, 2)}%.\", outputColor))\n",
    "\n",
    "probability = 0.5 * (70 / 100) / 0.6\n",
    "print(colored(f\"4. The probability is as follows: {round(probability, 2)} or {round(probability * 100, 2)}%.\", outputColor))\n",
    "\n",
    "probability = 1 - (0.5 * (70 / 100) / 0.6)\n",
    "print(colored(f\"5. The probability is as follows: {round(probability, 2)} or {round(probability * 100, 2)}%.\", outputColor))\n",
    "\n",
    "probability = 0.5 * (30 / 100) / 0.6\n",
    "print(colored(f\"6. The probability is as follows: {round(probability, 2)} or {round(probability * 100, 2)}%.\", outputColor))"
   ],
   "metadata": {
    "collapsed": false,
    "ExecuteTime": {
     "end_time": "2024-05-29T11:48:05.718405Z",
     "start_time": "2024-05-29T11:48:05.694369Z"
    }
   },
   "id": "47d513e143575ad7",
   "outputs": [
    {
     "name": "stdout",
     "output_type": "stream",
     "text": [
      "\u001B[34m1. The probability is as follows: 0.7 or 70.0%.\u001B[0m\n",
      "\u001B[34m2. The probability is as follows: 0.5 or 50.0%.\u001B[0m\n",
      "\u001B[34m3. The probability is as follows: 0.35 or 35.0%.\u001B[0m\n",
      "\u001B[34m4. The probability is as follows: 0.58 or 58.33%.\u001B[0m\n",
      "\u001B[34m5. The probability is as follows: 0.42 or 41.67%.\u001B[0m\n",
      "\u001B[34m6. The probability is as follows: 0.25 or 25.0%.\u001B[0m\n"
     ]
    }
   ],
   "execution_count": 309
  },
  {
   "cell_type": "markdown",
   "source": [
    "### Question 7:\n",
    "`3 men` go to a party and wear exactly the same jackets. They hang their coats on the coat rack and then get very drunk.\n",
    "At the end, each man takes a coat without looking at which one. What are the chances that everyone will take their own coat?\n",
    "\n",
    "OR\n",
    "\n",
    "`3 men`, Bart, Tom and Kevin, muscular and bronzed, go to a vibrant party. They hang their identical leather jackets, sleekly cut and with glittering zippers, on the coat rack. The vodka flows freely, the music thumps, and the men dance until they're dizzy. At the end of the evening, tipsy and with blurred vision, they feel in the darkness for their coats. What are the chances that everyone will bring their own coat?"
   ],
   "metadata": {
    "collapsed": false
   },
   "id": "501242d36d98d3c3"
  },
  {
   "cell_type": "code",
   "source": [
    "# Technique used: Laplace\n",
    "# P(Jacket1 AND Jacket2 AND Jacket3)\n",
    "\n",
    "probability = 1 / 3 * 1 / 2 * 1 / 1\n",
    "print(colored(f\"The probability is as follows: {round(probability, 2)} or {round(probability * 100, 2)}%.\", outputColor))"
   ],
   "metadata": {
    "collapsed": false,
    "ExecuteTime": {
     "end_time": "2024-05-29T11:48:05.844196Z",
     "start_time": "2024-05-29T11:48:05.831226Z"
    }
   },
   "id": "84ec1890668aab07",
   "outputs": [
    {
     "name": "stdout",
     "output_type": "stream",
     "text": [
      "\u001B[34mThe probability is as follows: 0.17 or 16.67%.\u001B[0m\n"
     ]
    }
   ],
   "execution_count": 310
  },
  {
   "cell_type": "markdown",
   "source": [
    "### Question 8:\n",
    "If it rains heavily, there is a `50%` chance that my basement will flood. It rains heavily on average `35 days per year` and my basement floods `20 days per year` (even sometimes when it is not raining hard).\n",
    "If my basement is flooded, what are the chances that it is because it is raining heavily?"
   ],
   "metadata": {
    "collapsed": false
   },
   "id": "7880909fa2159799"
  },
  {
   "cell_type": "code",
   "source": [
    "# Technique used: The Product Rule\n",
    "# P(Rains Heavily | Basement Flooded)       = P(((Basement Flooded | Rains Heavily) * P(Rains Heavily)) / P(Basement Flooded))\n",
    "\n",
    "probability = 0.5 * (35 / 365) / (20 / 365)\n",
    "print(colored(f\"The probability is as follows: {round(probability, 2)} or {round(probability * 100, 2)}%.\", outputColor))"
   ],
   "metadata": {
    "collapsed": false,
    "ExecuteTime": {
     "end_time": "2024-05-29T11:48:06.065688Z",
     "start_time": "2024-05-29T11:48:06.058203Z"
    }
   },
   "id": "fcb7f63146f00602",
   "outputs": [
    {
     "name": "stdout",
     "output_type": "stream",
     "text": [
      "\u001B[34mThe probability is as follows: 0.88 or 87.5%.\u001B[0m\n"
     ]
    }
   ],
   "execution_count": 311
  },
  {
   "cell_type": "markdown",
   "source": [
    "### Question 9:\n",
    "`90%` of PCs use Windows. If a PC crashes, you are `99.9%` sure it is running Windows. The chance that a PC will crash (regardless of the operating system) is `0.01`.\n",
    "\n",
    "What are the chances of a PC crashing if you know it is running Windows?"
   ],
   "metadata": {
    "collapsed": false
   },
   "id": "84b80bd09a49b909"
  },
  {
   "cell_type": "code",
   "source": [
    "# Technique used: Bayes' law\n",
    "# P(Chances | Running Windows)      = P(((Running Windows | Chances) * P(Chances)) / P(Running Windows))\n",
    "\n",
    "# P(Running Windows) = 0.9\n",
    "# P(Running Windows | Chances) = 0.999\n",
    "# P(Chances) = 0.01\n",
    "\n",
    "probability = 0.999 * 0.01 / 0.9\n",
    "print(colored(f\"The probability is as follows: {round(probability, 2)} or {round(probability * 100, 2)}%.\", outputColor))"
   ],
   "metadata": {
    "collapsed": false,
    "ExecuteTime": {
     "end_time": "2024-05-29T11:48:06.284580Z",
     "start_time": "2024-05-29T11:48:06.270097Z"
    }
   },
   "id": "4018ae53a206295a",
   "outputs": [
    {
     "name": "stdout",
     "output_type": "stream",
     "text": [
      "\u001B[34mThe probability is as follows: 0.01 or 1.11%.\u001B[0m\n"
     ]
    }
   ],
   "execution_count": 312
  },
  {
   "cell_type": "markdown",
   "source": [
    "### Question 10:\n",
    "In 1988 there was discussion about introducing mandatory AIDS testing. A very reliable test has been developed that achieves the following results:\n",
    "- `P(positive | infected) = 0.999`\n",
    "- `P(negative | not infected) = 0.99`\n",
    "\n",
    "It is estimated that `0.60%` of people are carriers of the virus.\n",
    "What are the chances that someone is actually infected if you know the test is positive? Do you see why the mandatory test was not introduced?"
   ],
   "metadata": {
    "collapsed": false
   },
   "id": "be6d9bee0b7332ce"
  },
  {
   "cell_type": "code",
   "source": [
    "# Technique used: Bayes' law\n",
    "# P(Positive | Not Infected)    = 1-P(Negative | Not Infected)\n",
    "# P(Positive)                   = P(Infected) AND P(Positive | Infected) OR P(Not Infected) AND P(Positive | Not Infected)\n",
    "# P(Infected | Positive)        = P(Positive | Infected) AND P(Infected) / P(Positive)\n",
    "\n",
    "# P(Positive | Infected) = 0.999\n",
    "# P(Negative | Not Infected) = 0.99\n",
    "# P(Infected) = 0.006\n",
    "\n",
    "probability = 1 - 0.99\n",
    "print(colored(f\"1. The probability is as follows: {round(probability, 3)} or {round(probability * 100, 3)}%.\", outputColor))\n",
    "\n",
    "probability = 0.006 * 0.999 + (1 - 0.006) * probability\n",
    "print(colored(f\"2. The probability is as follows: {round(probability, 6)} or {round(probability * 100, 6)}%.\", outputColor))\n",
    "\n",
    "probability = 0.999 * 0.006 / probability\n",
    "print(colored(f\"3. The probability is as follows: {round(probability, 2)} or {round(probability * 100, 2)}%.\", outputColor))"
   ],
   "metadata": {
    "collapsed": false,
    "ExecuteTime": {
     "end_time": "2024-05-29T11:48:06.346989Z",
     "start_time": "2024-05-29T11:48:06.336990Z"
    }
   },
   "id": "c19d364dc9edfac3",
   "outputs": [
    {
     "name": "stdout",
     "output_type": "stream",
     "text": [
      "\u001B[34m1. The probability is as follows: 0.01 or 1.0%.\u001B[0m\n",
      "\u001B[34m2. The probability is as follows: 0.015934 or 1.5934%.\u001B[0m\n",
      "\u001B[34m3. The probability is as follows: 0.38 or 37.62%.\u001B[0m\n"
     ]
    }
   ],
   "execution_count": 313
  },
  {
   "cell_type": "markdown",
   "source": [
    "### Question 11:\n",
    "A program was written that determines when a text is interesting for a reader.\n",
    "The program has already been trained and the following values were noted:\n",
    "`1642 texts` were analyzed by hand. `46` of the texts were identified as interesting. A map was made of words and the number of times they occurred as well as the number of times they occurred in interesting texts.\n",
    "We now get the following text:\n",
    "    \n",
    "`\"This is a text to see if it will be judged as interesting.\"`\n",
    "\n",
    "The folder contains the following values for these words:\n",
    "\n",
    "    | Word        | Frequency  | Freq in interesting texts    |\n",
    "    |-------------|------------|------------------------------|\n",
    "    | dit         | 1368       | 40                           |\n",
    "    | is          | 1642       | 46                           |\n",
    "    | een         | 1642       | 46                           |\n",
    "    | tekst       | 159        | 1                            |\n",
    "    | om          | 1480       | 24                           |\n",
    "    | te          | 1574       | 38                           |\n",
    "    | kijken      | 947        | 11                           |\n",
    "    | of          | 1642       | 35                           |\n",
    "    | deze        | 1608       | 46                           |\n",
    "    | als         | 1576       | 39                           |\n",
    "    | interessant | 156        | 2                            |\n",
    "    | zal         | 1387       | 46                           |\n",
    "    | worden      | 1589       | 14                           |\n",
    "    | beoordeeld  | 176        | 1                            |\n",
    "What is the probability that this text is an interesting text, according to the algorithm seen? Is this chance big or small?"
   ],
   "metadata": {
    "collapsed": false
   },
   "id": "c3495804fffe5edd"
  },
  {
   "cell_type": "code",
   "source": [
    "# Technique used: Law of total probability\n",
    "# P(Words | Interesting) \n",
    "\n",
    "probability = (40 / 46) * (46 / 46) * (46 / 46) * (1 / 46) * (24 / 46) * (38 / 46) * (11 / 46) * (35 / 46) * (39 / 46) * (2 / 46) * (46 / 46) * (14 / 46) * (1 / 46)\n",
    "print(colored(f\"The probability is as follows: {probability} or {probability * 100}%.\", outputColor))\n",
    "print(colored(f\"So the probability is very small.\", outputColor))"
   ],
   "metadata": {
    "collapsed": false,
    "ExecuteTime": {
     "end_time": "2024-05-29T11:48:06.613682Z",
     "start_time": "2024-05-29T11:48:06.600869Z"
    }
   },
   "id": "cdecafbe1d0ed93f",
   "outputs": [
    {
     "name": "stdout",
     "output_type": "stream",
     "text": [
      "\u001B[34mThe probability is as follows: 3.6154293618298464e-07 or 3.6154293618298464e-05%.\u001B[0m\n",
      "\u001B[34mSo the probability is very small.\u001B[0m\n"
     ]
    }
   ],
   "execution_count": 314
  },
  {
   "cell_type": "markdown",
   "source": [
    "## Exercises Probability Distributions (Week 2)"
   ],
   "metadata": {
    "collapsed": false
   },
   "id": "55123662f6538e02"
  },
  {
   "cell_type": "markdown",
   "source": [
    "### Question 1:\n",
    "Luna rolls a die `4` times (answer with `4` significant figures):\n",
    "- What is the probability of exactly one `6`?\n",
    "- What is the probability of getting four sixes?\n",
    "- What is the probability of `2` rolls below `3` and `2` rolls `3` or higher?\n"
   ],
   "metadata": {
    "collapsed": false
   },
   "id": "5e0aca6a34827f49"
  },
  {
   "cell_type": "code",
   "source": [
    "# Technique used: The Binomial Distribution\n",
    "\n",
    "k = 1        # Probability of exactly k successes\n",
    "n = 4        # Number of trials\n",
    "p = 1 / 6    # Probability of success in each trial\n",
    "probability = binomial.pmf(k, n, p)\n",
    "print(colored(f\"1. The probability is as follows: {round(probability, 4)} or {round(probability * 100, 4)}%.\", outputColor))\n",
    "\n",
    "k = 4        # Probability of exactly k successes\n",
    "n = 4        # Number of trials\n",
    "p = 1 / 6    # Probability of success in each trial\n",
    "probability = binomial.pmf(k, n, p)\n",
    "print(colored(f\"2. The probability is as follows: {round(probability, 4)} or {round(probability * 100, 4)}%.\", outputColor))\n",
    "\n",
    "k = 1        # Probability of exactly k successes\n",
    "n = 4        # Number of trials\n",
    "p = 2 / 6    # Probability of success in each trial\n",
    "probability = binomial.pmf(k, n, p)\n",
    "print(colored(f\"3. The probability is as follows: {round(probability, 4)} or {round(probability * 100, 4)}%.\", outputColor))"
   ],
   "metadata": {
    "collapsed": false,
    "ExecuteTime": {
     "end_time": "2024-05-29T11:48:06.691034Z",
     "start_time": "2024-05-29T11:48:06.679184Z"
    }
   },
   "id": "171f931d68e132b2",
   "outputs": [
    {
     "name": "stdout",
     "output_type": "stream",
     "text": [
      "\u001B[34m1. The probability is as follows: 0.3858 or 38.5802%.\u001B[0m\n",
      "\u001B[34m2. The probability is as follows: 0.0008 or 0.0772%.\u001B[0m\n",
      "\u001B[34m3. The probability is as follows: 0.3951 or 39.5062%.\u001B[0m\n"
     ]
    }
   ],
   "execution_count": 315
  },
  {
   "cell_type": "markdown",
   "source": [
    "### Question 2:\n",
    "`6` Applied Computer Science students must take an `English` test. The probability of passing the exam `0.75`.\n",
    "- What is the probability that exactly `4` of them will succeed?\n",
    "- What is the probability that exactly `5` of them will succeed?\n",
    "- What is the probability that exactly `6` of them will succeed?\n",
    "- What is the probability that less than `4` of them will succeed?"
   ],
   "metadata": {
    "collapsed": false
   },
   "id": "b2a32a3d1654ee77"
  },
  {
   "cell_type": "code",
   "source": [
    "# Technique used: The Binomial Distribution\n",
    "\n",
    "k = 4        # Probability of exactly k successes\n",
    "n = 6        # Number of trials\n",
    "p = 3 / 4    # Probability of success in each trial\n",
    "probability = binomial.pmf(k, n, p)\n",
    "print(colored(f\"1. The probability is as follows: {round(probability, 4)} or {round(probability * 100, 4)}%.\", outputColor))\n",
    "\n",
    "k = 5        # Probability of exactly k successes\n",
    "n = 6        # Number of trials\n",
    "p = 3 / 4    # Probability of success in each trial\n",
    "probability = binomial.pmf(k, n, p)\n",
    "print(colored(f\"2. The probability is as follows: {round(probability, 4)} or {round(probability * 100, 4)}%.\", outputColor))\n",
    "\n",
    "k = 6        # Probability of exactly k successes\n",
    "n = 6        # Number of trials\n",
    "p = 3 / 4    # Probability of success in each trial\n",
    "probability = binomial.pmf(k, n, p)\n",
    "print(colored(f\"3. The probability is as follows: {round(probability, 4)} or {round(probability * 100, 4)}%.\", outputColor))\n",
    "\n",
    "k = 3        # Probability of exactly k successes\n",
    "n = 6        # Number of trials\n",
    "p = 3 / 4    # Probability of success in each trial\n",
    "probability = binomial.cdf(k, n, p)\n",
    "print(colored(f\"4. The probability is as follows: {round(probability, 4)} or {round(probability * 100, 4)}%.\", outputColor))"
   ],
   "metadata": {
    "collapsed": false,
    "ExecuteTime": {
     "end_time": "2024-05-29T11:48:06.860515Z",
     "start_time": "2024-05-29T11:48:06.843301Z"
    }
   },
   "id": "a26566e337190196",
   "outputs": [
    {
     "name": "stdout",
     "output_type": "stream",
     "text": [
      "\u001B[34m1. The probability is as follows: 0.2966 or 29.6631%.\u001B[0m\n",
      "\u001B[34m2. The probability is as follows: 0.356 or 35.5957%.\u001B[0m\n",
      "\u001B[34m3. The probability is as follows: 0.178 or 17.7979%.\u001B[0m\n",
      "\u001B[34m4. The probability is as follows: 0.1694 or 16.9434%.\u001B[0m\n"
     ]
    }
   ],
   "execution_count": 316
  },
  {
   "cell_type": "markdown",
   "source": [
    "### Question 3:\n",
    "On the way to the school, you pass `6` traffic lights. Unfortunately, these are not synchronized at all. They work completely independently of each other. The traffic lights are red approximately `40%` of the time.\n",
    "- What is the probability that you don't see a single red light on the road?\n",
    "- What is the probability that all traffic lights are red?\n",
    "- What is the probability of encountering more than `2` lights on red?\n",
    "- If you know that you lose an average of `2` minutes per red light. How much time do you expect to lose on average on a route?\n"
   ],
   "metadata": {
    "collapsed": false
   },
   "id": "fb47de341fbfa734"
  },
  {
   "cell_type": "code",
   "source": [
    "# Technique used: The Binomial Distribution\n",
    "\n",
    "k = 0        # Probability of exactly k successes\n",
    "n = 6        # Number of trials\n",
    "p = 4 / 10   # Probability of success in each trial\n",
    "probability = binomial.pmf(k, n, p)\n",
    "print(colored(f\"1. The probability is as follows: {round(probability, 4)} or {round(probability * 100, 4)}%.\", outputColor))\n",
    "\n",
    "k = 6        # Probability of exactly k successes\n",
    "n = 6        # Number of trials\n",
    "p = 4 / 10   # Probability of success in each trial\n",
    "probability = binomial.pmf(k, n, p)\n",
    "print(colored(f\"2. The probability is as follows: {round(probability, 4)} or {round(probability * 100, 4)}%.\", outputColor))\n",
    "\n",
    "k = 2        # Probability of exactly k successes\n",
    "n = 6        # Number of trials\n",
    "p = 4 / 10   # Probability of success in each trial\n",
    "probability = 1 - binomial.cdf(k, n, p)\n",
    "print(colored(f\"4. The probability is as follows: {round(probability, 4)} or {round(probability * 100, 4)}%.\", outputColor))\n",
    "\n",
    "n=6        # Number of trials\n",
    "p=4/10     # Probability of success in each trial\n",
    "probability = binomial.mean(n, p)\n",
    "print(colored(f\"5. I suspect to lose {round(probability * 2, 4)} minutes.\", outputColor))"
   ],
   "metadata": {
    "collapsed": false,
    "ExecuteTime": {
     "end_time": "2024-05-29T11:48:06.953380Z",
     "start_time": "2024-05-29T11:48:06.939039Z"
    }
   },
   "id": "3ba3bcc2e1300aef",
   "outputs": [
    {
     "name": "stdout",
     "output_type": "stream",
     "text": [
      "\u001B[34m1. The probability is as follows: 0.0467 or 4.6656%.\u001B[0m\n",
      "\u001B[34m2. The probability is as follows: 0.0041 or 0.4096%.\u001B[0m\n",
      "\u001B[34m4. The probability is as follows: 0.4557 or 45.568%.\u001B[0m\n",
      "\u001B[34m5. I suspect to lose 4.8 minutes.\u001B[0m\n"
     ]
    }
   ],
   "execution_count": 317
  },
  {
   "cell_type": "markdown",
   "source": [
    "### Question 4:\n",
    "If you cycle to school, you will have a flat tire on average `2` a year.\n",
    "- What is the probability that you will not have a flat tire in a given year?\n",
    "- What is the probability that you will have more than `3` flat tires in a year?\n",
    "- What is the probability that you will have `2` flat tires in `1` month?"
   ],
   "metadata": {
    "collapsed": false
   },
   "id": "4903b029b181d13c"
  },
  {
   "cell_type": "code",
   "source": [
    "# Technique used: The Poisson Distribution\n",
    "\n",
    "x = 0         # Number of events\n",
    "y = 2         # Average number of events\n",
    "probability = poisson.pmf(x, y)\n",
    "print(colored(f\"1. The probability is as follows: {round(probability, 4)} or {round(probability * 100, 4)}%.\", outputColor))\n",
    "\n",
    "x = 3         # Number of events\n",
    "y = 2         # Average number of events\n",
    "probability = 1 - poisson.cdf(x, y)\n",
    "print(colored(f\"2. The probability is as follows: {round(probability, 4)} or {round(probability * 100, 4)}%.\", outputColor))\n",
    "\n",
    "x = 2         # Number of events\n",
    "y = 2 / 12    # Average number of events\n",
    "probability = poisson.pmf(x, y)\n",
    "print(colored(f\"1. The probability is as follows: {round(probability, 4)} or {round(probability * 100, 4)}%.\", outputColor))"
   ],
   "metadata": {
    "collapsed": false,
    "ExecuteTime": {
     "end_time": "2024-05-29T11:48:07.078304Z",
     "start_time": "2024-05-29T11:48:07.068534Z"
    }
   },
   "id": "8c5a9fe1dab75fd0",
   "outputs": [
    {
     "name": "stdout",
     "output_type": "stream",
     "text": [
      "\u001B[34m1. The probability is as follows: 0.1353 or 13.5335%.\u001B[0m\n",
      "\u001B[34m2. The probability is as follows: 0.1429 or 14.2877%.\u001B[0m\n",
      "\u001B[34m1. The probability is as follows: 0.0118 or 1.1757%.\u001B[0m\n"
     ]
    }
   ],
   "execution_count": 318
  },
  {
   "cell_type": "markdown",
   "source": [
    "### Question 5:\n",
    "A user receives an average of `20` emails per day. One day he gets `100` and wonders if this is still normal.\n",
    "- What is the probability that he will receive more than `100` emails in one day?\n",
    "- What is the probability that he will get more than `30` in one day?\n",
    "- What is the probability that he will get exactly `20` in one day?\n",
    "- What is the probability that he will get `10` or less in a day?\n",
    "- What is the probability that he will get `650` or less in a month (`30` days)?"
   ],
   "metadata": {
    "collapsed": false
   },
   "id": "d53134d04db1b310"
  },
  {
   "cell_type": "code",
   "source": [
    "# Technique used: The Poisson Distribution\n",
    "\n",
    "x = 100        # Number of events\n",
    "y = 20         # Average number of events\n",
    "probability = poisson.pmf(x, y)\n",
    "print(colored(f\"1. The probability is as follows: {round(probability, 37)} or {round(probability * 100, 37)}%.\", outputColor))\n",
    "\n",
    "x = 30         # Number of events\n",
    "y = 20         # Average number of events\n",
    "probability = 1 - poisson.cdf(x, y)\n",
    "print(colored(f\"2. The probability is as follows: {round(probability, 4)} or {round(probability * 100, 4)}%.\", outputColor))\n",
    "\n",
    "x = 20         # Number of events\n",
    "y = 20         # Average number of events\n",
    "probability = poisson.pmf(x, y)\n",
    "print(colored(f\"3. The probability is as follows: {round(probability, 4)} or {round(probability * 100, 4)}%.\", outputColor))\n",
    "\n",
    "x = 10         # Number of events\n",
    "y = 20         # Average number of events\n",
    "probability = poisson.cdf(x, y)\n",
    "print(colored(f\"4. The probability is as follows: {round(probability, 4)} or {round(probability * 100, 4)}%.\", outputColor))\n",
    "\n",
    "x = 650         # Number of events\n",
    "y = 20 * 30     # Average number of events\n",
    "probability = poisson.cdf(x, y)\n",
    "print(colored(f\"5. The probability is as follows: {round(probability, 4)} or {round(probability * 100, 4)}%.\", outputColor))"
   ],
   "metadata": {
    "collapsed": false,
    "ExecuteTime": {
     "end_time": "2024-05-29T11:48:07.170582Z",
     "start_time": "2024-05-29T11:48:07.157607Z"
    }
   },
   "id": "4e7b7c7201d2aefa",
   "outputs": [
    {
     "name": "stdout",
     "output_type": "stream",
     "text": [
      "\u001B[34m1. The probability is as follows: 3.0000000000000004e-37 or 2.8000000000000005e-35%.\u001B[0m\n",
      "\u001B[34m2. The probability is as follows: 0.0135 or 1.3475%.\u001B[0m\n",
      "\u001B[34m3. The probability is as follows: 0.0888 or 8.8835%.\u001B[0m\n",
      "\u001B[34m4. The probability is as follows: 0.0108 or 1.0812%.\u001B[0m\n",
      "\u001B[34m5. The probability is as follows: 0.9793 or 97.9346%.\u001B[0m\n"
     ]
    }
   ],
   "execution_count": 319
  },
  {
   "cell_type": "markdown",
   "source": [
    "### Question 6:\n",
    "An average of `3.5` bitcoin transactions are carried out per second. However, the maximum number of transactions the network can process is `7` per second.\n",
    "- What is the probability that more than `7` transactions need to be executed during one second?\n",
    "- What is the probability that there is no transaction for one second?\n",
    "- What is the probability that there are `3` or fewer transactions during a second?\n",
    "- What is the probability that there are `2` or more transactions during a second?\n",
    "- How many transactions do you expect in a day?"
   ],
   "metadata": {
    "collapsed": false
   },
   "id": "a06a63059f934f1b"
  },
  {
   "cell_type": "code",
   "source": [
    "# Technique used: The Poisson Distribution\n",
    "\n",
    "x = 7           # Number of events\n",
    "y = 3.5         # Average number of events\n",
    "probability = 1 - poisson.cdf(x, y)\n",
    "print(colored(f\"1. The probability is as follows: {round(probability, 4)} or {round(probability * 100, 4)}%.\", outputColor))\n",
    "\n",
    "x = 0           # Number of events\n",
    "y = 3.5         # Average number of events\n",
    "probability = poisson.pmf(x, y)\n",
    "print(colored(f\"2. The probability is as follows: {round(probability, 4)} or {round(probability * 100, 4)}%.\", outputColor))\n",
    "\n",
    "x = 3           # Number of events\n",
    "y = 3.5         # Average number of events\n",
    "probability = poisson.cdf(x, y)\n",
    "print(colored(f\"3. The probability is as follows: {round(probability, 4)} or {round(probability * 100, 4)}%.\", outputColor))\n",
    "\n",
    "x = 1         # Number of events\n",
    "y = 3.5       # Average number of events\n",
    "probability = 1 - poisson.cdf(x, y)\n",
    "print(colored(f\"4. The probability is as follows: {round(probability, 4)} or {round(probability * 100, 4)}%.\", outputColor))\n",
    "\n",
    "y = 3.5       # Average number of events\n",
    "probability = poisson.mean(y * 60 * 60 * 24)\n",
    "print(colored(f\"5. Average amount of transactions that are being processed: {probability}\", outputColor))"
   ],
   "metadata": {
    "collapsed": false,
    "ExecuteTime": {
     "end_time": "2024-05-29T11:48:07.324332Z",
     "start_time": "2024-05-29T11:48:07.311530Z"
    }
   },
   "id": "5b7152f89b9cd0ef",
   "outputs": [
    {
     "name": "stdout",
     "output_type": "stream",
     "text": [
      "\u001B[34m1. The probability is as follows: 0.0267 or 2.6739%.\u001B[0m\n",
      "\u001B[34m2. The probability is as follows: 0.0302 or 3.0197%.\u001B[0m\n",
      "\u001B[34m3. The probability is as follows: 0.5366 or 53.6633%.\u001B[0m\n",
      "\u001B[34m4. The probability is as follows: 0.8641 or 86.4112%.\u001B[0m\n",
      "\u001B[34m5. Average amount of transactions that are being processed: 302400.0\u001B[0m\n"
     ]
    }
   ],
   "execution_count": 320
  },
  {
   "cell_type": "markdown",
   "source": [
    "### Question 7:\n",
    "A test consists of `40` questions and the average difficulty of the questions is `0.85` (the probability of a correct answer is `0.85`). Students receive `1` point per question. Which of the following values are the correct-expected value and standard deviation of the score on this test?\n",
    "- µ=34 and ơ=2.26\n",
    "- µ=29 and ơ=2.26\n",
    "- µ=34 and ơ=5.10\n",
    "- µ=29 and ơ=5.10"
   ],
   "metadata": {
    "collapsed": false
   },
   "id": "7ac84168f6445421"
  },
  {
   "cell_type": "code",
   "source": [
    "# Technique used: The Binomial Distribution\n",
    "\n",
    "n = 40            # Number of trials\n",
    "p = 0.85          # Probability of success in each trial\n",
    "probability=binomial.mean(n,p)\n",
    "print(colored(f\"This is the average (µ) score: {probability}\", outputColor))\n",
    "\n",
    "n = 40            # Number of trials\n",
    "p = 0.85          # Probability of success in each trial\n",
    "probability = binomial.std(n,p)\n",
    "print(colored(f\"This is the standard (ơ) deviation: {round(probability, 2)}\", outputColor))"
   ],
   "metadata": {
    "collapsed": false,
    "ExecuteTime": {
     "end_time": "2024-05-29T11:48:07.418329Z",
     "start_time": "2024-05-29T11:48:07.404644Z"
    }
   },
   "id": "8d4b1ba62d59b83b",
   "outputs": [
    {
     "name": "stdout",
     "output_type": "stream",
     "text": [
      "\u001B[34mThis is the average (µ) score: 34.0\u001B[0m\n",
      "\u001B[34mThis is the standard (ơ) deviation: 2.26\u001B[0m\n"
     ]
    }
   ],
   "execution_count": 321
  },
  {
   "cell_type": "markdown",
   "source": [
    "### Question 8:\n",
    "Voor de standaardNormal distribution, wat zijn de volgende kansen?\n",
    "- P(Z ≥ +1.64)\n",
    "- P(Z ≥ -1.32)\n",
    "- P(Z ≤ -0.18)\n",
    "- P(Z ≤ +1.28)\n",
    "- P(0.45 ≤ Z ≤ 0.92)\n",
    "- P(-0.72 ≤ Z ≤ -0.38)\n"
   ],
   "metadata": {
    "collapsed": false
   },
   "id": "f3c2858310b34632"
  },
  {
   "cell_type": "code",
   "source": [
    "# Technique used: Normal Distribution\n",
    "\n",
    "x = 1.64          # Value\n",
    "probability = 1 - normal.cdf(x)\n",
    "print(colored(f\"1. The probability is as follows: {round(probability, 4)} or {round(probability * 100, 4)}%\", outputColor))\n",
    "\n",
    "x = -1.32         # Value\n",
    "probability = 1 - normal.cdf(x)\n",
    "print(colored(f\"2. The probability is as follows: {round(probability, 4)} or {round(probability * 100, 4)}%.\", outputColor))\n",
    "\n",
    "x = -0.18         # Value\n",
    "probability = normal.cdf(x)\n",
    "print(colored(f\"3. The probability is as follows: {round(probability, 4)} or {round(probability * 100, 4)}%.\", outputColor))\n",
    "\n",
    "x = 1.28          # Value\n",
    "probability = normal.cdf(x)\n",
    "print(colored(f\"4. The probability is as follows: {round(probability, 4)} or {round(probability * 100, 4)}%.\", outputColor))\n",
    "\n",
    "x1 = 0.92         # Value\n",
    "x2 = 0.45         # Value\n",
    "probability = normal.cdf(x1) - normal.cdf(x2)\n",
    "print(colored(f\"5. The probability is as follows: {round(probability, 4)} or {round(probability * 100, 4)}%.\", outputColor))\n",
    "\n",
    "x1 = -0.38        # Value\n",
    "x2 = -0.72        # Value\n",
    "probability = normal.cdf(x1) - normal.cdf(x2)\n",
    "print(colored(f\"5. The probability is as follows: {round(probability, 4)} or {round(probability * 100, 4)}%.\", outputColor))"
   ],
   "metadata": {
    "collapsed": false,
    "ExecuteTime": {
     "end_time": "2024-05-29T11:48:07.605668Z",
     "start_time": "2024-05-29T11:48:07.585730Z"
    }
   },
   "id": "dce1c9acfcd72279",
   "outputs": [
    {
     "name": "stdout",
     "output_type": "stream",
     "text": [
      "\u001B[34m1. The probability is as follows: 0.0505 or 5.0503%\u001B[0m\n",
      "\u001B[34m2. The probability is as follows: 0.9066 or 90.6582%.\u001B[0m\n",
      "\u001B[34m3. The probability is as follows: 0.4286 or 42.8576%.\u001B[0m\n",
      "\u001B[34m4. The probability is as follows: 0.8997 or 89.9727%.\u001B[0m\n",
      "\u001B[34m5. The probability is as follows: 0.1476 or 14.7569%.\u001B[0m\n",
      "\u001B[34m5. The probability is as follows: 0.1162 or 11.621%.\u001B[0m\n"
     ]
    }
   ],
   "execution_count": 322
  },
  {
   "cell_type": "markdown",
   "source": [
    "### Question 9:\n",
    "In a class, the average hair length is normally distributed `µ=20cm` and `ơ=4`. What are the next opportunities?\n",
    "- The probability that someone's hair is longer than `28cm`\n",
    "- The chance that someone's hair is shorter than `16cm`\n",
    "- The chance that someone has hair between `18cm` and `22cm`"
   ],
   "metadata": {
    "collapsed": false
   },
   "id": "f30847c30d8d4182"
  },
  {
   "cell_type": "code",
   "source": [
    "# Technique used: Normal Distribution\n",
    "\n",
    "x = 28            # Value\n",
    "mean = 20         # Average Number\n",
    "std = 4           # Standard Deviation\n",
    "probability = 1 - normal.cdf(x, mean, std)\n",
    "print(colored(f\"1. The probability is as follows: {round(probability, 4)} or {round(probability * 100, 4)}%.\", outputColor))\n",
    "\n",
    "x = 16            # Value\n",
    "mean = 20         # Average Number\n",
    "std = 4           # Standard Deviation\n",
    "probability = normal.cdf(x, mean, std)\n",
    "print(colored(f\"2. The probability is as follows: {round(probability, 4)} or {round(probability * 100, 4)}%.\", outputColor))\n",
    "\n",
    "x1 = 22           # Value\n",
    "x2 = 18           # Value\n",
    "mean = 20         # Average Number\n",
    "std = 4           # Standard Deviation\n",
    "probability = normal.cdf(x1, mean, std) - normal.cdf(x2, mean, std)\n",
    "print(colored(f\"3. The probability is as follows: {round(probability, 4)} or {round(probability * 100, 4)}%.\", outputColor))"
   ],
   "metadata": {
    "collapsed": false,
    "ExecuteTime": {
     "end_time": "2024-05-29T11:48:07.699086Z",
     "start_time": "2024-05-29T11:48:07.685611Z"
    }
   },
   "id": "d370c8e909261919",
   "outputs": [
    {
     "name": "stdout",
     "output_type": "stream",
     "text": [
      "\u001B[34m1. The probability is as follows: 0.0228 or 2.275%.\u001B[0m\n",
      "\u001B[34m2. The probability is as follows: 0.1587 or 15.8655%.\u001B[0m\n",
      "\u001B[34m3. The probability is as follows: 0.3829 or 38.2925%.\u001B[0m\n"
     ]
    }
   ],
   "execution_count": 323
  },
  {
   "cell_type": "markdown",
   "source": [
    "### Question 10:\n",
    "We are building a website with a competition with different questions. The scores for the match are normally distributed with `µ=50` and `ơ=5`.\n",
    "- What is the probability that a randomly selected score on this match is lower than `40`?\n",
    "- What is the probability that a randomly selected score on this match falls between `42` and `52`?\n",
    "- Anyone who achieves a score higher than `58.75` will receive a special prize with a mention in the newspaper. If `75` people participate, how many will win a special prize?"
   ],
   "metadata": {
    "collapsed": false
   },
   "id": "f2baae7ba2e0f573"
  },
  {
   "cell_type": "code",
   "source": [
    "# Technique used: Normal Distribution\n",
    "\n",
    "x = 40            # Value\n",
    "mean = 50         # Average Number\n",
    "std = 5           # Standard Deviation\n",
    "probability = normal.cdf(x, mean, std)\n",
    "print(colored(f\"1. The probability is as follows: {round(probability, 4)} or {round(probability * 100, 4)}%.\", outputColor))\n",
    "\n",
    "x1 = 52           # Value\n",
    "x2 = 42           # Value\n",
    "mean = 50         # Average Number\n",
    "std = 5           # Standard Deviation\n",
    "probability = normal.cdf(x1, mean, std) - normal.cdf(x2, mean, std)\n",
    "print(colored(f\"2. The probability is as follows: {round(probability, 4)} or {round(probability * 100, 4)}%.\", outputColor))\n",
    "\n",
    "x = 58.75         # Value\n",
    "mean = 50         # Average Number\n",
    "std = 5           # Standard Deviation\n",
    "probability = 1 - normal.cdf(x, mean, std)\n",
    "print(colored(f\"3. The probability is as follows: {round(probability, 4)} or {round(probability * 100, 4)}%.\", outputColor))"
   ],
   "metadata": {
    "collapsed": false,
    "ExecuteTime": {
     "end_time": "2024-05-29T11:48:07.903164Z",
     "start_time": "2024-05-29T11:48:07.887134Z"
    }
   },
   "id": "4d7f0c9bf30e99a7",
   "outputs": [
    {
     "name": "stdout",
     "output_type": "stream",
     "text": [
      "\u001B[34m1. The probability is as follows: 0.0228 or 2.275%.\u001B[0m\n",
      "\u001B[34m2. The probability is as follows: 0.6006 or 60.0622%.\u001B[0m\n",
      "\u001B[34m3. The probability is as follows: 0.0401 or 4.0059%.\u001B[0m\n"
     ]
    }
   ],
   "execution_count": 324
  },
  {
   "cell_type": "markdown",
   "source": [
    "### Question 11:\n",
    "In an IQ test, the expected value is 100 (normally distributed). In Antwerp the standard deviation is `15`, in Ghent it is `18`.\n",
    "- What is the probability that someone in Antwerp has an IQ greater than `120`?\n",
    "- With what IQ do you belong to the people in Antwerp who have the `16%` lowest scores?\n",
    "- What IQ (or more) do the `5%` smartest people in Ghent have?\n",
    "- What is the ratio of Antwerp residents to Ghent residents for scores above `130`?\n",
    "    1. `1:1`\n",
    "    2. `1:2`\n",
    "    3. `1:3`\n",
    "    4. `5:6`"
   ],
   "metadata": {
    "collapsed": false
   },
   "id": "113faba43a0c62c2"
  },
  {
   "cell_type": "code",
   "source": [
    "# Technique used: Normal Distribution\n",
    "\n",
    "print(colored(f\"NOTE:\\n  IQ < 60 = Under average\\n  IQ > 120 = Gifted\\n  IQ > 130 = Very gifted\\n\", outputColor))\n",
    "\n",
    "x = 120           # Value\n",
    "mean = 100        # Average Number\n",
    "std = 15          # Standard Deviation\n",
    "probability = 1 - normal.cdf(x, mean, std)\n",
    "print(colored(f\"1. The probability is as follows: {round(probability, 4)} or {round(probability * 100, 4)}%.\", outputColor))\n",
    "\n",
    "y = 0.16          # Cumulative Probability \n",
    "mean = 100        # Average Number\n",
    "std = 15          # Standard Deviation\n",
    "probability = normal.ppf(y, mean, std)\n",
    "print(colored(f\"2. {y * 100}% lowest IQ in Antwerp: {round(probability, 4)}\", outputColor))\n",
    "\n",
    "y = 0.05          # Cumulative Probability \n",
    "mean = 100        # Average Number\n",
    "std = 18          # Standard Deviation\n",
    "probability = normal.ppf((1 - y), mean, std)\n",
    "print(colored(f\"3. {y * 100}% highest IQ in Ghent: {round(probability, 4)}\", outputColor))\n",
    "\n",
    "x = 130           # Value\n",
    "mean = 100        # Average Number\n",
    "std_antwerp = 15  # Standard Deviation\n",
    "std_ghent = 18    # Standard Deviation\n",
    "probability_antwerp = 1 - normal.cdf(x, mean, std_antwerp)\n",
    "probability_ghent = 1 - normal.cdf(x, mean, std_ghent)\n",
    "ratio = probability_antwerp / probability_ghent\n",
    "print(colored(f\"4. The ratio between Antwerp and Ghent with an IQ higher than {x}: {round(ratio, 2)}\", outputColor))"
   ],
   "metadata": {
    "collapsed": false,
    "ExecuteTime": {
     "end_time": "2024-05-29T11:48:08.044282Z",
     "start_time": "2024-05-29T11:48:08.025343Z"
    }
   },
   "id": "292f3448b1e88aa7",
   "outputs": [
    {
     "name": "stdout",
     "output_type": "stream",
     "text": [
      "\u001B[34mNOTE:\n",
      "  IQ < 60 = Under average\n",
      "  IQ > 120 = Gifted\n",
      "  IQ > 130 = Very gifted\n",
      "\u001B[0m\n",
      "\u001B[34m1. The probability is as follows: 0.0912 or 9.1211%.\u001B[0m\n",
      "\u001B[34m2. 16.0% lowest IQ in Antwerp: 85.0831\u001B[0m\n",
      "\u001B[34m3. 5.0% highest IQ in Ghent: 129.6074\u001B[0m\n",
      "\u001B[34m4. The ratio between Antwerp and Ghent with an IQ higher than 130: 0.48\u001B[0m\n"
     ]
    }
   ],
   "execution_count": 325
  },
  {
   "cell_type": "markdown",
   "source": [
    "### Question 12:\n",
    "Research has shown that the lifespan of lamps is normally distributed. A certain type of lamps has a lifespan of `500` hours, with a standard deviation of `100` hours. A chain store purchases `50,000` lamps of this type.\n",
    "- How many of these lamps burn for longer than `400` hours?\n",
    "- How many of these lamps have a lifespan between `400` and `700` hours?\n",
    "- How many of these lamps have a lifespan of less than `600` hours?"
   ],
   "metadata": {
    "collapsed": false
   },
   "id": "2d14a563da92b61e"
  },
  {
   "cell_type": "code",
   "source": [
    "# Technique used: Normal Distribution\n",
    "\n",
    "x = 400           # Value\n",
    "mean = 500        # Average Number\n",
    "std = 100         # Standard Deviation\n",
    "probability = 1 - normal.cdf(x, mean, std)\n",
    "print(colored(f\"1. The probability is as follows: {round(probability, 4)} or {round(probability * 100, 4)}%.\", outputColor))\n",
    "\n",
    "x1 = 400          # Value\n",
    "x2 = 700          # Value\n",
    "mean = 500        # Average Number\n",
    "std = 100         # Standard Deviation\n",
    "probability=normal.cdf(x2, mean, std) - normal.cdf(x1, mean, std)\n",
    "print(colored(f\"2. The probability is as follows: {round(probability, 4)} or {round(probability * 100, 4)}%.\", outputColor))\n",
    "\n",
    "x = 600           # Value\n",
    "mean = 500        # Average Number\n",
    "std = 100         # Standard Deviation\n",
    "probability=normal.cdf(x, mean, std)\n",
    "print(colored(f\"3. The probability is as follows: {round(probability, 4)} or {round(probability * 100, 4)}%.\", outputColor))"
   ],
   "metadata": {
    "collapsed": false,
    "ExecuteTime": {
     "end_time": "2024-05-29T11:48:08.135976Z",
     "start_time": "2024-05-29T11:48:08.122842Z"
    }
   },
   "id": "e9d8d3edc500a78b",
   "outputs": [
    {
     "name": "stdout",
     "output_type": "stream",
     "text": [
      "\u001B[34m1. The probability is as follows: 0.8413 or 84.1345%.\u001B[0m\n",
      "\u001B[34m2. The probability is as follows: 0.8186 or 81.8595%.\u001B[0m\n",
      "\u001B[34m3. The probability is as follows: 0.8413 or 84.1345%.\u001B[0m\n"
     ]
    }
   ],
   "execution_count": 326
  },
  {
   "cell_type": "markdown",
   "source": [
    "### Question 13:\n",
    "In a simple competition on the website, `8` out of `10` people give the correct answer.\n",
    "- What is the probability that at least `55` participants from a random sample of `60` people answered correctly (`2` significant figures)?"
   ],
   "metadata": {
    "collapsed": false
   },
   "id": "323f7eace693af8"
  },
  {
   "cell_type": "code",
   "source": [
    "# Technique used: The Binomial Distribution\n",
    "\n",
    "k = 55 - 1    # Probability of exactly k successes\n",
    "n = 60        # Number of trials\n",
    "p = 8 / 10    # Probability of success in each trial\n",
    "probability = 1 - binomial.cdf(k, n, p)\n",
    "print(colored(f\"The probability is as follows: {round(probability, 4)} or {round(probability * 100, 4)}%.\", outputColor))"
   ],
   "metadata": {
    "collapsed": false,
    "ExecuteTime": {
     "end_time": "2024-05-29T11:48:08.292500Z",
     "start_time": "2024-05-29T11:48:08.278228Z"
    }
   },
   "id": "1fd1182ab0a2a389",
   "outputs": [
    {
     "name": "stdout",
     "output_type": "stream",
     "text": [
      "\u001B[34mThe probability is as follows: 0.0121 or 1.2106%.\u001B[0m\n"
     ]
    }
   ],
   "execution_count": 327
  },
  {
   "cell_type": "markdown",
   "source": [
    "### Question 14:\n",
    "A new machine makes processors completely autonomously. Only `2/5` processors meet the quality standard.\n",
    "- We take `10` processors made by this machine. What is the probability that fewer than `2` are correct?\n",
    "- We take `100` processors made by this machine. What is the probability that fewer than `20` are correct?\n",
    "- Both questions above ask for less than `20%` of the total number of processors. What difference do you notice? What could be the cause?"
   ],
   "metadata": {
    "collapsed": false
   },
   "id": "37c26f4d2091b510"
  },
  {
   "cell_type": "code",
   "source": [
    "# Technique used: The Binomial Distribution\n",
    "\n",
    "k = 1         # Probability of exactly k successes\n",
    "n = 10        # Number of trials\n",
    "p = 2 / 5     # Probability of success in each trial\n",
    "probability = binomial.cdf(k, n, p)\n",
    "print(colored(f\"1. The probability is as follows: {round(probability, 4)} or {round(probability * 100, 4)}%.\", outputColor))\n",
    "\n",
    "k = 19        # Probability of exactly k successes\n",
    "n = 100       # Number of trials\n",
    "p = 2 / 5     # Probability of success in each trial\n",
    "probability = binomial.cdf(k, n, p)\n",
    "print(colored(f\"2. The probability is as follows: {round(probability, 9)} or {round(probability * 100, 9)}%.\", outputColor))\n",
    "\n",
    "print(colored(f\"3. The difference is that the probability of getting less than 20% correct is much higher with 100 processors than with 10 processors. This is because the probability of getting a correct processor is low, so the more processors you take, the more likely it is that you will get less than 20% correct.\", outputColor))"
   ],
   "metadata": {
    "collapsed": false,
    "ExecuteTime": {
     "end_time": "2024-05-29T11:48:08.448998Z",
     "start_time": "2024-05-29T11:48:08.438952Z"
    }
   },
   "id": "a61f321cc9edf6e3",
   "outputs": [
    {
     "name": "stdout",
     "output_type": "stream",
     "text": [
      "\u001B[34m1. The probability is as follows: 0.0464 or 4.6357%.\u001B[0m\n",
      "\u001B[34m2. The probability is as follows: 5.881e-06 or 0.000588133%.\u001B[0m\n",
      "\u001B[34m3. The difference is that the probability of getting less than 20% correct is much higher with 100 processors than with 10 processors. This is because the probability of getting a correct processor is low, so the more processors you take, the more likely it is that you will get less than 20% correct.\u001B[0m\n"
     ]
    }
   ],
   "execution_count": 328
  },
  {
   "cell_type": "markdown",
   "source": [
    "### Question 15:\n",
    "Many things can go wrong during a laptop exam. We know that a computer running Windows has a `2%` chance of crashing during the exam. For Mac OSX it is `0.2%` and for Linux it is `0.1%`. Suppose a class of `40` students comes to take an exam.\n",
    "\n",
    "#### Situation 1: Everyone runs Windows:\n",
    "- What is the expected number of crashes during the exam?\n",
    "- What is the chance that `1` computer will crash during the exam?\n",
    "- What is the chance that `2` computers will crash during the exam?\n",
    "\n",
    "#### Situation 2: 10 students run Windows, 10 students run Mac OSX and 20 run Linux\n",
    "- What is the expected number of crashes during the exam?\n",
    "- What is the chance that `1` computer will crash during the exam?\n",
    "- What is the chance that `2` computers will crash during the exam?"
   ],
   "metadata": {
    "collapsed": false
   },
   "id": "69e246fd4c57a5a4"
  },
  {
   "cell_type": "code",
   "source": [
    "# Technique used: The Binomial Distribution\n",
    "\n",
    "n = 40        # Number of trials\n",
    "p = 0.02      # Probability of success in each trial\n",
    "probability = binomial.mean(n, p)\n",
    "print(colored(f\"Situation 1.1. The probability is as follows: {round(probability, 4)} or {round(probability * 100, 4)}%.\", outputColor))\n",
    "\n",
    "k = 1         # Probability of exactly k successes\n",
    "n = 40        # Number of trials\n",
    "p = 0.02      # Probability of success in each trial\n",
    "probability = binomial.pmf(k, n, p)\n",
    "print(colored(f\"Situation 1.2. The probability is as follows: {round(probability, 4)} or {round(probability * 100, 4)}%.\", outputColor))\n",
    "\n",
    "k = 2         # Probability of exactly k successes\n",
    "n = 40        # Number of trials\n",
    "p = 0.02      # Probability of success in each trial\n",
    "probability = binomial.pmf(k, n, p)\n",
    "print(colored(f\"Situation 1.3. The probability is as follows: {round(probability, 4)} or {round(probability * 100, 4)}%.\", outputColor))\n",
    "\n",
    "n = 10        # Number of trials\n",
    "p = 0.02      # Probability of success in each trial\n",
    "probability_windows = binomial.mean(n, p)\n",
    "\n",
    "n = 10        # Number of trials\n",
    "p = 0.002     # Probability of success in each trial\n",
    "probability_macos = binomial.mean(n, p)\n",
    "\n",
    "n = 20        # Number of trials\n",
    "p = 0.001     # Probability of success in each trial\n",
    "probability_linux = binomial.mean(n, p)\n",
    "\n",
    "probability = probability_windows + probability_macos + probability_linux\n",
    "print(colored(f\"Situation 2.1. The probability is as follows: {round(probability, 4)} or {round(probability * 100, 4)}%.\", outputColor))\n",
    "\n",
    "k = 1         # Probability of exactly k successes\n",
    "\n",
    "n = 10        # Number of trials\n",
    "p = 0.02      # Probability of success in each trial\n",
    "probability_windows = binomial.pmf(k, n, p)\n",
    "\n",
    "n = 10        # Number of trials\n",
    "p = 0.002     # Probability of success in each trial\n",
    "probability_macos = binomial.pmf(k, n, p)\n",
    "\n",
    "n = 20        # Number of trials\n",
    "p = 0.001     # Probability of success in each trial\n",
    "probability_linux = binomial.pmf(k, n, p)\n",
    "\n",
    "probability = probability_windows + probability_macos + probability_linux\n",
    "print(colored(f\"Situation 2.2. The probability is as follows: {round(probability, 4)} or {round(probability * 100, 4)}%.\", outputColor))\n",
    "\n",
    "k = 2         # Probability of exactly k successes\n",
    "\n",
    "n = 10        # Number of trials\n",
    "p = 0.02      # Probability of success in each trial\n",
    "probability_windows = binomial.pmf(k, n, p)\n",
    "\n",
    "n = 10        # Number of trials\n",
    "p = 0.002     # Probability of success in each trial\n",
    "probability_macos = binomial.pmf(k, n, p)\n",
    "\n",
    "n = 20        # Number of trials\n",
    "p = 0.001     # Probability of success in each trial\n",
    "probability_linux = binomial.pmf(k, n, p)\n",
    "\n",
    "probability = probability_windows + probability_macos + probability_linux\n",
    "print(colored(f\"Situation 2.3. The probability is as follows: {round(probability, 4)} or {round(probability * 100, 4)}%.\", outputColor))"
   ],
   "metadata": {
    "collapsed": false,
    "ExecuteTime": {
     "end_time": "2024-05-29T11:48:08.541935Z",
     "start_time": "2024-05-29T11:48:08.515633Z"
    }
   },
   "id": "b66a59d520f6e531",
   "outputs": [
    {
     "name": "stdout",
     "output_type": "stream",
     "text": [
      "\u001B[34mSituation 1.1. The probability is as follows: 0.8 or 80.0%.\u001B[0m\n",
      "\u001B[34mSituation 1.2. The probability is as follows: 0.3638 or 36.3837%.\u001B[0m\n",
      "\u001B[34mSituation 1.3. The probability is as follows: 0.1448 or 14.4792%.\u001B[0m\n",
      "\u001B[34mSituation 2.1. The probability is as follows: 0.24 or 24.0%.\u001B[0m\n",
      "\u001B[34mSituation 2.2. The probability is as follows: 0.206 or 20.6016%.\u001B[0m\n",
      "\u001B[34mSituation 2.3. The probability is as follows: 0.0157 or 1.5677%.\u001B[0m\n"
     ]
    }
   ],
   "execution_count": 329
  },
  {
   "cell_type": "markdown",
   "source": [
    "### Question 16:\n",
    "In a textile factory, rolls of fabric are produced with a length of `50` meters per roll. The number of weaving errors per roll is Poisson distributed with an associated expectation value of `1` weaving error per roll. During the qualitative inspection of the rolls of fabric, they are separated into rolls of `A quality` (with `0` or `1` weaving defect per roll) and rolls of `B quality` (with two or more weaving defects per roll).\n",
    "- Calculate the probability that a random role will receive the designation `B quality`.\n",
    "- The production volume per day is equal to `2000` meters of fabric. What is the probability that at least `30` rolls of `A quality` are made on any given day?"
   ],
   "metadata": {
    "collapsed": false
   },
   "id": "1cece5e850a8597f"
  },
  {
   "cell_type": "code",
   "source": [
    "# Technique used: The Poisson Distribution & The Binomial Distribution\n",
    "\n",
    "x1 = 0            # Number of events\n",
    "x2 = 1            # Number of events\n",
    "y = 1             # Average number of events\n",
    "probability = 1 - (poisson.pmf(x1, y) + poisson.pmf(x2, y))\n",
    "print(colored(f\"1. The probability is as follows: {round(probability, 4)} or {round(probability * 100, 4)}%.\", outputColor))\n",
    "\n",
    "k = 29              # Probability of exactly k successes\n",
    "n = 2000 / 50       # Number of trials\n",
    "p = 1 - probability # Probability of success in each trial\n",
    "probability = 1 - binomial.cdf(k, n, p)\n",
    "print(colored(f\"2. The probability is as follows: {round(probability, 4)} or {round(probability * 100, 4)}%.\", outputColor))"
   ],
   "metadata": {
    "collapsed": false,
    "ExecuteTime": {
     "end_time": "2024-05-29T11:48:08.666766Z",
     "start_time": "2024-05-29T11:48:08.648118Z"
    }
   },
   "id": "95c5fe0ed990cd86",
   "outputs": [
    {
     "name": "stdout",
     "output_type": "stream",
     "text": [
      "\u001B[34m1. The probability is as follows: 0.2642 or 26.4241%.\u001B[0m\n",
      "\u001B[34m2. The probability is as follows: 0.5015 or 50.1464%.\u001B[0m\n"
     ]
    }
   ],
   "execution_count": 330
  },
  {
   "cell_type": "markdown",
   "source": [
    "### Question 17:\n",
    "An IT service desk receives an average of `10` service requests per hour.\n",
    "- Calculate the probability that more than `15` service requests will be received in an hour.\n",
    "- Calculate the probability that at least `10` but no more than `15` service requests will be received.\n",
    "- Calculate the probability that no service requests will be received for fifteen minutes."
   ],
   "metadata": {
    "collapsed": false
   },
   "id": "81555ea98dda4816"
  },
  {
   "cell_type": "code",
   "source": [
    "# Technique used: The Poisson Distribution\n",
    "\n",
    "x = 15       # Number of events\n",
    "y = 10       # Average number of events\n",
    "probability = 1 - poisson.cdf(x, y)\n",
    "print(colored(f\"1. The probability is as follows: {round(probability, 4)} or {round(probability * 100, 4)}%.\", outputColor))\n",
    "\n",
    "x1 = 9      # Number of events\n",
    "x2 = 15     # Number of events\n",
    "y = 10      # Average number of events\n",
    "probability = poisson.cdf(x2, y) - poisson.cdf(x1, y)\n",
    "print(colored(f\"2. The probability is as follows: {round(probability, 4)} or {round(probability * 100, 4)}%.\", outputColor))\n",
    "\n",
    "x = 0       # Number of events\n",
    "y = 10 / 4    # Average number of events\n",
    "probability = poisson.cdf(x, y)\n",
    "print(colored(f\"3. The probability is as follows: {round(probability, 4)} or {round(probability * 100, 4)}%.\", outputColor))"
   ],
   "metadata": {
    "collapsed": false,
    "ExecuteTime": {
     "end_time": "2024-05-29T11:48:08.729069Z",
     "start_time": "2024-05-29T11:48:08.710444Z"
    }
   },
   "id": "2b6fbf80faa4c28f",
   "outputs": [
    {
     "name": "stdout",
     "output_type": "stream",
     "text": [
      "\u001B[34m1. The probability is as follows: 0.0487 or 4.874%.\u001B[0m\n",
      "\u001B[34m2. The probability is as follows: 0.4933 or 49.333%.\u001B[0m\n",
      "\u001B[34m3. The probability is as follows: 0.0821 or 8.2085%.\u001B[0m\n"
     ]
    }
   ],
   "execution_count": 331
  },
  {
   "cell_type": "markdown",
   "source": [
    "## Exercises Tests Part 1 (Week 3)"
   ],
   "metadata": {
    "collapsed": false
   },
   "id": "9f1f00b005c92f96"
  },
  {
   "cell_type": "markdown",
   "source": [
    "### Question 1:\n",
    "- We want to know how many requests a server has to process on average per day. We do a measurement for this. We measure for `30 days` and count it every day\n",
    "number of requests. We arrive at a mean of `975` and a standard deviation equal to `100`.\n",
    "     - Between what limits does the average number of requests lie if we want to be `95%` sure?\n",
    "     - Suppose we found the same mean and standard deviation, but with a sample size of `100 days`. Then we are `95%` certain that the average is between ... and ....\n",
    "     - Suppose someone claims that the server must process `1000 requests` per day. Can you support or reject this statement in the two cases? You want a certainty of `95%` again."
   ],
   "metadata": {
    "collapsed": false
   },
   "id": "7c5ff59ee78ec9ea"
  },
  {
   "cell_type": "code",
   "source": [
    "n = 30                                      # n = Population size\n",
    "x_bar = 975                                 # x_bar = Sample mean\n",
    "s = 100                                     # s = Sample standard deviation\n",
    "p = 0.95                                    # p = Confidence level\n",
    "df = n - 1                                  # df = Degrees of freedom\n",
    "factor = student.ppf((1 + p) / 2, df=df)    # Factor = Z-Score\n",
    "print(colored(f\"Factor: {factor}\", outputColor))\n",
    "interval = student.interval(confidence=p, df=df, loc=x_bar, scale=s / math.sqrt(n))\n",
    "print(colored(f\"Confidence Interval: {interval}\", outputColor))"
   ],
   "metadata": {
    "collapsed": false,
    "ExecuteTime": {
     "end_time": "2024-05-29T11:48:08.962874Z",
     "start_time": "2024-05-29T11:48:08.948385Z"
    }
   },
   "id": "81d804bdabec27e7",
   "outputs": [
    {
     "name": "stdout",
     "output_type": "stream",
     "text": [
      "\u001B[34mFactor: 2.045229642132703\u001B[0m\n",
      "\u001B[34mConfidence Interval: (937.65938632419, 1012.34061367581)\u001B[0m\n"
     ]
    }
   ],
   "execution_count": 332
  },
  {
   "metadata": {
    "ExecuteTime": {
     "end_time": "2024-05-29T11:48:09.057442Z",
     "start_time": "2024-05-29T11:48:09.042698Z"
    }
   },
   "cell_type": "code",
   "source": [
    "n = 100                                     # n = Population size\n",
    "x_bar = 975                                 # x_bar = Sample mean\n",
    "s = 100                                     # s = Sample standard deviation\n",
    "p = 0.95                                    # p = Confidence level\n",
    "df = n - 1                                  # df = Degrees of freedom\n",
    "factor = student.ppf((1 + p) / 2, df=df)    # Factor = Z-Score\n",
    "print(colored(f\"Factor: {factor}\", outputColor))\n",
    "interval = student.interval(confidence=p, df=df, loc=x_bar, scale=s / math.sqrt(n))\n",
    "print(colored(f\"Confidence Interval: {interval}\", outputColor))"
   ],
   "id": "f553751ac21ee805",
   "outputs": [
    {
     "name": "stdout",
     "output_type": "stream",
     "text": [
      "\u001B[34mFactor: 1.9842169515086827\u001B[0m\n",
      "\u001B[34mConfidence Interval: (955.1578304849131, 994.8421695150869)\u001B[0m\n"
     ]
    }
   ],
   "execution_count": 333
  },
  {
   "cell_type": "markdown",
   "source": [
    "### Question 2:\n",
    "- A factory makes `12kg` bags of corn flakes. To test this, random samples are taken regularly. `100` bags are weighed. The first sample yields a mean of `11.9kg` and a standard deviation of `1kg`. We use an `alpha=0.01`.\n",
    "     - Which factor (Z-value) will you use to determine the interval?\n",
    "     - Do we need to adjust the machine?\n",
    "\n",
    "- A second sample also yields a mean of `11.9kg`, but a standard deviation of `0.1kg`.\n",
    "     - Which factor (Z-value) do we use this time?\n",
    "     - Do we need to adjust the machine this time?"
   ],
   "metadata": {
    "collapsed": false
   },
   "id": "77413458f8167a58"
  },
  {
   "cell_type": "code",
   "source": [
    "n = 100                                     # n = Population size\n",
    "x_bar = 11.9                                # x_bar = Sample mean\n",
    "s = 1                                       # s = Sample standard deviation\n",
    "p = 0.99                                    # p = Confidence level\n",
    "df = n - 1                                  # df = Degrees of freedom\n",
    "factor = student.ppf((1 + p) / 2, df=df)    # Factor = Z-Score\n",
    "print(colored(f\"Factor: {factor}\", outputColor))\n",
    "interval = student.interval(confidence=p, df=df, loc=x_bar, scale=s / math.sqrt(n))\n",
    "print(colored(f\"Confidence Interval: {interval}\", outputColor))\n",
    "print(colored(f\"The machine does not need to be adjusted.\", outputColor))"
   ],
   "metadata": {
    "collapsed": false,
    "ExecuteTime": {
     "end_time": "2024-05-29T11:48:09.243147Z",
     "start_time": "2024-05-29T11:48:09.223784Z"
    }
   },
   "id": "35d23c1c1baf2e5d",
   "outputs": [
    {
     "name": "stdout",
     "output_type": "stream",
     "text": [
      "\u001B[34mFactor: 2.6264054563851857\u001B[0m\n",
      "\u001B[34mConfidence Interval: (11.637359454361482, 12.162640545638519)\u001B[0m\n",
      "\u001B[34mThe machine does not need to be adjusted.\u001B[0m\n"
     ]
    }
   ],
   "execution_count": 334
  },
  {
   "cell_type": "code",
   "source": [
    "n = 100                                     # n = Population size\n",
    "x_bar = 11.9                                # x_bar = Sample mean\n",
    "s = 0.1                                     # s = Sample standard deviation\n",
    "p = 0.99                                    # p = Confidence level\n",
    "df = n - 1                                  # df = Degrees of freedom\n",
    "factor = student.ppf((1 + p) / 2, df=df)    # Factor = Z-Score\n",
    "print(colored(f\"Factor: {factor}\", outputColor))\n",
    "interval = student.interval(confidence=p, df=df, loc=x_bar, scale=s / math.sqrt(n))\n",
    "print(colored(f\"Confidence Interval: {interval}\", outputColor))\n",
    "print(colored(f\"The machine needs to be adjusted.\", outputColor))"
   ],
   "metadata": {
    "collapsed": false,
    "ExecuteTime": {
     "end_time": "2024-05-29T11:48:09.353938Z",
     "start_time": "2024-05-29T11:48:09.336629Z"
    }
   },
   "id": "801d56e4f08ca7d4",
   "outputs": [
    {
     "name": "stdout",
     "output_type": "stream",
     "text": [
      "\u001B[34mFactor: 2.6264054563851857\u001B[0m\n",
      "\u001B[34mConfidence Interval: (11.873735945436149, 11.926264054563852)\u001B[0m\n",
      "\u001B[34mThe machine needs to be adjusted.\u001B[0m\n"
     ]
    }
   ],
   "execution_count": 335
  },
  {
   "cell_type": "markdown",
   "source": [
    "### Question 3:\n",
    "- On behalf of a cheese factory, we investigate whether some suppliers tamper with their milk by adding water. We take `5` consecutive shipments of milk and see at what temperature they freeze. We know that the freezing point of milk is `-0.545°C` with a standard deviation of `0.008°C`. The freezing point of water is of course `0°C`. In our sample we find an average freezing point of `-0.539 °C`. Set `alpha=0.1`\n",
    "     - Which test are we going to use?\n",
    "     - Should we apply this test one-sided or two-sided?\n",
    "     - Was the milk tampered with?\n",
    "     - What is the probability that the previous answer is wrong?"
   ],
   "metadata": {
    "collapsed": false
   },
   "id": "680c4af8aed29d4f"
  },
  {
   "cell_type": "code",
   "source": [
    "n = 5                                       # n = Population size\n",
    "x_bar = -0.539                              # x_bar = Sample mean\n",
    "s = 0.008                                   # s = Sample standard deviation\n",
    "alpha = 0.1                                 # alpha = Significance level\n",
    "p = 1 - alpha                               # p = Confidence level\n",
    "factor = normal.ppf(p)                      # Factor = Z-Score\n",
    "\n",
    "print(colored(f\"We are going to calculate the Z-Toets.\", outputColor))\n",
    "print(colored(f\"Two-sided test is necessary.\", outputColor))\n",
    "\n",
    "\n",
    "print(colored(f\"Factor: {factor}\", outputColor))\n",
    "interval = normal.interval(confidence=p, loc=x_bar, scale=s / math.sqrt(n))\n",
    "print(colored(f\"Confidence Interval: {interval}\", outputColor))\n",
    "\n",
    "print(colored(f\"What is the probability that my conclusion is wrong: {alpha}\", outputColor))"
   ],
   "metadata": {
    "collapsed": false,
    "ExecuteTime": {
     "end_time": "2024-05-29T11:48:09.493324Z",
     "start_time": "2024-05-29T11:48:09.480232Z"
    }
   },
   "id": "a8d5b7658fa02c3d",
   "outputs": [
    {
     "name": "stdout",
     "output_type": "stream",
     "text": [
      "\u001B[34mWe are going to calculate the Z-Toets.\u001B[0m\n",
      "\u001B[34mTwo-sided test is necessary.\u001B[0m\n",
      "\u001B[34mFactor: 1.2815515655446004\u001B[0m\n",
      "\u001B[34mConfidence Interval: (-0.5448848072366409, -0.5331151927633592)\u001B[0m\n",
      "\u001B[34mWhat is the probability that my conclusion is wrong: 0.1\u001B[0m\n"
     ]
    }
   ],
   "execution_count": 336
  },
  {
   "cell_type": "markdown",
   "source": [
    "### Question 4:\n",
    "- We wish to hire a programmer. We subject the candidates to a test. We know that a good programmer gets an average score of `100` on this one\n",
    "test. A few (`16`) students from KdG volunteered. We arrive at a mean of `107.3` and a standard deviation of `8.0`.\n",
    "     - Take `alpha=0.05`. We suspect that this group deviates from the average population.\n",
    "         - Which test do we use?\n",
    "         - Which factor are we going to use?\n",
    "     - We can set an interval within which we are `95%` certain that KdG students score on average.\n",
    "         - What is the lower limit of the interval?\n",
    "         - What is the upper limit of the interval?\n",
    "         - Can we say on the basis of this interval that KdG students score better than average?"
   ],
   "metadata": {
    "collapsed": false
   },
   "id": "7e97e31f66c8d787"
  },
  {
   "cell_type": "code",
   "source": [
    "# 1\n",
    "print(colored(f\"We are going to use 'student' instead of 'normal' because the population standard deviation is not known.\", outputColor))\n",
    "\n",
    "# 2\n",
    "n = 16                                      # n = Population size\n",
    "df = n - 1                                  # df = Degrees of freedom\n",
    "alpha = 0.05                                # alpha = Significance level\n",
    "p = 1 - alpha                               # p = Confidence level\n",
    "factor = student.ppf((1 + p) / 2, df=df)    # Factor = Z-Score\n",
    "print(colored(f\"Factor: {factor}\", outputColor))\n",
    "\n",
    "# 3 & 4 & 5\n",
    "n = 16                                      # n = Population size\n",
    "x_bar = 107.3                               # x_bar = Sample mean\n",
    "s = 8                                       # s = Sample standard deviation\n",
    "p = 0.95                                    # p = Confidence level\n",
    "df = n - 1                                  # df = Degrees of freedom\n",
    "interval = student.interval(confidence=p, df=df, loc=x_bar, scale=s / math.sqrt(n))\n",
    "print(colored(f\"Confidence Interval lower limit: {interval[0]}\", outputColor))\n",
    "print(colored(f\"Confidence Interval upper limit: {interval[1]}\", outputColor))\n",
    "\n",
    "print(colored(f\"We can say on the basis of this interval that KdG students score better than average because the lower limit of the interval is higher than the average score of 100.\", outputColor))"
   ],
   "metadata": {
    "collapsed": false,
    "ExecuteTime": {
     "end_time": "2024-05-29T11:48:09.759111Z",
     "start_time": "2024-05-29T11:48:09.750222Z"
    }
   },
   "id": "c5f55b41ca85bf30",
   "outputs": [
    {
     "name": "stdout",
     "output_type": "stream",
     "text": [
      "\u001B[34mWe are going to use 'student' instead of 'normal' because the population standard deviation is not known.\u001B[0m\n",
      "\u001B[34mFactor: 2.131449545559323\u001B[0m\n",
      "\u001B[34mConfidence Interval lower limit: 103.03710090888136\u001B[0m\n",
      "\u001B[34mConfidence Interval upper limit: 111.56289909111864\u001B[0m\n",
      "\u001B[34mWe can say on the basis of this interval that KdG students score better than average because the lower limit of the interval is higher than the average score of 100.\u001B[0m\n"
     ]
    }
   ],
   "execution_count": 337
  },
  {
   "cell_type": "markdown",
   "source": [
    "## Exercises Tests Part 2 (Week 4)"
   ],
   "metadata": {
    "collapsed": false
   },
   "id": "adf306c1906ddfa6"
  },
  {
   "cell_type": "markdown",
   "source": [
    "### Question 1:\n",
    "- Open the file entry `/Gamerps.csv`. Scissors rock paper is a game where you make a choice between these three. However, is there a preference among our scout members regarding the selection test? The expected distribution is proportional. Check whether our count differs from the expected distribution.\n",
    "    - Which test will you use for this?\n",
    "    - What is `H0`? `The count in our sample is/is not evenly distributed.`\n",
    "    - What is the value of `X^2`? (3 significant digits)\n",
    "    - What is the probability that a sample would have a higher value than `X^2` (p-value)? (3 significant digits)\n",
    "    - Can `H0` be rejected with `95%` confidence?\n",
    "    - So can we say that the scout members have a preference?"
   ],
   "metadata": {
    "collapsed": false
   },
   "id": "a21f6891f09db56b"
  },
  {
   "cell_type": "code",
   "source": [
    "gamerps = pd.read_csv('../Data/Gamerps.csv')\n",
    "display(gamerps)"
   ],
   "metadata": {
    "collapsed": false,
    "ExecuteTime": {
     "end_time": "2024-05-29T11:48:09.821571Z",
     "start_time": "2024-05-29T11:48:09.803601Z"
    }
   },
   "id": "46369249e106dd9f",
   "outputs": [
    {
     "data": {
      "text/plain": [
       "        hand\n",
       "0   Scissors\n",
       "1      Paper\n",
       "2      Paper\n",
       "3   Scissors\n",
       "4   Scissors\n",
       "..       ...\n",
       "70  Scissors\n",
       "71  Scissors\n",
       "72     Paper\n",
       "73     Paper\n",
       "74  Scissors\n",
       "\n",
       "[75 rows x 1 columns]"
      ],
      "text/html": [
       "<div>\n",
       "<style scoped>\n",
       "    .dataframe tbody tr th:only-of-type {\n",
       "        vertical-align: middle;\n",
       "    }\n",
       "\n",
       "    .dataframe tbody tr th {\n",
       "        vertical-align: top;\n",
       "    }\n",
       "\n",
       "    .dataframe thead th {\n",
       "        text-align: right;\n",
       "    }\n",
       "</style>\n",
       "<table border=\"1\" class=\"dataframe\">\n",
       "  <thead>\n",
       "    <tr style=\"text-align: right;\">\n",
       "      <th></th>\n",
       "      <th>hand</th>\n",
       "    </tr>\n",
       "  </thead>\n",
       "  <tbody>\n",
       "    <tr>\n",
       "      <th>0</th>\n",
       "      <td>Scissors</td>\n",
       "    </tr>\n",
       "    <tr>\n",
       "      <th>1</th>\n",
       "      <td>Paper</td>\n",
       "    </tr>\n",
       "    <tr>\n",
       "      <th>2</th>\n",
       "      <td>Paper</td>\n",
       "    </tr>\n",
       "    <tr>\n",
       "      <th>3</th>\n",
       "      <td>Scissors</td>\n",
       "    </tr>\n",
       "    <tr>\n",
       "      <th>4</th>\n",
       "      <td>Scissors</td>\n",
       "    </tr>\n",
       "    <tr>\n",
       "      <th>...</th>\n",
       "      <td>...</td>\n",
       "    </tr>\n",
       "    <tr>\n",
       "      <th>70</th>\n",
       "      <td>Scissors</td>\n",
       "    </tr>\n",
       "    <tr>\n",
       "      <th>71</th>\n",
       "      <td>Scissors</td>\n",
       "    </tr>\n",
       "    <tr>\n",
       "      <th>72</th>\n",
       "      <td>Paper</td>\n",
       "    </tr>\n",
       "    <tr>\n",
       "      <th>73</th>\n",
       "      <td>Paper</td>\n",
       "    </tr>\n",
       "    <tr>\n",
       "      <th>74</th>\n",
       "      <td>Scissors</td>\n",
       "    </tr>\n",
       "  </tbody>\n",
       "</table>\n",
       "<p>75 rows × 1 columns</p>\n",
       "</div>"
      ]
     },
     "metadata": {},
     "output_type": "display_data"
    }
   ],
   "execution_count": 338
  },
  {
   "cell_type": "code",
   "source": [
    "print(colored(f\"We are going to calculate the Chi-square.\", outputColor))\n",
    "print(colored(f\"\\n\\tH0: There is a preference among the people.\\n\\tH1: There is no preference among the People.\", outputColor))\n",
    "\n",
    "paperSum = 0\n",
    "scissorsSum = 0\n",
    "rockSum = 0\n",
    "total = len(gamerps)\n",
    "\n",
    "for i in range(total):\n",
    "    if gamerps['hand'][i] == 'Paper':\n",
    "        paperSum += 1\n",
    "    if gamerps['hand'][i] == 'Scissors':\n",
    "        scissorsSum += 1\n",
    "    if gamerps['hand'][i] == 'Rock':\n",
    "        rockSum += 1\n",
    "\n",
    "print(colored(f\"Amount of Paper: {paperSum}\", outputColor))\n",
    "print(colored(f\"Amount of Scissors: {scissorsSum}\", outputColor))\n",
    "print(colored(f\"Amount of Rock: {rockSum}\", outputColor))\n",
    "print(colored(f\"Total: {total}\", outputColor))\n",
    "\n",
    "measured_values = [paperSum,scissorsSum,rockSum]\n",
    "expected_values = [(total / 3), (total / 3), (total / 3)] # H0\n",
    "data = chisquare(measured_values, expected_values)\n",
    "print(colored(f\"X^2 Value: {round(data.statistic, 3)}\", outputColor))\n",
    "print(colored(f\"P Value: {round(data.pvalue, 3)}\", outputColor))\n",
    "\n",
    "p = 0.95\n",
    "df = 3 - 1\n",
    "critical_value = chi2.ppf(p, df=df)\n",
    "print(colored(f\"Critical value: {critical_value}\", outputColor))\n",
    "\n",
    "if data.statistic < critical_value:\n",
    "    print(colored(f\"H0 can not be rejected with 95% confidence.\", outputColor))\n",
    "else:\n",
    "    print(colored(f\"H0 can be rejected with 95% confidence.\", outputColor))"
   ],
   "metadata": {
    "collapsed": false,
    "ExecuteTime": {
     "end_time": "2024-05-29T11:48:10.044028Z",
     "start_time": "2024-05-29T11:48:10.030171Z"
    }
   },
   "id": "598d49658dabe862",
   "outputs": [
    {
     "name": "stdout",
     "output_type": "stream",
     "text": [
      "\u001B[34mWe are going to calculate the Chi-square.\u001B[0m\n",
      "\u001B[34m\n",
      "\tH0: There is a preference among the people.\n",
      "\tH1: There is no preference among the People.\u001B[0m\n",
      "\u001B[34mAmount of Paper: 24\u001B[0m\n",
      "\u001B[34mAmount of Scissors: 30\u001B[0m\n",
      "\u001B[34mAmount of Rock: 21\u001B[0m\n",
      "\u001B[34mTotal: 75\u001B[0m\n",
      "\u001B[34mX^2 Value: 1.68\u001B[0m\n",
      "\u001B[34mP Value: 0.432\u001B[0m\n",
      "\u001B[34mCritical value: 5.991464547107979\u001B[0m\n",
      "\u001B[34mH0 can not be rejected with 95% confidence.\u001B[0m\n"
     ]
    }
   ],
   "execution_count": 339
  },
  {
   "cell_type": "markdown",
   "source": [
    "### Question 2:\n",
    "- Open the file `/ColorHairBrussels.csv`. This concerns data on the color of the hair of a sample of people in Brussels. The expected distribution of hair colors in Europe are: `30% blonde`, `12% red`, `30% brown`, `25% dark`, and `3% black`. Check whether our count differs from the expected distribution.\n",
    "     - Which test will you use for this?\n",
    "     - What is `H0`? `The hair color count in our sample does/does not deviate from the expected distribution.`\n",
    "     - What `X^2` value do you find?\n",
    "     - What `p-value` do you find?\n",
    "     - Can `H0` be rejected with a reliability of `95%` or not?\n",
    "     - Is there a deviation in Brussels compared to the expected distribution?"
   ],
   "metadata": {
    "collapsed": false
   },
   "id": "431c52a489c1e272"
  },
  {
   "cell_type": "code",
   "source": [
    "colorHairBrussels = pd.read_csv('../Data/ColorHairBrussels.csv')\n",
    "display(colorHairBrussels)"
   ],
   "metadata": {
    "collapsed": false,
    "ExecuteTime": {
     "end_time": "2024-05-29T11:48:10.138686Z",
     "start_time": "2024-05-29T11:48:10.124161Z"
    }
   },
   "id": "faa6ba0c0f9d3983",
   "outputs": [
    {
     "data": {
      "text/plain": [
       "       hair\n",
       "0      Dark\n",
       "1    Blonde\n",
       "2     Brown\n",
       "3    Blonde\n",
       "4     Brown\n",
       "..      ...\n",
       "241   Brown\n",
       "242     Red\n",
       "243  Blonde\n",
       "244   Brown\n",
       "245     Red\n",
       "\n",
       "[246 rows x 1 columns]"
      ],
      "text/html": [
       "<div>\n",
       "<style scoped>\n",
       "    .dataframe tbody tr th:only-of-type {\n",
       "        vertical-align: middle;\n",
       "    }\n",
       "\n",
       "    .dataframe tbody tr th {\n",
       "        vertical-align: top;\n",
       "    }\n",
       "\n",
       "    .dataframe thead th {\n",
       "        text-align: right;\n",
       "    }\n",
       "</style>\n",
       "<table border=\"1\" class=\"dataframe\">\n",
       "  <thead>\n",
       "    <tr style=\"text-align: right;\">\n",
       "      <th></th>\n",
       "      <th>hair</th>\n",
       "    </tr>\n",
       "  </thead>\n",
       "  <tbody>\n",
       "    <tr>\n",
       "      <th>0</th>\n",
       "      <td>Dark</td>\n",
       "    </tr>\n",
       "    <tr>\n",
       "      <th>1</th>\n",
       "      <td>Blonde</td>\n",
       "    </tr>\n",
       "    <tr>\n",
       "      <th>2</th>\n",
       "      <td>Brown</td>\n",
       "    </tr>\n",
       "    <tr>\n",
       "      <th>3</th>\n",
       "      <td>Blonde</td>\n",
       "    </tr>\n",
       "    <tr>\n",
       "      <th>4</th>\n",
       "      <td>Brown</td>\n",
       "    </tr>\n",
       "    <tr>\n",
       "      <th>...</th>\n",
       "      <td>...</td>\n",
       "    </tr>\n",
       "    <tr>\n",
       "      <th>241</th>\n",
       "      <td>Brown</td>\n",
       "    </tr>\n",
       "    <tr>\n",
       "      <th>242</th>\n",
       "      <td>Red</td>\n",
       "    </tr>\n",
       "    <tr>\n",
       "      <th>243</th>\n",
       "      <td>Blonde</td>\n",
       "    </tr>\n",
       "    <tr>\n",
       "      <th>244</th>\n",
       "      <td>Brown</td>\n",
       "    </tr>\n",
       "    <tr>\n",
       "      <th>245</th>\n",
       "      <td>Red</td>\n",
       "    </tr>\n",
       "  </tbody>\n",
       "</table>\n",
       "<p>246 rows × 1 columns</p>\n",
       "</div>"
      ]
     },
     "metadata": {},
     "output_type": "display_data"
    }
   ],
   "execution_count": 340
  },
  {
   "cell_type": "code",
   "source": [
    "print(colored(f\"We are going to calculate the Chi-square.\", outputColor))\n",
    "print(colored(f\"\\n\\tH0: The hair color count in our sample does not deviate from the expected distribution.\\n\\tH1: The hair color count in our sample does deviate from the expected distribution.\", outputColor))\n",
    "\n",
    "blondeSum = 0\n",
    "redSum = 0\n",
    "brownSum = 0\n",
    "darkSum = 0\n",
    "blackSum = 0\n",
    "total = len(colorHairBrussels)\n",
    "\n",
    "for i in range(total):\n",
    "    if colorHairBrussels['hair'][i] == 'Blonde':\n",
    "        blondeSum += 1\n",
    "    if colorHairBrussels['hair'][i] == 'Red':\n",
    "        redSum += 1\n",
    "    if colorHairBrussels['hair'][i] == 'Brown':\n",
    "        brownSum += 1\n",
    "    if colorHairBrussels['hair'][i] == 'Dark':\n",
    "        darkSum += 1\n",
    "    if colorHairBrussels['hair'][i] == 'Black':\n",
    "        blackSum += 1\n",
    "\n",
    "print(colored(f\"Amount of Blonde: {blondeSum}\", outputColor))\n",
    "print(colored(f\"Amount of Red: {redSum}\", outputColor))\n",
    "print(colored(f\"Amount of Brown: {brownSum}\", outputColor))\n",
    "print(colored(f\"Amount of Dark: {darkSum}\", outputColor))\n",
    "print(colored(f\"Amount of Black: {blackSum}\", outputColor))\n",
    "print(colored(f\"Total: {total}\", outputColor))\n",
    "\n",
    "measured_values = [blondeSum, redSum, brownSum, darkSum, blackSum]\n",
    "expected_values = [total * 0.3, total * 0.12, total * 0.3, total * 0.25, total * 0.03]\n",
    "data = chisquare(measured_values, expected_values)\n",
    "print(colored(f\"X^2 Value: {round(data.statistic, 3)}\", outputColor))\n",
    "print(colored(f\"P Value: {round(data.pvalue, 3)}\", outputColor))\n",
    "\n",
    "p = 0.95\n",
    "df = len(measured_values) - 1\n",
    "critical_value = chi2.ppf(p, df=df)\n",
    "print(colored(f\"Critical value: {critical_value}\", outputColor))\n",
    "\n",
    "if data.statistic < critical_value:\n",
    "    print(colored(f\"H0 can not be rejected with 95% confidence.\", outputColor))\n",
    "else:\n",
    "    print(colored(f\"H0 can be rejected with 95% confidence.\", outputColor))"
   ],
   "metadata": {
    "collapsed": false,
    "ExecuteTime": {
     "end_time": "2024-05-29T11:48:10.294122Z",
     "start_time": "2024-05-29T11:48:10.261406Z"
    }
   },
   "id": "f47a383d7971ddef",
   "outputs": [
    {
     "name": "stdout",
     "output_type": "stream",
     "text": [
      "\u001B[34mWe are going to calculate the Chi-square.\u001B[0m\n",
      "\u001B[34m\n",
      "\tH0: The hair color count in our sample does not deviate from the expected distribution.\n",
      "\tH1: The hair color count in our sample does deviate from the expected distribution.\u001B[0m\n",
      "\u001B[34mAmount of Blonde: 76\u001B[0m\n",
      "\u001B[34mAmount of Red: 19\u001B[0m\n",
      "\u001B[34mAmount of Brown: 83\u001B[0m\n",
      "\u001B[34mAmount of Dark: 65\u001B[0m\n",
      "\u001B[34mAmount of Black: 3\u001B[0m\n",
      "\u001B[34mTotal: 246\u001B[0m\n",
      "\u001B[34mX^2 Value: 7.76\u001B[0m\n",
      "\u001B[34mP Value: 0.101\u001B[0m\n",
      "\u001B[34mCritical value: 9.487729036781154\u001B[0m\n",
      "\u001B[34mH0 can not be rejected with 95% confidence.\u001B[0m\n"
     ]
    }
   ],
   "execution_count": 341
  },
  {
   "cell_type": "markdown",
   "source": [
    "### Question 3:\n",
    "- We wish to conduct a survey on students' favorite browser. We expect the following distribution:\n",
    "     - Internet explorer: `8`\n",
    "     - Opera: `10`\n",
    "     - Mozilla Firefox: `10`\n",
    "     - Google chrome: `12`\n",
    "- When inquiring about `1` class group, the distribution appears as follows:\n",
    "     - Internet explorer: `17`\n",
    "     - Opera: `10`\n",
    "     - Mozilla Firefox: `8`\n",
    "     - Google chrome: `5`\n",
    "\n",
    "- Question:\n",
    "     - Which test are you going to apply?\n",
    "     - Is this deviation within our expectations (`alpha=0.01`) Yes/No?\n",
    "     - What is the critical value of this data?\n",
    "     - What `X^2` value do you find?\n",
    "     - What p-value do you find?"
   ],
   "metadata": {
    "collapsed": false
   },
   "id": "8cf37834dd311b56"
  },
  {
   "cell_type": "code",
   "source": [
    "print(colored(f\"We are going to calculate the Chi-square.\", outputColor))\n",
    "\n",
    "measured_values = [17, 10, 8, 5]\n",
    "expected_values = [8, 10, 10, 12]\n",
    "chisquare = chisquare(measured_values, expected_values)\n",
    "\n",
    "a = 0.01\n",
    "p = 1 - a\n",
    "df = len(measured_values) - 1\n",
    "critical_value = chi2.ppf(p, df=df)\n",
    "\n",
    "if chisquare.pvalue <= a:\n",
    "    print(colored(f\"The deviation is significant because the p-value is less than alpha.\", outputColor))\n",
    "else:\n",
    "    print(colored(f\"The deviation is not significant because the p-value is greater than alpha.\", outputColor))\n",
    "\n",
    "print(colored(f\"Critical Value: {round(critical_value, 3)}\", outputColor))\n",
    "print(colored(f\"X^2: {round(chisquare.statistic, 3)}\", outputColor))\n",
    "print(colored(f\"P-Value: {round(chisquare.pvalue, 3)}\", outputColor))"
   ],
   "metadata": {
    "collapsed": false,
    "ExecuteTime": {
     "end_time": "2024-05-29T11:48:10.434271Z",
     "start_time": "2024-05-29T11:48:10.421989Z"
    }
   },
   "id": "d84d3f24411f6da3",
   "outputs": [
    {
     "name": "stdout",
     "output_type": "stream",
     "text": [
      "\u001B[34mWe are going to calculate the Chi-square.\u001B[0m\n",
      "\u001B[34mThe deviation is significant because the p-value is less than alpha.\u001B[0m\n",
      "\u001B[34mCritical Value: 11.345\u001B[0m\n",
      "\u001B[34mX^2: 14.608\u001B[0m\n",
      "\u001B[34mP-Value: 0.002\u001B[0m\n"
     ]
    }
   ],
   "execution_count": 342
  },
  {
   "cell_type": "markdown",
   "source": [
    "## Exercises Association Rules (Week 5)"
   ],
   "metadata": {
    "collapsed": false
   },
   "id": "65da23edbfa2de05"
  },
  {
   "cell_type": "markdown",
   "source": [
    "### Question 1: [Income questionnaire]\n",
    "The UCI Machine Learning Repository [Archive Ics Uci Edu](https://archive.ics.uci.edu/ml/index.php) contains a number of interesting datasets, including the so-called AdultUCI dataset. This is a dataset with a questionnaire that a significant number of respondents completed about their income. In addition to an indication of the income level, it also contains some other attributes. Before we can use it, you have to make some adjustments to the data. The data management chapter is therefore useful here."
   ],
   "metadata": {
    "collapsed": false
   },
   "id": "879107e74de73b5a"
  },
  {
   "cell_type": "markdown",
   "source": [
    "- 1.1. Use Pandas to read this data (`../Data/AdultUCI.csv`) as a data frame called adultUCI."
   ],
   "metadata": {
    "collapsed": false
   },
   "id": "2d920660599fb64c"
  },
  {
   "cell_type": "code",
   "source": [
    "adultUCI = pd.read_csv('../Data/AdultUCI.csv', delimiter=';', decimal=',')"
   ],
   "metadata": {
    "collapsed": false,
    "ExecuteTime": {
     "end_time": "2024-05-29T11:48:10.730938Z",
     "start_time": "2024-05-29T11:48:10.630213Z"
    }
   },
   "id": "3658bfbd697fdf6c",
   "outputs": [],
   "execution_count": 343
  },
  {
   "cell_type": "markdown",
   "source": [
    "- 1.2. View the data set."
   ],
   "metadata": {
    "collapsed": false
   },
   "id": "b77d77c0d903fd8e"
  },
  {
   "cell_type": "code",
   "source": [
    "display(adultUCI)"
   ],
   "metadata": {
    "collapsed": false,
    "ExecuteTime": {
     "end_time": "2024-05-29T11:48:10.917678Z",
     "start_time": "2024-05-29T11:48:10.896781Z"
    }
   },
   "id": "98a4d702b8c3627",
   "outputs": [
    {
     "data": {
      "text/plain": [
       "       age         workclass  fnlwgt  education  education-num  \\\n",
       "0       39         State-gov   77516  Bachelors             13   \n",
       "1       50  Self-emp-not-inc   83311  Bachelors             13   \n",
       "2       38           Private  215646    HS-grad              9   \n",
       "3       53           Private  234721       11th              7   \n",
       "4       28           Private  338409  Bachelors             13   \n",
       "...    ...               ...     ...        ...            ...   \n",
       "48837   39           Private  215419  Bachelors             13   \n",
       "48838   64               NaN  321403    HS-grad              9   \n",
       "48839   38           Private  374983  Bachelors             13   \n",
       "48840   44           Private   83891  Bachelors             13   \n",
       "48841   35      Self-emp-inc  182148  Bachelors             13   \n",
       "\n",
       "           marital-status         occupation    relationship  \\\n",
       "0           Never-married       Adm-clerical   Not-in-family   \n",
       "1      Married-civ-spouse    Exec-managerial         Husband   \n",
       "2                Divorced  Handlers-cleaners   Not-in-family   \n",
       "3      Married-civ-spouse  Handlers-cleaners         Husband   \n",
       "4      Married-civ-spouse     Prof-specialty            Wife   \n",
       "...                   ...                ...             ...   \n",
       "48837            Divorced     Prof-specialty   Not-in-family   \n",
       "48838             Widowed                NaN  Other-relative   \n",
       "48839  Married-civ-spouse     Prof-specialty         Husband   \n",
       "48840            Divorced       Adm-clerical       Own-child   \n",
       "48841  Married-civ-spouse    Exec-managerial         Husband   \n",
       "\n",
       "                     race     sex  capital-gain  capital-loss  hours-per-week  \\\n",
       "0                   White    Male          2174             0              40   \n",
       "1                   White    Male             0             0              13   \n",
       "2                   White    Male             0             0              40   \n",
       "3                   Black    Male             0             0              40   \n",
       "4                   Black  Female             0             0              40   \n",
       "...                   ...     ...           ...           ...             ...   \n",
       "48837               White  Female             0             0              36   \n",
       "48838               Black    Male             0             0              40   \n",
       "48839               White    Male             0             0              50   \n",
       "48840  Asian-Pac-Islander    Male          5455             0              40   \n",
       "48841               White    Male             0             0              60   \n",
       "\n",
       "      native-country income  \n",
       "0      United-States  small  \n",
       "1      United-States  small  \n",
       "2      United-States  small  \n",
       "3      United-States  small  \n",
       "4               Cuba  small  \n",
       "...              ...    ...  \n",
       "48837  United-States    NaN  \n",
       "48838  United-States    NaN  \n",
       "48839  United-States    NaN  \n",
       "48840  United-States    NaN  \n",
       "48841  United-States    NaN  \n",
       "\n",
       "[48842 rows x 15 columns]"
      ],
      "text/html": [
       "<div>\n",
       "<style scoped>\n",
       "    .dataframe tbody tr th:only-of-type {\n",
       "        vertical-align: middle;\n",
       "    }\n",
       "\n",
       "    .dataframe tbody tr th {\n",
       "        vertical-align: top;\n",
       "    }\n",
       "\n",
       "    .dataframe thead th {\n",
       "        text-align: right;\n",
       "    }\n",
       "</style>\n",
       "<table border=\"1\" class=\"dataframe\">\n",
       "  <thead>\n",
       "    <tr style=\"text-align: right;\">\n",
       "      <th></th>\n",
       "      <th>age</th>\n",
       "      <th>workclass</th>\n",
       "      <th>fnlwgt</th>\n",
       "      <th>education</th>\n",
       "      <th>education-num</th>\n",
       "      <th>marital-status</th>\n",
       "      <th>occupation</th>\n",
       "      <th>relationship</th>\n",
       "      <th>race</th>\n",
       "      <th>sex</th>\n",
       "      <th>capital-gain</th>\n",
       "      <th>capital-loss</th>\n",
       "      <th>hours-per-week</th>\n",
       "      <th>native-country</th>\n",
       "      <th>income</th>\n",
       "    </tr>\n",
       "  </thead>\n",
       "  <tbody>\n",
       "    <tr>\n",
       "      <th>0</th>\n",
       "      <td>39</td>\n",
       "      <td>State-gov</td>\n",
       "      <td>77516</td>\n",
       "      <td>Bachelors</td>\n",
       "      <td>13</td>\n",
       "      <td>Never-married</td>\n",
       "      <td>Adm-clerical</td>\n",
       "      <td>Not-in-family</td>\n",
       "      <td>White</td>\n",
       "      <td>Male</td>\n",
       "      <td>2174</td>\n",
       "      <td>0</td>\n",
       "      <td>40</td>\n",
       "      <td>United-States</td>\n",
       "      <td>small</td>\n",
       "    </tr>\n",
       "    <tr>\n",
       "      <th>1</th>\n",
       "      <td>50</td>\n",
       "      <td>Self-emp-not-inc</td>\n",
       "      <td>83311</td>\n",
       "      <td>Bachelors</td>\n",
       "      <td>13</td>\n",
       "      <td>Married-civ-spouse</td>\n",
       "      <td>Exec-managerial</td>\n",
       "      <td>Husband</td>\n",
       "      <td>White</td>\n",
       "      <td>Male</td>\n",
       "      <td>0</td>\n",
       "      <td>0</td>\n",
       "      <td>13</td>\n",
       "      <td>United-States</td>\n",
       "      <td>small</td>\n",
       "    </tr>\n",
       "    <tr>\n",
       "      <th>2</th>\n",
       "      <td>38</td>\n",
       "      <td>Private</td>\n",
       "      <td>215646</td>\n",
       "      <td>HS-grad</td>\n",
       "      <td>9</td>\n",
       "      <td>Divorced</td>\n",
       "      <td>Handlers-cleaners</td>\n",
       "      <td>Not-in-family</td>\n",
       "      <td>White</td>\n",
       "      <td>Male</td>\n",
       "      <td>0</td>\n",
       "      <td>0</td>\n",
       "      <td>40</td>\n",
       "      <td>United-States</td>\n",
       "      <td>small</td>\n",
       "    </tr>\n",
       "    <tr>\n",
       "      <th>3</th>\n",
       "      <td>53</td>\n",
       "      <td>Private</td>\n",
       "      <td>234721</td>\n",
       "      <td>11th</td>\n",
       "      <td>7</td>\n",
       "      <td>Married-civ-spouse</td>\n",
       "      <td>Handlers-cleaners</td>\n",
       "      <td>Husband</td>\n",
       "      <td>Black</td>\n",
       "      <td>Male</td>\n",
       "      <td>0</td>\n",
       "      <td>0</td>\n",
       "      <td>40</td>\n",
       "      <td>United-States</td>\n",
       "      <td>small</td>\n",
       "    </tr>\n",
       "    <tr>\n",
       "      <th>4</th>\n",
       "      <td>28</td>\n",
       "      <td>Private</td>\n",
       "      <td>338409</td>\n",
       "      <td>Bachelors</td>\n",
       "      <td>13</td>\n",
       "      <td>Married-civ-spouse</td>\n",
       "      <td>Prof-specialty</td>\n",
       "      <td>Wife</td>\n",
       "      <td>Black</td>\n",
       "      <td>Female</td>\n",
       "      <td>0</td>\n",
       "      <td>0</td>\n",
       "      <td>40</td>\n",
       "      <td>Cuba</td>\n",
       "      <td>small</td>\n",
       "    </tr>\n",
       "    <tr>\n",
       "      <th>...</th>\n",
       "      <td>...</td>\n",
       "      <td>...</td>\n",
       "      <td>...</td>\n",
       "      <td>...</td>\n",
       "      <td>...</td>\n",
       "      <td>...</td>\n",
       "      <td>...</td>\n",
       "      <td>...</td>\n",
       "      <td>...</td>\n",
       "      <td>...</td>\n",
       "      <td>...</td>\n",
       "      <td>...</td>\n",
       "      <td>...</td>\n",
       "      <td>...</td>\n",
       "      <td>...</td>\n",
       "    </tr>\n",
       "    <tr>\n",
       "      <th>48837</th>\n",
       "      <td>39</td>\n",
       "      <td>Private</td>\n",
       "      <td>215419</td>\n",
       "      <td>Bachelors</td>\n",
       "      <td>13</td>\n",
       "      <td>Divorced</td>\n",
       "      <td>Prof-specialty</td>\n",
       "      <td>Not-in-family</td>\n",
       "      <td>White</td>\n",
       "      <td>Female</td>\n",
       "      <td>0</td>\n",
       "      <td>0</td>\n",
       "      <td>36</td>\n",
       "      <td>United-States</td>\n",
       "      <td>NaN</td>\n",
       "    </tr>\n",
       "    <tr>\n",
       "      <th>48838</th>\n",
       "      <td>64</td>\n",
       "      <td>NaN</td>\n",
       "      <td>321403</td>\n",
       "      <td>HS-grad</td>\n",
       "      <td>9</td>\n",
       "      <td>Widowed</td>\n",
       "      <td>NaN</td>\n",
       "      <td>Other-relative</td>\n",
       "      <td>Black</td>\n",
       "      <td>Male</td>\n",
       "      <td>0</td>\n",
       "      <td>0</td>\n",
       "      <td>40</td>\n",
       "      <td>United-States</td>\n",
       "      <td>NaN</td>\n",
       "    </tr>\n",
       "    <tr>\n",
       "      <th>48839</th>\n",
       "      <td>38</td>\n",
       "      <td>Private</td>\n",
       "      <td>374983</td>\n",
       "      <td>Bachelors</td>\n",
       "      <td>13</td>\n",
       "      <td>Married-civ-spouse</td>\n",
       "      <td>Prof-specialty</td>\n",
       "      <td>Husband</td>\n",
       "      <td>White</td>\n",
       "      <td>Male</td>\n",
       "      <td>0</td>\n",
       "      <td>0</td>\n",
       "      <td>50</td>\n",
       "      <td>United-States</td>\n",
       "      <td>NaN</td>\n",
       "    </tr>\n",
       "    <tr>\n",
       "      <th>48840</th>\n",
       "      <td>44</td>\n",
       "      <td>Private</td>\n",
       "      <td>83891</td>\n",
       "      <td>Bachelors</td>\n",
       "      <td>13</td>\n",
       "      <td>Divorced</td>\n",
       "      <td>Adm-clerical</td>\n",
       "      <td>Own-child</td>\n",
       "      <td>Asian-Pac-Islander</td>\n",
       "      <td>Male</td>\n",
       "      <td>5455</td>\n",
       "      <td>0</td>\n",
       "      <td>40</td>\n",
       "      <td>United-States</td>\n",
       "      <td>NaN</td>\n",
       "    </tr>\n",
       "    <tr>\n",
       "      <th>48841</th>\n",
       "      <td>35</td>\n",
       "      <td>Self-emp-inc</td>\n",
       "      <td>182148</td>\n",
       "      <td>Bachelors</td>\n",
       "      <td>13</td>\n",
       "      <td>Married-civ-spouse</td>\n",
       "      <td>Exec-managerial</td>\n",
       "      <td>Husband</td>\n",
       "      <td>White</td>\n",
       "      <td>Male</td>\n",
       "      <td>0</td>\n",
       "      <td>0</td>\n",
       "      <td>60</td>\n",
       "      <td>United-States</td>\n",
       "      <td>NaN</td>\n",
       "    </tr>\n",
       "  </tbody>\n",
       "</table>\n",
       "<p>48842 rows × 15 columns</p>\n",
       "</div>"
      ]
     },
     "metadata": {},
     "output_type": "display_data"
    }
   ],
   "execution_count": 344
  },
  {
   "cell_type": "markdown",
   "source": [
    "- 1.3. Remove the following columns from the data frame: `fnlwgt`, `education-num`, `capital-gain`, `capital-loss`."
   ],
   "metadata": {
    "collapsed": false
   },
   "id": "1861d87229c0482d"
  },
  {
   "cell_type": "code",
   "source": [
    "adultUCI = adultUCI.drop(columns=['fnlwgt', 'education-num', 'capital-gain', 'capital-loss'])"
   ],
   "metadata": {
    "collapsed": false,
    "ExecuteTime": {
     "end_time": "2024-05-29T11:48:11.056488Z",
     "start_time": "2024-05-29T11:48:11.045751Z"
    }
   },
   "id": "c6ebc72ab53fdf57",
   "outputs": [],
   "execution_count": 345
  },
  {
   "cell_type": "markdown",
   "source": [
    "- 1.4. You cannot work with numerical data. Therefore, we will convert the numeric columns to categorize:\n",
    "    - Convert the **age** column to classes. The breaks of the classes are (`15`, `25`, `45`, `65`, `100`). Convert the classes to the following names (`Young`, `Middle-aged`, `Senior`, `Old`).\n",
    "    - Convert the **hours-per-week** column to classes. The breaks of the classes are (`0`, `25`, `40`, `60`, `168`). Convert the classes to the following names (`Part-time`, `Full-time`, `Over-time`, `Workaholic`)"
   ],
   "metadata": {
    "collapsed": false
   },
   "id": "969d3c60155d8a82"
  },
  {
   "cell_type": "code",
   "source": [
    "adultUCI['age'] = pd.cut(adultUCI['age'], bins=[15, 25, 45, 65, 100], labels=['Young', 'Middle-aged', 'Senior', 'Old'])\n",
    "adultUCI['hours-per-week'] = pd.cut(adultUCI['hours-per-week'], bins=[0, 25, 40, 60, 168], labels=[\"Part-time\", \"Full-time\", \"Over-time\", \"Workaholic\"])"
   ],
   "metadata": {
    "collapsed": false,
    "ExecuteTime": {
     "end_time": "2024-05-29T11:48:11.320247Z",
     "start_time": "2024-05-29T11:48:11.309035Z"
    }
   },
   "id": "e8e489c610b7cff5",
   "outputs": [],
   "execution_count": 346
  },
  {
   "cell_type": "markdown",
   "source": [
    "- 1.5. Convert the data frame to a transactions object with Pandas get_dummies function. Make using the parameter `prefix_sep='='`. Study the result."
   ],
   "metadata": {
    "collapsed": false
   },
   "id": "b9d3e14c66801ce7"
  },
  {
   "cell_type": "code",
   "source": [
    "adultUCI_dummies = pd.get_dummies(adultUCI,prefix_sep='=', dtype=bool)"
   ],
   "metadata": {
    "collapsed": false,
    "ExecuteTime": {
     "end_time": "2024-05-29T11:48:11.570875Z",
     "start_time": "2024-05-29T11:48:11.519305Z"
    }
   },
   "id": "119ea122815b24ea",
   "outputs": [],
   "execution_count": 347
  },
  {
   "cell_type": "code",
   "source": [
    "display(adultUCI_dummies.head())"
   ],
   "metadata": {
    "collapsed": false,
    "ExecuteTime": {
     "end_time": "2024-05-29T11:48:11.664564Z",
     "start_time": "2024-05-29T11:48:11.635149Z"
    }
   },
   "id": "d9d344987d2ec78c",
   "outputs": [
    {
     "data": {
      "text/plain": [
       "   age=Young  age=Middle-aged  age=Senior  age=Old  workclass=Federal-gov  \\\n",
       "0      False             True       False    False                  False   \n",
       "1      False            False        True    False                  False   \n",
       "2      False             True       False    False                  False   \n",
       "3      False            False        True    False                  False   \n",
       "4      False             True       False    False                  False   \n",
       "\n",
       "   workclass=Local-gov  workclass=Never-worked  workclass=Private  \\\n",
       "0                False                   False              False   \n",
       "1                False                   False              False   \n",
       "2                False                   False               True   \n",
       "3                False                   False               True   \n",
       "4                False                   False               True   \n",
       "\n",
       "   workclass=Self-emp-inc  workclass=Self-emp-not-inc  ...  \\\n",
       "0                   False                       False  ...   \n",
       "1                   False                        True  ...   \n",
       "2                   False                       False  ...   \n",
       "3                   False                       False  ...   \n",
       "4                   False                       False  ...   \n",
       "\n",
       "   native-country=Scotland  native-country=South  native-country=Taiwan  \\\n",
       "0                    False                 False                  False   \n",
       "1                    False                 False                  False   \n",
       "2                    False                 False                  False   \n",
       "3                    False                 False                  False   \n",
       "4                    False                 False                  False   \n",
       "\n",
       "   native-country=Thailand  native-country=Trinadad&Tobago  \\\n",
       "0                    False                           False   \n",
       "1                    False                           False   \n",
       "2                    False                           False   \n",
       "3                    False                           False   \n",
       "4                    False                           False   \n",
       "\n",
       "   native-country=United-States  native-country=Vietnam  \\\n",
       "0                          True                   False   \n",
       "1                          True                   False   \n",
       "2                          True                   False   \n",
       "3                          True                   False   \n",
       "4                         False                   False   \n",
       "\n",
       "   native-country=Yugoslavia  income=large  income=small  \n",
       "0                      False         False          True  \n",
       "1                      False         False          True  \n",
       "2                      False         False          True  \n",
       "3                      False         False          True  \n",
       "4                      False         False          True  \n",
       "\n",
       "[5 rows x 109 columns]"
      ],
      "text/html": [
       "<div>\n",
       "<style scoped>\n",
       "    .dataframe tbody tr th:only-of-type {\n",
       "        vertical-align: middle;\n",
       "    }\n",
       "\n",
       "    .dataframe tbody tr th {\n",
       "        vertical-align: top;\n",
       "    }\n",
       "\n",
       "    .dataframe thead th {\n",
       "        text-align: right;\n",
       "    }\n",
       "</style>\n",
       "<table border=\"1\" class=\"dataframe\">\n",
       "  <thead>\n",
       "    <tr style=\"text-align: right;\">\n",
       "      <th></th>\n",
       "      <th>age=Young</th>\n",
       "      <th>age=Middle-aged</th>\n",
       "      <th>age=Senior</th>\n",
       "      <th>age=Old</th>\n",
       "      <th>workclass=Federal-gov</th>\n",
       "      <th>workclass=Local-gov</th>\n",
       "      <th>workclass=Never-worked</th>\n",
       "      <th>workclass=Private</th>\n",
       "      <th>workclass=Self-emp-inc</th>\n",
       "      <th>workclass=Self-emp-not-inc</th>\n",
       "      <th>...</th>\n",
       "      <th>native-country=Scotland</th>\n",
       "      <th>native-country=South</th>\n",
       "      <th>native-country=Taiwan</th>\n",
       "      <th>native-country=Thailand</th>\n",
       "      <th>native-country=Trinadad&amp;Tobago</th>\n",
       "      <th>native-country=United-States</th>\n",
       "      <th>native-country=Vietnam</th>\n",
       "      <th>native-country=Yugoslavia</th>\n",
       "      <th>income=large</th>\n",
       "      <th>income=small</th>\n",
       "    </tr>\n",
       "  </thead>\n",
       "  <tbody>\n",
       "    <tr>\n",
       "      <th>0</th>\n",
       "      <td>False</td>\n",
       "      <td>True</td>\n",
       "      <td>False</td>\n",
       "      <td>False</td>\n",
       "      <td>False</td>\n",
       "      <td>False</td>\n",
       "      <td>False</td>\n",
       "      <td>False</td>\n",
       "      <td>False</td>\n",
       "      <td>False</td>\n",
       "      <td>...</td>\n",
       "      <td>False</td>\n",
       "      <td>False</td>\n",
       "      <td>False</td>\n",
       "      <td>False</td>\n",
       "      <td>False</td>\n",
       "      <td>True</td>\n",
       "      <td>False</td>\n",
       "      <td>False</td>\n",
       "      <td>False</td>\n",
       "      <td>True</td>\n",
       "    </tr>\n",
       "    <tr>\n",
       "      <th>1</th>\n",
       "      <td>False</td>\n",
       "      <td>False</td>\n",
       "      <td>True</td>\n",
       "      <td>False</td>\n",
       "      <td>False</td>\n",
       "      <td>False</td>\n",
       "      <td>False</td>\n",
       "      <td>False</td>\n",
       "      <td>False</td>\n",
       "      <td>True</td>\n",
       "      <td>...</td>\n",
       "      <td>False</td>\n",
       "      <td>False</td>\n",
       "      <td>False</td>\n",
       "      <td>False</td>\n",
       "      <td>False</td>\n",
       "      <td>True</td>\n",
       "      <td>False</td>\n",
       "      <td>False</td>\n",
       "      <td>False</td>\n",
       "      <td>True</td>\n",
       "    </tr>\n",
       "    <tr>\n",
       "      <th>2</th>\n",
       "      <td>False</td>\n",
       "      <td>True</td>\n",
       "      <td>False</td>\n",
       "      <td>False</td>\n",
       "      <td>False</td>\n",
       "      <td>False</td>\n",
       "      <td>False</td>\n",
       "      <td>True</td>\n",
       "      <td>False</td>\n",
       "      <td>False</td>\n",
       "      <td>...</td>\n",
       "      <td>False</td>\n",
       "      <td>False</td>\n",
       "      <td>False</td>\n",
       "      <td>False</td>\n",
       "      <td>False</td>\n",
       "      <td>True</td>\n",
       "      <td>False</td>\n",
       "      <td>False</td>\n",
       "      <td>False</td>\n",
       "      <td>True</td>\n",
       "    </tr>\n",
       "    <tr>\n",
       "      <th>3</th>\n",
       "      <td>False</td>\n",
       "      <td>False</td>\n",
       "      <td>True</td>\n",
       "      <td>False</td>\n",
       "      <td>False</td>\n",
       "      <td>False</td>\n",
       "      <td>False</td>\n",
       "      <td>True</td>\n",
       "      <td>False</td>\n",
       "      <td>False</td>\n",
       "      <td>...</td>\n",
       "      <td>False</td>\n",
       "      <td>False</td>\n",
       "      <td>False</td>\n",
       "      <td>False</td>\n",
       "      <td>False</td>\n",
       "      <td>True</td>\n",
       "      <td>False</td>\n",
       "      <td>False</td>\n",
       "      <td>False</td>\n",
       "      <td>True</td>\n",
       "    </tr>\n",
       "    <tr>\n",
       "      <th>4</th>\n",
       "      <td>False</td>\n",
       "      <td>True</td>\n",
       "      <td>False</td>\n",
       "      <td>False</td>\n",
       "      <td>False</td>\n",
       "      <td>False</td>\n",
       "      <td>False</td>\n",
       "      <td>True</td>\n",
       "      <td>False</td>\n",
       "      <td>False</td>\n",
       "      <td>...</td>\n",
       "      <td>False</td>\n",
       "      <td>False</td>\n",
       "      <td>False</td>\n",
       "      <td>False</td>\n",
       "      <td>False</td>\n",
       "      <td>False</td>\n",
       "      <td>False</td>\n",
       "      <td>False</td>\n",
       "      <td>False</td>\n",
       "      <td>True</td>\n",
       "    </tr>\n",
       "  </tbody>\n",
       "</table>\n",
       "<p>5 rows × 109 columns</p>\n",
       "</div>"
      ]
     },
     "metadata": {},
     "output_type": "display_data"
    }
   ],
   "execution_count": 348
  },
  {
   "cell_type": "markdown",
   "source": [
    "- 1.6. Create a barchart of all items with a support of `0.1` or more."
   ],
   "metadata": {
    "collapsed": false
   },
   "id": "5b4db15a2df3541e"
  },
  {
   "cell_type": "code",
   "source": [
    "# Code to calculate support\n",
    "support = adultUCI_dummies.mean()\n",
    "\n",
    "# Code to filter items with support >= 0.1\n",
    "support_threshold = 0.1\n",
    "frequent_items = support[support >= support_threshold]\n",
    "\n",
    "# Code to create bar chart\n",
    "plt.figure(figsize=(10, 6))\n",
    "frequent_items.sort_values(ascending=False).plot(kind='bar')\n",
    "plt.title('Frequent Items with Support >= 0.1')\n",
    "plt.xlabel('Items')\n",
    "plt.ylabel('Support')\n",
    "plt.xticks(rotation=45, ha='right')\n",
    "plt.tight_layout()\n",
    "plt.show()"
   ],
   "metadata": {
    "collapsed": false,
    "ExecuteTime": {
     "end_time": "2024-05-29T11:48:12.037083Z",
     "start_time": "2024-05-29T11:48:11.780346Z"
    }
   },
   "id": "9a5625f943fb071d",
   "outputs": [
    {
     "data": {
      "text/plain": [
       "<Figure size 1000x600 with 1 Axes>"
      ],
      "image/png": "[encoded data removed]"
     },
     "metadata": {},
     "output_type": "display_data"
    }
   ],
   "execution_count": 349
  },
  {
   "cell_type": "markdown",
   "source": [
    "- 1.7. Which two items have very high support (proportionally)? Can you conclude from this that the administered questionnaire a good example of a random sample?"
   ],
   "metadata": {
    "collapsed": false
   },
   "id": "57266bc318c226fc"
  },
  {
   "cell_type": "code",
   "source": [
    "print(colored(f\"Two items with very high support: {frequent_items.sort_values(ascending=False).index[0]} and {frequent_items.sort_values(ascending=False).index[1]}\", outputColor))\n",
    "print(colored(f\"So no it's not a good example of a random sample.\", outputColor))"
   ],
   "metadata": {
    "collapsed": false,
    "ExecuteTime": {
     "end_time": "2024-05-29T11:48:12.052329Z",
     "start_time": "2024-05-29T11:48:12.039346Z"
    }
   },
   "id": "a8fc9e5a92f9f5a4",
   "outputs": [
    {
     "name": "stdout",
     "output_type": "stream",
     "text": [
      "\u001B[34mTwo items with very high support: native-country=United-States and race=White\u001B[0m\n",
      "\u001B[34mSo no it's not a good example of a random sample.\u001B[0m\n"
     ]
    }
   ],
   "execution_count": 350
  },
  {
   "cell_type": "markdown",
   "source": [
    "- 1.8. Apply the apriori and association_rules algorithms with the following parameters:\n",
    "    - support= `0.05`,\n",
    "    - confidence=`0.6`,\n",
    "    - min_len=`2`, max_len=`3`."
   ],
   "metadata": {
    "collapsed": false
   },
   "id": "37fc2560100c57a7"
  },
  {
   "cell_type": "code",
   "source": [
    "support = 0.05\n",
    "confidence = 0.6\n",
    "min_len = 2\n",
    "max_len = 3\n",
    "\n",
    "apriori = apriori(adultUCI_dummies, min_support=support, use_colnames=True, max_len=max_len)\n",
    "\n",
    "rules = association_rules(apriori, metric='confidence', min_threshold=confidence)\n",
    "rules = rules.drop(columns=['leverage', 'conviction', 'zhangs_metric'])"
   ],
   "metadata": {
    "collapsed": false,
    "ExecuteTime": {
     "end_time": "2024-05-29T11:48:12.367176Z",
     "start_time": "2024-05-29T11:48:12.064694Z"
    }
   },
   "id": "e59980aa0290b62b",
   "outputs": [],
   "execution_count": 351
  },
  {
   "cell_type": "markdown",
   "source": [
    "- 1.9. You can use the following filter function in combination with the .apply function of a DataFrame 'def rule_filter(row, min_len, max_len):' How many rules did the algorithm find?"
   ],
   "metadata": {
    "collapsed": false
   },
   "id": "60cb188a481f9137"
  },
  {
   "cell_type": "code",
   "source": [
    "rules = rules[rules.apply(rule_filter, min_len=min_len, max_len=max_len, axis=1)]\n",
    "print(colored(f\"The algorithm found {rules.shape[0]} rules.\", outputColor))"
   ],
   "metadata": {
    "collapsed": false,
    "ExecuteTime": {
     "end_time": "2024-05-29T11:48:12.398058Z",
     "start_time": "2024-05-29T11:48:12.369274Z"
    }
   },
   "id": "75e7320bd45462b3",
   "outputs": [
    {
     "name": "stdout",
     "output_type": "stream",
     "text": [
      "\u001B[34mThe algorithm found 1112 rules.\u001B[0m\n"
     ]
    }
   ],
   "execution_count": 352
  },
  {
   "cell_type": "markdown",
   "source": [
    "- 1.10. View the rules with the highest confidence? What stands out?"
   ],
   "metadata": {
    "collapsed": false
   },
   "id": "104b9516605bb10e"
  },
  {
   "cell_type": "code",
   "source": [
    "display(rules.sort_values(by='confidence', ascending=False).head())\n",
    "print(colored(f\"The men in the dataset are the husband.\", outputColor))"
   ],
   "metadata": {
    "collapsed": false,
    "ExecuteTime": {
     "end_time": "2024-05-29T11:48:12.758365Z",
     "start_time": "2024-05-29T11:48:12.730647Z"
    }
   },
   "id": "d0bc8c052a484c82",
   "outputs": [
    {
     "data": {
      "text/plain": [
       "                                           antecedents consequents  \\\n",
       "935  (relationship=Husband, occupation=Prof-specialty)  (sex=Male)   \n",
       "705     (relationship=Husband, education=Some-college)  (sex=Male)   \n",
       "967   (relationship=Husband, hours-per-week=Over-time)  (sex=Male)   \n",
       "912  (relationship=Husband, occupation=Exec-manager...  (sex=Male)   \n",
       "973               (relationship=Husband, income=large)  (sex=Male)   \n",
       "\n",
       "     antecedent support  consequent support   support  confidence      lift  \n",
       "935            0.055137            0.668482  0.055137         1.0  1.495926  \n",
       "705            0.074895            0.668482  0.074895         1.0  1.495926  \n",
       "967            0.147230            0.668482  0.147230         1.0  1.495926  \n",
       "912            0.066152            0.668482  0.066152         1.0  1.495926  \n",
       "973            0.121166            0.668482  0.121166         1.0  1.495926  "
      ],
      "text/html": [
       "<div>\n",
       "<style scoped>\n",
       "    .dataframe tbody tr th:only-of-type {\n",
       "        vertical-align: middle;\n",
       "    }\n",
       "\n",
       "    .dataframe tbody tr th {\n",
       "        vertical-align: top;\n",
       "    }\n",
       "\n",
       "    .dataframe thead th {\n",
       "        text-align: right;\n",
       "    }\n",
       "</style>\n",
       "<table border=\"1\" class=\"dataframe\">\n",
       "  <thead>\n",
       "    <tr style=\"text-align: right;\">\n",
       "      <th></th>\n",
       "      <th>antecedents</th>\n",
       "      <th>consequents</th>\n",
       "      <th>antecedent support</th>\n",
       "      <th>consequent support</th>\n",
       "      <th>support</th>\n",
       "      <th>confidence</th>\n",
       "      <th>lift</th>\n",
       "    </tr>\n",
       "  </thead>\n",
       "  <tbody>\n",
       "    <tr>\n",
       "      <th>935</th>\n",
       "      <td>(relationship=Husband, occupation=Prof-specialty)</td>\n",
       "      <td>(sex=Male)</td>\n",
       "      <td>0.055137</td>\n",
       "      <td>0.668482</td>\n",
       "      <td>0.055137</td>\n",
       "      <td>1.0</td>\n",
       "      <td>1.495926</td>\n",
       "    </tr>\n",
       "    <tr>\n",
       "      <th>705</th>\n",
       "      <td>(relationship=Husband, education=Some-college)</td>\n",
       "      <td>(sex=Male)</td>\n",
       "      <td>0.074895</td>\n",
       "      <td>0.668482</td>\n",
       "      <td>0.074895</td>\n",
       "      <td>1.0</td>\n",
       "      <td>1.495926</td>\n",
       "    </tr>\n",
       "    <tr>\n",
       "      <th>967</th>\n",
       "      <td>(relationship=Husband, hours-per-week=Over-time)</td>\n",
       "      <td>(sex=Male)</td>\n",
       "      <td>0.147230</td>\n",
       "      <td>0.668482</td>\n",
       "      <td>0.147230</td>\n",
       "      <td>1.0</td>\n",
       "      <td>1.495926</td>\n",
       "    </tr>\n",
       "    <tr>\n",
       "      <th>912</th>\n",
       "      <td>(relationship=Husband, occupation=Exec-manager...</td>\n",
       "      <td>(sex=Male)</td>\n",
       "      <td>0.066152</td>\n",
       "      <td>0.668482</td>\n",
       "      <td>0.066152</td>\n",
       "      <td>1.0</td>\n",
       "      <td>1.495926</td>\n",
       "    </tr>\n",
       "    <tr>\n",
       "      <th>973</th>\n",
       "      <td>(relationship=Husband, income=large)</td>\n",
       "      <td>(sex=Male)</td>\n",
       "      <td>0.121166</td>\n",
       "      <td>0.668482</td>\n",
       "      <td>0.121166</td>\n",
       "      <td>1.0</td>\n",
       "      <td>1.495926</td>\n",
       "    </tr>\n",
       "  </tbody>\n",
       "</table>\n",
       "</div>"
      ]
     },
     "metadata": {},
     "output_type": "display_data"
    },
    {
     "name": "stdout",
     "output_type": "stream",
     "text": [
      "\u001B[34mThe men in the dataset are the husband.\u001B[0m\n"
     ]
    }
   ],
   "execution_count": 353
  },
  {
   "cell_type": "markdown",
   "source": [
    "- 1.11. Can you explain why there is such a high confidence in this case?"
   ],
   "metadata": {
    "collapsed": false
   },
   "id": "a8be3aa6120bab0d"
  },
  {
   "cell_type": "code",
   "source": "print(colored(f\"In a stereotypical world, a husband is a man.Therefore, the confidence is quite high.\", outputColor))",
   "metadata": {
    "collapsed": false,
    "ExecuteTime": {
     "end_time": "2024-05-29T11:48:12.835758Z",
     "start_time": "2024-05-29T11:48:12.821322Z"
    }
   },
   "id": "7aff419bc729eac4",
   "outputs": [
    {
     "name": "stdout",
     "output_type": "stream",
     "text": [
      "\u001B[34mIn a stereotypical world, a husband is a man.Therefore, the confidence is quite high.\u001B[0m\n"
     ]
    }
   ],
   "execution_count": 354
  },
  {
   "cell_type": "markdown",
   "source": [
    "- 1.12. That rule and variations on that rule are pretty useless. Therefore, remove the `relationship` column on the original data."
   ],
   "metadata": {
    "collapsed": false
   },
   "id": "356219eb31eae02e"
  },
  {
   "cell_type": "code",
   "source": [
    "adultUCI = pd.read_csv('../Data/AdultUCI.csv', delimiter=';', decimal=',')\n",
    "adultUCI = adultUCI.drop(columns=['fnlwgt', 'education-num', 'capital-gain', 'capital-loss', 'relationship'])\n",
    "adultUCI['age'] = pd.cut(adultUCI['age'], bins=[15, 25, 45, 65, 100], labels=['Young', 'Middle-aged', 'Senior', 'Old'])\n",
    "adultUCI['hours-per-week'] = pd.cut(adultUCI['hours-per-week'], bins=[0, 25, 40, 60, 168], labels=[\"Part-time\", \"Full-time\", \"Over-time\", \"Workaholic\"])"
   ],
   "metadata": {
    "collapsed": false,
    "ExecuteTime": {
     "end_time": "2024-05-29T11:48:13.224292Z",
     "start_time": "2024-05-29T11:48:13.104137Z"
    }
   },
   "id": "1997781aec61b254",
   "outputs": [],
   "execution_count": 355
  },
  {
   "cell_type": "markdown",
   "source": [
    "- 1.13. Run the apriori algorithm again. Which rule has the greatest confidence?"
   ],
   "metadata": {
    "collapsed": false
   },
   "id": "2a47ce00108bbffa"
  },
  {
   "cell_type": "code",
   "source": [
    "from mlxtend.frequent_patterns import apriori\n",
    "support=0.05\n",
    "confidence=0.6\n",
    "max_len=3\n",
    "min_len=2\n",
    "\n",
    "adultUCI_dummies = pd.get_dummies(adultUCI, prefix_sep='=', dtype=bool)\n",
    "\n",
    "apriori = apriori(adultUCI_dummies, min_support=support, use_colnames=True, max_len=max_len)\n",
    "\n",
    "rules = association_rules(apriori, metric='confidence', min_threshold=confidence).drop(columns=['leverage', 'conviction', 'zhangs_metric'])\n",
    "\n",
    "display(rules.sort_values(by='confidence', ascending=False).head(1))"
   ],
   "metadata": {
    "collapsed": false,
    "ExecuteTime": {
     "end_time": "2024-05-29T11:50:34.272310Z",
     "start_time": "2024-05-29T11:50:33.916891Z"
    }
   },
   "id": "4a82dce131db1377",
   "outputs": [
    {
     "data": {
      "text/plain": [
       "                                           antecedents consequents  \\\n",
       "606  (occupation=Craft-repair, marital-status=Marri...  (sex=Male)   \n",
       "\n",
       "     antecedent support  consequent support   support  confidence      lift  \n",
       "606             0.07817            0.668482  0.077147    0.986904  1.476336  "
      ],
      "text/html": [
       "<div>\n",
       "<style scoped>\n",
       "    .dataframe tbody tr th:only-of-type {\n",
       "        vertical-align: middle;\n",
       "    }\n",
       "\n",
       "    .dataframe tbody tr th {\n",
       "        vertical-align: top;\n",
       "    }\n",
       "\n",
       "    .dataframe thead th {\n",
       "        text-align: right;\n",
       "    }\n",
       "</style>\n",
       "<table border=\"1\" class=\"dataframe\">\n",
       "  <thead>\n",
       "    <tr style=\"text-align: right;\">\n",
       "      <th></th>\n",
       "      <th>antecedents</th>\n",
       "      <th>consequents</th>\n",
       "      <th>antecedent support</th>\n",
       "      <th>consequent support</th>\n",
       "      <th>support</th>\n",
       "      <th>confidence</th>\n",
       "      <th>lift</th>\n",
       "    </tr>\n",
       "  </thead>\n",
       "  <tbody>\n",
       "    <tr>\n",
       "      <th>606</th>\n",
       "      <td>(occupation=Craft-repair, marital-status=Marri...</td>\n",
       "      <td>(sex=Male)</td>\n",
       "      <td>0.07817</td>\n",
       "      <td>0.668482</td>\n",
       "      <td>0.077147</td>\n",
       "      <td>0.986904</td>\n",
       "      <td>1.476336</td>\n",
       "    </tr>\n",
       "  </tbody>\n",
       "</table>\n",
       "</div>"
      ]
     },
     "metadata": {},
     "output_type": "display_data"
    }
   ],
   "execution_count": 375
  },
  {
   "cell_type": "markdown",
   "source": [
    "- 1.14. If you look at the Lift of this line, would you still consider it a good association consider rule?"
   ],
   "metadata": {
    "collapsed": false
   },
   "id": "55427fd6b04d2426"
  },
  {
   "cell_type": "code",
   "source": [
    "if rules.sort_values(by='confidence', ascending=False).head(1)['lift'].values[0] > 1:\n",
    "    print(colored(f\"Yes, it is a good association rule because the lift is greater than 1\", outputColor))\n",
    "else:\n",
    "   print(colored(f\"No, it is not a good association rule because the lift is less than 1\", outputColor))"
   ],
   "metadata": {
    "collapsed": false,
    "ExecuteTime": {
     "end_time": "2024-05-29T11:48:13.428460Z",
     "start_time": "2024-05-29T11:48:13.420066Z"
    }
   },
   "id": "582bfa4743ab31d9",
   "outputs": [
    {
     "name": "stdout",
     "output_type": "stream",
     "text": [
      "\u001B[34mYes, it is a good association rule because the lift is greater than 1\u001B[0m\n"
     ]
    }
   ],
   "execution_count": 357
  },
  {
   "cell_type": "markdown",
   "source": [
    "- 1.15. If a respondent indicates that he works overtime (`hours-per-week`) and has a limited income (`income = small`), in which age category can we expect him to be? How sure are you of that?"
   ],
   "metadata": {
    "collapsed": false
   },
   "id": "5446671941066ab4"
  },
  {
   "cell_type": "code",
   "source": [
    "age = rules[(rules['antecedents'] == {'hours-per-week=Over-time', 'income=small'})]['consequents'].values[0]\n",
    "confidence = rules[(rules['antecedents'] == {'hours-per-week=Over-time', 'income=small'})]['confidence'].values[0]\n",
    "\n",
    "print(colored(f\"The respondent is in the age category: {age} with a confidence of {confidence}\", outputColor))"
   ],
   "metadata": {
    "collapsed": false,
    "ExecuteTime": {
     "end_time": "2024-05-29T11:48:13.601471Z",
     "start_time": "2024-05-29T11:48:13.579333Z"
    }
   },
   "id": "9df641d40482c3c2",
   "outputs": [
    {
     "name": "stdout",
     "output_type": "stream",
     "text": [
      "\u001B[34mThe respondent is in the age category: frozenset({'age=Middle-aged'}) with a confidence of 0.6160589758916118\u001B[0m\n"
     ]
    }
   ],
   "execution_count": 358
  },
  {
   "cell_type": "markdown",
   "source": [
    "- 1.16. Describe what the lift says about the rule used in n."
   ],
   "metadata": {
    "collapsed": false
   },
   "id": "f4f1347cca96cb79"
  },
  {
   "cell_type": "code",
   "source": [
    "lift = rules[(rules['antecedents'] == {'hours-per-week=Over-time', 'income=small'})]['lift'].values[0]\n",
    "print(colored(f\"Lift {lift}\", outputColor))\n",
    "if lift > 1:\n",
    "    print(colored(f\"It is a good association rule because the lift is greater than 1\", outputColor))\n",
    "else:\n",
    "    print(colored(f\"It is not a good association rule because the lift is less than 1\", outputColor))"
   ],
   "metadata": {
    "collapsed": false,
    "ExecuteTime": {
     "end_time": "2024-05-29T11:48:14.100897Z",
     "start_time": "2024-05-29T11:48:14.082153Z"
    }
   },
   "id": "c2406e1c05514efc",
   "outputs": [
    {
     "name": "stdout",
     "output_type": "stream",
     "text": [
      "\u001B[34mLift 1.2196324632361115\u001B[0m\n",
      "\u001B[34mIt is a good association rule because the lift is greater than 1\u001B[0m\n"
     ]
    }
   ],
   "execution_count": 359
  },
  {
   "cell_type": "markdown",
   "source": [
    "- 1.17. Does the combination of the three items from the previous 2 questions occur often? What number do you have?\n",
    "used for this?"
   ],
   "metadata": {
    "collapsed": false
   },
   "id": "adb72bd040979945"
  },
  {
   "cell_type": "code",
   "source": [
    "confidence = rules[(rules['antecedents'] == {'hours-per-week=Over-time', 'income=small'})]['confidence'].values[0]\n",
    "print(colored(f\"The number we use to calculate this is the confidence.\\nI'm confident that it will occur {round(confidence*100, 2)}% of the time.\", outputColor))"
   ],
   "metadata": {
    "collapsed": false,
    "ExecuteTime": {
     "end_time": "2024-05-29T11:48:14.287399Z",
     "start_time": "2024-05-29T11:48:14.271424Z"
    }
   },
   "id": "5c917caf876a3cba",
   "outputs": [
    {
     "name": "stdout",
     "output_type": "stream",
     "text": [
      "\u001B[34mThe number we use to calculate this is the confidence.\n",
      "I'm confident that it will occur 61.61% of the time.\u001B[0m\n"
     ]
    }
   ],
   "execution_count": 360
  },
  {
   "cell_type": "markdown",
   "source": [
    "- 1.18. Have you come across a rule somewhere that says `hours-per-week=Workaholic`? Can you explain why?\n",
    "is this so?"
   ],
   "metadata": {
    "collapsed": false
   },
   "id": "2f96b3d8c4e867b0"
  },
  {
   "cell_type": "code",
   "source": [
    "print(colored(len(rules[(rules['antecedents'] == {'hours-per-week=Workaholic'})]), outputColor))\n",
    "\n",
    "print(colored(f\"There are zero workaholics because if you want to be a workaholic you have to work 168 hours. So this is 24 hours for 7 days in a row, so a full week. This is not humanly possible.\", outputColor))"
   ],
   "metadata": {
    "collapsed": false,
    "ExecuteTime": {
     "end_time": "2024-05-29T11:48:14.442221Z",
     "start_time": "2024-05-29T11:48:14.424879Z"
    }
   },
   "id": "aa2ca6603b96f807",
   "outputs": [
    {
     "name": "stdout",
     "output_type": "stream",
     "text": [
      "\u001B[34m0\u001B[0m\n",
      "\u001B[34mThere are zero workaholics because if you want to be a workaholic you have to work 168 hours. So this is 24 hours for 7 days in a row, so a full week. This is not humanly possible.\u001B[0m\n"
     ]
    }
   ],
   "execution_count": 361
  },
  {
   "cell_type": "markdown",
   "source": [
    "### Question 2: [Fruit promotion]\n",
    "A supermarket wants to attract people to the store with a very strong promotion for fruit. Because she If they don't make a profit on that promotion, they want to compensate for that with another type right next to it to produce fruit that will increase the price slightly so that the profit margin on it can partially offset the loss compensate. The store wants to know which fruit to promote and which fruit to use the most has a chance to be purchased with the fruit on promotion."
   ],
   "metadata": {
    "collapsed": false
   },
   "id": "7b9edfcff398c30"
  },
  {
   "cell_type": "markdown",
   "source": [
    "- 2.1. Use the fruit preferences from the questionnaire dataset (`../Data/FruitPurchase.csv`) toto draw up the rules."
   ],
   "metadata": {
    "collapsed": false
   },
   "id": "59c9638235b36f59"
  },
  {
   "cell_type": "code",
   "source": [
    "fruitPurchase = pd.read_csv('../Data/FruitPurchase.csv', delimiter=';', decimal=',')\n",
    "display(fruitPurchase)"
   ],
   "metadata": {
    "collapsed": false,
    "ExecuteTime": {
     "end_time": "2024-05-29T11:48:14.535876Z",
     "start_time": "2024-05-29T11:48:14.519229Z"
    }
   },
   "id": "d61ec150a9e2e8a",
   "outputs": [
    {
     "data": {
      "text/plain": [
       "    Aardbei  Ananas  Appel  Banaan   Kers   Kiwi  Meloen   Peer  Pruim  \\\n",
       "0      True    True  False   False  False  False    True  False  False   \n",
       "1      True   False  False   False  False   True    True  False  False   \n",
       "2      True   False   True   False  False  False   False  False  False   \n",
       "3      True   False  False    True   True  False   False  False  False   \n",
       "4      True    True   True   False  False  False   False  False  False   \n",
       "..      ...     ...    ...     ...    ...    ...     ...    ...    ...   \n",
       "94     True   False   True    True  False  False   False  False  False   \n",
       "95     True   False   True    True  False  False   False  False  False   \n",
       "96     True   False  False   False  False   True    True  False  False   \n",
       "97     True   False   True   False  False  False   False  False  False   \n",
       "98    False   False   True   False  False   True    True  False  False   \n",
       "\n",
       "    Sinaasappel  \n",
       "0         False  \n",
       "1         False  \n",
       "2          True  \n",
       "3         False  \n",
       "4         False  \n",
       "..          ...  \n",
       "94        False  \n",
       "95        False  \n",
       "96        False  \n",
       "97         True  \n",
       "98        False  \n",
       "\n",
       "[99 rows x 10 columns]"
      ],
      "text/html": [
       "<div>\n",
       "<style scoped>\n",
       "    .dataframe tbody tr th:only-of-type {\n",
       "        vertical-align: middle;\n",
       "    }\n",
       "\n",
       "    .dataframe tbody tr th {\n",
       "        vertical-align: top;\n",
       "    }\n",
       "\n",
       "    .dataframe thead th {\n",
       "        text-align: right;\n",
       "    }\n",
       "</style>\n",
       "<table border=\"1\" class=\"dataframe\">\n",
       "  <thead>\n",
       "    <tr style=\"text-align: right;\">\n",
       "      <th></th>\n",
       "      <th>Aardbei</th>\n",
       "      <th>Ananas</th>\n",
       "      <th>Appel</th>\n",
       "      <th>Banaan</th>\n",
       "      <th>Kers</th>\n",
       "      <th>Kiwi</th>\n",
       "      <th>Meloen</th>\n",
       "      <th>Peer</th>\n",
       "      <th>Pruim</th>\n",
       "      <th>Sinaasappel</th>\n",
       "    </tr>\n",
       "  </thead>\n",
       "  <tbody>\n",
       "    <tr>\n",
       "      <th>0</th>\n",
       "      <td>True</td>\n",
       "      <td>True</td>\n",
       "      <td>False</td>\n",
       "      <td>False</td>\n",
       "      <td>False</td>\n",
       "      <td>False</td>\n",
       "      <td>True</td>\n",
       "      <td>False</td>\n",
       "      <td>False</td>\n",
       "      <td>False</td>\n",
       "    </tr>\n",
       "    <tr>\n",
       "      <th>1</th>\n",
       "      <td>True</td>\n",
       "      <td>False</td>\n",
       "      <td>False</td>\n",
       "      <td>False</td>\n",
       "      <td>False</td>\n",
       "      <td>True</td>\n",
       "      <td>True</td>\n",
       "      <td>False</td>\n",
       "      <td>False</td>\n",
       "      <td>False</td>\n",
       "    </tr>\n",
       "    <tr>\n",
       "      <th>2</th>\n",
       "      <td>True</td>\n",
       "      <td>False</td>\n",
       "      <td>True</td>\n",
       "      <td>False</td>\n",
       "      <td>False</td>\n",
       "      <td>False</td>\n",
       "      <td>False</td>\n",
       "      <td>False</td>\n",
       "      <td>False</td>\n",
       "      <td>True</td>\n",
       "    </tr>\n",
       "    <tr>\n",
       "      <th>3</th>\n",
       "      <td>True</td>\n",
       "      <td>False</td>\n",
       "      <td>False</td>\n",
       "      <td>True</td>\n",
       "      <td>True</td>\n",
       "      <td>False</td>\n",
       "      <td>False</td>\n",
       "      <td>False</td>\n",
       "      <td>False</td>\n",
       "      <td>False</td>\n",
       "    </tr>\n",
       "    <tr>\n",
       "      <th>4</th>\n",
       "      <td>True</td>\n",
       "      <td>True</td>\n",
       "      <td>True</td>\n",
       "      <td>False</td>\n",
       "      <td>False</td>\n",
       "      <td>False</td>\n",
       "      <td>False</td>\n",
       "      <td>False</td>\n",
       "      <td>False</td>\n",
       "      <td>False</td>\n",
       "    </tr>\n",
       "    <tr>\n",
       "      <th>...</th>\n",
       "      <td>...</td>\n",
       "      <td>...</td>\n",
       "      <td>...</td>\n",
       "      <td>...</td>\n",
       "      <td>...</td>\n",
       "      <td>...</td>\n",
       "      <td>...</td>\n",
       "      <td>...</td>\n",
       "      <td>...</td>\n",
       "      <td>...</td>\n",
       "    </tr>\n",
       "    <tr>\n",
       "      <th>94</th>\n",
       "      <td>True</td>\n",
       "      <td>False</td>\n",
       "      <td>True</td>\n",
       "      <td>True</td>\n",
       "      <td>False</td>\n",
       "      <td>False</td>\n",
       "      <td>False</td>\n",
       "      <td>False</td>\n",
       "      <td>False</td>\n",
       "      <td>False</td>\n",
       "    </tr>\n",
       "    <tr>\n",
       "      <th>95</th>\n",
       "      <td>True</td>\n",
       "      <td>False</td>\n",
       "      <td>True</td>\n",
       "      <td>True</td>\n",
       "      <td>False</td>\n",
       "      <td>False</td>\n",
       "      <td>False</td>\n",
       "      <td>False</td>\n",
       "      <td>False</td>\n",
       "      <td>False</td>\n",
       "    </tr>\n",
       "    <tr>\n",
       "      <th>96</th>\n",
       "      <td>True</td>\n",
       "      <td>False</td>\n",
       "      <td>False</td>\n",
       "      <td>False</td>\n",
       "      <td>False</td>\n",
       "      <td>True</td>\n",
       "      <td>True</td>\n",
       "      <td>False</td>\n",
       "      <td>False</td>\n",
       "      <td>False</td>\n",
       "    </tr>\n",
       "    <tr>\n",
       "      <th>97</th>\n",
       "      <td>True</td>\n",
       "      <td>False</td>\n",
       "      <td>True</td>\n",
       "      <td>False</td>\n",
       "      <td>False</td>\n",
       "      <td>False</td>\n",
       "      <td>False</td>\n",
       "      <td>False</td>\n",
       "      <td>False</td>\n",
       "      <td>True</td>\n",
       "    </tr>\n",
       "    <tr>\n",
       "      <th>98</th>\n",
       "      <td>False</td>\n",
       "      <td>False</td>\n",
       "      <td>True</td>\n",
       "      <td>False</td>\n",
       "      <td>False</td>\n",
       "      <td>True</td>\n",
       "      <td>True</td>\n",
       "      <td>False</td>\n",
       "      <td>False</td>\n",
       "      <td>False</td>\n",
       "    </tr>\n",
       "  </tbody>\n",
       "</table>\n",
       "<p>99 rows × 10 columns</p>\n",
       "</div>"
      ]
     },
     "metadata": {},
     "output_type": "display_data"
    }
   ],
   "execution_count": 362
  },
  {
   "cell_type": "markdown",
   "source": [
    "- 2.2 Create association rules using this list. Use the following parameters for the apriori algorithm or the fp-growth algorithm:\n",
    "    - support=`0.1`\n",
    "    - confidence=`0.3`\n",
    "    - min_len=`2`, max_len=`2`)"
   ],
   "metadata": {
    "collapsed": false
   },
   "id": "f523eb30cd62f27a"
  },
  {
   "cell_type": "code",
   "source": [
    "from mlxtend.frequent_patterns import apriori\n",
    "support2 = 0.1\n",
    "confidence2 = 0.3\n",
    "min_len2 = 2\n",
    "max_len2 = 2\n",
    "\n",
    "apriori = apriori(fruitPurchase, min_support=support, use_colnames=True, max_len=max_len)\n",
    "\n",
    "rules = association_rules(apriori, metric='confidence', min_threshold=confidence).drop(columns=['leverage', 'conviction', 'zhangs_metric'])"
   ],
   "metadata": {
    "collapsed": false,
    "ExecuteTime": {
     "end_time": "2024-05-29T11:50:52.156687Z",
     "start_time": "2024-05-29T11:50:52.142848Z"
    }
   },
   "id": "412c8c91c30f73aa",
   "outputs": [],
   "execution_count": 376
  },
  {
   "cell_type": "markdown",
   "source": [
    "- 2.3. Find the association rule with the highest confidence."
   ],
   "metadata": {
    "collapsed": false
   },
   "id": "9ffa52d621ad41a4"
  },
  {
   "cell_type": "code",
   "source": [
    "display(rules.sort_values(by='confidence', ascending=False).head(1))"
   ],
   "metadata": {
    "collapsed": false,
    "ExecuteTime": {
     "end_time": "2024-05-29T11:48:14.752557Z",
     "start_time": "2024-05-29T11:48:14.738997Z"
    }
   },
   "id": "93abba6faac670ba",
   "outputs": [
    {
     "data": {
      "text/plain": [
       "                                           antecedents consequents  \\\n",
       "935  (relationship=Husband, occupation=Prof-specialty)  (sex=Male)   \n",
       "\n",
       "     antecedent support  consequent support   support  confidence      lift  \n",
       "935            0.055137            0.668482  0.055137         1.0  1.495926  "
      ],
      "text/html": [
       "<div>\n",
       "<style scoped>\n",
       "    .dataframe tbody tr th:only-of-type {\n",
       "        vertical-align: middle;\n",
       "    }\n",
       "\n",
       "    .dataframe tbody tr th {\n",
       "        vertical-align: top;\n",
       "    }\n",
       "\n",
       "    .dataframe thead th {\n",
       "        text-align: right;\n",
       "    }\n",
       "</style>\n",
       "<table border=\"1\" class=\"dataframe\">\n",
       "  <thead>\n",
       "    <tr style=\"text-align: right;\">\n",
       "      <th></th>\n",
       "      <th>antecedents</th>\n",
       "      <th>consequents</th>\n",
       "      <th>antecedent support</th>\n",
       "      <th>consequent support</th>\n",
       "      <th>support</th>\n",
       "      <th>confidence</th>\n",
       "      <th>lift</th>\n",
       "    </tr>\n",
       "  </thead>\n",
       "  <tbody>\n",
       "    <tr>\n",
       "      <th>935</th>\n",
       "      <td>(relationship=Husband, occupation=Prof-specialty)</td>\n",
       "      <td>(sex=Male)</td>\n",
       "      <td>0.055137</td>\n",
       "      <td>0.668482</td>\n",
       "      <td>0.055137</td>\n",
       "      <td>1.0</td>\n",
       "      <td>1.495926</td>\n",
       "    </tr>\n",
       "  </tbody>\n",
       "</table>\n",
       "</div>"
      ]
     },
     "metadata": {},
     "output_type": "display_data"
    }
   ],
   "execution_count": 364
  },
  {
   "cell_type": "markdown",
   "source": [
    "- 2.4. Which fruit will the store promote based on that rule?"
   ],
   "metadata": {
    "collapsed": false
   },
   "id": "bbb1d019d1a2aaf9"
  },
  {
   "cell_type": "code",
   "source": [
    "top_antecedent=rules.sort_values(by='confidence', ascending=False).head(1)['antecedents'].values[0]\n",
    "print(colored(f\"The store will put {top_antecedent } on promotion.\", outputColor))"
   ],
   "metadata": {
    "collapsed": false,
    "ExecuteTime": {
     "end_time": "2024-05-29T11:48:14.906496Z",
     "start_time": "2024-05-29T11:48:14.890432Z"
    }
   },
   "id": "e1406395a6ce4190",
   "outputs": [
    {
     "name": "stdout",
     "output_type": "stream",
     "text": [
      "\u001B[34mThe store will put frozenset({'relationship=Husband', 'occupation=Prof-specialty'}) on promotion.\u001B[0m\n"
     ]
    }
   ],
   "execution_count": 365
  },
  {
   "cell_type": "markdown",
   "source": [
    "- 2.5. Based on that rule, which fruit will the store place next to the promotional item?"
   ],
   "metadata": {
    "collapsed": false
   },
   "id": "e2079392f7a49bdd"
  },
  {
   "cell_type": "code",
   "source": [
    "top_consequents=rules.sort_values(by='confidence', ascending=False).head(1)['consequents'].values[0]\n",
    "print(colored(f\"The store will put {top_consequents } on promotion.\", outputColor))"
   ],
   "metadata": {
    "collapsed": false,
    "ExecuteTime": {
     "end_time": "2024-05-29T11:48:15.184516Z",
     "start_time": "2024-05-29T11:48:15.171543Z"
    }
   },
   "id": "19ec957341d60cee",
   "outputs": [
    {
     "name": "stdout",
     "output_type": "stream",
     "text": [
      "\u001B[34mThe store will put frozenset({'sex=Male'}) on promotion.\u001B[0m\n"
     ]
    }
   ],
   "execution_count": 366
  },
  {
   "cell_type": "markdown",
   "source": [
    "- 2.6. What percentage of the students who completed the questionnaire have the combination of the two fruit types are in their top 3?"
   ],
   "metadata": {
    "collapsed": false
   },
   "id": "6b23974d191fea3a"
  },
  {
   "cell_type": "code",
   "source": [
    "top_support=rules.sort_values(by='confidence', ascending=False).head(1)['support'].values[0]\n",
    "print(colored(f\"There is a {round(top_support*100,2)}% chance that {top_antecedent} and {top_consequents} are in the top 3 among students.\", outputColor))"
   ],
   "metadata": {
    "collapsed": false,
    "ExecuteTime": {
     "end_time": "2024-05-29T11:48:15.623899Z",
     "start_time": "2024-05-29T11:48:15.606613Z"
    }
   },
   "id": "e1bc203eb2e9a35a",
   "outputs": [
    {
     "name": "stdout",
     "output_type": "stream",
     "text": [
      "\u001B[34mThere is a 5.51% chance that frozenset({'relationship=Husband', 'occupation=Prof-specialty'}) and frozenset({'sex=Male'}) are in the top 3 among students.\u001B[0m\n"
     ]
    }
   ],
   "execution_count": 367
  },
  {
   "cell_type": "markdown",
   "source": [
    "- 2.7. What can you say about the fruit in promotion based on the lift?"
   ],
   "metadata": {
    "collapsed": false
   },
   "id": "3be25e2f229489be"
  },
  {
   "cell_type": "code",
   "source": [
    "lift=rules.sort_values(by='confidence', ascending=False).head(1)['lift'].values[0]\n",
    "print(colored(f\"Lift: {lift}\", outputColor))\n",
    "if lift > 1:\n",
    "    print(colored(f\"It is a good association rule because the lift is greater than 1\", outputColor))\n",
    "else:\n",
    "    print(colored(f\"It is not a good association rule because the lift is less than 1\", outputColor))"
   ],
   "metadata": {
    "collapsed": false,
    "ExecuteTime": {
     "end_time": "2024-05-29T11:48:16.309440Z",
     "start_time": "2024-05-29T11:48:16.284039Z"
    }
   },
   "id": "20908d5705140d09",
   "outputs": [
    {
     "name": "stdout",
     "output_type": "stream",
     "text": [
      "\u001B[34mLift: 1.495926493108729\u001B[0m\n",
      "\u001B[34mIt is a good association rule because the lift is greater than 1\u001B[0m\n"
     ]
    }
   ],
   "execution_count": 368
  },
  {
   "cell_type": "markdown",
   "source": [
    "## Exercises Repetition (Week 6)"
   ],
   "metadata": {
    "collapsed": false
   },
   "id": "210983418dcba8a7"
  },
  {
   "cell_type": "markdown",
   "source": [
    "### Question 1:\n",
    "A theoretical driving test contains `50` multiple choice questions. You must get `43/50` to pass. Suppose each multiple-choice question has `4` possible answers.\n",
    "\n",
    "- What is the chance of success (`43/50`) when you only gamble (`4` options)?\n",
    "- What is the chance of passing if you are sure of `35` questions (and therefore have guessed `15` times)?\n",
    "- What is the probability of passing (`43/50`) if you are just guessing and there are only `2` options per question?"
   ],
   "metadata": {
    "collapsed": false
   },
   "id": "5368c0023eb661"
  },
  {
   "cell_type": "code",
   "source": [
    "# Technique used: The Binomial Distribution\n",
    "\n",
    "k = 43 - 1     # Probability of exactly k successes\n",
    "n = 50         # Number of trials\n",
    "p = 1 / 4      # Probability of success in each trial\n",
    "probability = 1 - binomial.cdf(k, n, p)\n",
    "print(colored(f\"The probability is as follows: {round(probability, 4)} or {round(probability * 100, 4)}%.\", outputColor))\n",
    "\n",
    "k = 43 - 15    # Probability of exactly k successes\n",
    "n = 50         # Number of trials\n",
    "p = 1 / 4      # Probability of success in each trial\n",
    "probability = 1 - binomial.cdf(k, n, p)\n",
    "print(colored(f\"The probability is as follows: {round(probability, 4)} or {round(probability * 100, 4)}%.\", outputColor))\n",
    "\n",
    "k = 43 - 1     # Probability of exactly k successes\n",
    "n = 50         # Number of trials\n",
    "p = 1 / 2      # Probability of success in each trial\n",
    "probability = 1 - binomial.cdf(k, n, p)\n",
    "print(colored(f\"The probability is as follows: {round(probability, 4)} or {round(probability * 100, 4)}%.\", outputColor))"
   ],
   "metadata": {
    "collapsed": false,
    "ExecuteTime": {
     "end_time": "2024-05-29T11:53:18.503298Z",
     "start_time": "2024-05-29T11:53:18.483469Z"
    }
   },
   "id": "4ee98eec1abd4a09",
   "outputs": [
    {
     "name": "stdout",
     "output_type": "stream",
     "text": [
      "\u001B[34mThe probability is as follows: 0.0 or 0.0%.\u001B[0m\n",
      "\u001B[34mThe probability is as follows: 0.0 or 0.0001%.\u001B[0m\n",
      "\u001B[34mThe probability is as follows: 0.0 or 0.0%.\u001B[0m\n"
     ]
    }
   ],
   "execution_count": 377
  },
  {
   "cell_type": "markdown",
   "source": [
    "### Question 2:\n",
    "The average study time per course is `4.5 hours` per week in the course. We want to determine whether the study time of the course differs significantly from the average for the Data Science course (based on a sample). Use the input file for this `/StudyResult.csv`.\n",
    "\n",
    "- What alternative hypothesis can we use?\n",
    "- What is the acceptance interval for the study time of the course at `a=0.05`? Also write down how you arrived at this number.\n",
    "- What value for the factor did you use to calculate the acceptance interval?\n",
    "- What can you say about the null hypothesis?\n",
    "- Calculate the p-value that you can use to support this claim (at `a=0.05`).\n",
    "- Form a conclusion based on the p-value. Complete the following sentence (in any case, use the obtained p-value in your conclusion): If the average study duration of the population is `4.5 HOURS`, then"
   ],
   "metadata": {
    "collapsed": false
   },
   "id": "a3b4c7a2eed3ce5"
  },
  {
   "cell_type": "code",
   "source": [
    "studyResult = pd.read_csv('../Data/StudyResult.csv', delimiter=';', decimal=',')\n",
    "\n",
    "print(colored(f\"H0: The average study time of the population is 4.5 HOURS (= 4.5)\\nH1: The average study time of the population is not 4.5 HOURS (!= 4.5)\", outputColor))\n",
    "\n",
    "a = 0.05\n",
    "x_bar = studyResult['study time'].mean()\n",
    "s = studyResult['study time'].std()\n",
    "n = len(studyResult)\n",
    "df = n - 1\n",
    "p = 1 - a\n",
    "\n",
    "interval = student.interval(confidence=p, df=df, loc=x_bar, scale=s / math.sqrt(n))\n",
    "print(colored(f\"Confidence Interval: {interval}\", outputColor))\n",
    "\n",
    "factor=student.ppf((1 + p) / 2, df=df) # Factor = Z-Score\n",
    "print(colored(f\"Factor: {factor}\", outputColor))\n",
    "\n",
    "p_value = ttest_1samp(studyResult['study time'], 4.5).pvalue\n",
    "if p_value < a:\n",
    "    print(colored(f\"Reject H0\", outputColor))\n",
    "else:\n",
    "    print(colored(f\"Fail to reject H0\", outputColor))\n",
    "    \n",
    "print(colored(f\"P Value: {p_value}\", outputColor))\n",
    "\n",
    "print(colored(f\"If the average study duration of the population is 4.5 HOURS, then the probability of observing students who study more or less than 4.5 HOURS is {p_value}.\", outputColor))"
   ],
   "metadata": {
    "collapsed": false,
    "ExecuteTime": {
     "end_time": "2024-05-29T11:55:28.120469Z",
     "start_time": "2024-05-29T11:55:28.101214Z"
    }
   },
   "id": "a485ef1376452f87",
   "outputs": [
    {
     "name": "stdout",
     "output_type": "stream",
     "text": [
      "\u001B[34mH0: The average study time of the population is 4.5 HOURS (= 4.5)\n",
      "H1: The average study time of the population is not 4.5 HOURS (!= 4.5)\u001B[0m\n",
      "\u001B[34mConfidence Interval: (3.8767239334848833, 4.273655813350561)\u001B[0m\n",
      "\u001B[34mFactor: 1.96600320134879\u001B[0m\n",
      "\u001B[34mReject H0\u001B[0m\n",
      "\u001B[34mP Value: 3.19125975826884e-05\u001B[0m\n",
      "\u001B[34mIf the average study duration of the population is 4.5 HOURS, then the probability of observing students who study more or less than 4.5 HOURS is 3.19125975826884e-05.\u001B[0m\n"
     ]
    }
   ],
   "execution_count": 379
  }
 ],
 "metadata": {
  "kernelspec": {
   "display_name": "Python 3",
   "language": "python",
   "name": "python3"
  },
  "language_info": {
   "codemirror_mode": {
    "name": "ipython",
    "version": 2
   },
   "file_extension": ".py",
   "mimetype": "text/x-python",
   "name": "python",
   "nbconvert_exporter": "python",
   "pygments_lexer": "ipython2",
   "version": "2.7.6"
  }
 },
 "nbformat": 4,
 "nbformat_minor": 5
}

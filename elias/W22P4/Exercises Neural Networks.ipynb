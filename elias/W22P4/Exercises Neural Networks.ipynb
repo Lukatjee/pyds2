{
 "cells": [
  {
   "cell_type": "markdown",
   "source": "# Exercises Neural Networks",
   "metadata": {
    "collapsed": false
   },
   "id": "fc11ae5046d6cd48"
  },
  {
   "cell_type": "code",
   "source": [
    "from termcolor import colored # type: ignore                                          # Colored text\n",
    "from random import Random  # type: ignore                                             # Random number generator\n",
    "import math  # type: ignore                                                           # Mathematical functions\n",
    "import pandas as pd  # type: ignore                                                   # Data manipulation\n",
    "import numpy as np  # type: ignore                                                    # Scientific computing\n",
    "import matplotlib.pyplot as plt  # type: ignore                                       # Data visualization\n",
    "from scipy.stats import binom as binomial  # type: ignore                             # Binomial distribution\n",
    "from scipy.stats import norm as normal  # type: ignore                                # Normal distribution\n",
    "from scipy.stats import poisson as poisson  # type: ignore                            # Poisson distribution\n",
    "from scipy.stats import t as student  # type: ignore                                  # Student distribution\n",
    "from scipy.stats import chi2  # type: ignore                                          # Chi-squared distribution\n",
    "from scipy.stats import ttest_1samp  # type: ignore                                   # One-sample t-test\n",
    "from scipy.stats import chisquare  # type: ignore                                     # Chi-squared test\n",
    "from scipy.special import comb  # type: ignore                                        # Combinations\n",
    "from mlxtend.frequent_patterns import apriori  # type: ignore                         # Apriori algorithm\n",
    "from mlxtend.frequent_patterns import fpgrowth  # type: ignore                        # FP-growth algorithm\n",
    "from mlxtend.frequent_patterns import association_rules  # type: ignore               # Association rules\n",
    "from mlxtend.preprocessing import TransactionEncoder  # type: ignore                  # Transaction encoder\n",
    "from sklearn.discriminant_analysis import LinearDiscriminantAnalysis  # type: ignore  # Discriminant Analysis\n",
    "from tensorflow import keras  # type: ignore                                          # Deep Learning library\n",
    "from tensorflow.keras import Model  # type: ignore                                    # Model class\n",
    "from tensorflow.keras.layers import Input, Dense, BatchNormalization  # type: ignore  # Layers\n",
    "from tensorflow.keras.utils import to_categorical  # type: ignore                     # One-hot encoding\n",
    "from tensorflow.keras.optimizers import Adam  # type: ignore                          # Optimizer\n",
    "from livelossplot import PlotLossesKeras  # type: ignore                              # Live plot\n",
    "from keras.src.optimizers import RMSprop  # type: ignore                              # Optimizer\n",
    "from sklearn.model_selection import train_test_split  # type: ignore                  # Train-test split\n",
    "from sklearn.metrics import roc_auc_score # type: ignore                              # ROC AUC score\n",
    "from simanneal import Annealer  # type: ignore                                        # Simulated Annealing\n",
    "from inspyred import ec  # type: ignore                                               # Evolutionary Computation\n",
    "import warnings  # type: ignore                                                       # Disable warnings\n",
    "from res.Functions import *  # type: ignore                                     # Custom functions\n",
    "warnings.filterwarnings(\"ignore\")                                                     # Disable warnings\n",
    "outputColor = \"blue\"                                                                  # Color for the output"
   ],
   "metadata": {
    "collapsed": false,
    "ExecuteTime": {
     "end_time": "2024-06-10T19:47:07.805856Z",
     "start_time": "2024-06-10T19:47:02.264601Z"
    }
   },
   "id": "1796a7e3a7232f25",
   "outputs": [
    {
     "name": "stderr",
     "output_type": "stream",
     "text": [
      "C:\\Users\\Luka\\AppData\\Local\\Temp\\ipykernel_28384\\3982543150.py:4: DeprecationWarning: \n",
      "Pyarrow will become a required dependency of pandas in the next major release of pandas (pandas 3.0),\n",
      "(to allow more performant data types, such as the Arrow string type, and better interoperability with other libraries)\n",
      "but was not found to be installed on your system.\n",
      "If this would cause problems for you,\n",
      "please provide us feedback at https://github.com/pandas-dev/pandas/issues/54466\n",
      "        \n",
      "  import pandas as pd  # type: ignore                                                   # Data manipulation\n"
     ]
    },
    {
     "name": "stdout",
     "output_type": "stream",
     "text": [
      "WARNING:tensorflow:From C:\\PYTHONENVIRONMENTS\\DS2_3_11\\Lib\\site-packages\\keras\\src\\losses.py:2976: The name tf.losses.sparse_softmax_cross_entropy is deprecated. Please use tf.compat.v1.losses.sparse_softmax_cross_entropy instead.\n",
      "\n"
     ]
    }
   ],
   "execution_count": 2
  },
  {
   "metadata": {},
   "cell_type": "markdown",
   "source": [
    "# Guidelines\n",
    "1. Activation function for hidden layers: relu or sigmoid are popular.\n",
    "2. Activation function for the output layer:\n",
    "    - Classification with one-hot encoding: softmax (provides probabilities for each output summing to 1).\n",
    "    - Classification with 2 classes and 1 output: sigmoid (provides 1 probability). PS: One-hot encoding can also be used for 2 classes (then you have 2 outputs).\n",
    "    - Regression: linear.\n",
    "3. Backpropagation algorithm: Adam is popular (learning_rate indicates how much the weights/biases are adjusted).\n",
    "4. Loss function:\n",
    "    - Classification with one-hot encoding: `categorical_crossentropy` (a type of distance between probabilities).\n",
    "    - Classification with 2 classes and 1 output: `binary_crossentropy`.\n",
    "    - Regression: `MeanSquaredError` or `MeanAbsoluteError`.\n",
    "5. Metrics can be optionally added.\n",
    "6. Epochs: Number of times you iterate over the entire training dataset.\n",
    "7. Batch size: Size of the batch (default is 32) after which backpropagation (adjustment of weights/biases) occurs. For example, if the training dataset contains 1000 samples and the batch size is 100, there will be 10 backpropagation per epoch.\n",
    "\n",
    "|                                | Output Activation | Loss                     | Metrics                       |\n",
    "|:-------------------------------|:------------------|:-------------------------|:------------------------------|\n",
    "| Regression                     | Linear            | MeanSquaredError()       | MeanAbsolutePercentageError() |\n",
    "|                                |                   | MeanAbsoluteError()      |                               |\n",
    "| Classificatie 1 output         | Sigmoid           | Binary_crossentropy      | Accuracy                      |\n",
    "| Classificatie one-hot encoding | Softmax           | Categorical_crossentropy | Accuracy                      |\n"
   ],
   "id": "280f55c7e3a3b9ed"
  },
  {
   "metadata": {
    "ExecuteTime": {
     "end_time": "2024-05-31T09:32:13.089281Z",
     "start_time": "2024-05-31T09:32:13.069711Z"
    }
   },
   "cell_type": "code",
   "source": [
    "infoTable = pd.DataFrame({\n",
    "    \"Scenario\": [\"Binary Classification\", \"Multi-Class Classification\", \"Regression\"],\n",
    "    \"Dense Layer Activation\": [\"Sigmoid\", \"Sigmoid\", \"Linear\"],\n",
    "    \"Output Activation\": [\"Sigmoid\", \"Softmax\", \"Linear\"],\n",
    "    \"Optimizer\": [\"Adam\", \"Adam\", \"Adam\"],\n",
    "    \"Learning Rate\": [\"0.00001\", \"0.00001\", \"0.00001\"],\n",
    "    \"Loss\": [\"keras.losses.binary_crossentropy\", \"keras.losses.categorical_crossentropy\", \"keras.losses.mean_squared_error\"],\n",
    "    \"Metrics\": [\"accuracy\", \"accuracy\", \"mean_squared_error\"]\n",
    "})\n",
    "\n",
    "display(infoTable)"
   ],
   "id": "4506331d2b0cbe3c",
   "outputs": [
    {
     "data": {
      "text/plain": [
       "                     Scenario Dense Layer Activation Output Activation  \\\n",
       "0       Binary Classification                Sigmoid           Sigmoid   \n",
       "1  Multi-Class Classification                Sigmoid           Softmax   \n",
       "2                  Regression                 Linear            Linear   \n",
       "\n",
       "  Optimizer Learning Rate                                   Loss  \\\n",
       "0      Adam       0.00001       keras.losses.binary_crossentropy   \n",
       "1      Adam       0.00001  keras.losses.categorical_crossentropy   \n",
       "2      Adam       0.00001        keras.losses.mean_squared_error   \n",
       "\n",
       "              Metrics  \n",
       "0            accuracy  \n",
       "1            accuracy  \n",
       "2  mean_squared_error  "
      ],
      "text/html": [
       "<div>\n",
       "<style scoped>\n",
       "    .dataframe tbody tr th:only-of-type {\n",
       "        vertical-align: middle;\n",
       "    }\n",
       "\n",
       "    .dataframe tbody tr th {\n",
       "        vertical-align: top;\n",
       "    }\n",
       "\n",
       "    .dataframe thead th {\n",
       "        text-align: right;\n",
       "    }\n",
       "</style>\n",
       "<table border=\"1\" class=\"dataframe\">\n",
       "  <thead>\n",
       "    <tr style=\"text-align: right;\">\n",
       "      <th></th>\n",
       "      <th>Scenario</th>\n",
       "      <th>Dense Layer Activation</th>\n",
       "      <th>Output Activation</th>\n",
       "      <th>Optimizer</th>\n",
       "      <th>Learning Rate</th>\n",
       "      <th>Loss</th>\n",
       "      <th>Metrics</th>\n",
       "    </tr>\n",
       "  </thead>\n",
       "  <tbody>\n",
       "    <tr>\n",
       "      <th>0</th>\n",
       "      <td>Binary Classification</td>\n",
       "      <td>Sigmoid</td>\n",
       "      <td>Sigmoid</td>\n",
       "      <td>Adam</td>\n",
       "      <td>0.00001</td>\n",
       "      <td>keras.losses.binary_crossentropy</td>\n",
       "      <td>accuracy</td>\n",
       "    </tr>\n",
       "    <tr>\n",
       "      <th>1</th>\n",
       "      <td>Multi-Class Classification</td>\n",
       "      <td>Sigmoid</td>\n",
       "      <td>Softmax</td>\n",
       "      <td>Adam</td>\n",
       "      <td>0.00001</td>\n",
       "      <td>keras.losses.categorical_crossentropy</td>\n",
       "      <td>accuracy</td>\n",
       "    </tr>\n",
       "    <tr>\n",
       "      <th>2</th>\n",
       "      <td>Regression</td>\n",
       "      <td>Linear</td>\n",
       "      <td>Linear</td>\n",
       "      <td>Adam</td>\n",
       "      <td>0.00001</td>\n",
       "      <td>keras.losses.mean_squared_error</td>\n",
       "      <td>mean_squared_error</td>\n",
       "    </tr>\n",
       "  </tbody>\n",
       "</table>\n",
       "</div>"
      ]
     },
     "metadata": {},
     "output_type": "display_data"
    }
   ],
   "execution_count": 19
  },
  {
   "metadata": {},
   "cell_type": "markdown",
   "source": [
    "- Binary Classification:\n",
    "    - Output Activation: **Sigmoid**\n",
    "    - Loss: **Binary_crossentropy**\n",
    "    - Metrics: **Accuracy**\n",
    "    - Use One-hot encoding: **Yes**\n",
    "\n",
    "- Multi-Class Classification:\n",
    "    - Output Activation: **Softmax**\n",
    "    - Loss: **Categorical_crossentropy**\n",
    "    - Metrics: **Accuracy**\n",
    "    - Use One-hot encoding: **Yes**\n",
    "\n",
    "- Regression:\n",
    "    - Output Activation: **Linear** ***(no activation function)***\n",
    "    - Loss: **Mean_squared_error**\n",
    "    - Metrics: **Mean_squared_error**\n",
    "    - Use One-hot encoding: **No**"
   ],
   "id": "e9e9852a4b4c9be1"
  },
  {
   "cell_type": "markdown",
   "source": [
    "## Theoretical questions\n",
    "> **Goal**: The goal is to train and neural network so that it can predict future values based on input data."
   ],
   "metadata": {
    "collapsed": false
   },
   "id": "d66cd879508e8eb4"
  },
  {
   "metadata": {},
   "cell_type": "markdown",
   "source": "### Question 0: XOR ANN (Artificial Neural Network)",
   "id": "9976ef5eea85abba"
  },
  {
   "metadata": {
    "ExecuteTime": {
     "end_time": "2024-05-30T16:22:13.049250Z",
     "start_time": "2024-05-30T16:22:12.836589Z"
    }
   },
   "cell_type": "code",
   "source": [
    "# Stap 1: Data\n",
    "xor_data = pd.DataFrame({'P1': [0,1,0,1], \n",
    "                         'P2': [0,0,1,1], \n",
    "                         'Q' : [0,1,1,0]})\n",
    "x_xor_data= xor_data[['P1', 'P2']]\n",
    "y_xor_data = xor_data[['Q']]\n",
    "                       \n",
    "# Step 2: Model\n",
    "inputs_xor = Input(shape=(2,))\n",
    "x_xor = Dense(2, activation='sigmoid')(inputs_xor) # Or relu\n",
    "outputs_xor = Dense(1, activation='sigmoid')(x_xor) # Or relu\n",
    "model_xor = Model(inputs_xor, outputs_xor, name='XOR_NN')\n",
    "\n",
    "# Step 3: Compile\n",
    "model_xor.compile(optimizer=Adam(learning_rate=0.00001), loss=keras.losses.binary_crossentropy, metrics=['accuracy'])"
   ],
   "id": "7e5cbb4bd86ed8e1",
   "outputs": [],
   "execution_count": 51
  },
  {
   "metadata": {},
   "cell_type": "code",
   "source": [
    "# Step 4: Fit\n",
    "history_xor = model_xor.fit(\n",
    "                            x_xor_data, \n",
    "                            y_xor_data, \n",
    "                            epochs=200, \n",
    "                            callbacks=[PlotLossesKeras()], \n",
    "                            verbose=False)"
   ],
   "id": "f2ae97c7747d3547",
   "execution_count": 52,
   "outputs": [
    {
     "name": "stdout",
     "output_type": "stream",
     "text": [
      "accuracy\n",
      "\taccuracy         \t (min:    0.500, max:    0.500, cur:    0.500)\n",
      "Loss\n",
      "\tloss             \t (min:    0.757, max:    0.758, cur:    0.757)\n"
     ]
    }
   ]
  },
  {
   "metadata": {
    "ExecuteTime": {
     "end_time": "2024-05-30T16:23:53.804138Z",
     "start_time": "2024-05-30T16:23:53.774297Z"
    }
   },
   "cell_type": "code",
   "source": "model_xor.summary()",
   "id": "9c2a91b1de30fe43",
   "outputs": [
    {
     "data": {
      "text/plain": [
       "\u001B[1mModel: \"XOR_NN\"\u001B[0m\n"
      ],
      "text/html": [
       "<pre style=\"white-space:pre;overflow-x:auto;line-height:normal;font-family:Menlo,'DejaVu Sans Mono',consolas,'Courier New',monospace\"><span style=\"font-weight: bold\">Model: \"XOR_NN\"</span>\n",
       "</pre>\n"
      ]
     },
     "metadata": {},
     "output_type": "display_data"
    },
    {
     "data": {
      "text/plain": [
       "┏━━━━━━━━━━━━━━━━━━━━━━━━━━━━━━━━━┳━━━━━━━━━━━━━━━━━━━━━━━━┳━━━━━━━━━━━━━━━┓\n",
       "┃\u001B[1m \u001B[0m\u001B[1mLayer (type)                   \u001B[0m\u001B[1m \u001B[0m┃\u001B[1m \u001B[0m\u001B[1mOutput Shape          \u001B[0m\u001B[1m \u001B[0m┃\u001B[1m \u001B[0m\u001B[1m      Param #\u001B[0m\u001B[1m \u001B[0m┃\n",
       "┡━━━━━━━━━━━━━━━━━━━━━━━━━━━━━━━━━╇━━━━━━━━━━━━━━━━━━━━━━━━╇━━━━━━━━━━━━━━━┩\n",
       "│ input_layer_5 (\u001B[38;5;33mInputLayer\u001B[0m)      │ (\u001B[38;5;45mNone\u001B[0m, \u001B[38;5;34m2\u001B[0m)              │             \u001B[38;5;34m0\u001B[0m │\n",
       "├─────────────────────────────────┼────────────────────────┼───────────────┤\n",
       "│ dense_27 (\u001B[38;5;33mDense\u001B[0m)                │ (\u001B[38;5;45mNone\u001B[0m, \u001B[38;5;34m2\u001B[0m)              │             \u001B[38;5;34m6\u001B[0m │\n",
       "├─────────────────────────────────┼────────────────────────┼───────────────┤\n",
       "│ dense_28 (\u001B[38;5;33mDense\u001B[0m)                │ (\u001B[38;5;45mNone\u001B[0m, \u001B[38;5;34m1\u001B[0m)              │             \u001B[38;5;34m3\u001B[0m │\n",
       "└─────────────────────────────────┴────────────────────────┴───────────────┘\n"
      ],
      "text/html": [
       "<pre style=\"white-space:pre;overflow-x:auto;line-height:normal;font-family:Menlo,'DejaVu Sans Mono',consolas,'Courier New',monospace\">┏━━━━━━━━━━━━━━━━━━━━━━━━━━━━━━━━━┳━━━━━━━━━━━━━━━━━━━━━━━━┳━━━━━━━━━━━━━━━┓\n",
       "┃<span style=\"font-weight: bold\"> Layer (type)                    </span>┃<span style=\"font-weight: bold\"> Output Shape           </span>┃<span style=\"font-weight: bold\">       Param # </span>┃\n",
       "┡━━━━━━━━━━━━━━━━━━━━━━━━━━━━━━━━━╇━━━━━━━━━━━━━━━━━━━━━━━━╇━━━━━━━━━━━━━━━┩\n",
       "│ input_layer_5 (<span style=\"color: #0087ff; text-decoration-color: #0087ff\">InputLayer</span>)      │ (<span style=\"color: #00d7ff; text-decoration-color: #00d7ff\">None</span>, <span style=\"color: #00af00; text-decoration-color: #00af00\">2</span>)              │             <span style=\"color: #00af00; text-decoration-color: #00af00\">0</span> │\n",
       "├─────────────────────────────────┼────────────────────────┼───────────────┤\n",
       "│ dense_27 (<span style=\"color: #0087ff; text-decoration-color: #0087ff\">Dense</span>)                │ (<span style=\"color: #00d7ff; text-decoration-color: #00d7ff\">None</span>, <span style=\"color: #00af00; text-decoration-color: #00af00\">2</span>)              │             <span style=\"color: #00af00; text-decoration-color: #00af00\">6</span> │\n",
       "├─────────────────────────────────┼────────────────────────┼───────────────┤\n",
       "│ dense_28 (<span style=\"color: #0087ff; text-decoration-color: #0087ff\">Dense</span>)                │ (<span style=\"color: #00d7ff; text-decoration-color: #00d7ff\">None</span>, <span style=\"color: #00af00; text-decoration-color: #00af00\">1</span>)              │             <span style=\"color: #00af00; text-decoration-color: #00af00\">3</span> │\n",
       "└─────────────────────────────────┴────────────────────────┴───────────────┘\n",
       "</pre>\n"
      ]
     },
     "metadata": {},
     "output_type": "display_data"
    },
    {
     "data": {
      "text/plain": [
       "\u001B[1m Total params: \u001B[0m\u001B[38;5;34m29\u001B[0m (120.00 B)\n"
      ],
      "text/html": [
       "<pre style=\"white-space:pre;overflow-x:auto;line-height:normal;font-family:Menlo,'DejaVu Sans Mono',consolas,'Courier New',monospace\"><span style=\"font-weight: bold\"> Total params: </span><span style=\"color: #00af00; text-decoration-color: #00af00\">29</span> (120.00 B)\n",
       "</pre>\n"
      ]
     },
     "metadata": {},
     "output_type": "display_data"
    },
    {
     "data": {
      "text/plain": [
       "\u001B[1m Trainable params: \u001B[0m\u001B[38;5;34m9\u001B[0m (36.00 B)\n"
      ],
      "text/html": [
       "<pre style=\"white-space:pre;overflow-x:auto;line-height:normal;font-family:Menlo,'DejaVu Sans Mono',consolas,'Courier New',monospace\"><span style=\"font-weight: bold\"> Trainable params: </span><span style=\"color: #00af00; text-decoration-color: #00af00\">9</span> (36.00 B)\n",
       "</pre>\n"
      ]
     },
     "metadata": {},
     "output_type": "display_data"
    },
    {
     "data": {
      "text/plain": [
       "\u001B[1m Non-trainable params: \u001B[0m\u001B[38;5;34m0\u001B[0m (0.00 B)\n"
      ],
      "text/html": [
       "<pre style=\"white-space:pre;overflow-x:auto;line-height:normal;font-family:Menlo,'DejaVu Sans Mono',consolas,'Courier New',monospace\"><span style=\"font-weight: bold\"> Non-trainable params: </span><span style=\"color: #00af00; text-decoration-color: #00af00\">0</span> (0.00 B)\n",
       "</pre>\n"
      ]
     },
     "metadata": {},
     "output_type": "display_data"
    },
    {
     "data": {
      "text/plain": [
       "\u001B[1m Optimizer params: \u001B[0m\u001B[38;5;34m20\u001B[0m (84.00 B)\n"
      ],
      "text/html": [
       "<pre style=\"white-space:pre;overflow-x:auto;line-height:normal;font-family:Menlo,'DejaVu Sans Mono',consolas,'Courier New',monospace\"><span style=\"font-weight: bold\"> Optimizer params: </span><span style=\"color: #00af00; text-decoration-color: #00af00\">20</span> (84.00 B)\n",
       "</pre>\n"
      ]
     },
     "metadata": {},
     "output_type": "display_data"
    }
   ],
   "execution_count": 53
  },
  {
   "metadata": {},
   "cell_type": "markdown",
   "source": [
    "### Question 1: The Simpsons Revisited\n",
    "- We want to be able to predict the gender of a Simpson using... a neural network. This dataset is very small, and therefore we cannot construct a validation set or test set.\n",
    "    - Read the Simpsons dataset (`../Data/The_Simpsons_Original.csv`).\n",
    "    - Determine which columns we cannot use with this prediction? Regression or classification?\n",
    "    - Determine which columns we cannot use in this prediction?\n",
    "    - Now create an input training data set `x_simpsons` and normalize it (min-max normalization). Do the same for the output column(`y_simpsons`).\n",
    "    - Create a neural network with the correct inputs and outputs.\n",
    "    - Use your neural network to predict the gender of your `x_simpsons`. Do they match the targets? Also predict the gender of the unknown Simpson (Comic guy: `hairlenght=8`, `weight=500`, `age=38`).\n",
    "\n",
    "**Name of Columns**: `name` `hair length` `weight` `age` `gender`"
   ],
   "id": "8dcce8d70aac0bac"
  },
  {
   "metadata": {
    "ExecuteTime": {
     "end_time": "2024-06-10T19:47:08.341413Z",
     "start_time": "2024-06-10T19:47:08.328738Z"
    }
   },
   "cell_type": "code",
   "source": [
    "# Load in data and filter data\n",
    "theSimpsonsOriginal = pd.read_csv('../Data/The_Simpsons_Original.csv', delimiter=',')\n",
    "\n",
    "# Determine how we are going to use the data set\n",
    "print(colored(f\"As input we are going to use every column that is interval or ratio. And obviously we are going to use it as a classifier, and more specifically a binary classifier because it's male or female (M/F).\\n\", outputColor))\n",
    "\n",
    "# Determine which columns we cannot use\n",
    "print(colored(f\"We can obviously not use nominaal or ordinaal column.\", outputColor))"
   ],
   "id": "7576d7d60ea7a0c8",
   "outputs": [
    {
     "name": "stdout",
     "output_type": "stream",
     "text": [
      "\u001B[34mAs input we are going to use every column that is interval or ratio. And obviously we are going to use it as a classifier, and more specifically a binary classifier because it's male or female (M/F).\n",
      "\u001B[0m\n",
      "\u001B[34mWe can obviously not use nominaal or ordinaal column.\u001B[0m\n"
     ]
    }
   ],
   "execution_count": 3
  },
  {
   "metadata": {
    "ExecuteTime": {
     "end_time": "2024-06-10T19:47:28.305137Z",
     "start_time": "2024-06-10T19:47:28.298869Z"
    }
   },
   "cell_type": "code",
   "source": [
    "warnings.filterwarnings(\"ignore\")                                                                                                   # Disable warnings\n",
    "\n",
    "# Split up the necessary data \n",
    "x_simpsons = theSimpsonsOriginal[['hair length', 'weight', 'age']]                                                                  # Get the input\n",
    "y_simpsons = theSimpsonsOriginal['gender']                                                                                          # Get the output\n",
    "\n",
    "# Normalize and convert input and output fields\n",
    "x_simpsons_normalize = (x_simpsons - x_simpsons.min()) / (x_simpsons.max() - x_simpsons.min())                                      # Normalization of the input\n",
    "y_simpsons_replace = y_simpsons.replace(to_replace=['M', 'F'], value=[0, 1])                                                        # Replace the output\n",
    "y_simpsons_replace = to_categorical(y_simpsons_replace)                                                                             # One-hot encoding"
   ],
   "id": "f330fd3af2716fb3",
   "outputs": [],
   "execution_count": 4
  },
  {
   "metadata": {},
   "cell_type": "code",
   "source": [
    "# Create (ANN) artificial neural network\n",
    "inputs_simpsons = Input(shape=(3,))\n",
    "x_simpsons_model = Dense(6, activation='sigmoid')(inputs_simpsons)\n",
    "x_simpsons_model = Dense(12, activation='sigmoid')(x_simpsons_model)\n",
    "x_simpsons_model = Dense(24, activation='sigmoid')(x_simpsons_model)\n",
    "x_simpsons_model = Dense(12, activation='sigmoid')(x_simpsons_model)\n",
    "x_simpsons_model = Dense(6, activation='sigmoid')(x_simpsons_model)\n",
    "outputs_simpsons = Dense(2, activation='sigmoid')(x_simpsons_model)\n",
    "model_simpsons = Model(inputs_simpsons, outputs_simpsons, name='Simpsons_NN')                                                   # Softmax for one-hot encoding (classification)\n",
    "\n",
    "# Compile the model\n",
    "model_simpsons.compile(optimizer=Adam(learning_rate=0.00001), loss=keras.losses.binary_crossentropy, metrics=['accuracy'])      # Binary_crossentropy for one-hot encoding\n",
    "\n",
    "# Fit the model\n",
    "history_simpsons = model_simpsons.fit(\n",
    "                                    x_simpsons_normalize,                   # Input\n",
    "                                    y_simpsons_replace,                     # Output\n",
    "                                    epochs=200,                             # Number of epochs (epochs = iterations over all the dataset)\n",
    "                                    callbacks=[PlotLossesKeras()],          # Plot the losses\n",
    "                                    verbose=False)                          # Fit the model"
   ],
   "id": "777632dfeebeb820",
   "execution_count": 5,
   "outputs": [
    {
     "name": "stdout",
     "output_type": "stream",
     "text": [
      "accuracy\n",
      "\taccuracy         \t (min:    0.556, max:    0.556, cur:    0.556)\n",
      "Loss\n",
      "\tloss             \t (min:    0.692, max:    0.693, cur:    0.692)\n"
     ]
    }
   ]
  },
  {
   "metadata": {
    "ExecuteTime": {
     "end_time": "2024-05-31T08:31:18.166672Z",
     "start_time": "2024-05-31T08:31:18.137075Z"
    }
   },
   "cell_type": "code",
   "source": [
    "# Get a summary of the model\n",
    "model_simpsons.summary()"
   ],
   "id": "df65416724d01b5a",
   "outputs": [
    {
     "data": {
      "text/plain": [
       "\u001B[1mModel: \"Simpsons_NN\"\u001B[0m\n"
      ],
      "text/html": [
       "<pre style=\"white-space:pre;overflow-x:auto;line-height:normal;font-family:Menlo,'DejaVu Sans Mono',consolas,'Courier New',monospace\"><span style=\"font-weight: bold\">Model: \"Simpsons_NN\"</span>\n",
       "</pre>\n"
      ]
     },
     "metadata": {},
     "output_type": "display_data"
    },
    {
     "data": {
      "text/plain": [
       "┏━━━━━━━━━━━━━━━━━━━━━━━━━━━━━━━━━┳━━━━━━━━━━━━━━━━━━━━━━━━┳━━━━━━━━━━━━━━━┓\n",
       "┃\u001B[1m \u001B[0m\u001B[1mLayer (type)                   \u001B[0m\u001B[1m \u001B[0m┃\u001B[1m \u001B[0m\u001B[1mOutput Shape          \u001B[0m\u001B[1m \u001B[0m┃\u001B[1m \u001B[0m\u001B[1m      Param #\u001B[0m\u001B[1m \u001B[0m┃\n",
       "┡━━━━━━━━━━━━━━━━━━━━━━━━━━━━━━━━━╇━━━━━━━━━━━━━━━━━━━━━━━━╇━━━━━━━━━━━━━━━┩\n",
       "│ input_layer (\u001B[38;5;33mInputLayer\u001B[0m)        │ (\u001B[38;5;45mNone\u001B[0m, \u001B[38;5;34m3\u001B[0m)              │             \u001B[38;5;34m0\u001B[0m │\n",
       "├─────────────────────────────────┼────────────────────────┼───────────────┤\n",
       "│ dense (\u001B[38;5;33mDense\u001B[0m)                   │ (\u001B[38;5;45mNone\u001B[0m, \u001B[38;5;34m6\u001B[0m)              │            \u001B[38;5;34m24\u001B[0m │\n",
       "├─────────────────────────────────┼────────────────────────┼───────────────┤\n",
       "│ dense_1 (\u001B[38;5;33mDense\u001B[0m)                 │ (\u001B[38;5;45mNone\u001B[0m, \u001B[38;5;34m12\u001B[0m)             │            \u001B[38;5;34m84\u001B[0m │\n",
       "├─────────────────────────────────┼────────────────────────┼───────────────┤\n",
       "│ dense_2 (\u001B[38;5;33mDense\u001B[0m)                 │ (\u001B[38;5;45mNone\u001B[0m, \u001B[38;5;34m24\u001B[0m)             │           \u001B[38;5;34m312\u001B[0m │\n",
       "├─────────────────────────────────┼────────────────────────┼───────────────┤\n",
       "│ dense_3 (\u001B[38;5;33mDense\u001B[0m)                 │ (\u001B[38;5;45mNone\u001B[0m, \u001B[38;5;34m12\u001B[0m)             │           \u001B[38;5;34m300\u001B[0m │\n",
       "├─────────────────────────────────┼────────────────────────┼───────────────┤\n",
       "│ dense_4 (\u001B[38;5;33mDense\u001B[0m)                 │ (\u001B[38;5;45mNone\u001B[0m, \u001B[38;5;34m6\u001B[0m)              │            \u001B[38;5;34m78\u001B[0m │\n",
       "├─────────────────────────────────┼────────────────────────┼───────────────┤\n",
       "│ dense_5 (\u001B[38;5;33mDense\u001B[0m)                 │ (\u001B[38;5;45mNone\u001B[0m, \u001B[38;5;34m2\u001B[0m)              │            \u001B[38;5;34m14\u001B[0m │\n",
       "└─────────────────────────────────┴────────────────────────┴───────────────┘\n"
      ],
      "text/html": [
       "<pre style=\"white-space:pre;overflow-x:auto;line-height:normal;font-family:Menlo,'DejaVu Sans Mono',consolas,'Courier New',monospace\">┏━━━━━━━━━━━━━━━━━━━━━━━━━━━━━━━━━┳━━━━━━━━━━━━━━━━━━━━━━━━┳━━━━━━━━━━━━━━━┓\n",
       "┃<span style=\"font-weight: bold\"> Layer (type)                    </span>┃<span style=\"font-weight: bold\"> Output Shape           </span>┃<span style=\"font-weight: bold\">       Param # </span>┃\n",
       "┡━━━━━━━━━━━━━━━━━━━━━━━━━━━━━━━━━╇━━━━━━━━━━━━━━━━━━━━━━━━╇━━━━━━━━━━━━━━━┩\n",
       "│ input_layer (<span style=\"color: #0087ff; text-decoration-color: #0087ff\">InputLayer</span>)        │ (<span style=\"color: #00d7ff; text-decoration-color: #00d7ff\">None</span>, <span style=\"color: #00af00; text-decoration-color: #00af00\">3</span>)              │             <span style=\"color: #00af00; text-decoration-color: #00af00\">0</span> │\n",
       "├─────────────────────────────────┼────────────────────────┼───────────────┤\n",
       "│ dense (<span style=\"color: #0087ff; text-decoration-color: #0087ff\">Dense</span>)                   │ (<span style=\"color: #00d7ff; text-decoration-color: #00d7ff\">None</span>, <span style=\"color: #00af00; text-decoration-color: #00af00\">6</span>)              │            <span style=\"color: #00af00; text-decoration-color: #00af00\">24</span> │\n",
       "├─────────────────────────────────┼────────────────────────┼───────────────┤\n",
       "│ dense_1 (<span style=\"color: #0087ff; text-decoration-color: #0087ff\">Dense</span>)                 │ (<span style=\"color: #00d7ff; text-decoration-color: #00d7ff\">None</span>, <span style=\"color: #00af00; text-decoration-color: #00af00\">12</span>)             │            <span style=\"color: #00af00; text-decoration-color: #00af00\">84</span> │\n",
       "├─────────────────────────────────┼────────────────────────┼───────────────┤\n",
       "│ dense_2 (<span style=\"color: #0087ff; text-decoration-color: #0087ff\">Dense</span>)                 │ (<span style=\"color: #00d7ff; text-decoration-color: #00d7ff\">None</span>, <span style=\"color: #00af00; text-decoration-color: #00af00\">24</span>)             │           <span style=\"color: #00af00; text-decoration-color: #00af00\">312</span> │\n",
       "├─────────────────────────────────┼────────────────────────┼───────────────┤\n",
       "│ dense_3 (<span style=\"color: #0087ff; text-decoration-color: #0087ff\">Dense</span>)                 │ (<span style=\"color: #00d7ff; text-decoration-color: #00d7ff\">None</span>, <span style=\"color: #00af00; text-decoration-color: #00af00\">12</span>)             │           <span style=\"color: #00af00; text-decoration-color: #00af00\">300</span> │\n",
       "├─────────────────────────────────┼────────────────────────┼───────────────┤\n",
       "│ dense_4 (<span style=\"color: #0087ff; text-decoration-color: #0087ff\">Dense</span>)                 │ (<span style=\"color: #00d7ff; text-decoration-color: #00d7ff\">None</span>, <span style=\"color: #00af00; text-decoration-color: #00af00\">6</span>)              │            <span style=\"color: #00af00; text-decoration-color: #00af00\">78</span> │\n",
       "├─────────────────────────────────┼────────────────────────┼───────────────┤\n",
       "│ dense_5 (<span style=\"color: #0087ff; text-decoration-color: #0087ff\">Dense</span>)                 │ (<span style=\"color: #00d7ff; text-decoration-color: #00d7ff\">None</span>, <span style=\"color: #00af00; text-decoration-color: #00af00\">2</span>)              │            <span style=\"color: #00af00; text-decoration-color: #00af00\">14</span> │\n",
       "└─────────────────────────────────┴────────────────────────┴───────────────┘\n",
       "</pre>\n"
      ]
     },
     "metadata": {},
     "output_type": "display_data"
    },
    {
     "data": {
      "text/plain": [
       "\u001B[1m Total params: \u001B[0m\u001B[38;5;34m2,438\u001B[0m (9.53 KB)\n"
      ],
      "text/html": [
       "<pre style=\"white-space:pre;overflow-x:auto;line-height:normal;font-family:Menlo,'DejaVu Sans Mono',consolas,'Courier New',monospace\"><span style=\"font-weight: bold\"> Total params: </span><span style=\"color: #00af00; text-decoration-color: #00af00\">2,438</span> (9.53 KB)\n",
       "</pre>\n"
      ]
     },
     "metadata": {},
     "output_type": "display_data"
    },
    {
     "data": {
      "text/plain": [
       "\u001B[1m Trainable params: \u001B[0m\u001B[38;5;34m812\u001B[0m (3.17 KB)\n"
      ],
      "text/html": [
       "<pre style=\"white-space:pre;overflow-x:auto;line-height:normal;font-family:Menlo,'DejaVu Sans Mono',consolas,'Courier New',monospace\"><span style=\"font-weight: bold\"> Trainable params: </span><span style=\"color: #00af00; text-decoration-color: #00af00\">812</span> (3.17 KB)\n",
       "</pre>\n"
      ]
     },
     "metadata": {},
     "output_type": "display_data"
    },
    {
     "data": {
      "text/plain": [
       "\u001B[1m Non-trainable params: \u001B[0m\u001B[38;5;34m0\u001B[0m (0.00 B)\n"
      ],
      "text/html": [
       "<pre style=\"white-space:pre;overflow-x:auto;line-height:normal;font-family:Menlo,'DejaVu Sans Mono',consolas,'Courier New',monospace\"><span style=\"font-weight: bold\"> Non-trainable params: </span><span style=\"color: #00af00; text-decoration-color: #00af00\">0</span> (0.00 B)\n",
       "</pre>\n"
      ]
     },
     "metadata": {},
     "output_type": "display_data"
    },
    {
     "data": {
      "text/plain": [
       "\u001B[1m Optimizer params: \u001B[0m\u001B[38;5;34m1,626\u001B[0m (6.36 KB)\n"
      ],
      "text/html": [
       "<pre style=\"white-space:pre;overflow-x:auto;line-height:normal;font-family:Menlo,'DejaVu Sans Mono',consolas,'Courier New',monospace\"><span style=\"font-weight: bold\"> Optimizer params: </span><span style=\"color: #00af00; text-decoration-color: #00af00\">1,626</span> (6.36 KB)\n",
       "</pre>\n"
      ]
     },
     "metadata": {},
     "output_type": "display_data"
    }
   ],
   "execution_count": 7
  },
  {
   "metadata": {
    "ExecuteTime": {
     "end_time": "2024-06-10T19:50:30.471958Z",
     "start_time": "2024-06-10T19:50:30.365215Z"
    }
   },
   "cell_type": "code",
   "source": [
    "# Use the model for prediction\n",
    "predicted = model_simpsons.predict(x_simpsons_normalize)                                                                            # Predict the output\n",
    "predicted = np.argmax(predicted, axis=1)                                                                                            # Get the highest value\n",
    "predicted = np.where(predicted == 0, 'M', 'F')                                                                                      # Replace the output\n",
    "original = y_simpsons.values                                                                                                        # Get the original output\n",
    "\n",
    "print(colored(f\"Predicted values:  {predicted}\", outputColor))\n",
    "print(colored(f\"Original values:   {original}\", outputColor))\n",
    "\n",
    "# Evaluate the model\n",
    "correct = np.mean(predicted == original)                                                                                            # Get the mean of the correct predictions\n",
    "print(colored(f\"\\nThe percentage of Simpsons that are correctly classified is: {round(correct, 2) * 100}%\", outputColor))"
   ],
   "id": "430e34fda333d448",
   "outputs": [
    {
     "name": "stdout",
     "output_type": "stream",
     "text": [
      "1/1 [==============================] - 0s 70ms/step\n",
      "\u001B[34mPredicted values:  ['M' 'M' 'M' 'M' 'M' 'M' 'M' 'M' 'M']\u001B[0m\n",
      "\u001B[34mOriginal values:   ['M' 'F' 'M' 'F' 'F' 'M' 'F' 'M' 'M']\u001B[0m\n",
      "\u001B[34m\n",
      "The percentage of Simpsons that are correctly classified is: 56.00000000000001%\u001B[0m\n"
     ]
    }
   ],
   "execution_count": 6
  },
  {
   "metadata": {
    "ExecuteTime": {
     "end_time": "2024-05-31T08:31:23.023696Z",
     "start_time": "2024-05-31T08:31:22.900853Z"
    }
   },
   "cell_type": "code",
   "source": [
    "# Use the model for prediction on new input data\n",
    "comicGuy = pd.DataFrame({'hair length': [8], 'weight': [500], 'age': [38]})                                                         # Create a new dataframe (Test Data)\n",
    "comicGuy_normalize = (comicGuy - x_simpsons.min()) / (x_simpsons.max() - x_simpsons.min())                                          # Normalize the input\n",
    "prediction = model_simpsons.predict(comicGuy_normalize)                                                                             # Predict the output\n",
    "prediction = np.argmax(prediction, axis=1)                                                                                          # Get the highest value\n",
    "prediction = np.where(prediction == 0, 'M', 'F')                                                                                    # Replace the output\n",
    "print(colored(f\"The prediction for the comic guy is: {prediction}\", outputColor))"
   ],
   "id": "ccb0dba8bd2274db",
   "outputs": [
    {
     "name": "stdout",
     "output_type": "stream",
     "text": [
      "\u001B[1m1/1\u001B[0m \u001B[32m━━━━━━━━━━━━━━━━━━━━\u001B[0m\u001B[37m\u001B[0m \u001B[1m0s\u001B[0m 70ms/step\n",
      "\u001B[34mThe prediction for the comic guy is: ['F']\u001B[0m\n"
     ]
    }
   ],
   "execution_count": 9
  },
  {
   "metadata": {},
   "cell_type": "markdown",
   "source": [
    "### Question 2: Forecast demo Revisited\n",
    "- We want to be able to predict a company's revenues per quarter for the last `5` years. This dataset is very small, and therefore we cannot construct a validation set or test set.\n",
    "    - Read the Forecasting dataset (`../Data/ForcastDemo.csv`)\n",
    "    - Determine which columns we cannot use in this prediction? Regression or classification?\n",
    "    - Now create an input training data set `x_forcast` and an output column `y_forcast`. Normalize where necessary.\n",
    "    - Create a neural network with the correct inputs and outputs.\n",
    "    - Use your neural network to predict the returns associated with `x_forcast`. Do they correspond to actual returns? Create one plot of the original data and the predicted data.\n",
    "\n",
    "**Name of Columns**: `Year` `Quarter` `Revenu`"
   ],
   "id": "cbbb2930e5856c1d"
  },
  {
   "metadata": {
    "ExecuteTime": {
     "end_time": "2024-05-31T09:25:38.626069Z",
     "start_time": "2024-05-31T09:25:38.609536Z"
    }
   },
   "cell_type": "code",
   "source": [
    "# Load in data and filter data\n",
    "forcastDemo = pd.read_csv('../Data/ForcastDemo.csv', delimiter=';')\n",
    "\n",
    "# Determine how we are going to use the data set\n",
    "print(colored(f\"The 'Year' and 'Quarters' column we can use as input and as output the 'Revenu' column. The output will be revenue, therefore it will be a regression not a classification.\", outputColor))"
   ],
   "id": "1c22172c060755b4",
   "outputs": [
    {
     "name": "stdout",
     "output_type": "stream",
     "text": [
      "\u001B[34mThe 'Year' and 'Quarters' column we can use as input and as output the 'Revenu' column. The output will be revenue, therefore it will be a regression not a classification.\u001B[0m\n"
     ]
    }
   ],
   "execution_count": 11
  },
  {
   "metadata": {
    "ExecuteTime": {
     "end_time": "2024-05-31T09:25:40.027510Z",
     "start_time": "2024-05-31T09:25:40.015921Z"
    }
   },
   "cell_type": "code",
   "source": [
    "# Split up the necessary data \n",
    "x_forcast = forcastDemo[['Year', 'Quarter']]                                                                                        # Get the input\n",
    "y_forcast = forcastDemo['Revenu']                                                                                                   # Get the output\n",
    "\n",
    "print(colored(f\"We don't need to normalize.\", outputColor))"
   ],
   "id": "82bf7120d5435d28",
   "outputs": [
    {
     "name": "stdout",
     "output_type": "stream",
     "text": [
      "\u001B[34mWe don't need to normalize.\u001B[0m\n"
     ]
    }
   ],
   "execution_count": 12
  },
  {
   "metadata": {},
   "cell_type": "code",
   "source": [
    "# Create (ANN) artificial neural network\n",
    "inputs_forcast = Input(shape=(2,))\n",
    "x_forcast_model = Dense(64, activation='relu')(inputs_forcast)\n",
    "x_forcast_model = Dense(64, activation='relu')(x_forcast_model)\n",
    "x_forcast_model = Dense(64, activation='relu')(x_forcast_model)\n",
    "outputs_forcast = Dense(1, activation='linear')(x_forcast_model)                                                            # Linear for regression\n",
    "model_forcast = Model(inputs_forcast, outputs_forcast, name='Forcast_NN')                                                   # relu for regression\n",
    "\n",
    "# Compile the model\n",
    "model_forcast.compile(optimizer=Adam(learning_rate=0.001),                                                                  # Adam for regression\n",
    "                      loss=keras.losses.MeanAbsoluteError(),                                                                # MeanAbsoluteError for regression\n",
    "                      metrics=[keras.metrics.MeanAbsolutePercentageError()])                                                # MeanAbsolutePercentageError for regression\n",
    "\n",
    "# Fit the model\n",
    "history_forcast = model_forcast.fit(\n",
    "                                x_forcast,                              # Input\n",
    "                                y_forcast,                              # Output\n",
    "                                epochs=100,                             # Number of epochs (epochs = iterations over all the dataset)\n",
    "                                callbacks=[PlotLossesKeras()],          # Plot the losses\n",
    "                                verbose=False)                          # Fit the model"
   ],
   "id": "d4364c6fac652f55",
   "execution_count": 13,
   "outputs": [
    {
     "name": "stdout",
     "output_type": "stream",
     "text": [
      "Loss\n",
      "\tloss             \t (min:   86.711, max:  159.906, cur:   86.711)\n",
      "mean_absolute_percentage_error\n",
      "\tmean_absolute_percentage_error \t (min:   70.980, max:  125.454, cur:  125.454)\n"
     ]
    }
   ]
  },
  {
   "metadata": {
    "ExecuteTime": {
     "end_time": "2024-05-31T09:27:47.988308Z",
     "start_time": "2024-05-31T09:27:47.802363Z"
    }
   },
   "cell_type": "code",
   "source": "model_forcast.evaluate(x_forcast, y_forcast)",
   "id": "4c4e8b87241fe3e6",
   "outputs": [
    {
     "name": "stdout",
     "output_type": "stream",
     "text": [
      "\u001B[1m1/1\u001B[0m \u001B[32m━━━━━━━━━━━━━━━━━━━━\u001B[0m\u001B[37m\u001B[0m \u001B[1m0s\u001B[0m 107ms/step - loss: 86.3439 - mean_absolute_percentage_error: 127.8961\n"
     ]
    },
    {
     "data": {
      "text/plain": [
       "[86.34386444091797, 127.89605712890625]"
      ]
     },
     "execution_count": 15,
     "metadata": {},
     "output_type": "execute_result"
    }
   ],
   "execution_count": 15
  },
  {
   "metadata": {
    "ExecuteTime": {
     "end_time": "2024-05-31T09:27:50.059626Z",
     "start_time": "2024-05-31T09:27:49.780303Z"
    }
   },
   "cell_type": "code",
   "source": [
    "# Use the model for prediction\n",
    "predicted = model_forcast.predict(x_forcast)                                                                                       # Predict the output\n",
    "original = y_forcast.values                                                                                                        # Get the original output\n",
    "\n",
    "# Also attempt to predict the future. You know, just for fun :)\n",
    "future = pd.DataFrame({'Year': [6, 6, 6, 6, 7, 7, 7, 7], 'Quarter': [1, 2, 3, 4, 1, 2, 3, 4]})                                     # Create a new dataframe (Test Data)\n",
    "predicted_future = model_forcast.predict(future)                                                                                   # Predict the output\n",
    "\n",
    "plt.figure()\n",
    "plt.plot(range(0, len(forcastDemo)), original, 'o-', label='Original')\n",
    "plt.plot(range(0, len(forcastDemo)), predicted[:, 0], 'o-', label='Predicted')\n",
    "plt.plot(range(len(forcastDemo), len(forcastDemo) + len(future)), predicted_future, 'o-', label='Future Prediction')\n",
    "plt.xlabel('Quarter')\n",
    "plt.ylabel('Revenue (EUR)')\n",
    "plt.title('Original vs Predicted Revenue')\n",
    "plt.legend()\n",
    "plt.show()"
   ],
   "id": "9f36bd9b09e2b900",
   "outputs": [
    {
     "name": "stdout",
     "output_type": "stream",
     "text": [
      "\u001B[1m1/1\u001B[0m \u001B[32m━━━━━━━━━━━━━━━━━━━━\u001B[0m\u001B[37m\u001B[0m \u001B[1m0s\u001B[0m 46ms/step\n",
      "\u001B[1m1/1\u001B[0m \u001B[32m━━━━━━━━━━━━━━━━━━━━\u001B[0m\u001B[37m\u001B[0m \u001B[1m0s\u001B[0m 45ms/step\n"
     ]
    },
    {
     "data": {
      "text/plain": [
       "<Figure size 640x480 with 1 Axes>"
      ],
      "image/png": "[encoded data removed]"
     },
     "metadata": {},
     "output_type": "display_data"
    }
   ],
   "execution_count": 16
  },
  {
   "metadata": {},
   "cell_type": "markdown",
   "source": [
    "### Question 3: Iris\n",
    "- Load the iris dataset (`../Data/Iris.csv`) and study its contents.\n",
    "- Determine which columns we cannot use in this prediction? Regression or classification?\n",
    "- Now create an input data set `x_iris` and normalize it. Try one of the normalization techniques that you have not yet used in an exercise or assignment.\n",
    "- Create a training data set and a test data set (`x_iris_learning` and `x_iris_validation`) consisting of `80%` and `20%` (randomly chosen) of the input data set `x_iris` respectively.\n",
    "- Create a neural network with the correct inputs and outputs.\n",
    "- Evaluate your neural network on your test data set (`x_test_iris`). What accuracy do you achieve?\n",
    "\n",
    "**Name of Columns**: `sepal length` `sepal width` `petal length` `petal width` `target`"
   ],
   "id": "85679458cdb42976"
  },
  {
   "metadata": {
    "ExecuteTime": {
     "end_time": "2024-05-31T10:21:18.741459Z",
     "start_time": "2024-05-31T10:21:18.705635Z"
    }
   },
   "cell_type": "code",
   "source": [
    "# Load in data and filter data\n",
    "iris = pd.read_csv('../Data/Iris.csv', delimiter=',', decimal='.')\n",
    "\n",
    "# Determine how we are going to use the data set\n",
    "print(colored(f\"We can use the 1st 4 columns as input 'sepal length', 'sepal width', 'petal length', 'petal width', for our neural network. The last column is our output 'target'. Obviously this is a classifier. Note this is not a binary classifier because there are three different possibilities.\", outputColor))"
   ],
   "id": "19b20b97f96e8fcb",
   "outputs": [
    {
     "name": "stdout",
     "output_type": "stream",
     "text": [
      "\u001B[34mWe can use the 1st 4 columns as input 'sepal length', 'sepal width', 'petal length', 'petal width', for our neural network. The last column is our output 'target'. Obviously this is a classifier. Note this is not a binary classifier because there are three different possibilities.\u001B[0m\n"
     ]
    }
   ],
   "execution_count": 21
  },
  {
   "metadata": {
    "ExecuteTime": {
     "end_time": "2024-05-31T10:21:19.825549Z",
     "start_time": "2024-05-31T10:21:19.781573Z"
    }
   },
   "cell_type": "code",
   "source": [
    "# Split up the necessary data \n",
    "x_iris = iris[['sepal length', 'sepal width', 'petal length', 'petal width']]                                                                       # Get the input\n",
    "y_iris = iris['target']                                                                                                                             # Get the output\n",
    "\n",
    "\n",
    "# Split the data in training data and testing data.\n",
    "x_iris_learning, x_iris_validation, y_iris_learning, y_iris_validation = train_test_split(x_iris, y_iris, test_size=0.2)                            # Split the data\n",
    "print(colored(f\"Splitting the input and output data in learning and validation data respectively 80% and 20%.\\n\", outputColor))\n",
    "\n",
    "# Normalize and convert input and output fields\n",
    "x_iris_learning_normalize = (x_iris_learning - x_iris_learning.min()) / (x_iris_learning.max() - x_iris_learning.min())                             # Normalize the input\n",
    "x_iris_validation_normalize = (x_iris_validation - x_iris_validation.min()) / (x_iris_validation.max() - x_iris_validation.min())                   # Normalize the input \n",
    "\n",
    "                                            \n",
    "y_iris_learning_replace = y_iris_learning.replace(to_replace=['Iris-setosa', 'Iris-versicolor', 'Iris-virginica'], value=[0, 1, 2]).values          # Replace the output\n",
    "y_iris_learning_replace = to_categorical(y_iris_learning_replace)                                                                                   # One-hot encoding\n",
    "\n",
    "print(colored(f\"We need to normalize the inputs and outputs. Obviously the outputs because this is a classifier.\", outputColor))"
   ],
   "id": "294870fa137e7cf1",
   "outputs": [
    {
     "name": "stdout",
     "output_type": "stream",
     "text": [
      "\u001B[34mSplitting the input and output data in learning and validation data respectively 80% and 20%.\n",
      "\u001B[0m\n",
      "\u001B[34mWe need to normalize the inputs and outputs. Obviously the outputs because this is a classifier.\u001B[0m\n"
     ]
    }
   ],
   "execution_count": 22
  },
  {
   "metadata": {},
   "cell_type": "code",
   "source": [
    "# Create (ANN) artificial neural network\n",
    "inputs_iris = Input(shape=(4,))\n",
    "x_iris_model = Dense(8, activation='sigmoid')(inputs_iris)\n",
    "x_iris_model = Dense(16, activation='sigmoid')(x_iris_model)\n",
    "x_iris_model = Dense(32, activation='sigmoid')(x_iris_model)\n",
    "x_iris_model = Dense(16, activation='sigmoid')(x_iris_model)\n",
    "x_iris_model = Dense(8, activation='sigmoid')(x_iris_model)\n",
    "outputs_iris = Dense(3, activation='softmax')(x_iris_model)\n",
    "model_iris = Model(inputs_iris, outputs_iris, name='Iris_NN')                                                               # Softmax for one-hot encoding (classification)\n",
    "\n",
    "# Compile the model\n",
    "model_iris.compile(optimizer=Adam(learning_rate=0.001), loss=keras.losses.categorical_crossentropy, metrics=['accuracy'])   # Categorical_crossentropy for one-hot encoding\n",
    "\n",
    "# Fit the model\n",
    "history_iris = model_iris.fit(\n",
    "                            x_iris_learning_normalize,              # Input\n",
    "                            y_iris_learning_replace,                # Output\n",
    "                            epochs=1000,                            # Number of epochs (epochs = iterations over all the dataset)\n",
    "                            callbacks=[PlotLossesKeras()],          # Plot the losses\n",
    "                            verbose=False)                          # Fit the model"
   ],
   "id": "d1d2457912bcfb48",
   "execution_count": 23,
   "outputs": [
    {
     "name": "stdout",
     "output_type": "stream",
     "text": [
      "accuracy\n",
      "\taccuracy         \t (min:    0.258, max:    0.975, cur:    0.967)\n",
      "Loss\n",
      "\tloss             \t (min:    0.065, max:    1.289, cur:    0.065)\n"
     ]
    }
   ]
  },
  {
   "metadata": {
    "ExecuteTime": {
     "end_time": "2024-05-31T10:31:49.157926Z",
     "start_time": "2024-05-31T10:31:49.127227Z"
    }
   },
   "cell_type": "code",
   "source": [
    "# Get a summary of the model\n",
    "model_iris.summary()"
   ],
   "id": "55335c0530e00ba9",
   "outputs": [
    {
     "data": {
      "text/plain": [
       "\u001B[1mModel: \"Iris_NN\"\u001B[0m\n"
      ],
      "text/html": [
       "<pre style=\"white-space:pre;overflow-x:auto;line-height:normal;font-family:Menlo,'DejaVu Sans Mono',consolas,'Courier New',monospace\"><span style=\"font-weight: bold\">Model: \"Iris_NN\"</span>\n",
       "</pre>\n"
      ]
     },
     "metadata": {},
     "output_type": "display_data"
    },
    {
     "data": {
      "text/plain": [
       "┏━━━━━━━━━━━━━━━━━━━━━━━━━━━━━━━━━┳━━━━━━━━━━━━━━━━━━━━━━━━┳━━━━━━━━━━━━━━━┓\n",
       "┃\u001B[1m \u001B[0m\u001B[1mLayer (type)                   \u001B[0m\u001B[1m \u001B[0m┃\u001B[1m \u001B[0m\u001B[1mOutput Shape          \u001B[0m\u001B[1m \u001B[0m┃\u001B[1m \u001B[0m\u001B[1m      Param #\u001B[0m\u001B[1m \u001B[0m┃\n",
       "┡━━━━━━━━━━━━━━━━━━━━━━━━━━━━━━━━━╇━━━━━━━━━━━━━━━━━━━━━━━━╇━━━━━━━━━━━━━━━┩\n",
       "│ input_layer_3 (\u001B[38;5;33mInputLayer\u001B[0m)      │ (\u001B[38;5;45mNone\u001B[0m, \u001B[38;5;34m4\u001B[0m)              │             \u001B[38;5;34m0\u001B[0m │\n",
       "├─────────────────────────────────┼────────────────────────┼───────────────┤\n",
       "│ dense_14 (\u001B[38;5;33mDense\u001B[0m)                │ (\u001B[38;5;45mNone\u001B[0m, \u001B[38;5;34m8\u001B[0m)              │            \u001B[38;5;34m40\u001B[0m │\n",
       "├─────────────────────────────────┼────────────────────────┼───────────────┤\n",
       "│ dense_15 (\u001B[38;5;33mDense\u001B[0m)                │ (\u001B[38;5;45mNone\u001B[0m, \u001B[38;5;34m16\u001B[0m)             │           \u001B[38;5;34m144\u001B[0m │\n",
       "├─────────────────────────────────┼────────────────────────┼───────────────┤\n",
       "│ dense_16 (\u001B[38;5;33mDense\u001B[0m)                │ (\u001B[38;5;45mNone\u001B[0m, \u001B[38;5;34m32\u001B[0m)             │           \u001B[38;5;34m544\u001B[0m │\n",
       "├─────────────────────────────────┼────────────────────────┼───────────────┤\n",
       "│ dense_17 (\u001B[38;5;33mDense\u001B[0m)                │ (\u001B[38;5;45mNone\u001B[0m, \u001B[38;5;34m16\u001B[0m)             │           \u001B[38;5;34m528\u001B[0m │\n",
       "├─────────────────────────────────┼────────────────────────┼───────────────┤\n",
       "│ dense_18 (\u001B[38;5;33mDense\u001B[0m)                │ (\u001B[38;5;45mNone\u001B[0m, \u001B[38;5;34m8\u001B[0m)              │           \u001B[38;5;34m136\u001B[0m │\n",
       "├─────────────────────────────────┼────────────────────────┼───────────────┤\n",
       "│ dense_19 (\u001B[38;5;33mDense\u001B[0m)                │ (\u001B[38;5;45mNone\u001B[0m, \u001B[38;5;34m3\u001B[0m)              │            \u001B[38;5;34m27\u001B[0m │\n",
       "└─────────────────────────────────┴────────────────────────┴───────────────┘\n"
      ],
      "text/html": [
       "<pre style=\"white-space:pre;overflow-x:auto;line-height:normal;font-family:Menlo,'DejaVu Sans Mono',consolas,'Courier New',monospace\">┏━━━━━━━━━━━━━━━━━━━━━━━━━━━━━━━━━┳━━━━━━━━━━━━━━━━━━━━━━━━┳━━━━━━━━━━━━━━━┓\n",
       "┃<span style=\"font-weight: bold\"> Layer (type)                    </span>┃<span style=\"font-weight: bold\"> Output Shape           </span>┃<span style=\"font-weight: bold\">       Param # </span>┃\n",
       "┡━━━━━━━━━━━━━━━━━━━━━━━━━━━━━━━━━╇━━━━━━━━━━━━━━━━━━━━━━━━╇━━━━━━━━━━━━━━━┩\n",
       "│ input_layer_3 (<span style=\"color: #0087ff; text-decoration-color: #0087ff\">InputLayer</span>)      │ (<span style=\"color: #00d7ff; text-decoration-color: #00d7ff\">None</span>, <span style=\"color: #00af00; text-decoration-color: #00af00\">4</span>)              │             <span style=\"color: #00af00; text-decoration-color: #00af00\">0</span> │\n",
       "├─────────────────────────────────┼────────────────────────┼───────────────┤\n",
       "│ dense_14 (<span style=\"color: #0087ff; text-decoration-color: #0087ff\">Dense</span>)                │ (<span style=\"color: #00d7ff; text-decoration-color: #00d7ff\">None</span>, <span style=\"color: #00af00; text-decoration-color: #00af00\">8</span>)              │            <span style=\"color: #00af00; text-decoration-color: #00af00\">40</span> │\n",
       "├─────────────────────────────────┼────────────────────────┼───────────────┤\n",
       "│ dense_15 (<span style=\"color: #0087ff; text-decoration-color: #0087ff\">Dense</span>)                │ (<span style=\"color: #00d7ff; text-decoration-color: #00d7ff\">None</span>, <span style=\"color: #00af00; text-decoration-color: #00af00\">16</span>)             │           <span style=\"color: #00af00; text-decoration-color: #00af00\">144</span> │\n",
       "├─────────────────────────────────┼────────────────────────┼───────────────┤\n",
       "│ dense_16 (<span style=\"color: #0087ff; text-decoration-color: #0087ff\">Dense</span>)                │ (<span style=\"color: #00d7ff; text-decoration-color: #00d7ff\">None</span>, <span style=\"color: #00af00; text-decoration-color: #00af00\">32</span>)             │           <span style=\"color: #00af00; text-decoration-color: #00af00\">544</span> │\n",
       "├─────────────────────────────────┼────────────────────────┼───────────────┤\n",
       "│ dense_17 (<span style=\"color: #0087ff; text-decoration-color: #0087ff\">Dense</span>)                │ (<span style=\"color: #00d7ff; text-decoration-color: #00d7ff\">None</span>, <span style=\"color: #00af00; text-decoration-color: #00af00\">16</span>)             │           <span style=\"color: #00af00; text-decoration-color: #00af00\">528</span> │\n",
       "├─────────────────────────────────┼────────────────────────┼───────────────┤\n",
       "│ dense_18 (<span style=\"color: #0087ff; text-decoration-color: #0087ff\">Dense</span>)                │ (<span style=\"color: #00d7ff; text-decoration-color: #00d7ff\">None</span>, <span style=\"color: #00af00; text-decoration-color: #00af00\">8</span>)              │           <span style=\"color: #00af00; text-decoration-color: #00af00\">136</span> │\n",
       "├─────────────────────────────────┼────────────────────────┼───────────────┤\n",
       "│ dense_19 (<span style=\"color: #0087ff; text-decoration-color: #0087ff\">Dense</span>)                │ (<span style=\"color: #00d7ff; text-decoration-color: #00d7ff\">None</span>, <span style=\"color: #00af00; text-decoration-color: #00af00\">3</span>)              │            <span style=\"color: #00af00; text-decoration-color: #00af00\">27</span> │\n",
       "└─────────────────────────────────┴────────────────────────┴───────────────┘\n",
       "</pre>\n"
      ]
     },
     "metadata": {},
     "output_type": "display_data"
    },
    {
     "data": {
      "text/plain": [
       "\u001B[1m Total params: \u001B[0m\u001B[38;5;34m4,259\u001B[0m (16.64 KB)\n"
      ],
      "text/html": [
       "<pre style=\"white-space:pre;overflow-x:auto;line-height:normal;font-family:Menlo,'DejaVu Sans Mono',consolas,'Courier New',monospace\"><span style=\"font-weight: bold\"> Total params: </span><span style=\"color: #00af00; text-decoration-color: #00af00\">4,259</span> (16.64 KB)\n",
       "</pre>\n"
      ]
     },
     "metadata": {},
     "output_type": "display_data"
    },
    {
     "data": {
      "text/plain": [
       "\u001B[1m Trainable params: \u001B[0m\u001B[38;5;34m1,419\u001B[0m (5.54 KB)\n"
      ],
      "text/html": [
       "<pre style=\"white-space:pre;overflow-x:auto;line-height:normal;font-family:Menlo,'DejaVu Sans Mono',consolas,'Courier New',monospace\"><span style=\"font-weight: bold\"> Trainable params: </span><span style=\"color: #00af00; text-decoration-color: #00af00\">1,419</span> (5.54 KB)\n",
       "</pre>\n"
      ]
     },
     "metadata": {},
     "output_type": "display_data"
    },
    {
     "data": {
      "text/plain": [
       "\u001B[1m Non-trainable params: \u001B[0m\u001B[38;5;34m0\u001B[0m (0.00 B)\n"
      ],
      "text/html": [
       "<pre style=\"white-space:pre;overflow-x:auto;line-height:normal;font-family:Menlo,'DejaVu Sans Mono',consolas,'Courier New',monospace\"><span style=\"font-weight: bold\"> Non-trainable params: </span><span style=\"color: #00af00; text-decoration-color: #00af00\">0</span> (0.00 B)\n",
       "</pre>\n"
      ]
     },
     "metadata": {},
     "output_type": "display_data"
    },
    {
     "data": {
      "text/plain": [
       "\u001B[1m Optimizer params: \u001B[0m\u001B[38;5;34m2,840\u001B[0m (11.10 KB)\n"
      ],
      "text/html": [
       "<pre style=\"white-space:pre;overflow-x:auto;line-height:normal;font-family:Menlo,'DejaVu Sans Mono',consolas,'Courier New',monospace\"><span style=\"font-weight: bold\"> Optimizer params: </span><span style=\"color: #00af00; text-decoration-color: #00af00\">2,840</span> (11.10 KB)\n",
       "</pre>\n"
      ]
     },
     "metadata": {},
     "output_type": "display_data"
    }
   ],
   "execution_count": 24
  },
  {
   "metadata": {
    "ExecuteTime": {
     "end_time": "2024-05-31T10:31:53.370221Z",
     "start_time": "2024-05-31T10:31:53.291864Z"
    }
   },
   "cell_type": "code",
   "source": [
    "# Use the model for prediction\n",
    "predicted = model_iris.predict(x_iris_validation_normalize)                                                                         # Predict the output\n",
    "predicted = np.argmax(predicted, axis=1)                                                                                            # Get the highest value\n",
    "predicted = np.where(predicted == 0, 'Iris-setosa', np.where(predicted == 1, 'Iris-versicolor', 'Iris-virginica'))                  # Replace the output\n",
    "original = y_iris_validation.values\n",
    "\n",
    "# Evaluate the model\n",
    "correct = np.mean(predicted == original)                                                                                            # Get the mean of the correct predictions\n",
    "print(colored(f\"\\nThe percentage of Iris that are correctly classified is: {round(correct, 2) * 100}%\", outputColor))"
   ],
   "id": "f94e5289aa0d6a56",
   "outputs": [
    {
     "name": "stdout",
     "output_type": "stream",
     "text": [
      "\u001B[1m1/1\u001B[0m \u001B[32m━━━━━━━━━━━━━━━━━━━━\u001B[0m\u001B[37m\u001B[0m \u001B[1m0s\u001B[0m 18ms/step\n",
      "\u001B[34m\n",
      "The percentage of Iris that are correctly classified is: 97.0%\u001B[0m\n"
     ]
    }
   ],
   "execution_count": 26
  },
  {
   "metadata": {
    "ExecuteTime": {
     "end_time": "2024-05-31T10:32:10.367229Z",
     "start_time": "2024-05-31T10:32:10.310143Z"
    }
   },
   "cell_type": "code",
   "source": [
    "# Let's try to predict a new flower\n",
    "newFlower = pd.DataFrame({'sepal length': [5.9], 'sepal width': [3.0], 'petal length': [5.1], 'petal width': [1.8]})                # New flower\n",
    "newFlower_normalize = (newFlower - x_iris.min()) / (x_iris.max() - x_iris.min())                                                    # Normalize the new flower\n",
    "prediction = model_iris.predict(newFlower_normalize)                                                                                # Predict the output\n",
    "prediction = np.argmax(prediction, axis=1)                                                                                          # Get the highest value\n",
    "prediction = np.where(prediction == 0, 'Iris-setosa', np.where(prediction == 1, 'Iris-versicolor', 'Iris-virginica'))               # Replace the output\n",
    "print(colored(f\"The prediction for the new flower is: {prediction}\", outputColor))"
   ],
   "id": "8adb57861d0aa22b",
   "outputs": [
    {
     "name": "stdout",
     "output_type": "stream",
     "text": [
      "\u001B[1m1/1\u001B[0m \u001B[32m━━━━━━━━━━━━━━━━━━━━\u001B[0m\u001B[37m\u001B[0m \u001B[1m0s\u001B[0m 16ms/step\n",
      "\u001B[34mThe prediction for the new flower is: ['Iris-virginica']\u001B[0m\n"
     ]
    }
   ],
   "execution_count": 28
  }
 ],
 "metadata": {
  "kernelspec": {
   "display_name": "Python 3",
   "language": "python",
   "name": "python3"
  },
  "language_info": {
   "codemirror_mode": {
    "name": "ipython",
    "version": 2
   },
   "file_extension": ".py",
   "mimetype": "text/x-python",
   "name": "python",
   "nbconvert_exporter": "python",
   "pygments_lexer": "ipython2",
   "version": "2.7.6"
  }
 },
 "nbformat": 4,
 "nbformat_minor": 5
}

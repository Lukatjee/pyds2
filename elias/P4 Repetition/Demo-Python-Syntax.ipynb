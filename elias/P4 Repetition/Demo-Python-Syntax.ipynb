{
 "cells": [
  {
   "cell_type": "markdown",
   "source": [
    "# Demo Python Syntax"
   ],
   "metadata": {
    "collapsed": false
   },
   "id": "a931f6adc373d3a"
  },
  {
   "cell_type": "markdown",
   "source": [
    "## 1. Declaration of variables"
   ],
   "metadata": {
    "collapsed": false
   },
   "id": "9b82ce627286c58c"
  },
  {
   "cell_type": "code",
   "source": [
    "var1 = 10                               # Integer\n",
    "var2 = 10.5                             # Float\n",
    "var3 = \"Hello World\"                    # String\n",
    "var4 = True                             # Boolean\n",
    "var5 = [1, 2, 3, 4, 5]                  # List\n",
    "var6 = (1, 2, 3, 4, 5)                  # Tuple\n",
    "var7 = {1, 2, 3, 4, 5}                  # Set\n",
    "var8 = {\"name\": \"John\", \"age\": 30}      # Dictionary"
   ],
   "metadata": {
    "collapsed": false,
    "ExecuteTime": {
     "end_time": "2024-06-08T12:20:30.660646Z",
     "start_time": "2024-06-08T12:20:30.639825Z"
    }
   },
   "id": "9eed1cb8bb74710b",
   "outputs": [],
   "execution_count": 1
  },
  {
   "cell_type": "markdown",
   "source": [
    "## 2. Logical Operators"
   ],
   "metadata": {
    "collapsed": false
   },
   "id": "dd52a1e21d60096c"
  },
  {
   "cell_type": "code",
   "outputs": [],
   "source": [
    "a = 10\n",
    "b = 20\n",
    "print(a == b)                           # Equal                     (False)\n",
    "print(a != b)                           # Not Equal                 (True)\n",
    "print(a > b)                            # Greater than              (False)\n",
    "print(a < b)                            # Less than                 (True)\n",
    "print(a >= b)                           # Greater than or equal to  (False)\n",
    "print(a <= b)                           # Less than or equal to     (True)"
   ],
   "metadata": {
    "collapsed": false
   },
   "id": "5a9139f5ce82bd3c",
   "execution_count": null
  },
  {
   "cell_type": "markdown",
   "source": [
    "## 3. Arithmetic Operators"
   ],
   "metadata": {
    "collapsed": false
   },
   "id": "827ffe1dcd8634ea"
  },
  {
   "cell_type": "code",
   "outputs": [],
   "source": [
    "a = 10\n",
    "b = 20\n",
    "print(a + b)                            # Addition                  (30)\n",
    "print(a - b)                            # Subtraction               (-10)\n",
    "print(a * b)                            # Multiplication            (200)\n",
    "print(a / b)                            # Division                  (0.5)\n",
    "print(a % b)                            # Modulus                   (10)\n",
    "print(a ** b)                           # Exponent                  (10^20)\n",
    "print(a // b)                           # Floor Division            (0)"
   ],
   "metadata": {
    "collapsed": false
   },
   "id": "5e8d3933543d5d50",
   "execution_count": null
  },
  {
   "cell_type": "markdown",
   "source": [
    "## 4. Assignment Operators"
   ],
   "metadata": {
    "collapsed": false
   },
   "id": "73577665065c3bfa"
  },
  {
   "cell_type": "code",
   "outputs": [],
   "source": [
    "a = 10\n",
    "b = 20\n",
    "a += b                                  # a = a + b\n",
    "print(a)                                # 30\n",
    "a -= b                                  # a = a - b\n",
    "print(a)                                # 10\n",
    "a *= b                                  # a = a * b\n",
    "print(a)                                # 200\n",
    "a /= b                                  # a = a / b\n",
    "print(a)                                # 10.0\n",
    "a %= b                                  # a = a % b\n",
    "print(a)                                # 10\n",
    "a **= b                                 # a = a ** b\n",
    "print(a)                                # 100000000000000000000\n",
    "a //= b                                 # a = a // b\n",
    "print(a)                                # 5000000000000000000"
   ],
   "metadata": {
    "collapsed": false
   },
   "id": "82181fd48ef2855c",
   "execution_count": null
  },
  {
   "cell_type": "markdown",
   "source": [
    "## 5. Membership Operators"
   ],
   "metadata": {
    "collapsed": false
   },
   "id": "3c735d60d6fc251f"
  },
  {
   "cell_type": "code",
   "outputs": [],
   "source": [
    "a = [1, 2, 3, 4, 5]\n",
    "print(1 in a)                           # Is 1 in the list?         (True)\n",
    "print(6 in a)                           # Is 6 in the list?         (False)\n",
    "print(1 not in a)                       # Is 1 not in the list?     (False)\n",
    "print(6 not in a)                       # Is 6 not in the list?     (True)"
   ],
   "metadata": {
    "collapsed": false
   },
   "id": "e5b747760f1c128f",
   "execution_count": null
  },
  {
   "cell_type": "markdown",
   "source": [
    "## 6. Identity Operators"
   ],
   "metadata": {
    "collapsed": false
   },
   "id": "c365cdc78796654a"
  },
  {
   "cell_type": "code",
   "outputs": [],
   "source": [
    "a = 10\n",
    "b = 10\n",
    "print(a is b)                           # Is a equal to b?          (True)\n",
    "print(a is not b)                       # Is a not equal to b?      (False)"
   ],
   "metadata": {
    "collapsed": false
   },
   "id": "45f72a63e6d9d61a",
   "execution_count": null
  },
  {
   "cell_type": "markdown",
   "source": [
    "## 7. Boolean Algebra (General Terminology) - IF"
   ],
   "metadata": {
    "collapsed": false
   },
   "id": "7ced3561cbb6feaf"
  },
  {
   "cell_type": "code",
   "outputs": [],
   "source": [
    "# If Statement and If-Else Statement\n",
    "a = True\n",
    "\n",
    "if a: # a == True\n",
    "    print(\"a is True\")\n",
    "else:\n",
    "    print(\"a is False\")\n",
    "\n",
    "# If-Elif-Else Statement\n",
    "a = 10\n",
    "\n",
    "if a == 10:\n",
    "    print(\"a is 10\")\n",
    "elif a == 20:\n",
    "    print(\"a is 20\")\n",
    "else:\n",
    "    print(\"a is not 10 or 20\")\n",
    "\n",
    "# Nested If Statement\n",
    "a = 10\n",
    "b = 20\n",
    "\n",
    "if a == 10:\n",
    "    if b == 20:\n",
    "        print(\"a is 10 and b is 20\")\n",
    "    else:\n",
    "        print(\"a is 10 but b is not 20\")\n",
    "else:\n",
    "    print(\"a is not 10\")\n",
    "\n",
    "# Short Hand If\n",
    "a = 10\n",
    "b = 20\n",
    "\n",
    "if a == 10: print(\"a is 10\")\n",
    "\n",
    "# Short Hand If-Else\n",
    "a = 10\n",
    "\n",
    "if a == 10: print(\"a is 10\")\n",
    "else: print(\"a is not 10\")"
   ],
   "metadata": {
    "collapsed": false
   },
   "id": "d7d858f2bd327c5e",
   "execution_count": null
  },
  {
   "cell_type": "markdown",
   "source": [
    "## 8. Boolean Algebra (General Terminology) - Loops"
   ],
   "metadata": {
    "collapsed": false
   },
   "id": "c3140b69b79f3c50"
  },
  {
   "cell_type": "code",
   "outputs": [],
   "source": [
    "# For Loop\n",
    "for i in range(10):\n",
    "    print(i)\n",
    "\n",
    "# For Loop with Step\n",
    "for i in range(0, 10, 2):\n",
    "    print(i)\n",
    "    \n",
    "# For Each Loop\n",
    "a = [1, 2, 3, 4, 5]\n",
    "for i in a:\n",
    "    print(i)\n",
    "\n",
    "# While Loop\n",
    "i = 0\n",
    "while i < 10:\n",
    "    print(i)\n",
    "    i += 1\n",
    "\n",
    "# Break Statement\n",
    "for i in range(10):\n",
    "    if i == 5:\n",
    "        break\n",
    "    print(i)\n",
    "\n",
    "# Continue Statement\n",
    "for i in range(10):\n",
    "    if i == 5:\n",
    "        continue # Skip 5\n",
    "    print(i)"
   ],
   "metadata": {
    "collapsed": false
   },
   "id": "1de3208413d46c87",
   "execution_count": null
  },
  {
   "cell_type": "markdown",
   "source": [
    "## 9. Functions"
   ],
   "metadata": {
    "collapsed": false
   },
   "id": "4d3d187978482aec"
  },
  {
   "cell_type": "code",
   "outputs": [],
   "source": [
    "def my_function():\n",
    "    print(\"Hello World\")\n",
    "\n",
    "my_function()\n",
    "\n",
    "def my_function_with_args(name, age):\n",
    "    print(\"Hello my name is \" + name + \" and I am \" + str(age) + \" years old\")\n",
    "\n",
    "my_function_with_args(\"John\", 30)"
   ],
   "metadata": {
    "collapsed": false
   },
   "id": "131f8a9fa60ccefb",
   "execution_count": null
  }
 ],
 "metadata": {
  "kernelspec": {
   "display_name": "Python 3",
   "language": "python",
   "name": "python3"
  },
  "language_info": {
   "codemirror_mode": {
    "name": "ipython",
    "version": 2
   },
   "file_extension": ".py",
   "mimetype": "text/x-python",
   "name": "python",
   "nbconvert_exporter": "python",
   "pygments_lexer": "ipython2",
   "version": "2.7.6"
  }
 },
 "nbformat": 4,
 "nbformat_minor": 5
}
